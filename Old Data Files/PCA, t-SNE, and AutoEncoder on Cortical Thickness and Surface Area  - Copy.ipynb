{
 "cells": [
  {
   "cell_type": "code",
   "execution_count": null,
   "metadata": {},
   "outputs": [],
   "source": [
    "%matplotlib inline\n",
    "import numpy as np\n",
    "import matplotlib.pyplot as plt\n",
    "import seaborn as sns; sns.set()\n",
    "import pandas as pd"
   ]
  },
  {
   "cell_type": "code",
   "execution_count": null,
   "metadata": {},
   "outputs": [],
   "source": [
    "master = pd.ExcelFile(\"CONTE_TWIN_CT_SA_tlaplace_Master.xlsx\") # maybe excel -> matlab -> python"
   ]
  },
  {
   "cell_type": "code",
   "execution_count": null,
   "metadata": {},
   "outputs": [],
   "source": [
    "master.sheet_names"
   ]
  },
  {
   "cell_type": "code",
   "execution_count": null,
   "metadata": {},
   "outputs": [],
   "source": [
    "ct1_2y = master.parse('1_2_CONTE_CT_tlaplace_dROI')\n",
    "#ct1_2_twin = master.parse('1_2_TWIN_CT_tlaplace_dROI')\n",
    "ct4_6y = master.parse('4_6_CONTE_CT_tlaplace_dROI')\n",
    "#ct4_6_twin = master.parse('4_6_TWIN_CT_tlaplace_dROI')"
   ]
  },
  {
   "cell_type": "code",
   "execution_count": null,
   "metadata": {},
   "outputs": [],
   "source": [
    "ct1_2y.rename(columns={'ROI':'SubjectId'},inplace=True)\n",
    "ct4_6y.rename(columns={'ROI':'SubjectId'},inplace=True)\n",
    "\n",
    "# There is probably a better way to add the age column to each record based off the recordId\n",
    "ct1y = ct1_2y.loc[ct1_2y['SubjectId'].str.contains(\"1year\"),:]\n",
    "ones = pd.DataFrame(data=[1] * ct1y.shape[0], columns=[\"Age\"])\n",
    "ct1y = pd.concat([ct1y, ones] ,axis=1).dropna()\n",
    "     \n",
    "ct2y = ct1_2y.loc[ct1_2y['SubjectId'].str.contains(\"2year\"),:]\n",
    "twos = pd.DataFrame(data=[2] * ct2y.shape[0], columns=[\"Age\"])\n",
    "ct2y = pd.concat([ct2y, twos] ,axis=1).dropna()\n",
    "\n",
    "ct4y = ct4_6y.loc[ct4_6y['SubjectId'].str.contains(\"4year\"),:]\n",
    "fours = pd.DataFrame(data=[4] * ct4y.shape[0], columns=[\"Age\"])\n",
    "ct4y = pd.concat([ct4y, fours] ,axis=1).dropna()\n",
    "\n",
    "ct6y = ct4_6y.loc[ct4_6y['SubjectId'].str.contains(\"6year\"),:]\n",
    "sixes = pd.DataFrame(data=[6] * ct6y.shape[0], columns=[\"Age\"])\n",
    "ct6y = pd.concat([ct6y, sixes] ,axis=1).dropna()\n",
    "\n",
    "# Combine dataframe\n",
    "ctdf = pd.concat([ct1y, ct2y, ct4y, ct6y], axis=0)\n",
    "ctdf.head()"
   ]
  },
  {
   "cell_type": "code",
   "execution_count": null,
   "metadata": {},
   "outputs": [],
   "source": [
    "from sklearn.preprocessing import StandardScaler\n",
    "from sklearn.decomposition import PCA"
   ]
  },
  {
   "cell_type": "code",
   "execution_count": null,
   "metadata": {},
   "outputs": [],
   "source": [
    "# standardize values for PCA\n",
    "x = ctdf.loc[:, ~ctdf.columns.isin(['SubjectId', 'Age'])]\n",
    "x = StandardScaler().fit_transform(x)\n",
    "x.shape\n",
    "\n",
    "features = ctdf.drop(['SubjectId', 'Age'], axis=1)"
   ]
  },
  {
   "cell_type": "code",
   "execution_count": null,
   "metadata": {},
   "outputs": [],
   "source": [
    "pca = PCA(n_components=150)\n",
    "pca.fit(x)\n",
    "\n",
    "pca"
   ]
  },
  {
   "cell_type": "code",
   "execution_count": null,
   "metadata": {},
   "outputs": [],
   "source": [
    "pcs = []\n",
    "for i in range(1,151):\n",
    "    pcs.append('PC' + str(i))\n",
    "principalComponentDf = pd.DataFrame(data = np.transpose(pca.components_), columns = pcs)\n",
    "columnNames = pd.DataFrame(data = ctdf.columns.values.tolist()[1:], columns = ['ROI'])\n",
    "principalComponentDf = pd.concat([columnNames, principalComponentDf], axis=1)\n",
    "# why does the dataframe have 151 rows?\n",
    "principalComponentDf.head()"
   ]
  },
  {
   "cell_type": "code",
   "execution_count": null,
   "metadata": {},
   "outputs": [],
   "source": [
    "cumVar = np.cumsum(pca.explained_variance_ratio_)\n",
    "plt.plot(cumVar)\n",
    "plt.ylabel(\"Cumulative Variance Explained\")\n",
    "plt.xlabel(\"Principal Component\")"
   ]
  },
  {
   "cell_type": "code",
   "execution_count": null,
   "metadata": {},
   "outputs": [],
   "source": [
    "# Keep only the principal components that cumulatively explain at 90% of the variance\n",
    "imptPCs = pcs[:len(cumVar[cumVar <= .9])]\n",
    "principalComponentDf = principalComponentDf.loc[:, imptPCs]\n",
    "#principalComponentDf.head()"
   ]
  },
  {
   "cell_type": "code",
   "execution_count": null,
   "metadata": {},
   "outputs": [],
   "source": [
    "# For visualization keep 2 principal components\n",
    "print(pca.explained_variance_ratio_[0:2]) #variance explained by first two PCs\n",
    "\n",
    "#x = ctdf.loc[:, ~ctdf.columns.isin(['SubjectId', 'Age'])]\n",
    "firstTwoPCs = pd.DataFrame(data = pca.components_[:,:2], columns = ['PC1', 'PC2'])\n",
    "pcScores = pd.DataFrame(data = np.dot(x, firstTwoPCs), columns = ['PC1', 'PC2'])\n",
    "ages = ctdf.loc[:,['Age']].reset_index()\n",
    "pcScores = pd.concat([pcScores,ages['Age']], axis = 1)\n",
    "pcScores.head()\n"
   ]
  },
  {
   "cell_type": "code",
   "execution_count": null,
   "metadata": {},
   "outputs": [],
   "source": [
    "from ggplot import * \n",
    "#from ggplot import scale_fill_brewer\n",
    "\n",
    "chart = ggplot( pcScores, aes(x='PC1', y='PC2', color='Age') ) \\\n",
    "        + geom_point(size=75,alpha=0.8) \\\n",
    "        + ggtitle(\"First and Second Principal Components colored by digit\")\n",
    "chart"
   ]
  },
  {
   "cell_type": "code",
   "execution_count": null,
   "metadata": {},
   "outputs": [],
   "source": [
    "import time\n",
    "\n",
    "from sklearn.manifold import TSNE\n",
    "\n",
    "time_start = time.time()\n",
    "tsne = TSNE(n_components=2, verbose=1, perplexity=40, n_iter=300)\n",
    "tsne_results = tsne.fit_transform(features.values)\n",
    "\n",
    "print('t-SNE done! Time elapsed: {} seconds'.format(time.time()-time_start))"
   ]
  },
  {
   "cell_type": "code",
   "execution_count": null,
   "metadata": {},
   "outputs": [],
   "source": [
    "df_tsne = ctdf.copy()\n",
    "df_tsne['x-tsne'] = tsne_results[:,0]\n",
    "df_tsne['y-tsne'] = tsne_results[:,1]\n",
    "\n",
    "chart = ggplot( df_tsne, aes(x='x-tsne', y='y-tsne', color='Age') ) \\\n",
    "        + geom_point(size=70,alpha=1.0,) \\\n",
    "        + ggtitle(\"tSNE dimensions colored by digit\")\n",
    "chart"
   ]
  },
  {
   "cell_type": "code",
   "execution_count": null,
   "metadata": {},
   "outputs": [],
   "source": [
    "import umap\n",
    "\n",
    "from time import time\n",
    "\n",
    "import matplotlib.pyplot as plt\n",
    "from mpl_toolkits.mplot3d import Axes3D\n",
    "from matplotlib.ticker import NullFormatter\n",
    "from sklearn import manifold, datasets\n",
    "from sklearn.datasets import load_digits\n",
    "from sklearn.decomposition import PCA\n",
    "from sklearn.utils import check_random_state\n",
    "\n",
    "import numpy as np\n",
    "import  numpy  as  npnp\n",
    "import seaborn as sns\n",
    "\n",
    "%matplotlib inline\n",
    "sns.set(style='white', rc={'figure.figsize':(12,8)})"
   ]
  },
  {
   "cell_type": "code",
   "execution_count": null,
   "metadata": {},
   "outputs": [],
   "source": []
  },
  {
   "cell_type": "code",
   "execution_count": null,
   "metadata": {},
   "outputs": [],
   "source": []
  }
 ],
 "metadata": {
  "kernelspec": {
   "display_name": "Python 3",
   "language": "python",
   "name": "python3"
  },
  "language_info": {
   "codemirror_mode": {
    "name": "ipython",
    "version": 3
   },
   "file_extension": ".py",
   "mimetype": "text/x-python",
   "name": "python",
   "nbconvert_exporter": "python",
   "pygments_lexer": "ipython3",
   "version": "3.6.7"
  }
 },
 "nbformat": 4,
 "nbformat_minor": 2
}
