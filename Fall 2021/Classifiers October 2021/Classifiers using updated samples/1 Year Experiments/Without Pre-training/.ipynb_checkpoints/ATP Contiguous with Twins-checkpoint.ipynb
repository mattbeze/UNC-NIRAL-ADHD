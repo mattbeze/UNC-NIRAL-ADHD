{
 "cells": [
  {
   "cell_type": "code",
   "execution_count": 1,
   "id": "simple-navigation",
   "metadata": {},
   "outputs": [
    {
     "data": {
      "text/plain": [
       "<torch._C.Generator at 0x2dd04014a10>"
      ]
     },
     "execution_count": 1,
     "metadata": {},
     "output_type": "execute_result"
    }
   ],
   "source": [
    "import seaborn as sn\n",
    "from imblearn.over_sampling import SMOTE \n",
    "from imblearn.combine import SMOTETomek\n",
    "import matplotlib.pyplot as plt\n",
    "import pandas as pd\n",
    "import sklearn\n",
    "from sklearn.utils import class_weight\n",
    "from sklearn.metrics import accuracy_score, recall_score, confusion_matrix, precision_score, precision_recall_curve, average_precision_score, classification_report\n",
    "from sklearn.model_selection import KFold, StratifiedKFold, train_test_split\n",
    "from sklearn.preprocessing import MinMaxScaler, LabelEncoder\n",
    "from torch.utils.data import Dataset, DataLoader, random_split\n",
    "from torch import Tensor\n",
    "from torch.nn import Linear, ReLU, Sigmoid, Module, BCELoss, BCEWithLogitsLoss\n",
    "from torch.optim import Adam\n",
    "import torch\n",
    "import torch.nn as nn\n",
    "import torch.optim as optim\n",
    "from torch.utils.data import Dataset, DataLoader\n",
    "from pandas import DataFrame\n",
    "import xlsxwriter\n",
    "import time\n",
    "\n",
    "seed_value = 7\n",
    "import os\n",
    "os.environ['PYTHONHASHSEED']=str(seed_value)\n",
    "import random\n",
    "random.seed(seed_value)\n",
    "import numpy as np\n",
    "np.random.seed(seed_value)\n",
    "import torch\n",
    "torch.manual_seed(seed_value)"
   ]
  },
  {
   "cell_type": "code",
   "execution_count": 2,
   "id": "independent-welding",
   "metadata": {},
   "outputs": [
    {
     "name": "stdout",
     "output_type": "stream",
     "text": [
      "(148, 300)\n",
      "(148, 1)\n"
     ]
    }
   ],
   "source": [
    "Training_Data = pd.ExcelFile(\"Training Data.xlsx\") #Training Data already pre-scaled to the IBIS Data set\n",
    "Label_Data = pd.ExcelFile(\"Labels.xlsx\") #Labels\n",
    "data = Training_Data.parse(Training_Data.sheet_names[0])\n",
    "label_data = Label_Data.parse(Label_Data.sheet_names[0])\n",
    "data_features = data.loc[:, data.columns]\n",
    "data_features = data_features.drop(['ROI','MATCH DEMOS','INDEX SEX','MATCH BASC2','INDEX GA', 'HYP', 'INDEX MEDU', 'MATCH DEMOS OLD', 'INDEX AGE'], axis=1)\n",
    "data_features = data_features.dropna()\n",
    "data_features = data_features.drop(['ATP'], axis=1)\n",
    "labels = label_data.loc[:, label_data.columns]\n",
    "labels = labels.drop(['ROI','MATCH BASC2', 'INDEX ATP', 'INDEX HYP', 'HYP'], axis=1)\n",
    "labels = labels.dropna()\n",
    "print(data_features.shape)\n",
    "print(labels.shape)"
   ]
  },
  {
   "cell_type": "code",
   "execution_count": 3,
   "id": "balanced-running",
   "metadata": {},
   "outputs": [
    {
     "name": "stdout",
     "output_type": "stream",
     "text": [
      "(155, 300)\n",
      "(155, 1)\n",
      "(78, 300)\n",
      "(78, 1)\n"
     ]
    }
   ],
   "source": [
    "twin_data = Training_Data.parse(Training_Data.sheet_names[2])\n",
    "label_twin_data = Label_Data.parse(Label_Data.sheet_names[2])\n",
    "twin_data_features = twin_data.loc[:, twin_data.columns]\n",
    "twin_data_features = twin_data_features.drop(['ROI','MATCH DEMOS','INDEX SEX','MATCH BASC2','INDEX GA', 'HYP', 'INDEX MEDU', 'MATCH DEMOS OLD', 'INDEX AGE'], axis=1)\n",
    "twin_data_features = twin_data_features.dropna()\n",
    "twin_data_features = twin_data_features.drop(['ATP'], axis=1)\n",
    "twin_labels = label_twin_data.loc[:, label_twin_data.columns]\n",
    "twin_labels = twin_labels.drop(['ROI','MATCH BASC2', 'INDEX ATP', 'INDEX HYP', 'HYP'], axis=1)\n",
    "twin_labels = twin_labels.dropna()\n",
    "print(twin_data_features.shape)\n",
    "print(twin_labels.shape)\n",
    "\n",
    "#Grab every other row so as to not get both twins\n",
    "twin_data_features = twin_data_features.iloc[::2, :]\n",
    "twin_labels = twin_labels.iloc[::2, :]\n",
    "print(twin_data_features.shape)\n",
    "print(twin_labels.shape)"
   ]
  },
  {
   "cell_type": "code",
   "execution_count": 4,
   "id": "dressed-neighbor",
   "metadata": {},
   "outputs": [
    {
     "name": "stdout",
     "output_type": "stream",
     "text": [
      "(226, 300)\n",
      "(226, 1)\n"
     ]
    }
   ],
   "source": [
    "data_1y = [data_features, twin_data_features]\n",
    "labels_1y = [labels, twin_labels]\n",
    "\n",
    "data_features = pd.concat(data_1y)\n",
    "labels = pd.concat(labels_1y)\n",
    "\n",
    "print(data_features.shape)\n",
    "print(labels.shape)"
   ]
  },
  {
   "cell_type": "code",
   "execution_count": 5,
   "id": "defined-monroe",
   "metadata": {},
   "outputs": [
    {
     "name": "stdout",
     "output_type": "stream",
     "text": [
      "StratifiedKFold(n_splits=8, random_state=None, shuffle=False)\n",
      "(348, 300)\n",
      "(348, 300)\n",
      "(348, 300)\n",
      "(348, 300)\n",
      "(348, 300)\n",
      "(348, 300)\n",
      "(348, 300)\n",
      "(350, 300)\n"
     ]
    }
   ],
   "source": [
    "skf = StratifiedKFold(n_splits=8)\n",
    "skf.get_n_splits(data_features, labels)\n",
    "print(skf)\n",
    "\n",
    "training_indices_X = []\n",
    "testing_indices_X = []\n",
    "training_indices_Y = []\n",
    "testing_indices_Y = []\n",
    "\n",
    "for train_index, test_index in skf.split(data_features, labels):\n",
    "  \n",
    "    X_train, X_test = data_features.iloc[train_index], data_features.iloc[test_index]\n",
    "    Y_train, Y_test = labels.iloc[train_index], labels.iloc[test_index]\n",
    "   \n",
    "    sm = SMOTE(sampling_strategy = 'minority', random_state = seed_value, k_neighbors=2) \n",
    "    X_train_res, Y_train_res = sm.fit_sample(X_train, Y_train) #Only smote the training set.\n",
    "    print(X_train_res.shape)\n",
    "    training_indices_X.append(X_train_res)\n",
    "    testing_indices_X.append(X_test)\n",
    "    training_indices_Y.append(Y_train_res)\n",
    "    testing_indices_Y.append(Y_test)\n"
   ]
  },
  {
   "cell_type": "code",
   "execution_count": 6,
   "id": "informed-hawaii",
   "metadata": {},
   "outputs": [
    {
     "data": {
      "text/html": [
       "<div>\n",
       "<style scoped>\n",
       "    .dataframe tbody tr th:only-of-type {\n",
       "        vertical-align: middle;\n",
       "    }\n",
       "\n",
       "    .dataframe tbody tr th {\n",
       "        vertical-align: top;\n",
       "    }\n",
       "\n",
       "    .dataframe thead th {\n",
       "        text-align: right;\n",
       "    }\n",
       "</style>\n",
       "<table border=\"1\" class=\"dataframe\">\n",
       "  <thead>\n",
       "    <tr style=\"text-align: right;\">\n",
       "      <th></th>\n",
       "      <th>0</th>\n",
       "      <th>1</th>\n",
       "      <th>2</th>\n",
       "      <th>3</th>\n",
       "      <th>4</th>\n",
       "      <th>5</th>\n",
       "      <th>6</th>\n",
       "      <th>7</th>\n",
       "      <th>8</th>\n",
       "      <th>9</th>\n",
       "      <th>...</th>\n",
       "      <th>290</th>\n",
       "      <th>291</th>\n",
       "      <th>292</th>\n",
       "      <th>293</th>\n",
       "      <th>294</th>\n",
       "      <th>295</th>\n",
       "      <th>SEX</th>\n",
       "      <th>Gestational Age</th>\n",
       "      <th>Maternal Education MEDU</th>\n",
       "      <th>Age at MRI 1</th>\n",
       "    </tr>\n",
       "  </thead>\n",
       "  <tbody>\n",
       "    <tr>\n",
       "      <th>0</th>\n",
       "      <td>-0.116216</td>\n",
       "      <td>-0.086548</td>\n",
       "      <td>0.254434</td>\n",
       "      <td>0.164892</td>\n",
       "      <td>-0.229623</td>\n",
       "      <td>0.311852</td>\n",
       "      <td>0.221111</td>\n",
       "      <td>0.103804</td>\n",
       "      <td>0.396944</td>\n",
       "      <td>0.164983</td>\n",
       "      <td>...</td>\n",
       "      <td>0.234383</td>\n",
       "      <td>0.516006</td>\n",
       "      <td>0.501607</td>\n",
       "      <td>0.436699</td>\n",
       "      <td>0.454235</td>\n",
       "      <td>0.317294</td>\n",
       "      <td>1.0</td>\n",
       "      <td>0.750000</td>\n",
       "      <td>9.0</td>\n",
       "      <td>1.016438</td>\n",
       "    </tr>\n",
       "    <tr>\n",
       "      <th>1</th>\n",
       "      <td>0.008671</td>\n",
       "      <td>0.016816</td>\n",
       "      <td>0.125914</td>\n",
       "      <td>0.106356</td>\n",
       "      <td>0.018141</td>\n",
       "      <td>0.641574</td>\n",
       "      <td>0.267814</td>\n",
       "      <td>0.074820</td>\n",
       "      <td>0.228598</td>\n",
       "      <td>0.230302</td>\n",
       "      <td>...</td>\n",
       "      <td>0.176464</td>\n",
       "      <td>0.183831</td>\n",
       "      <td>0.357686</td>\n",
       "      <td>0.507466</td>\n",
       "      <td>0.546066</td>\n",
       "      <td>0.457485</td>\n",
       "      <td>0.0</td>\n",
       "      <td>0.666667</td>\n",
       "      <td>12.0</td>\n",
       "      <td>1.071233</td>\n",
       "    </tr>\n",
       "    <tr>\n",
       "      <th>2</th>\n",
       "      <td>0.005308</td>\n",
       "      <td>-0.060916</td>\n",
       "      <td>0.193935</td>\n",
       "      <td>0.092845</td>\n",
       "      <td>-0.086244</td>\n",
       "      <td>0.312178</td>\n",
       "      <td>0.034798</td>\n",
       "      <td>-0.244214</td>\n",
       "      <td>0.114453</td>\n",
       "      <td>0.203349</td>\n",
       "      <td>...</td>\n",
       "      <td>0.236034</td>\n",
       "      <td>0.402563</td>\n",
       "      <td>0.560475</td>\n",
       "      <td>0.532426</td>\n",
       "      <td>0.358366</td>\n",
       "      <td>0.435519</td>\n",
       "      <td>0.0</td>\n",
       "      <td>0.916667</td>\n",
       "      <td>15.0</td>\n",
       "      <td>0.978082</td>\n",
       "    </tr>\n",
       "    <tr>\n",
       "      <th>3</th>\n",
       "      <td>-0.162115</td>\n",
       "      <td>-0.159799</td>\n",
       "      <td>0.186191</td>\n",
       "      <td>0.125560</td>\n",
       "      <td>-0.179891</td>\n",
       "      <td>0.420484</td>\n",
       "      <td>0.087587</td>\n",
       "      <td>-0.073629</td>\n",
       "      <td>0.276718</td>\n",
       "      <td>0.064749</td>\n",
       "      <td>...</td>\n",
       "      <td>0.190745</td>\n",
       "      <td>0.421105</td>\n",
       "      <td>0.258039</td>\n",
       "      <td>0.335113</td>\n",
       "      <td>0.438831</td>\n",
       "      <td>0.098697</td>\n",
       "      <td>1.0</td>\n",
       "      <td>0.750000</td>\n",
       "      <td>16.0</td>\n",
       "      <td>1.054795</td>\n",
       "    </tr>\n",
       "    <tr>\n",
       "      <th>4</th>\n",
       "      <td>-0.101819</td>\n",
       "      <td>-0.008209</td>\n",
       "      <td>0.373775</td>\n",
       "      <td>0.071498</td>\n",
       "      <td>-0.014684</td>\n",
       "      <td>0.598363</td>\n",
       "      <td>0.292339</td>\n",
       "      <td>-0.139739</td>\n",
       "      <td>0.062950</td>\n",
       "      <td>-0.127031</td>\n",
       "      <td>...</td>\n",
       "      <td>0.260455</td>\n",
       "      <td>0.132798</td>\n",
       "      <td>0.142365</td>\n",
       "      <td>0.470704</td>\n",
       "      <td>0.228815</td>\n",
       "      <td>0.335065</td>\n",
       "      <td>1.0</td>\n",
       "      <td>0.750000</td>\n",
       "      <td>16.0</td>\n",
       "      <td>1.104110</td>\n",
       "    </tr>\n",
       "  </tbody>\n",
       "</table>\n",
       "<p>5 rows × 300 columns</p>\n",
       "</div>"
      ],
      "text/plain": [
       "          0         1         2         3         4         5         6  \\\n",
       "0 -0.116216 -0.086548  0.254434  0.164892 -0.229623  0.311852  0.221111   \n",
       "1  0.008671  0.016816  0.125914  0.106356  0.018141  0.641574  0.267814   \n",
       "2  0.005308 -0.060916  0.193935  0.092845 -0.086244  0.312178  0.034798   \n",
       "3 -0.162115 -0.159799  0.186191  0.125560 -0.179891  0.420484  0.087587   \n",
       "4 -0.101819 -0.008209  0.373775  0.071498 -0.014684  0.598363  0.292339   \n",
       "\n",
       "          7         8         9  ...       290       291       292       293  \\\n",
       "0  0.103804  0.396944  0.164983  ...  0.234383  0.516006  0.501607  0.436699   \n",
       "1  0.074820  0.228598  0.230302  ...  0.176464  0.183831  0.357686  0.507466   \n",
       "2 -0.244214  0.114453  0.203349  ...  0.236034  0.402563  0.560475  0.532426   \n",
       "3 -0.073629  0.276718  0.064749  ...  0.190745  0.421105  0.258039  0.335113   \n",
       "4 -0.139739  0.062950 -0.127031  ...  0.260455  0.132798  0.142365  0.470704   \n",
       "\n",
       "        294       295  SEX  Gestational Age  Maternal Education MEDU  \\\n",
       "0  0.454235  0.317294  1.0         0.750000                      9.0   \n",
       "1  0.546066  0.457485  0.0         0.666667                     12.0   \n",
       "2  0.358366  0.435519  0.0         0.916667                     15.0   \n",
       "3  0.438831  0.098697  1.0         0.750000                     16.0   \n",
       "4  0.228815  0.335065  1.0         0.750000                     16.0   \n",
       "\n",
       "   Age at MRI 1  \n",
       "0      1.016438  \n",
       "1      1.071233  \n",
       "2      0.978082  \n",
       "3      1.054795  \n",
       "4      1.104110  \n",
       "\n",
       "[5 rows x 300 columns]"
      ]
     },
     "execution_count": 6,
     "metadata": {},
     "output_type": "execute_result"
    }
   ],
   "source": [
    "training_indices_X[0].head()"
   ]
  },
  {
   "cell_type": "code",
   "execution_count": 7,
   "id": "conventional-induction",
   "metadata": {},
   "outputs": [],
   "source": [
    "#training_indices_X[0] #8 Folds so 0 -> 7 Data type is a DataFrame currently.\n",
    "training_fold_X_0 = training_indices_X[0].to_numpy()\n",
    "training_fold_X_1 = training_indices_X[1].to_numpy()\n",
    "training_fold_X_2 = training_indices_X[2].to_numpy()\n",
    "training_fold_X_3 = training_indices_X[3].to_numpy()\n",
    "training_fold_X_4 = training_indices_X[4].to_numpy()\n",
    "training_fold_X_5 = training_indices_X[5].to_numpy()\n",
    "training_fold_X_6 = training_indices_X[6].to_numpy()\n",
    "training_fold_X_7 = training_indices_X[7].to_numpy()\n",
    "\n",
    "training_fold_Y_0 = training_indices_Y[0].to_numpy()\n",
    "training_fold_Y_1 = training_indices_Y[1].to_numpy()\n",
    "training_fold_Y_2 = training_indices_Y[2].to_numpy()\n",
    "training_fold_Y_3 = training_indices_Y[3].to_numpy()\n",
    "training_fold_Y_4 = training_indices_Y[4].to_numpy()\n",
    "training_fold_Y_5 = training_indices_Y[5].to_numpy()\n",
    "training_fold_Y_6 = training_indices_Y[6].to_numpy()\n",
    "training_fold_Y_7 = training_indices_Y[7].to_numpy()\n",
    "\n",
    "testing_fold_X_0 = testing_indices_X[0].to_numpy()\n",
    "testing_fold_X_1 = testing_indices_X[1].to_numpy()\n",
    "testing_fold_X_2 = testing_indices_X[2].to_numpy()\n",
    "testing_fold_X_3 = testing_indices_X[3].to_numpy()\n",
    "testing_fold_X_4 = testing_indices_X[4].to_numpy()\n",
    "testing_fold_X_5 = testing_indices_X[5].to_numpy()\n",
    "testing_fold_X_6 = testing_indices_X[6].to_numpy()\n",
    "testing_fold_X_7 = testing_indices_X[7].to_numpy()\n",
    "\n",
    "testing_fold_Y_0 = testing_indices_Y[0].to_numpy()\n",
    "testing_fold_Y_1 = testing_indices_Y[1].to_numpy()\n",
    "testing_fold_Y_2 = testing_indices_Y[2].to_numpy()\n",
    "testing_fold_Y_3 = testing_indices_Y[3].to_numpy()\n",
    "testing_fold_Y_4 = testing_indices_Y[4].to_numpy()\n",
    "testing_fold_Y_5 = testing_indices_Y[5].to_numpy()\n",
    "testing_fold_Y_6 = testing_indices_Y[6].to_numpy()\n",
    "testing_fold_Y_7 = testing_indices_Y[7].to_numpy()"
   ]
  },
  {
   "cell_type": "code",
   "execution_count": 8,
   "id": "conditional-cowboy",
   "metadata": {},
   "outputs": [
    {
     "name": "stdout",
     "output_type": "stream",
     "text": [
      "(29, 1)\n",
      "(29, 1)\n",
      "(28, 1)\n",
      "(28, 1)\n",
      "(28, 1)\n",
      "(28, 1)\n",
      "(28, 1)\n",
      "(28, 1)\n"
     ]
    }
   ],
   "source": [
    "print(testing_fold_Y_0.shape)\n",
    "print(testing_fold_Y_1.shape)\n",
    "print(testing_fold_Y_2.shape)\n",
    "print(testing_fold_Y_3.shape)\n",
    "print(testing_fold_Y_4.shape)\n",
    "print(testing_fold_Y_5.shape)\n",
    "print(testing_fold_Y_6.shape)\n",
    "print(testing_fold_Y_7.shape)"
   ]
  },
  {
   "cell_type": "code",
   "execution_count": 9,
   "id": "creative-cookie",
   "metadata": {},
   "outputs": [],
   "source": [
    "#Some hyperparameters\n",
    "#D_in is input dimension; H is hidden dimension; D_out is output dimension. \n",
    "\n",
    "#Best: 0.508814 using {'batch_size': 35, 'dropout': 0.15, 'epochs': 35, 'layer1_size': 100, 'layer2_size': 15}\n",
    "D_in, H1, H2, D_out = 300, 100, 15, 1\n",
    "EPOCHS = 35\n",
    "BATCH_SIZE = 35\n",
    "LEARNING_RATE = 0.001\n",
    "DROPOUT_RATE = 0.15\n",
    "\n",
    "test_size = 29\n",
    "test_size1 = 28\n",
    "\n",
    "## train data\n",
    "class trainData(Dataset):\n",
    "    \n",
    "    def __init__(self, X_data, y_data): #used to perform initializing operations such as reading data and preprocessing.\n",
    "        self.X_data = X_data\n",
    "        self.y_data = y_data\n",
    "        \n",
    "    def __getitem__(self, index): #returns data (input and output) in batches.\n",
    "        return self.X_data[index], self.y_data[index]\n",
    "        \n",
    "    def __len__ (self): #returns the size of the input data.\n",
    "        return len(self.X_data)\n",
    "\n",
    "#A dataloader is then used on this dataset class to read the data in batches.\n",
    "train_data = trainData(torch.FloatTensor(training_fold_X_0), \n",
    "                       torch.FloatTensor(training_fold_Y_0))\n",
    "\n",
    "train_data1 = trainData(torch.FloatTensor(training_fold_X_1), \n",
    "                       torch.FloatTensor(training_fold_Y_1))\n",
    "\n",
    "train_data2 = trainData(torch.FloatTensor(training_fold_X_2), \n",
    "                       torch.FloatTensor(training_fold_Y_2))\n",
    "\n",
    "train_data3 = trainData(torch.FloatTensor(training_fold_X_3), \n",
    "                       torch.FloatTensor(training_fold_Y_3))\n",
    "\n",
    "train_data4 = trainData(torch.FloatTensor(training_fold_X_4), \n",
    "                       torch.FloatTensor(training_fold_Y_4))\n",
    "\n",
    "train_data5 = trainData(torch.FloatTensor(training_fold_X_5), \n",
    "                       torch.FloatTensor(training_fold_Y_5))\n",
    "\n",
    "train_data6 = trainData(torch.FloatTensor(training_fold_X_6), \n",
    "                       torch.FloatTensor(training_fold_Y_6))\n",
    "\n",
    "train_data7 = trainData(torch.FloatTensor(training_fold_X_7), \n",
    "                       torch.FloatTensor(training_fold_Y_7))\n",
    "## test data    \n",
    "class testData(Dataset):\n",
    "    \n",
    "    def __init__(self, X_data): ##used to perform initializing operations such as reading data and preprocessing.\n",
    "        self.X_data = X_data\n",
    "        \n",
    "    def __getitem__(self, index): #returns data (input and output) in batches.\n",
    "        return self.X_data[index]\n",
    "        \n",
    "    def __len__ (self): #returns the size of the input data.\n",
    "        return len(self.X_data)\n",
    "    \n",
    "#A dataloader is then used on this dataset class to read the data in batches.\n",
    "test_data = testData(torch.FloatTensor(testing_fold_X_0))\n",
    "test_data1 = testData(torch.FloatTensor(testing_fold_X_1))\n",
    "test_data2 = testData(torch.FloatTensor(testing_fold_X_2))\n",
    "test_data3 = testData(torch.FloatTensor(testing_fold_X_3))\n",
    "test_data4 = testData(torch.FloatTensor(testing_fold_X_4))\n",
    "test_data5 = testData(torch.FloatTensor(testing_fold_X_5))\n",
    "test_data6 = testData(torch.FloatTensor(testing_fold_X_6))\n",
    "test_data7 = testData(torch.FloatTensor(testing_fold_X_7))\n",
    "\n",
    "#Initialize DataLoaders\n",
    "train_loader = DataLoader(dataset=train_data, batch_size=BATCH_SIZE, shuffle=True)\n",
    "test_loader = DataLoader(dataset=test_data, batch_size=test_size) #Batch size of the validation set. Need 1 at a time for how it was setup in the tutorial.\n",
    "\n",
    "train_loader1 = DataLoader(dataset=train_data1, batch_size=BATCH_SIZE, shuffle=True)\n",
    "test_loader1 = DataLoader(dataset=test_data1, batch_size=test_size) #Batch size of the validation set. Need 1 at a time for how it was setup in the tutorial.\n",
    "\n",
    "train_loader2 = DataLoader(dataset=train_data2, batch_size=BATCH_SIZE, shuffle=True)\n",
    "test_loader2 = DataLoader(dataset=test_data2, batch_size=test_size1) #Batch size of the validation set. Need 1 at a time for how it was setup in the tutorial.\n",
    "\n",
    "train_loader3 = DataLoader(dataset=train_data3, batch_size=BATCH_SIZE, shuffle=True)\n",
    "test_loader3 = DataLoader(dataset=test_data3, batch_size=test_size1) #Batch size of the validation set. Need 1 at a time for how it was setup in the tutorial.\n",
    "\n",
    "train_loader4 = DataLoader(dataset=train_data4, batch_size=BATCH_SIZE, shuffle=True)\n",
    "test_loader4 = DataLoader(dataset=test_data4, batch_size=test_size1) #Batch size of the validation set. Need 1 at a time for how it was setup in the tutorial.\n",
    "\n",
    "train_loader5 = DataLoader(dataset=train_data5, batch_size=BATCH_SIZE, shuffle=True)\n",
    "test_loader5 = DataLoader(dataset=test_data5, batch_size=test_size1) #Batch size of the validation set. Need 1 at a time for how it was setup in the tutorial.\n",
    "\n",
    "train_loader6 = DataLoader(dataset=train_data6, batch_size=BATCH_SIZE, shuffle=True)\n",
    "test_loader6 = DataLoader(dataset=test_data6, batch_size=test_size1) #Batch size of the validation set. Need 1 at a time for how it was setup in the tutorial.\n",
    "\n",
    "train_loader7 = DataLoader(dataset=train_data7, batch_size=BATCH_SIZE, shuffle=True)\n",
    "test_loader7 = DataLoader(dataset=test_data7, batch_size=test_size1) #Batch size of the validation set. Need 1 at a time for how it was setup in the tutorial."
   ]
  },
  {
   "cell_type": "code",
   "execution_count": 10,
   "id": "cardiac-chess",
   "metadata": {},
   "outputs": [
    {
     "name": "stdout",
     "output_type": "stream",
     "text": [
      "(29, 300)\n",
      "(29, 300)\n",
      "(28, 300)\n",
      "(28, 300)\n",
      "(28, 300)\n",
      "(28, 300)\n",
      "(28, 300)\n",
      "(28, 300)\n"
     ]
    }
   ],
   "source": [
    "print(testing_fold_X_0.shape)\n",
    "print(testing_fold_X_1.shape)\n",
    "print(testing_fold_X_2.shape)\n",
    "print(testing_fold_X_3.shape)\n",
    "print(testing_fold_X_4.shape)\n",
    "print(testing_fold_X_5.shape)\n",
    "print(testing_fold_X_6.shape)\n",
    "print(testing_fold_X_7.shape)"
   ]
  },
  {
   "cell_type": "code",
   "execution_count": 11,
   "id": "excited-account",
   "metadata": {},
   "outputs": [
    {
     "name": "stdout",
     "output_type": "stream",
     "text": [
      "cpu\n"
     ]
    }
   ],
   "source": [
    "class binaryClassification(nn.Module):\n",
    "    def __init__(self):\n",
    "        super(binaryClassification, self).__init__()\n",
    "        # Number of input features is 298.\n",
    "        self.layer_1 = nn.Linear(D_in, H1) #298 -> 100\n",
    "        self.layer_2 = nn.Linear(H1, H2) #100 -> 15\n",
    "        self.layer_out = nn.Linear(H2, D_out) #15 -> 1\n",
    "        \n",
    "        self.relu = nn.ReLU()\n",
    "        self.dropout = nn.Dropout(p=DROPOUT_RATE)\n",
    "        #self.batchnorm1 = nn.BatchNorm1d(100)\n",
    "        #self.batchnorm2 = nn.BatchNorm1d(15)\n",
    "        \n",
    "    def forward(self, inputs):\n",
    "        x = self.relu(self.layer_1(inputs)) #ReLU on the 298?\n",
    "        #x = self.batchnorm1(x) #Normalize the 100\n",
    "        x = self.dropout(x) #Dropout 15%\n",
    "        x = self.relu(self.layer_2(x)) #ReLU on the 100?\n",
    "        #x = self.batchnorm2(x) #Normalize the 15\n",
    "        x = self.layer_out(x) #1\n",
    "        \n",
    "        return x\n",
    "device = torch.device(\"cuda:0\" if torch.cuda.is_available() else \"cpu\")\n",
    "print(device)\n",
    "#Should use the CPU since I don't have a GPU."
   ]
  },
  {
   "cell_type": "code",
   "execution_count": 12,
   "id": "visible-potter",
   "metadata": {},
   "outputs": [
    {
     "name": "stdout",
     "output_type": "stream",
     "text": [
      "binaryClassification(\n",
      "  (layer_1): Linear(in_features=300, out_features=100, bias=True)\n",
      "  (layer_2): Linear(in_features=100, out_features=15, bias=True)\n",
      "  (layer_out): Linear(in_features=15, out_features=1, bias=True)\n",
      "  (relu): ReLU()\n",
      "  (dropout): Dropout(p=0.15, inplace=False)\n",
      ")\n",
      "binaryClassification(\n",
      "  (layer_1): Linear(in_features=300, out_features=100, bias=True)\n",
      "  (layer_2): Linear(in_features=100, out_features=15, bias=True)\n",
      "  (layer_out): Linear(in_features=15, out_features=1, bias=True)\n",
      "  (relu): ReLU()\n",
      "  (dropout): Dropout(p=0.15, inplace=False)\n",
      ")\n",
      "binaryClassification(\n",
      "  (layer_1): Linear(in_features=300, out_features=100, bias=True)\n",
      "  (layer_2): Linear(in_features=100, out_features=15, bias=True)\n",
      "  (layer_out): Linear(in_features=15, out_features=1, bias=True)\n",
      "  (relu): ReLU()\n",
      "  (dropout): Dropout(p=0.15, inplace=False)\n",
      ")\n",
      "binaryClassification(\n",
      "  (layer_1): Linear(in_features=300, out_features=100, bias=True)\n",
      "  (layer_2): Linear(in_features=100, out_features=15, bias=True)\n",
      "  (layer_out): Linear(in_features=15, out_features=1, bias=True)\n",
      "  (relu): ReLU()\n",
      "  (dropout): Dropout(p=0.15, inplace=False)\n",
      ")\n",
      "binaryClassification(\n",
      "  (layer_1): Linear(in_features=300, out_features=100, bias=True)\n",
      "  (layer_2): Linear(in_features=100, out_features=15, bias=True)\n",
      "  (layer_out): Linear(in_features=15, out_features=1, bias=True)\n",
      "  (relu): ReLU()\n",
      "  (dropout): Dropout(p=0.15, inplace=False)\n",
      ")\n",
      "binaryClassification(\n",
      "  (layer_1): Linear(in_features=300, out_features=100, bias=True)\n",
      "  (layer_2): Linear(in_features=100, out_features=15, bias=True)\n",
      "  (layer_out): Linear(in_features=15, out_features=1, bias=True)\n",
      "  (relu): ReLU()\n",
      "  (dropout): Dropout(p=0.15, inplace=False)\n",
      ")\n",
      "binaryClassification(\n",
      "  (layer_1): Linear(in_features=300, out_features=100, bias=True)\n",
      "  (layer_2): Linear(in_features=100, out_features=15, bias=True)\n",
      "  (layer_out): Linear(in_features=15, out_features=1, bias=True)\n",
      "  (relu): ReLU()\n",
      "  (dropout): Dropout(p=0.15, inplace=False)\n",
      ")\n",
      "binaryClassification(\n",
      "  (layer_1): Linear(in_features=300, out_features=100, bias=True)\n",
      "  (layer_2): Linear(in_features=100, out_features=15, bias=True)\n",
      "  (layer_out): Linear(in_features=15, out_features=1, bias=True)\n",
      "  (relu): ReLU()\n",
      "  (dropout): Dropout(p=0.15, inplace=False)\n",
      ")\n"
     ]
    }
   ],
   "source": [
    "#Model initialization and information on layers. The model's actual architecture can be viewed in the forward function above.\n",
    "model = binaryClassification()\n",
    "model.to(device)\n",
    "print(model)\n",
    "weights = torch.FloatTensor([5]) #Class weights\n",
    "criterion = nn.BCEWithLogitsLoss(pos_weight=weights)\n",
    "optimizer = optim.Adam(model.parameters(), lr=LEARNING_RATE)\n",
    "\n",
    "#Model initialization and information on layers. The model1's actual architecture can be viewed in the forward function above.\n",
    "model1 = binaryClassification()\n",
    "model1.to(device)\n",
    "print(model1)\n",
    "weights1 = torch.FloatTensor([5]) #Class weights\n",
    "criterion1 = nn.BCEWithLogitsLoss(pos_weight=weights1)\n",
    "optimizer1 = optim.Adam(model1.parameters(), lr=LEARNING_RATE)\n",
    "\n",
    "#Model initialization and information on layers. The model2's actual architecture can be viewed in the forward function above.\n",
    "model2 = binaryClassification()\n",
    "model2.to(device)\n",
    "print(model2)\n",
    "weights2 = torch.FloatTensor([5]) #Class weights\n",
    "criterion2 = nn.BCEWithLogitsLoss(pos_weight=weights2)\n",
    "optimizer2 = optim.Adam(model2.parameters(), lr=LEARNING_RATE)\n",
    "\n",
    "#Model initialization and information on layers. The model3's actual architecture can be viewed in the forward function above.\n",
    "model3 = binaryClassification()\n",
    "model3.to(device)\n",
    "print(model3)\n",
    "weights3 = torch.FloatTensor([5]) #Class weights\n",
    "criterion3 = nn.BCEWithLogitsLoss(pos_weight=weights3)\n",
    "optimizer3 = optim.Adam(model3.parameters(), lr=LEARNING_RATE)\n",
    "\n",
    "#Model initialization and information on layers. The model4's actual architecture can be viewed in the forward function above.\n",
    "model4 = binaryClassification()\n",
    "model4.to(device)\n",
    "print(model4)\n",
    "weights4 = torch.FloatTensor([5]) #Class weights\n",
    "criterion4 = nn.BCEWithLogitsLoss(pos_weight=weights4)\n",
    "optimizer4 = optim.Adam(model4.parameters(), lr=LEARNING_RATE)\n",
    "\n",
    "#Model initialization and information on layers. The model5's actual architecture can be viewed in the forward function above.\n",
    "model5 = binaryClassification()\n",
    "model5.to(device)\n",
    "print(model5)\n",
    "weights5 = torch.FloatTensor([5]) #Class weights\n",
    "criterion5 = nn.BCEWithLogitsLoss(pos_weight=weights5)\n",
    "optimizer5 = optim.Adam(model5.parameters(), lr=LEARNING_RATE)\n",
    "\n",
    "#Model initialization and information on layers. The model6's actual architecture can be viewed in the forward function above.\n",
    "model6 = binaryClassification()\n",
    "model6.to(device)\n",
    "print(model6)\n",
    "weights6 = torch.FloatTensor([5]) #Class weights\n",
    "criterion6 = nn.BCEWithLogitsLoss(pos_weight=weights6)\n",
    "optimizer6 = optim.Adam(model6.parameters(), lr=LEARNING_RATE)\n",
    "\n",
    "#Model initialization and information on layers. The model7's actual architecture can be viewed in the forward function above.\n",
    "model7 = binaryClassification()\n",
    "model7.to(device)\n",
    "print(model7)\n",
    "weights7 = torch.FloatTensor([5]) #Class weights\n",
    "criterion7 = nn.BCEWithLogitsLoss(pos_weight=weights7)\n",
    "optimizer7 = optim.Adam(model7.parameters(), lr=LEARNING_RATE)"
   ]
  },
  {
   "cell_type": "code",
   "execution_count": 13,
   "id": "assumed-spell",
   "metadata": {},
   "outputs": [],
   "source": [
    "#Function to define accuracy. Should look to see if there is a prebuilt that I can use from sci-kit learn or something.\n",
    "def binary_acc(y_pred, y_test):\n",
    "    y_pred_tag = torch.round(torch.sigmoid(y_pred))\n",
    "\n",
    "    correct_results_sum = (y_pred_tag == y_test).sum().float()\n",
    "    acc = correct_results_sum/y_test.shape[0]\n",
    "    acc = torch.round(acc * 100)\n",
    "    \n",
    "    return acc"
   ]
  },
  {
   "cell_type": "code",
   "execution_count": 14,
   "id": "developed-enlargement",
   "metadata": {},
   "outputs": [
    {
     "name": "stdout",
     "output_type": "stream",
     "text": [
      "Training Epoch 001: | Loss: 1.76849 | Acc: 50.100\n",
      "Validation Accuracy |  13.793103448275861  PPV |  [0.         0.13793103]  Recall |  [0. 1.]\n",
      "Training Epoch 002: | Loss: 1.41380 | Acc: 50.100\n",
      "Validation Accuracy |  13.793103448275861  PPV |  [0.         0.13793103]  Recall |  [0. 1.]\n",
      "Training Epoch 003: | Loss: 1.36368 | Acc: 50.000\n",
      "Validation Accuracy |  13.793103448275861  PPV |  [0.         0.13793103]  Recall |  [0. 1.]\n",
      "Training Epoch 004: | Loss: 1.33254 | Acc: 50.000\n",
      "Validation Accuracy |  13.793103448275861  PPV |  [0.         0.13793103]  Recall |  [0. 1.]\n",
      "Training Epoch 005: | Loss: 1.33265 | Acc: 49.900\n",
      "Validation Accuracy |  13.793103448275861  PPV |  [0.         0.13793103]  Recall |  [0. 1.]\n"
     ]
    },
    {
     "name": "stderr",
     "output_type": "stream",
     "text": [
      "C:\\Users\\mattbeze\\Anaconda3\\envs\\pytorch\\lib\\site-packages\\sklearn\\metrics\\_classification.py:1245: UndefinedMetricWarning: Precision is ill-defined and being set to 0.0 in labels with no predicted samples. Use `zero_division` parameter to control this behavior.\n",
      "  _warn_prf(average, modifier, msg_start, len(result))\n",
      "C:\\Users\\mattbeze\\Anaconda3\\envs\\pytorch\\lib\\site-packages\\sklearn\\metrics\\_classification.py:1245: UndefinedMetricWarning: Precision is ill-defined and being set to 0.0 in labels with no predicted samples. Use `zero_division` parameter to control this behavior.\n",
      "  _warn_prf(average, modifier, msg_start, len(result))\n",
      "C:\\Users\\mattbeze\\Anaconda3\\envs\\pytorch\\lib\\site-packages\\sklearn\\metrics\\_classification.py:1245: UndefinedMetricWarning: Precision is ill-defined and being set to 0.0 in labels with no predicted samples. Use `zero_division` parameter to control this behavior.\n",
      "  _warn_prf(average, modifier, msg_start, len(result))\n",
      "C:\\Users\\mattbeze\\Anaconda3\\envs\\pytorch\\lib\\site-packages\\sklearn\\metrics\\_classification.py:1245: UndefinedMetricWarning: Precision is ill-defined and being set to 0.0 in labels with no predicted samples. Use `zero_division` parameter to control this behavior.\n",
      "  _warn_prf(average, modifier, msg_start, len(result))\n",
      "C:\\Users\\mattbeze\\Anaconda3\\envs\\pytorch\\lib\\site-packages\\sklearn\\metrics\\_classification.py:1245: UndefinedMetricWarning: Precision is ill-defined and being set to 0.0 in labels with no predicted samples. Use `zero_division` parameter to control this behavior.\n",
      "  _warn_prf(average, modifier, msg_start, len(result))\n"
     ]
    },
    {
     "name": "stdout",
     "output_type": "stream",
     "text": [
      "Training Epoch 006: | Loss: 1.32549 | Acc: 49.800\n",
      "Validation Accuracy |  13.793103448275861  PPV |  [0.         0.13793103]  Recall |  [0. 1.]\n",
      "Training Epoch 007: | Loss: 1.29871 | Acc: 50.000\n",
      "Validation Accuracy |  13.793103448275861  PPV |  [0.         0.13793103]  Recall |  [0. 1.]\n",
      "Training Epoch 008: | Loss: 1.28468 | Acc: 50.100\n",
      "Validation Accuracy |  13.793103448275861  PPV |  [0.         0.13793103]  Recall |  [0. 1.]\n",
      "Training Epoch 009: | Loss: 1.25465 | Acc: 50.200\n",
      "Validation Accuracy |  13.793103448275861  PPV |  [0.         0.13793103]  Recall |  [0. 1.]\n",
      "Training Epoch 010: | Loss: 1.23396 | Acc: 49.900\n"
     ]
    },
    {
     "name": "stderr",
     "output_type": "stream",
     "text": [
      "C:\\Users\\mattbeze\\Anaconda3\\envs\\pytorch\\lib\\site-packages\\sklearn\\metrics\\_classification.py:1245: UndefinedMetricWarning: Precision is ill-defined and being set to 0.0 in labels with no predicted samples. Use `zero_division` parameter to control this behavior.\n",
      "  _warn_prf(average, modifier, msg_start, len(result))\n",
      "C:\\Users\\mattbeze\\Anaconda3\\envs\\pytorch\\lib\\site-packages\\sklearn\\metrics\\_classification.py:1245: UndefinedMetricWarning: Precision is ill-defined and being set to 0.0 in labels with no predicted samples. Use `zero_division` parameter to control this behavior.\n",
      "  _warn_prf(average, modifier, msg_start, len(result))\n",
      "C:\\Users\\mattbeze\\Anaconda3\\envs\\pytorch\\lib\\site-packages\\sklearn\\metrics\\_classification.py:1245: UndefinedMetricWarning: Precision is ill-defined and being set to 0.0 in labels with no predicted samples. Use `zero_division` parameter to control this behavior.\n",
      "  _warn_prf(average, modifier, msg_start, len(result))\n",
      "C:\\Users\\mattbeze\\Anaconda3\\envs\\pytorch\\lib\\site-packages\\sklearn\\metrics\\_classification.py:1245: UndefinedMetricWarning: Precision is ill-defined and being set to 0.0 in labels with no predicted samples. Use `zero_division` parameter to control this behavior.\n",
      "  _warn_prf(average, modifier, msg_start, len(result))\n",
      "C:\\Users\\mattbeze\\Anaconda3\\envs\\pytorch\\lib\\site-packages\\sklearn\\metrics\\_classification.py:1245: UndefinedMetricWarning: Precision is ill-defined and being set to 0.0 in labels with no predicted samples. Use `zero_division` parameter to control this behavior.\n",
      "  _warn_prf(average, modifier, msg_start, len(result))\n"
     ]
    },
    {
     "name": "stdout",
     "output_type": "stream",
     "text": [
      "Validation Accuracy |  13.793103448275861  PPV |  [0.         0.13793103]  Recall |  [0. 1.]\n",
      "Training Epoch 011: | Loss: 1.20041 | Acc: 50.000\n",
      "Validation Accuracy |  13.793103448275861  PPV |  [0.         0.13793103]  Recall |  [0. 1.]\n",
      "Training Epoch 012: | Loss: 1.15654 | Acc: 50.300\n",
      "Validation Accuracy |  13.793103448275861  PPV |  [0.         0.13793103]  Recall |  [0. 1.]\n",
      "Training Epoch 013: | Loss: 1.10250 | Acc: 51.200\n",
      "Validation Accuracy |  17.24137931034483  PPV |  [1.         0.14285714]  Recall |  [0.04 1.  ]\n",
      "Training Epoch 014: | Loss: 1.02308 | Acc: 54.100\n",
      "Validation Accuracy |  20.689655172413794  PPV |  [1.         0.14814815]  Recall |  [0.08 1.  ]\n"
     ]
    },
    {
     "name": "stderr",
     "output_type": "stream",
     "text": [
      "C:\\Users\\mattbeze\\Anaconda3\\envs\\pytorch\\lib\\site-packages\\sklearn\\metrics\\_classification.py:1245: UndefinedMetricWarning: Precision is ill-defined and being set to 0.0 in labels with no predicted samples. Use `zero_division` parameter to control this behavior.\n",
      "  _warn_prf(average, modifier, msg_start, len(result))\n",
      "C:\\Users\\mattbeze\\Anaconda3\\envs\\pytorch\\lib\\site-packages\\sklearn\\metrics\\_classification.py:1245: UndefinedMetricWarning: Precision is ill-defined and being set to 0.0 in labels with no predicted samples. Use `zero_division` parameter to control this behavior.\n",
      "  _warn_prf(average, modifier, msg_start, len(result))\n"
     ]
    },
    {
     "name": "stdout",
     "output_type": "stream",
     "text": [
      "Training Epoch 015: | Loss: 0.95496 | Acc: 58.700\n",
      "Validation Accuracy |  20.689655172413794  PPV |  [1.         0.14814815]  Recall |  [0.08 1.  ]\n",
      "Training Epoch 016: | Loss: 0.88177 | Acc: 61.500\n",
      "Validation Accuracy |  31.03448275862069  PPV |  [1.         0.16666667]  Recall |  [0.2 1. ]\n",
      "Training Epoch 017: | Loss: 0.79762 | Acc: 69.900\n",
      "Validation Accuracy |  27.586206896551722  PPV |  [1.   0.16]  Recall |  [0.16 1.  ]\n",
      "Training Epoch 018: | Loss: 0.72598 | Acc: 76.000\n",
      "Validation Accuracy |  37.93103448275862  PPV |  [0.88888889 0.15      ]  Recall |  [0.32 0.75]\n",
      "Training Epoch 019: | Loss: 0.61883 | Acc: 79.100\n",
      "Validation Accuracy |  44.827586206896555  PPV |  [0.84615385 0.125     ]  Recall |  [0.44 0.5 ]\n",
      "Training Epoch 020: | Loss: 0.56614 | Acc: 83.300\n",
      "Validation Accuracy |  58.620689655172406  PPV |  [0.88235294 0.16666667]  Recall |  [0.6 0.5]\n",
      "Training Epoch 021: | Loss: 0.47702 | Acc: 85.600\n",
      "Validation Accuracy |  68.96551724137932  PPV |  [0.9        0.22222222]  Recall |  [0.72 0.5 ]\n",
      "Training Epoch 022: | Loss: 0.39705 | Acc: 89.700\n",
      "Validation Accuracy |  51.724137931034484  PPV |  [0.86666667 0.14285714]  Recall |  [0.52 0.5 ]\n",
      "Training Epoch 023: | Loss: 0.35445 | Acc: 87.500\n",
      "Validation Accuracy |  75.86206896551724  PPV |  [0.875 0.2  ]  Recall |  [0.84 0.25]\n",
      "Training Epoch 024: | Loss: 0.28345 | Acc: 94.400\n",
      "Validation Accuracy |  68.96551724137932  PPV |  [0.9        0.22222222]  Recall |  [0.72 0.5 ]\n",
      "Training Epoch 025: | Loss: 0.27860 | Acc: 92.700\n",
      "Validation Accuracy |  75.86206896551724  PPV |  [0.90909091 0.28571429]  Recall |  [0.8 0.5]\n",
      "Training Epoch 026: | Loss: 0.21629 | Acc: 94.900\n",
      "Validation Accuracy |  75.86206896551724  PPV |  [0.875 0.2  ]  Recall |  [0.84 0.25]\n",
      "Training Epoch 027: | Loss: 0.19797 | Acc: 94.500\n",
      "Validation Accuracy |  82.75862068965517  PPV |  [0.88461538 0.33333333]  Recall |  [0.92 0.25]\n",
      "Training Epoch 028: | Loss: 0.18934 | Acc: 95.500\n",
      "Validation Accuracy |  72.41379310344827  PPV |  [0.86956522 0.16666667]  Recall |  [0.8  0.25]\n",
      "Training Epoch 029: | Loss: 0.17576 | Acc: 96.200\n",
      "Validation Accuracy |  75.86206896551724  PPV |  [0.90909091 0.28571429]  Recall |  [0.8 0.5]\n",
      "Training Epoch 030: | Loss: 0.15480 | Acc: 96.700\n",
      "Validation Accuracy |  75.86206896551724  PPV |  [0.875 0.2  ]  Recall |  [0.84 0.25]\n",
      "Training Epoch 031: | Loss: 0.12856 | Acc: 97.600\n",
      "Validation Accuracy |  72.41379310344827  PPV |  [0.86956522 0.16666667]  Recall |  [0.8  0.25]\n",
      "Training Epoch 032: | Loss: 0.13124 | Acc: 98.500\n",
      "Validation Accuracy |  75.86206896551724  PPV |  [0.90909091 0.28571429]  Recall |  [0.8 0.5]\n",
      "Training Epoch 033: | Loss: 0.13302 | Acc: 97.100\n",
      "Validation Accuracy |  82.75862068965517  PPV |  [0.88461538 0.33333333]  Recall |  [0.92 0.25]\n",
      "Training Epoch 034: | Loss: 0.10587 | Acc: 96.100\n",
      "Validation Accuracy |  82.75862068965517  PPV |  [0.88461538 0.33333333]  Recall |  [0.92 0.25]\n",
      "Training Epoch 035: | Loss: 0.11630 | Acc: 97.900\n",
      "Validation Accuracy |  82.75862068965517  PPV |  [0.88461538 0.33333333]  Recall |  [0.92 0.25]\n"
     ]
    }
   ],
   "source": [
    "#model.train() tells PyTorch that you’re in training mode.\n",
    "#Similarly, we’ll call model.eval() when we test our model. We’ll see that below.\n",
    "'''If you’re using layers such as Dropout or BatchNorm which behave differently during training and evaluation, \n",
    "you need to tell PyTorch to act accordingly. While the default mode in PyTorch is the train, \n",
    "so, you don’t explicitly have to write that. But it’s good practice.'''\n",
    "val_acc = []\n",
    "train_acc = []\n",
    "train_loss = []\n",
    "val_loss = []\n",
    "\n",
    "model.train() #Initial training mode\n",
    "for e in range(1, EPOCHS+1):\n",
    "    epoch_loss = 0\n",
    "    epoch_acc = 0\n",
    "    for X_batch, y_batch in train_loader:\n",
    "        X_batch, y_batch = X_batch.to(device), y_batch.to(device)\n",
    "        optimizer.zero_grad()\n",
    "        \n",
    "        y_pred = model(X_batch)\n",
    "        \n",
    "        loss = criterion(y_pred, y_batch)\n",
    "        acc = binary_acc(y_pred, y_batch)\n",
    "        \n",
    "        loss.backward()\n",
    "        optimizer.step()\n",
    "        \n",
    "        epoch_loss += loss.item()\n",
    "        epoch_acc += acc.item()\n",
    "    \n",
    "    train_acc.append(epoch_acc/len(train_loader))\n",
    "    train_loss.append(epoch_loss/len(train_loader))\n",
    "    print(f'Training Epoch {e+0:03}: | Loss: {epoch_loss/len(train_loader):.5f} | Acc: {epoch_acc/len(train_loader):.3f}')\n",
    "    #Validation metrics here\n",
    "    model.eval()\n",
    "    #print(\"Evaluation mode\")\n",
    "    y_pred_list = []\n",
    "    test_loader = DataLoader(dataset=test_data, batch_size=test_size)\n",
    "    with torch.no_grad():\n",
    "        counter = 0\n",
    "        for X_batch in test_loader:\n",
    "            X_batch = X_batch.to(device)\n",
    "            y_test_pred = model(X_batch)\n",
    "            y_test_pred = torch.sigmoid(y_test_pred)\n",
    "            y_pred_tag = torch.round(y_test_pred)\n",
    "            y_pred_list.append(y_pred_tag.cpu().numpy())\n",
    "            loss = criterion(y_test_pred,torch.FloatTensor(testing_fold_Y_0))\n",
    "            val_loss.append(loss)\n",
    "            counter+=1\n",
    "            \n",
    "    y_pred_list = []\n",
    "    test_loader = DataLoader(dataset=test_data, batch_size=1)\n",
    "    with torch.no_grad():\n",
    "        for X_batch in test_loader:\n",
    "            X_batch = X_batch.to(device)\n",
    "            y_test_pred = model(X_batch)\n",
    "            y_test_pred = torch.sigmoid(y_test_pred)\n",
    "            y_pred_tag = torch.round(y_test_pred)\n",
    "            y_pred_list.append(y_pred_tag.cpu().numpy())\n",
    "            \n",
    "    y_pred_list = [a.squeeze().tolist() for a in y_pred_list]\n",
    "    y_loss_df = pd.DataFrame(y_pred_list)\n",
    "    accuracy = accuracy_score(torch.FloatTensor(testing_fold_Y_0), y_pred_list)\n",
    "    ppv = precision_score(testing_fold_Y_0, y_pred_list, average=None)\n",
    "    recall = recall_score(testing_fold_Y_0, y_pred_list, average=None)\n",
    "    print(\"Validation Accuracy | \",accuracy*100,\" PPV | \",ppv,\" Recall | \",recall)\n",
    "    val_acc.append(accuracy*100)\n",
    "    model.train()\n",
    "    #print(\"Return to training mode\")\n",
    "    \n",
    "    #Need to get validation loss."
   ]
  },
  {
   "cell_type": "code",
   "execution_count": 15,
   "id": "distant-edinburgh",
   "metadata": {},
   "outputs": [
    {
     "name": "stdout",
     "output_type": "stream",
     "text": [
      "Training Epoch 001: | Loss: 1.67265 | Acc: 50.100\n",
      "Validation Accuracy |  13.793103448275861  PPV |  [0.         0.13793103]  Recall |  [0. 1.]\n",
      "Training Epoch 002: | Loss: 1.38102 | Acc: 49.900\n",
      "Validation Accuracy |  13.793103448275861  PPV |  [0.         0.13793103]  Recall |  [0. 1.]\n",
      "Training Epoch 003: | Loss: 1.36054 | Acc: 50.200\n",
      "Validation Accuracy |  13.793103448275861  PPV |  [0.         0.13793103]  Recall |  [0. 1.]\n",
      "Training Epoch 004: | Loss: 1.34799 | Acc: 50.200\n",
      "Validation Accuracy |  13.793103448275861  PPV |  [0.         0.13793103]  Recall |  [0. 1.]\n",
      "Training Epoch 005: | Loss: 1.32897 | Acc: 50.100\n"
     ]
    },
    {
     "name": "stderr",
     "output_type": "stream",
     "text": [
      "C:\\Users\\mattbeze\\Anaconda3\\envs\\pytorch\\lib\\site-packages\\sklearn\\metrics\\_classification.py:1245: UndefinedMetricWarning: Precision is ill-defined and being set to 0.0 in labels with no predicted samples. Use `zero_division` parameter to control this behavior.\n",
      "  _warn_prf(average, modifier, msg_start, len(result))\n",
      "C:\\Users\\mattbeze\\Anaconda3\\envs\\pytorch\\lib\\site-packages\\sklearn\\metrics\\_classification.py:1245: UndefinedMetricWarning: Precision is ill-defined and being set to 0.0 in labels with no predicted samples. Use `zero_division` parameter to control this behavior.\n",
      "  _warn_prf(average, modifier, msg_start, len(result))\n",
      "C:\\Users\\mattbeze\\Anaconda3\\envs\\pytorch\\lib\\site-packages\\sklearn\\metrics\\_classification.py:1245: UndefinedMetricWarning: Precision is ill-defined and being set to 0.0 in labels with no predicted samples. Use `zero_division` parameter to control this behavior.\n",
      "  _warn_prf(average, modifier, msg_start, len(result))\n",
      "C:\\Users\\mattbeze\\Anaconda3\\envs\\pytorch\\lib\\site-packages\\sklearn\\metrics\\_classification.py:1245: UndefinedMetricWarning: Precision is ill-defined and being set to 0.0 in labels with no predicted samples. Use `zero_division` parameter to control this behavior.\n",
      "  _warn_prf(average, modifier, msg_start, len(result))\n",
      "C:\\Users\\mattbeze\\Anaconda3\\envs\\pytorch\\lib\\site-packages\\sklearn\\metrics\\_classification.py:1245: UndefinedMetricWarning: Precision is ill-defined and being set to 0.0 in labels with no predicted samples. Use `zero_division` parameter to control this behavior.\n",
      "  _warn_prf(average, modifier, msg_start, len(result))\n"
     ]
    },
    {
     "name": "stdout",
     "output_type": "stream",
     "text": [
      "Validation Accuracy |  13.793103448275861  PPV |  [0.         0.13793103]  Recall |  [0. 1.]\n",
      "Training Epoch 006: | Loss: 1.31823 | Acc: 49.800\n",
      "Validation Accuracy |  13.793103448275861  PPV |  [0.         0.13793103]  Recall |  [0. 1.]\n",
      "Training Epoch 007: | Loss: 1.29547 | Acc: 50.000\n",
      "Validation Accuracy |  13.793103448275861  PPV |  [0.         0.13793103]  Recall |  [0. 1.]\n",
      "Training Epoch 008: | Loss: 1.27782 | Acc: 50.000\n",
      "Validation Accuracy |  13.793103448275861  PPV |  [0.         0.13793103]  Recall |  [0. 1.]\n",
      "Training Epoch 009: | Loss: 1.25725 | Acc: 50.300\n",
      "Validation Accuracy |  13.793103448275861  PPV |  [0.         0.13793103]  Recall |  [0. 1.]\n",
      "Training Epoch 010: | Loss: 1.21127 | Acc: 49.900\n"
     ]
    },
    {
     "name": "stderr",
     "output_type": "stream",
     "text": [
      "C:\\Users\\mattbeze\\Anaconda3\\envs\\pytorch\\lib\\site-packages\\sklearn\\metrics\\_classification.py:1245: UndefinedMetricWarning: Precision is ill-defined and being set to 0.0 in labels with no predicted samples. Use `zero_division` parameter to control this behavior.\n",
      "  _warn_prf(average, modifier, msg_start, len(result))\n",
      "C:\\Users\\mattbeze\\Anaconda3\\envs\\pytorch\\lib\\site-packages\\sklearn\\metrics\\_classification.py:1245: UndefinedMetricWarning: Precision is ill-defined and being set to 0.0 in labels with no predicted samples. Use `zero_division` parameter to control this behavior.\n",
      "  _warn_prf(average, modifier, msg_start, len(result))\n",
      "C:\\Users\\mattbeze\\Anaconda3\\envs\\pytorch\\lib\\site-packages\\sklearn\\metrics\\_classification.py:1245: UndefinedMetricWarning: Precision is ill-defined and being set to 0.0 in labels with no predicted samples. Use `zero_division` parameter to control this behavior.\n",
      "  _warn_prf(average, modifier, msg_start, len(result))\n",
      "C:\\Users\\mattbeze\\Anaconda3\\envs\\pytorch\\lib\\site-packages\\sklearn\\metrics\\_classification.py:1245: UndefinedMetricWarning: Precision is ill-defined and being set to 0.0 in labels with no predicted samples. Use `zero_division` parameter to control this behavior.\n",
      "  _warn_prf(average, modifier, msg_start, len(result))\n"
     ]
    },
    {
     "name": "stdout",
     "output_type": "stream",
     "text": [
      "Validation Accuracy |  13.793103448275861  PPV |  [0.         0.13793103]  Recall |  [0. 1.]\n",
      "Training Epoch 011: | Loss: 1.16245 | Acc: 50.400\n",
      "Validation Accuracy |  13.793103448275861  PPV |  [0.         0.13793103]  Recall |  [0. 1.]\n",
      "Training Epoch 012: | Loss: 1.08603 | Acc: 50.600\n",
      "Validation Accuracy |  17.24137931034483  PPV |  [1.         0.14285714]  Recall |  [0.04 1.  ]\n",
      "Training Epoch 013: | Loss: 0.99403 | Acc: 53.500\n"
     ]
    },
    {
     "name": "stderr",
     "output_type": "stream",
     "text": [
      "C:\\Users\\mattbeze\\Anaconda3\\envs\\pytorch\\lib\\site-packages\\sklearn\\metrics\\_classification.py:1245: UndefinedMetricWarning: Precision is ill-defined and being set to 0.0 in labels with no predicted samples. Use `zero_division` parameter to control this behavior.\n",
      "  _warn_prf(average, modifier, msg_start, len(result))\n",
      "C:\\Users\\mattbeze\\Anaconda3\\envs\\pytorch\\lib\\site-packages\\sklearn\\metrics\\_classification.py:1245: UndefinedMetricWarning: Precision is ill-defined and being set to 0.0 in labels with no predicted samples. Use `zero_division` parameter to control this behavior.\n",
      "  _warn_prf(average, modifier, msg_start, len(result))\n"
     ]
    },
    {
     "name": "stdout",
     "output_type": "stream",
     "text": [
      "Validation Accuracy |  20.689655172413794  PPV |  [1.         0.14814815]  Recall |  [0.08 1.  ]\n",
      "Training Epoch 014: | Loss: 0.86300 | Acc: 60.900\n",
      "Validation Accuracy |  31.03448275862069  PPV |  [0.85714286 0.13636364]  Recall |  [0.24 0.75]\n",
      "Training Epoch 015: | Loss: 0.75290 | Acc: 69.200\n",
      "Validation Accuracy |  41.37931034482759  PPV |  [0.78571429 0.06666667]  Recall |  [0.44 0.25]\n",
      "Training Epoch 016: | Loss: 0.62735 | Acc: 75.700\n",
      "Validation Accuracy |  41.37931034482759  PPV |  [0.78571429 0.06666667]  Recall |  [0.44 0.25]\n",
      "Training Epoch 017: | Loss: 0.53856 | Acc: 85.400\n",
      "Validation Accuracy |  41.37931034482759  PPV |  [0.78571429 0.06666667]  Recall |  [0.44 0.25]\n",
      "Training Epoch 018: | Loss: 0.45645 | Acc: 84.200\n",
      "Validation Accuracy |  55.172413793103445  PPV |  [0.83333333 0.09090909]  Recall |  [0.6  0.25]\n",
      "Training Epoch 019: | Loss: 0.36500 | Acc: 91.600\n",
      "Validation Accuracy |  62.06896551724138  PPV |  [0.85       0.11111111]  Recall |  [0.68 0.25]\n",
      "Training Epoch 020: | Loss: 0.30683 | Acc: 91.200\n",
      "Validation Accuracy |  62.06896551724138  PPV |  [0.81818182 0.        ]  Recall |  [0.72 0.  ]\n",
      "Training Epoch 021: | Loss: 0.24127 | Acc: 95.300\n",
      "Validation Accuracy |  75.86206896551724  PPV |  [0.84615385 0.        ]  Recall |  [0.88 0.  ]\n",
      "Training Epoch 022: | Loss: 0.21424 | Acc: 94.700\n",
      "Validation Accuracy |  75.86206896551724  PPV |  [0.84615385 0.        ]  Recall |  [0.88 0.  ]\n",
      "Training Epoch 023: | Loss: 0.17917 | Acc: 95.700\n",
      "Validation Accuracy |  68.96551724137932  PPV |  [0.83333333 0.        ]  Recall |  [0.8 0. ]\n",
      "Training Epoch 024: | Loss: 0.13764 | Acc: 97.600\n",
      "Validation Accuracy |  62.06896551724138  PPV |  [0.81818182 0.        ]  Recall |  [0.72 0.  ]\n",
      "Training Epoch 025: | Loss: 0.12064 | Acc: 98.500\n",
      "Validation Accuracy |  65.51724137931035  PPV |  [0.85714286 0.125     ]  Recall |  [0.72 0.25]\n",
      "Training Epoch 026: | Loss: 0.09380 | Acc: 99.100\n",
      "Validation Accuracy |  65.51724137931035  PPV |  [0.82608696 0.        ]  Recall |  [0.76 0.  ]\n",
      "Training Epoch 027: | Loss: 0.08507 | Acc: 99.100\n",
      "Validation Accuracy |  82.75862068965517  PPV |  [0.85714286 0.        ]  Recall |  [0.96 0.  ]\n",
      "Training Epoch 028: | Loss: 0.08905 | Acc: 98.800\n",
      "Validation Accuracy |  82.75862068965517  PPV |  [0.85714286 0.        ]  Recall |  [0.96 0.  ]\n",
      "Training Epoch 029: | Loss: 0.07978 | Acc: 98.800\n",
      "Validation Accuracy |  82.75862068965517  PPV |  [0.85714286 0.        ]  Recall |  [0.96 0.  ]\n",
      "Training Epoch 030: | Loss: 0.06958 | Acc: 98.500\n",
      "Validation Accuracy |  82.75862068965517  PPV |  [0.85714286 0.        ]  Recall |  [0.96 0.  ]\n",
      "Training Epoch 031: | Loss: 0.05631 | Acc: 100.000\n",
      "Validation Accuracy |  72.41379310344827  PPV |  [0.84 0.  ]  Recall |  [0.84 0.  ]\n",
      "Training Epoch 032: | Loss: 0.04992 | Acc: 100.000\n",
      "Validation Accuracy |  68.96551724137932  PPV |  [0.83333333 0.        ]  Recall |  [0.8 0. ]\n",
      "Training Epoch 033: | Loss: 0.04907 | Acc: 99.100\n",
      "Validation Accuracy |  82.75862068965517  PPV |  [0.85714286 0.        ]  Recall |  [0.96 0.  ]\n",
      "Training Epoch 034: | Loss: 0.04589 | Acc: 99.700\n",
      "Validation Accuracy |  79.3103448275862  PPV |  [0.85185185 0.        ]  Recall |  [0.92 0.  ]\n",
      "Training Epoch 035: | Loss: 0.03337 | Acc: 100.000\n",
      "Validation Accuracy |  72.41379310344827  PPV |  [0.84 0.  ]  Recall |  [0.84 0.  ]\n"
     ]
    }
   ],
   "source": [
    "#model.train() tells PyTorch that you’re in training mode.\n",
    "#Similarly, we’ll call model.eval() when we test our model. We’ll see that below.\n",
    "'''If you’re using layers such as Dropout or BatchNorm which behave differently during training and evaluation, \n",
    "you need to tell PyTorch to act accordingly. While the default mode in PyTorch is the train, \n",
    "so, you don’t explicitly have to write that. But it’s good practice.'''\n",
    "val_acc1 = []\n",
    "train_acc1 = []\n",
    "train_loss1 = []\n",
    "val_loss1 = []\n",
    "\n",
    "model1.train() #Initial training mode\n",
    "for e in range(1, EPOCHS+1):\n",
    "    epoch_loss = 0\n",
    "    epoch_acc = 0\n",
    "    for X_batch, y_batch in train_loader1:\n",
    "        X_batch, y_batch = X_batch.to(device), y_batch.to(device)\n",
    "        optimizer1.zero_grad()\n",
    "        \n",
    "        y_pred = model1(X_batch)\n",
    "        \n",
    "        loss = criterion(y_pred, y_batch)\n",
    "        acc = binary_acc(y_pred, y_batch)\n",
    "        \n",
    "        loss.backward()\n",
    "        optimizer1.step()\n",
    "        \n",
    "        epoch_loss += loss.item()\n",
    "        epoch_acc += acc.item()\n",
    "    \n",
    "    train_acc1.append(epoch_acc/len(train_loader1))\n",
    "    train_loss1.append(epoch_loss/len(train_loader1))\n",
    "    print(f'Training Epoch {e+0:03}: | Loss: {epoch_loss/len(train_loader1):.5f} | Acc: {epoch_acc/len(train_loader1):.3f}')\n",
    "    #Validation metrics here\n",
    "    model1.eval()\n",
    "    #print(\"Evaluation mode\")\n",
    "    y_pred_list = []\n",
    "    test_loader1 = DataLoader(dataset=test_data1, batch_size=test_size)\n",
    "    with torch.no_grad():\n",
    "        counter = 0\n",
    "        for X_batch in test_loader1:\n",
    "            X_batch = X_batch.to(device)\n",
    "            y_test_pred = model1(X_batch)\n",
    "            y_test_pred = torch.sigmoid(y_test_pred)\n",
    "            y_pred_tag = torch.round(y_test_pred)\n",
    "            y_pred_list.append(y_pred_tag.cpu().numpy())\n",
    "            loss = criterion(y_test_pred,torch.FloatTensor(testing_fold_Y_1))\n",
    "            val_loss1.append(loss)\n",
    "            counter+=1\n",
    "            \n",
    "    y_pred_list = []\n",
    "    test_loader = DataLoader(dataset=test_data1, batch_size=1)\n",
    "    with torch.no_grad():\n",
    "        for X_batch in test_loader:\n",
    "            X_batch = X_batch.to(device)\n",
    "            y_test_pred = model1(X_batch)\n",
    "            y_test_pred = torch.sigmoid(y_test_pred)\n",
    "            y_pred_tag = torch.round(y_test_pred)\n",
    "            y_pred_list.append(y_pred_tag.cpu().numpy())\n",
    "            \n",
    "    y_pred_list = [a.squeeze().tolist() for a in y_pred_list]\n",
    "    y_loss_df = pd.DataFrame(y_pred_list)\n",
    "    accuracy = accuracy_score(torch.FloatTensor(testing_fold_Y_1), y_pred_list)\n",
    "    ppv = precision_score(testing_fold_Y_1, y_pred_list, average=None)\n",
    "    recall = recall_score(testing_fold_Y_1, y_pred_list, average=None)\n",
    "    print(\"Validation Accuracy | \",accuracy*100,\" PPV | \",ppv,\" Recall | \",recall)\n",
    "    val_acc1.append(accuracy*100)\n",
    "    model1.train()\n",
    "    #print(\"Return to training mode\")\n",
    "    \n",
    "    #Need to get validation loss."
   ]
  },
  {
   "cell_type": "code",
   "execution_count": 16,
   "id": "abroad-accreditation",
   "metadata": {},
   "outputs": [
    {
     "name": "stdout",
     "output_type": "stream",
     "text": [
      "Training Epoch 001: | Loss: 1.77201 | Acc: 49.300\n",
      "Validation Accuracy |  10.714285714285714  PPV |  [0.         0.10714286]  Recall |  [0. 1.]\n",
      "Training Epoch 002: | Loss: 1.48621 | Acc: 50.000\n",
      "Validation Accuracy |  10.714285714285714  PPV |  [0.         0.10714286]  Recall |  [0. 1.]\n",
      "Training Epoch 003: | Loss: 1.37003 | Acc: 50.100\n",
      "Validation Accuracy |  10.714285714285714  PPV |  [0.         0.10714286]  Recall |  [0. 1.]\n",
      "Training Epoch 004: | Loss: 1.35193 | Acc: 50.100\n"
     ]
    },
    {
     "name": "stderr",
     "output_type": "stream",
     "text": [
      "C:\\Users\\mattbeze\\Anaconda3\\envs\\pytorch\\lib\\site-packages\\sklearn\\metrics\\_classification.py:1245: UndefinedMetricWarning: Precision is ill-defined and being set to 0.0 in labels with no predicted samples. Use `zero_division` parameter to control this behavior.\n",
      "  _warn_prf(average, modifier, msg_start, len(result))\n",
      "C:\\Users\\mattbeze\\Anaconda3\\envs\\pytorch\\lib\\site-packages\\sklearn\\metrics\\_classification.py:1245: UndefinedMetricWarning: Precision is ill-defined and being set to 0.0 in labels with no predicted samples. Use `zero_division` parameter to control this behavior.\n",
      "  _warn_prf(average, modifier, msg_start, len(result))\n",
      "C:\\Users\\mattbeze\\Anaconda3\\envs\\pytorch\\lib\\site-packages\\sklearn\\metrics\\_classification.py:1245: UndefinedMetricWarning: Precision is ill-defined and being set to 0.0 in labels with no predicted samples. Use `zero_division` parameter to control this behavior.\n",
      "  _warn_prf(average, modifier, msg_start, len(result))\n",
      "C:\\Users\\mattbeze\\Anaconda3\\envs\\pytorch\\lib\\site-packages\\sklearn\\metrics\\_classification.py:1245: UndefinedMetricWarning: Precision is ill-defined and being set to 0.0 in labels with no predicted samples. Use `zero_division` parameter to control this behavior.\n",
      "  _warn_prf(average, modifier, msg_start, len(result))\n"
     ]
    },
    {
     "name": "stdout",
     "output_type": "stream",
     "text": [
      "Validation Accuracy |  10.714285714285714  PPV |  [0.         0.10714286]  Recall |  [0. 1.]\n",
      "Training Epoch 005: | Loss: 1.36892 | Acc: 50.000\n",
      "Validation Accuracy |  10.714285714285714  PPV |  [0.         0.10714286]  Recall |  [0. 1.]\n",
      "Training Epoch 006: | Loss: 1.34351 | Acc: 50.000\n",
      "Validation Accuracy |  10.714285714285714  PPV |  [0.         0.10714286]  Recall |  [0. 1.]\n",
      "Training Epoch 007: | Loss: 1.34522 | Acc: 50.000\n",
      "Validation Accuracy |  10.714285714285714  PPV |  [0.         0.10714286]  Recall |  [0. 1.]\n"
     ]
    },
    {
     "name": "stderr",
     "output_type": "stream",
     "text": [
      "C:\\Users\\mattbeze\\Anaconda3\\envs\\pytorch\\lib\\site-packages\\sklearn\\metrics\\_classification.py:1245: UndefinedMetricWarning: Precision is ill-defined and being set to 0.0 in labels with no predicted samples. Use `zero_division` parameter to control this behavior.\n",
      "  _warn_prf(average, modifier, msg_start, len(result))\n",
      "C:\\Users\\mattbeze\\Anaconda3\\envs\\pytorch\\lib\\site-packages\\sklearn\\metrics\\_classification.py:1245: UndefinedMetricWarning: Precision is ill-defined and being set to 0.0 in labels with no predicted samples. Use `zero_division` parameter to control this behavior.\n",
      "  _warn_prf(average, modifier, msg_start, len(result))\n",
      "C:\\Users\\mattbeze\\Anaconda3\\envs\\pytorch\\lib\\site-packages\\sklearn\\metrics\\_classification.py:1245: UndefinedMetricWarning: Precision is ill-defined and being set to 0.0 in labels with no predicted samples. Use `zero_division` parameter to control this behavior.\n",
      "  _warn_prf(average, modifier, msg_start, len(result))\n"
     ]
    },
    {
     "name": "stdout",
     "output_type": "stream",
     "text": [
      "Training Epoch 008: | Loss: 1.32004 | Acc: 50.100\n",
      "Validation Accuracy |  10.714285714285714  PPV |  [0.         0.10714286]  Recall |  [0. 1.]\n",
      "Training Epoch 009: | Loss: 1.31696 | Acc: 50.000\n",
      "Validation Accuracy |  10.714285714285714  PPV |  [0.         0.10714286]  Recall |  [0. 1.]\n",
      "Training Epoch 010: | Loss: 1.30128 | Acc: 49.800\n",
      "Validation Accuracy |  10.714285714285714  PPV |  [0.         0.10714286]  Recall |  [0. 1.]\n",
      "Training Epoch 011: | Loss: 1.28448 | Acc: 50.000\n",
      "Validation Accuracy |  10.714285714285714  PPV |  [0.         0.10714286]  Recall |  [0. 1.]\n",
      "Training Epoch 012: | Loss: 1.26892 | Acc: 50.200\n"
     ]
    },
    {
     "name": "stderr",
     "output_type": "stream",
     "text": [
      "C:\\Users\\mattbeze\\Anaconda3\\envs\\pytorch\\lib\\site-packages\\sklearn\\metrics\\_classification.py:1245: UndefinedMetricWarning: Precision is ill-defined and being set to 0.0 in labels with no predicted samples. Use `zero_division` parameter to control this behavior.\n",
      "  _warn_prf(average, modifier, msg_start, len(result))\n",
      "C:\\Users\\mattbeze\\Anaconda3\\envs\\pytorch\\lib\\site-packages\\sklearn\\metrics\\_classification.py:1245: UndefinedMetricWarning: Precision is ill-defined and being set to 0.0 in labels with no predicted samples. Use `zero_division` parameter to control this behavior.\n",
      "  _warn_prf(average, modifier, msg_start, len(result))\n",
      "C:\\Users\\mattbeze\\Anaconda3\\envs\\pytorch\\lib\\site-packages\\sklearn\\metrics\\_classification.py:1245: UndefinedMetricWarning: Precision is ill-defined and being set to 0.0 in labels with no predicted samples. Use `zero_division` parameter to control this behavior.\n",
      "  _warn_prf(average, modifier, msg_start, len(result))\n",
      "C:\\Users\\mattbeze\\Anaconda3\\envs\\pytorch\\lib\\site-packages\\sklearn\\metrics\\_classification.py:1245: UndefinedMetricWarning: Precision is ill-defined and being set to 0.0 in labels with no predicted samples. Use `zero_division` parameter to control this behavior.\n",
      "  _warn_prf(average, modifier, msg_start, len(result))\n",
      "C:\\Users\\mattbeze\\Anaconda3\\envs\\pytorch\\lib\\site-packages\\sklearn\\metrics\\_classification.py:1245: UndefinedMetricWarning: Precision is ill-defined and being set to 0.0 in labels with no predicted samples. Use `zero_division` parameter to control this behavior.\n",
      "  _warn_prf(average, modifier, msg_start, len(result))\n"
     ]
    },
    {
     "name": "stdout",
     "output_type": "stream",
     "text": [
      "Validation Accuracy |  10.714285714285714  PPV |  [0.         0.10714286]  Recall |  [0. 1.]\n",
      "Training Epoch 013: | Loss: 1.26229 | Acc: 50.200\n",
      "Validation Accuracy |  10.714285714285714  PPV |  [0.         0.10714286]  Recall |  [0. 1.]\n",
      "Training Epoch 014: | Loss: 1.22135 | Acc: 50.200\n",
      "Validation Accuracy |  10.714285714285714  PPV |  [0.         0.10714286]  Recall |  [0. 1.]\n",
      "Training Epoch 015: | Loss: 1.16474 | Acc: 50.400\n",
      "Validation Accuracy |  10.714285714285714  PPV |  [0.         0.10714286]  Recall |  [0. 1.]\n",
      "Training Epoch 016: | Loss: 1.13370 | Acc: 50.200\n"
     ]
    },
    {
     "name": "stderr",
     "output_type": "stream",
     "text": [
      "C:\\Users\\mattbeze\\Anaconda3\\envs\\pytorch\\lib\\site-packages\\sklearn\\metrics\\_classification.py:1245: UndefinedMetricWarning: Precision is ill-defined and being set to 0.0 in labels with no predicted samples. Use `zero_division` parameter to control this behavior.\n",
      "  _warn_prf(average, modifier, msg_start, len(result))\n",
      "C:\\Users\\mattbeze\\Anaconda3\\envs\\pytorch\\lib\\site-packages\\sklearn\\metrics\\_classification.py:1245: UndefinedMetricWarning: Precision is ill-defined and being set to 0.0 in labels with no predicted samples. Use `zero_division` parameter to control this behavior.\n",
      "  _warn_prf(average, modifier, msg_start, len(result))\n",
      "C:\\Users\\mattbeze\\Anaconda3\\envs\\pytorch\\lib\\site-packages\\sklearn\\metrics\\_classification.py:1245: UndefinedMetricWarning: Precision is ill-defined and being set to 0.0 in labels with no predicted samples. Use `zero_division` parameter to control this behavior.\n",
      "  _warn_prf(average, modifier, msg_start, len(result))\n",
      "C:\\Users\\mattbeze\\Anaconda3\\envs\\pytorch\\lib\\site-packages\\sklearn\\metrics\\_classification.py:1245: UndefinedMetricWarning: Precision is ill-defined and being set to 0.0 in labels with no predicted samples. Use `zero_division` parameter to control this behavior.\n",
      "  _warn_prf(average, modifier, msg_start, len(result))\n",
      "C:\\Users\\mattbeze\\Anaconda3\\envs\\pytorch\\lib\\site-packages\\sklearn\\metrics\\_classification.py:1245: UndefinedMetricWarning: Precision is ill-defined and being set to 0.0 in labels with no predicted samples. Use `zero_division` parameter to control this behavior.\n",
      "  _warn_prf(average, modifier, msg_start, len(result))\n"
     ]
    },
    {
     "name": "stdout",
     "output_type": "stream",
     "text": [
      "Validation Accuracy |  10.714285714285714  PPV |  [0.         0.10714286]  Recall |  [0. 1.]\n",
      "Training Epoch 017: | Loss: 1.08530 | Acc: 51.500\n",
      "Validation Accuracy |  10.714285714285714  PPV |  [0.         0.10714286]  Recall |  [0. 1.]\n",
      "Training Epoch 018: | Loss: 1.03685 | Acc: 51.100\n",
      "Validation Accuracy |  14.285714285714285  PPV |  [1.         0.11111111]  Recall |  [0.04 1.  ]\n",
      "Training Epoch 019: | Loss: 0.93301 | Acc: 54.800\n",
      "Validation Accuracy |  35.714285714285715  PPV |  [1.         0.14285714]  Recall |  [0.28 1.  ]\n",
      "Training Epoch 020: | Loss: 0.85551 | Acc: 64.200\n",
      "Validation Accuracy |  35.714285714285715  PPV |  [1.         0.14285714]  Recall |  [0.28 1.  ]\n",
      "Training Epoch 021: | Loss: 0.74748 | Acc: 69.900\n",
      "Validation Accuracy |  39.285714285714285  PPV |  [1.   0.15]  Recall |  [0.32 1.  ]\n",
      "Training Epoch 022: | Loss: 0.65646 | Acc: 76.300\n",
      "Validation Accuracy |  46.42857142857143  PPV |  [1.         0.16666667]  Recall |  [0.4 1. ]\n",
      "Training Epoch 023: | Loss: 0.59148 | Acc: 81.100\n",
      "Validation Accuracy |  53.57142857142857  PPV |  [1.     0.1875]  Recall |  [0.48 1.  ]\n",
      "Training Epoch 024: | Loss: 0.48730 | Acc: 86.300\n",
      "Validation Accuracy |  57.14285714285714  PPV |  [0.93333333 0.15384615]  Recall |  [0.56       0.66666667]\n",
      "Training Epoch 025: | Loss: 0.41408 | Acc: 88.400\n",
      "Validation Accuracy |  60.71428571428571  PPV |  [0.9375     0.16666667]  Recall |  [0.6        0.66666667]\n",
      "Training Epoch 026: | Loss: 0.35868 | Acc: 91.200\n",
      "Validation Accuracy |  60.71428571428571  PPV |  [0.9375     0.16666667]  Recall |  [0.6        0.66666667]\n",
      "Training Epoch 027: | Loss: 0.27747 | Acc: 93.300\n",
      "Validation Accuracy |  57.14285714285714  PPV |  [0.88235294 0.09090909]  Recall |  [0.6        0.33333333]\n",
      "Training Epoch 028: | Loss: 0.26272 | Acc: 92.900\n",
      "Validation Accuracy |  60.71428571428571  PPV |  [0.88888889 0.1       ]  Recall |  [0.64       0.33333333]\n",
      "Training Epoch 029: | Loss: 0.22476 | Acc: 94.300\n",
      "Validation Accuracy |  60.71428571428571  PPV |  [0.88888889 0.1       ]  Recall |  [0.64       0.33333333]\n",
      "Training Epoch 030: | Loss: 0.22599 | Acc: 94.400\n",
      "Validation Accuracy |  60.71428571428571  PPV |  [0.88888889 0.1       ]  Recall |  [0.64       0.33333333]\n",
      "Training Epoch 031: | Loss: 0.17327 | Acc: 95.900\n",
      "Validation Accuracy |  60.71428571428571  PPV |  [0.88888889 0.1       ]  Recall |  [0.64       0.33333333]\n",
      "Training Epoch 032: | Loss: 0.15535 | Acc: 97.000\n",
      "Validation Accuracy |  60.71428571428571  PPV |  [0.88888889 0.1       ]  Recall |  [0.64       0.33333333]\n",
      "Training Epoch 033: | Loss: 0.15030 | Acc: 96.500\n",
      "Validation Accuracy |  60.71428571428571  PPV |  [0.88888889 0.1       ]  Recall |  [0.64       0.33333333]\n",
      "Training Epoch 034: | Loss: 0.13632 | Acc: 96.200\n",
      "Validation Accuracy |  60.71428571428571  PPV |  [0.88888889 0.1       ]  Recall |  [0.64       0.33333333]\n",
      "Training Epoch 035: | Loss: 0.11909 | Acc: 97.300\n",
      "Validation Accuracy |  67.85714285714286  PPV |  [0.9   0.125]  Recall |  [0.72       0.33333333]\n"
     ]
    }
   ],
   "source": [
    "#model.train() tells PyTorch that you’re in training mode.\n",
    "#Similarly, we’ll call model.eval() when we test our model. We’ll see that below.\n",
    "'''If you’re using layers such as Dropout or BatchNorm which behave differently during training and evaluation, \n",
    "you need to tell PyTorch to act accordingly. While the default mode in PyTorch is the train, \n",
    "so, you don’t explicitly have to write that. But it’s good practice.'''\n",
    "val_acc2 = []\n",
    "train_acc2 = []\n",
    "train_loss2 = []\n",
    "val_loss2 = []\n",
    "\n",
    "model2.train() #Initial training mode\n",
    "for e in range(1, EPOCHS+1):\n",
    "    epoch_loss = 0\n",
    "    epoch_acc = 0\n",
    "    for X_batch, y_batch in train_loader2:\n",
    "        X_batch, y_batch = X_batch.to(device), y_batch.to(device)\n",
    "        optimizer2.zero_grad()\n",
    "        \n",
    "        y_pred = model2(X_batch)\n",
    "        \n",
    "        loss = criterion(y_pred, y_batch)\n",
    "        acc = binary_acc(y_pred, y_batch)\n",
    "        \n",
    "        loss.backward()\n",
    "        optimizer2.step()\n",
    "        \n",
    "        epoch_loss += loss.item()\n",
    "        epoch_acc += acc.item()\n",
    "    \n",
    "    train_acc2.append(epoch_acc/len(train_loader2))\n",
    "    train_loss2.append(epoch_loss/len(train_loader2))\n",
    "    print(f'Training Epoch {e+0:03}: | Loss: {epoch_loss/len(train_loader2):.5f} | Acc: {epoch_acc/len(train_loader2):.3f}')\n",
    "    #Validation metrics here\n",
    "    model2.eval()\n",
    "    #print(\"Evaluation mode\")\n",
    "    y_pred_list = []\n",
    "    test_loader2 = DataLoader(dataset=test_data2, batch_size=test_size1)\n",
    "    with torch.no_grad():\n",
    "        counter = 0\n",
    "        for X_batch in test_loader2:\n",
    "            X_batch = X_batch.to(device)\n",
    "            y_test_pred = model2(X_batch)\n",
    "            y_test_pred = torch.sigmoid(y_test_pred)\n",
    "            y_pred_tag = torch.round(y_test_pred)\n",
    "            y_pred_list.append(y_pred_tag.cpu().numpy())\n",
    "            loss = criterion(y_test_pred,torch.FloatTensor(testing_fold_Y_2))\n",
    "            val_loss2.append(loss)\n",
    "            counter+=1\n",
    "            \n",
    "    y_pred_list = []\n",
    "    test_loader2 = DataLoader(dataset=test_data2, batch_size=1)\n",
    "    with torch.no_grad():\n",
    "        for X_batch in test_loader2:\n",
    "            X_batch = X_batch.to(device)\n",
    "            y_test_pred = model2(X_batch)\n",
    "            y_test_pred = torch.sigmoid(y_test_pred)\n",
    "            y_pred_tag = torch.round(y_test_pred)\n",
    "            y_pred_list.append(y_pred_tag.cpu().numpy())\n",
    "            \n",
    "    y_pred_list = [a.squeeze().tolist() for a in y_pred_list]\n",
    "    y_loss_df = pd.DataFrame(y_pred_list)\n",
    "    accuracy = accuracy_score(torch.FloatTensor(testing_fold_Y_2), y_pred_list)\n",
    "    ppv = precision_score(testing_fold_Y_2, y_pred_list, average=None)\n",
    "    recall = recall_score(testing_fold_Y_2, y_pred_list, average=None)\n",
    "    print(\"Validation Accuracy | \",accuracy*100,\" PPV | \",ppv,\" Recall | \",recall)\n",
    "    val_acc2.append(accuracy*100)\n",
    "    model2.train()\n",
    "    #print(\"Return to training mode\")\n",
    "    \n",
    "    #Need to get validation loss."
   ]
  },
  {
   "cell_type": "code",
   "execution_count": 17,
   "id": "responsible-archive",
   "metadata": {},
   "outputs": [
    {
     "name": "stdout",
     "output_type": "stream",
     "text": [
      "Training Epoch 001: | Loss: 1.92909 | Acc: 47.600\n",
      "Validation Accuracy |  10.714285714285714  PPV |  [0.         0.10714286]  Recall |  [0. 1.]\n",
      "Training Epoch 002: | Loss: 1.42753 | Acc: 50.000\n",
      "Validation Accuracy |  10.714285714285714  PPV |  [0.         0.10714286]  Recall |  [0. 1.]\n",
      "Training Epoch 003: | Loss: 1.38924 | Acc: 50.200\n",
      "Validation Accuracy |  10.714285714285714  PPV |  [0.         0.10714286]  Recall |  [0. 1.]\n",
      "Training Epoch 004: | Loss: 1.35848 | Acc: 49.900\n",
      "Validation Accuracy |  10.714285714285714  PPV |  [0.         0.10714286]  Recall |  [0. 1.]\n",
      "Training Epoch 005: | Loss: 1.34359 | Acc: 49.900\n"
     ]
    },
    {
     "name": "stderr",
     "output_type": "stream",
     "text": [
      "C:\\Users\\mattbeze\\Anaconda3\\envs\\pytorch\\lib\\site-packages\\sklearn\\metrics\\_classification.py:1245: UndefinedMetricWarning: Precision is ill-defined and being set to 0.0 in labels with no predicted samples. Use `zero_division` parameter to control this behavior.\n",
      "  _warn_prf(average, modifier, msg_start, len(result))\n",
      "C:\\Users\\mattbeze\\Anaconda3\\envs\\pytorch\\lib\\site-packages\\sklearn\\metrics\\_classification.py:1245: UndefinedMetricWarning: Precision is ill-defined and being set to 0.0 in labels with no predicted samples. Use `zero_division` parameter to control this behavior.\n",
      "  _warn_prf(average, modifier, msg_start, len(result))\n",
      "C:\\Users\\mattbeze\\Anaconda3\\envs\\pytorch\\lib\\site-packages\\sklearn\\metrics\\_classification.py:1245: UndefinedMetricWarning: Precision is ill-defined and being set to 0.0 in labels with no predicted samples. Use `zero_division` parameter to control this behavior.\n",
      "  _warn_prf(average, modifier, msg_start, len(result))\n",
      "C:\\Users\\mattbeze\\Anaconda3\\envs\\pytorch\\lib\\site-packages\\sklearn\\metrics\\_classification.py:1245: UndefinedMetricWarning: Precision is ill-defined and being set to 0.0 in labels with no predicted samples. Use `zero_division` parameter to control this behavior.\n",
      "  _warn_prf(average, modifier, msg_start, len(result))\n",
      "C:\\Users\\mattbeze\\Anaconda3\\envs\\pytorch\\lib\\site-packages\\sklearn\\metrics\\_classification.py:1245: UndefinedMetricWarning: Precision is ill-defined and being set to 0.0 in labels with no predicted samples. Use `zero_division` parameter to control this behavior.\n",
      "  _warn_prf(average, modifier, msg_start, len(result))\n"
     ]
    },
    {
     "name": "stdout",
     "output_type": "stream",
     "text": [
      "Validation Accuracy |  10.714285714285714  PPV |  [0.         0.10714286]  Recall |  [0. 1.]\n",
      "Training Epoch 006: | Loss: 1.33462 | Acc: 49.800\n",
      "Validation Accuracy |  10.714285714285714  PPV |  [0.         0.10714286]  Recall |  [0. 1.]\n",
      "Training Epoch 007: | Loss: 1.31870 | Acc: 49.700\n",
      "Validation Accuracy |  10.714285714285714  PPV |  [0.         0.10714286]  Recall |  [0. 1.]\n",
      "Training Epoch 008: | Loss: 1.30843 | Acc: 50.000\n",
      "Validation Accuracy |  10.714285714285714  PPV |  [0.         0.10714286]  Recall |  [0. 1.]\n",
      "Training Epoch 009: | Loss: 1.29458 | Acc: 50.100\n"
     ]
    },
    {
     "name": "stderr",
     "output_type": "stream",
     "text": [
      "C:\\Users\\mattbeze\\Anaconda3\\envs\\pytorch\\lib\\site-packages\\sklearn\\metrics\\_classification.py:1245: UndefinedMetricWarning: Precision is ill-defined and being set to 0.0 in labels with no predicted samples. Use `zero_division` parameter to control this behavior.\n",
      "  _warn_prf(average, modifier, msg_start, len(result))\n",
      "C:\\Users\\mattbeze\\Anaconda3\\envs\\pytorch\\lib\\site-packages\\sklearn\\metrics\\_classification.py:1245: UndefinedMetricWarning: Precision is ill-defined and being set to 0.0 in labels with no predicted samples. Use `zero_division` parameter to control this behavior.\n",
      "  _warn_prf(average, modifier, msg_start, len(result))\n",
      "C:\\Users\\mattbeze\\Anaconda3\\envs\\pytorch\\lib\\site-packages\\sklearn\\metrics\\_classification.py:1245: UndefinedMetricWarning: Precision is ill-defined and being set to 0.0 in labels with no predicted samples. Use `zero_division` parameter to control this behavior.\n",
      "  _warn_prf(average, modifier, msg_start, len(result))\n",
      "C:\\Users\\mattbeze\\Anaconda3\\envs\\pytorch\\lib\\site-packages\\sklearn\\metrics\\_classification.py:1245: UndefinedMetricWarning: Precision is ill-defined and being set to 0.0 in labels with no predicted samples. Use `zero_division` parameter to control this behavior.\n",
      "  _warn_prf(average, modifier, msg_start, len(result))\n"
     ]
    },
    {
     "name": "stdout",
     "output_type": "stream",
     "text": [
      "Validation Accuracy |  10.714285714285714  PPV |  [0.         0.10714286]  Recall |  [0. 1.]\n",
      "Training Epoch 010: | Loss: 1.26765 | Acc: 49.700\n",
      "Validation Accuracy |  10.714285714285714  PPV |  [0.         0.10714286]  Recall |  [0. 1.]\n",
      "Training Epoch 011: | Loss: 1.24394 | Acc: 49.900\n",
      "Validation Accuracy |  10.714285714285714  PPV |  [0.         0.10714286]  Recall |  [0. 1.]\n",
      "Training Epoch 012: | Loss: 1.24035 | Acc: 49.900\n"
     ]
    },
    {
     "name": "stderr",
     "output_type": "stream",
     "text": [
      "C:\\Users\\mattbeze\\Anaconda3\\envs\\pytorch\\lib\\site-packages\\sklearn\\metrics\\_classification.py:1245: UndefinedMetricWarning: Precision is ill-defined and being set to 0.0 in labels with no predicted samples. Use `zero_division` parameter to control this behavior.\n",
      "  _warn_prf(average, modifier, msg_start, len(result))\n",
      "C:\\Users\\mattbeze\\Anaconda3\\envs\\pytorch\\lib\\site-packages\\sklearn\\metrics\\_classification.py:1245: UndefinedMetricWarning: Precision is ill-defined and being set to 0.0 in labels with no predicted samples. Use `zero_division` parameter to control this behavior.\n",
      "  _warn_prf(average, modifier, msg_start, len(result))\n",
      "C:\\Users\\mattbeze\\Anaconda3\\envs\\pytorch\\lib\\site-packages\\sklearn\\metrics\\_classification.py:1245: UndefinedMetricWarning: Precision is ill-defined and being set to 0.0 in labels with no predicted samples. Use `zero_division` parameter to control this behavior.\n",
      "  _warn_prf(average, modifier, msg_start, len(result))\n"
     ]
    },
    {
     "name": "stdout",
     "output_type": "stream",
     "text": [
      "Validation Accuracy |  10.714285714285714  PPV |  [0.         0.10714286]  Recall |  [0. 1.]\n",
      "Training Epoch 013: | Loss: 1.22181 | Acc: 50.100\n",
      "Validation Accuracy |  14.285714285714285  PPV |  [1.         0.11111111]  Recall |  [0.04 1.  ]\n",
      "Training Epoch 014: | Loss: 1.17297 | Acc: 50.000\n",
      "Validation Accuracy |  14.285714285714285  PPV |  [1.         0.11111111]  Recall |  [0.04 1.  ]\n",
      "Training Epoch 015: | Loss: 1.13833 | Acc: 50.100\n",
      "Validation Accuracy |  14.285714285714285  PPV |  [1.         0.11111111]  Recall |  [0.04 1.  ]\n",
      "Training Epoch 016: | Loss: 1.10138 | Acc: 50.600\n",
      "Validation Accuracy |  14.285714285714285  PPV |  [1.         0.11111111]  Recall |  [0.04 1.  ]\n",
      "Training Epoch 017: | Loss: 1.04461 | Acc: 51.800\n",
      "Validation Accuracy |  17.857142857142858  PPV |  [1.         0.11538462]  Recall |  [0.08 1.  ]\n",
      "Training Epoch 018: | Loss: 0.97090 | Acc: 53.100\n",
      "Validation Accuracy |  17.857142857142858  PPV |  [1.         0.11538462]  Recall |  [0.08 1.  ]\n",
      "Training Epoch 019: | Loss: 0.91524 | Acc: 61.700\n",
      "Validation Accuracy |  17.857142857142858  PPV |  [1.         0.11538462]  Recall |  [0.08 1.  ]\n",
      "Training Epoch 020: | Loss: 0.85672 | Acc: 65.200\n",
      "Validation Accuracy |  21.428571428571427  PPV |  [1.   0.12]  Recall |  [0.12 1.  ]\n",
      "Training Epoch 021: | Loss: 0.73008 | Acc: 73.400\n",
      "Validation Accuracy |  42.857142857142854  PPV |  [1.         0.15789474]  Recall |  [0.36 1.  ]\n",
      "Training Epoch 022: | Loss: 0.66932 | Acc: 76.400\n",
      "Validation Accuracy |  28.57142857142857  PPV |  [1.         0.13043478]  Recall |  [0.2 1. ]\n",
      "Training Epoch 023: | Loss: 0.69685 | Acc: 78.800\n",
      "Validation Accuracy |  60.71428571428571  PPV |  [0.9375     0.16666667]  Recall |  [0.6        0.66666667]\n",
      "Training Epoch 024: | Loss: 0.65625 | Acc: 72.800\n",
      "Validation Accuracy |  85.71428571428571  PPV |  [0.92       0.33333333]  Recall |  [0.92       0.33333333]\n",
      "Training Epoch 025: | Loss: 0.52374 | Acc: 83.000\n",
      "Validation Accuracy |  67.85714285714286  PPV |  [0.94444444 0.2       ]  Recall |  [0.68       0.66666667]\n",
      "Training Epoch 026: | Loss: 0.50652 | Acc: 85.900\n",
      "Validation Accuracy |  53.57142857142857  PPV |  [1.     0.1875]  Recall |  [0.48 1.  ]\n",
      "Training Epoch 027: | Loss: 0.42253 | Acc: 87.500\n",
      "Validation Accuracy |  82.14285714285714  PPV |  [0.91666667 0.25      ]  Recall |  [0.88       0.33333333]\n",
      "Training Epoch 028: | Loss: 0.37594 | Acc: 89.400\n",
      "Validation Accuracy |  89.28571428571429  PPV |  [0.92307692 0.5       ]  Recall |  [0.96       0.33333333]\n",
      "Training Epoch 029: | Loss: 0.32342 | Acc: 92.200\n",
      "Validation Accuracy |  82.14285714285714  PPV |  [0.95454545 0.33333333]  Recall |  [0.84       0.66666667]\n",
      "Training Epoch 030: | Loss: 0.28672 | Acc: 92.300\n",
      "Validation Accuracy |  82.14285714285714  PPV |  [0.91666667 0.25      ]  Recall |  [0.88       0.33333333]\n",
      "Training Epoch 031: | Loss: 0.27844 | Acc: 93.000\n",
      "Validation Accuracy |  89.28571428571429  PPV |  [0.92307692 0.5       ]  Recall |  [0.96       0.33333333]\n",
      "Training Epoch 032: | Loss: 0.25056 | Acc: 92.300\n",
      "Validation Accuracy |  85.71428571428571  PPV |  [0.92       0.33333333]  Recall |  [0.92       0.33333333]\n",
      "Training Epoch 033: | Loss: 0.20179 | Acc: 96.100\n",
      "Validation Accuracy |  85.71428571428571  PPV |  [0.92       0.33333333]  Recall |  [0.92       0.33333333]\n",
      "Training Epoch 034: | Loss: 0.18940 | Acc: 94.700\n",
      "Validation Accuracy |  85.71428571428571  PPV |  [0.92       0.33333333]  Recall |  [0.92       0.33333333]\n",
      "Training Epoch 035: | Loss: 0.16465 | Acc: 96.100\n",
      "Validation Accuracy |  85.71428571428571  PPV |  [0.92       0.33333333]  Recall |  [0.92       0.33333333]\n"
     ]
    }
   ],
   "source": [
    "#model.train() tells PyTorch that you’re in training mode.\n",
    "#Similarly, we’ll call model.eval() when we test our model. We’ll see that below.\n",
    "'''If you’re using layers such as Dropout or BatchNorm which behave differently during training and evaluation, \n",
    "you need to tell PyTorch to act accordingly. While the default mode in PyTorch is the train, \n",
    "so, you don’t explicitly have to write that. But it’s good practice.'''\n",
    "val_acc3 = []\n",
    "train_acc3 = []\n",
    "train_loss3 = []\n",
    "val_loss3 = []\n",
    "\n",
    "model3.train() #Initial training mode\n",
    "for e in range(1, EPOCHS+1):\n",
    "    epoch_loss = 0\n",
    "    epoch_acc = 0\n",
    "    for X_batch, y_batch in train_loader3:\n",
    "        X_batch, y_batch = X_batch.to(device), y_batch.to(device)\n",
    "        optimizer3.zero_grad()\n",
    "        \n",
    "        y_pred = model3(X_batch)\n",
    "        \n",
    "        loss = criterion(y_pred, y_batch)\n",
    "        acc = binary_acc(y_pred, y_batch)\n",
    "        \n",
    "        loss.backward()\n",
    "        optimizer3.step()\n",
    "        \n",
    "        epoch_loss += loss.item()\n",
    "        epoch_acc += acc.item()\n",
    "    \n",
    "    train_acc3.append(epoch_acc/len(train_loader3))\n",
    "    train_loss3.append(epoch_loss/len(train_loader3))\n",
    "    print(f'Training Epoch {e+0:03}: | Loss: {epoch_loss/len(train_loader3):.5f} | Acc: {epoch_acc/len(train_loader3):.3f}')\n",
    "    #Validation metrics here\n",
    "    model3.eval()\n",
    "    #print(\"Evaluation mode\")\n",
    "    y_pred_list = []\n",
    "    test_loader3 = DataLoader(dataset=test_data3, batch_size=test_size1)\n",
    "    with torch.no_grad():\n",
    "        counter = 0\n",
    "        for X_batch in test_loader3:\n",
    "            X_batch = X_batch.to(device)\n",
    "            y_test_pred = model3(X_batch)\n",
    "            y_test_pred = torch.sigmoid(y_test_pred)\n",
    "            y_pred_tag = torch.round(y_test_pred)\n",
    "            y_pred_list.append(y_pred_tag.cpu().numpy())\n",
    "            loss = criterion(y_test_pred,torch.FloatTensor(testing_fold_Y_3))\n",
    "            val_loss3.append(loss)\n",
    "            counter+=1\n",
    "            \n",
    "    y_pred_list = []\n",
    "    test_loader3 = DataLoader(dataset=test_data3, batch_size=1)\n",
    "    with torch.no_grad():\n",
    "        for X_batch in test_loader3:\n",
    "            X_batch = X_batch.to(device)\n",
    "            y_test_pred = model3(X_batch)\n",
    "            y_test_pred = torch.sigmoid(y_test_pred)\n",
    "            y_pred_tag = torch.round(y_test_pred)\n",
    "            y_pred_list.append(y_pred_tag.cpu().numpy())\n",
    "            \n",
    "    y_pred_list = [a.squeeze().tolist() for a in y_pred_list]\n",
    "    y_loss_df = pd.DataFrame(y_pred_list)\n",
    "    accuracy = accuracy_score(torch.FloatTensor(testing_fold_Y_3), y_pred_list)\n",
    "    ppv = precision_score(testing_fold_Y_3, y_pred_list, average=None)\n",
    "    recall = recall_score(testing_fold_Y_3, y_pred_list, average=None)\n",
    "    print(\"Validation Accuracy | \",accuracy*100,\" PPV | \",ppv,\" Recall | \",recall)\n",
    "    val_acc3.append(accuracy*100)\n",
    "    model3.train()\n",
    "    #print(\"Return to training mode\")\n",
    "    \n",
    "    #Need to get validation loss."
   ]
  },
  {
   "cell_type": "code",
   "execution_count": 18,
   "id": "starting-emperor",
   "metadata": {},
   "outputs": [
    {
     "name": "stdout",
     "output_type": "stream",
     "text": [
      "Training Epoch 001: | Loss: 1.85915 | Acc: 51.500\n",
      "Validation Accuracy |  10.714285714285714  PPV |  [0.         0.10714286]  Recall |  [0. 1.]\n",
      "Training Epoch 002: | Loss: 1.43474 | Acc: 49.800\n",
      "Validation Accuracy |  10.714285714285714  PPV |  [0.         0.10714286]  Recall |  [0. 1.]\n",
      "Training Epoch 003: | Loss: 1.36676 | Acc: 49.900\n",
      "Validation Accuracy |  10.714285714285714  PPV |  [0.         0.10714286]  Recall |  [0. 1.]\n",
      "Training Epoch 004: | Loss: 1.35500 | Acc: 50.100\n",
      "Validation Accuracy |  10.714285714285714  PPV |  [0.         0.10714286]  Recall |  [0. 1.]\n",
      "Training Epoch 005: | Loss: 1.32997 | Acc: 50.000\n"
     ]
    },
    {
     "name": "stderr",
     "output_type": "stream",
     "text": [
      "C:\\Users\\mattbeze\\Anaconda3\\envs\\pytorch\\lib\\site-packages\\sklearn\\metrics\\_classification.py:1245: UndefinedMetricWarning: Precision is ill-defined and being set to 0.0 in labels with no predicted samples. Use `zero_division` parameter to control this behavior.\n",
      "  _warn_prf(average, modifier, msg_start, len(result))\n",
      "C:\\Users\\mattbeze\\Anaconda3\\envs\\pytorch\\lib\\site-packages\\sklearn\\metrics\\_classification.py:1245: UndefinedMetricWarning: Precision is ill-defined and being set to 0.0 in labels with no predicted samples. Use `zero_division` parameter to control this behavior.\n",
      "  _warn_prf(average, modifier, msg_start, len(result))\n",
      "C:\\Users\\mattbeze\\Anaconda3\\envs\\pytorch\\lib\\site-packages\\sklearn\\metrics\\_classification.py:1245: UndefinedMetricWarning: Precision is ill-defined and being set to 0.0 in labels with no predicted samples. Use `zero_division` parameter to control this behavior.\n",
      "  _warn_prf(average, modifier, msg_start, len(result))\n",
      "C:\\Users\\mattbeze\\Anaconda3\\envs\\pytorch\\lib\\site-packages\\sklearn\\metrics\\_classification.py:1245: UndefinedMetricWarning: Precision is ill-defined and being set to 0.0 in labels with no predicted samples. Use `zero_division` parameter to control this behavior.\n",
      "  _warn_prf(average, modifier, msg_start, len(result))\n"
     ]
    },
    {
     "name": "stdout",
     "output_type": "stream",
     "text": [
      "Validation Accuracy |  10.714285714285714  PPV |  [0.         0.10714286]  Recall |  [0. 1.]\n",
      "Training Epoch 006: | Loss: 1.33061 | Acc: 49.900\n",
      "Validation Accuracy |  10.714285714285714  PPV |  [0.         0.10714286]  Recall |  [0. 1.]\n",
      "Training Epoch 007: | Loss: 1.30909 | Acc: 50.000\n"
     ]
    },
    {
     "name": "stderr",
     "output_type": "stream",
     "text": [
      "C:\\Users\\mattbeze\\Anaconda3\\envs\\pytorch\\lib\\site-packages\\sklearn\\metrics\\_classification.py:1245: UndefinedMetricWarning: Precision is ill-defined and being set to 0.0 in labels with no predicted samples. Use `zero_division` parameter to control this behavior.\n",
      "  _warn_prf(average, modifier, msg_start, len(result))\n",
      "C:\\Users\\mattbeze\\Anaconda3\\envs\\pytorch\\lib\\site-packages\\sklearn\\metrics\\_classification.py:1245: UndefinedMetricWarning: Precision is ill-defined and being set to 0.0 in labels with no predicted samples. Use `zero_division` parameter to control this behavior.\n",
      "  _warn_prf(average, modifier, msg_start, len(result))\n",
      "C:\\Users\\mattbeze\\Anaconda3\\envs\\pytorch\\lib\\site-packages\\sklearn\\metrics\\_classification.py:1245: UndefinedMetricWarning: Precision is ill-defined and being set to 0.0 in labels with no predicted samples. Use `zero_division` parameter to control this behavior.\n",
      "  _warn_prf(average, modifier, msg_start, len(result))\n",
      "C:\\Users\\mattbeze\\Anaconda3\\envs\\pytorch\\lib\\site-packages\\sklearn\\metrics\\_classification.py:1245: UndefinedMetricWarning: Precision is ill-defined and being set to 0.0 in labels with no predicted samples. Use `zero_division` parameter to control this behavior.\n",
      "  _warn_prf(average, modifier, msg_start, len(result))\n"
     ]
    },
    {
     "name": "stdout",
     "output_type": "stream",
     "text": [
      "Validation Accuracy |  10.714285714285714  PPV |  [0.         0.10714286]  Recall |  [0. 1.]\n",
      "Training Epoch 008: | Loss: 1.29223 | Acc: 50.100\n",
      "Validation Accuracy |  10.714285714285714  PPV |  [0.         0.10714286]  Recall |  [0. 1.]\n",
      "Training Epoch 009: | Loss: 1.27879 | Acc: 49.900\n",
      "Validation Accuracy |  10.714285714285714  PPV |  [0.         0.10714286]  Recall |  [0. 1.]\n",
      "Training Epoch 010: | Loss: 1.26063 | Acc: 50.000\n",
      "Validation Accuracy |  10.714285714285714  PPV |  [0.         0.10714286]  Recall |  [0. 1.]\n",
      "Training Epoch 011: | Loss: 1.24643 | Acc: 50.100\n",
      "Validation Accuracy |  10.714285714285714  PPV |  [0.         0.10714286]  Recall |  [0. 1.]\n",
      "Training Epoch 012: | Loss: 1.20803 | Acc: 50.200\n"
     ]
    },
    {
     "name": "stderr",
     "output_type": "stream",
     "text": [
      "C:\\Users\\mattbeze\\Anaconda3\\envs\\pytorch\\lib\\site-packages\\sklearn\\metrics\\_classification.py:1245: UndefinedMetricWarning: Precision is ill-defined and being set to 0.0 in labels with no predicted samples. Use `zero_division` parameter to control this behavior.\n",
      "  _warn_prf(average, modifier, msg_start, len(result))\n",
      "C:\\Users\\mattbeze\\Anaconda3\\envs\\pytorch\\lib\\site-packages\\sklearn\\metrics\\_classification.py:1245: UndefinedMetricWarning: Precision is ill-defined and being set to 0.0 in labels with no predicted samples. Use `zero_division` parameter to control this behavior.\n",
      "  _warn_prf(average, modifier, msg_start, len(result))\n",
      "C:\\Users\\mattbeze\\Anaconda3\\envs\\pytorch\\lib\\site-packages\\sklearn\\metrics\\_classification.py:1245: UndefinedMetricWarning: Precision is ill-defined and being set to 0.0 in labels with no predicted samples. Use `zero_division` parameter to control this behavior.\n",
      "  _warn_prf(average, modifier, msg_start, len(result))\n",
      "C:\\Users\\mattbeze\\Anaconda3\\envs\\pytorch\\lib\\site-packages\\sklearn\\metrics\\_classification.py:1245: UndefinedMetricWarning: Precision is ill-defined and being set to 0.0 in labels with no predicted samples. Use `zero_division` parameter to control this behavior.\n",
      "  _warn_prf(average, modifier, msg_start, len(result))\n"
     ]
    },
    {
     "name": "stdout",
     "output_type": "stream",
     "text": [
      "Validation Accuracy |  10.714285714285714  PPV |  [0.         0.10714286]  Recall |  [0. 1.]\n",
      "Training Epoch 013: | Loss: 1.15910 | Acc: 50.100\n",
      "Validation Accuracy |  10.714285714285714  PPV |  [0.         0.10714286]  Recall |  [0. 1.]\n",
      "Training Epoch 014: | Loss: 1.12261 | Acc: 50.600\n",
      "Validation Accuracy |  10.714285714285714  PPV |  [0.         0.10714286]  Recall |  [0. 1.]\n",
      "Training Epoch 015: | Loss: 1.07508 | Acc: 51.400\n",
      "Validation Accuracy |  10.714285714285714  PPV |  [0.         0.10714286]  Recall |  [0. 1.]\n"
     ]
    },
    {
     "name": "stderr",
     "output_type": "stream",
     "text": [
      "C:\\Users\\mattbeze\\Anaconda3\\envs\\pytorch\\lib\\site-packages\\sklearn\\metrics\\_classification.py:1245: UndefinedMetricWarning: Precision is ill-defined and being set to 0.0 in labels with no predicted samples. Use `zero_division` parameter to control this behavior.\n",
      "  _warn_prf(average, modifier, msg_start, len(result))\n",
      "C:\\Users\\mattbeze\\Anaconda3\\envs\\pytorch\\lib\\site-packages\\sklearn\\metrics\\_classification.py:1245: UndefinedMetricWarning: Precision is ill-defined and being set to 0.0 in labels with no predicted samples. Use `zero_division` parameter to control this behavior.\n",
      "  _warn_prf(average, modifier, msg_start, len(result))\n",
      "C:\\Users\\mattbeze\\Anaconda3\\envs\\pytorch\\lib\\site-packages\\sklearn\\metrics\\_classification.py:1245: UndefinedMetricWarning: Precision is ill-defined and being set to 0.0 in labels with no predicted samples. Use `zero_division` parameter to control this behavior.\n",
      "  _warn_prf(average, modifier, msg_start, len(result))\n",
      "C:\\Users\\mattbeze\\Anaconda3\\envs\\pytorch\\lib\\site-packages\\sklearn\\metrics\\_classification.py:1245: UndefinedMetricWarning: Precision is ill-defined and being set to 0.0 in labels with no predicted samples. Use `zero_division` parameter to control this behavior.\n",
      "  _warn_prf(average, modifier, msg_start, len(result))\n"
     ]
    },
    {
     "name": "stdout",
     "output_type": "stream",
     "text": [
      "Training Epoch 016: | Loss: 1.01681 | Acc: 55.400\n",
      "Validation Accuracy |  10.714285714285714  PPV |  [0.         0.10714286]  Recall |  [0. 1.]\n",
      "Training Epoch 017: | Loss: 0.96340 | Acc: 55.100\n",
      "Validation Accuracy |  7.142857142857142  PPV |  [0.         0.07407407]  Recall |  [0.         0.66666667]\n",
      "Training Epoch 018: | Loss: 0.87918 | Acc: 66.400\n",
      "Validation Accuracy |  10.714285714285714  PPV |  [0.         0.10714286]  Recall |  [0. 1.]\n",
      "Training Epoch 019: | Loss: 0.87674 | Acc: 66.100\n",
      "Validation Accuracy |  46.42857142857143  PPV |  [0.91666667 0.125     ]  Recall |  [0.44       0.66666667]\n",
      "Training Epoch 020: | Loss: 0.75909 | Acc: 66.700\n",
      "Validation Accuracy |  46.42857142857143  PPV |  [0.91666667 0.125     ]  Recall |  [0.44       0.66666667]\n",
      "Training Epoch 021: | Loss: 0.70700 | Acc: 76.700\n"
     ]
    },
    {
     "name": "stderr",
     "output_type": "stream",
     "text": [
      "C:\\Users\\mattbeze\\Anaconda3\\envs\\pytorch\\lib\\site-packages\\sklearn\\metrics\\_classification.py:1245: UndefinedMetricWarning: Precision is ill-defined and being set to 0.0 in labels with no predicted samples. Use `zero_division` parameter to control this behavior.\n",
      "  _warn_prf(average, modifier, msg_start, len(result))\n"
     ]
    },
    {
     "name": "stdout",
     "output_type": "stream",
     "text": [
      "Validation Accuracy |  28.57142857142857  PPV |  [1.         0.13043478]  Recall |  [0.2 1. ]\n",
      "Training Epoch 022: | Loss: 0.63580 | Acc: 79.400\n",
      "Validation Accuracy |  60.71428571428571  PPV |  [0.9375     0.16666667]  Recall |  [0.6        0.66666667]\n",
      "Training Epoch 023: | Loss: 0.55755 | Acc: 79.700\n",
      "Validation Accuracy |  85.71428571428571  PPV |  [0.95652174 0.4       ]  Recall |  [0.88       0.66666667]\n",
      "Training Epoch 024: | Loss: 0.53289 | Acc: 83.300\n",
      "Validation Accuracy |  85.71428571428571  PPV |  [0.95652174 0.4       ]  Recall |  [0.88       0.66666667]\n",
      "Training Epoch 025: | Loss: 0.43544 | Acc: 88.300\n",
      "Validation Accuracy |  71.42857142857143  PPV |  [0.94736842 0.22222222]  Recall |  [0.72       0.66666667]\n",
      "Training Epoch 026: | Loss: 0.37339 | Acc: 90.700\n",
      "Validation Accuracy |  82.14285714285714  PPV |  [0.88461538 0.        ]  Recall |  [0.92 0.  ]\n",
      "Training Epoch 027: | Loss: 0.36044 | Acc: 91.900\n",
      "Validation Accuracy |  78.57142857142857  PPV |  [0.95238095 0.28571429]  Recall |  [0.8        0.66666667]\n",
      "Training Epoch 028: | Loss: 0.32123 | Acc: 91.800\n",
      "Validation Accuracy |  75.0  PPV |  [0.95 0.25]  Recall |  [0.76       0.66666667]\n",
      "Training Epoch 029: | Loss: 0.27748 | Acc: 91.200\n",
      "Validation Accuracy |  82.14285714285714  PPV |  [0.88461538 0.        ]  Recall |  [0.92 0.  ]\n",
      "Training Epoch 030: | Loss: 0.23812 | Acc: 94.500\n",
      "Validation Accuracy |  71.42857142857143  PPV |  [0.9047619  0.14285714]  Recall |  [0.76       0.33333333]\n",
      "Training Epoch 031: | Loss: 0.23292 | Acc: 94.700\n",
      "Validation Accuracy |  75.0  PPV |  [0.875 0.   ]  Recall |  [0.84 0.  ]\n",
      "Training Epoch 032: | Loss: 0.19146 | Acc: 94.700\n",
      "Validation Accuracy |  82.14285714285714  PPV |  [0.88461538 0.        ]  Recall |  [0.92 0.  ]\n",
      "Training Epoch 033: | Loss: 0.20200 | Acc: 96.400\n",
      "Validation Accuracy |  78.57142857142857  PPV |  [0.88 0.  ]  Recall |  [0.88 0.  ]\n",
      "Training Epoch 034: | Loss: 0.17091 | Acc: 96.200\n",
      "Validation Accuracy |  78.57142857142857  PPV |  [0.88 0.  ]  Recall |  [0.88 0.  ]\n",
      "Training Epoch 035: | Loss: 0.15227 | Acc: 96.400\n",
      "Validation Accuracy |  85.71428571428571  PPV |  [0.88888889 0.        ]  Recall |  [0.96 0.  ]\n"
     ]
    }
   ],
   "source": [
    "#model.train() tells PyTorch that you’re in training mode.\n",
    "#Similarly, we’ll call model.eval() when we test our model. We’ll see that below.\n",
    "'''If you’re using layers such as Dropout or BatchNorm which behave differently during training and evaluation, \n",
    "you need to tell PyTorch to act accordingly. While the default mode in PyTorch is the train, \n",
    "so, you don’t explicitly have to write that. But it’s good practice.'''\n",
    "val_acc4 = []\n",
    "train_acc4 = []\n",
    "train_loss4 = []\n",
    "val_loss4 = []\n",
    "\n",
    "model4.train() #Initial training mode\n",
    "for e in range(1, EPOCHS+1):\n",
    "    epoch_loss = 0\n",
    "    epoch_acc = 0\n",
    "    for X_batch, y_batch in train_loader4:\n",
    "        X_batch, y_batch = X_batch.to(device), y_batch.to(device)\n",
    "        optimizer4.zero_grad()\n",
    "        \n",
    "        y_pred = model4(X_batch)\n",
    "        \n",
    "        loss = criterion(y_pred, y_batch)\n",
    "        acc = binary_acc(y_pred, y_batch)\n",
    "        \n",
    "        loss.backward()\n",
    "        optimizer4.step()\n",
    "        \n",
    "        epoch_loss += loss.item()\n",
    "        epoch_acc += acc.item()\n",
    "    \n",
    "    train_acc4.append(epoch_acc/len(train_loader4))\n",
    "    train_loss4.append(epoch_loss/len(train_loader4))\n",
    "    print(f'Training Epoch {e+0:03}: | Loss: {epoch_loss/len(train_loader4):.5f} | Acc: {epoch_acc/len(train_loader4):.3f}')\n",
    "    #Validation metrics here\n",
    "    model4.eval()\n",
    "    #print(\"Evaluation mode\")\n",
    "    y_pred_list = []\n",
    "    test_loader4 = DataLoader(dataset=test_data4, batch_size=test_size1)\n",
    "    with torch.no_grad():\n",
    "        counter = 0\n",
    "        for X_batch in test_loader4:\n",
    "            X_batch = X_batch.to(device)\n",
    "            y_test_pred = model4(X_batch)\n",
    "            y_test_pred = torch.sigmoid(y_test_pred)\n",
    "            y_pred_tag = torch.round(y_test_pred)\n",
    "            y_pred_list.append(y_pred_tag.cpu().numpy())\n",
    "            loss = criterion(y_test_pred,torch.FloatTensor(testing_fold_Y_4))\n",
    "            val_loss4.append(loss)\n",
    "            counter+=1\n",
    "            \n",
    "    y_pred_list = []\n",
    "    test_loader4 = DataLoader(dataset=test_data4, batch_size=1)\n",
    "    with torch.no_grad():\n",
    "        for X_batch in test_loader4:\n",
    "            X_batch = X_batch.to(device)\n",
    "            y_test_pred = model4(X_batch)\n",
    "            y_test_pred = torch.sigmoid(y_test_pred)\n",
    "            y_pred_tag = torch.round(y_test_pred)\n",
    "            y_pred_list.append(y_pred_tag.cpu().numpy())\n",
    "            \n",
    "    y_pred_list = [a.squeeze().tolist() for a in y_pred_list]\n",
    "    y_loss_df = pd.DataFrame(y_pred_list)\n",
    "    accuracy = accuracy_score(torch.FloatTensor(testing_fold_Y_4), y_pred_list)\n",
    "    ppv = precision_score(testing_fold_Y_4, y_pred_list, average=None)\n",
    "    recall = recall_score(testing_fold_Y_4, y_pred_list, average=None)\n",
    "    print(\"Validation Accuracy | \",accuracy*100,\" PPV | \",ppv,\" Recall | \",recall)\n",
    "    val_acc4.append(accuracy*100)\n",
    "    model4.train()\n",
    "    #print(\"Return to training mode\")\n",
    "    \n",
    "    #Need to get validation loss."
   ]
  },
  {
   "cell_type": "code",
   "execution_count": 19,
   "id": "frozen-equivalent",
   "metadata": {},
   "outputs": [
    {
     "name": "stdout",
     "output_type": "stream",
     "text": [
      "Training Epoch 001: | Loss: 1.72978 | Acc: 50.900\n",
      "Validation Accuracy |  10.714285714285714  PPV |  [0.         0.10714286]  Recall |  [0. 1.]\n",
      "Training Epoch 002: | Loss: 1.38554 | Acc: 50.000\n",
      "Validation Accuracy |  10.714285714285714  PPV |  [0.         0.10714286]  Recall |  [0. 1.]\n",
      "Training Epoch 003: | Loss: 1.37102 | Acc: 49.900\n",
      "Validation Accuracy |  10.714285714285714  PPV |  [0.         0.10714286]  Recall |  [0. 1.]\n",
      "Training Epoch 004: | Loss: 1.34794 | Acc: 50.000\n",
      "Validation Accuracy |  10.714285714285714  PPV |  [0.         0.10714286]  Recall |  [0. 1.]\n",
      "Training Epoch 005: | Loss: 1.34028 | Acc: 49.800\n",
      "Validation Accuracy |  10.714285714285714  PPV |  [0.         0.10714286]  Recall |  [0. 1.]\n"
     ]
    },
    {
     "name": "stderr",
     "output_type": "stream",
     "text": [
      "C:\\Users\\mattbeze\\Anaconda3\\envs\\pytorch\\lib\\site-packages\\sklearn\\metrics\\_classification.py:1245: UndefinedMetricWarning: Precision is ill-defined and being set to 0.0 in labels with no predicted samples. Use `zero_division` parameter to control this behavior.\n",
      "  _warn_prf(average, modifier, msg_start, len(result))\n",
      "C:\\Users\\mattbeze\\Anaconda3\\envs\\pytorch\\lib\\site-packages\\sklearn\\metrics\\_classification.py:1245: UndefinedMetricWarning: Precision is ill-defined and being set to 0.0 in labels with no predicted samples. Use `zero_division` parameter to control this behavior.\n",
      "  _warn_prf(average, modifier, msg_start, len(result))\n",
      "C:\\Users\\mattbeze\\Anaconda3\\envs\\pytorch\\lib\\site-packages\\sklearn\\metrics\\_classification.py:1245: UndefinedMetricWarning: Precision is ill-defined and being set to 0.0 in labels with no predicted samples. Use `zero_division` parameter to control this behavior.\n",
      "  _warn_prf(average, modifier, msg_start, len(result))\n",
      "C:\\Users\\mattbeze\\Anaconda3\\envs\\pytorch\\lib\\site-packages\\sklearn\\metrics\\_classification.py:1245: UndefinedMetricWarning: Precision is ill-defined and being set to 0.0 in labels with no predicted samples. Use `zero_division` parameter to control this behavior.\n",
      "  _warn_prf(average, modifier, msg_start, len(result))\n",
      "C:\\Users\\mattbeze\\Anaconda3\\envs\\pytorch\\lib\\site-packages\\sklearn\\metrics\\_classification.py:1245: UndefinedMetricWarning: Precision is ill-defined and being set to 0.0 in labels with no predicted samples. Use `zero_division` parameter to control this behavior.\n",
      "  _warn_prf(average, modifier, msg_start, len(result))\n"
     ]
    },
    {
     "name": "stdout",
     "output_type": "stream",
     "text": [
      "Training Epoch 006: | Loss: 1.32971 | Acc: 50.100\n",
      "Validation Accuracy |  10.714285714285714  PPV |  [0.         0.10714286]  Recall |  [0. 1.]\n",
      "Training Epoch 007: | Loss: 1.32087 | Acc: 49.900\n",
      "Validation Accuracy |  10.714285714285714  PPV |  [0.         0.10714286]  Recall |  [0. 1.]\n",
      "Training Epoch 008: | Loss: 1.30280 | Acc: 49.900\n",
      "Validation Accuracy |  10.714285714285714  PPV |  [0.         0.10714286]  Recall |  [0. 1.]\n",
      "Training Epoch 009: | Loss: 1.30983 | Acc: 49.900\n",
      "Validation Accuracy |  10.714285714285714  PPV |  [0.         0.10714286]  Recall |  [0. 1.]\n",
      "Training Epoch 010: | Loss: 1.27231 | Acc: 50.000\n"
     ]
    },
    {
     "name": "stderr",
     "output_type": "stream",
     "text": [
      "C:\\Users\\mattbeze\\Anaconda3\\envs\\pytorch\\lib\\site-packages\\sklearn\\metrics\\_classification.py:1245: UndefinedMetricWarning: Precision is ill-defined and being set to 0.0 in labels with no predicted samples. Use `zero_division` parameter to control this behavior.\n",
      "  _warn_prf(average, modifier, msg_start, len(result))\n",
      "C:\\Users\\mattbeze\\Anaconda3\\envs\\pytorch\\lib\\site-packages\\sklearn\\metrics\\_classification.py:1245: UndefinedMetricWarning: Precision is ill-defined and being set to 0.0 in labels with no predicted samples. Use `zero_division` parameter to control this behavior.\n",
      "  _warn_prf(average, modifier, msg_start, len(result))\n",
      "C:\\Users\\mattbeze\\Anaconda3\\envs\\pytorch\\lib\\site-packages\\sklearn\\metrics\\_classification.py:1245: UndefinedMetricWarning: Precision is ill-defined and being set to 0.0 in labels with no predicted samples. Use `zero_division` parameter to control this behavior.\n",
      "  _warn_prf(average, modifier, msg_start, len(result))\n",
      "C:\\Users\\mattbeze\\Anaconda3\\envs\\pytorch\\lib\\site-packages\\sklearn\\metrics\\_classification.py:1245: UndefinedMetricWarning: Precision is ill-defined and being set to 0.0 in labels with no predicted samples. Use `zero_division` parameter to control this behavior.\n",
      "  _warn_prf(average, modifier, msg_start, len(result))\n"
     ]
    },
    {
     "name": "stdout",
     "output_type": "stream",
     "text": [
      "Validation Accuracy |  10.714285714285714  PPV |  [0.         0.10714286]  Recall |  [0. 1.]\n"
     ]
    },
    {
     "name": "stderr",
     "output_type": "stream",
     "text": [
      "C:\\Users\\mattbeze\\Anaconda3\\envs\\pytorch\\lib\\site-packages\\sklearn\\metrics\\_classification.py:1245: UndefinedMetricWarning: Precision is ill-defined and being set to 0.0 in labels with no predicted samples. Use `zero_division` parameter to control this behavior.\n",
      "  _warn_prf(average, modifier, msg_start, len(result))\n",
      "C:\\Users\\mattbeze\\Anaconda3\\envs\\pytorch\\lib\\site-packages\\sklearn\\metrics\\_classification.py:1245: UndefinedMetricWarning: Precision is ill-defined and being set to 0.0 in labels with no predicted samples. Use `zero_division` parameter to control this behavior.\n",
      "  _warn_prf(average, modifier, msg_start, len(result))\n",
      "C:\\Users\\mattbeze\\Anaconda3\\envs\\pytorch\\lib\\site-packages\\sklearn\\metrics\\_classification.py:1245: UndefinedMetricWarning: Precision is ill-defined and being set to 0.0 in labels with no predicted samples. Use `zero_division` parameter to control this behavior.\n",
      "  _warn_prf(average, modifier, msg_start, len(result))\n",
      "C:\\Users\\mattbeze\\Anaconda3\\envs\\pytorch\\lib\\site-packages\\sklearn\\metrics\\_classification.py:1245: UndefinedMetricWarning: Precision is ill-defined and being set to 0.0 in labels with no predicted samples. Use `zero_division` parameter to control this behavior.\n",
      "  _warn_prf(average, modifier, msg_start, len(result))\n"
     ]
    },
    {
     "name": "stdout",
     "output_type": "stream",
     "text": [
      "Training Epoch 011: | Loss: 1.26105 | Acc: 50.000\n",
      "Validation Accuracy |  10.714285714285714  PPV |  [0.         0.10714286]  Recall |  [0. 1.]\n",
      "Training Epoch 012: | Loss: 1.22548 | Acc: 50.500\n",
      "Validation Accuracy |  10.714285714285714  PPV |  [0.         0.10714286]  Recall |  [0. 1.]\n",
      "Training Epoch 013: | Loss: 1.19479 | Acc: 49.800\n",
      "Validation Accuracy |  10.714285714285714  PPV |  [0.         0.10714286]  Recall |  [0. 1.]\n",
      "Training Epoch 014: | Loss: 1.17157 | Acc: 50.500\n",
      "Validation Accuracy |  10.714285714285714  PPV |  [0.         0.10714286]  Recall |  [0. 1.]\n"
     ]
    },
    {
     "name": "stderr",
     "output_type": "stream",
     "text": [
      "C:\\Users\\mattbeze\\Anaconda3\\envs\\pytorch\\lib\\site-packages\\sklearn\\metrics\\_classification.py:1245: UndefinedMetricWarning: Precision is ill-defined and being set to 0.0 in labels with no predicted samples. Use `zero_division` parameter to control this behavior.\n",
      "  _warn_prf(average, modifier, msg_start, len(result))\n"
     ]
    },
    {
     "name": "stdout",
     "output_type": "stream",
     "text": [
      "Training Epoch 015: | Loss: 1.09474 | Acc: 50.400\n",
      "Validation Accuracy |  14.285714285714285  PPV |  [1.         0.11111111]  Recall |  [0.04 1.  ]\n",
      "Training Epoch 016: | Loss: 1.04595 | Acc: 54.000\n",
      "Validation Accuracy |  14.285714285714285  PPV |  [1.         0.11111111]  Recall |  [0.04 1.  ]\n",
      "Training Epoch 017: | Loss: 0.96168 | Acc: 57.100\n",
      "Validation Accuracy |  14.285714285714285  PPV |  [1.         0.11111111]  Recall |  [0.04 1.  ]\n",
      "Training Epoch 018: | Loss: 0.86780 | Acc: 58.300\n",
      "Validation Accuracy |  17.857142857142858  PPV |  [1.         0.11538462]  Recall |  [0.08 1.  ]\n",
      "Training Epoch 019: | Loss: 0.76534 | Acc: 70.800\n",
      "Validation Accuracy |  39.285714285714285  PPV |  [1.   0.15]  Recall |  [0.32 1.  ]\n",
      "Training Epoch 020: | Loss: 0.67050 | Acc: 75.800\n",
      "Validation Accuracy |  50.0  PPV |  [1.         0.17647059]  Recall |  [0.44 1.  ]\n",
      "Training Epoch 021: | Loss: 0.58802 | Acc: 79.700\n",
      "Validation Accuracy |  57.14285714285714  PPV |  [0.93333333 0.15384615]  Recall |  [0.56       0.66666667]\n",
      "Training Epoch 022: | Loss: 0.51804 | Acc: 84.600\n",
      "Validation Accuracy |  60.71428571428571  PPV |  [0.9375     0.16666667]  Recall |  [0.6        0.66666667]\n",
      "Training Epoch 023: | Loss: 0.45088 | Acc: 86.500\n",
      "Validation Accuracy |  64.28571428571429  PPV |  [0.89473684 0.11111111]  Recall |  [0.68       0.33333333]\n",
      "Training Epoch 024: | Loss: 0.39465 | Acc: 89.000\n",
      "Validation Accuracy |  60.71428571428571  PPV |  [0.9375     0.16666667]  Recall |  [0.6        0.66666667]\n",
      "Training Epoch 025: | Loss: 0.33182 | Acc: 91.200\n",
      "Validation Accuracy |  64.28571428571429  PPV |  [0.94117647 0.18181818]  Recall |  [0.64       0.66666667]\n",
      "Training Epoch 026: | Loss: 0.30452 | Acc: 91.300\n",
      "Validation Accuracy |  60.71428571428571  PPV |  [0.9375     0.16666667]  Recall |  [0.6        0.66666667]\n",
      "Training Epoch 027: | Loss: 0.26817 | Acc: 92.000\n",
      "Validation Accuracy |  64.28571428571429  PPV |  [0.94117647 0.18181818]  Recall |  [0.64       0.66666667]\n",
      "Training Epoch 028: | Loss: 0.20349 | Acc: 95.300\n",
      "Validation Accuracy |  71.42857142857143  PPV |  [0.9047619  0.14285714]  Recall |  [0.76       0.33333333]\n",
      "Training Epoch 029: | Loss: 0.17198 | Acc: 96.200\n",
      "Validation Accuracy |  75.0  PPV |  [0.90909091 0.16666667]  Recall |  [0.8        0.33333333]\n",
      "Training Epoch 030: | Loss: 0.14776 | Acc: 97.100\n",
      "Validation Accuracy |  75.0  PPV |  [0.90909091 0.16666667]  Recall |  [0.8        0.33333333]\n",
      "Training Epoch 031: | Loss: 0.14337 | Acc: 97.400\n",
      "Validation Accuracy |  82.14285714285714  PPV |  [0.91666667 0.25      ]  Recall |  [0.88       0.33333333]\n",
      "Training Epoch 032: | Loss: 0.13099 | Acc: 97.000\n",
      "Validation Accuracy |  85.71428571428571  PPV |  [0.88888889 0.        ]  Recall |  [0.96 0.  ]\n",
      "Training Epoch 033: | Loss: 0.13039 | Acc: 96.700\n",
      "Validation Accuracy |  78.57142857142857  PPV |  [0.91304348 0.2       ]  Recall |  [0.84       0.33333333]\n",
      "Training Epoch 034: | Loss: 0.11752 | Acc: 97.300\n",
      "Validation Accuracy |  75.0  PPV |  [0.90909091 0.16666667]  Recall |  [0.8        0.33333333]\n",
      "Training Epoch 035: | Loss: 0.09091 | Acc: 98.500\n",
      "Validation Accuracy |  78.57142857142857  PPV |  [0.88 0.  ]  Recall |  [0.88 0.  ]\n"
     ]
    }
   ],
   "source": [
    "#model.train() tells PyTorch that you’re in training mode.\n",
    "#Similarly, we’ll call model.eval() when we test our model. We’ll see that below.\n",
    "'''If you’re using layers such as Dropout or BatchNorm which behave differently during training and evaluation, \n",
    "you need to tell PyTorch to act accordingly. While the default mode in PyTorch is the train, \n",
    "so, you don’t explicitly have to write that. But it’s good practice.'''\n",
    "val_acc5 = []\n",
    "train_acc5 = []\n",
    "train_loss5 = []\n",
    "val_loss5 = []\n",
    "\n",
    "model5.train() #Initial training mode\n",
    "for e in range(1, EPOCHS+1):\n",
    "    epoch_loss = 0\n",
    "    epoch_acc = 0\n",
    "    for X_batch, y_batch in train_loader5:\n",
    "        X_batch, y_batch = X_batch.to(device), y_batch.to(device)\n",
    "        optimizer5.zero_grad()\n",
    "        \n",
    "        y_pred = model5(X_batch)\n",
    "        \n",
    "        loss = criterion(y_pred, y_batch)\n",
    "        acc = binary_acc(y_pred, y_batch)\n",
    "        \n",
    "        loss.backward()\n",
    "        optimizer5.step()\n",
    "        \n",
    "        epoch_loss += loss.item()\n",
    "        epoch_acc += acc.item()\n",
    "    \n",
    "    train_acc5.append(epoch_acc/len(train_loader5))\n",
    "    train_loss5.append(epoch_loss/len(train_loader5))\n",
    "    print(f'Training Epoch {e+0:03}: | Loss: {epoch_loss/len(train_loader5):.5f} | Acc: {epoch_acc/len(train_loader5):.3f}')\n",
    "    #Validation metrics here\n",
    "    model5.eval()\n",
    "    #print(\"Evaluation mode\")\n",
    "    y_pred_list = []\n",
    "    test_loader5 = DataLoader(dataset=test_data5, batch_size=test_size1)\n",
    "    with torch.no_grad():\n",
    "        counter = 0\n",
    "        for X_batch in test_loader5:\n",
    "            X_batch = X_batch.to(device)\n",
    "            y_test_pred = model5(X_batch)\n",
    "            y_test_pred = torch.sigmoid(y_test_pred)\n",
    "            y_pred_tag = torch.round(y_test_pred)\n",
    "            y_pred_list.append(y_pred_tag.cpu().numpy())\n",
    "            loss = criterion(y_test_pred,torch.FloatTensor(testing_fold_Y_5))\n",
    "            val_loss5.append(loss)\n",
    "            counter+=1\n",
    "            \n",
    "    y_pred_list = []\n",
    "    test_loader5 = DataLoader(dataset=test_data5, batch_size=1)\n",
    "    with torch.no_grad():\n",
    "        for X_batch in test_loader5:\n",
    "            X_batch = X_batch.to(device)\n",
    "            y_test_pred = model5(X_batch)\n",
    "            y_test_pred = torch.sigmoid(y_test_pred)\n",
    "            y_pred_tag = torch.round(y_test_pred)\n",
    "            y_pred_list.append(y_pred_tag.cpu().numpy())\n",
    "            \n",
    "    y_pred_list = [a.squeeze().tolist() for a in y_pred_list]\n",
    "    y_loss_df = pd.DataFrame(y_pred_list)\n",
    "    accuracy = accuracy_score(torch.FloatTensor(testing_fold_Y_5), y_pred_list)\n",
    "    ppv = precision_score(testing_fold_Y_5, y_pred_list, average=None)\n",
    "    recall = recall_score(testing_fold_Y_5, y_pred_list, average=None)\n",
    "    print(\"Validation Accuracy | \",accuracy*100,\" PPV | \",ppv,\" Recall | \",recall)\n",
    "    val_acc5.append(accuracy*100)\n",
    "    model5.train()\n",
    "    #print(\"Return to training mode\")\n",
    "    \n",
    "    #Need to get validation loss."
   ]
  },
  {
   "cell_type": "code",
   "execution_count": 20,
   "id": "favorite-tongue",
   "metadata": {},
   "outputs": [
    {
     "name": "stdout",
     "output_type": "stream",
     "text": [
      "Training Epoch 001: | Loss: 1.77084 | Acc: 49.600\n",
      "Validation Accuracy |  10.714285714285714  PPV |  [0.         0.10714286]  Recall |  [0. 1.]\n",
      "Training Epoch 002: | Loss: 1.41448 | Acc: 49.900\n",
      "Validation Accuracy |  10.714285714285714  PPV |  [0.         0.10714286]  Recall |  [0. 1.]\n",
      "Training Epoch 003: | Loss: 1.37281 | Acc: 50.100\n",
      "Validation Accuracy |  10.714285714285714  PPV |  [0.         0.10714286]  Recall |  [0. 1.]\n",
      "Training Epoch 004: | Loss: 1.34260 | Acc: 49.900\n",
      "Validation Accuracy |  10.714285714285714  PPV |  [0.         0.10714286]  Recall |  [0. 1.]\n",
      "Training Epoch 005: | Loss: 1.33448 | Acc: 50.000\n"
     ]
    },
    {
     "name": "stderr",
     "output_type": "stream",
     "text": [
      "C:\\Users\\mattbeze\\Anaconda3\\envs\\pytorch\\lib\\site-packages\\sklearn\\metrics\\_classification.py:1245: UndefinedMetricWarning: Precision is ill-defined and being set to 0.0 in labels with no predicted samples. Use `zero_division` parameter to control this behavior.\n",
      "  _warn_prf(average, modifier, msg_start, len(result))\n",
      "C:\\Users\\mattbeze\\Anaconda3\\envs\\pytorch\\lib\\site-packages\\sklearn\\metrics\\_classification.py:1245: UndefinedMetricWarning: Precision is ill-defined and being set to 0.0 in labels with no predicted samples. Use `zero_division` parameter to control this behavior.\n",
      "  _warn_prf(average, modifier, msg_start, len(result))\n",
      "C:\\Users\\mattbeze\\Anaconda3\\envs\\pytorch\\lib\\site-packages\\sklearn\\metrics\\_classification.py:1245: UndefinedMetricWarning: Precision is ill-defined and being set to 0.0 in labels with no predicted samples. Use `zero_division` parameter to control this behavior.\n",
      "  _warn_prf(average, modifier, msg_start, len(result))\n",
      "C:\\Users\\mattbeze\\Anaconda3\\envs\\pytorch\\lib\\site-packages\\sklearn\\metrics\\_classification.py:1245: UndefinedMetricWarning: Precision is ill-defined and being set to 0.0 in labels with no predicted samples. Use `zero_division` parameter to control this behavior.\n",
      "  _warn_prf(average, modifier, msg_start, len(result))\n",
      "C:\\Users\\mattbeze\\Anaconda3\\envs\\pytorch\\lib\\site-packages\\sklearn\\metrics\\_classification.py:1245: UndefinedMetricWarning: Precision is ill-defined and being set to 0.0 in labels with no predicted samples. Use `zero_division` parameter to control this behavior.\n",
      "  _warn_prf(average, modifier, msg_start, len(result))\n"
     ]
    },
    {
     "name": "stdout",
     "output_type": "stream",
     "text": [
      "Validation Accuracy |  10.714285714285714  PPV |  [0.         0.10714286]  Recall |  [0. 1.]\n",
      "Training Epoch 006: | Loss: 1.31775 | Acc: 50.000\n",
      "Validation Accuracy |  10.714285714285714  PPV |  [0.         0.10714286]  Recall |  [0. 1.]\n",
      "Training Epoch 007: | Loss: 1.31618 | Acc: 49.800\n",
      "Validation Accuracy |  10.714285714285714  PPV |  [0.         0.10714286]  Recall |  [0. 1.]\n",
      "Training Epoch 008: | Loss: 1.31077 | Acc: 50.100\n",
      "Validation Accuracy |  10.714285714285714  PPV |  [0.         0.10714286]  Recall |  [0. 1.]\n",
      "Training Epoch 009: | Loss: 1.31378 | Acc: 50.000\n"
     ]
    },
    {
     "name": "stderr",
     "output_type": "stream",
     "text": [
      "C:\\Users\\mattbeze\\Anaconda3\\envs\\pytorch\\lib\\site-packages\\sklearn\\metrics\\_classification.py:1245: UndefinedMetricWarning: Precision is ill-defined and being set to 0.0 in labels with no predicted samples. Use `zero_division` parameter to control this behavior.\n",
      "  _warn_prf(average, modifier, msg_start, len(result))\n",
      "C:\\Users\\mattbeze\\Anaconda3\\envs\\pytorch\\lib\\site-packages\\sklearn\\metrics\\_classification.py:1245: UndefinedMetricWarning: Precision is ill-defined and being set to 0.0 in labels with no predicted samples. Use `zero_division` parameter to control this behavior.\n",
      "  _warn_prf(average, modifier, msg_start, len(result))\n",
      "C:\\Users\\mattbeze\\Anaconda3\\envs\\pytorch\\lib\\site-packages\\sklearn\\metrics\\_classification.py:1245: UndefinedMetricWarning: Precision is ill-defined and being set to 0.0 in labels with no predicted samples. Use `zero_division` parameter to control this behavior.\n",
      "  _warn_prf(average, modifier, msg_start, len(result))\n",
      "C:\\Users\\mattbeze\\Anaconda3\\envs\\pytorch\\lib\\site-packages\\sklearn\\metrics\\_classification.py:1245: UndefinedMetricWarning: Precision is ill-defined and being set to 0.0 in labels with no predicted samples. Use `zero_division` parameter to control this behavior.\n",
      "  _warn_prf(average, modifier, msg_start, len(result))\n",
      "C:\\Users\\mattbeze\\Anaconda3\\envs\\pytorch\\lib\\site-packages\\sklearn\\metrics\\_classification.py:1245: UndefinedMetricWarning: Precision is ill-defined and being set to 0.0 in labels with no predicted samples. Use `zero_division` parameter to control this behavior.\n",
      "  _warn_prf(average, modifier, msg_start, len(result))\n"
     ]
    },
    {
     "name": "stdout",
     "output_type": "stream",
     "text": [
      "Validation Accuracy |  10.714285714285714  PPV |  [0.         0.10714286]  Recall |  [0. 1.]\n",
      "Training Epoch 010: | Loss: 1.26929 | Acc: 49.900\n",
      "Validation Accuracy |  10.714285714285714  PPV |  [0.         0.10714286]  Recall |  [0. 1.]\n",
      "Training Epoch 011: | Loss: 1.25864 | Acc: 49.900\n",
      "Validation Accuracy |  10.714285714285714  PPV |  [0.         0.10714286]  Recall |  [0. 1.]\n",
      "Training Epoch 012: | Loss: 1.21624 | Acc: 50.200\n"
     ]
    },
    {
     "name": "stderr",
     "output_type": "stream",
     "text": [
      "C:\\Users\\mattbeze\\Anaconda3\\envs\\pytorch\\lib\\site-packages\\sklearn\\metrics\\_classification.py:1245: UndefinedMetricWarning: Precision is ill-defined and being set to 0.0 in labels with no predicted samples. Use `zero_division` parameter to control this behavior.\n",
      "  _warn_prf(average, modifier, msg_start, len(result))\n",
      "C:\\Users\\mattbeze\\Anaconda3\\envs\\pytorch\\lib\\site-packages\\sklearn\\metrics\\_classification.py:1245: UndefinedMetricWarning: Precision is ill-defined and being set to 0.0 in labels with no predicted samples. Use `zero_division` parameter to control this behavior.\n",
      "  _warn_prf(average, modifier, msg_start, len(result))\n",
      "C:\\Users\\mattbeze\\Anaconda3\\envs\\pytorch\\lib\\site-packages\\sklearn\\metrics\\_classification.py:1245: UndefinedMetricWarning: Precision is ill-defined and being set to 0.0 in labels with no predicted samples. Use `zero_division` parameter to control this behavior.\n",
      "  _warn_prf(average, modifier, msg_start, len(result))\n"
     ]
    },
    {
     "name": "stdout",
     "output_type": "stream",
     "text": [
      "Validation Accuracy |  10.714285714285714  PPV |  [0.         0.10714286]  Recall |  [0. 1.]\n",
      "Training Epoch 013: | Loss: 1.20106 | Acc: 50.000\n",
      "Validation Accuracy |  10.714285714285714  PPV |  [0.         0.10714286]  Recall |  [0. 1.]\n",
      "Training Epoch 014: | Loss: 1.16521 | Acc: 50.100\n",
      "Validation Accuracy |  10.714285714285714  PPV |  [0.         0.10714286]  Recall |  [0. 1.]\n",
      "Training Epoch 015: | Loss: 1.12208 | Acc: 50.100\n"
     ]
    },
    {
     "name": "stderr",
     "output_type": "stream",
     "text": [
      "C:\\Users\\mattbeze\\Anaconda3\\envs\\pytorch\\lib\\site-packages\\sklearn\\metrics\\_classification.py:1245: UndefinedMetricWarning: Precision is ill-defined and being set to 0.0 in labels with no predicted samples. Use `zero_division` parameter to control this behavior.\n",
      "  _warn_prf(average, modifier, msg_start, len(result))\n",
      "C:\\Users\\mattbeze\\Anaconda3\\envs\\pytorch\\lib\\site-packages\\sklearn\\metrics\\_classification.py:1245: UndefinedMetricWarning: Precision is ill-defined and being set to 0.0 in labels with no predicted samples. Use `zero_division` parameter to control this behavior.\n",
      "  _warn_prf(average, modifier, msg_start, len(result))\n",
      "C:\\Users\\mattbeze\\Anaconda3\\envs\\pytorch\\lib\\site-packages\\sklearn\\metrics\\_classification.py:1245: UndefinedMetricWarning: Precision is ill-defined and being set to 0.0 in labels with no predicted samples. Use `zero_division` parameter to control this behavior.\n",
      "  _warn_prf(average, modifier, msg_start, len(result))\n"
     ]
    },
    {
     "name": "stdout",
     "output_type": "stream",
     "text": [
      "Validation Accuracy |  10.714285714285714  PPV |  [0.         0.10714286]  Recall |  [0. 1.]\n",
      "Training Epoch 016: | Loss: 1.07080 | Acc: 50.100\n",
      "Validation Accuracy |  10.714285714285714  PPV |  [0.         0.10714286]  Recall |  [0. 1.]\n",
      "Training Epoch 017: | Loss: 1.04232 | Acc: 50.500\n",
      "Validation Accuracy |  14.285714285714285  PPV |  [1.         0.11111111]  Recall |  [0.04 1.  ]\n",
      "Training Epoch 018: | Loss: 0.94542 | Acc: 55.800\n",
      "Validation Accuracy |  21.428571428571427  PPV |  [1.   0.12]  Recall |  [0.12 1.  ]\n",
      "Training Epoch 019: | Loss: 0.86252 | Acc: 56.900\n",
      "Validation Accuracy |  21.428571428571427  PPV |  [0.8        0.08695652]  Recall |  [0.16       0.66666667]\n",
      "Training Epoch 020: | Loss: 0.77265 | Acc: 65.200\n",
      "Validation Accuracy |  21.428571428571427  PPV |  [1.   0.12]  Recall |  [0.12 1.  ]\n",
      "Training Epoch 021: | Loss: 0.68417 | Acc: 74.100\n",
      "Validation Accuracy |  35.714285714285715  PPV |  [0.88888889 0.10526316]  Recall |  [0.32       0.66666667]\n",
      "Training Epoch 022: | Loss: 0.60762 | Acc: 79.800\n",
      "Validation Accuracy |  53.57142857142857  PPV |  [0.875      0.08333333]  Recall |  [0.56       0.33333333]\n",
      "Training Epoch 023: | Loss: 0.54773 | Acc: 81.500\n",
      "Validation Accuracy |  75.0  PPV |  [0.90909091 0.16666667]  Recall |  [0.8        0.33333333]\n",
      "Training Epoch 024: | Loss: 0.47336 | Acc: 85.000\n",
      "Validation Accuracy |  78.57142857142857  PPV |  [0.91304348 0.2       ]  Recall |  [0.84       0.33333333]\n",
      "Training Epoch 025: | Loss: 0.40169 | Acc: 89.100\n",
      "Validation Accuracy |  60.71428571428571  PPV |  [0.88888889 0.1       ]  Recall |  [0.64       0.33333333]\n",
      "Training Epoch 026: | Loss: 0.33908 | Acc: 91.600\n",
      "Validation Accuracy |  75.0  PPV |  [0.90909091 0.16666667]  Recall |  [0.8        0.33333333]\n",
      "Training Epoch 027: | Loss: 0.27026 | Acc: 93.800\n",
      "Validation Accuracy |  71.42857142857143  PPV |  [0.9047619  0.14285714]  Recall |  [0.76       0.33333333]\n",
      "Training Epoch 028: | Loss: 0.25373 | Acc: 93.400\n",
      "Validation Accuracy |  82.14285714285714  PPV |  [0.91666667 0.25      ]  Recall |  [0.88       0.33333333]\n",
      "Training Epoch 029: | Loss: 0.20262 | Acc: 95.900\n",
      "Validation Accuracy |  82.14285714285714  PPV |  [0.91666667 0.25      ]  Recall |  [0.88       0.33333333]\n",
      "Training Epoch 030: | Loss: 0.16659 | Acc: 95.900\n",
      "Validation Accuracy |  82.14285714285714  PPV |  [0.91666667 0.25      ]  Recall |  [0.88       0.33333333]\n",
      "Training Epoch 031: | Loss: 0.15827 | Acc: 96.400\n",
      "Validation Accuracy |  64.28571428571429  PPV |  [0.89473684 0.11111111]  Recall |  [0.68       0.33333333]\n",
      "Training Epoch 032: | Loss: 0.16238 | Acc: 97.600\n",
      "Validation Accuracy |  82.14285714285714  PPV |  [0.91666667 0.25      ]  Recall |  [0.88       0.33333333]\n",
      "Training Epoch 033: | Loss: 0.11777 | Acc: 96.700\n",
      "Validation Accuracy |  82.14285714285714  PPV |  [0.91666667 0.25      ]  Recall |  [0.88       0.33333333]\n",
      "Training Epoch 034: | Loss: 0.10470 | Acc: 97.900\n",
      "Validation Accuracy |  82.14285714285714  PPV |  [0.91666667 0.25      ]  Recall |  [0.88       0.33333333]\n",
      "Training Epoch 035: | Loss: 0.08561 | Acc: 98.300\n",
      "Validation Accuracy |  85.71428571428571  PPV |  [0.92       0.33333333]  Recall |  [0.92       0.33333333]\n"
     ]
    }
   ],
   "source": [
    "#model.train() tells PyTorch that you’re in training mode.\n",
    "#Similarly, we’ll call model.eval() when we test our model. We’ll see that below.\n",
    "'''If you’re using layers such as Dropout or BatchNorm which behave differently during training and evaluation, \n",
    "you need to tell PyTorch to act accordingly. While the default mode in PyTorch is the train, \n",
    "so, you don’t explicitly have to write that. But it’s good practice.'''\n",
    "val_acc6 = []\n",
    "train_acc6 = []\n",
    "train_loss6 = []\n",
    "val_loss6 = []\n",
    "\n",
    "model6.train() #Initial training mode\n",
    "for e in range(1, EPOCHS+1):\n",
    "    epoch_loss = 0\n",
    "    epoch_acc = 0\n",
    "    for X_batch, y_batch in train_loader6:\n",
    "        X_batch, y_batch = X_batch.to(device), y_batch.to(device)\n",
    "        optimizer6.zero_grad()\n",
    "        \n",
    "        y_pred = model6(X_batch)\n",
    "        \n",
    "        loss = criterion(y_pred, y_batch)\n",
    "        acc = binary_acc(y_pred, y_batch)\n",
    "        \n",
    "        loss.backward()\n",
    "        optimizer6.step()\n",
    "        \n",
    "        epoch_loss += loss.item()\n",
    "        epoch_acc += acc.item()\n",
    "    \n",
    "    train_acc6.append(epoch_acc/len(train_loader6))\n",
    "    train_loss6.append(epoch_loss/len(train_loader6))\n",
    "    print(f'Training Epoch {e+0:03}: | Loss: {epoch_loss/len(train_loader6):.5f} | Acc: {epoch_acc/len(train_loader6):.3f}')\n",
    "    #Validation metrics here\n",
    "    model6.eval()\n",
    "    #print(\"Evaluation mode\")\n",
    "    y_pred_list = []\n",
    "    test_loader6 = DataLoader(dataset=test_data6, batch_size=test_size1)\n",
    "    with torch.no_grad():\n",
    "        counter = 0\n",
    "        for X_batch in test_loader6:\n",
    "            X_batch = X_batch.to(device)\n",
    "            y_test_pred = model6(X_batch)\n",
    "            y_test_pred = torch.sigmoid(y_test_pred)\n",
    "            y_pred_tag = torch.round(y_test_pred)\n",
    "            y_pred_list.append(y_pred_tag.cpu().numpy())\n",
    "            loss = criterion(y_test_pred,torch.FloatTensor(testing_fold_Y_6))\n",
    "            val_loss6.append(loss)\n",
    "            counter+=1\n",
    "            \n",
    "    y_pred_list = []\n",
    "    test_loader6 = DataLoader(dataset=test_data6, batch_size=1)\n",
    "    with torch.no_grad():\n",
    "        for X_batch in test_loader6:\n",
    "            X_batch = X_batch.to(device)\n",
    "            y_test_pred = model6(X_batch)\n",
    "            y_test_pred = torch.sigmoid(y_test_pred)\n",
    "            y_pred_tag = torch.round(y_test_pred)\n",
    "            y_pred_list.append(y_pred_tag.cpu().numpy())\n",
    "            \n",
    "    y_pred_list = [a.squeeze().tolist() for a in y_pred_list]\n",
    "    y_loss_df = pd.DataFrame(y_pred_list)\n",
    "    accuracy = accuracy_score(torch.FloatTensor(testing_fold_Y_6), y_pred_list)\n",
    "    ppv = precision_score(testing_fold_Y_6, y_pred_list, average=None)\n",
    "    recall = recall_score(testing_fold_Y_6, y_pred_list, average=None)\n",
    "    print(\"Validation Accuracy | \",accuracy*100,\" PPV | \",ppv,\" Recall | \",recall)\n",
    "    val_acc6.append(accuracy*100)\n",
    "    model6.train()\n",
    "    #print(\"Return to training mode\")\n",
    "    \n",
    "    #Need to get validation loss."
   ]
  },
  {
   "cell_type": "code",
   "execution_count": 21,
   "id": "silver-scene",
   "metadata": {},
   "outputs": [
    {
     "name": "stdout",
     "output_type": "stream",
     "text": [
      "Training Epoch 001: | Loss: 1.70386 | Acc: 50.300\n",
      "Validation Accuracy |  14.285714285714285  PPV |  [0.         0.14285714]  Recall |  [0. 1.]\n",
      "Training Epoch 002: | Loss: 1.36181 | Acc: 50.000\n",
      "Validation Accuracy |  14.285714285714285  PPV |  [0.         0.14285714]  Recall |  [0. 1.]\n",
      "Training Epoch 003: | Loss: 1.39897 | Acc: 49.900\n",
      "Validation Accuracy |  14.285714285714285  PPV |  [0.         0.14285714]  Recall |  [0. 1.]\n",
      "Training Epoch 004: | Loss: 1.36722 | Acc: 50.000\n",
      "Validation Accuracy |  14.285714285714285  PPV |  [0.         0.14285714]  Recall |  [0. 1.]\n",
      "Training Epoch 005: | Loss: 1.35905 | Acc: 49.900\n"
     ]
    },
    {
     "name": "stderr",
     "output_type": "stream",
     "text": [
      "C:\\Users\\mattbeze\\Anaconda3\\envs\\pytorch\\lib\\site-packages\\sklearn\\metrics\\_classification.py:1245: UndefinedMetricWarning: Precision is ill-defined and being set to 0.0 in labels with no predicted samples. Use `zero_division` parameter to control this behavior.\n",
      "  _warn_prf(average, modifier, msg_start, len(result))\n",
      "C:\\Users\\mattbeze\\Anaconda3\\envs\\pytorch\\lib\\site-packages\\sklearn\\metrics\\_classification.py:1245: UndefinedMetricWarning: Precision is ill-defined and being set to 0.0 in labels with no predicted samples. Use `zero_division` parameter to control this behavior.\n",
      "  _warn_prf(average, modifier, msg_start, len(result))\n",
      "C:\\Users\\mattbeze\\Anaconda3\\envs\\pytorch\\lib\\site-packages\\sklearn\\metrics\\_classification.py:1245: UndefinedMetricWarning: Precision is ill-defined and being set to 0.0 in labels with no predicted samples. Use `zero_division` parameter to control this behavior.\n",
      "  _warn_prf(average, modifier, msg_start, len(result))\n",
      "C:\\Users\\mattbeze\\Anaconda3\\envs\\pytorch\\lib\\site-packages\\sklearn\\metrics\\_classification.py:1245: UndefinedMetricWarning: Precision is ill-defined and being set to 0.0 in labels with no predicted samples. Use `zero_division` parameter to control this behavior.\n",
      "  _warn_prf(average, modifier, msg_start, len(result))\n",
      "C:\\Users\\mattbeze\\Anaconda3\\envs\\pytorch\\lib\\site-packages\\sklearn\\metrics\\_classification.py:1245: UndefinedMetricWarning: Precision is ill-defined and being set to 0.0 in labels with no predicted samples. Use `zero_division` parameter to control this behavior.\n",
      "  _warn_prf(average, modifier, msg_start, len(result))\n"
     ]
    },
    {
     "name": "stdout",
     "output_type": "stream",
     "text": [
      "Validation Accuracy |  14.285714285714285  PPV |  [0.         0.14285714]  Recall |  [0. 1.]\n",
      "Training Epoch 006: | Loss: 1.32710 | Acc: 50.100\n",
      "Validation Accuracy |  14.285714285714285  PPV |  [0.         0.14285714]  Recall |  [0. 1.]\n",
      "Training Epoch 007: | Loss: 1.29181 | Acc: 50.000\n",
      "Validation Accuracy |  14.285714285714285  PPV |  [0.         0.14285714]  Recall |  [0. 1.]\n",
      "Training Epoch 008: | Loss: 1.30045 | Acc: 50.000\n",
      "Validation Accuracy |  14.285714285714285  PPV |  [0.         0.14285714]  Recall |  [0. 1.]\n",
      "Training Epoch 009: | Loss: 1.27023 | Acc: 50.000\n"
     ]
    },
    {
     "name": "stderr",
     "output_type": "stream",
     "text": [
      "C:\\Users\\mattbeze\\Anaconda3\\envs\\pytorch\\lib\\site-packages\\sklearn\\metrics\\_classification.py:1245: UndefinedMetricWarning: Precision is ill-defined and being set to 0.0 in labels with no predicted samples. Use `zero_division` parameter to control this behavior.\n",
      "  _warn_prf(average, modifier, msg_start, len(result))\n",
      "C:\\Users\\mattbeze\\Anaconda3\\envs\\pytorch\\lib\\site-packages\\sklearn\\metrics\\_classification.py:1245: UndefinedMetricWarning: Precision is ill-defined and being set to 0.0 in labels with no predicted samples. Use `zero_division` parameter to control this behavior.\n",
      "  _warn_prf(average, modifier, msg_start, len(result))\n",
      "C:\\Users\\mattbeze\\Anaconda3\\envs\\pytorch\\lib\\site-packages\\sklearn\\metrics\\_classification.py:1245: UndefinedMetricWarning: Precision is ill-defined and being set to 0.0 in labels with no predicted samples. Use `zero_division` parameter to control this behavior.\n",
      "  _warn_prf(average, modifier, msg_start, len(result))\n"
     ]
    },
    {
     "name": "stdout",
     "output_type": "stream",
     "text": [
      "Validation Accuracy |  14.285714285714285  PPV |  [0.         0.14285714]  Recall |  [0. 1.]\n",
      "Training Epoch 010: | Loss: 1.24358 | Acc: 50.100\n",
      "Validation Accuracy |  14.285714285714285  PPV |  [0.         0.14285714]  Recall |  [0. 1.]\n",
      "Training Epoch 011: | Loss: 1.20821 | Acc: 50.000\n",
      "Validation Accuracy |  14.285714285714285  PPV |  [0.         0.14285714]  Recall |  [0. 1.]\n"
     ]
    },
    {
     "name": "stderr",
     "output_type": "stream",
     "text": [
      "C:\\Users\\mattbeze\\Anaconda3\\envs\\pytorch\\lib\\site-packages\\sklearn\\metrics\\_classification.py:1245: UndefinedMetricWarning: Precision is ill-defined and being set to 0.0 in labels with no predicted samples. Use `zero_division` parameter to control this behavior.\n",
      "  _warn_prf(average, modifier, msg_start, len(result))\n",
      "C:\\Users\\mattbeze\\Anaconda3\\envs\\pytorch\\lib\\site-packages\\sklearn\\metrics\\_classification.py:1245: UndefinedMetricWarning: Precision is ill-defined and being set to 0.0 in labels with no predicted samples. Use `zero_division` parameter to control this behavior.\n",
      "  _warn_prf(average, modifier, msg_start, len(result))\n",
      "C:\\Users\\mattbeze\\Anaconda3\\envs\\pytorch\\lib\\site-packages\\sklearn\\metrics\\_classification.py:1245: UndefinedMetricWarning: Precision is ill-defined and being set to 0.0 in labels with no predicted samples. Use `zero_division` parameter to control this behavior.\n",
      "  _warn_prf(average, modifier, msg_start, len(result))\n",
      "C:\\Users\\mattbeze\\Anaconda3\\envs\\pytorch\\lib\\site-packages\\sklearn\\metrics\\_classification.py:1245: UndefinedMetricWarning: Precision is ill-defined and being set to 0.0 in labels with no predicted samples. Use `zero_division` parameter to control this behavior.\n",
      "  _warn_prf(average, modifier, msg_start, len(result))\n"
     ]
    },
    {
     "name": "stdout",
     "output_type": "stream",
     "text": [
      "Training Epoch 012: | Loss: 1.14156 | Acc: 50.200\n",
      "Validation Accuracy |  14.285714285714285  PPV |  [0.         0.14285714]  Recall |  [0. 1.]\n",
      "Training Epoch 013: | Loss: 1.10706 | Acc: 50.000\n",
      "Validation Accuracy |  14.285714285714285  PPV |  [0.         0.14285714]  Recall |  [0. 1.]\n",
      "Training Epoch 014: | Loss: 1.04562 | Acc: 50.600\n",
      "Validation Accuracy |  14.285714285714285  PPV |  [0.         0.14285714]  Recall |  [0. 1.]\n",
      "Training Epoch 015: | Loss: 0.96074 | Acc: 51.000\n",
      "Validation Accuracy |  17.857142857142858  PPV |  [1.         0.14814815]  Recall |  [0.04166667 1.        ]\n",
      "Training Epoch 016: | Loss: 0.86576 | Acc: 56.800\n"
     ]
    },
    {
     "name": "stderr",
     "output_type": "stream",
     "text": [
      "C:\\Users\\mattbeze\\Anaconda3\\envs\\pytorch\\lib\\site-packages\\sklearn\\metrics\\_classification.py:1245: UndefinedMetricWarning: Precision is ill-defined and being set to 0.0 in labels with no predicted samples. Use `zero_division` parameter to control this behavior.\n",
      "  _warn_prf(average, modifier, msg_start, len(result))\n",
      "C:\\Users\\mattbeze\\Anaconda3\\envs\\pytorch\\lib\\site-packages\\sklearn\\metrics\\_classification.py:1245: UndefinedMetricWarning: Precision is ill-defined and being set to 0.0 in labels with no predicted samples. Use `zero_division` parameter to control this behavior.\n",
      "  _warn_prf(average, modifier, msg_start, len(result))\n"
     ]
    },
    {
     "name": "stdout",
     "output_type": "stream",
     "text": [
      "Validation Accuracy |  21.428571428571427  PPV |  [1.         0.15384615]  Recall |  [0.08333333 1.        ]\n",
      "Training Epoch 017: | Loss: 0.78043 | Acc: 66.400\n",
      "Validation Accuracy |  35.714285714285715  PPV |  [1.         0.18181818]  Recall |  [0.25 1.  ]\n",
      "Training Epoch 018: | Loss: 0.68964 | Acc: 72.900\n",
      "Validation Accuracy |  35.714285714285715  PPV |  [0.875 0.15 ]  Recall |  [0.29166667 0.75      ]\n",
      "Training Epoch 019: | Loss: 0.62173 | Acc: 76.100\n",
      "Validation Accuracy |  57.14285714285714  PPV |  [0.875      0.16666667]  Recall |  [0.58333333 0.5       ]\n",
      "Training Epoch 020: | Loss: 0.51912 | Acc: 85.500\n",
      "Validation Accuracy |  42.857142857142854  PPV |  [0.9        0.16666667]  Recall |  [0.375 0.75 ]\n",
      "Training Epoch 021: | Loss: 0.44733 | Acc: 86.000\n",
      "Validation Accuracy |  64.28571428571429  PPV |  [0.88888889 0.2       ]  Recall |  [0.66666667 0.5       ]\n",
      "Training Epoch 022: | Loss: 0.34275 | Acc: 90.600\n",
      "Validation Accuracy |  67.85714285714286  PPV |  [0.82608696 0.        ]  Recall |  [0.79166667 0.        ]\n",
      "Training Epoch 023: | Loss: 0.28444 | Acc: 92.900\n",
      "Validation Accuracy |  82.14285714285714  PPV |  [0.85185185 0.        ]  Recall |  [0.95833333 0.        ]\n",
      "Training Epoch 024: | Loss: 0.24663 | Acc: 95.300\n",
      "Validation Accuracy |  67.85714285714286  PPV |  [0.82608696 0.        ]  Recall |  [0.79166667 0.        ]\n",
      "Training Epoch 025: | Loss: 0.19243 | Acc: 95.500\n",
      "Validation Accuracy |  75.0  PPV |  [0.84 0.  ]  Recall |  [0.875 0.   ]\n",
      "Training Epoch 026: | Loss: 0.18914 | Acc: 95.700\n",
      "Validation Accuracy |  82.14285714285714  PPV |  [0.85185185 0.        ]  Recall |  [0.95833333 0.        ]\n",
      "Training Epoch 027: | Loss: 0.16483 | Acc: 94.000\n",
      "Validation Accuracy |  85.71428571428571  PPV |  [0.85714286 0.        ]  Recall |  [1. 0.]\n",
      "Training Epoch 028: | Loss: 0.12638 | Acc: 97.900\n",
      "Validation Accuracy |  82.14285714285714  PPV |  [0.85185185 0.        ]  Recall |  [0.95833333 0.        ]\n",
      "Training Epoch 029: | Loss: 0.10836 | Acc: 98.200\n",
      "Validation Accuracy |  75.0  PPV |  [0.84 0.  ]  Recall |  [0.875 0.   ]\n"
     ]
    },
    {
     "name": "stderr",
     "output_type": "stream",
     "text": [
      "C:\\Users\\mattbeze\\Anaconda3\\envs\\pytorch\\lib\\site-packages\\sklearn\\metrics\\_classification.py:1245: UndefinedMetricWarning: Precision is ill-defined and being set to 0.0 in labels with no predicted samples. Use `zero_division` parameter to control this behavior.\n",
      "  _warn_prf(average, modifier, msg_start, len(result))\n"
     ]
    },
    {
     "name": "stdout",
     "output_type": "stream",
     "text": [
      "Training Epoch 030: | Loss: 0.08112 | Acc: 99.400\n",
      "Validation Accuracy |  82.14285714285714  PPV |  [0.85185185 0.        ]  Recall |  [0.95833333 0.        ]\n",
      "Training Epoch 031: | Loss: 0.08791 | Acc: 99.100\n",
      "Validation Accuracy |  82.14285714285714  PPV |  [0.85185185 0.        ]  Recall |  [0.95833333 0.        ]\n",
      "Training Epoch 032: | Loss: 0.07750 | Acc: 98.500\n",
      "Validation Accuracy |  78.57142857142857  PPV |  [0.84615385 0.        ]  Recall |  [0.91666667 0.        ]\n",
      "Training Epoch 033: | Loss: 0.06443 | Acc: 98.500\n",
      "Validation Accuracy |  82.14285714285714  PPV |  [0.85185185 0.        ]  Recall |  [0.95833333 0.        ]\n",
      "Training Epoch 034: | Loss: 0.06581 | Acc: 98.500\n",
      "Validation Accuracy |  85.71428571428571  PPV |  [0.85714286 0.        ]  Recall |  [1. 0.]\n",
      "Training Epoch 035: | Loss: 0.06727 | Acc: 99.100\n",
      "Validation Accuracy |  82.14285714285714  PPV |  [0.85185185 0.        ]  Recall |  [0.95833333 0.        ]\n"
     ]
    },
    {
     "name": "stderr",
     "output_type": "stream",
     "text": [
      "C:\\Users\\mattbeze\\Anaconda3\\envs\\pytorch\\lib\\site-packages\\sklearn\\metrics\\_classification.py:1245: UndefinedMetricWarning: Precision is ill-defined and being set to 0.0 in labels with no predicted samples. Use `zero_division` parameter to control this behavior.\n",
      "  _warn_prf(average, modifier, msg_start, len(result))\n"
     ]
    }
   ],
   "source": [
    "#model.train() tells PyTorch that you’re in training mode.\n",
    "#Similarly, we’ll call model.eval() when we test our model. We’ll see that below.\n",
    "'''If you’re using layers such as Dropout or BatchNorm which behave differently during training and evaluation, \n",
    "you need to tell PyTorch to act accordingly. While the default mode in PyTorch is the train, \n",
    "so, you don’t explicitly have to write that. But it’s good practice.'''\n",
    "val_acc7 = []\n",
    "train_acc7 = []\n",
    "train_loss7 = []\n",
    "val_loss7 = []\n",
    "\n",
    "model7.train() #Initial training mode\n",
    "for e in range(1, EPOCHS+1):\n",
    "    epoch_loss = 0\n",
    "    epoch_acc = 0\n",
    "    for X_batch, y_batch in train_loader7:\n",
    "        X_batch, y_batch = X_batch.to(device), y_batch.to(device)\n",
    "        optimizer7.zero_grad()\n",
    "        \n",
    "        y_pred = model7(X_batch)\n",
    "        \n",
    "        loss = criterion(y_pred, y_batch)\n",
    "        acc = binary_acc(y_pred, y_batch)\n",
    "        \n",
    "        loss.backward()\n",
    "        optimizer7.step()\n",
    "        \n",
    "        epoch_loss += loss.item()\n",
    "        epoch_acc += acc.item()\n",
    "    \n",
    "    train_acc7.append(epoch_acc/len(train_loader7))\n",
    "    train_loss7.append(epoch_loss/len(train_loader7))\n",
    "    print(f'Training Epoch {e+0:03}: | Loss: {epoch_loss/len(train_loader7):.5f} | Acc: {epoch_acc/len(train_loader7):.3f}')\n",
    "    #Validation metrics here\n",
    "    model7.eval()\n",
    "    #print(\"Evaluation mode\")\n",
    "    y_pred_list = []\n",
    "    test_loader7 = DataLoader(dataset=test_data7, batch_size=test_size1)\n",
    "    with torch.no_grad():\n",
    "        counter = 0\n",
    "        for X_batch in test_loader7:\n",
    "            X_batch = X_batch.to(device)\n",
    "            y_test_pred = model7(X_batch)\n",
    "            y_test_pred = torch.sigmoid(y_test_pred)\n",
    "            y_pred_tag = torch.round(y_test_pred)\n",
    "            y_pred_list.append(y_pred_tag.cpu().numpy())\n",
    "            loss = criterion(y_test_pred,torch.FloatTensor(testing_fold_Y_7))\n",
    "            val_loss7.append(loss)\n",
    "            counter+=1\n",
    "            \n",
    "    y_pred_list = []\n",
    "    test_loader7 = DataLoader(dataset=test_data7, batch_size=1)\n",
    "    with torch.no_grad():\n",
    "        for X_batch in test_loader7:\n",
    "            X_batch = X_batch.to(device)\n",
    "            y_test_pred = model7(X_batch)\n",
    "            y_test_pred = torch.sigmoid(y_test_pred)\n",
    "            y_pred_tag = torch.round(y_test_pred)\n",
    "            y_pred_list.append(y_pred_tag.cpu().numpy())\n",
    "            \n",
    "    y_pred_list = [a.squeeze().tolist() for a in y_pred_list]\n",
    "    y_loss_df = pd.DataFrame(y_pred_list)\n",
    "    accuracy = accuracy_score(torch.FloatTensor(testing_fold_Y_7), y_pred_list)\n",
    "    ppv = precision_score(testing_fold_Y_7, y_pred_list, average=None)\n",
    "    recall = recall_score(testing_fold_Y_7, y_pred_list, average=None)\n",
    "    print(\"Validation Accuracy | \",accuracy*100,\" PPV | \",ppv,\" Recall | \",recall)\n",
    "    val_acc7.append(accuracy*100)\n",
    "    model7.train()\n",
    "    #print(\"Return to training mode\")\n",
    "    \n",
    "    #Need to get validation loss."
   ]
  },
  {
   "cell_type": "code",
   "execution_count": 22,
   "id": "intended-arrest",
   "metadata": {},
   "outputs": [
    {
     "data": {
      "image/png": "[encoded data removed]",
      "text/plain": [
       "<Figure size 432x288 with 1 Axes>"
      ]
     },
     "metadata": {
      "needs_background": "light"
     },
     "output_type": "display_data"
    },
    {
     "data": {
      "image/png": "[encoded data removed]",
      "text/plain": [
       "<Figure size 432x288 with 1 Axes>"
      ]
     },
     "metadata": {
      "needs_background": "light"
     },
     "output_type": "display_data"
    },
    {
     "data": {
      "image/png": "[encoded data removed]",
      "text/plain": [
       "<Figure size 432x288 with 1 Axes>"
      ]
     },
     "metadata": {
      "needs_background": "light"
     },
     "output_type": "display_data"
    },
    {
     "data": {
      "image/png": "[encoded data removed]",
      "text/plain": [
       "<Figure size 432x288 with 1 Axes>"
      ]
     },
     "metadata": {
      "needs_background": "light"
     },
     "output_type": "display_data"
    },
    {
     "data": {
      "image/png": "[encoded data removed]",
      "text/plain": [
       "<Figure size 432x288 with 1 Axes>"
      ]
     },
     "metadata": {
      "needs_background": "light"
     },
     "output_type": "display_data"
    },
    {
     "data": {
      "image/png": "[encoded data removed]",
      "text/plain": [
       "<Figure size 432x288 with 1 Axes>"
      ]
     },
     "metadata": {
      "needs_background": "light"
     },
     "output_type": "display_data"
    },
    {
     "data": {
      "image/png": "[encoded data removed]",
      "text/plain": [
       "<Figure size 432x288 with 1 Axes>"
      ]
     },
     "metadata": {
      "needs_background": "light"
     },
     "output_type": "display_data"
    },
    {
     "data": {
      "image/png": "[encoded data removed]",
      "text/plain": [
       "<Figure size 432x288 with 1 Axes>"
      ]
     },
     "metadata": {
      "needs_background": "light"
     },
     "output_type": "display_data"
    },
    {
     "data": {
      "image/png": "[encoded data removed]",
      "text/plain": [
       "<Figure size 432x288 with 1 Axes>"
      ]
     },
     "metadata": {
      "needs_background": "light"
     },
     "output_type": "display_data"
    },
    {
     "data": {
      "image/png": "[encoded data removed]",
      "text/plain": [
       "<Figure size 432x288 with 1 Axes>"
      ]
     },
     "metadata": {
      "needs_background": "light"
     },
     "output_type": "display_data"
    },
    {
     "data": {
      "image/png": "[encoded data removed]",
      "text/plain": [
       "<Figure size 432x288 with 1 Axes>"
      ]
     },
     "metadata": {
      "needs_background": "light"
     },
     "output_type": "display_data"
    },
    {
     "data": {
      "image/png": "[encoded data removed]",
      "text/plain": [
       "<Figure size 432x288 with 1 Axes>"
      ]
     },
     "metadata": {
      "needs_background": "light"
     },
     "output_type": "display_data"
    },
    {
     "data": {
      "image/png": "[encoded data removed]",
      "text/plain": [
       "<Figure size 432x288 with 1 Axes>"
      ]
     },
     "metadata": {
      "needs_background": "light"
     },
     "output_type": "display_data"
    },
    {
     "data": {
      "image/png": "[encoded data removed]",
      "text/plain": [
       "<Figure size 432x288 with 1 Axes>"
      ]
     },
     "metadata": {
      "needs_background": "light"
     },
     "output_type": "display_data"
    },
    {
     "data": {
      "image/png": "[encoded data removed]",
      "text/plain": [
       "<Figure size 432x288 with 1 Axes>"
      ]
     },
     "metadata": {
      "needs_background": "light"
     },
     "output_type": "display_data"
    },
    {
     "data": {
      "image/png": "[encoded data removed]",
      "text/plain": [
       "<Figure size 432x288 with 1 Axes>"
      ]
     },
     "metadata": {
      "needs_background": "light"
     },
     "output_type": "display_data"
    }
   ],
   "source": [
    "#Plotting loss\n",
    "plt.plot(train_loss)\n",
    "plt.plot(val_loss)\n",
    "plt.title('model loss')\n",
    "plt.ylabel('loss')\n",
    "plt.xlabel('epoch')\n",
    "plt.legend(['train', 'validation'], loc='upper left')\n",
    "plt.axis([0, EPOCHS-1, 0.0, 1.5])\n",
    "plt.show()\n",
    "\n",
    "#Plotting Accuracy\n",
    "plt.plot(train_acc)\n",
    "plt.plot(val_acc)\n",
    "plt.title('model accuracy')\n",
    "plt.ylabel('acc')\n",
    "plt.xlabel('epoch')\n",
    "plt.legend(['train_acc', 'val_acc'], loc='upper left')\n",
    "plt.axis([0, EPOCHS-1, 0.0, 105])\n",
    "plt.show()\n",
    "\n",
    "#Plotting loss\n",
    "plt.plot(train_loss1)\n",
    "plt.plot(val_loss1)\n",
    "plt.title('model1 loss')\n",
    "plt.ylabel('loss')\n",
    "plt.xlabel('epoch')\n",
    "plt.legend(['train', 'validation'], loc='upper left')\n",
    "plt.axis([0, EPOCHS-1, 0.0, 1.5])\n",
    "plt.show()\n",
    "\n",
    "#Plotting Accuracy\n",
    "plt.plot(train_acc1)\n",
    "plt.plot(val_acc1)\n",
    "plt.title('model1 accuracy')\n",
    "plt.ylabel('acc')\n",
    "plt.xlabel('epoch')\n",
    "plt.legend(['train_acc', 'val_acc'], loc='upper left')\n",
    "plt.axis([0, EPOCHS-1, 0.0, 105])\n",
    "plt.show()\n",
    "\n",
    "#Plotting loss\n",
    "plt.plot(train_loss2)\n",
    "plt.plot(val_loss2)\n",
    "plt.title('model2 loss')\n",
    "plt.ylabel('loss')\n",
    "plt.xlabel('epoch')\n",
    "plt.legend(['train', 'validation'], loc='upper left')\n",
    "plt.axis([0, EPOCHS-1, 0.0, 1.5])\n",
    "plt.show()\n",
    "\n",
    "#Plotting Accuracy\n",
    "plt.plot(train_acc2)\n",
    "plt.plot(val_acc2)\n",
    "plt.title('model2 accuracy')\n",
    "plt.ylabel('acc')\n",
    "plt.xlabel('epoch')\n",
    "plt.legend(['train_acc', 'val_acc'], loc='upper left')\n",
    "plt.axis([0, EPOCHS-1, 0.0, 105])\n",
    "plt.show()\n",
    "\n",
    "#Plotting loss\n",
    "plt.plot(train_loss3)\n",
    "plt.plot(val_loss3)\n",
    "plt.title('model3 loss')\n",
    "plt.ylabel('loss')\n",
    "plt.xlabel('epoch')\n",
    "plt.legend(['train', 'validation'], loc='upper left')\n",
    "plt.axis([0, EPOCHS-1, 0.0, 1.5])\n",
    "plt.show()\n",
    "\n",
    "#Plotting Accuracy\n",
    "plt.plot(train_acc3)\n",
    "plt.plot(val_acc3)\n",
    "plt.title('model3 accuracy')\n",
    "plt.ylabel('acc')\n",
    "plt.xlabel('epoch')\n",
    "plt.legend(['train_acc', 'val_acc'], loc='upper left')\n",
    "plt.axis([0, EPOCHS-1, 0.0, 105])\n",
    "plt.show()\n",
    "\n",
    "#Plotting loss\n",
    "plt.plot(train_loss4)\n",
    "plt.plot(val_loss4)\n",
    "plt.title('model4 loss')\n",
    "plt.ylabel('loss')\n",
    "plt.xlabel('epoch')\n",
    "plt.legend(['train', 'validation'], loc='upper left')\n",
    "plt.axis([0, EPOCHS-1, 0.0, 1.5])\n",
    "plt.show()\n",
    "\n",
    "#Plotting Accuracy\n",
    "plt.plot(train_acc4)\n",
    "plt.plot(val_acc4)\n",
    "plt.title('model4 accuracy')\n",
    "plt.ylabel('acc')\n",
    "plt.xlabel('epoch')\n",
    "plt.legend(['train_acc', 'val_acc'], loc='upper left')\n",
    "plt.axis([0, EPOCHS-1, 0.0, 105])\n",
    "plt.show()\n",
    "\n",
    "#Plotting loss\n",
    "plt.plot(train_loss5)\n",
    "plt.plot(val_loss5)\n",
    "plt.title('model5 loss')\n",
    "plt.ylabel('loss')\n",
    "plt.xlabel('epoch')\n",
    "plt.legend(['train', 'validation'], loc='upper left')\n",
    "plt.axis([0, EPOCHS-1, 0.0, 1.5])\n",
    "plt.show()\n",
    "\n",
    "#Plotting Accuracy\n",
    "plt.plot(train_acc5)\n",
    "plt.plot(val_acc5)\n",
    "plt.title('model5 accuracy')\n",
    "plt.ylabel('acc')\n",
    "plt.xlabel('epoch')\n",
    "plt.legend(['train_acc', 'val_acc'], loc='upper left')\n",
    "plt.axis([0, EPOCHS-1, 0.0, 105])\n",
    "plt.show()\n",
    "\n",
    "#Plotting loss\n",
    "plt.plot(train_loss6)\n",
    "plt.plot(val_loss6)\n",
    "plt.title('model6 loss')\n",
    "plt.ylabel('loss')\n",
    "plt.xlabel('epoch')\n",
    "plt.legend(['train', 'validation'], loc='upper left')\n",
    "plt.axis([0, EPOCHS-1, 0.0, 1.5])\n",
    "plt.show()\n",
    "\n",
    "#Plotting Accuracy\n",
    "plt.plot(train_acc6)\n",
    "plt.plot(val_acc6)\n",
    "plt.title('model6 accuracy')\n",
    "plt.ylabel('acc')\n",
    "plt.xlabel('epoch')\n",
    "plt.legend(['train_acc', 'val_acc'], loc='upper left')\n",
    "plt.axis([0, EPOCHS-1, 0.0, 105])\n",
    "plt.show()\n",
    "\n",
    "#Plotting loss\n",
    "plt.plot(train_loss7)\n",
    "plt.plot(val_loss7)\n",
    "plt.title('model7 loss')\n",
    "plt.ylabel('loss')\n",
    "plt.xlabel('epoch')\n",
    "plt.legend(['train', 'validation'], loc='upper left')\n",
    "plt.axis([0, EPOCHS-1, 0.0, 1.5])\n",
    "plt.show()\n",
    "\n",
    "#Plotting Accuracy\n",
    "plt.plot(train_acc7)\n",
    "plt.plot(val_acc7)\n",
    "plt.title('model7 accuracy')\n",
    "plt.ylabel('acc')\n",
    "plt.xlabel('epoch')\n",
    "plt.legend(['train_acc', 'val_acc'], loc='upper left')\n",
    "plt.axis([0, EPOCHS-1, 0.0, 105])\n",
    "plt.show()"
   ]
  },
  {
   "cell_type": "code",
   "execution_count": 23,
   "id": "still-photographer",
   "metadata": {},
   "outputs": [
    {
     "name": "stdout",
     "output_type": "stream",
     "text": [
      "Validation Accuracy |  82.75862068965517  PPV |  [0.88461538 0.33333333]  Recall |  [0.92 0.25]\n"
     ]
    },
    {
     "data": {
      "image/png": "[encoded data removed]",
      "text/plain": [
       "<Figure size 432x288 with 2 Axes>"
      ]
     },
     "metadata": {
      "needs_background": "light"
     },
     "output_type": "display_data"
    }
   ],
   "source": [
    "final_prediction = []\n",
    "final_prediction_true = []\n",
    "\n",
    "y_pred_list = []\n",
    "test_loader = DataLoader(dataset=test_data, batch_size=1)\n",
    "model.eval() #Model evaluation\n",
    "with torch.no_grad():\n",
    "    for X_batch in test_loader:\n",
    "        X_batch = X_batch.to(device)\n",
    "        y_test_pred = model(X_batch)\n",
    "        y_test_pred = torch.sigmoid(y_test_pred)\n",
    "        y_pred_tag = torch.round(y_test_pred)\n",
    "        y_pred_list.append(y_pred_tag.cpu().numpy())\n",
    "        final_prediction.append(y_pred_tag.cpu().numpy())\n",
    "\n",
    "y_pred_list = [a.squeeze().tolist() for a in y_pred_list]\n",
    "accuracy = accuracy_score(testing_fold_Y_0, y_pred_list)\n",
    "ppv = precision_score(testing_fold_Y_0, y_pred_list, average=None)\n",
    "recall = recall_score(testing_fold_Y_0, y_pred_list, average=None)\n",
    "print(\"Validation Accuracy | \",accuracy*100,\" PPV | \",ppv,\" Recall | \",recall)\n",
    "cf_matrix = confusion_matrix(testing_fold_Y_0, y_pred_list)\n",
    "sn.heatmap(cf_matrix, annot=True)\n",
    "\n",
    "for y in testing_fold_Y_0:\n",
    "    final_prediction_true.append(y)"
   ]
  },
  {
   "cell_type": "code",
   "execution_count": 24,
   "id": "duplicate-probe",
   "metadata": {},
   "outputs": [
    {
     "name": "stdout",
     "output_type": "stream",
     "text": [
      "Validation Accuracy |  72.41379310344827  PPV |  [0.84 0.  ]  Recall |  [0.84 0.  ]\n"
     ]
    },
    {
     "data": {
      "image/png": "[encoded data removed]",
      "text/plain": [
       "<Figure size 432x288 with 2 Axes>"
      ]
     },
     "metadata": {
      "needs_background": "light"
     },
     "output_type": "display_data"
    }
   ],
   "source": [
    "y_pred_list = []\n",
    "test_loader = DataLoader(dataset=test_data1, batch_size=1)\n",
    "model1.eval() #Model evaluation\n",
    "with torch.no_grad():\n",
    "    for X_batch in test_loader:\n",
    "        X_batch = X_batch.to(device)\n",
    "        y_test_pred = model1(X_batch)\n",
    "        y_test_pred = torch.sigmoid(y_test_pred)\n",
    "        y_pred_tag = torch.round(y_test_pred)\n",
    "        y_pred_list.append(y_pred_tag.cpu().numpy())\n",
    "        final_prediction.append(y_pred_tag.cpu().numpy())\n",
    "\n",
    "y_pred_list = [a.squeeze().tolist() for a in y_pred_list]\n",
    "accuracy = accuracy_score(testing_fold_Y_1, y_pred_list)\n",
    "ppv = precision_score(testing_fold_Y_1, y_pred_list, average=None)\n",
    "recall = recall_score(testing_fold_Y_1, y_pred_list, average=None)\n",
    "print(\"Validation Accuracy | \",accuracy*100,\" PPV | \",ppv,\" Recall | \",recall)\n",
    "cf_matrix = confusion_matrix(testing_fold_Y_1, y_pred_list)\n",
    "sn.heatmap(cf_matrix, annot=True)\n",
    "\n",
    "for y in testing_fold_Y_1:\n",
    "    final_prediction_true.append(y)"
   ]
  },
  {
   "cell_type": "code",
   "execution_count": 25,
   "id": "worldwide-range",
   "metadata": {},
   "outputs": [
    {
     "name": "stdout",
     "output_type": "stream",
     "text": [
      "Validation Accuracy |  67.85714285714286  PPV |  [0.9   0.125]  Recall |  [0.72       0.33333333]\n"
     ]
    },
    {
     "data": {
      "image/png": "[encoded data removed]",
      "text/plain": [
       "<Figure size 432x288 with 2 Axes>"
      ]
     },
     "metadata": {
      "needs_background": "light"
     },
     "output_type": "display_data"
    }
   ],
   "source": [
    "y_pred_list = []\n",
    "test_loader = DataLoader(dataset=test_data2, batch_size=1)\n",
    "model2.eval() #Model evaluation\n",
    "with torch.no_grad():\n",
    "    for X_batch in test_loader:\n",
    "        X_batch = X_batch.to(device)\n",
    "        y_test_pred = model2(X_batch)\n",
    "        y_test_pred = torch.sigmoid(y_test_pred)\n",
    "        y_pred_tag = torch.round(y_test_pred)\n",
    "        y_pred_list.append(y_pred_tag.cpu().numpy())\n",
    "        final_prediction.append(y_pred_tag.cpu().numpy())\n",
    "\n",
    "y_pred_list = [a.squeeze().tolist() for a in y_pred_list]\n",
    "accuracy = accuracy_score(testing_fold_Y_2, y_pred_list)\n",
    "ppv = precision_score(testing_fold_Y_2, y_pred_list, average=None)\n",
    "recall = recall_score(testing_fold_Y_2, y_pred_list, average=None)\n",
    "print(\"Validation Accuracy | \",accuracy*100,\" PPV | \",ppv,\" Recall | \",recall)\n",
    "cf_matrix = confusion_matrix(testing_fold_Y_2, y_pred_list)\n",
    "sn.heatmap(cf_matrix, annot=True)\n",
    "\n",
    "for y in testing_fold_Y_2:\n",
    "    final_prediction_true.append(y)"
   ]
  },
  {
   "cell_type": "code",
   "execution_count": 26,
   "id": "southeast-patent",
   "metadata": {},
   "outputs": [
    {
     "name": "stdout",
     "output_type": "stream",
     "text": [
      "Validation Accuracy |  85.71428571428571  PPV |  [0.92       0.33333333]  Recall |  [0.92       0.33333333]\n"
     ]
    },
    {
     "data": {
      "image/png": "[encoded data removed]",
      "text/plain": [
       "<Figure size 432x288 with 2 Axes>"
      ]
     },
     "metadata": {
      "needs_background": "light"
     },
     "output_type": "display_data"
    }
   ],
   "source": [
    "y_pred_list = []\n",
    "test_loader = DataLoader(dataset=test_data3, batch_size=1)\n",
    "model3.eval() #Model evaluation\n",
    "with torch.no_grad():\n",
    "    for X_batch in test_loader:\n",
    "        X_batch = X_batch.to(device)\n",
    "        y_test_pred = model3(X_batch)\n",
    "        y_test_pred = torch.sigmoid(y_test_pred)\n",
    "        y_pred_tag = torch.round(y_test_pred)\n",
    "        y_pred_list.append(y_pred_tag.cpu().numpy())\n",
    "        final_prediction.append(y_pred_tag.cpu().numpy())\n",
    "\n",
    "y_pred_list = [a.squeeze().tolist() for a in y_pred_list]\n",
    "accuracy = accuracy_score(testing_fold_Y_3, y_pred_list)\n",
    "ppv = precision_score(testing_fold_Y_3, y_pred_list, average=None)\n",
    "recall = recall_score(testing_fold_Y_3, y_pred_list, average=None)\n",
    "print(\"Validation Accuracy | \",accuracy*100,\" PPV | \",ppv,\" Recall | \",recall)\n",
    "cf_matrix = confusion_matrix(testing_fold_Y_3, y_pred_list)\n",
    "sn.heatmap(cf_matrix, annot=True)\n",
    "\n",
    "for y in testing_fold_Y_3:\n",
    "    final_prediction_true.append(y)"
   ]
  },
  {
   "cell_type": "code",
   "execution_count": 27,
   "id": "entire-marina",
   "metadata": {},
   "outputs": [
    {
     "name": "stdout",
     "output_type": "stream",
     "text": [
      "Validation Accuracy |  85.71428571428571  PPV |  [0.88888889 0.        ]  Recall |  [0.96 0.  ]\n"
     ]
    },
    {
     "data": {
      "image/png": "[encoded data removed]",
      "text/plain": [
       "<Figure size 432x288 with 2 Axes>"
      ]
     },
     "metadata": {
      "needs_background": "light"
     },
     "output_type": "display_data"
    }
   ],
   "source": [
    "y_pred_list = []\n",
    "test_loader = DataLoader(dataset=test_data4, batch_size=1)\n",
    "model4.eval() #Model evaluation\n",
    "with torch.no_grad():\n",
    "    for X_batch in test_loader:\n",
    "        X_batch = X_batch.to(device)\n",
    "        y_test_pred = model4(X_batch)\n",
    "        y_test_pred = torch.sigmoid(y_test_pred)\n",
    "        y_pred_tag = torch.round(y_test_pred)\n",
    "        y_pred_list.append(y_pred_tag.cpu().numpy())\n",
    "        final_prediction.append(y_pred_tag.cpu().numpy())\n",
    "\n",
    "y_pred_list = [a.squeeze().tolist() for a in y_pred_list]\n",
    "accuracy = accuracy_score(testing_fold_Y_4, y_pred_list)\n",
    "ppv = precision_score(testing_fold_Y_4, y_pred_list, average=None)\n",
    "recall = recall_score(testing_fold_Y_4, y_pred_list, average=None)\n",
    "print(\"Validation Accuracy | \",accuracy*100,\" PPV | \",ppv,\" Recall | \",recall)\n",
    "cf_matrix = confusion_matrix(testing_fold_Y_4, y_pred_list)\n",
    "sn.heatmap(cf_matrix, annot=True)\n",
    "\n",
    "for y in testing_fold_Y_4:\n",
    "    final_prediction_true.append(y)"
   ]
  },
  {
   "cell_type": "code",
   "execution_count": 28,
   "id": "vital-singles",
   "metadata": {},
   "outputs": [
    {
     "name": "stdout",
     "output_type": "stream",
     "text": [
      "Validation Accuracy |  78.57142857142857  PPV |  [0.88 0.  ]  Recall |  [0.88 0.  ]\n"
     ]
    },
    {
     "data": {
      "image/png": "[encoded data removed]",
      "text/plain": [
       "<Figure size 432x288 with 2 Axes>"
      ]
     },
     "metadata": {
      "needs_background": "light"
     },
     "output_type": "display_data"
    }
   ],
   "source": [
    "y_pred_list = []\n",
    "test_loader = DataLoader(dataset=test_data5, batch_size=1)\n",
    "model5.eval() #Model evaluation\n",
    "with torch.no_grad():\n",
    "    for X_batch in test_loader:\n",
    "        X_batch = X_batch.to(device)\n",
    "        y_test_pred = model5(X_batch)\n",
    "        y_test_pred = torch.sigmoid(y_test_pred)\n",
    "        y_pred_tag = torch.round(y_test_pred)\n",
    "        y_pred_list.append(y_pred_tag.cpu().numpy())\n",
    "        final_prediction.append(y_pred_tag.cpu().numpy())\n",
    "\n",
    "y_pred_list = [a.squeeze().tolist() for a in y_pred_list]\n",
    "accuracy = accuracy_score(testing_fold_Y_5, y_pred_list)\n",
    "ppv = precision_score(testing_fold_Y_5, y_pred_list, average=None)\n",
    "recall = recall_score(testing_fold_Y_5, y_pred_list, average=None)\n",
    "print(\"Validation Accuracy | \",accuracy*100,\" PPV | \",ppv,\" Recall | \",recall)\n",
    "cf_matrix = confusion_matrix(testing_fold_Y_5, y_pred_list)\n",
    "sn.heatmap(cf_matrix, annot=True)\n",
    "\n",
    "for y in testing_fold_Y_5:\n",
    "    final_prediction_true.append(y)"
   ]
  },
  {
   "cell_type": "code",
   "execution_count": 29,
   "id": "mounted-fabric",
   "metadata": {},
   "outputs": [
    {
     "name": "stdout",
     "output_type": "stream",
     "text": [
      "Validation Accuracy |  85.71428571428571  PPV |  [0.92       0.33333333]  Recall |  [0.92       0.33333333]\n"
     ]
    },
    {
     "data": {
      "image/png": "[encoded data removed]",
      "text/plain": [
       "<Figure size 432x288 with 2 Axes>"
      ]
     },
     "metadata": {
      "needs_background": "light"
     },
     "output_type": "display_data"
    }
   ],
   "source": [
    "y_pred_list = []\n",
    "test_loader = DataLoader(dataset=test_data6, batch_size=1)\n",
    "model6.eval() #Model evaluation\n",
    "with torch.no_grad():\n",
    "    for X_batch in test_loader:\n",
    "        X_batch = X_batch.to(device)\n",
    "        y_test_pred = model6(X_batch)\n",
    "        y_test_pred = torch.sigmoid(y_test_pred)\n",
    "        y_pred_tag = torch.round(y_test_pred)\n",
    "        y_pred_list.append(y_pred_tag.cpu().numpy())\n",
    "        final_prediction.append(y_pred_tag.cpu().numpy())\n",
    "\n",
    "y_pred_list = [a.squeeze().tolist() for a in y_pred_list]\n",
    "accuracy = accuracy_score(testing_fold_Y_6, y_pred_list)\n",
    "ppv = precision_score(testing_fold_Y_6, y_pred_list, average=None)\n",
    "recall = recall_score(testing_fold_Y_6, y_pred_list, average=None)\n",
    "print(\"Validation Accuracy | \",accuracy*100,\" PPV | \",ppv,\" Recall | \",recall)\n",
    "cf_matrix = confusion_matrix(testing_fold_Y_6, y_pred_list)\n",
    "sn.heatmap(cf_matrix, annot=True)\n",
    "\n",
    "for y in testing_fold_Y_6:\n",
    "    final_prediction_true.append(y)"
   ]
  },
  {
   "cell_type": "code",
   "execution_count": 30,
   "id": "attached-avatar",
   "metadata": {},
   "outputs": [
    {
     "name": "stdout",
     "output_type": "stream",
     "text": [
      "Validation Accuracy |  82.14285714285714  PPV |  [0.85185185 0.        ]  Recall |  [0.95833333 0.        ]\n"
     ]
    },
    {
     "data": {
      "image/png": "[encoded data removed]",
      "text/plain": [
       "<Figure size 432x288 with 2 Axes>"
      ]
     },
     "metadata": {
      "needs_background": "light"
     },
     "output_type": "display_data"
    }
   ],
   "source": [
    "y_pred_list = []\n",
    "test_loader = DataLoader(dataset=test_data7, batch_size=1)\n",
    "model7.eval() #Model evaluation\n",
    "with torch.no_grad():\n",
    "    for X_batch in test_loader:\n",
    "        X_batch = X_batch.to(device)\n",
    "        y_test_pred = model7(X_batch)\n",
    "        y_test_pred = torch.sigmoid(y_test_pred)\n",
    "        y_pred_tag = torch.round(y_test_pred)\n",
    "        y_pred_list.append(y_pred_tag.cpu().numpy())\n",
    "        final_prediction.append(y_pred_tag.cpu().numpy())\n",
    "\n",
    "y_pred_list = [a.squeeze().tolist() for a in y_pred_list]\n",
    "accuracy = accuracy_score(testing_fold_Y_7, y_pred_list)\n",
    "ppv = precision_score(testing_fold_Y_7, y_pred_list, average=None)\n",
    "recall = recall_score(testing_fold_Y_7, y_pred_list, average=None)\n",
    "print(\"Validation Accuracy | \",accuracy*100,\" PPV | \",ppv,\" Recall | \",recall)\n",
    "cf_matrix = confusion_matrix(testing_fold_Y_7, y_pred_list)\n",
    "sn.heatmap(cf_matrix, annot=True)\n",
    "\n",
    "for y in testing_fold_Y_7:\n",
    "    final_prediction_true.append(y)"
   ]
  },
  {
   "cell_type": "code",
   "execution_count": 31,
   "id": "classical-section",
   "metadata": {},
   "outputs": [
    {
     "data": {
      "text/plain": [
       "[0.0,\n",
       " 0.0,\n",
       " 0.0,\n",
       " 0.0,\n",
       " 1.0,\n",
       " 0.0,\n",
       " 0.0,\n",
       " 0.0,\n",
       " 0.0,\n",
       " 0.0,\n",
       " 0.0,\n",
       " 0.0,\n",
       " 0.0,\n",
       " 1.0,\n",
       " 0.0,\n",
       " 0.0,\n",
       " 0.0,\n",
       " 1.0,\n",
       " 0.0,\n",
       " 0.0,\n",
       " 0.0,\n",
       " 0.0,\n",
       " 0.0,\n",
       " 0.0,\n",
       " 0.0,\n",
       " 0.0,\n",
       " 0.0,\n",
       " 0.0,\n",
       " 0.0,\n",
       " 0.0,\n",
       " 0.0,\n",
       " 0.0,\n",
       " 0.0,\n",
       " 0.0,\n",
       " 0.0,\n",
       " 0.0,\n",
       " 0.0,\n",
       " 0.0,\n",
       " 0.0,\n",
       " 0.0,\n",
       " 0.0,\n",
       " 0.0,\n",
       " 0.0,\n",
       " 1.0,\n",
       " 1.0,\n",
       " 0.0,\n",
       " 1.0,\n",
       " 0.0,\n",
       " 0.0,\n",
       " 0.0,\n",
       " 0.0,\n",
       " 0.0,\n",
       " 1.0,\n",
       " 0.0,\n",
       " 0.0,\n",
       " 0.0,\n",
       " 0.0,\n",
       " 0.0,\n",
       " 0.0,\n",
       " 1.0,\n",
       " 0.0,\n",
       " 1.0,\n",
       " 0.0,\n",
       " 0.0,\n",
       " 0.0,\n",
       " 0.0,\n",
       " 1.0,\n",
       " 0.0,\n",
       " 1.0,\n",
       " 0.0,\n",
       " 0.0,\n",
       " 0.0,\n",
       " 0.0,\n",
       " 0.0,\n",
       " 1.0,\n",
       " 0.0,\n",
       " 0.0,\n",
       " 0.0,\n",
       " 1.0,\n",
       " 0.0,\n",
       " 0.0,\n",
       " 1.0,\n",
       " 1.0,\n",
       " 0.0,\n",
       " 0.0,\n",
       " 0.0,\n",
       " 1.0,\n",
       " 0.0,\n",
       " 0.0,\n",
       " 0.0,\n",
       " 1.0,\n",
       " 0.0,\n",
       " 0.0,\n",
       " 0.0,\n",
       " 0.0,\n",
       " 0.0,\n",
       " 1.0,\n",
       " 0.0,\n",
       " 0.0,\n",
       " 0.0,\n",
       " 0.0,\n",
       " 0.0,\n",
       " 0.0,\n",
       " 0.0,\n",
       " 0.0,\n",
       " 0.0,\n",
       " 0.0,\n",
       " 0.0,\n",
       " 0.0,\n",
       " 0.0,\n",
       " 0.0,\n",
       " 0.0,\n",
       " 0.0,\n",
       " 0.0,\n",
       " 0.0,\n",
       " 0.0,\n",
       " 0.0,\n",
       " 0.0,\n",
       " 0.0,\n",
       " 0.0,\n",
       " 0.0,\n",
       " 0.0,\n",
       " 0.0,\n",
       " 0.0,\n",
       " 0.0,\n",
       " 0.0,\n",
       " 0.0,\n",
       " 0.0,\n",
       " 0.0,\n",
       " 0.0,\n",
       " 0.0,\n",
       " 0.0,\n",
       " 0.0,\n",
       " 0.0,\n",
       " 0.0,\n",
       " 0.0,\n",
       " 0.0,\n",
       " 1.0,\n",
       " 0.0,\n",
       " 0.0,\n",
       " 0.0,\n",
       " 0.0,\n",
       " 0.0,\n",
       " 0.0,\n",
       " 0.0,\n",
       " 0.0,\n",
       " 0.0,\n",
       " 0.0,\n",
       " 1.0,\n",
       " 0.0,\n",
       " 0.0,\n",
       " 0.0,\n",
       " 0.0,\n",
       " 0.0,\n",
       " 0.0,\n",
       " 0.0,\n",
       " 0.0,\n",
       " 0.0,\n",
       " 0.0,\n",
       " 0.0,\n",
       " 1.0,\n",
       " 0.0,\n",
       " 0.0,\n",
       " 1.0,\n",
       " 0.0,\n",
       " 0.0,\n",
       " 0.0,\n",
       " 0.0,\n",
       " 0.0,\n",
       " 0.0,\n",
       " 0.0,\n",
       " 1.0,\n",
       " 0.0,\n",
       " 1.0,\n",
       " 0.0,\n",
       " 0.0,\n",
       " 0.0,\n",
       " 1.0,\n",
       " 0.0,\n",
       " 0.0,\n",
       " 0.0,\n",
       " 0.0,\n",
       " 0.0,\n",
       " 0.0,\n",
       " 0.0,\n",
       " 0.0,\n",
       " 0.0,\n",
       " 0.0,\n",
       " 0.0,\n",
       " 0.0,\n",
       " 0.0,\n",
       " 0.0,\n",
       " 0.0,\n",
       " 0.0,\n",
       " 0.0,\n",
       " 0.0,\n",
       " 0.0,\n",
       " 0.0,\n",
       " 0.0,\n",
       " 0.0,\n",
       " 0.0,\n",
       " 0.0,\n",
       " 1.0,\n",
       " 0.0,\n",
       " 0.0,\n",
       " 0.0,\n",
       " 0.0,\n",
       " 0.0,\n",
       " 0.0,\n",
       " 0.0,\n",
       " 0.0,\n",
       " 0.0,\n",
       " 0.0,\n",
       " 0.0,\n",
       " 0.0,\n",
       " 0.0,\n",
       " 0.0,\n",
       " 0.0,\n",
       " 0.0,\n",
       " 0.0,\n",
       " 0.0,\n",
       " 0.0,\n",
       " 0.0,\n",
       " 0.0,\n",
       " 0.0,\n",
       " 0.0]"
      ]
     },
     "execution_count": 31,
     "metadata": {},
     "output_type": "execute_result"
    }
   ],
   "source": [
    "prediction_labels = []\n",
    "true_labels = []\n",
    "\n",
    "for x in range(0,len(final_prediction_true)):\n",
    "    true_labels.append(final_prediction_true[x][0])\n",
    "    prediction_labels.append(final_prediction[x][0][0])\n",
    "\n",
    "prediction_labels"
   ]
  },
  {
   "cell_type": "code",
   "execution_count": 32,
   "id": "inside-hobby",
   "metadata": {},
   "outputs": [
    {
     "name": "stdout",
     "output_type": "stream",
     "text": [
      "[[177  22]\n",
      " [ 23   4]]\n",
      "Positive Predictive Value tp/(tp+fp):  0.15384615384615385\n",
      "Accuracy Value (tp+tn)/(tp+fp+fn+tn):  0.8008849557522124\n",
      "Recall Value tp/(tp+fn):  0.14814814814814814\n"
     ]
    },
    {
     "data": {
      "image/png": "[encoded data removed]",
      "text/plain": [
       "<Figure size 432x288 with 2 Axes>"
      ]
     },
     "metadata": {
      "needs_background": "light"
     },
     "output_type": "display_data"
    }
   ],
   "source": [
    "cf_matrix = confusion_matrix(true_labels, prediction_labels)\n",
    "print(cf_matrix)\n",
    "sn.heatmap(cf_matrix, annot=True)\n",
    "\n",
    "\n",
    "accuracy = accuracy_score(true_labels, prediction_labels)\n",
    "recall = recall_score(true_labels, prediction_labels, average=None)\n",
    "prec_score = precision_score(true_labels, prediction_labels, average=None)\n",
    "print('Positive Predictive Value tp/(tp+fp): ',prec_score[1]) \n",
    "print('Accuracy Value (tp+tn)/(tp+fp+fn+tn): ',accuracy) \n",
    "print('Recall Value tp/(tp+fn): ',recall[1]) "
   ]
  },
  {
   "cell_type": "code",
   "execution_count": null,
   "id": "genuine-nashville",
   "metadata": {},
   "outputs": [],
   "source": []
  }
 ],
 "metadata": {
  "kernelspec": {
   "display_name": "Python 3",
   "language": "python",
   "name": "python3"
  },
  "language_info": {
   "codemirror_mode": {
    "name": "ipython",
    "version": 3
   },
   "file_extension": ".py",
   "mimetype": "text/x-python",
   "name": "python",
   "nbconvert_exporter": "python",
   "pygments_lexer": "ipython3",
   "version": "3.7.9"
  }
 },
 "nbformat": 4,
 "nbformat_minor": 5
}
