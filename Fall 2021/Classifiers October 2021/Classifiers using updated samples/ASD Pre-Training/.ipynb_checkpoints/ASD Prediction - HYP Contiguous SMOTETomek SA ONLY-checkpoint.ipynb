{
 "cells": [
  {
   "cell_type": "code",
   "execution_count": 1,
   "id": "foreign-airfare",
   "metadata": {},
   "outputs": [
    {
     "data": {
      "text/plain": [
       "<torch._C.Generator at 0x24425851a50>"
      ]
     },
     "execution_count": 1,
     "metadata": {},
     "output_type": "execute_result"
    }
   ],
   "source": [
    "import seaborn as sn\n",
    "from imblearn.over_sampling import SMOTE, SMOTENC \n",
    "from imblearn.combine import SMOTETomek\n",
    "from imblearn.under_sampling import TomekLinks\n",
    "import matplotlib.pyplot as plt\n",
    "import pandas as pd\n",
    "from sklearn.utils import class_weight\n",
    "from sklearn.metrics import accuracy_score, recall_score, confusion_matrix, multilabel_confusion_matrix, precision_score, precision_recall_curve, average_precision_score, classification_report\n",
    "from sklearn.model_selection import KFold, StratifiedKFold, train_test_split, GridSearchCV\n",
    "from sklearn.preprocessing import MinMaxScaler, LabelEncoder\n",
    "from torch.utils.data import Dataset, DataLoader, random_split\n",
    "from torch import Tensor\n",
    "from torch.nn import Linear, ReLU, Sigmoid, Module, BCELoss, BCEWithLogitsLoss\n",
    "from torch.optim import Adam\n",
    "import torch\n",
    "import torch.nn as nn\n",
    "import torch.optim as optim\n",
    "from torch.utils.data import Dataset, DataLoader\n",
    "from pandas import DataFrame\n",
    "import xlsxwriter\n",
    "import time\n",
    "\n",
    "seed_value = 7\n",
    "import os\n",
    "os.environ['PYTHONHASHSEED']=str(seed_value)\n",
    "import random\n",
    "random.seed(seed_value)\n",
    "import numpy as np\n",
    "np.random.seed(seed_value)\n",
    "import torch\n",
    "torch.manual_seed(seed_value)"
   ]
  },
  {
   "cell_type": "code",
   "execution_count": 2,
   "id": "cooked-scroll",
   "metadata": {},
   "outputs": [
    {
     "name": "stdout",
     "output_type": "stream",
     "text": [
      "(325, 152)\n",
      "(325, 1)\n",
      "          ROI01       ROI02       ROI03       ROI04       ROI05       ROI06  \\\n",
      "0    165.815887  358.347351  495.168182  509.735504  232.845993  383.652130   \n",
      "1    300.181702  462.752716  464.555298  544.092529  317.463257  528.835144   \n",
      "2    288.945465  671.623840  425.262726  551.006409  286.384033  567.243408   \n",
      "3    284.080505  401.243591  390.357941  432.806061  413.813049  635.051575   \n",
      "4    258.001892  423.618713  522.596924  370.944885  367.616455  408.566254   \n",
      "..          ...         ...         ...         ...         ...         ...   \n",
      "320  225.355286  388.635345  541.641479  405.124451  296.338837  708.989685   \n",
      "321  241.952530  646.202332  518.838318  766.203796  307.633575  507.180695   \n",
      "322  209.272415  438.897919  427.852509  378.745667  204.034790  499.845642   \n",
      "323  239.067444  611.642700  499.945374  312.045197  387.927032  466.336151   \n",
      "324  251.201065  675.960510  467.639465  488.050262  265.667114  571.125305   \n",
      "\n",
      "          ROI07       ROI08       ROI09       ROI10  ...      ROI145  \\\n",
      "0    234.376892  280.570282  134.920410   54.754360  ...  155.508011   \n",
      "1    288.190796  387.642548  196.535248   65.808685  ...  201.204773   \n",
      "2    284.124084  487.105591  157.345703   60.754860  ...  200.227219   \n",
      "3    259.135071  356.626678  166.474777   69.911194  ...  236.601746   \n",
      "4    338.235352  277.353943  115.291061  115.844894  ...  204.568115   \n",
      "..          ...         ...         ...         ...  ...         ...   \n",
      "320  338.889984  301.172272  102.619431   56.383537  ...  235.810120   \n",
      "321  390.446228  273.699463  139.979523   65.920578  ...  276.025177   \n",
      "322  273.389618  318.956696  111.194069   63.397480  ...  144.219238   \n",
      "323  344.571167  276.347107   99.710052   63.520020  ...  276.356140   \n",
      "324  308.394073  560.030884  153.974548   60.680508  ...  298.344025   \n",
      "\n",
      "         ROI146      ROI147      ROI148       ROI149     ROI150    GA  Sex  \\\n",
      "0     48.544083  181.545761   55.945396  1334.362915  42.280411  38.0  1.0   \n",
      "1     73.664246  213.794815   85.349739  1055.696899  45.044640  38.0  1.0   \n",
      "2     44.225342  138.425171   67.068848  1332.396973  38.569923  38.0  1.0   \n",
      "3    110.491745  165.591187   54.119156  1180.109985  41.613785  38.0  1.0   \n",
      "4     40.610905  164.443649   69.239693   977.552307  30.338100  38.0  0.0   \n",
      "..          ...         ...         ...          ...        ...   ...  ...   \n",
      "320   51.496948  148.841721   65.336006  1114.747314  49.085369  38.0  1.0   \n",
      "321   96.080154  190.212219   94.857468  1246.162842  91.711594  38.0  1.0   \n",
      "322   68.406181  145.055130  126.826782   951.095276  57.694912  38.0  0.0   \n",
      "323   32.484756   92.408058   29.952845  1340.986572  43.590279  38.0  0.0   \n",
      "324   41.011883  125.253403   86.354561  1254.106079  45.841053  38.0  1.0   \n",
      "\n",
      "     MEDU  Age-At-Scan  \n",
      "0    25.0        365.0  \n",
      "1    25.0        365.0  \n",
      "2    25.0        365.0  \n",
      "3    25.0        365.0  \n",
      "4    25.0        365.0  \n",
      "..    ...          ...  \n",
      "320  25.0        365.0  \n",
      "321  25.0        365.0  \n",
      "322  25.0        365.0  \n",
      "323  25.0        365.0  \n",
      "324  25.0        365.0  \n",
      "\n",
      "[325 rows x 152 columns]\n"
     ]
    }
   ],
   "source": [
    "Training_Data = pd.ExcelFile(\"Labels.xlsx\") #Training Data already pre-scaled to the IBIS Data set\n",
    "data = Training_Data.parse(Training_Data.sheet_names[4])\n",
    "label_data = Training_Data.parse(Training_Data.sheet_names[0])\n",
    "data_features = data.loc[:, data.columns]\n",
    "data_features = data_features.drop(['Case','Visit','MATCH','INDEX','ASD+','ASD-','Gender'], axis=1)\n",
    "data_features = data_features.dropna()\n",
    "data_features = data_features.drop(['Final Label'], axis=1)\n",
    "labels = label_data.loc[:, label_data.columns]\n",
    "labels = labels.drop(['CASE','MATCH','INDEX','ASD+','ASD-'], axis=1)\n",
    "labels = labels.dropna()\n",
    "print(data_features.shape)\n",
    "print(labels.shape)\n",
    "\n",
    "print(data_features)"
   ]
  },
  {
   "cell_type": "code",
   "execution_count": 3,
   "id": "engaged-memorabilia",
   "metadata": {},
   "outputs": [
    {
     "name": "stdout",
     "output_type": "stream",
     "text": [
      "(484, 152)\n",
      "(484, 1)\n",
      "(33, 152)\n"
     ]
    }
   ],
   "source": [
    "scaler = MinMaxScaler()\n",
    "scaled_data = scaler.fit_transform(data_features)\n",
    "\n",
    "scaled_data.shape\n",
    "labels.shape\n",
    "\n",
    "X_train, X_test, Y_train, Y_test = train_test_split(scaled_data, labels, test_size=0.10, random_state=seed_value)\n",
    "sm = SMOTENC([150],sampling_strategy = 'minority', random_state = seed_value, k_neighbors=2)\n",
    "tl = TomekLinks(sampling_strategy = 'majority')\n",
    "\n",
    "\n",
    "resample = SMOTETomek(smote=sm,tomek=tl,random_state=seed_value)\n",
    "#Version below works the exact same apparently. Will just pass the old smote object.\n",
    "#resample = SMOTETomek(smote=SMOTENC([297],sampling_strategy='minority'),tomek=TomekLinks(sampling_strategy='majority'),random_state=seed_value)\n",
    "\n",
    "\n",
    "\n",
    "#Imblearn has other SMOTE variants to look into.\n",
    "#ADASYN - creates synthetic data according to the data density. \n",
    "#The synthetic data generation would inversely proportional to the density of the minority class. It means more synthetic data are created in regions of the feature space where the density of minority examples is low, and fewer or none where the density is high.\n",
    "#In simpler terms, in an area where the minority class is less dense, the synthetic data are created more. Otherwise, the synthetic data is not made so much.\n",
    "\n",
    "#SMOTENC - Denote which features are categorical, and SMOTE would resample the categorical data instead of creating synthetic data.\n",
    "\n",
    "#Borderline SMOTE\n",
    "#K SMOTE\n",
    "\n",
    "#Should increase testing size. Play with testing/training split.\n",
    "#X_train_smoted, Y_train_smoted = sm.fit_sample(X_train, Y_train) #Only smote the training set.\n",
    "#X_undersampled, Y_undersampled = tl.fit_resample(X_train, Y_train)\n",
    "X_resampled, Y_resampled = resample.fit_sample(X_train,Y_train)\n",
    "\n",
    "#print(X_train_smoted.shape)\n",
    "#print(Y_train_smoted.shape)\n",
    "#print(X_undersampled.shape)\n",
    "#print(Y_undersampled.shape)\n",
    "print(X_resampled.shape)\n",
    "print(Y_resampled.shape)\n",
    "print(X_test.shape)"
   ]
  },
  {
   "cell_type": "code",
   "execution_count": 4,
   "id": "quarterly-fundamentals",
   "metadata": {},
   "outputs": [],
   "source": [
    "#Y_train_smoted"
   ]
  },
  {
   "cell_type": "code",
   "execution_count": 5,
   "id": "double-visibility",
   "metadata": {},
   "outputs": [],
   "source": [
    "#Y_undersampled"
   ]
  },
  {
   "cell_type": "code",
   "execution_count": 6,
   "id": "loved-salon",
   "metadata": {},
   "outputs": [],
   "source": [
    "pd.set_option(\"display.max_rows\", None, \"display.max_columns\", None)\n",
    "#print(X_train_smoted)"
   ]
  },
  {
   "cell_type": "code",
   "execution_count": 7,
   "id": "endless-penny",
   "metadata": {},
   "outputs": [
    {
     "data": {
      "text/plain": [
       "(484, 152)"
      ]
     },
     "execution_count": 7,
     "metadata": {},
     "output_type": "execute_result"
    }
   ],
   "source": [
    "X_resampled.shape"
   ]
  },
  {
   "cell_type": "code",
   "execution_count": 8,
   "id": "consolidated-business",
   "metadata": {},
   "outputs": [],
   "source": [
    "#Some hyperparameters\n",
    "#D_in is input dimension; H is hidden dimension; D_out is output dimension. \n",
    "\n",
    "#Best: 0.621108 using {'batch_size': 20, 'dropout': 0.2, 'epochs': 25, 'layer1_size': 120, 'layer2_size': 20}\n",
    "D_in, H1, H2, D_out = 152, 120, 20, 1\n",
    "EPOCHS = 39\n",
    "BATCH_SIZE = 20\n",
    "LEARNING_RATE = 0.01\n",
    "DROPOUT_RATE = 0.20\n",
    "\n",
    "## train data\n",
    "class trainData(Dataset):\n",
    "    \n",
    "    def __init__(self, X_data, y_data): #used to perform initializing operations such as reading data and preprocessing.\n",
    "        self.X_data = X_data\n",
    "        self.y_data = y_data\n",
    "        \n",
    "    def __getitem__(self, index): #returns data (input and output) in batches.\n",
    "        return self.X_data[index], self.y_data[index]\n",
    "        \n",
    "    def __len__ (self): #returns the size of the input data.\n",
    "        return len(self.X_data)\n",
    "\n",
    "#A dataloader is then used on this dataset class to read the data in batches.\n",
    "train_data = trainData(torch.FloatTensor(X_resampled), \n",
    "                       torch.FloatTensor(Y_resampled.values))\n",
    "## test data    \n",
    "class testData(Dataset):\n",
    "    \n",
    "    def __init__(self, X_data): ##used to perform initializing operations such as reading data and preprocessing.\n",
    "        self.X_data = X_data\n",
    "        \n",
    "    def __getitem__(self, index): #returns data (input and output) in batches.\n",
    "        return self.X_data[index]\n",
    "        \n",
    "    def __len__ (self): #returns the size of the input data.\n",
    "        return len(self.X_data)\n",
    "    \n",
    "#A dataloader is then used on this dataset class to read the data in batches.\n",
    "test_data = testData(torch.FloatTensor(X_test))\n",
    "\n",
    "#Initialize DataLoaders\n",
    "train_loader = DataLoader(dataset=train_data, batch_size=BATCH_SIZE, shuffle=True)\n",
    "test_loader = DataLoader(dataset=test_data, batch_size=33) #Batch size of the validation set. Need 1 at a time for how it was setup in the tutorial."
   ]
  },
  {
   "cell_type": "code",
   "execution_count": 9,
   "id": "addressed-python",
   "metadata": {},
   "outputs": [
    {
     "name": "stdout",
     "output_type": "stream",
     "text": [
      "cpu\n"
     ]
    }
   ],
   "source": [
    "class binaryClassification(nn.Module):\n",
    "    def __init__(self):\n",
    "        super(binaryClassification, self).__init__()\n",
    "        # Number of input features is 298.\n",
    "        self.layer_1 = nn.Linear(D_in, H1) #298 -> 100\n",
    "        self.layer_2 = nn.Linear(H1, H2) #100 -> 15\n",
    "        self.layer_out = nn.Linear(H2, D_out) #15 -> 1\n",
    "        \n",
    "        self.relu = nn.ReLU()\n",
    "        self.dropout = nn.Dropout(p=DROPOUT_RATE)\n",
    "        #self.batchnorm1 = nn.BatchNorm1d(100)\n",
    "        #self.batchnorm2 = nn.BatchNorm1d(15)\n",
    "        \n",
    "    def forward(self, inputs):\n",
    "        x = self.relu(self.layer_1(inputs)) #ReLU on the 298?\n",
    "        #x = self.batchnorm1(x) #Normalize the 100\n",
    "        x = self.dropout(x) #Dropout 15%\n",
    "        x = self.relu(self.layer_2(x)) #ReLU on the 100?\n",
    "        #x = self.batchnorm2(x) #Normalize the 15\n",
    "        x = self.layer_out(x) #1\n",
    "        \n",
    "        return x\n",
    "device = torch.device(\"cuda:0\" if torch.cuda.is_available() else \"cpu\")\n",
    "print(device)\n",
    "#Should use the CPU since I don't have a GPU."
   ]
  },
  {
   "cell_type": "code",
   "execution_count": 10,
   "id": "utility-fairy",
   "metadata": {},
   "outputs": [
    {
     "name": "stdout",
     "output_type": "stream",
     "text": [
      "binaryClassification(\n",
      "  (layer_1): Linear(in_features=152, out_features=120, bias=True)\n",
      "  (layer_2): Linear(in_features=120, out_features=20, bias=True)\n",
      "  (layer_out): Linear(in_features=20, out_features=1, bias=True)\n",
      "  (relu): ReLU()\n",
      "  (dropout): Dropout(p=0.2, inplace=False)\n",
      ")\n"
     ]
    }
   ],
   "source": [
    "#Model initialization and information on layers. The model's actual architecture can be viewed in the forward function above.\n",
    "model = binaryClassification()\n",
    "model.to(device)\n",
    "print(model)\n",
    "weights = torch.FloatTensor([5]) #Class weights?\n",
    "criterion = nn.BCEWithLogitsLoss(pos_weight=weights)\n",
    "optimizer = optim.Adam(model.parameters(), lr=LEARNING_RATE)"
   ]
  },
  {
   "cell_type": "code",
   "execution_count": 11,
   "id": "ignored-treatment",
   "metadata": {},
   "outputs": [],
   "source": [
    "#Function to define accuracy. Should look to see if there is a prebuilt that I can use from sci-kit learn or something.\n",
    "def binary_acc(y_pred, y_test):\n",
    "    y_pred_tag = torch.round(torch.sigmoid(y_pred))\n",
    "\n",
    "    correct_results_sum = (y_pred_tag == y_test).sum().float()\n",
    "    acc = correct_results_sum/y_test.shape[0]\n",
    "    acc = torch.round(acc * 100)\n",
    "    \n",
    "    return acc"
   ]
  },
  {
   "cell_type": "code",
   "execution_count": 12,
   "id": "nervous-highland",
   "metadata": {},
   "outputs": [
    {
     "name": "stdout",
     "output_type": "stream",
     "text": [
      "Training Epoch 001: | Loss: 1.39112 | Acc: 49.200\n",
      "Validation Accuracy |  9.090909090909092  PPV |  [0.         0.09090909]  Recall |  [0. 1.]\n",
      "Training Epoch 002: | Loss: 1.31371 | Acc: 50.800\n",
      "Validation Accuracy |  9.090909090909092  PPV |  [0.         0.09090909]  Recall |  [0. 1.]\n"
     ]
    },
    {
     "name": "stderr",
     "output_type": "stream",
     "text": [
      "C:\\Users\\mattbeze\\Anaconda3\\envs\\pytorch\\lib\\site-packages\\sklearn\\metrics\\_classification.py:1245: UndefinedMetricWarning: Precision is ill-defined and being set to 0.0 in labels with no predicted samples. Use `zero_division` parameter to control this behavior.\n",
      "  _warn_prf(average, modifier, msg_start, len(result))\n",
      "C:\\Users\\mattbeze\\Anaconda3\\envs\\pytorch\\lib\\site-packages\\sklearn\\metrics\\_classification.py:1245: UndefinedMetricWarning: Precision is ill-defined and being set to 0.0 in labels with no predicted samples. Use `zero_division` parameter to control this behavior.\n",
      "  _warn_prf(average, modifier, msg_start, len(result))\n"
     ]
    },
    {
     "name": "stdout",
     "output_type": "stream",
     "text": [
      "Training Epoch 003: | Loss: 1.34280 | Acc: 50.000\n",
      "Validation Accuracy |  9.090909090909092  PPV |  [0.         0.09090909]  Recall |  [0. 1.]\n",
      "Training Epoch 004: | Loss: 1.26282 | Acc: 49.200\n",
      "Validation Accuracy |  9.090909090909092  PPV |  [0.         0.09090909]  Recall |  [0. 1.]\n",
      "Training Epoch 005: | Loss: 1.10542 | Acc: 50.800\n"
     ]
    },
    {
     "name": "stderr",
     "output_type": "stream",
     "text": [
      "C:\\Users\\mattbeze\\Anaconda3\\envs\\pytorch\\lib\\site-packages\\sklearn\\metrics\\_classification.py:1245: UndefinedMetricWarning: Precision is ill-defined and being set to 0.0 in labels with no predicted samples. Use `zero_division` parameter to control this behavior.\n",
      "  _warn_prf(average, modifier, msg_start, len(result))\n",
      "C:\\Users\\mattbeze\\Anaconda3\\envs\\pytorch\\lib\\site-packages\\sklearn\\metrics\\_classification.py:1245: UndefinedMetricWarning: Precision is ill-defined and being set to 0.0 in labels with no predicted samples. Use `zero_division` parameter to control this behavior.\n",
      "  _warn_prf(average, modifier, msg_start, len(result))\n",
      "C:\\Users\\mattbeze\\Anaconda3\\envs\\pytorch\\lib\\site-packages\\sklearn\\metrics\\_classification.py:1245: UndefinedMetricWarning: Precision is ill-defined and being set to 0.0 in labels with no predicted samples. Use `zero_division` parameter to control this behavior.\n",
      "  _warn_prf(average, modifier, msg_start, len(result))\n"
     ]
    },
    {
     "name": "stdout",
     "output_type": "stream",
     "text": [
      "Validation Accuracy |  9.090909090909092  PPV |  [0.         0.09090909]  Recall |  [0. 1.]\n",
      "Training Epoch 006: | Loss: 1.07795 | Acc: 49.200\n",
      "Validation Accuracy |  18.181818181818183  PPV |  [1.  0.1]  Recall |  [0.1 1. ]\n",
      "Training Epoch 007: | Loss: 0.94699 | Acc: 59.600\n",
      "Validation Accuracy |  30.303030303030305  PPV |  [1.         0.11538462]  Recall |  [0.23333333 1.        ]\n",
      "Training Epoch 008: | Loss: 0.86467 | Acc: 69.000\n",
      "Validation Accuracy |  18.181818181818183  PPV |  [1.  0.1]  Recall |  [0.1 1. ]\n",
      "Training Epoch 009: | Loss: 0.83750 | Acc: 70.800\n",
      "Validation Accuracy |  39.39393939393939  PPV |  [0.91666667 0.0952381 ]  Recall |  [0.36666667 0.66666667]\n",
      "Training Epoch 010: | Loss: 0.71612 | Acc: 78.000\n",
      "Validation Accuracy |  24.242424242424242  PPV |  [1.         0.10714286]  Recall |  [0.16666667 1.        ]\n",
      "Training Epoch 011: | Loss: 0.78099 | Acc: 76.000\n",
      "Validation Accuracy |  24.242424242424242  PPV |  [1.         0.10714286]  Recall |  [0.16666667 1.        ]\n",
      "Training Epoch 012: | Loss: 0.95845 | Acc: 67.400\n",
      "Validation Accuracy |  69.6969696969697  PPV |  [0.95454545 0.18181818]  Recall |  [0.7        0.66666667]\n",
      "Training Epoch 013: | Loss: 0.89665 | Acc: 77.200\n",
      "Validation Accuracy |  33.33333333333333  PPV |  [0.9        0.08695652]  Recall |  [0.3        0.66666667]\n",
      "Training Epoch 014: | Loss: 0.75357 | Acc: 80.000\n",
      "Validation Accuracy |  33.33333333333333  PPV |  [0.9        0.08695652]  Recall |  [0.3        0.66666667]\n",
      "Training Epoch 015: | Loss: 0.87794 | Acc: 74.400\n",
      "Validation Accuracy |  69.6969696969697  PPV |  [0.95454545 0.18181818]  Recall |  [0.7        0.66666667]\n",
      "Training Epoch 016: | Loss: 0.70553 | Acc: 79.800\n",
      "Validation Accuracy |  69.6969696969697  PPV |  [0.95454545 0.18181818]  Recall |  [0.7        0.66666667]\n",
      "Training Epoch 017: | Loss: 0.57419 | Acc: 85.200\n",
      "Validation Accuracy |  66.66666666666666  PPV |  [0.95238095 0.16666667]  Recall |  [0.66666667 0.66666667]\n",
      "Training Epoch 018: | Loss: 0.73203 | Acc: 81.400\n",
      "Validation Accuracy |  48.484848484848484  PPV |  [0.93333333 0.11111111]  Recall |  [0.46666667 0.66666667]\n",
      "Training Epoch 019: | Loss: 0.70082 | Acc: 82.000\n",
      "Validation Accuracy |  60.60606060606061  PPV |  [0.94736842 0.14285714]  Recall |  [0.6        0.66666667]\n",
      "Training Epoch 020: | Loss: 0.67709 | Acc: 84.800\n",
      "Validation Accuracy |  75.75757575757575  PPV |  [0.92307692 0.14285714]  Recall |  [0.8        0.33333333]\n",
      "Training Epoch 021: | Loss: 0.77679 | Acc: 79.200\n",
      "Validation Accuracy |  72.72727272727273  PPV |  [0.92  0.125]  Recall |  [0.76666667 0.33333333]\n",
      "Training Epoch 022: | Loss: 0.78599 | Acc: 78.800\n",
      "Validation Accuracy |  54.54545454545454  PPV |  [0.94117647 0.125     ]  Recall |  [0.53333333 0.66666667]\n",
      "Training Epoch 023: | Loss: 0.73568 | Acc: 82.800\n",
      "Validation Accuracy |  75.75757575757575  PPV |  [0.92307692 0.14285714]  Recall |  [0.8        0.33333333]\n",
      "Training Epoch 024: | Loss: 0.80636 | Acc: 80.400\n",
      "Validation Accuracy |  69.6969696969697  PPV |  [0.91666667 0.11111111]  Recall |  [0.73333333 0.33333333]\n",
      "Training Epoch 025: | Loss: 0.66989 | Acc: 85.600\n",
      "Validation Accuracy |  66.66666666666666  PPV |  [0.95238095 0.16666667]  Recall |  [0.66666667 0.66666667]\n",
      "Training Epoch 026: | Loss: 0.65022 | Acc: 86.200\n",
      "Validation Accuracy |  54.54545454545454  PPV |  [0.94117647 0.125     ]  Recall |  [0.53333333 0.66666667]\n",
      "Training Epoch 027: | Loss: 0.85571 | Acc: 81.400\n",
      "Validation Accuracy |  63.63636363636363  PPV |  [0.95       0.15384615]  Recall |  [0.63333333 0.66666667]\n",
      "Training Epoch 028: | Loss: 0.79456 | Acc: 80.600\n",
      "Validation Accuracy |  75.75757575757575  PPV |  [0.92307692 0.14285714]  Recall |  [0.8        0.33333333]\n",
      "Training Epoch 029: | Loss: 0.69223 | Acc: 84.800\n",
      "Validation Accuracy |  69.6969696969697  PPV |  [0.95454545 0.18181818]  Recall |  [0.7        0.66666667]\n",
      "Training Epoch 030: | Loss: 0.76276 | Acc: 84.200\n",
      "Validation Accuracy |  51.515151515151516  PPV |  [0.9375     0.11764706]  Recall |  [0.5        0.66666667]\n",
      "Training Epoch 031: | Loss: 0.77191 | Acc: 82.400\n",
      "Validation Accuracy |  75.75757575757575  PPV |  [0.92307692 0.14285714]  Recall |  [0.8        0.33333333]\n",
      "Training Epoch 032: | Loss: 0.61148 | Acc: 88.000\n",
      "Validation Accuracy |  75.75757575757575  PPV |  [0.92307692 0.14285714]  Recall |  [0.8        0.33333333]\n",
      "Training Epoch 033: | Loss: 0.77737 | Acc: 83.000\n",
      "Validation Accuracy |  75.75757575757575  PPV |  [0.92307692 0.14285714]  Recall |  [0.8        0.33333333]\n",
      "Training Epoch 034: | Loss: 0.77902 | Acc: 85.800\n",
      "Validation Accuracy |  75.75757575757575  PPV |  [0.92307692 0.14285714]  Recall |  [0.8        0.33333333]\n",
      "Training Epoch 035: | Loss: 0.66118 | Acc: 86.800\n",
      "Validation Accuracy |  75.75757575757575  PPV |  [0.92307692 0.14285714]  Recall |  [0.8        0.33333333]\n",
      "Training Epoch 036: | Loss: 0.69451 | Acc: 88.000\n",
      "Validation Accuracy |  72.72727272727273  PPV |  [0.92  0.125]  Recall |  [0.76666667 0.33333333]\n",
      "Training Epoch 037: | Loss: 0.60921 | Acc: 88.800\n",
      "Validation Accuracy |  72.72727272727273  PPV |  [0.95652174 0.2       ]  Recall |  [0.73333333 0.66666667]\n",
      "Training Epoch 038: | Loss: 0.62573 | Acc: 87.000\n",
      "Validation Accuracy |  75.75757575757575  PPV |  [0.92307692 0.14285714]  Recall |  [0.8        0.33333333]\n",
      "Training Epoch 039: | Loss: 0.63061 | Acc: 88.800\n",
      "Validation Accuracy |  75.75757575757575  PPV |  [0.95833333 0.22222222]  Recall |  [0.76666667 0.66666667]\n"
     ]
    }
   ],
   "source": [
    "#model.train() tells PyTorch that you’re in training mode.\n",
    "#Similarly, we’ll call model.eval() when we test our model. We’ll see that below.\n",
    "'''If you’re using layers such as Dropout or BatchNorm which behave differently during training and evaluation, \n",
    "you need to tell PyTorch to act accordingly. While the default mode in PyTorch is the train, \n",
    "so, you don’t explicitly have to write that. But it’s good practice.'''\n",
    "val_acc = []\n",
    "train_acc = []\n",
    "train_loss = []\n",
    "val_loss = []\n",
    "\n",
    "model.train() #Initial training mode\n",
    "for e in range(1, EPOCHS+1):\n",
    "    epoch_loss = 0\n",
    "    epoch_acc = 0\n",
    "    for X_batch, y_batch in train_loader:\n",
    "        X_batch, y_batch = X_batch.to(device), y_batch.to(device)\n",
    "        optimizer.zero_grad()\n",
    "        \n",
    "        y_pred = model(X_batch)\n",
    "        \n",
    "        loss = criterion(y_pred, y_batch)\n",
    "        acc = binary_acc(y_pred, y_batch)\n",
    "        \n",
    "        loss.backward()\n",
    "        optimizer.step()\n",
    "        \n",
    "        epoch_loss += loss.item()\n",
    "        epoch_acc += acc.item()\n",
    "    \n",
    "    train_acc.append(epoch_acc/len(train_loader))\n",
    "    train_loss.append(epoch_loss/len(train_loader))\n",
    "    print(f'Training Epoch {e+0:03}: | Loss: {epoch_loss/len(train_loader):.5f} | Acc: {epoch_acc/len(train_loader):.3f}')\n",
    "    #Validation metrics here\n",
    "    model.eval()\n",
    "    #print(\"Evaluation mode\")\n",
    "    y_pred_list = []\n",
    "    test_loader = DataLoader(dataset=test_data, batch_size=33)\n",
    "    with torch.no_grad():\n",
    "        counter = 0\n",
    "        for X_batch in test_loader:\n",
    "            X_batch = X_batch.to(device)\n",
    "            y_test_pred = model(X_batch)\n",
    "            y_test_pred = torch.sigmoid(y_test_pred)\n",
    "            y_pred_tag = torch.round(y_test_pred)\n",
    "            y_pred_list.append(y_pred_tag.cpu().numpy())\n",
    "            loss = criterion(y_test_pred,torch.FloatTensor(Y_test.values))\n",
    "            val_loss.append(loss)\n",
    "            counter+=1\n",
    "            \n",
    "    y_pred_list = []\n",
    "    test_loader = DataLoader(dataset=test_data, batch_size=1)\n",
    "    with torch.no_grad():\n",
    "        for X_batch in test_loader:\n",
    "            X_batch = X_batch.to(device)\n",
    "            y_test_pred = model(X_batch)\n",
    "            y_test_pred = torch.sigmoid(y_test_pred)\n",
    "            y_pred_tag = torch.round(y_test_pred)\n",
    "            y_pred_list.append(y_pred_tag.cpu().numpy())\n",
    "            \n",
    "    y_pred_list = [a.squeeze().tolist() for a in y_pred_list]\n",
    "    y_loss_df = pd.DataFrame(y_pred_list)\n",
    "    accuracy = accuracy_score(torch.FloatTensor(Y_test.values), y_pred_list)\n",
    "    ppv = precision_score(Y_test, y_pred_list, average=None)\n",
    "    recall = recall_score(Y_test, y_pred_list, average=None)\n",
    "    print(\"Validation Accuracy | \",accuracy*100,\" PPV | \",ppv,\" Recall | \",recall)\n",
    "    val_acc.append(accuracy*100)\n",
    "    model.train()\n",
    "    #print(\"Return to training mode\")\n",
    "    \n",
    "    #Need to get validation loss."
   ]
  },
  {
   "cell_type": "code",
   "execution_count": 13,
   "id": "empirical-college",
   "metadata": {},
   "outputs": [
    {
     "data": {
      "image/png": "[encoded data removed]",
      "text/plain": [
       "<Figure size 432x288 with 1 Axes>"
      ]
     },
     "metadata": {
      "needs_background": "light"
     },
     "output_type": "display_data"
    },
    {
     "data": {
      "image/png": "[encoded data removed]",
      "text/plain": [
       "<Figure size 432x288 with 1 Axes>"
      ]
     },
     "metadata": {
      "needs_background": "light"
     },
     "output_type": "display_data"
    }
   ],
   "source": [
    "#Plotting loss\n",
    "plt.plot(train_loss)\n",
    "plt.plot(val_loss)\n",
    "plt.title('model loss')\n",
    "plt.ylabel('loss')\n",
    "plt.xlabel('epoch')\n",
    "plt.legend(['train', 'validation'], loc='upper left')\n",
    "plt.axis([0, EPOCHS-1, 0.0, 1.5])\n",
    "plt.show()\n",
    "\n",
    "#Plotting Accuracy\n",
    "plt.plot(train_acc)\n",
    "plt.plot(val_acc)\n",
    "plt.title('model accuracy')\n",
    "plt.ylabel('acc')\n",
    "plt.xlabel('epoch')\n",
    "plt.legend(['train_acc', 'val_acc'], loc='upper left')\n",
    "plt.axis([0, EPOCHS-1, 0.0, 105])\n",
    "plt.show()"
   ]
  },
  {
   "cell_type": "code",
   "execution_count": 14,
   "id": "employed-radical",
   "metadata": {},
   "outputs": [
    {
     "name": "stdout",
     "output_type": "stream",
     "text": [
      "Validation Accuracy |  75.75757575757575  PPV |  [0.95833333 0.22222222]  Recall |  [0.76666667 0.66666667]\n"
     ]
    },
    {
     "data": {
      "text/plain": [
       "<AxesSubplot:>"
      ]
     },
     "execution_count": 14,
     "metadata": {},
     "output_type": "execute_result"
    },
    {
     "data": {
      "image/png": "[encoded data removed]",
      "text/plain": [
       "<Figure size 432x288 with 2 Axes>"
      ]
     },
     "metadata": {
      "needs_background": "light"
     },
     "output_type": "display_data"
    }
   ],
   "source": [
    "y_pred_list = []\n",
    "test_loader = DataLoader(dataset=test_data, batch_size=1)\n",
    "model.eval() #Model evaluation\n",
    "with torch.no_grad():\n",
    "    for X_batch in test_loader:\n",
    "        X_batch = X_batch.to(device)\n",
    "        y_test_pred = model(X_batch)\n",
    "        y_test_pred = torch.sigmoid(y_test_pred)\n",
    "        y_pred_tag = torch.round(y_test_pred)\n",
    "        y_pred_list.append(y_pred_tag.cpu().numpy())\n",
    "\n",
    "y_pred_list = [a.squeeze().tolist() for a in y_pred_list]\n",
    "accuracy = accuracy_score(Y_test, y_pred_list)\n",
    "ppv = precision_score(Y_test, y_pred_list, average=None)\n",
    "recall = recall_score(Y_test, y_pred_list, average=None)\n",
    "print(\"Validation Accuracy | \",accuracy*100,\" PPV | \",ppv,\" Recall | \",recall)\n",
    "cf_matrix = confusion_matrix(Y_test, y_pred_list)\n",
    "sn.heatmap(cf_matrix, annot=True)"
   ]
  },
  {
   "cell_type": "code",
   "execution_count": 15,
   "id": "seasonal-ottawa",
   "metadata": {},
   "outputs": [
    {
     "name": "stdout",
     "output_type": "stream",
     "text": [
      "              precision    recall  f1-score   support\n",
      "\n",
      "         0.0       0.96      0.77      0.85        30\n",
      "         1.0       0.22      0.67      0.33         3\n",
      "\n",
      "    accuracy                           0.76        33\n",
      "   macro avg       0.59      0.72      0.59        33\n",
      "weighted avg       0.89      0.76      0.80        33\n",
      "\n"
     ]
    }
   ],
   "source": [
    "print(classification_report(Y_test, y_pred_list))"
   ]
  },
  {
   "cell_type": "code",
   "execution_count": 16,
   "id": "atomic-album",
   "metadata": {},
   "outputs": [],
   "source": [
    "#Save model once everything is all figured out\n",
    "#Compare SmoteTomek that does undersampling & oversampling vs two separate smotes: SMOTENC for oversampling minority class and another SMOTE for undersampling the majority class\n",
    "#Shooting for over 20% ppv"
   ]
  },
  {
   "cell_type": "code",
   "execution_count": 17,
   "id": "macro-mills",
   "metadata": {},
   "outputs": [],
   "source": [
    "torch.save(model.state_dict(), \"./model_dict_hyp_sa_only.pth\")"
   ]
  },
  {
   "cell_type": "code",
   "execution_count": 18,
   "id": "peaceful-shame",
   "metadata": {},
   "outputs": [],
   "source": [
    "#Use ROC curves for stability to select between hyperparameters for the pre-training\n",
    "#SMOTETomek for Final model prediction"
   ]
  }
 ],
 "metadata": {
  "kernelspec": {
   "display_name": "Python 3",
   "language": "python",
   "name": "python3"
  },
  "language_info": {
   "codemirror_mode": {
    "name": "ipython",
    "version": 3
   },
   "file_extension": ".py",
   "mimetype": "text/x-python",
   "name": "python",
   "nbconvert_exporter": "python",
   "pygments_lexer": "ipython3",
   "version": "3.7.9"
  }
 },
 "nbformat": 4,
 "nbformat_minor": 5
}
