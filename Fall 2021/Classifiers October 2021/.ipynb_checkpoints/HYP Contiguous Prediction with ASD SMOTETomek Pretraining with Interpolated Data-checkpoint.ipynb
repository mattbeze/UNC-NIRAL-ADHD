{
 "cells": [
  {
   "cell_type": "code",
   "execution_count": 1,
   "id": "foreign-airfare",
   "metadata": {},
   "outputs": [
    {
     "data": {
      "text/plain": [
       "<torch._C.Generator at 0x22896e32a10>"
      ]
     },
     "execution_count": 1,
     "metadata": {},
     "output_type": "execute_result"
    }
   ],
   "source": [
    "import seaborn as sn\n",
    "from imblearn.over_sampling import SMOTE, SMOTENC \n",
    "from imblearn.combine import SMOTETomek\n",
    "from imblearn.under_sampling import TomekLinks\n",
    "import matplotlib.pyplot as plt\n",
    "import pandas as pd\n",
    "from sklearn.utils import class_weight\n",
    "from sklearn.metrics import accuracy_score, recall_score, confusion_matrix, multilabel_confusion_matrix, precision_score, precision_recall_curve, average_precision_score, classification_report\n",
    "from sklearn.model_selection import KFold, StratifiedKFold, train_test_split, GridSearchCV\n",
    "from sklearn.preprocessing import MinMaxScaler, LabelEncoder\n",
    "from torch.utils.data import Dataset, DataLoader, random_split\n",
    "from torch import Tensor\n",
    "from torch.nn import Linear, ReLU, Sigmoid, Module, BCELoss, BCEWithLogitsLoss\n",
    "from torch.optim import Adam\n",
    "import torch\n",
    "import torch.nn as nn\n",
    "import torch.optim as optim\n",
    "from torch.utils.data import Dataset, DataLoader\n",
    "from pandas import DataFrame\n",
    "import xlsxwriter\n",
    "import time\n",
    "\n",
    "seed_value = 7\n",
    "import os\n",
    "os.environ['PYTHONHASHSEED']=str(seed_value)\n",
    "import random\n",
    "random.seed(seed_value)\n",
    "import numpy as np\n",
    "np.random.seed(seed_value)\n",
    "import torch\n",
    "torch.manual_seed(seed_value)"
   ]
  },
  {
   "cell_type": "code",
   "execution_count": 2,
   "id": "cooked-scroll",
   "metadata": {},
   "outputs": [
    {
     "name": "stdout",
     "output_type": "stream",
     "text": [
      "(137, 298)\n",
      "(137, 1)\n"
     ]
    }
   ],
   "source": [
    "Training_Data = pd.ExcelFile(\"Scaled_Gilmore_Data_CT_SA_1_2.xlsx\") #Training Data already pre-scaled to the IBIS Data set\n",
    "Label_Data = pd.ExcelFile(\"Labels.xlsx\") #Labels\n",
    "data = Training_Data.parse(Training_Data.sheet_names[0])\n",
    "label_data = Label_Data.parse(Label_Data.sheet_names[0])\n",
    "data_features = data.loc[:, data.columns]\n",
    "data_features = data_features.drop(['ROI','MATCH','INDEX','MATCH2','INDEX2', 'ATP', 'HYP', 'ATP Middle', 'HYP Middle', 'ATP Label'], axis=1)\n",
    "data_features = data_features.dropna()\n",
    "data_features = data_features.drop(['HYP Label'], axis=1)\n",
    "labels = label_data.loc[:, label_data.columns]\n",
    "labels = labels.drop(['ROI','ATP Middle', 'HYP Middle', 'ATP Label'], axis=1)\n",
    "labels = labels.dropna()\n",
    "print(data_features.shape)\n",
    "print(labels.shape)"
   ]
  },
  {
   "cell_type": "code",
   "execution_count": 3,
   "id": "desirable-hopkins",
   "metadata": {},
   "outputs": [
    {
     "name": "stdout",
     "output_type": "stream",
     "text": [
      "(34, 298)\n",
      "(34, 1)\n",
      "<class 'pandas.core.frame.DataFrame'>\n"
     ]
    }
   ],
   "source": [
    "interpolated_data = Training_Data.parse(Training_Data.sheet_names[8])\n",
    "interpolated_data_features = interpolated_data.loc[:, interpolated_data.columns]\n",
    "interpolated_data_features = interpolated_data_features.drop(['ROI','MATCH','INDEX','MATCH2','INDEX2', 'ATP', 'HYP', 'ATP Middle', 'HYP Middle', 'ATP Label'], axis=1)\n",
    "interpolated_data_features = interpolated_data_features.dropna()\n",
    "interpolated_data_features = interpolated_data_features.drop(['HYP Label'], axis=1)\n",
    "\n",
    "interpolated_label_data = Label_Data.parse(Label_Data.sheet_names[1])\n",
    "interpolated_labels = interpolated_label_data.loc[:, interpolated_label_data.columns]\n",
    "interpolated_labels = interpolated_labels.drop(['ROI','ATP Middle', 'HYP Middle', 'ATP Label'], axis=1)\n",
    "interpolated_labels = interpolated_labels.dropna()\n",
    "\n",
    "print(interpolated_data_features.shape)\n",
    "print(interpolated_labels.shape)\n",
    "print(type(interpolated_data_features))"
   ]
  },
  {
   "cell_type": "code",
   "execution_count": 4,
   "id": "equivalent-outreach",
   "metadata": {},
   "outputs": [
    {
     "name": "stdout",
     "output_type": "stream",
     "text": [
      "StratifiedKFold(n_splits=8, random_state=None, shuffle=False)\n",
      "(214, 298)\n",
      "(214, 298)\n",
      "(214, 298)\n",
      "(216, 298)\n",
      "(216, 298)\n",
      "(216, 298)\n",
      "(216, 298)\n",
      "(216, 298)\n"
     ]
    }
   ],
   "source": [
    "skf = StratifiedKFold(n_splits=8)\n",
    "skf.get_n_splits(data_features, labels)\n",
    "print(skf)\n",
    "\n",
    "training_indices_X = []\n",
    "testing_indices_X = []\n",
    "training_indices_Y = []\n",
    "testing_indices_Y = []\n",
    "\n",
    "for train_index, test_index in skf.split(data_features, labels):\n",
    "  \n",
    "    X_train, X_test = data_features.iloc[train_index], data_features.iloc[test_index]\n",
    "    Y_train, Y_test = labels.iloc[train_index], labels.iloc[test_index]\n",
    "   \n",
    "    sm = SMOTE(sampling_strategy = 'minority', random_state = seed_value, k_neighbors=2) \n",
    "    X_train_res, Y_train_res = sm.fit_sample(X_train, Y_train) #Only smote the training set.\n",
    "    print(X_train_res.shape)\n",
    "    training_indices_X.append(X_train_res)\n",
    "    testing_indices_X.append(X_test)\n",
    "    training_indices_Y.append(Y_train_res)\n",
    "    testing_indices_Y.append(Y_test)\n"
   ]
  },
  {
   "cell_type": "code",
   "execution_count": 5,
   "id": "extra-bridges",
   "metadata": {},
   "outputs": [
    {
     "name": "stdout",
     "output_type": "stream",
     "text": [
      "(214, 298)\n",
      "(214, 298)\n",
      "(214, 298)\n",
      "(216, 298)\n",
      "(216, 298)\n",
      "(216, 298)\n",
      "(216, 298)\n",
      "(216, 298)\n",
      "----------\n",
      "(248, 298)\n",
      "(248, 298)\n",
      "(248, 298)\n",
      "(250, 298)\n",
      "(250, 298)\n",
      "(250, 298)\n",
      "(250, 298)\n",
      "(250, 298)\n",
      "Label shapes\n",
      "(214, 1)\n",
      "(214, 1)\n",
      "(214, 1)\n",
      "(216, 1)\n",
      "(216, 1)\n",
      "(216, 1)\n",
      "(216, 1)\n",
      "(216, 1)\n",
      "----------\n",
      "(248, 1)\n",
      "(248, 1)\n",
      "(248, 1)\n",
      "(250, 1)\n",
      "(250, 1)\n",
      "(250, 1)\n",
      "(250, 1)\n",
      "(250, 1)\n"
     ]
    }
   ],
   "source": [
    "for x in training_indices_X:\n",
    "    print(x.shape)\n",
    "    \n",
    "#Figure out how to loop this later. Wasn't working for the following code:\n",
    "#for x in training_indices_X:\n",
    "#    x = pd.concat([x,interpolated_data_features])\n",
    "\n",
    "training_indices_X[0] = pd.concat([training_indices_X[0],interpolated_data_features])\n",
    "training_indices_X[1] = pd.concat([training_indices_X[1],interpolated_data_features])\n",
    "training_indices_X[2] = pd.concat([training_indices_X[2],interpolated_data_features])\n",
    "training_indices_X[3] = pd.concat([training_indices_X[3],interpolated_data_features])\n",
    "training_indices_X[4] = pd.concat([training_indices_X[4],interpolated_data_features])\n",
    "training_indices_X[5] = pd.concat([training_indices_X[5],interpolated_data_features])\n",
    "training_indices_X[6] = pd.concat([training_indices_X[6],interpolated_data_features])\n",
    "training_indices_X[7] = pd.concat([training_indices_X[7],interpolated_data_features])\n",
    "\n",
    "print('----------')\n",
    "for x in training_indices_X:\n",
    "    print(x.shape)\n",
    "    \n",
    "print('Label shapes')\n",
    "    \n",
    "for y in training_indices_Y:\n",
    "    print(y.shape)\n",
    "\n",
    "training_indices_Y[0] = pd.concat([training_indices_Y[0],interpolated_labels])\n",
    "training_indices_Y[1] = pd.concat([training_indices_Y[1],interpolated_labels])\n",
    "training_indices_Y[2] = pd.concat([training_indices_Y[2],interpolated_labels])\n",
    "training_indices_Y[3] = pd.concat([training_indices_Y[3],interpolated_labels])\n",
    "training_indices_Y[4] = pd.concat([training_indices_Y[4],interpolated_labels])\n",
    "training_indices_Y[5] = pd.concat([training_indices_Y[5],interpolated_labels])\n",
    "training_indices_Y[6] = pd.concat([training_indices_Y[6],interpolated_labels])\n",
    "training_indices_Y[7] = pd.concat([training_indices_Y[7],interpolated_labels])\n",
    "\n",
    "print('----------')\n",
    "for y in training_indices_Y:\n",
    "    print(y.shape)\n"
   ]
  },
  {
   "cell_type": "code",
   "execution_count": 6,
   "id": "joined-quarterly",
   "metadata": {},
   "outputs": [],
   "source": [
    "#training_indices_X[0] #8 Folds so 0 -> 7 Data type is a DataFrame currently.\n",
    "training_fold_X_0 = training_indices_X[0].to_numpy()\n",
    "training_fold_X_1 = training_indices_X[1].to_numpy()\n",
    "training_fold_X_2 = training_indices_X[2].to_numpy()\n",
    "training_fold_X_3 = training_indices_X[3].to_numpy()\n",
    "training_fold_X_4 = training_indices_X[4].to_numpy()\n",
    "training_fold_X_5 = training_indices_X[5].to_numpy()\n",
    "training_fold_X_6 = training_indices_X[6].to_numpy()\n",
    "training_fold_X_7 = training_indices_X[7].to_numpy()\n",
    "\n",
    "training_fold_Y_0 = training_indices_Y[0].to_numpy()\n",
    "training_fold_Y_1 = training_indices_Y[1].to_numpy()\n",
    "training_fold_Y_2 = training_indices_Y[2].to_numpy()\n",
    "training_fold_Y_3 = training_indices_Y[3].to_numpy()\n",
    "training_fold_Y_4 = training_indices_Y[4].to_numpy()\n",
    "training_fold_Y_5 = training_indices_Y[5].to_numpy()\n",
    "training_fold_Y_6 = training_indices_Y[6].to_numpy()\n",
    "training_fold_Y_7 = training_indices_Y[7].to_numpy()\n",
    "\n",
    "testing_fold_X_0 = testing_indices_X[0].to_numpy()\n",
    "testing_fold_X_1 = testing_indices_X[1].to_numpy()\n",
    "testing_fold_X_2 = testing_indices_X[2].to_numpy()\n",
    "testing_fold_X_3 = testing_indices_X[3].to_numpy()\n",
    "testing_fold_X_4 = testing_indices_X[4].to_numpy()\n",
    "testing_fold_X_5 = testing_indices_X[5].to_numpy()\n",
    "testing_fold_X_6 = testing_indices_X[6].to_numpy()\n",
    "testing_fold_X_7 = testing_indices_X[7].to_numpy()\n",
    "\n",
    "testing_fold_Y_0 = testing_indices_Y[0].to_numpy()\n",
    "testing_fold_Y_1 = testing_indices_Y[1].to_numpy()\n",
    "testing_fold_Y_2 = testing_indices_Y[2].to_numpy()\n",
    "testing_fold_Y_3 = testing_indices_Y[3].to_numpy()\n",
    "testing_fold_Y_4 = testing_indices_Y[4].to_numpy()\n",
    "testing_fold_Y_5 = testing_indices_Y[5].to_numpy()\n",
    "testing_fold_Y_6 = testing_indices_Y[6].to_numpy()\n",
    "testing_fold_Y_7 = testing_indices_Y[7].to_numpy()"
   ]
  },
  {
   "cell_type": "code",
   "execution_count": 7,
   "id": "consolidated-business",
   "metadata": {},
   "outputs": [],
   "source": [
    "#Some hyperparameters\n",
    "#D_in is input dimension; H is hidden dimension; D_out is output dimension. \n",
    "\n",
    "#Best: 0.610920 using {'batch_size': 30, 'dropout': 0.2, 'epochs': 100, 'layer1_size': 100, 'layer2_size': 25}\n",
    "D_in, H1, H2, D_out = 298, 100, 25, 1\n",
    "EPOCHS = 100\n",
    "BATCH_SIZE = 30\n",
    "LEARNING_RATE = 0.001\n",
    "DROPOUT_RATE = 0.20\n",
    "\n",
    "test_size = 18\n",
    "test_size1 = 17\n",
    "\n",
    "## train data\n",
    "class trainData(Dataset):\n",
    "    \n",
    "    def __init__(self, X_data, y_data): #used to perform initializing operations such as reading data and preprocessing.\n",
    "        self.X_data = X_data\n",
    "        self.y_data = y_data\n",
    "        \n",
    "    def __getitem__(self, index): #returns data (input and output) in batches.\n",
    "        return self.X_data[index], self.y_data[index]\n",
    "        \n",
    "    def __len__ (self): #returns the size of the input data.\n",
    "        return len(self.X_data)\n",
    "\n",
    "#A dataloader is then used on this dataset class to read the data in batches.\n",
    "train_data = trainData(torch.FloatTensor(training_fold_X_0), \n",
    "                       torch.FloatTensor(training_fold_Y_0))\n",
    "\n",
    "train_data1 = trainData(torch.FloatTensor(training_fold_X_1), \n",
    "                       torch.FloatTensor(training_fold_Y_1))\n",
    "\n",
    "train_data2 = trainData(torch.FloatTensor(training_fold_X_2), \n",
    "                       torch.FloatTensor(training_fold_Y_2))\n",
    "\n",
    "train_data3 = trainData(torch.FloatTensor(training_fold_X_3), \n",
    "                       torch.FloatTensor(training_fold_Y_3))\n",
    "\n",
    "train_data4 = trainData(torch.FloatTensor(training_fold_X_4), \n",
    "                       torch.FloatTensor(training_fold_Y_4))\n",
    "\n",
    "train_data5 = trainData(torch.FloatTensor(training_fold_X_5), \n",
    "                       torch.FloatTensor(training_fold_Y_5))\n",
    "\n",
    "train_data6 = trainData(torch.FloatTensor(training_fold_X_6), \n",
    "                       torch.FloatTensor(training_fold_Y_6))\n",
    "\n",
    "train_data7 = trainData(torch.FloatTensor(training_fold_X_7), \n",
    "                       torch.FloatTensor(training_fold_Y_7))\n",
    "## test data    \n",
    "class testData(Dataset):\n",
    "    \n",
    "    def __init__(self, X_data): ##used to perform initializing operations such as reading data and preprocessing.\n",
    "        self.X_data = X_data\n",
    "        \n",
    "    def __getitem__(self, index): #returns data (input and output) in batches.\n",
    "        return self.X_data[index]\n",
    "        \n",
    "    def __len__ (self): #returns the size of the input data.\n",
    "        return len(self.X_data)\n",
    "    \n",
    "#A dataloader is then used on this dataset class to read the data in batches.\n",
    "test_data = testData(torch.FloatTensor(testing_fold_X_0))\n",
    "test_data1 = testData(torch.FloatTensor(testing_fold_X_1))\n",
    "test_data2 = testData(torch.FloatTensor(testing_fold_X_2))\n",
    "test_data3 = testData(torch.FloatTensor(testing_fold_X_3))\n",
    "test_data4 = testData(torch.FloatTensor(testing_fold_X_4))\n",
    "test_data5 = testData(torch.FloatTensor(testing_fold_X_5))\n",
    "test_data6 = testData(torch.FloatTensor(testing_fold_X_6))\n",
    "test_data7 = testData(torch.FloatTensor(testing_fold_X_7))\n",
    "\n",
    "#Initialize DataLoaders\n",
    "train_loader = DataLoader(dataset=train_data, batch_size=BATCH_SIZE, shuffle=True)\n",
    "test_loader = DataLoader(dataset=test_data, batch_size=test_size) #Batch size of the validation set. Need 1 at a time for how it was setup in the tutorial.\n",
    "\n",
    "train_loader1 = DataLoader(dataset=train_data1, batch_size=BATCH_SIZE, shuffle=True)\n",
    "test_loader1 = DataLoader(dataset=test_data1, batch_size=test_size1) #Batch size of the validation set. Need 1 at a time for how it was setup in the tutorial.\n",
    "\n",
    "train_loader2 = DataLoader(dataset=train_data2, batch_size=BATCH_SIZE, shuffle=True)\n",
    "test_loader2 = DataLoader(dataset=test_data2, batch_size=test_size1) #Batch size of the validation set. Need 1 at a time for how it was setup in the tutorial.\n",
    "\n",
    "train_loader3 = DataLoader(dataset=train_data3, batch_size=BATCH_SIZE, shuffle=True)\n",
    "test_loader3 = DataLoader(dataset=test_data3, batch_size=test_size1) #Batch size of the validation set. Need 1 at a time for how it was setup in the tutorial.\n",
    "\n",
    "train_loader4 = DataLoader(dataset=train_data4, batch_size=BATCH_SIZE, shuffle=True)\n",
    "test_loader4 = DataLoader(dataset=test_data4, batch_size=test_size1) #Batch size of the validation set. Need 1 at a time for how it was setup in the tutorial.\n",
    "\n",
    "train_loader5 = DataLoader(dataset=train_data5, batch_size=BATCH_SIZE, shuffle=True)\n",
    "test_loader5 = DataLoader(dataset=test_data5, batch_size=test_size1) #Batch size of the validation set. Need 1 at a time for how it was setup in the tutorial.\n",
    "\n",
    "train_loader6 = DataLoader(dataset=train_data6, batch_size=BATCH_SIZE, shuffle=True)\n",
    "test_loader6 = DataLoader(dataset=test_data6, batch_size=test_size1) #Batch size of the validation set. Need 1 at a time for how it was setup in the tutorial.\n",
    "\n",
    "train_loader7 = DataLoader(dataset=train_data7, batch_size=BATCH_SIZE, shuffle=True)\n",
    "test_loader7 = DataLoader(dataset=test_data7, batch_size=test_size1) #Batch size of the validation set. Need 1 at a time for how it was setup in the tutorial."
   ]
  },
  {
   "cell_type": "code",
   "execution_count": 8,
   "id": "addressed-python",
   "metadata": {},
   "outputs": [
    {
     "name": "stdout",
     "output_type": "stream",
     "text": [
      "cpu\n"
     ]
    }
   ],
   "source": [
    "class binaryClassification(nn.Module):\n",
    "    def __init__(self):\n",
    "        super(binaryClassification, self).__init__()\n",
    "        # Number of input features is 298.\n",
    "        self.layer_1 = nn.Linear(D_in, H1) #298 -> 100\n",
    "        self.layer_2 = nn.Linear(H1, H2) #100 -> 15\n",
    "        self.layer_out = nn.Linear(H2, D_out) #15 -> 1\n",
    "        \n",
    "        self.relu = nn.ReLU()\n",
    "        self.dropout = nn.Dropout(p=DROPOUT_RATE)\n",
    "        #self.batchnorm1 = nn.BatchNorm1d(100)\n",
    "        #self.batchnorm2 = nn.BatchNorm1d(15)\n",
    "        \n",
    "    def forward(self, inputs):\n",
    "        x = self.relu(self.layer_1(inputs)) #ReLU on the 298?\n",
    "        #x = self.batchnorm1(x) #Normalize the 100\n",
    "        x = self.dropout(x) #Dropout 15%\n",
    "        x = self.relu(self.layer_2(x)) #ReLU on the 100?\n",
    "        #x = self.batchnorm2(x) #Normalize the 15\n",
    "        x = self.layer_out(x) #1\n",
    "        \n",
    "        return x\n",
    "device = torch.device(\"cuda:0\" if torch.cuda.is_available() else \"cpu\")\n",
    "print(device)\n",
    "#Should use the CPU since I don't have a GPU."
   ]
  },
  {
   "cell_type": "code",
   "execution_count": 9,
   "id": "utility-fairy",
   "metadata": {},
   "outputs": [
    {
     "name": "stdout",
     "output_type": "stream",
     "text": [
      "binaryClassification(\n",
      "  (layer_1): Linear(in_features=298, out_features=100, bias=True)\n",
      "  (layer_2): Linear(in_features=100, out_features=25, bias=True)\n",
      "  (layer_out): Linear(in_features=25, out_features=1, bias=True)\n",
      "  (relu): ReLU()\n",
      "  (dropout): Dropout(p=0.2, inplace=False)\n",
      ")\n"
     ]
    }
   ],
   "source": [
    "#Model initialization and information on layers. The model's actual architecture can be viewed in the forward function above.\n",
    "model = binaryClassification()\n",
    "model.load_state_dict(torch.load('./model_dict_hyp.pth'))\n",
    "model.train()\n",
    "print(model)\n",
    "weights = torch.FloatTensor([5]) #Class weights?\n",
    "criterion = nn.BCEWithLogitsLoss(pos_weight=weights)\n",
    "optimizer = optim.Adam(model.parameters(), lr=LEARNING_RATE)\n",
    "\n",
    "#Model initialization and information on layers. The model's actual architecture can be viewed in the forward function above.\n",
    "model1 = binaryClassification()\n",
    "model1.load_state_dict(torch.load('./model_dict_hyp.pth'))\n",
    "model1.train()\n",
    "#print(model)\n",
    "weights1 = torch.FloatTensor([5]) #Class weights?\n",
    "criterion1 = nn.BCEWithLogitsLoss(pos_weight=weights1)\n",
    "optimizer1 = optim.Adam(model1.parameters(), lr=LEARNING_RATE)\n",
    "\n",
    "#Model initialization and information on layers. The model's actual architecture can be viewed in the forward function above.\n",
    "model2 = binaryClassification()\n",
    "model2.load_state_dict(torch.load('./model_dict_hyp.pth'))\n",
    "model2.train()\n",
    "#print(model)\n",
    "weights2 = torch.FloatTensor([5]) #Class weights?\n",
    "criterion2 = nn.BCEWithLogitsLoss(pos_weight=weights2)\n",
    "optimizer2 = optim.Adam(model2.parameters(), lr=LEARNING_RATE)\n",
    "\n",
    "#Model initialization and information on layers. The model's actual architecture can be viewed in the forward function above.\n",
    "model3 = binaryClassification()\n",
    "model3.load_state_dict(torch.load('./model_dict_hyp.pth'))\n",
    "model3.train()\n",
    "#print(model)\n",
    "weights3 = torch.FloatTensor([5]) #Class weights?\n",
    "criterion3 = nn.BCEWithLogitsLoss(pos_weight=weights3)\n",
    "optimizer3 = optim.Adam(model3.parameters(), lr=LEARNING_RATE)\n",
    "\n",
    "#Model initialization and information on layers. The model's actual architecture can be viewed in the forward function above.\n",
    "model4 = binaryClassification()\n",
    "model4.load_state_dict(torch.load('./model_dict_hyp.pth'))\n",
    "model4.train()\n",
    "#print(model)\n",
    "weights4 = torch.FloatTensor([5]) #Class weights?\n",
    "criterion4 = nn.BCEWithLogitsLoss(pos_weight=weights4)\n",
    "optimizer4 = optim.Adam(model4.parameters(), lr=LEARNING_RATE)\n",
    "\n",
    "#Model initialization and information on layers. The model's actual architecture can be viewed in the forward function above.\n",
    "model5 = binaryClassification()\n",
    "model5.load_state_dict(torch.load('./model_dict_hyp.pth'))\n",
    "model5.train()\n",
    "#print(model)\n",
    "weights5 = torch.FloatTensor([5]) #Class weights?\n",
    "criterion5 = nn.BCEWithLogitsLoss(pos_weight=weights5)\n",
    "optimizer5 = optim.Adam(model5.parameters(), lr=LEARNING_RATE)\n",
    "\n",
    "#Model initialization and information on layers. The model's actual architecture can be viewed in the forward function above.\n",
    "model6 = binaryClassification()\n",
    "model6.load_state_dict(torch.load('./model_dict_hyp.pth'))\n",
    "model6.train()\n",
    "#print(model)\n",
    "weights6 = torch.FloatTensor([5]) #Class weights?\n",
    "criterion6 = nn.BCEWithLogitsLoss(pos_weight=weights6)\n",
    "optimizer6 = optim.Adam(model6.parameters(), lr=LEARNING_RATE)\n",
    "\n",
    "#Model initialization and information on layers. The model's actual architecture can be viewed in the forward function above.\n",
    "model7 = binaryClassification()\n",
    "model7.load_state_dict(torch.load('./model_dict_hyp.pth'))\n",
    "model7.train()\n",
    "#print(model)\n",
    "weights7 = torch.FloatTensor([5]) #Class weights?\n",
    "criterion7 = nn.BCEWithLogitsLoss(pos_weight=weights7)\n",
    "optimizer7 = optim.Adam(model7.parameters(), lr=LEARNING_RATE)"
   ]
  },
  {
   "cell_type": "code",
   "execution_count": 10,
   "id": "ignored-treatment",
   "metadata": {},
   "outputs": [],
   "source": [
    "#Function to define accuracy. Should look to see if there is a prebuilt that I can use from sci-kit learn or something.\n",
    "def binary_acc(y_pred, y_test):\n",
    "    y_pred_tag = torch.round(torch.sigmoid(y_pred))\n",
    "\n",
    "    correct_results_sum = (y_pred_tag == y_test).sum().float()\n",
    "    acc = correct_results_sum/y_test.shape[0]\n",
    "    acc = torch.round(acc * 100)\n",
    "    \n",
    "    return acc"
   ]
  },
  {
   "cell_type": "code",
   "execution_count": 11,
   "id": "nervous-highland",
   "metadata": {},
   "outputs": [
    {
     "name": "stdout",
     "output_type": "stream",
     "text": [
      "Training Epoch 001: | Loss: 2.87327 | Acc: 54.889\n",
      "Validation Accuracy |  16.666666666666664  PPV |  [1.         0.11764706]  Recall |  [0.0625 1.    ]\n",
      "Training Epoch 002: | Loss: 1.78257 | Acc: 52.556\n",
      "Validation Accuracy |  38.88888888888889  PPV |  [0.85714286 0.09090909]  Recall |  [0.375 0.5  ]\n",
      "Training Epoch 003: | Loss: 1.23726 | Acc: 65.333\n",
      "Validation Accuracy |  33.33333333333333  PPV |  [0.83333333 0.08333333]  Recall |  [0.3125 0.5   ]\n",
      "Training Epoch 004: | Loss: 1.16040 | Acc: 60.222\n",
      "Validation Accuracy |  33.33333333333333  PPV |  [1.         0.14285714]  Recall |  [0.25 1.  ]\n",
      "Training Epoch 005: | Loss: 1.03945 | Acc: 66.778\n",
      "Validation Accuracy |  33.33333333333333  PPV |  [0.83333333 0.08333333]  Recall |  [0.3125 0.5   ]\n",
      "Training Epoch 006: | Loss: 1.11299 | Acc: 66.222\n",
      "Validation Accuracy |  33.33333333333333  PPV |  [0.83333333 0.08333333]  Recall |  [0.3125 0.5   ]\n",
      "Training Epoch 007: | Loss: 0.99457 | Acc: 65.667\n",
      "Validation Accuracy |  33.33333333333333  PPV |  [0.83333333 0.08333333]  Recall |  [0.3125 0.5   ]\n",
      "Training Epoch 008: | Loss: 0.94193 | Acc: 70.556\n",
      "Validation Accuracy |  33.33333333333333  PPV |  [0.83333333 0.08333333]  Recall |  [0.3125 0.5   ]\n",
      "Training Epoch 009: | Loss: 0.96629 | Acc: 71.444\n",
      "Validation Accuracy |  33.33333333333333  PPV |  [0.83333333 0.08333333]  Recall |  [0.3125 0.5   ]\n",
      "Training Epoch 010: | Loss: 0.88811 | Acc: 73.111\n",
      "Validation Accuracy |  33.33333333333333  PPV |  [0.83333333 0.08333333]  Recall |  [0.3125 0.5   ]\n",
      "Training Epoch 011: | Loss: 0.91310 | Acc: 67.778\n",
      "Validation Accuracy |  33.33333333333333  PPV |  [0.83333333 0.08333333]  Recall |  [0.3125 0.5   ]\n",
      "Training Epoch 012: | Loss: 0.92545 | Acc: 76.000\n",
      "Validation Accuracy |  44.44444444444444  PPV |  [0.875 0.1  ]  Recall |  [0.4375 0.5   ]\n",
      "Training Epoch 013: | Loss: 0.78130 | Acc: 72.889\n",
      "Validation Accuracy |  44.44444444444444  PPV |  [0.875 0.1  ]  Recall |  [0.4375 0.5   ]\n",
      "Training Epoch 014: | Loss: 0.70223 | Acc: 84.667\n",
      "Validation Accuracy |  50.0  PPV |  [0.88888889 0.11111111]  Recall |  [0.5 0.5]\n",
      "Training Epoch 015: | Loss: 0.63675 | Acc: 83.778\n",
      "Validation Accuracy |  44.44444444444444  PPV |  [0.875 0.1  ]  Recall |  [0.4375 0.5   ]\n",
      "Training Epoch 016: | Loss: 0.72854 | Acc: 82.778\n",
      "Validation Accuracy |  50.0  PPV |  [0.88888889 0.11111111]  Recall |  [0.5 0.5]\n",
      "Training Epoch 017: | Loss: 0.58142 | Acc: 85.556\n",
      "Validation Accuracy |  66.66666666666666  PPV |  [0.91666667 0.16666667]  Recall |  [0.6875 0.5   ]\n",
      "Training Epoch 018: | Loss: 0.59053 | Acc: 84.889\n",
      "Validation Accuracy |  61.111111111111114  PPV |  [0.90909091 0.14285714]  Recall |  [0.625 0.5  ]\n",
      "Training Epoch 019: | Loss: 0.51868 | Acc: 90.000\n",
      "Validation Accuracy |  66.66666666666666  PPV |  [0.91666667 0.16666667]  Recall |  [0.6875 0.5   ]\n",
      "Training Epoch 020: | Loss: 0.51457 | Acc: 87.000\n",
      "Validation Accuracy |  66.66666666666666  PPV |  [0.91666667 0.16666667]  Recall |  [0.6875 0.5   ]\n",
      "Training Epoch 021: | Loss: 0.47448 | Acc: 90.444\n",
      "Validation Accuracy |  66.66666666666666  PPV |  [0.91666667 0.16666667]  Recall |  [0.6875 0.5   ]\n",
      "Training Epoch 022: | Loss: 0.52739 | Acc: 86.333\n",
      "Validation Accuracy |  66.66666666666666  PPV |  [0.91666667 0.16666667]  Recall |  [0.6875 0.5   ]\n",
      "Training Epoch 023: | Loss: 0.43829 | Acc: 92.444\n",
      "Validation Accuracy |  66.66666666666666  PPV |  [0.91666667 0.16666667]  Recall |  [0.6875 0.5   ]\n",
      "Training Epoch 024: | Loss: 0.38628 | Acc: 90.111\n",
      "Validation Accuracy |  72.22222222222221  PPV |  [0.92307692 0.2       ]  Recall |  [0.75 0.5 ]\n",
      "Training Epoch 025: | Loss: 0.36631 | Acc: 92.889\n",
      "Validation Accuracy |  72.22222222222221  PPV |  [0.92307692 0.2       ]  Recall |  [0.75 0.5 ]\n",
      "Training Epoch 026: | Loss: 0.35130 | Acc: 94.444\n",
      "Validation Accuracy |  66.66666666666666  PPV |  [0.91666667 0.16666667]  Recall |  [0.6875 0.5   ]\n",
      "Training Epoch 027: | Loss: 0.33265 | Acc: 93.333\n",
      "Validation Accuracy |  72.22222222222221  PPV |  [0.92307692 0.2       ]  Recall |  [0.75 0.5 ]\n",
      "Training Epoch 028: | Loss: 0.31293 | Acc: 92.333\n",
      "Validation Accuracy |  72.22222222222221  PPV |  [0.92307692 0.2       ]  Recall |  [0.75 0.5 ]\n",
      "Training Epoch 029: | Loss: 0.30597 | Acc: 96.000\n",
      "Validation Accuracy |  72.22222222222221  PPV |  [0.92307692 0.2       ]  Recall |  [0.75 0.5 ]\n",
      "Training Epoch 030: | Loss: 0.28454 | Acc: 93.222\n",
      "Validation Accuracy |  77.77777777777779  PPV |  [0.92857143 0.25      ]  Recall |  [0.8125 0.5   ]\n",
      "Training Epoch 031: | Loss: 0.26448 | Acc: 96.000\n",
      "Validation Accuracy |  72.22222222222221  PPV |  [0.92307692 0.2       ]  Recall |  [0.75 0.5 ]\n",
      "Training Epoch 032: | Loss: 0.26690 | Acc: 92.889\n",
      "Validation Accuracy |  72.22222222222221  PPV |  [0.92307692 0.2       ]  Recall |  [0.75 0.5 ]\n",
      "Training Epoch 033: | Loss: 0.29170 | Acc: 94.556\n",
      "Validation Accuracy |  77.77777777777779  PPV |  [0.92857143 0.25      ]  Recall |  [0.8125 0.5   ]\n",
      "Training Epoch 034: | Loss: 0.27033 | Acc: 94.333\n",
      "Validation Accuracy |  77.77777777777779  PPV |  [0.92857143 0.25      ]  Recall |  [0.8125 0.5   ]\n",
      "Training Epoch 035: | Loss: 0.25074 | Acc: 97.111\n",
      "Validation Accuracy |  72.22222222222221  PPV |  [0.92307692 0.2       ]  Recall |  [0.75 0.5 ]\n",
      "Training Epoch 036: | Loss: 0.17351 | Acc: 96.444\n",
      "Validation Accuracy |  72.22222222222221  PPV |  [0.92307692 0.2       ]  Recall |  [0.75 0.5 ]\n",
      "Training Epoch 037: | Loss: 0.17999 | Acc: 97.111\n",
      "Validation Accuracy |  72.22222222222221  PPV |  [0.92307692 0.2       ]  Recall |  [0.75 0.5 ]\n",
      "Training Epoch 038: | Loss: 0.17847 | Acc: 97.000\n",
      "Validation Accuracy |  77.77777777777779  PPV |  [0.92857143 0.25      ]  Recall |  [0.8125 0.5   ]\n",
      "Training Epoch 039: | Loss: 0.18449 | Acc: 97.444\n",
      "Validation Accuracy |  72.22222222222221  PPV |  [0.92307692 0.2       ]  Recall |  [0.75 0.5 ]\n",
      "Training Epoch 040: | Loss: 0.17088 | Acc: 96.111\n",
      "Validation Accuracy |  77.77777777777779  PPV |  [0.92857143 0.25      ]  Recall |  [0.8125 0.5   ]\n",
      "Training Epoch 041: | Loss: 0.16149 | Acc: 98.222\n",
      "Validation Accuracy |  72.22222222222221  PPV |  [0.92307692 0.2       ]  Recall |  [0.75 0.5 ]\n",
      "Training Epoch 042: | Loss: 0.17456 | Acc: 96.333\n",
      "Validation Accuracy |  72.22222222222221  PPV |  [0.92307692 0.2       ]  Recall |  [0.75 0.5 ]\n",
      "Training Epoch 043: | Loss: 0.13806 | Acc: 98.667\n",
      "Validation Accuracy |  72.22222222222221  PPV |  [0.92307692 0.2       ]  Recall |  [0.75 0.5 ]\n",
      "Training Epoch 044: | Loss: 0.15021 | Acc: 98.222\n",
      "Validation Accuracy |  72.22222222222221  PPV |  [0.92307692 0.2       ]  Recall |  [0.75 0.5 ]\n",
      "Training Epoch 045: | Loss: 0.11709 | Acc: 97.000\n",
      "Validation Accuracy |  83.33333333333334  PPV |  [0.93333333 0.33333333]  Recall |  [0.875 0.5  ]\n",
      "Training Epoch 046: | Loss: 0.19216 | Acc: 96.556\n",
      "Validation Accuracy |  66.66666666666666  PPV |  [0.91666667 0.16666667]  Recall |  [0.6875 0.5   ]\n",
      "Training Epoch 047: | Loss: 0.14689 | Acc: 96.333\n",
      "Validation Accuracy |  83.33333333333334  PPV |  [0.93333333 0.33333333]  Recall |  [0.875 0.5  ]\n",
      "Training Epoch 048: | Loss: 0.10316 | Acc: 98.889\n",
      "Validation Accuracy |  72.22222222222221  PPV |  [0.92307692 0.2       ]  Recall |  [0.75 0.5 ]\n",
      "Training Epoch 049: | Loss: 0.14158 | Acc: 96.889\n",
      "Validation Accuracy |  83.33333333333334  PPV |  [0.93333333 0.33333333]  Recall |  [0.875 0.5  ]\n",
      "Training Epoch 050: | Loss: 0.13221 | Acc: 98.667\n",
      "Validation Accuracy |  72.22222222222221  PPV |  [0.92307692 0.2       ]  Recall |  [0.75 0.5 ]\n",
      "Training Epoch 051: | Loss: 0.11013 | Acc: 97.444\n",
      "Validation Accuracy |  83.33333333333334  PPV |  [0.93333333 0.33333333]  Recall |  [0.875 0.5  ]\n",
      "Training Epoch 052: | Loss: 0.12319 | Acc: 98.556\n",
      "Validation Accuracy |  66.66666666666666  PPV |  [0.91666667 0.16666667]  Recall |  [0.6875 0.5   ]\n",
      "Training Epoch 053: | Loss: 0.14380 | Acc: 94.889\n",
      "Validation Accuracy |  77.77777777777779  PPV |  [0.92857143 0.25      ]  Recall |  [0.8125 0.5   ]\n",
      "Training Epoch 054: | Loss: 0.11259 | Acc: 98.556\n",
      "Validation Accuracy |  77.77777777777779  PPV |  [0.92857143 0.25      ]  Recall |  [0.8125 0.5   ]\n",
      "Training Epoch 055: | Loss: 0.09619 | Acc: 99.333\n",
      "Validation Accuracy |  77.77777777777779  PPV |  [0.92857143 0.25      ]  Recall |  [0.8125 0.5   ]\n",
      "Training Epoch 056: | Loss: 0.08152 | Acc: 98.556\n",
      "Validation Accuracy |  77.77777777777779  PPV |  [0.92857143 0.25      ]  Recall |  [0.8125 0.5   ]\n",
      "Training Epoch 057: | Loss: 0.10501 | Acc: 98.556\n",
      "Validation Accuracy |  77.77777777777779  PPV |  [0.92857143 0.25      ]  Recall |  [0.8125 0.5   ]\n",
      "Training Epoch 058: | Loss: 0.10504 | Acc: 98.889\n"
     ]
    },
    {
     "name": "stdout",
     "output_type": "stream",
     "text": [
      "Validation Accuracy |  72.22222222222221  PPV |  [0.92307692 0.2       ]  Recall |  [0.75 0.5 ]\n",
      "Training Epoch 059: | Loss: 0.14294 | Acc: 97.556\n",
      "Validation Accuracy |  72.22222222222221  PPV |  [0.92307692 0.2       ]  Recall |  [0.75 0.5 ]\n",
      "Training Epoch 060: | Loss: 0.14674 | Acc: 92.444\n",
      "Validation Accuracy |  77.77777777777779  PPV |  [0.92857143 0.25      ]  Recall |  [0.8125 0.5   ]\n",
      "Training Epoch 061: | Loss: 0.10834 | Acc: 99.222\n",
      "Validation Accuracy |  77.77777777777779  PPV |  [0.92857143 0.25      ]  Recall |  [0.8125 0.5   ]\n",
      "Training Epoch 062: | Loss: 0.09668 | Acc: 97.000\n",
      "Validation Accuracy |  77.77777777777779  PPV |  [0.92857143 0.25      ]  Recall |  [0.8125 0.5   ]\n",
      "Training Epoch 063: | Loss: 0.07432 | Acc: 99.333\n",
      "Validation Accuracy |  83.33333333333334  PPV |  [0.88235294 0.        ]  Recall |  [0.9375 0.    ]\n",
      "Training Epoch 064: | Loss: 0.12771 | Acc: 97.444\n",
      "Validation Accuracy |  77.77777777777779  PPV |  [0.92857143 0.25      ]  Recall |  [0.8125 0.5   ]\n",
      "Training Epoch 065: | Loss: 0.08134 | Acc: 99.333\n",
      "Validation Accuracy |  72.22222222222221  PPV |  [0.86666667 0.        ]  Recall |  [0.8125 0.    ]\n",
      "Training Epoch 066: | Loss: 0.07411 | Acc: 97.889\n",
      "Validation Accuracy |  77.77777777777779  PPV |  [0.92857143 0.25      ]  Recall |  [0.8125 0.5   ]\n",
      "Training Epoch 067: | Loss: 0.06377 | Acc: 99.667\n",
      "Validation Accuracy |  77.77777777777779  PPV |  [0.92857143 0.25      ]  Recall |  [0.8125 0.5   ]\n",
      "Training Epoch 068: | Loss: 0.06159 | Acc: 99.667\n",
      "Validation Accuracy |  77.77777777777779  PPV |  [0.92857143 0.25      ]  Recall |  [0.8125 0.5   ]\n",
      "Training Epoch 069: | Loss: 0.05360 | Acc: 98.556\n",
      "Validation Accuracy |  77.77777777777779  PPV |  [0.875 0.   ]  Recall |  [0.875 0.   ]\n",
      "Training Epoch 070: | Loss: 0.06162 | Acc: 98.333\n",
      "Validation Accuracy |  77.77777777777779  PPV |  [0.92857143 0.25      ]  Recall |  [0.8125 0.5   ]\n",
      "Training Epoch 071: | Loss: 0.05593 | Acc: 99.667\n",
      "Validation Accuracy |  77.77777777777779  PPV |  [0.92857143 0.25      ]  Recall |  [0.8125 0.5   ]\n",
      "Training Epoch 072: | Loss: 0.04408 | Acc: 98.889\n",
      "Validation Accuracy |  77.77777777777779  PPV |  [0.92857143 0.25      ]  Recall |  [0.8125 0.5   ]\n",
      "Training Epoch 073: | Loss: 0.03951 | Acc: 99.667\n",
      "Validation Accuracy |  72.22222222222221  PPV |  [0.86666667 0.        ]  Recall |  [0.8125 0.    ]\n",
      "Training Epoch 074: | Loss: 0.04866 | Acc: 100.000\n",
      "Validation Accuracy |  77.77777777777779  PPV |  [0.92857143 0.25      ]  Recall |  [0.8125 0.5   ]\n",
      "Training Epoch 075: | Loss: 0.04000 | Acc: 99.667\n",
      "Validation Accuracy |  77.77777777777779  PPV |  [0.92857143 0.25      ]  Recall |  [0.8125 0.5   ]\n",
      "Training Epoch 076: | Loss: 0.04856 | Acc: 99.333\n",
      "Validation Accuracy |  77.77777777777779  PPV |  [0.92857143 0.25      ]  Recall |  [0.8125 0.5   ]\n",
      "Training Epoch 077: | Loss: 0.07926 | Acc: 98.667\n",
      "Validation Accuracy |  77.77777777777779  PPV |  [0.92857143 0.25      ]  Recall |  [0.8125 0.5   ]\n",
      "Training Epoch 078: | Loss: 0.04317 | Acc: 99.667\n",
      "Validation Accuracy |  83.33333333333334  PPV |  [0.88235294 0.        ]  Recall |  [0.9375 0.    ]\n",
      "Training Epoch 079: | Loss: 0.07590 | Acc: 99.333\n",
      "Validation Accuracy |  72.22222222222221  PPV |  [0.86666667 0.        ]  Recall |  [0.8125 0.    ]\n",
      "Training Epoch 080: | Loss: 0.05329 | Acc: 99.667\n",
      "Validation Accuracy |  72.22222222222221  PPV |  [0.86666667 0.        ]  Recall |  [0.8125 0.    ]\n",
      "Training Epoch 081: | Loss: 0.04808 | Acc: 99.667\n",
      "Validation Accuracy |  77.77777777777779  PPV |  [0.92857143 0.25      ]  Recall |  [0.8125 0.5   ]\n",
      "Training Epoch 082: | Loss: 0.04120 | Acc: 99.667\n",
      "Validation Accuracy |  72.22222222222221  PPV |  [0.86666667 0.        ]  Recall |  [0.8125 0.    ]\n",
      "Training Epoch 083: | Loss: 0.04446 | Acc: 100.000\n",
      "Validation Accuracy |  72.22222222222221  PPV |  [0.86666667 0.        ]  Recall |  [0.8125 0.    ]\n",
      "Training Epoch 084: | Loss: 0.04653 | Acc: 99.333\n",
      "Validation Accuracy |  77.77777777777779  PPV |  [0.92857143 0.25      ]  Recall |  [0.8125 0.5   ]\n",
      "Training Epoch 085: | Loss: 0.04726 | Acc: 99.000\n",
      "Validation Accuracy |  77.77777777777779  PPV |  [0.875 0.   ]  Recall |  [0.875 0.   ]\n",
      "Training Epoch 086: | Loss: 0.05331 | Acc: 99.333\n",
      "Validation Accuracy |  77.77777777777779  PPV |  [0.92857143 0.25      ]  Recall |  [0.8125 0.5   ]\n",
      "Training Epoch 087: | Loss: 0.04091 | Acc: 99.667\n",
      "Validation Accuracy |  72.22222222222221  PPV |  [0.86666667 0.        ]  Recall |  [0.8125 0.    ]\n",
      "Training Epoch 088: | Loss: 0.13901 | Acc: 98.333\n",
      "Validation Accuracy |  72.22222222222221  PPV |  [0.86666667 0.        ]  Recall |  [0.8125 0.    ]\n",
      "Training Epoch 089: | Loss: 0.10560 | Acc: 95.778\n",
      "Validation Accuracy |  77.77777777777779  PPV |  [0.92857143 0.25      ]  Recall |  [0.8125 0.5   ]\n",
      "Training Epoch 090: | Loss: 0.07566 | Acc: 99.000\n",
      "Validation Accuracy |  83.33333333333334  PPV |  [0.88235294 0.        ]  Recall |  [0.9375 0.    ]\n",
      "Training Epoch 091: | Loss: 0.05669 | Acc: 99.667\n",
      "Validation Accuracy |  77.77777777777779  PPV |  [0.92857143 0.25      ]  Recall |  [0.8125 0.5   ]\n",
      "Training Epoch 092: | Loss: 0.06579 | Acc: 98.222\n",
      "Validation Accuracy |  72.22222222222221  PPV |  [0.86666667 0.        ]  Recall |  [0.8125 0.    ]\n",
      "Training Epoch 093: | Loss: 0.05144 | Acc: 100.000\n",
      "Validation Accuracy |  72.22222222222221  PPV |  [0.86666667 0.        ]  Recall |  [0.8125 0.    ]\n",
      "Training Epoch 094: | Loss: 0.05994 | Acc: 99.000\n",
      "Validation Accuracy |  77.77777777777779  PPV |  [0.92857143 0.25      ]  Recall |  [0.8125 0.5   ]\n",
      "Training Epoch 095: | Loss: 0.03435 | Acc: 99.000\n",
      "Validation Accuracy |  83.33333333333334  PPV |  [0.88235294 0.        ]  Recall |  [0.9375 0.    ]\n",
      "Training Epoch 096: | Loss: 0.03654 | Acc: 100.000\n",
      "Validation Accuracy |  72.22222222222221  PPV |  [0.86666667 0.        ]  Recall |  [0.8125 0.    ]\n",
      "Training Epoch 097: | Loss: 0.03461 | Acc: 99.333\n",
      "Validation Accuracy |  77.77777777777779  PPV |  [0.92857143 0.25      ]  Recall |  [0.8125 0.5   ]\n",
      "Training Epoch 098: | Loss: 0.04709 | Acc: 99.333\n",
      "Validation Accuracy |  72.22222222222221  PPV |  [0.86666667 0.        ]  Recall |  [0.8125 0.    ]\n",
      "Training Epoch 099: | Loss: 0.04506 | Acc: 99.333\n",
      "Validation Accuracy |  77.77777777777779  PPV |  [0.92857143 0.25      ]  Recall |  [0.8125 0.5   ]\n",
      "Training Epoch 100: | Loss: 0.02509 | Acc: 100.000\n",
      "Validation Accuracy |  72.22222222222221  PPV |  [0.86666667 0.        ]  Recall |  [0.8125 0.    ]\n"
     ]
    }
   ],
   "source": [
    "#model.train() tells PyTorch that you’re in training mode.\n",
    "#Similarly, we’ll call model.eval() when we test our model. We’ll see that below.\n",
    "'''If you’re using layers such as Dropout or BatchNorm which behave differently during training and evaluation, \n",
    "you need to tell PyTorch to act accordingly. While the default mode in PyTorch is the train, \n",
    "so, you don’t explicitly have to write that. But it’s good practice.'''\n",
    "val_acc = []\n",
    "train_acc = []\n",
    "train_loss = []\n",
    "val_loss = []\n",
    "\n",
    "model.train() #Initial training mode\n",
    "for e in range(1, EPOCHS+1):\n",
    "    epoch_loss = 0\n",
    "    epoch_acc = 0\n",
    "    for X_batch, y_batch in train_loader:\n",
    "        X_batch, y_batch = X_batch.to(device), y_batch.to(device)\n",
    "        optimizer.zero_grad()\n",
    "        \n",
    "        y_pred = model(X_batch)\n",
    "        \n",
    "        loss = criterion(y_pred, y_batch)\n",
    "        acc = binary_acc(y_pred, y_batch)\n",
    "        \n",
    "        loss.backward()\n",
    "        optimizer.step()\n",
    "        \n",
    "        epoch_loss += loss.item()\n",
    "        epoch_acc += acc.item()\n",
    "    \n",
    "    train_acc.append(epoch_acc/len(train_loader))\n",
    "    train_loss.append(epoch_loss/len(train_loader))\n",
    "    print(f'Training Epoch {e+0:03}: | Loss: {epoch_loss/len(train_loader):.5f} | Acc: {epoch_acc/len(train_loader):.3f}')\n",
    "    #Validation metrics here\n",
    "    model.eval()\n",
    "    #print(\"Evaluation mode\")\n",
    "    y_pred_list = []\n",
    "    test_loader = DataLoader(dataset=test_data, batch_size=test_size)\n",
    "    with torch.no_grad():\n",
    "        counter = 0\n",
    "        for X_batch in test_loader:\n",
    "            X_batch = X_batch.to(device)\n",
    "            y_test_pred = model(X_batch)\n",
    "            y_test_pred = torch.sigmoid(y_test_pred)\n",
    "            y_pred_tag = torch.round(y_test_pred)\n",
    "            y_pred_list.append(y_pred_tag.cpu().numpy())\n",
    "            loss = criterion(y_test_pred,torch.FloatTensor(testing_fold_Y_0))\n",
    "            val_loss.append(loss)\n",
    "            counter+=1\n",
    "            \n",
    "    y_pred_list = []\n",
    "    test_loader = DataLoader(dataset=test_data, batch_size=1)\n",
    "    with torch.no_grad():\n",
    "        for X_batch in test_loader:\n",
    "            X_batch = X_batch.to(device)\n",
    "            y_test_pred = model(X_batch)\n",
    "            y_test_pred = torch.sigmoid(y_test_pred)\n",
    "            y_pred_tag = torch.round(y_test_pred)\n",
    "            y_pred_list.append(y_pred_tag.cpu().numpy())\n",
    "            \n",
    "    y_pred_list = [a.squeeze().tolist() for a in y_pred_list]\n",
    "    y_loss_df = pd.DataFrame(y_pred_list)\n",
    "    accuracy = accuracy_score(torch.FloatTensor(testing_fold_Y_0), y_pred_list)\n",
    "    ppv = precision_score(testing_fold_Y_0, y_pred_list, average=None)\n",
    "    recall = recall_score(testing_fold_Y_0, y_pred_list, average=None)\n",
    "    print(\"Validation Accuracy | \",accuracy*100,\" PPV | \",ppv,\" Recall | \",recall)\n",
    "    val_acc.append(accuracy*100)\n",
    "    model.train()\n",
    "    #print(\"Return to training mode\")\n",
    "    \n",
    "    #Need to get validation loss."
   ]
  },
  {
   "cell_type": "code",
   "execution_count": 12,
   "id": "charged-chase",
   "metadata": {},
   "outputs": [
    {
     "name": "stdout",
     "output_type": "stream",
     "text": [
      "Training Epoch 001: | Loss: 3.00607 | Acc: 52.778\n",
      "Validation Accuracy |  5.88235294117647  PPV |  [0.         0.05882353]  Recall |  [0. 1.]\n",
      "Training Epoch 002: | Loss: 1.93315 | Acc: 52.222\n",
      "Validation Accuracy |  47.05882352941176  PPV |  [1.  0.1]  Recall |  [0.4375 1.    ]\n",
      "Training Epoch 003: | Loss: 1.41706 | Acc: 64.111\n",
      "Validation Accuracy |  35.294117647058826  PPV |  [1.         0.08333333]"
     ]
    },
    {
     "name": "stderr",
     "output_type": "stream",
     "text": [
      "C:\\Users\\mattbeze\\Anaconda3\\envs\\pytorch\\lib\\site-packages\\sklearn\\metrics\\_classification.py:1245: UndefinedMetricWarning: Precision is ill-defined and being set to 0.0 in labels with no predicted samples. Use `zero_division` parameter to control this behavior.\n",
      "  _warn_prf(average, modifier, msg_start, len(result))\n"
     ]
    },
    {
     "name": "stdout",
     "output_type": "stream",
     "text": [
      "  Recall |  [0.3125 1.    ]\n",
      "Training Epoch 004: | Loss: 1.22197 | Acc: 63.444\n",
      "Validation Accuracy |  23.52941176470588  PPV |  [1.         0.07142857]  Recall |  [0.1875 1.    ]\n",
      "Training Epoch 005: | Loss: 1.15496 | Acc: 60.556\n",
      "Validation Accuracy |  35.294117647058826  PPV |  [1.         0.08333333]  Recall |  [0.3125 1.    ]\n",
      "Training Epoch 006: | Loss: 1.13700 | Acc: 63.222\n",
      "Validation Accuracy |  35.294117647058826  PPV |  [1.         0.08333333]  Recall |  [0.3125 1.    ]\n",
      "Training Epoch 007: | Loss: 1.14330 | Acc: 61.444\n",
      "Validation Accuracy |  35.294117647058826  PPV |  [1.         0.08333333]  Recall |  [0.3125 1.    ]\n",
      "Training Epoch 008: | Loss: 1.05305 | Acc: 65.778\n",
      "Validation Accuracy |  35.294117647058826  PPV |  [1.         0.08333333]  Recall |  [0.3125 1.    ]\n",
      "Training Epoch 009: | Loss: 1.01771 | Acc: 68.778\n",
      "Validation Accuracy |  35.294117647058826  PPV |  [1.         0.08333333]  Recall |  [0.3125 1.    ]\n",
      "Training Epoch 010: | Loss: 1.06236 | Acc: 66.444\n",
      "Validation Accuracy |  29.411764705882355  PPV |  [1.         0.07692308]  Recall |  [0.25 1.  ]\n",
      "Training Epoch 011: | Loss: 0.96522 | Acc: 65.444\n",
      "Validation Accuracy |  52.94117647058824  PPV |  [1.         0.11111111]  Recall |  [0.5 1. ]\n",
      "Training Epoch 012: | Loss: 0.91584 | Acc: 70.556\n",
      "Validation Accuracy |  52.94117647058824  PPV |  [1.         0.11111111]  Recall |  [0.5 1. ]\n",
      "Training Epoch 013: | Loss: 0.93074 | Acc: 69.667\n",
      "Validation Accuracy |  52.94117647058824  PPV |  [1.         0.11111111]  Recall |  [0.5 1. ]\n",
      "Training Epoch 014: | Loss: 0.94407 | Acc: 70.222\n",
      "Validation Accuracy |  52.94117647058824  PPV |  [1.         0.11111111]  Recall |  [0.5 1. ]\n",
      "Training Epoch 015: | Loss: 0.83655 | Acc: 68.444\n",
      "Validation Accuracy |  52.94117647058824  PPV |  [1.         0.11111111]  Recall |  [0.5 1. ]\n",
      "Training Epoch 016: | Loss: 0.82742 | Acc: 78.333\n",
      "Validation Accuracy |  52.94117647058824  PPV |  [1.         0.11111111]  Recall |  [0.5 1. ]\n",
      "Training Epoch 017: | Loss: 0.76141 | Acc: 72.778\n",
      "Validation Accuracy |  76.47058823529412  PPV |  [1.  0.2]  Recall |  [0.75 1.  ]\n",
      "Training Epoch 018: | Loss: 0.75511 | Acc: 81.222\n",
      "Validation Accuracy |  52.94117647058824  PPV |  [1.         0.11111111]  Recall |  [0.5 1. ]\n",
      "Training Epoch 019: | Loss: 0.72381 | Acc: 74.333\n",
      "Validation Accuracy |  88.23529411764706  PPV |  [0.9375 0.    ]  Recall |  [0.9375 0.    ]\n",
      "Training Epoch 020: | Loss: 0.66730 | Acc: 84.889\n",
      "Validation Accuracy |  70.58823529411765  PPV |  [1.         0.16666667]  Recall |  [0.6875 1.    ]\n",
      "Training Epoch 021: | Loss: 0.59539 | Acc: 85.667\n",
      "Validation Accuracy |  94.11764705882352  PPV |  [0.94117647 0.        ]  Recall |  [1. 0.]\n",
      "Training Epoch 022: | Loss: 0.58928 | Acc: 88.667\n",
      "Validation Accuracy |  70.58823529411765  PPV |  [0.92307692 0.        ]  Recall |  [0.75 0.  ]\n"
     ]
    },
    {
     "name": "stderr",
     "output_type": "stream",
     "text": [
      "C:\\Users\\mattbeze\\Anaconda3\\envs\\pytorch\\lib\\site-packages\\sklearn\\metrics\\_classification.py:1245: UndefinedMetricWarning: Precision is ill-defined and being set to 0.0 in labels with no predicted samples. Use `zero_division` parameter to control this behavior.\n",
      "  _warn_prf(average, modifier, msg_start, len(result))\n"
     ]
    },
    {
     "name": "stdout",
     "output_type": "stream",
     "text": [
      "Training Epoch 023: | Loss: 0.53295 | Acc: 84.444\n",
      "Validation Accuracy |  88.23529411764706  PPV |  [0.9375 0.    ]  Recall |  [0.9375 0.    ]\n",
      "Training Epoch 024: | Loss: 0.50452 | Acc: 91.556\n",
      "Validation Accuracy |  88.23529411764706  PPV |  [0.9375 0.    ]  Recall |  [0.9375 0.    ]\n",
      "Training Epoch 025: | Loss: 0.50653 | Acc: 89.444\n",
      "Validation Accuracy |  88.23529411764706  PPV |  [1.         0.33333333]  Recall |  [0.875 1.   ]\n",
      "Training Epoch 026: | Loss: 0.43990 | Acc: 90.556\n",
      "Validation Accuracy |  94.11764705882352  PPV |  [0.94117647 0.        ]  Recall |  [1. 0.]\n",
      "Training Epoch 027: | Loss: 0.46203 | Acc: 88.333\n",
      "Validation Accuracy |  88.23529411764706  PPV |  [0.9375 0.    ]  Recall |  [0.9375 0.    ]\n"
     ]
    },
    {
     "name": "stderr",
     "output_type": "stream",
     "text": [
      "C:\\Users\\mattbeze\\Anaconda3\\envs\\pytorch\\lib\\site-packages\\sklearn\\metrics\\_classification.py:1245: UndefinedMetricWarning: Precision is ill-defined and being set to 0.0 in labels with no predicted samples. Use `zero_division` parameter to control this behavior.\n",
      "  _warn_prf(average, modifier, msg_start, len(result))\n"
     ]
    },
    {
     "name": "stdout",
     "output_type": "stream",
     "text": [
      "Training Epoch 028: | Loss: 0.35367 | Acc: 94.111\n",
      "Validation Accuracy |  94.11764705882352  PPV |  [0.94117647 0.        ]  Recall |  [1. 0.]\n",
      "Training Epoch 029: | Loss: 0.42512 | Acc: 92.000\n",
      "Validation Accuracy |  88.23529411764706  PPV |  [0.9375 0.    ]  Recall |  [0.9375 0.    ]\n",
      "Training Epoch 030: | Loss: 0.44427 | Acc: 91.667\n",
      "Validation Accuracy |  94.11764705882352  PPV |  [0.94117647 0.        ]  Recall |  [1. 0.]\n"
     ]
    },
    {
     "name": "stderr",
     "output_type": "stream",
     "text": [
      "C:\\Users\\mattbeze\\Anaconda3\\envs\\pytorch\\lib\\site-packages\\sklearn\\metrics\\_classification.py:1245: UndefinedMetricWarning: Precision is ill-defined and being set to 0.0 in labels with no predicted samples. Use `zero_division` parameter to control this behavior.\n",
      "  _warn_prf(average, modifier, msg_start, len(result))\n",
      "C:\\Users\\mattbeze\\Anaconda3\\envs\\pytorch\\lib\\site-packages\\sklearn\\metrics\\_classification.py:1245: UndefinedMetricWarning: Precision is ill-defined and being set to 0.0 in labels with no predicted samples. Use `zero_division` parameter to control this behavior.\n",
      "  _warn_prf(average, modifier, msg_start, len(result))\n"
     ]
    },
    {
     "name": "stdout",
     "output_type": "stream",
     "text": [
      "Training Epoch 031: | Loss: 0.31880 | Acc: 92.333\n",
      "Validation Accuracy |  94.11764705882352  PPV |  [0.94117647 0.        ]  Recall |  [1. 0.]\n",
      "Training Epoch 032: | Loss: 0.32922 | Acc: 94.444\n",
      "Validation Accuracy |  94.11764705882352  PPV |  [0.94117647 0.        ]  Recall |  [1. 0.]\n",
      "Training Epoch 033: | Loss: 0.27969 | Acc: 94.111\n"
     ]
    },
    {
     "name": "stderr",
     "output_type": "stream",
     "text": [
      "C:\\Users\\mattbeze\\Anaconda3\\envs\\pytorch\\lib\\site-packages\\sklearn\\metrics\\_classification.py:1245: UndefinedMetricWarning: Precision is ill-defined and being set to 0.0 in labels with no predicted samples. Use `zero_division` parameter to control this behavior.\n",
      "  _warn_prf(average, modifier, msg_start, len(result))\n",
      "C:\\Users\\mattbeze\\Anaconda3\\envs\\pytorch\\lib\\site-packages\\sklearn\\metrics\\_classification.py:1245: UndefinedMetricWarning: Precision is ill-defined and being set to 0.0 in labels with no predicted samples. Use `zero_division` parameter to control this behavior.\n",
      "  _warn_prf(average, modifier, msg_start, len(result))\n",
      "C:\\Users\\mattbeze\\Anaconda3\\envs\\pytorch\\lib\\site-packages\\sklearn\\metrics\\_classification.py:1245: UndefinedMetricWarning: Precision is ill-defined and being set to 0.0 in labels with no predicted samples. Use `zero_division` parameter to control this behavior.\n",
      "  _warn_prf(average, modifier, msg_start, len(result))\n"
     ]
    },
    {
     "name": "stdout",
     "output_type": "stream",
     "text": [
      "Validation Accuracy |  94.11764705882352  PPV |  [0.94117647 0.        ]  Recall |  [1. 0.]\n",
      "Training Epoch 034: | Loss: 0.32511 | Acc: 93.778\n",
      "Validation Accuracy |  94.11764705882352  PPV |  [0.94117647 0.        ]  Recall |  [1. 0.]\n",
      "Training Epoch 035: | Loss: 0.37933 | Acc: 90.111\n"
     ]
    },
    {
     "name": "stderr",
     "output_type": "stream",
     "text": [
      "C:\\Users\\mattbeze\\Anaconda3\\envs\\pytorch\\lib\\site-packages\\sklearn\\metrics\\_classification.py:1245: UndefinedMetricWarning: Precision is ill-defined and being set to 0.0 in labels with no predicted samples. Use `zero_division` parameter to control this behavior.\n",
      "  _warn_prf(average, modifier, msg_start, len(result))\n",
      "C:\\Users\\mattbeze\\Anaconda3\\envs\\pytorch\\lib\\site-packages\\sklearn\\metrics\\_classification.py:1245: UndefinedMetricWarning: Precision is ill-defined and being set to 0.0 in labels with no predicted samples. Use `zero_division` parameter to control this behavior.\n",
      "  _warn_prf(average, modifier, msg_start, len(result))\n"
     ]
    },
    {
     "name": "stdout",
     "output_type": "stream",
     "text": [
      "Validation Accuracy |  94.11764705882352  PPV |  [0.94117647 0.        ]  Recall |  [1. 0.]\n",
      "Training Epoch 036: | Loss: 0.25314 | Acc: 94.667\n",
      "Validation Accuracy |  94.11764705882352  PPV |  [0.94117647 0.        ]  Recall |  [1. 0.]\n",
      "Training Epoch 037: | Loss: 0.26729 | Acc: 93.111\n",
      "Validation Accuracy |  94.11764705882352  PPV |  [0.94117647 0.        ]  Recall |  [1. 0.]\n"
     ]
    },
    {
     "name": "stderr",
     "output_type": "stream",
     "text": [
      "C:\\Users\\mattbeze\\Anaconda3\\envs\\pytorch\\lib\\site-packages\\sklearn\\metrics\\_classification.py:1245: UndefinedMetricWarning: Precision is ill-defined and being set to 0.0 in labels with no predicted samples. Use `zero_division` parameter to control this behavior.\n",
      "  _warn_prf(average, modifier, msg_start, len(result))\n",
      "C:\\Users\\mattbeze\\Anaconda3\\envs\\pytorch\\lib\\site-packages\\sklearn\\metrics\\_classification.py:1245: UndefinedMetricWarning: Precision is ill-defined and being set to 0.0 in labels with no predicted samples. Use `zero_division` parameter to control this behavior.\n",
      "  _warn_prf(average, modifier, msg_start, len(result))\n",
      "C:\\Users\\mattbeze\\Anaconda3\\envs\\pytorch\\lib\\site-packages\\sklearn\\metrics\\_classification.py:1245: UndefinedMetricWarning: Precision is ill-defined and being set to 0.0 in labels with no predicted samples. Use `zero_division` parameter to control this behavior.\n",
      "  _warn_prf(average, modifier, msg_start, len(result))\n"
     ]
    },
    {
     "name": "stdout",
     "output_type": "stream",
     "text": [
      "Training Epoch 038: | Loss: 0.22994 | Acc: 95.444\n",
      "Validation Accuracy |  94.11764705882352  PPV |  [0.94117647 0.        ]  Recall |  [1. 0.]\n",
      "Training Epoch 039: | Loss: 0.22173 | Acc: 96.778\n",
      "Validation Accuracy |  88.23529411764706  PPV |  [0.9375 0.    ]  Recall |  [0.9375 0.    ]\n",
      "Training Epoch 040: | Loss: 0.24666 | Acc: 93.778\n"
     ]
    },
    {
     "name": "stderr",
     "output_type": "stream",
     "text": [
      "C:\\Users\\mattbeze\\Anaconda3\\envs\\pytorch\\lib\\site-packages\\sklearn\\metrics\\_classification.py:1245: UndefinedMetricWarning: Precision is ill-defined and being set to 0.0 in labels with no predicted samples. Use `zero_division` parameter to control this behavior.\n",
      "  _warn_prf(average, modifier, msg_start, len(result))\n",
      "C:\\Users\\mattbeze\\Anaconda3\\envs\\pytorch\\lib\\site-packages\\sklearn\\metrics\\_classification.py:1245: UndefinedMetricWarning: Precision is ill-defined and being set to 0.0 in labels with no predicted samples. Use `zero_division` parameter to control this behavior.\n",
      "  _warn_prf(average, modifier, msg_start, len(result))\n",
      "C:\\Users\\mattbeze\\Anaconda3\\envs\\pytorch\\lib\\site-packages\\sklearn\\metrics\\_classification.py:1245: UndefinedMetricWarning: Precision is ill-defined and being set to 0.0 in labels with no predicted samples. Use `zero_division` parameter to control this behavior.\n",
      "  _warn_prf(average, modifier, msg_start, len(result))\n"
     ]
    },
    {
     "name": "stdout",
     "output_type": "stream",
     "text": [
      "Validation Accuracy |  94.11764705882352  PPV |  [0.94117647 0.        ]  Recall |  [1. 0.]\n",
      "Training Epoch 041: | Loss: 0.27373 | Acc: 94.778\n",
      "Validation Accuracy |  94.11764705882352  PPV |  [0.94117647 0.        ]  Recall |  [1. 0.]\n",
      "Training Epoch 042: | Loss: 0.25619 | Acc: 95.444\n",
      "Validation Accuracy |  94.11764705882352  PPV |  [0.94117647 0.        ]  Recall |  [1. 0.]\n",
      "Training Epoch 043: | Loss: 0.23978 | Acc: 93.000"
     ]
    },
    {
     "name": "stderr",
     "output_type": "stream",
     "text": [
      "C:\\Users\\mattbeze\\Anaconda3\\envs\\pytorch\\lib\\site-packages\\sklearn\\metrics\\_classification.py:1245: UndefinedMetricWarning: Precision is ill-defined and being set to 0.0 in labels with no predicted samples. Use `zero_division` parameter to control this behavior.\n",
      "  _warn_prf(average, modifier, msg_start, len(result))\n",
      "C:\\Users\\mattbeze\\Anaconda3\\envs\\pytorch\\lib\\site-packages\\sklearn\\metrics\\_classification.py:1245: UndefinedMetricWarning: Precision is ill-defined and being set to 0.0 in labels with no predicted samples. Use `zero_division` parameter to control this behavior.\n",
      "  _warn_prf(average, modifier, msg_start, len(result))\n",
      "C:\\Users\\mattbeze\\Anaconda3\\envs\\pytorch\\lib\\site-packages\\sklearn\\metrics\\_classification.py:1245: UndefinedMetricWarning: Precision is ill-defined and being set to 0.0 in labels with no predicted samples. Use `zero_division` parameter to control this behavior.\n",
      "  _warn_prf(average, modifier, msg_start, len(result))\n"
     ]
    },
    {
     "name": "stdout",
     "output_type": "stream",
     "text": [
      "\n",
      "Validation Accuracy |  94.11764705882352  PPV |  [0.94117647 0.        ]  Recall |  [1. 0.]\n",
      "Training Epoch 044: | Loss: 0.21251 | Acc: 96.333\n",
      "Validation Accuracy |  94.11764705882352  PPV |  [0.94117647 0.        ]  Recall |  [1. 0.]\n",
      "Training Epoch 045: | Loss: 0.13520 | Acc: 96.444\n",
      "Validation Accuracy |  94.11764705882352  PPV |  [0.94117647 0.        ]  Recall |  [1. 0.]\n",
      "Training Epoch 046: | Loss: 0.16656 | Acc: 98.000"
     ]
    },
    {
     "name": "stderr",
     "output_type": "stream",
     "text": [
      "C:\\Users\\mattbeze\\Anaconda3\\envs\\pytorch\\lib\\site-packages\\sklearn\\metrics\\_classification.py:1245: UndefinedMetricWarning: Precision is ill-defined and being set to 0.0 in labels with no predicted samples. Use `zero_division` parameter to control this behavior.\n",
      "  _warn_prf(average, modifier, msg_start, len(result))\n",
      "C:\\Users\\mattbeze\\Anaconda3\\envs\\pytorch\\lib\\site-packages\\sklearn\\metrics\\_classification.py:1245: UndefinedMetricWarning: Precision is ill-defined and being set to 0.0 in labels with no predicted samples. Use `zero_division` parameter to control this behavior.\n",
      "  _warn_prf(average, modifier, msg_start, len(result))\n",
      "C:\\Users\\mattbeze\\Anaconda3\\envs\\pytorch\\lib\\site-packages\\sklearn\\metrics\\_classification.py:1245: UndefinedMetricWarning: Precision is ill-defined and being set to 0.0 in labels with no predicted samples. Use `zero_division` parameter to control this behavior.\n",
      "  _warn_prf(average, modifier, msg_start, len(result))\n"
     ]
    },
    {
     "name": "stdout",
     "output_type": "stream",
     "text": [
      "\n",
      "Validation Accuracy |  94.11764705882352  PPV |  [0.94117647 0.        ]  Recall |  [1. 0.]\n",
      "Training Epoch 047: | Loss: 0.13519 | Acc: 97.556\n",
      "Validation Accuracy |  94.11764705882352  PPV |  [0.94117647 0.        ]  Recall |  [1. 0.]\n",
      "Training Epoch 048: | Loss: 0.14195 | Acc: 98.667\n",
      "Validation Accuracy |  94.11764705882352  PPV |  [0.94117647 0.        ]  Recall |  [1. 0.]\n",
      "Training Epoch 049: | Loss: 0.12668 | Acc: 97.889\n",
      "Validation Accuracy |  94.11764705882352  PPV |  [0.94117647 0.        ]  Recall |  [1. 0.]\n",
      "Training Epoch 050: | Loss: 0.16920 | Acc: 96.889\n",
      "Validation Accuracy |  94.11764705882352  PPV |  [0.94117647 0.        ]  Recall |  [1. 0.]\n",
      "Training Epoch 051: | Loss: 0.14360 | Acc: 96.778\n"
     ]
    },
    {
     "name": "stderr",
     "output_type": "stream",
     "text": [
      "C:\\Users\\mattbeze\\Anaconda3\\envs\\pytorch\\lib\\site-packages\\sklearn\\metrics\\_classification.py:1245: UndefinedMetricWarning: Precision is ill-defined and being set to 0.0 in labels with no predicted samples. Use `zero_division` parameter to control this behavior.\n",
      "  _warn_prf(average, modifier, msg_start, len(result))\n",
      "C:\\Users\\mattbeze\\Anaconda3\\envs\\pytorch\\lib\\site-packages\\sklearn\\metrics\\_classification.py:1245: UndefinedMetricWarning: Precision is ill-defined and being set to 0.0 in labels with no predicted samples. Use `zero_division` parameter to control this behavior.\n",
      "  _warn_prf(average, modifier, msg_start, len(result))\n",
      "C:\\Users\\mattbeze\\Anaconda3\\envs\\pytorch\\lib\\site-packages\\sklearn\\metrics\\_classification.py:1245: UndefinedMetricWarning: Precision is ill-defined and being set to 0.0 in labels with no predicted samples. Use `zero_division` parameter to control this behavior.\n",
      "  _warn_prf(average, modifier, msg_start, len(result))\n"
     ]
    },
    {
     "name": "stdout",
     "output_type": "stream",
     "text": [
      "Validation Accuracy |  94.11764705882352  PPV |  [0.94117647 0.        ]  Recall |  [1. 0.]\n",
      "Training Epoch 052: | Loss: 0.13198 | Acc: 98.556\n",
      "Validation Accuracy |  94.11764705882352  PPV |  [0.94117647 0.        ]  Recall |  [1. 0.]\n",
      "Training Epoch 053: | Loss: 0.15724 | Acc: 97.444\n",
      "Validation Accuracy |  94.11764705882352  PPV |  [0.94117647 0.        ]  Recall |  [1. 0.]\n"
     ]
    },
    {
     "name": "stderr",
     "output_type": "stream",
     "text": [
      "C:\\Users\\mattbeze\\Anaconda3\\envs\\pytorch\\lib\\site-packages\\sklearn\\metrics\\_classification.py:1245: UndefinedMetricWarning: Precision is ill-defined and being set to 0.0 in labels with no predicted samples. Use `zero_division` parameter to control this behavior.\n",
      "  _warn_prf(average, modifier, msg_start, len(result))\n",
      "C:\\Users\\mattbeze\\Anaconda3\\envs\\pytorch\\lib\\site-packages\\sklearn\\metrics\\_classification.py:1245: UndefinedMetricWarning: Precision is ill-defined and being set to 0.0 in labels with no predicted samples. Use `zero_division` parameter to control this behavior.\n",
      "  _warn_prf(average, modifier, msg_start, len(result))\n",
      "C:\\Users\\mattbeze\\Anaconda3\\envs\\pytorch\\lib\\site-packages\\sklearn\\metrics\\_classification.py:1245: UndefinedMetricWarning: Precision is ill-defined and being set to 0.0 in labels with no predicted samples. Use `zero_division` parameter to control this behavior.\n",
      "  _warn_prf(average, modifier, msg_start, len(result))\n"
     ]
    },
    {
     "name": "stdout",
     "output_type": "stream",
     "text": [
      "Training Epoch 054: | Loss: 0.13144 | Acc: 98.889\n",
      "Validation Accuracy |  94.11764705882352  PPV |  [0.94117647 0.        ]  Recall |  [1. 0.]\n",
      "Training Epoch 055: | Loss: 0.11042 | Acc: 97.889\n",
      "Validation Accuracy |  94.11764705882352  PPV |  [0.94117647 0.        ]  Recall |  [1. 0.]\n",
      "Training Epoch 056: | Loss: 0.09988 | Acc: 99.667\n"
     ]
    },
    {
     "name": "stderr",
     "output_type": "stream",
     "text": [
      "C:\\Users\\mattbeze\\Anaconda3\\envs\\pytorch\\lib\\site-packages\\sklearn\\metrics\\_classification.py:1245: UndefinedMetricWarning: Precision is ill-defined and being set to 0.0 in labels with no predicted samples. Use `zero_division` parameter to control this behavior.\n",
      "  _warn_prf(average, modifier, msg_start, len(result))\n",
      "C:\\Users\\mattbeze\\Anaconda3\\envs\\pytorch\\lib\\site-packages\\sklearn\\metrics\\_classification.py:1245: UndefinedMetricWarning: Precision is ill-defined and being set to 0.0 in labels with no predicted samples. Use `zero_division` parameter to control this behavior.\n",
      "  _warn_prf(average, modifier, msg_start, len(result))\n"
     ]
    },
    {
     "name": "stdout",
     "output_type": "stream",
     "text": [
      "Validation Accuracy |  94.11764705882352  PPV |  [0.94117647 0.        ]  Recall |  [1. 0.]\n",
      "Training Epoch 057: | Loss: 0.14503 | Acc: 94.667\n"
     ]
    },
    {
     "name": "stderr",
     "output_type": "stream",
     "text": [
      "C:\\Users\\mattbeze\\Anaconda3\\envs\\pytorch\\lib\\site-packages\\sklearn\\metrics\\_classification.py:1245: UndefinedMetricWarning: Precision is ill-defined and being set to 0.0 in labels with no predicted samples. Use `zero_division` parameter to control this behavior.\n",
      "  _warn_prf(average, modifier, msg_start, len(result))\n",
      "C:\\Users\\mattbeze\\Anaconda3\\envs\\pytorch\\lib\\site-packages\\sklearn\\metrics\\_classification.py:1245: UndefinedMetricWarning: Precision is ill-defined and being set to 0.0 in labels with no predicted samples. Use `zero_division` parameter to control this behavior.\n",
      "  _warn_prf(average, modifier, msg_start, len(result))\n",
      "C:\\Users\\mattbeze\\Anaconda3\\envs\\pytorch\\lib\\site-packages\\sklearn\\metrics\\_classification.py:1245: UndefinedMetricWarning: Precision is ill-defined and being set to 0.0 in labels with no predicted samples. Use `zero_division` parameter to control this behavior.\n",
      "  _warn_prf(average, modifier, msg_start, len(result))\n"
     ]
    },
    {
     "name": "stdout",
     "output_type": "stream",
     "text": [
      "Validation Accuracy |  94.11764705882352  PPV |  [0.94117647 0.        ]  Recall |  [1. 0.]\n",
      "Training Epoch 058: | Loss: 0.13470 | Acc: 96.889\n",
      "Validation Accuracy |  94.11764705882352  PPV |  [0.94117647 0.        ]  Recall |  [1. 0.]\n",
      "Training Epoch 059: | Loss: 0.10676 | Acc: 96.222\n",
      "Validation Accuracy |  94.11764705882352  PPV |  [0.94117647 0.        ]  Recall |  [1. 0.]\n",
      "Training Epoch 060: | Loss: 0.09704 | Acc: 99.000\n"
     ]
    },
    {
     "name": "stderr",
     "output_type": "stream",
     "text": [
      "C:\\Users\\mattbeze\\Anaconda3\\envs\\pytorch\\lib\\site-packages\\sklearn\\metrics\\_classification.py:1245: UndefinedMetricWarning: Precision is ill-defined and being set to 0.0 in labels with no predicted samples. Use `zero_division` parameter to control this behavior.\n",
      "  _warn_prf(average, modifier, msg_start, len(result))\n",
      "C:\\Users\\mattbeze\\Anaconda3\\envs\\pytorch\\lib\\site-packages\\sklearn\\metrics\\_classification.py:1245: UndefinedMetricWarning: Precision is ill-defined and being set to 0.0 in labels with no predicted samples. Use `zero_division` parameter to control this behavior.\n",
      "  _warn_prf(average, modifier, msg_start, len(result))\n",
      "C:\\Users\\mattbeze\\Anaconda3\\envs\\pytorch\\lib\\site-packages\\sklearn\\metrics\\_classification.py:1245: UndefinedMetricWarning: Precision is ill-defined and being set to 0.0 in labels with no predicted samples. Use `zero_division` parameter to control this behavior.\n",
      "  _warn_prf(average, modifier, msg_start, len(result))\n"
     ]
    },
    {
     "name": "stdout",
     "output_type": "stream",
     "text": [
      "Validation Accuracy |  94.11764705882352  PPV |  [0.94117647 0.        ]  Recall |  [1. 0.]\n",
      "Training Epoch 061: | Loss: 0.11173 | Acc: 97.667\n",
      "Validation Accuracy |  94.11764705882352  PPV |  [0.94117647 0.        ]  Recall |  [1. 0.]\n",
      "Training Epoch 062: | Loss: 0.12162 | Acc: 98.222\n",
      "Validation Accuracy |  94.11764705882352  PPV |  [0.94117647 0.        ]  Recall |  [1. 0.]\n",
      "Training Epoch 063: | Loss: 0.07333 | Acc: 99.333\n"
     ]
    },
    {
     "name": "stderr",
     "output_type": "stream",
     "text": [
      "C:\\Users\\mattbeze\\Anaconda3\\envs\\pytorch\\lib\\site-packages\\sklearn\\metrics\\_classification.py:1245: UndefinedMetricWarning: Precision is ill-defined and being set to 0.0 in labels with no predicted samples. Use `zero_division` parameter to control this behavior.\n",
      "  _warn_prf(average, modifier, msg_start, len(result))\n",
      "C:\\Users\\mattbeze\\Anaconda3\\envs\\pytorch\\lib\\site-packages\\sklearn\\metrics\\_classification.py:1245: UndefinedMetricWarning: Precision is ill-defined and being set to 0.0 in labels with no predicted samples. Use `zero_division` parameter to control this behavior.\n",
      "  _warn_prf(average, modifier, msg_start, len(result))\n",
      "C:\\Users\\mattbeze\\Anaconda3\\envs\\pytorch\\lib\\site-packages\\sklearn\\metrics\\_classification.py:1245: UndefinedMetricWarning: Precision is ill-defined and being set to 0.0 in labels with no predicted samples. Use `zero_division` parameter to control this behavior.\n",
      "  _warn_prf(average, modifier, msg_start, len(result))\n"
     ]
    },
    {
     "name": "stdout",
     "output_type": "stream",
     "text": [
      "Validation Accuracy |  94.11764705882352  PPV |  [0.94117647 0.        ]  Recall |  [1. 0.]\n",
      "Training Epoch 064: | Loss: 0.06465 | Acc: 98.889\n",
      "Validation Accuracy |  94.11764705882352  PPV |  [0.94117647 0.        ]  Recall |  [1. 0.]\n",
      "Training Epoch 065: | Loss: 0.12147 | Acc: 98.556\n",
      "Validation Accuracy |  94.11764705882352  PPV |  [0.94117647 0.        ]  Recall |  [1. 0.]\n",
      "Training Epoch 066: | Loss: 0.10775 | Acc: 98.556\n",
      "Validation Accuracy |  94.11764705882352  PPV |  [0.94117647 0.        ]  Recall |  [1. 0.]\n",
      "Training Epoch 067: | Loss: 0.13565 | Acc: 99.667\n",
      "Validation Accuracy |  94.11764705882352  PPV |  [0.94117647 0.        ]  Recall |  [1. 0.]\n",
      "Training Epoch 068: | Loss: 0.11200 | Acc: 95.556\n"
     ]
    },
    {
     "name": "stderr",
     "output_type": "stream",
     "text": [
      "C:\\Users\\mattbeze\\Anaconda3\\envs\\pytorch\\lib\\site-packages\\sklearn\\metrics\\_classification.py:1245: UndefinedMetricWarning: Precision is ill-defined and being set to 0.0 in labels with no predicted samples. Use `zero_division` parameter to control this behavior.\n",
      "  _warn_prf(average, modifier, msg_start, len(result))\n",
      "C:\\Users\\mattbeze\\Anaconda3\\envs\\pytorch\\lib\\site-packages\\sklearn\\metrics\\_classification.py:1245: UndefinedMetricWarning: Precision is ill-defined and being set to 0.0 in labels with no predicted samples. Use `zero_division` parameter to control this behavior.\n",
      "  _warn_prf(average, modifier, msg_start, len(result))\n",
      "C:\\Users\\mattbeze\\Anaconda3\\envs\\pytorch\\lib\\site-packages\\sklearn\\metrics\\_classification.py:1245: UndefinedMetricWarning: Precision is ill-defined and being set to 0.0 in labels with no predicted samples. Use `zero_division` parameter to control this behavior.\n",
      "  _warn_prf(average, modifier, msg_start, len(result))\n"
     ]
    },
    {
     "name": "stdout",
     "output_type": "stream",
     "text": [
      "Validation Accuracy |  94.11764705882352  PPV |  [0.94117647 0.        ]  Recall |  [1. 0.]\n",
      "Training Epoch 069: | Loss: 0.07167 | Acc: 99.333\n",
      "Validation Accuracy |  94.11764705882352  PPV |  [0.94117647 0.        ]  Recall |  [1. 0.]\n",
      "Training Epoch 070: | Loss: 0.07855 | Acc: 99.000\n"
     ]
    },
    {
     "name": "stderr",
     "output_type": "stream",
     "text": [
      "C:\\Users\\mattbeze\\Anaconda3\\envs\\pytorch\\lib\\site-packages\\sklearn\\metrics\\_classification.py:1245: UndefinedMetricWarning: Precision is ill-defined and being set to 0.0 in labels with no predicted samples. Use `zero_division` parameter to control this behavior.\n",
      "  _warn_prf(average, modifier, msg_start, len(result))\n",
      "C:\\Users\\mattbeze\\Anaconda3\\envs\\pytorch\\lib\\site-packages\\sklearn\\metrics\\_classification.py:1245: UndefinedMetricWarning: Precision is ill-defined and being set to 0.0 in labels with no predicted samples. Use `zero_division` parameter to control this behavior.\n",
      "  _warn_prf(average, modifier, msg_start, len(result))\n"
     ]
    },
    {
     "name": "stdout",
     "output_type": "stream",
     "text": [
      "Validation Accuracy |  94.11764705882352  PPV |  [0.94117647 0.        ]  Recall |  [1. 0.]\n",
      "Training Epoch 071: | Loss: 0.07002 | Acc: 100.000\n",
      "Validation Accuracy |  94.11764705882352  PPV |  [0.94117647 0.        ]  Recall |  [1. 0.]\n",
      "Training Epoch 072: | Loss: 0.06156 | Acc: 99.667\n",
      "Validation Accuracy |  94.11764705882352  PPV |  [0.94117647 0.        ]  Recall |  [1. 0.]\n"
     ]
    },
    {
     "name": "stderr",
     "output_type": "stream",
     "text": [
      "C:\\Users\\mattbeze\\Anaconda3\\envs\\pytorch\\lib\\site-packages\\sklearn\\metrics\\_classification.py:1245: UndefinedMetricWarning: Precision is ill-defined and being set to 0.0 in labels with no predicted samples. Use `zero_division` parameter to control this behavior.\n",
      "  _warn_prf(average, modifier, msg_start, len(result))\n",
      "C:\\Users\\mattbeze\\Anaconda3\\envs\\pytorch\\lib\\site-packages\\sklearn\\metrics\\_classification.py:1245: UndefinedMetricWarning: Precision is ill-defined and being set to 0.0 in labels with no predicted samples. Use `zero_division` parameter to control this behavior.\n",
      "  _warn_prf(average, modifier, msg_start, len(result))\n",
      "C:\\Users\\mattbeze\\Anaconda3\\envs\\pytorch\\lib\\site-packages\\sklearn\\metrics\\_classification.py:1245: UndefinedMetricWarning: Precision is ill-defined and being set to 0.0 in labels with no predicted samples. Use `zero_division` parameter to control this behavior.\n",
      "  _warn_prf(average, modifier, msg_start, len(result))\n"
     ]
    },
    {
     "name": "stdout",
     "output_type": "stream",
     "text": [
      "Training Epoch 073: | Loss: 0.05890 | Acc: 99.667\n",
      "Validation Accuracy |  94.11764705882352  PPV |  [0.94117647 0.        ]  Recall |  [1. 0.]\n",
      "Training Epoch 074: | Loss: 0.05675 | Acc: 99.667\n",
      "Validation Accuracy |  94.11764705882352  PPV |  [0.94117647 0.        ]  Recall |  [1. 0.]\n",
      "Training Epoch 075: | Loss: 0.05878 | Acc: 99.667\n",
      "Validation Accuracy |  94.11764705882352  PPV |  [0.94117647 0.        ]  Recall |  [1. 0.]\n"
     ]
    },
    {
     "name": "stderr",
     "output_type": "stream",
     "text": [
      "C:\\Users\\mattbeze\\Anaconda3\\envs\\pytorch\\lib\\site-packages\\sklearn\\metrics\\_classification.py:1245: UndefinedMetricWarning: Precision is ill-defined and being set to 0.0 in labels with no predicted samples. Use `zero_division` parameter to control this behavior.\n",
      "  _warn_prf(average, modifier, msg_start, len(result))\n",
      "C:\\Users\\mattbeze\\Anaconda3\\envs\\pytorch\\lib\\site-packages\\sklearn\\metrics\\_classification.py:1245: UndefinedMetricWarning: Precision is ill-defined and being set to 0.0 in labels with no predicted samples. Use `zero_division` parameter to control this behavior.\n",
      "  _warn_prf(average, modifier, msg_start, len(result))\n",
      "C:\\Users\\mattbeze\\Anaconda3\\envs\\pytorch\\lib\\site-packages\\sklearn\\metrics\\_classification.py:1245: UndefinedMetricWarning: Precision is ill-defined and being set to 0.0 in labels with no predicted samples. Use `zero_division` parameter to control this behavior.\n",
      "  _warn_prf(average, modifier, msg_start, len(result))\n"
     ]
    },
    {
     "name": "stdout",
     "output_type": "stream",
     "text": [
      "Training Epoch 076: | Loss: 0.05473 | Acc: 99.222\n",
      "Validation Accuracy |  94.11764705882352  PPV |  [0.94117647 0.        ]  Recall |  [1. 0.]\n",
      "Training Epoch 077: | Loss: 0.07362 | Acc: 97.444\n",
      "Validation Accuracy |  94.11764705882352  PPV |  [0.94117647 0.        ]  Recall |  [1. 0.]\n",
      "Training Epoch 078: | Loss: 0.06444 | Acc: 99.667\n"
     ]
    },
    {
     "name": "stderr",
     "output_type": "stream",
     "text": [
      "C:\\Users\\mattbeze\\Anaconda3\\envs\\pytorch\\lib\\site-packages\\sklearn\\metrics\\_classification.py:1245: UndefinedMetricWarning: Precision is ill-defined and being set to 0.0 in labels with no predicted samples. Use `zero_division` parameter to control this behavior.\n",
      "  _warn_prf(average, modifier, msg_start, len(result))\n",
      "C:\\Users\\mattbeze\\Anaconda3\\envs\\pytorch\\lib\\site-packages\\sklearn\\metrics\\_classification.py:1245: UndefinedMetricWarning: Precision is ill-defined and being set to 0.0 in labels with no predicted samples. Use `zero_division` parameter to control this behavior.\n",
      "  _warn_prf(average, modifier, msg_start, len(result))\n"
     ]
    },
    {
     "name": "stdout",
     "output_type": "stream",
     "text": [
      "Validation Accuracy |  94.11764705882352  PPV |  [0.94117647 0.        ]  Recall |  [1. 0.]\n",
      "Training Epoch 079: | Loss: 0.04851 | Acc: 100.000\n",
      "Validation Accuracy |  94.11764705882352  PPV |  [0.94117647 0.        ]  Recall |  [1. 0.]\n",
      "Training Epoch 080: | Loss: 0.06252 | Acc: 98.889\n"
     ]
    },
    {
     "name": "stderr",
     "output_type": "stream",
     "text": [
      "C:\\Users\\mattbeze\\Anaconda3\\envs\\pytorch\\lib\\site-packages\\sklearn\\metrics\\_classification.py:1245: UndefinedMetricWarning: Precision is ill-defined and being set to 0.0 in labels with no predicted samples. Use `zero_division` parameter to control this behavior.\n",
      "  _warn_prf(average, modifier, msg_start, len(result))\n",
      "C:\\Users\\mattbeze\\Anaconda3\\envs\\pytorch\\lib\\site-packages\\sklearn\\metrics\\_classification.py:1245: UndefinedMetricWarning: Precision is ill-defined and being set to 0.0 in labels with no predicted samples. Use `zero_division` parameter to control this behavior.\n",
      "  _warn_prf(average, modifier, msg_start, len(result))\n",
      "C:\\Users\\mattbeze\\Anaconda3\\envs\\pytorch\\lib\\site-packages\\sklearn\\metrics\\_classification.py:1245: UndefinedMetricWarning: Precision is ill-defined and being set to 0.0 in labels with no predicted samples. Use `zero_division` parameter to control this behavior.\n",
      "  _warn_prf(average, modifier, msg_start, len(result))\n"
     ]
    },
    {
     "name": "stdout",
     "output_type": "stream",
     "text": [
      "Validation Accuracy |  94.11764705882352  PPV |  [0.94117647 0.        ]  Recall |  [1. 0.]\n",
      "Training Epoch 081: | Loss: 0.04718 | Acc: 99.333\n",
      "Validation Accuracy |  94.11764705882352  PPV |  [0.94117647 0.        ]  Recall |  [1. 0.]\n",
      "Training Epoch 082: | Loss: 0.07314 | Acc: 99.333\n"
     ]
    },
    {
     "name": "stderr",
     "output_type": "stream",
     "text": [
      "C:\\Users\\mattbeze\\Anaconda3\\envs\\pytorch\\lib\\site-packages\\sklearn\\metrics\\_classification.py:1245: UndefinedMetricWarning: Precision is ill-defined and being set to 0.0 in labels with no predicted samples. Use `zero_division` parameter to control this behavior.\n",
      "  _warn_prf(average, modifier, msg_start, len(result))\n",
      "C:\\Users\\mattbeze\\Anaconda3\\envs\\pytorch\\lib\\site-packages\\sklearn\\metrics\\_classification.py:1245: UndefinedMetricWarning: Precision is ill-defined and being set to 0.0 in labels with no predicted samples. Use `zero_division` parameter to control this behavior.\n",
      "  _warn_prf(average, modifier, msg_start, len(result))\n",
      "C:\\Users\\mattbeze\\Anaconda3\\envs\\pytorch\\lib\\site-packages\\sklearn\\metrics\\_classification.py:1245: UndefinedMetricWarning: Precision is ill-defined and being set to 0.0 in labels with no predicted samples. Use `zero_division` parameter to control this behavior.\n",
      "  _warn_prf(average, modifier, msg_start, len(result))\n"
     ]
    },
    {
     "name": "stdout",
     "output_type": "stream",
     "text": [
      "Validation Accuracy |  94.11764705882352  PPV |  [0.94117647 0.        ]  Recall |  [1. 0.]\n",
      "Training Epoch 083: | Loss: 0.04565 | Acc: 99.667\n",
      "Validation Accuracy |  94.11764705882352  PPV |  [0.94117647 0.        ]  Recall |  [1. 0.]\n",
      "Training Epoch 084: | Loss: 0.04593 | Acc: 99.667\n",
      "Validation Accuracy |  94.11764705882352  PPV |  [0.94117647 0.        ]  Recall |  [1. 0.]\n",
      "Training Epoch 085: | Loss: 0.05765 | Acc: 98.333\n",
      "Validation Accuracy |  94.11764705882352  PPV |  [0.94117647 0.        ]  Recall |  [1. 0.]\n",
      "Training Epoch 086: | Loss: 0.05805 | Acc: 99.333\n",
      "Validation Accuracy |  94.11764705882352  PPV |  [0.94117647 0.        ]  Recall |  [1. 0.]\n",
      "Training Epoch 087: | Loss: 0.04004 | Acc: 99.333\n"
     ]
    },
    {
     "name": "stderr",
     "output_type": "stream",
     "text": [
      "C:\\Users\\mattbeze\\Anaconda3\\envs\\pytorch\\lib\\site-packages\\sklearn\\metrics\\_classification.py:1245: UndefinedMetricWarning: Precision is ill-defined and being set to 0.0 in labels with no predicted samples. Use `zero_division` parameter to control this behavior.\n",
      "  _warn_prf(average, modifier, msg_start, len(result))\n",
      "C:\\Users\\mattbeze\\Anaconda3\\envs\\pytorch\\lib\\site-packages\\sklearn\\metrics\\_classification.py:1245: UndefinedMetricWarning: Precision is ill-defined and being set to 0.0 in labels with no predicted samples. Use `zero_division` parameter to control this behavior.\n",
      "  _warn_prf(average, modifier, msg_start, len(result))\n",
      "C:\\Users\\mattbeze\\Anaconda3\\envs\\pytorch\\lib\\site-packages\\sklearn\\metrics\\_classification.py:1245: UndefinedMetricWarning: Precision is ill-defined and being set to 0.0 in labels with no predicted samples. Use `zero_division` parameter to control this behavior.\n",
      "  _warn_prf(average, modifier, msg_start, len(result))\n"
     ]
    },
    {
     "name": "stdout",
     "output_type": "stream",
     "text": [
      "Validation Accuracy |  94.11764705882352  PPV |  [0.94117647 0.        ]  Recall |  [1. 0.]\n",
      "Training Epoch 088: | Loss: 0.03152 | Acc: 100.000\n",
      "Validation Accuracy |  94.11764705882352  PPV |  [0.94117647 0.        ]  Recall |  [1. 0.]\n",
      "Training Epoch 089: | Loss: 0.03358 | Acc: 99.667\n",
      "Validation Accuracy |  94.11764705882352  PPV |  [0.94117647 0.        ]  Recall |  [1. 0.]\n"
     ]
    },
    {
     "name": "stderr",
     "output_type": "stream",
     "text": [
      "C:\\Users\\mattbeze\\Anaconda3\\envs\\pytorch\\lib\\site-packages\\sklearn\\metrics\\_classification.py:1245: UndefinedMetricWarning: Precision is ill-defined and being set to 0.0 in labels with no predicted samples. Use `zero_division` parameter to control this behavior.\n",
      "  _warn_prf(average, modifier, msg_start, len(result))\n",
      "C:\\Users\\mattbeze\\Anaconda3\\envs\\pytorch\\lib\\site-packages\\sklearn\\metrics\\_classification.py:1245: UndefinedMetricWarning: Precision is ill-defined and being set to 0.0 in labels with no predicted samples. Use `zero_division` parameter to control this behavior.\n",
      "  _warn_prf(average, modifier, msg_start, len(result))\n",
      "C:\\Users\\mattbeze\\Anaconda3\\envs\\pytorch\\lib\\site-packages\\sklearn\\metrics\\_classification.py:1245: UndefinedMetricWarning: Precision is ill-defined and being set to 0.0 in labels with no predicted samples. Use `zero_division` parameter to control this behavior.\n",
      "  _warn_prf(average, modifier, msg_start, len(result))\n"
     ]
    },
    {
     "name": "stdout",
     "output_type": "stream",
     "text": [
      "Training Epoch 090: | Loss: 0.04716 | Acc: 98.889\n",
      "Validation Accuracy |  94.11764705882352  PPV |  [0.94117647 0.        ]  Recall |  [1. 0.]\n",
      "Training Epoch 091: | Loss: 0.04471 | Acc: 99.667\n",
      "Validation Accuracy |  94.11764705882352  PPV |  [0.94117647 0.        ]  Recall |  [1. 0.]\n",
      "Training Epoch 092: | Loss: 0.03461 | Acc: 100.000\n"
     ]
    },
    {
     "name": "stderr",
     "output_type": "stream",
     "text": [
      "C:\\Users\\mattbeze\\Anaconda3\\envs\\pytorch\\lib\\site-packages\\sklearn\\metrics\\_classification.py:1245: UndefinedMetricWarning: Precision is ill-defined and being set to 0.0 in labels with no predicted samples. Use `zero_division` parameter to control this behavior.\n",
      "  _warn_prf(average, modifier, msg_start, len(result))\n",
      "C:\\Users\\mattbeze\\Anaconda3\\envs\\pytorch\\lib\\site-packages\\sklearn\\metrics\\_classification.py:1245: UndefinedMetricWarning: Precision is ill-defined and being set to 0.0 in labels with no predicted samples. Use `zero_division` parameter to control this behavior.\n",
      "  _warn_prf(average, modifier, msg_start, len(result))\n",
      "C:\\Users\\mattbeze\\Anaconda3\\envs\\pytorch\\lib\\site-packages\\sklearn\\metrics\\_classification.py:1245: UndefinedMetricWarning: Precision is ill-defined and being set to 0.0 in labels with no predicted samples. Use `zero_division` parameter to control this behavior.\n",
      "  _warn_prf(average, modifier, msg_start, len(result))\n"
     ]
    },
    {
     "name": "stdout",
     "output_type": "stream",
     "text": [
      "Validation Accuracy |  94.11764705882352  PPV |  [0.94117647 0.        ]  Recall |  [1. 0.]\n",
      "Training Epoch 093: | Loss: 0.04029 | Acc: 99.667\n",
      "Validation Accuracy |  94.11764705882352  PPV |  [0.94117647 0.        ]  Recall |  [1. 0.]\n",
      "Training Epoch 094: | Loss: 0.06793 | Acc: 99.667\n",
      "Validation Accuracy |  94.11764705882352  PPV |  [0.94117647 0.        ]  Recall |  [1. 0.]\n"
     ]
    },
    {
     "name": "stderr",
     "output_type": "stream",
     "text": [
      "C:\\Users\\mattbeze\\Anaconda3\\envs\\pytorch\\lib\\site-packages\\sklearn\\metrics\\_classification.py:1245: UndefinedMetricWarning: Precision is ill-defined and being set to 0.0 in labels with no predicted samples. Use `zero_division` parameter to control this behavior.\n",
      "  _warn_prf(average, modifier, msg_start, len(result))\n",
      "C:\\Users\\mattbeze\\Anaconda3\\envs\\pytorch\\lib\\site-packages\\sklearn\\metrics\\_classification.py:1245: UndefinedMetricWarning: Precision is ill-defined and being set to 0.0 in labels with no predicted samples. Use `zero_division` parameter to control this behavior.\n",
      "  _warn_prf(average, modifier, msg_start, len(result))\n",
      "C:\\Users\\mattbeze\\Anaconda3\\envs\\pytorch\\lib\\site-packages\\sklearn\\metrics\\_classification.py:1245: UndefinedMetricWarning: Precision is ill-defined and being set to 0.0 in labels with no predicted samples. Use `zero_division` parameter to control this behavior.\n",
      "  _warn_prf(average, modifier, msg_start, len(result))\n"
     ]
    },
    {
     "name": "stdout",
     "output_type": "stream",
     "text": [
      "Training Epoch 095: | Loss: 0.07061 | Acc: 97.889\n",
      "Validation Accuracy |  94.11764705882352  PPV |  [0.94117647 0.        ]  Recall |  [1. 0.]\n",
      "Training Epoch 096: | Loss: 0.03962 | Acc: 100.000\n",
      "Validation Accuracy |  94.11764705882352  PPV |  [0.94117647 0.        ]  Recall |  [1. 0.]\n",
      "Training Epoch 097: | Loss: 0.04362 | Acc: 99.667\n"
     ]
    },
    {
     "name": "stderr",
     "output_type": "stream",
     "text": [
      "C:\\Users\\mattbeze\\Anaconda3\\envs\\pytorch\\lib\\site-packages\\sklearn\\metrics\\_classification.py:1245: UndefinedMetricWarning: Precision is ill-defined and being set to 0.0 in labels with no predicted samples. Use `zero_division` parameter to control this behavior.\n",
      "  _warn_prf(average, modifier, msg_start, len(result))\n",
      "C:\\Users\\mattbeze\\Anaconda3\\envs\\pytorch\\lib\\site-packages\\sklearn\\metrics\\_classification.py:1245: UndefinedMetricWarning: Precision is ill-defined and being set to 0.0 in labels with no predicted samples. Use `zero_division` parameter to control this behavior.\n",
      "  _warn_prf(average, modifier, msg_start, len(result))\n",
      "C:\\Users\\mattbeze\\Anaconda3\\envs\\pytorch\\lib\\site-packages\\sklearn\\metrics\\_classification.py:1245: UndefinedMetricWarning: Precision is ill-defined and being set to 0.0 in labels with no predicted samples. Use `zero_division` parameter to control this behavior.\n",
      "  _warn_prf(average, modifier, msg_start, len(result))\n"
     ]
    },
    {
     "name": "stdout",
     "output_type": "stream",
     "text": [
      "Validation Accuracy |  94.11764705882352  PPV |  [0.94117647 0.        ]  Recall |  [1. 0.]\n",
      "Training Epoch 098: | Loss: 0.03939 | Acc: 99.333\n",
      "Validation Accuracy |  94.11764705882352  PPV |  [0.94117647 0.        ]  Recall |  [1. 0.]\n",
      "Training Epoch 099: | Loss: 0.04491 | Acc: 99.667\n",
      "Validation Accuracy |  94.11764705882352  PPV |  [0.94117647 0.        ]  Recall |  [1. 0.]\n",
      "Training Epoch 100: | Loss: 0.02788 | Acc: 99.667\n",
      "Validation Accuracy |  94.11764705882352  PPV |  [0.94117647 0.        ]  Recall |  [1. 0.]\n"
     ]
    },
    {
     "name": "stderr",
     "output_type": "stream",
     "text": [
      "C:\\Users\\mattbeze\\Anaconda3\\envs\\pytorch\\lib\\site-packages\\sklearn\\metrics\\_classification.py:1245: UndefinedMetricWarning: Precision is ill-defined and being set to 0.0 in labels with no predicted samples. Use `zero_division` parameter to control this behavior.\n",
      "  _warn_prf(average, modifier, msg_start, len(result))\n"
     ]
    }
   ],
   "source": [
    "#model.train() tells PyTorch that you’re in training mode.\n",
    "#Similarly, we’ll call model.eval() when we test our model. We’ll see that below.\n",
    "'''If you’re using layers such as Dropout or BatchNorm which behave differently during training and evaluation, \n",
    "you need to tell PyTorch to act accordingly. While the default mode in PyTorch is the train, \n",
    "so, you don’t explicitly have to write that. But it’s good practice.'''\n",
    "val_acc1 = []\n",
    "train_acc1 = []\n",
    "train_loss1 = []\n",
    "val_loss1 = []\n",
    "\n",
    "model1.train() #Initial training mode\n",
    "for e in range(1, EPOCHS+1):\n",
    "    epoch_loss = 0\n",
    "    epoch_acc = 0\n",
    "    for X_batch, y_batch in train_loader1:\n",
    "        X_batch, y_batch = X_batch.to(device), y_batch.to(device)\n",
    "        optimizer1.zero_grad()\n",
    "        \n",
    "        y_pred = model1(X_batch)\n",
    "        \n",
    "        loss = criterion(y_pred, y_batch)\n",
    "        acc = binary_acc(y_pred, y_batch)\n",
    "        \n",
    "        loss.backward()\n",
    "        optimizer1.step()\n",
    "        \n",
    "        epoch_loss += loss.item()\n",
    "        epoch_acc += acc.item()\n",
    "    \n",
    "    train_acc1.append(epoch_acc/len(train_loader1))\n",
    "    train_loss1.append(epoch_loss/len(train_loader1))\n",
    "    print(f'Training Epoch {e+0:03}: | Loss: {epoch_loss/len(train_loader1):.5f} | Acc: {epoch_acc/len(train_loader1):.3f}')\n",
    "    #Validation metrics here\n",
    "    model1.eval()\n",
    "    #print(\"Evaluation mode\")\n",
    "    y_pred_list = []\n",
    "    test_loader1 = DataLoader(dataset=test_data1, batch_size=test_size1)\n",
    "    with torch.no_grad():\n",
    "        counter = 0\n",
    "        for X_batch in test_loader1:\n",
    "            X_batch = X_batch.to(device)\n",
    "            y_test_pred = model1(X_batch)\n",
    "            y_test_pred = torch.sigmoid(y_test_pred)\n",
    "            y_pred_tag = torch.round(y_test_pred)\n",
    "            y_pred_list.append(y_pred_tag.cpu().numpy())\n",
    "            loss = criterion(y_test_pred,torch.FloatTensor(testing_fold_Y_1))\n",
    "            val_loss1.append(loss)\n",
    "            counter+=1\n",
    "            \n",
    "    y_pred_list = []\n",
    "    test_loader = DataLoader(dataset=test_data1, batch_size=1)\n",
    "    with torch.no_grad():\n",
    "        for X_batch in test_loader:\n",
    "            X_batch = X_batch.to(device)\n",
    "            y_test_pred = model1(X_batch)\n",
    "            y_test_pred = torch.sigmoid(y_test_pred)\n",
    "            y_pred_tag = torch.round(y_test_pred)\n",
    "            y_pred_list.append(y_pred_tag.cpu().numpy())\n",
    "            \n",
    "    y_pred_list = [a.squeeze().tolist() for a in y_pred_list]\n",
    "    y_loss_df = pd.DataFrame(y_pred_list)\n",
    "    accuracy = accuracy_score(torch.FloatTensor(testing_fold_Y_1), y_pred_list)\n",
    "    ppv = precision_score(testing_fold_Y_1, y_pred_list, average=None)\n",
    "    recall = recall_score(testing_fold_Y_1, y_pred_list, average=None)\n",
    "    print(\"Validation Accuracy | \",accuracy*100,\" PPV | \",ppv,\" Recall | \",recall)\n",
    "    val_acc1.append(accuracy*100)\n",
    "    model1.train()\n",
    "    #print(\"Return to training mode\")\n",
    "    \n",
    "    #Need to get validation loss."
   ]
  },
  {
   "cell_type": "code",
   "execution_count": 13,
   "id": "under-halloween",
   "metadata": {},
   "outputs": [
    {
     "name": "stdout",
     "output_type": "stream",
     "text": [
      "Training Epoch 001: | Loss: 2.73217 | Acc: 60.889\n",
      "Validation Accuracy |  23.52941176470588  PPV |  [1.         0.07142857]  Recall |  [0.1875 1.    ]\n",
      "Training Epoch 002: | Loss: 1.55236 | Acc: 58.444\n",
      "Validation Accuracy |  47.05882352941176  PPV |  [1.  0.1]  Recall |  [0.4375 1.    ]\n",
      "Training Epoch 003: | Loss: 1.24782 | Acc: 62.889\n",
      "Validation Accuracy |  35.294117647058826  PPV |  [1.         0.08333333]  Recall |  [0.3125 1.    ]\n",
      "Training Epoch 004: | Loss: 1.15590 | Acc: 62.444\n",
      "Validation Accuracy |  41.17647058823529  PPV |  [0.875 0.   ]  Recall |  [0.4375 0.    ]\n",
      "Training Epoch 005: | Loss: 1.02290 | Acc: 66.444\n",
      "Validation Accuracy |  47.05882352941176  PPV |  [0.88888889 0.        ]  Recall |  [0.5 0. ]\n",
      "Training Epoch 006: | Loss: 1.06091 | Acc: 65.667\n",
      "Validation Accuracy |  41.17647058823529  PPV |  [0.875 0.   ]  Recall |  [0.4375 0.    ]\n",
      "Training Epoch 007: | Loss: 0.90812 | Acc: 72.667\n",
      "Validation Accuracy |  41.17647058823529  PPV |  [0.875 0.   ]  Recall |  [0.4375 0.    ]\n",
      "Training Epoch 008: | Loss: 0.92055 | Acc: 72.000\n",
      "Validation Accuracy |  47.05882352941176  PPV |  [0.88888889 0.        ]  Recall |  [0.5 0. ]\n",
      "Training Epoch 009: | Loss: 0.81564 | Acc: 74.333\n",
      "Validation Accuracy |  47.05882352941176  PPV |  [0.88888889 0.        ]  Recall |  [0.5 0. ]\n",
      "Training Epoch 010: | Loss: 0.75819 | Acc: 79.000\n",
      "Validation Accuracy |  41.17647058823529  PPV |  [0.875 0.   ]  Recall |  [0.4375 0.    ]\n",
      "Training Epoch 011: | Loss: 0.81253 | Acc: 71.111\n",
      "Validation Accuracy |  70.58823529411765  PPV |  [0.92307692 0.        ]  Recall |  [0.75 0.  ]\n",
      "Training Epoch 012: | Loss: 0.78757 | Acc: 84.556\n",
      "Validation Accuracy |  58.82352941176471  PPV |  [0.90909091 0.        ]  Recall |  [0.625 0.   ]\n",
      "Training Epoch 013: | Loss: 0.69866 | Acc: 80.000\n",
      "Validation Accuracy |  70.58823529411765  PPV |  [0.92307692 0.        ]  Recall |  [0.75 0.  ]\n",
      "Training Epoch 014: | Loss: 0.67207 | Acc: 83.444\n",
      "Validation Accuracy |  58.82352941176471  PPV |  [0.90909091 0.        ]  Recall |  [0.625 0.   ]\n",
      "Training Epoch 015: | Loss: 0.54511 | Acc: 88.444\n",
      "Validation Accuracy |  70.58823529411765  PPV |  [0.92307692 0.        ]  Recall |  [0.75 0.  ]\n",
      "Training Epoch 016: | Loss: 0.54368 | Acc: 88.778\n",
      "Validation Accuracy |  58.82352941176471  PPV |  [0.90909091 0.        ]  Recall |  [0.625 0.   ]\n",
      "Training Epoch 017: | Loss: 0.57987 | Acc: 86.333\n",
      "Validation Accuracy |  76.47058823529412  PPV |  [0.92857143 0.        ]  Recall |  [0.8125 0.    ]\n",
      "Training Epoch 018: | Loss: 0.54678 | Acc: 89.444\n",
      "Validation Accuracy |  76.47058823529412  PPV |  [0.92857143 0.        ]  Recall |  [0.8125 0.    ]\n",
      "Training Epoch 019: | Loss: 0.47045 | Acc: 92.111\n",
      "Validation Accuracy |  76.47058823529412  PPV |  [0.92857143 0.        ]  Recall |  [0.8125 0.    ]\n",
      "Training Epoch 020: | Loss: 0.49688 | Acc: 89.000\n",
      "Validation Accuracy |  70.58823529411765  PPV |  [0.92307692 0.        ]  Recall |  [0.75 0.  ]\n",
      "Training Epoch 021: | Loss: 0.42744 | Acc: 89.000\n",
      "Validation Accuracy |  76.47058823529412  PPV |  [0.92857143 0.        ]  Recall |  [0.8125 0.    ]\n",
      "Training Epoch 022: | Loss: 0.37971 | Acc: 94.444\n",
      "Validation Accuracy |  76.47058823529412  PPV |  [0.92857143 0.        ]  Recall |  [0.8125 0.    ]\n",
      "Training Epoch 023: | Loss: 0.39880 | Acc: 93.778\n",
      "Validation Accuracy |  76.47058823529412  PPV |  [0.92857143 0.        ]  Recall |  [0.8125 0.    ]\n",
      "Training Epoch 024: | Loss: 0.32926 | Acc: 94.556\n",
      "Validation Accuracy |  82.35294117647058  PPV |  [0.93333333 0.        ]  Recall |  [0.875 0.   ]\n",
      "Training Epoch 025: | Loss: 0.34335 | Acc: 92.444\n",
      "Validation Accuracy |  82.35294117647058  PPV |  [0.93333333 0.        ]  Recall |  [0.875 0.   ]\n",
      "Training Epoch 026: | Loss: 0.35965 | Acc: 92.111\n",
      "Validation Accuracy |  82.35294117647058  PPV |  [0.93333333 0.        ]  Recall |  [0.875 0.   ]\n",
      "Training Epoch 027: | Loss: 0.31158 | Acc: 94.444\n",
      "Validation Accuracy |  76.47058823529412  PPV |  [0.92857143 0.        ]  Recall |  [0.8125 0.    ]\n",
      "Training Epoch 028: | Loss: 0.25379 | Acc: 95.222\n",
      "Validation Accuracy |  82.35294117647058  PPV |  [0.93333333 0.        ]  Recall |  [0.875 0.   ]\n",
      "Training Epoch 029: | Loss: 0.27749 | Acc: 95.000\n",
      "Validation Accuracy |  76.47058823529412  PPV |  [0.92857143 0.        ]  Recall |  [0.8125 0.    ]\n",
      "Training Epoch 030: | Loss: 0.30929 | Acc: 92.556\n",
      "Validation Accuracy |  82.35294117647058  PPV |  [0.93333333 0.        ]  Recall |  [0.875 0.   ]\n",
      "Training Epoch 031: | Loss: 0.24461 | Acc: 95.111\n",
      "Validation Accuracy |  82.35294117647058  PPV |  [0.93333333 0.        ]  Recall |  [0.875 0.   ]\n",
      "Training Epoch 032: | Loss: 0.23047 | Acc: 94.556\n",
      "Validation Accuracy |  82.35294117647058  PPV |  [0.93333333 0.        ]  Recall |  [0.875 0.   ]\n",
      "Training Epoch 033: | Loss: 0.26417 | Acc: 95.778\n",
      "Validation Accuracy |  82.35294117647058  PPV |  [0.93333333 0.        ]  Recall |  [0.875 0.   ]\n",
      "Training Epoch 034: | Loss: 0.25916 | Acc: 92.556\n",
      "Validation Accuracy |  82.35294117647058  PPV |  [0.93333333 0.        ]  Recall |  [0.875 0.   ]\n",
      "Training Epoch 035: | Loss: 0.24927 | Acc: 97.111\n",
      "Validation Accuracy |  82.35294117647058  PPV |  [0.93333333 0.        ]  Recall |  [0.875 0.   ]\n",
      "Training Epoch 036: | Loss: 0.25412 | Acc: 95.222\n",
      "Validation Accuracy |  82.35294117647058  PPV |  [0.93333333 0.        ]  Recall |  [0.875 0.   ]\n",
      "Training Epoch 037: | Loss: 0.18429 | Acc: 98.222\n",
      "Validation Accuracy |  82.35294117647058  PPV |  [0.93333333 0.        ]  Recall |  [0.875 0.   ]\n",
      "Training Epoch 038: | Loss: 0.17229 | Acc: 97.444\n",
      "Validation Accuracy |  82.35294117647058  PPV |  [0.93333333 0.        ]  Recall |  [0.875 0.   ]\n",
      "Training Epoch 039: | Loss: 0.19316 | Acc: 96.778\n",
      "Validation Accuracy |  82.35294117647058  PPV |  [0.93333333 0.        ]  Recall |  [0.875 0.   ]\n",
      "Training Epoch 040: | Loss: 0.16435 | Acc: 97.889\n",
      "Validation Accuracy |  82.35294117647058  PPV |  [0.93333333 0.        ]  Recall |  [0.875 0.   ]\n",
      "Training Epoch 041: | Loss: 0.14857 | Acc: 96.000\n",
      "Validation Accuracy |  82.35294117647058  PPV |  [0.93333333 0.        ]  Recall |  [0.875 0.   ]\n",
      "Training Epoch 042: | Loss: 0.14347 | Acc: 97.111\n",
      "Validation Accuracy |  82.35294117647058  PPV |  [0.93333333 0.        ]  Recall |  [0.875 0.   ]\n",
      "Training Epoch 043: | Loss: 0.15817 | Acc: 98.222\n",
      "Validation Accuracy |  82.35294117647058  PPV |  [0.93333333 0.        ]  Recall |  [0.875 0.   ]\n",
      "Training Epoch 044: | Loss: 0.12087 | Acc: 97.444\n",
      "Validation Accuracy |  82.35294117647058  PPV |  [0.93333333 0.        ]  Recall |  [0.875 0.   ]\n",
      "Training Epoch 045: | Loss: 0.12589 | Acc: 99.333\n",
      "Validation Accuracy |  82.35294117647058  PPV |  [0.93333333 0.        ]  Recall |  [0.875 0.   ]\n",
      "Training Epoch 046: | Loss: 0.11682 | Acc: 97.111\n",
      "Validation Accuracy |  82.35294117647058  PPV |  [0.93333333 0.        ]  Recall |  [0.875 0.   ]\n",
      "Training Epoch 047: | Loss: 0.14132 | Acc: 99.000\n",
      "Validation Accuracy |  82.35294117647058  PPV |  [0.93333333 0.        ]  Recall |  [0.875 0.   ]\n",
      "Training Epoch 048: | Loss: 0.13120 | Acc: 96.778\n",
      "Validation Accuracy |  82.35294117647058  PPV |  [0.93333333 0.        ]  Recall |  [0.875 0.   ]\n",
      "Training Epoch 049: | Loss: 0.13521 | Acc: 96.556\n",
      "Validation Accuracy |  82.35294117647058  PPV |  [0.93333333 0.        ]  Recall |  [0.875 0.   ]\n",
      "Training Epoch 050: | Loss: 0.13675 | Acc: 97.111\n",
      "Validation Accuracy |  82.35294117647058  PPV |  [0.93333333 0.        ]  Recall |  [0.875 0.   ]\n",
      "Training Epoch 051: | Loss: 0.10833 | Acc: 100.000\n",
      "Validation Accuracy |  82.35294117647058  PPV |  [0.93333333 0.        ]  Recall |  [0.875 0.   ]\n",
      "Training Epoch 052: | Loss: 0.09331 | Acc: 98.333\n",
      "Validation Accuracy |  82.35294117647058  PPV |  [0.93333333 0.        ]  Recall |  [0.875 0.   ]\n",
      "Training Epoch 053: | Loss: 0.16742 | Acc: 98.000\n",
      "Validation Accuracy |  82.35294117647058  PPV |  [0.93333333 0.        ]  Recall |  [0.875 0.   ]\n",
      "Training Epoch 054: | Loss: 0.17098 | Acc: 91.889\n",
      "Validation Accuracy |  82.35294117647058  PPV |  [0.93333333 0.        ]  Recall |  [0.875 0.   ]\n",
      "Training Epoch 055: | Loss: 0.10648 | Acc: 99.333\n",
      "Validation Accuracy |  82.35294117647058  PPV |  [0.93333333 0.        ]  Recall |  [0.875 0.   ]\n",
      "Training Epoch 056: | Loss: 0.09799 | Acc: 98.111\n",
      "Validation Accuracy |  82.35294117647058  PPV |  [0.93333333 0.        ]  Recall |  [0.875 0.   ]\n",
      "Training Epoch 057: | Loss: 0.07886 | Acc: 99.000\n",
      "Validation Accuracy |  82.35294117647058  PPV |  [0.93333333 0.        ]  Recall |  [0.875 0.   ]\n"
     ]
    },
    {
     "name": "stdout",
     "output_type": "stream",
     "text": [
      "Training Epoch 058: | Loss: 0.07719 | Acc: 99.667\n",
      "Validation Accuracy |  82.35294117647058  PPV |  [0.93333333 0.        ]  Recall |  [0.875 0.   ]\n",
      "Training Epoch 059: | Loss: 0.10481 | Acc: 99.000\n",
      "Validation Accuracy |  82.35294117647058  PPV |  [0.93333333 0.        ]  Recall |  [0.875 0.   ]\n",
      "Training Epoch 060: | Loss: 0.07861 | Acc: 99.000\n",
      "Validation Accuracy |  82.35294117647058  PPV |  [0.93333333 0.        ]  Recall |  [0.875 0.   ]\n",
      "Training Epoch 061: | Loss: 0.10588 | Acc: 99.000\n",
      "Validation Accuracy |  82.35294117647058  PPV |  [0.93333333 0.        ]  Recall |  [0.875 0.   ]\n",
      "Training Epoch 062: | Loss: 0.08770 | Acc: 98.333\n",
      "Validation Accuracy |  88.23529411764706  PPV |  [0.9375 0.    ]  Recall |  [0.9375 0.    ]\n",
      "Training Epoch 063: | Loss: 0.08790 | Acc: 99.333\n",
      "Validation Accuracy |  82.35294117647058  PPV |  [0.93333333 0.        ]  Recall |  [0.875 0.   ]\n",
      "Training Epoch 064: | Loss: 0.07798 | Acc: 98.667\n",
      "Validation Accuracy |  82.35294117647058  PPV |  [0.93333333 0.        ]  Recall |  [0.875 0.   ]\n",
      "Training Epoch 065: | Loss: 0.07881 | Acc: 98.667\n",
      "Validation Accuracy |  82.35294117647058  PPV |  [0.93333333 0.        ]  Recall |  [0.875 0.   ]\n",
      "Training Epoch 066: | Loss: 0.07893 | Acc: 99.333\n",
      "Validation Accuracy |  82.35294117647058  PPV |  [0.93333333 0.        ]  Recall |  [0.875 0.   ]\n",
      "Training Epoch 067: | Loss: 0.08395 | Acc: 98.667\n",
      "Validation Accuracy |  82.35294117647058  PPV |  [0.93333333 0.        ]  Recall |  [0.875 0.   ]\n",
      "Training Epoch 068: | Loss: 0.06674 | Acc: 99.333\n",
      "Validation Accuracy |  82.35294117647058  PPV |  [0.93333333 0.        ]  Recall |  [0.875 0.   ]\n",
      "Training Epoch 069: | Loss: 0.07358 | Acc: 99.000\n",
      "Validation Accuracy |  82.35294117647058  PPV |  [0.93333333 0.        ]  Recall |  [0.875 0.   ]\n",
      "Training Epoch 070: | Loss: 0.06693 | Acc: 98.556\n",
      "Validation Accuracy |  82.35294117647058  PPV |  [0.93333333 0.        ]  Recall |  [0.875 0.   ]\n",
      "Training Epoch 071: | Loss: 0.08127 | Acc: 99.667\n",
      "Validation Accuracy |  82.35294117647058  PPV |  [0.93333333 0.        ]  Recall |  [0.875 0.   ]\n",
      "Training Epoch 072: | Loss: 0.11008 | Acc: 97.444\n",
      "Validation Accuracy |  82.35294117647058  PPV |  [0.93333333 0.        ]  Recall |  [0.875 0.   ]\n",
      "Training Epoch 073: | Loss: 0.09375 | Acc: 98.889\n",
      "Validation Accuracy |  88.23529411764706  PPV |  [0.9375 0.    ]  Recall |  [0.9375 0.    ]\n",
      "Training Epoch 074: | Loss: 0.08444 | Acc: 97.111\n",
      "Validation Accuracy |  82.35294117647058  PPV |  [0.93333333 0.        ]  Recall |  [0.875 0.   ]\n",
      "Training Epoch 075: | Loss: 0.04329 | Acc: 100.000\n",
      "Validation Accuracy |  88.23529411764706  PPV |  [0.9375 0.    ]  Recall |  [0.9375 0.    ]\n",
      "Training Epoch 076: | Loss: 0.05342 | Acc: 99.333\n",
      "Validation Accuracy |  88.23529411764706  PPV |  [0.9375 0.    ]  Recall |  [0.9375 0.    ]\n",
      "Training Epoch 077: | Loss: 0.06181 | Acc: 99.000\n",
      "Validation Accuracy |  88.23529411764706  PPV |  [0.9375 0.    ]  Recall |  [0.9375 0.    ]\n",
      "Training Epoch 078: | Loss: 0.05956 | Acc: 99.333\n",
      "Validation Accuracy |  88.23529411764706  PPV |  [0.9375 0.    ]  Recall |  [0.9375 0.    ]\n",
      "Training Epoch 079: | Loss: 0.07851 | Acc: 99.667\n",
      "Validation Accuracy |  82.35294117647058  PPV |  [0.93333333 0.        ]  Recall |  [0.875 0.   ]\n",
      "Training Epoch 080: | Loss: 0.06591 | Acc: 98.556\n",
      "Validation Accuracy |  88.23529411764706  PPV |  [0.9375 0.    ]  Recall |  [0.9375 0.    ]\n",
      "Training Epoch 081: | Loss: 0.04827 | Acc: 99.667\n",
      "Validation Accuracy |  88.23529411764706  PPV |  [0.9375 0.    ]  Recall |  [0.9375 0.    ]\n",
      "Training Epoch 082: | Loss: 0.05016 | Acc: 99.667\n",
      "Validation Accuracy |  82.35294117647058  PPV |  [0.93333333 0.        ]  Recall |  [0.875 0.   ]\n",
      "Training Epoch 083: | Loss: 0.06192 | Acc: 99.667\n",
      "Validation Accuracy |  82.35294117647058  PPV |  [0.93333333 0.        ]  Recall |  [0.875 0.   ]\n",
      "Training Epoch 084: | Loss: 0.06027 | Acc: 99.333\n",
      "Validation Accuracy |  82.35294117647058  PPV |  [0.93333333 0.        ]  Recall |  [0.875 0.   ]\n",
      "Training Epoch 085: | Loss: 0.04478 | Acc: 99.667\n",
      "Validation Accuracy |  88.23529411764706  PPV |  [0.9375 0.    ]  Recall |  [0.9375 0.    ]\n",
      "Training Epoch 086: | Loss: 0.03610 | Acc: 100.000\n",
      "Validation Accuracy |  82.35294117647058  PPV |  [0.93333333 0.        ]  Recall |  [0.875 0.   ]\n",
      "Training Epoch 087: | Loss: 0.04458 | Acc: 99.000\n",
      "Validation Accuracy |  88.23529411764706  PPV |  [0.9375 0.    ]  Recall |  [0.9375 0.    ]\n",
      "Training Epoch 088: | Loss: 0.06736 | Acc: 99.667\n",
      "Validation Accuracy |  82.35294117647058  PPV |  [0.93333333 0.        ]  Recall |  [0.875 0.   ]\n",
      "Training Epoch 089: | Loss: 0.06129 | Acc: 97.778\n",
      "Validation Accuracy |  94.11764705882352  PPV |  [0.94117647 0.        ]  Recall |  [1. 0.]\n",
      "Training Epoch 090: | Loss: 0.06068 | Acc: 98.889\n",
      "Validation Accuracy |  88.23529411764706  PPV |  [0.9375 0.    ]  Recall |  [0.9375 0.    ]\n",
      "Training Epoch 091: | Loss: 0.02760 | Acc: 99.333\n",
      "Validation Accuracy |  88.23529411764706  PPV |  [0.9375 0.    ]  Recall |  [0.9375 0.    ]\n"
     ]
    },
    {
     "name": "stderr",
     "output_type": "stream",
     "text": [
      "C:\\Users\\mattbeze\\Anaconda3\\envs\\pytorch\\lib\\site-packages\\sklearn\\metrics\\_classification.py:1245: UndefinedMetricWarning: Precision is ill-defined and being set to 0.0 in labels with no predicted samples. Use `zero_division` parameter to control this behavior.\n",
      "  _warn_prf(average, modifier, msg_start, len(result))\n"
     ]
    },
    {
     "name": "stdout",
     "output_type": "stream",
     "text": [
      "Training Epoch 092: | Loss: 0.04944 | Acc: 99.222\n",
      "Validation Accuracy |  82.35294117647058  PPV |  [0.93333333 0.        ]  Recall |  [0.875 0.   ]\n",
      "Training Epoch 093: | Loss: 0.04655 | Acc: 98.111\n",
      "Validation Accuracy |  82.35294117647058  PPV |  [0.93333333 0.        ]  Recall |  [0.875 0.   ]\n",
      "Training Epoch 094: | Loss: 0.03526 | Acc: 99.667\n",
      "Validation Accuracy |  88.23529411764706  PPV |  [0.9375 0.    ]  Recall |  [0.9375 0.    ]\n",
      "Training Epoch 095: | Loss: 0.03283 | Acc: 100.000\n",
      "Validation Accuracy |  82.35294117647058  PPV |  [0.93333333 0.        ]  Recall |  [0.875 0.   ]\n",
      "Training Epoch 096: | Loss: 0.05298 | Acc: 98.667\n",
      "Validation Accuracy |  82.35294117647058  PPV |  [0.93333333 0.        ]  Recall |  [0.875 0.   ]\n",
      "Training Epoch 097: | Loss: 0.02681 | Acc: 99.333\n",
      "Validation Accuracy |  88.23529411764706  PPV |  [0.9375 0.    ]  Recall |  [0.9375 0.    ]\n",
      "Training Epoch 098: | Loss: 0.06724 | Acc: 98.000\n",
      "Validation Accuracy |  82.35294117647058  PPV |  [0.93333333 0.        ]  Recall |  [0.875 0.   ]\n",
      "Training Epoch 099: | Loss: 0.03921 | Acc: 99.667\n",
      "Validation Accuracy |  88.23529411764706  PPV |  [0.9375 0.    ]  Recall |  [0.9375 0.    ]\n",
      "Training Epoch 100: | Loss: 0.04584 | Acc: 99.667\n",
      "Validation Accuracy |  82.35294117647058  PPV |  [0.93333333 0.        ]  Recall |  [0.875 0.   ]\n"
     ]
    }
   ],
   "source": [
    "#model.train() tells PyTorch that you’re in training mode.\n",
    "#Similarly, we’ll call model.eval() when we test our model. We’ll see that below.\n",
    "'''If you’re using layers such as Dropout or BatchNorm which behave differently during training and evaluation, \n",
    "you need to tell PyTorch to act accordingly. While the default mode in PyTorch is the train, \n",
    "so, you don’t explicitly have to write that. But it’s good practice.'''\n",
    "val_acc2 = []\n",
    "train_acc2 = []\n",
    "train_loss2 = []\n",
    "val_loss2 = []\n",
    "\n",
    "model2.train() #Initial training mode\n",
    "for e in range(1, EPOCHS+1):\n",
    "    epoch_loss = 0\n",
    "    epoch_acc = 0\n",
    "    for X_batch, y_batch in train_loader2:\n",
    "        X_batch, y_batch = X_batch.to(device), y_batch.to(device)\n",
    "        optimizer2.zero_grad()\n",
    "        \n",
    "        y_pred = model2(X_batch)\n",
    "        \n",
    "        loss = criterion(y_pred, y_batch)\n",
    "        acc = binary_acc(y_pred, y_batch)\n",
    "        \n",
    "        loss.backward()\n",
    "        optimizer2.step()\n",
    "        \n",
    "        epoch_loss += loss.item()\n",
    "        epoch_acc += acc.item()\n",
    "    \n",
    "    train_acc2.append(epoch_acc/len(train_loader2))\n",
    "    train_loss2.append(epoch_loss/len(train_loader2))\n",
    "    print(f'Training Epoch {e+0:03}: | Loss: {epoch_loss/len(train_loader2):.5f} | Acc: {epoch_acc/len(train_loader2):.3f}')\n",
    "    #Validation metrics here\n",
    "    model2.eval()\n",
    "    #print(\"Evaluation mode\")\n",
    "    y_pred_list = []\n",
    "    test_loader2 = DataLoader(dataset=test_data2, batch_size=test_size1)\n",
    "    with torch.no_grad():\n",
    "        counter = 0\n",
    "        for X_batch in test_loader2:\n",
    "            X_batch = X_batch.to(device)\n",
    "            y_test_pred = model2(X_batch)\n",
    "            y_test_pred = torch.sigmoid(y_test_pred)\n",
    "            y_pred_tag = torch.round(y_test_pred)\n",
    "            y_pred_list.append(y_pred_tag.cpu().numpy())\n",
    "            loss = criterion(y_test_pred,torch.FloatTensor(testing_fold_Y_2))\n",
    "            val_loss2.append(loss)\n",
    "            counter+=1\n",
    "            \n",
    "    y_pred_list = []\n",
    "    test_loader2 = DataLoader(dataset=test_data2, batch_size=1)\n",
    "    with torch.no_grad():\n",
    "        for X_batch in test_loader2:\n",
    "            X_batch = X_batch.to(device)\n",
    "            y_test_pred = model2(X_batch)\n",
    "            y_test_pred = torch.sigmoid(y_test_pred)\n",
    "            y_pred_tag = torch.round(y_test_pred)\n",
    "            y_pred_list.append(y_pred_tag.cpu().numpy())\n",
    "            \n",
    "    y_pred_list = [a.squeeze().tolist() for a in y_pred_list]\n",
    "    y_loss_df = pd.DataFrame(y_pred_list)\n",
    "    accuracy = accuracy_score(torch.FloatTensor(testing_fold_Y_2), y_pred_list)\n",
    "    ppv = precision_score(testing_fold_Y_2, y_pred_list, average=None)\n",
    "    recall = recall_score(testing_fold_Y_2, y_pred_list, average=None)\n",
    "    print(\"Validation Accuracy | \",accuracy*100,\" PPV | \",ppv,\" Recall | \",recall)\n",
    "    val_acc2.append(accuracy*100)\n",
    "    model2.train()\n",
    "    #print(\"Return to training mode\")\n",
    "    \n",
    "    #Need to get validation loss."
   ]
  },
  {
   "cell_type": "code",
   "execution_count": 14,
   "id": "alert-probe",
   "metadata": {},
   "outputs": [
    {
     "name": "stdout",
     "output_type": "stream",
     "text": [
      "Training Epoch 001: | Loss: 3.49366 | Acc: 49.333\n",
      "Validation Accuracy |  17.647058823529413  PPV |  [1.    0.125]  Recall |  [0.06666667 1.        ]\n",
      "Training Epoch 002: | Loss: 1.83541 | Acc: 51.111\n",
      "Validation Accuracy |  35.294117647058826  PPV |  [1.         0.15384615]  Recall |  [0.26666667 1.        ]\n",
      "Training Epoch 003: | Loss: 1.43768 | Acc: 61.556\n",
      "Validation Accuracy |  35.294117647058826  PPV |  [1.         0.15384615]  Recall |  [0.26666667 1.        ]\n",
      "Training Epoch 004: | Loss: 1.23113 | Acc: 61.444\n",
      "Validation Accuracy |  17.647058823529413  PPV |  [1.    0.125]  Recall |  [0.06666667 1.        ]\n",
      "Training Epoch 005: | Loss: 1.12768 | Acc: 61.889\n",
      "Validation Accuracy |  23.52941176470588  PPV |  [0.75       0.07692308]  Recall |  [0.2 0.5]\n",
      "Training Epoch 006: | Loss: 1.08499 | Acc: 64.556\n",
      "Validation Accuracy |  29.411764705882355  PPV |  [1.         0.14285714]  Recall |  [0.2 1. ]\n",
      "Training Epoch 007: | Loss: 1.09402 | Acc: 64.222\n",
      "Validation Accuracy |  29.411764705882355  PPV |  [1.         0.14285714]  Recall |  [0.2 1. ]\n",
      "Training Epoch 008: | Loss: 1.03595 | Acc: 69.556\n",
      "Validation Accuracy |  29.411764705882355  PPV |  [0.8        0.08333333]  Recall |  [0.26666667 0.5       ]\n",
      "Training Epoch 009: | Loss: 1.00699 | Acc: 64.778\n",
      "Validation Accuracy |  23.52941176470588  PPV |  [0.75       0.07692308]  Recall |  [0.2 0.5]\n",
      "Training Epoch 010: | Loss: 1.00489 | Acc: 66.556\n",
      "Validation Accuracy |  29.411764705882355  PPV |  [0.8        0.08333333]  Recall |  [0.26666667 0.5       ]\n",
      "Training Epoch 011: | Loss: 0.85460 | Acc: 75.667\n",
      "Validation Accuracy |  29.411764705882355  PPV |  [0.8        0.08333333]  Recall |  [0.26666667 0.5       ]\n",
      "Training Epoch 012: | Loss: 0.91580 | Acc: 70.333\n",
      "Validation Accuracy |  29.411764705882355  PPV |  [0.8        0.08333333]  Recall |  [0.26666667 0.5       ]\n",
      "Training Epoch 013: | Loss: 0.88846 | Acc: 66.556\n",
      "Validation Accuracy |  29.411764705882355  PPV |  [0.8        0.08333333]  Recall |  [0.26666667 0.5       ]\n",
      "Training Epoch 014: | Loss: 0.82935 | Acc: 74.889\n",
      "Validation Accuracy |  29.411764705882355  PPV |  [0.8        0.08333333]  Recall |  [0.26666667 0.5       ]\n",
      "Training Epoch 015: | Loss: 0.79675 | Acc: 80.778\n",
      "Validation Accuracy |  29.411764705882355  PPV |  [0.8        0.08333333]  Recall |  [0.26666667 0.5       ]\n",
      "Training Epoch 016: | Loss: 0.69981 | Acc: 80.000\n",
      "Validation Accuracy |  41.17647058823529  PPV |  [0.85714286 0.1       ]  Recall |  [0.4 0.5]\n",
      "Training Epoch 017: | Loss: 0.68966 | Acc: 85.556\n",
      "Validation Accuracy |  29.411764705882355  PPV |  [0.8        0.08333333]  Recall |  [0.26666667 0.5       ]\n",
      "Training Epoch 018: | Loss: 0.69709 | Acc: 81.889\n",
      "Validation Accuracy |  47.05882352941176  PPV |  [0.875      0.11111111]  Recall |  [0.46666667 0.5       ]\n",
      "Training Epoch 019: | Loss: 0.59853 | Acc: 88.111\n",
      "Validation Accuracy |  41.17647058823529  PPV |  [0.85714286 0.1       ]  Recall |  [0.4 0.5]\n",
      "Training Epoch 020: | Loss: 0.61252 | Acc: 79.333\n",
      "Validation Accuracy |  64.70588235294117  PPV |  [0.90909091 0.16666667]  Recall |  [0.66666667 0.5       ]\n",
      "Training Epoch 021: | Loss: 0.59323 | Acc: 88.556\n",
      "Validation Accuracy |  35.294117647058826  PPV |  [0.83333333 0.09090909]  Recall |  [0.33333333 0.5       ]\n",
      "Training Epoch 022: | Loss: 0.52225 | Acc: 86.000\n",
      "Validation Accuracy |  64.70588235294117  PPV |  [0.90909091 0.16666667]  Recall |  [0.66666667 0.5       ]\n",
      "Training Epoch 023: | Loss: 0.47618 | Acc: 91.778\n",
      "Validation Accuracy |  52.94117647058824  PPV |  [0.88888889 0.125     ]  Recall |  [0.53333333 0.5       ]\n",
      "Training Epoch 024: | Loss: 0.47866 | Acc: 86.000\n",
      "Validation Accuracy |  70.58823529411765  PPV |  [0.91666667 0.2       ]  Recall |  [0.73333333 0.5       ]\n",
      "Training Epoch 025: | Loss: 0.48771 | Acc: 89.556\n",
      "Validation Accuracy |  64.70588235294117  PPV |  [0.90909091 0.16666667]  Recall |  [0.66666667 0.5       ]\n",
      "Training Epoch 026: | Loss: 0.42197 | Acc: 92.889\n",
      "Validation Accuracy |  70.58823529411765  PPV |  [0.91666667 0.2       ]  Recall |  [0.73333333 0.5       ]\n",
      "Training Epoch 027: | Loss: 0.46286 | Acc: 86.444\n",
      "Validation Accuracy |  70.58823529411765  PPV |  [0.91666667 0.2       ]  Recall |  [0.73333333 0.5       ]\n",
      "Training Epoch 028: | Loss: 0.39178 | Acc: 92.778\n",
      "Validation Accuracy |  70.58823529411765  PPV |  [0.91666667 0.2       ]  Recall |  [0.73333333 0.5       ]\n",
      "Training Epoch 029: | Loss: 0.37498 | Acc: 91.667\n",
      "Validation Accuracy |  70.58823529411765  PPV |  [0.91666667 0.2       ]  Recall |  [0.73333333 0.5       ]\n",
      "Training Epoch 030: | Loss: 0.32838 | Acc: 92.444\n",
      "Validation Accuracy |  70.58823529411765  PPV |  [0.91666667 0.2       ]  Recall |  [0.73333333 0.5       ]\n",
      "Training Epoch 031: | Loss: 0.30652 | Acc: 94.556\n",
      "Validation Accuracy |  70.58823529411765  PPV |  [0.91666667 0.2       ]  Recall |  [0.73333333 0.5       ]\n",
      "Training Epoch 032: | Loss: 0.31818 | Acc: 90.889\n",
      "Validation Accuracy |  70.58823529411765  PPV |  [0.91666667 0.2       ]  Recall |  [0.73333333 0.5       ]\n",
      "Training Epoch 033: | Loss: 0.28813 | Acc: 95.556\n",
      "Validation Accuracy |  70.58823529411765  PPV |  [0.91666667 0.2       ]  Recall |  [0.73333333 0.5       ]\n",
      "Training Epoch 034: | Loss: 0.26551 | Acc: 94.444\n",
      "Validation Accuracy |  70.58823529411765  PPV |  [0.91666667 0.2       ]  Recall |  [0.73333333 0.5       ]\n",
      "Training Epoch 035: | Loss: 0.26180 | Acc: 93.778\n",
      "Validation Accuracy |  76.47058823529412  PPV |  [0.92307692 0.25      ]  Recall |  [0.8 0.5]\n",
      "Training Epoch 036: | Loss: 0.26273 | Acc: 95.111\n",
      "Validation Accuracy |  70.58823529411765  PPV |  [0.91666667 0.2       ]  Recall |  [0.73333333 0.5       ]\n",
      "Training Epoch 037: | Loss: 0.19555 | Acc: 97.444\n",
      "Validation Accuracy |  82.35294117647058  PPV |  [0.92857143 0.33333333]  Recall |  [0.86666667 0.5       ]\n",
      "Training Epoch 038: | Loss: 0.21891 | Acc: 95.556\n",
      "Validation Accuracy |  76.47058823529412  PPV |  [0.92307692 0.25      ]  Recall |  [0.8 0.5]\n",
      "Training Epoch 039: | Loss: 0.19365 | Acc: 96.000\n",
      "Validation Accuracy |  82.35294117647058  PPV |  [0.92857143 0.33333333]  Recall |  [0.86666667 0.5       ]\n",
      "Training Epoch 040: | Loss: 0.20739 | Acc: 95.667\n",
      "Validation Accuracy |  76.47058823529412  PPV |  [0.92307692 0.25      ]  Recall |  [0.8 0.5]\n",
      "Training Epoch 041: | Loss: 0.23948 | Acc: 92.111\n",
      "Validation Accuracy |  88.23529411764706  PPV |  [0.93333333 0.5       ]  Recall |  [0.93333333 0.5       ]\n",
      "Training Epoch 042: | Loss: 0.23430 | Acc: 96.667\n",
      "Validation Accuracy |  70.58823529411765  PPV |  [0.91666667 0.2       ]  Recall |  [0.73333333 0.5       ]\n",
      "Training Epoch 043: | Loss: 0.21501 | Acc: 93.556\n",
      "Validation Accuracy |  82.35294117647058  PPV |  [0.92857143 0.33333333]  Recall |  [0.86666667 0.5       ]\n",
      "Training Epoch 044: | Loss: 0.19438 | Acc: 97.222\n",
      "Validation Accuracy |  76.47058823529412  PPV |  [0.92307692 0.25      ]  Recall |  [0.8 0.5]\n",
      "Training Epoch 045: | Loss: 0.14379 | Acc: 97.778\n",
      "Validation Accuracy |  88.23529411764706  PPV |  [0.93333333 0.5       ]  Recall |  [0.93333333 0.5       ]\n",
      "Training Epoch 046: | Loss: 0.14983 | Acc: 97.444\n",
      "Validation Accuracy |  82.35294117647058  PPV |  [0.92857143 0.33333333]  Recall |  [0.86666667 0.5       ]\n",
      "Training Epoch 047: | Loss: 0.16084 | Acc: 97.333\n",
      "Validation Accuracy |  88.23529411764706  PPV |  [0.93333333 0.5       ]  Recall |  [0.93333333 0.5       ]\n",
      "Training Epoch 048: | Loss: 0.13685 | Acc: 98.667\n",
      "Validation Accuracy |  82.35294117647058  PPV |  [0.92857143 0.33333333]  Recall |  [0.86666667 0.5       ]\n",
      "Training Epoch 049: | Loss: 0.12180 | Acc: 98.333\n",
      "Validation Accuracy |  88.23529411764706  PPV |  [0.93333333 0.5       ]  Recall |  [0.93333333 0.5       ]\n",
      "Training Epoch 050: | Loss: 0.15245 | Acc: 98.222\n",
      "Validation Accuracy |  76.47058823529412  PPV |  [0.92307692 0.25      ]  Recall |  [0.8 0.5]\n",
      "Training Epoch 051: | Loss: 0.11039 | Acc: 98.889\n",
      "Validation Accuracy |  88.23529411764706  PPV |  [0.93333333 0.5       ]  Recall |  [0.93333333 0.5       ]\n",
      "Training Epoch 052: | Loss: 0.14082 | Acc: 98.667\n",
      "Validation Accuracy |  76.47058823529412  PPV |  [0.92307692 0.25      ]  Recall |  [0.8 0.5]\n",
      "Training Epoch 053: | Loss: 0.11590 | Acc: 98.667\n",
      "Validation Accuracy |  88.23529411764706  PPV |  [0.93333333 0.5       ]  Recall |  [0.93333333 0.5       ]\n",
      "Training Epoch 054: | Loss: 0.10322 | Acc: 99.667\n",
      "Validation Accuracy |  88.23529411764706  PPV |  [0.93333333 0.5       ]  Recall |  [0.93333333 0.5       ]\n",
      "Training Epoch 055: | Loss: 0.12287 | Acc: 97.889\n"
     ]
    },
    {
     "name": "stdout",
     "output_type": "stream",
     "text": [
      "Validation Accuracy |  88.23529411764706  PPV |  [0.93333333 0.5       ]  Recall |  [0.93333333 0.5       ]\n",
      "Training Epoch 056: | Loss: 0.11455 | Acc: 98.556\n",
      "Validation Accuracy |  88.23529411764706  PPV |  [0.93333333 0.5       ]  Recall |  [0.93333333 0.5       ]\n",
      "Training Epoch 057: | Loss: 0.14046 | Acc: 97.556\n",
      "Validation Accuracy |  88.23529411764706  PPV |  [0.93333333 0.5       ]  Recall |  [0.93333333 0.5       ]\n",
      "Training Epoch 058: | Loss: 0.12175 | Acc: 99.667\n",
      "Validation Accuracy |  88.23529411764706  PPV |  [0.93333333 0.5       ]  Recall |  [0.93333333 0.5       ]\n",
      "Training Epoch 059: | Loss: 0.15017 | Acc: 98.111\n",
      "Validation Accuracy |  88.23529411764706  PPV |  [0.93333333 0.5       ]  Recall |  [0.93333333 0.5       ]\n",
      "Training Epoch 060: | Loss: 0.11107 | Acc: 98.556\n",
      "Validation Accuracy |  88.23529411764706  PPV |  [0.93333333 0.5       ]  Recall |  [0.93333333 0.5       ]\n",
      "Training Epoch 061: | Loss: 0.08447 | Acc: 99.333\n",
      "Validation Accuracy |  88.23529411764706  PPV |  [0.93333333 0.5       ]  Recall |  [0.93333333 0.5       ]\n",
      "Training Epoch 062: | Loss: 0.10210 | Acc: 97.889\n",
      "Validation Accuracy |  88.23529411764706  PPV |  [0.93333333 0.5       ]  Recall |  [0.93333333 0.5       ]\n",
      "Training Epoch 063: | Loss: 0.08037 | Acc: 99.667\n",
      "Validation Accuracy |  88.23529411764706  PPV |  [0.93333333 0.5       ]  Recall |  [0.93333333 0.5       ]\n",
      "Training Epoch 064: | Loss: 0.08645 | Acc: 99.667\n",
      "Validation Accuracy |  88.23529411764706  PPV |  [0.93333333 0.5       ]  Recall |  [0.93333333 0.5       ]\n",
      "Training Epoch 065: | Loss: 0.06010 | Acc: 99.333\n",
      "Validation Accuracy |  88.23529411764706  PPV |  [0.93333333 0.5       ]  Recall |  [0.93333333 0.5       ]\n",
      "Training Epoch 066: | Loss: 0.07522 | Acc: 98.556\n",
      "Validation Accuracy |  88.23529411764706  PPV |  [0.93333333 0.5       ]  Recall |  [0.93333333 0.5       ]\n",
      "Training Epoch 067: | Loss: 0.06630 | Acc: 98.889\n",
      "Validation Accuracy |  88.23529411764706  PPV |  [0.93333333 0.5       ]  Recall |  [0.93333333 0.5       ]\n",
      "Training Epoch 068: | Loss: 0.06910 | Acc: 99.667\n",
      "Validation Accuracy |  88.23529411764706  PPV |  [0.93333333 0.5       ]  Recall |  [0.93333333 0.5       ]\n",
      "Training Epoch 069: | Loss: 0.07132 | Acc: 98.556\n",
      "Validation Accuracy |  88.23529411764706  PPV |  [0.93333333 0.5       ]  Recall |  [0.93333333 0.5       ]\n",
      "Training Epoch 070: | Loss: 0.06395 | Acc: 99.000\n",
      "Validation Accuracy |  88.23529411764706  PPV |  [0.93333333 0.5       ]  Recall |  [0.93333333 0.5       ]\n",
      "Training Epoch 071: | Loss: 0.05092 | Acc: 99.333\n",
      "Validation Accuracy |  88.23529411764706  PPV |  [0.93333333 0.5       ]  Recall |  [0.93333333 0.5       ]\n",
      "Training Epoch 072: | Loss: 0.07300 | Acc: 99.333\n",
      "Validation Accuracy |  88.23529411764706  PPV |  [0.93333333 0.5       ]  Recall |  [0.93333333 0.5       ]\n",
      "Training Epoch 073: | Loss: 0.06144 | Acc: 98.222\n",
      "Validation Accuracy |  88.23529411764706  PPV |  [0.93333333 0.5       ]  Recall |  [0.93333333 0.5       ]\n",
      "Training Epoch 074: | Loss: 0.07524 | Acc: 99.333\n",
      "Validation Accuracy |  82.35294117647058  PPV |  [0.92857143 0.33333333]  Recall |  [0.86666667 0.5       ]\n",
      "Training Epoch 075: | Loss: 0.06943 | Acc: 97.444\n",
      "Validation Accuracy |  88.23529411764706  PPV |  [0.93333333 0.5       ]  Recall |  [0.93333333 0.5       ]\n",
      "Training Epoch 076: | Loss: 0.07450 | Acc: 99.333\n",
      "Validation Accuracy |  88.23529411764706  PPV |  [0.93333333 0.5       ]  Recall |  [0.93333333 0.5       ]\n",
      "Training Epoch 077: | Loss: 0.07482 | Acc: 98.556\n",
      "Validation Accuracy |  88.23529411764706  PPV |  [0.93333333 0.5       ]  Recall |  [0.93333333 0.5       ]\n",
      "Training Epoch 078: | Loss: 0.04329 | Acc: 99.667\n",
      "Validation Accuracy |  88.23529411764706  PPV |  [0.93333333 0.5       ]  Recall |  [0.93333333 0.5       ]\n",
      "Training Epoch 079: | Loss: 0.03667 | Acc: 99.667\n",
      "Validation Accuracy |  88.23529411764706  PPV |  [0.93333333 0.5       ]  Recall |  [0.93333333 0.5       ]\n",
      "Training Epoch 080: | Loss: 0.04602 | Acc: 99.333\n",
      "Validation Accuracy |  88.23529411764706  PPV |  [0.93333333 0.5       ]  Recall |  [0.93333333 0.5       ]\n",
      "Training Epoch 081: | Loss: 0.03683 | Acc: 99.667\n",
      "Validation Accuracy |  88.23529411764706  PPV |  [0.93333333 0.5       ]  Recall |  [0.93333333 0.5       ]\n",
      "Training Epoch 082: | Loss: 0.03249 | Acc: 99.667\n",
      "Validation Accuracy |  88.23529411764706  PPV |  [0.93333333 0.5       ]  Recall |  [0.93333333 0.5       ]\n",
      "Training Epoch 083: | Loss: 0.06078 | Acc: 98.556\n",
      "Validation Accuracy |  88.23529411764706  PPV |  [0.93333333 0.5       ]  Recall |  [0.93333333 0.5       ]\n",
      "Training Epoch 084: | Loss: 0.07765 | Acc: 98.222\n",
      "Validation Accuracy |  88.23529411764706  PPV |  [0.93333333 0.5       ]  Recall |  [0.93333333 0.5       ]\n",
      "Training Epoch 085: | Loss: 0.04181 | Acc: 99.667\n",
      "Validation Accuracy |  88.23529411764706  PPV |  [0.93333333 0.5       ]  Recall |  [0.93333333 0.5       ]\n",
      "Training Epoch 086: | Loss: 0.03315 | Acc: 100.000\n",
      "Validation Accuracy |  88.23529411764706  PPV |  [0.93333333 0.5       ]  Recall |  [0.93333333 0.5       ]\n",
      "Training Epoch 087: | Loss: 0.02677 | Acc: 99.667\n",
      "Validation Accuracy |  88.23529411764706  PPV |  [0.93333333 0.5       ]  Recall |  [0.93333333 0.5       ]\n",
      "Training Epoch 088: | Loss: 0.05018 | Acc: 99.667\n",
      "Validation Accuracy |  88.23529411764706  PPV |  [0.93333333 0.5       ]  Recall |  [0.93333333 0.5       ]\n",
      "Training Epoch 089: | Loss: 0.07619 | Acc: 96.000\n",
      "Validation Accuracy |  88.23529411764706  PPV |  [0.93333333 0.5       ]  Recall |  [0.93333333 0.5       ]\n",
      "Training Epoch 090: | Loss: 0.05324 | Acc: 99.667\n",
      "Validation Accuracy |  88.23529411764706  PPV |  [0.93333333 0.5       ]  Recall |  [0.93333333 0.5       ]\n",
      "Training Epoch 091: | Loss: 0.06754 | Acc: 98.222\n",
      "Validation Accuracy |  88.23529411764706  PPV |  [0.93333333 0.5       ]  Recall |  [0.93333333 0.5       ]\n",
      "Training Epoch 092: | Loss: 0.04986 | Acc: 99.333\n",
      "Validation Accuracy |  88.23529411764706  PPV |  [0.93333333 0.5       ]  Recall |  [0.93333333 0.5       ]\n",
      "Training Epoch 093: | Loss: 0.04276 | Acc: 100.000\n",
      "Validation Accuracy |  88.23529411764706  PPV |  [0.93333333 0.5       ]  Recall |  [0.93333333 0.5       ]\n",
      "Training Epoch 094: | Loss: 0.04796 | Acc: 99.667\n",
      "Validation Accuracy |  82.35294117647058  PPV |  [0.92857143 0.33333333]  Recall |  [0.86666667 0.5       ]\n",
      "Training Epoch 095: | Loss: 0.04188 | Acc: 99.667\n",
      "Validation Accuracy |  88.23529411764706  PPV |  [0.93333333 0.5       ]  Recall |  [0.93333333 0.5       ]\n",
      "Training Epoch 096: | Loss: 0.03447 | Acc: 99.333\n",
      "Validation Accuracy |  88.23529411764706  PPV |  [0.93333333 0.5       ]  Recall |  [0.93333333 0.5       ]\n",
      "Training Epoch 097: | Loss: 0.05384 | Acc: 99.333\n",
      "Validation Accuracy |  88.23529411764706  PPV |  [0.93333333 0.5       ]  Recall |  [0.93333333 0.5       ]\n",
      "Training Epoch 098: | Loss: 0.04340 | Acc: 99.000\n",
      "Validation Accuracy |  88.23529411764706  PPV |  [0.93333333 0.5       ]  Recall |  [0.93333333 0.5       ]\n",
      "Training Epoch 099: | Loss: 0.03109 | Acc: 99.667\n",
      "Validation Accuracy |  88.23529411764706  PPV |  [0.93333333 0.5       ]  Recall |  [0.93333333 0.5       ]\n",
      "Training Epoch 100: | Loss: 0.05916 | Acc: 99.333\n",
      "Validation Accuracy |  88.23529411764706  PPV |  [0.93333333 0.5       ]  Recall |  [0.93333333 0.5       ]\n"
     ]
    }
   ],
   "source": [
    "#model.train() tells PyTorch that you’re in training mode.\n",
    "#Similarly, we’ll call model.eval() when we test our model. We’ll see that below.\n",
    "'''If you’re using layers such as Dropout or BatchNorm which behave differently during training and evaluation, \n",
    "you need to tell PyTorch to act accordingly. While the default mode in PyTorch is the train, \n",
    "so, you don’t explicitly have to write that. But it’s good practice.'''\n",
    "val_acc3 = []\n",
    "train_acc3 = []\n",
    "train_loss3 = []\n",
    "val_loss3 = []\n",
    "\n",
    "model3.train() #Initial training mode\n",
    "for e in range(1, EPOCHS+1):\n",
    "    epoch_loss = 0\n",
    "    epoch_acc = 0\n",
    "    for X_batch, y_batch in train_loader3:\n",
    "        X_batch, y_batch = X_batch.to(device), y_batch.to(device)\n",
    "        optimizer3.zero_grad()\n",
    "        \n",
    "        y_pred = model3(X_batch)\n",
    "        \n",
    "        loss = criterion(y_pred, y_batch)\n",
    "        acc = binary_acc(y_pred, y_batch)\n",
    "        \n",
    "        loss.backward()\n",
    "        optimizer3.step()\n",
    "        \n",
    "        epoch_loss += loss.item()\n",
    "        epoch_acc += acc.item()\n",
    "    \n",
    "    train_acc3.append(epoch_acc/len(train_loader3))\n",
    "    train_loss3.append(epoch_loss/len(train_loader3))\n",
    "    print(f'Training Epoch {e+0:03}: | Loss: {epoch_loss/len(train_loader3):.5f} | Acc: {epoch_acc/len(train_loader3):.3f}')\n",
    "    #Validation metrics here\n",
    "    model3.eval()\n",
    "    #print(\"Evaluation mode\")\n",
    "    y_pred_list = []\n",
    "    test_loader3 = DataLoader(dataset=test_data3, batch_size=test_size1)\n",
    "    with torch.no_grad():\n",
    "        counter = 0\n",
    "        for X_batch in test_loader3:\n",
    "            X_batch = X_batch.to(device)\n",
    "            y_test_pred = model3(X_batch)\n",
    "            y_test_pred = torch.sigmoid(y_test_pred)\n",
    "            y_pred_tag = torch.round(y_test_pred)\n",
    "            y_pred_list.append(y_pred_tag.cpu().numpy())\n",
    "            loss = criterion(y_test_pred,torch.FloatTensor(testing_fold_Y_3))\n",
    "            val_loss3.append(loss)\n",
    "            counter+=1\n",
    "            \n",
    "    y_pred_list = []\n",
    "    test_loader3 = DataLoader(dataset=test_data3, batch_size=1)\n",
    "    with torch.no_grad():\n",
    "        for X_batch in test_loader3:\n",
    "            X_batch = X_batch.to(device)\n",
    "            y_test_pred = model3(X_batch)\n",
    "            y_test_pred = torch.sigmoid(y_test_pred)\n",
    "            y_pred_tag = torch.round(y_test_pred)\n",
    "            y_pred_list.append(y_pred_tag.cpu().numpy())\n",
    "            \n",
    "    y_pred_list = [a.squeeze().tolist() for a in y_pred_list]\n",
    "    y_loss_df = pd.DataFrame(y_pred_list)\n",
    "    accuracy = accuracy_score(torch.FloatTensor(testing_fold_Y_3), y_pred_list)\n",
    "    ppv = precision_score(testing_fold_Y_3, y_pred_list, average=None)\n",
    "    recall = recall_score(testing_fold_Y_3, y_pred_list, average=None)\n",
    "    print(\"Validation Accuracy | \",accuracy*100,\" PPV | \",ppv,\" Recall | \",recall)\n",
    "    val_acc3.append(accuracy*100)\n",
    "    model3.train()\n",
    "    #print(\"Return to training mode\")\n",
    "    \n",
    "    #Need to get validation loss."
   ]
  },
  {
   "cell_type": "code",
   "execution_count": 15,
   "id": "collective-senegal",
   "metadata": {},
   "outputs": [
    {
     "name": "stdout",
     "output_type": "stream",
     "text": [
      "Training Epoch 001: | Loss: 3.64273 | Acc: 51.889\n",
      "Validation Accuracy |  11.76470588235294  PPV |  [0.         0.11764706]  Recall |  [0. 1.]\n",
      "Training Epoch 002: | Loss: 1.95913 | Acc: 51.556\n",
      "Validation Accuracy |  29.411764705882355  PPV |  [1.         0.14285714]  Recall |  [0.2 1. ]\n"
     ]
    },
    {
     "name": "stderr",
     "output_type": "stream",
     "text": [
      "C:\\Users\\mattbeze\\Anaconda3\\envs\\pytorch\\lib\\site-packages\\sklearn\\metrics\\_classification.py:1245: UndefinedMetricWarning: Precision is ill-defined and being set to 0.0 in labels with no predicted samples. Use `zero_division` parameter to control this behavior.\n",
      "  _warn_prf(average, modifier, msg_start, len(result))\n"
     ]
    },
    {
     "name": "stdout",
     "output_type": "stream",
     "text": [
      "Training Epoch 003: | Loss: 1.59783 | Acc: 58.444\n",
      "Validation Accuracy |  29.411764705882355  PPV |  [1.         0.14285714]  Recall |  [0.2 1. ]\n",
      "Training Epoch 004: | Loss: 1.30980 | Acc: 55.778\n",
      "Validation Accuracy |  11.76470588235294  PPV |  [0.         0.11764706]  Recall |  [0. 1.]\n"
     ]
    },
    {
     "name": "stderr",
     "output_type": "stream",
     "text": [
      "C:\\Users\\mattbeze\\Anaconda3\\envs\\pytorch\\lib\\site-packages\\sklearn\\metrics\\_classification.py:1245: UndefinedMetricWarning: Precision is ill-defined and being set to 0.0 in labels with no predicted samples. Use `zero_division` parameter to control this behavior.\n",
      "  _warn_prf(average, modifier, msg_start, len(result))\n"
     ]
    },
    {
     "name": "stdout",
     "output_type": "stream",
     "text": [
      "Training Epoch 005: | Loss: 1.20733 | Acc: 56.667\n",
      "Validation Accuracy |  29.411764705882355  PPV |  [1.         0.14285714]  Recall |  [0.2 1. ]\n",
      "Training Epoch 006: | Loss: 1.17611 | Acc: 67.222\n",
      "Validation Accuracy |  29.411764705882355  PPV |  [1.         0.14285714]  Recall |  [0.2 1. ]\n",
      "Training Epoch 007: | Loss: 1.13214 | Acc: 57.444\n",
      "Validation Accuracy |  29.411764705882355  PPV |  [1.         0.14285714]  Recall |  [0.2 1. ]\n",
      "Training Epoch 008: | Loss: 1.17509 | Acc: 61.778\n",
      "Validation Accuracy |  29.411764705882355  PPV |  [1.         0.14285714]  Recall |  [0.2 1. ]\n",
      "Training Epoch 009: | Loss: 1.01857 | Acc: 67.778\n",
      "Validation Accuracy |  29.411764705882355  PPV |  [1.         0.14285714]  Recall |  [0.2 1. ]\n",
      "Training Epoch 010: | Loss: 1.02576 | Acc: 67.000\n",
      "Validation Accuracy |  29.411764705882355  PPV |  [1.         0.14285714]  Recall |  [0.2 1. ]\n",
      "Training Epoch 011: | Loss: 0.97782 | Acc: 70.444\n",
      "Validation Accuracy |  29.411764705882355  PPV |  [1.         0.14285714]  Recall |  [0.2 1. ]\n",
      "Training Epoch 012: | Loss: 0.88478 | Acc: 65.889\n",
      "Validation Accuracy |  35.294117647058826  PPV |  [1.         0.15384615]  Recall |  [0.26666667 1.        ]\n",
      "Training Epoch 013: | Loss: 0.88812 | Acc: 77.333\n",
      "Validation Accuracy |  52.94117647058824  PPV |  [1.  0.2]  Recall |  [0.46666667 1.        ]\n",
      "Training Epoch 014: | Loss: 0.84618 | Acc: 70.111\n",
      "Validation Accuracy |  41.17647058823529  PPV |  [1.         0.16666667]  Recall |  [0.33333333 1.        ]\n",
      "Training Epoch 015: | Loss: 0.80739 | Acc: 77.333\n",
      "Validation Accuracy |  52.94117647058824  PPV |  [0.88888889 0.125     ]  Recall |  [0.53333333 0.5       ]\n",
      "Training Epoch 016: | Loss: 0.76931 | Acc: 79.889\n",
      "Validation Accuracy |  52.94117647058824  PPV |  [1.  0.2]  Recall |  [0.46666667 1.        ]\n",
      "Training Epoch 017: | Loss: 0.70512 | Acc: 77.000\n",
      "Validation Accuracy |  52.94117647058824  PPV |  [0.88888889 0.125     ]  Recall |  [0.53333333 0.5       ]\n",
      "Training Epoch 018: | Loss: 0.68722 | Acc: 85.222\n",
      "Validation Accuracy |  52.94117647058824  PPV |  [0.88888889 0.125     ]  Recall |  [0.53333333 0.5       ]\n",
      "Training Epoch 019: | Loss: 0.64144 | Acc: 85.889\n",
      "Validation Accuracy |  52.94117647058824  PPV |  [0.88888889 0.125     ]  Recall |  [0.53333333 0.5       ]\n",
      "Training Epoch 020: | Loss: 0.59094 | Acc: 88.556\n",
      "Validation Accuracy |  52.94117647058824  PPV |  [0.88888889 0.125     ]  Recall |  [0.53333333 0.5       ]\n",
      "Training Epoch 021: | Loss: 0.64374 | Acc: 82.778\n",
      "Validation Accuracy |  64.70588235294117  PPV |  [0.90909091 0.16666667]  Recall |  [0.66666667 0.5       ]\n",
      "Training Epoch 022: | Loss: 0.56294 | Acc: 87.778\n",
      "Validation Accuracy |  64.70588235294117  PPV |  [0.90909091 0.16666667]  Recall |  [0.66666667 0.5       ]\n",
      "Training Epoch 023: | Loss: 0.47496 | Acc: 88.889\n",
      "Validation Accuracy |  64.70588235294117  PPV |  [0.90909091 0.16666667]  Recall |  [0.66666667 0.5       ]\n",
      "Training Epoch 024: | Loss: 0.53692 | Acc: 87.000\n",
      "Validation Accuracy |  82.35294117647058  PPV |  [0.92857143 0.33333333]  Recall |  [0.86666667 0.5       ]\n",
      "Training Epoch 025: | Loss: 0.44479 | Acc: 90.667\n",
      "Validation Accuracy |  82.35294117647058  PPV |  [0.92857143 0.33333333]  Recall |  [0.86666667 0.5       ]\n",
      "Training Epoch 026: | Loss: 0.48481 | Acc: 92.000\n",
      "Validation Accuracy |  70.58823529411765  PPV |  [0.91666667 0.2       ]  Recall |  [0.73333333 0.5       ]\n",
      "Training Epoch 027: | Loss: 0.42402 | Acc: 88.778\n",
      "Validation Accuracy |  82.35294117647058  PPV |  [0.92857143 0.33333333]  Recall |  [0.86666667 0.5       ]\n",
      "Training Epoch 028: | Loss: 0.40461 | Acc: 92.889\n",
      "Validation Accuracy |  82.35294117647058  PPV |  [0.92857143 0.33333333]  Recall |  [0.86666667 0.5       ]\n",
      "Training Epoch 029: | Loss: 0.37705 | Acc: 92.889\n",
      "Validation Accuracy |  82.35294117647058  PPV |  [0.92857143 0.33333333]  Recall |  [0.86666667 0.5       ]\n",
      "Training Epoch 030: | Loss: 0.37128 | Acc: 92.111\n",
      "Validation Accuracy |  82.35294117647058  PPV |  [0.92857143 0.33333333]  Recall |  [0.86666667 0.5       ]\n",
      "Training Epoch 031: | Loss: 0.33269 | Acc: 93.000\n",
      "Validation Accuracy |  82.35294117647058  PPV |  [0.92857143 0.33333333]  Recall |  [0.86666667 0.5       ]\n",
      "Training Epoch 032: | Loss: 0.33988 | Acc: 94.111\n",
      "Validation Accuracy |  82.35294117647058  PPV |  [0.92857143 0.33333333]  Recall |  [0.86666667 0.5       ]\n",
      "Training Epoch 033: | Loss: 0.29716 | Acc: 94.333\n",
      "Validation Accuracy |  82.35294117647058  PPV |  [0.92857143 0.33333333]  Recall |  [0.86666667 0.5       ]\n",
      "Training Epoch 034: | Loss: 0.25161 | Acc: 94.222\n",
      "Validation Accuracy |  82.35294117647058  PPV |  [0.92857143 0.33333333]  Recall |  [0.86666667 0.5       ]\n",
      "Training Epoch 035: | Loss: 0.29750 | Acc: 92.889\n",
      "Validation Accuracy |  82.35294117647058  PPV |  [0.92857143 0.33333333]  Recall |  [0.86666667 0.5       ]\n",
      "Training Epoch 036: | Loss: 0.26879 | Acc: 94.778\n",
      "Validation Accuracy |  82.35294117647058  PPV |  [0.92857143 0.33333333]  Recall |  [0.86666667 0.5       ]\n",
      "Training Epoch 037: | Loss: 0.23977 | Acc: 95.111\n",
      "Validation Accuracy |  82.35294117647058  PPV |  [0.92857143 0.33333333]  Recall |  [0.86666667 0.5       ]\n",
      "Training Epoch 038: | Loss: 0.27492 | Acc: 94.778\n",
      "Validation Accuracy |  82.35294117647058  PPV |  [0.92857143 0.33333333]  Recall |  [0.86666667 0.5       ]\n",
      "Training Epoch 039: | Loss: 0.27204 | Acc: 94.667\n",
      "Validation Accuracy |  82.35294117647058  PPV |  [0.92857143 0.33333333]  Recall |  [0.86666667 0.5       ]\n",
      "Training Epoch 040: | Loss: 0.23281 | Acc: 96.000\n",
      "Validation Accuracy |  82.35294117647058  PPV |  [0.92857143 0.33333333]  Recall |  [0.86666667 0.5       ]\n",
      "Training Epoch 041: | Loss: 0.19658 | Acc: 97.556\n",
      "Validation Accuracy |  88.23529411764706  PPV |  [0.93333333 0.5       ]  Recall |  [0.93333333 0.5       ]\n",
      "Training Epoch 042: | Loss: 0.19356 | Acc: 97.111\n",
      "Validation Accuracy |  82.35294117647058  PPV |  [0.92857143 0.33333333]  Recall |  [0.86666667 0.5       ]\n",
      "Training Epoch 043: | Loss: 0.21513 | Acc: 94.556\n",
      "Validation Accuracy |  88.23529411764706  PPV |  [0.93333333 0.5       ]  Recall |  [0.93333333 0.5       ]\n",
      "Training Epoch 044: | Loss: 0.18081 | Acc: 98.667\n",
      "Validation Accuracy |  82.35294117647058  PPV |  [0.92857143 0.33333333]  Recall |  [0.86666667 0.5       ]\n",
      "Training Epoch 045: | Loss: 0.16816 | Acc: 95.667\n",
      "Validation Accuracy |  88.23529411764706  PPV |  [0.93333333 0.5       ]  Recall |  [0.93333333 0.5       ]\n",
      "Training Epoch 046: | Loss: 0.16436 | Acc: 98.333\n",
      "Validation Accuracy |  82.35294117647058  PPV |  [0.92857143 0.33333333]  Recall |  [0.86666667 0.5       ]\n",
      "Training Epoch 047: | Loss: 0.16985 | Acc: 97.111\n",
      "Validation Accuracy |  82.35294117647058  PPV |  [0.92857143 0.33333333]  Recall |  [0.86666667 0.5       ]\n",
      "Training Epoch 048: | Loss: 0.14726 | Acc: 98.222\n",
      "Validation Accuracy |  88.23529411764706  PPV |  [0.93333333 0.5       ]  Recall |  [0.93333333 0.5       ]\n",
      "Training Epoch 049: | Loss: 0.13742 | Acc: 97.333\n",
      "Validation Accuracy |  88.23529411764706  PPV |  [0.93333333 0.5       ]  Recall |  [0.93333333 0.5       ]\n",
      "Training Epoch 050: | Loss: 0.12297 | Acc: 97.111\n",
      "Validation Accuracy |  88.23529411764706  PPV |  [0.93333333 0.5       ]  Recall |  [0.93333333 0.5       ]\n",
      "Training Epoch 051: | Loss: 0.12509 | Acc: 98.222\n",
      "Validation Accuracy |  88.23529411764706  PPV |  [0.93333333 0.5       ]  Recall |  [0.93333333 0.5       ]\n",
      "Training Epoch 052: | Loss: 0.22946 | Acc: 96.444\n",
      "Validation Accuracy |  82.35294117647058  PPV |  [0.92857143 0.33333333]  Recall |  [0.86666667 0.5       ]\n",
      "Training Epoch 053: | Loss: 0.16940 | Acc: 92.333\n",
      "Validation Accuracy |  88.23529411764706  PPV |  [0.93333333 0.5       ]  Recall |  [0.93333333 0.5       ]\n",
      "Training Epoch 054: | Loss: 0.15372 | Acc: 99.000\n",
      "Validation Accuracy |  88.23529411764706  PPV |  [0.93333333 0.5       ]  Recall |  [0.93333333 0.5       ]\n",
      "Training Epoch 055: | Loss: 0.10499 | Acc: 97.778\n",
      "Validation Accuracy |  88.23529411764706  PPV |  [0.93333333 0.5       ]  Recall |  [0.93333333 0.5       ]\n",
      "Training Epoch 056: | Loss: 0.11395 | Acc: 98.333\n",
      "Validation Accuracy |  88.23529411764706  PPV |  [0.93333333 0.5       ]  Recall |  [0.93333333 0.5       ]\n",
      "Training Epoch 057: | Loss: 0.09246 | Acc: 98.222\n",
      "Validation Accuracy |  82.35294117647058  PPV |  [0.92857143 0.33333333]  Recall |  [0.86666667 0.5       ]\n",
      "Training Epoch 058: | Loss: 0.08047 | Acc: 100.000\n",
      "Validation Accuracy |  88.23529411764706  PPV |  [0.93333333 0.5       ]  Recall |  [0.93333333 0.5       ]\n",
      "Training Epoch 059: | Loss: 0.07164 | Acc: 99.333\n"
     ]
    },
    {
     "name": "stdout",
     "output_type": "stream",
     "text": [
      "Validation Accuracy |  88.23529411764706  PPV |  [0.93333333 0.5       ]  Recall |  [0.93333333 0.5       ]\n",
      "Training Epoch 060: | Loss: 0.07719 | Acc: 99.333\n",
      "Validation Accuracy |  82.35294117647058  PPV |  [0.92857143 0.33333333]  Recall |  [0.86666667 0.5       ]\n",
      "Training Epoch 061: | Loss: 0.08195 | Acc: 99.667\n",
      "Validation Accuracy |  88.23529411764706  PPV |  [0.93333333 0.5       ]  Recall |  [0.93333333 0.5       ]\n",
      "Training Epoch 062: | Loss: 0.07651 | Acc: 99.333\n",
      "Validation Accuracy |  88.23529411764706  PPV |  [0.93333333 0.5       ]  Recall |  [0.93333333 0.5       ]\n",
      "Training Epoch 063: | Loss: 0.07004 | Acc: 98.889\n",
      "Validation Accuracy |  88.23529411764706  PPV |  [0.93333333 0.5       ]  Recall |  [0.93333333 0.5       ]\n",
      "Training Epoch 064: | Loss: 0.08414 | Acc: 98.556\n",
      "Validation Accuracy |  88.23529411764706  PPV |  [0.93333333 0.5       ]  Recall |  [0.93333333 0.5       ]\n",
      "Training Epoch 065: | Loss: 0.06271 | Acc: 99.667\n",
      "Validation Accuracy |  88.23529411764706  PPV |  [0.93333333 0.5       ]  Recall |  [0.93333333 0.5       ]\n",
      "Training Epoch 066: | Loss: 0.08032 | Acc: 98.556\n",
      "Validation Accuracy |  88.23529411764706  PPV |  [0.93333333 0.5       ]  Recall |  [0.93333333 0.5       ]\n",
      "Training Epoch 067: | Loss: 0.06364 | Acc: 99.333\n",
      "Validation Accuracy |  88.23529411764706  PPV |  [0.93333333 0.5       ]  Recall |  [0.93333333 0.5       ]\n",
      "Training Epoch 068: | Loss: 0.06239 | Acc: 99.667\n",
      "Validation Accuracy |  88.23529411764706  PPV |  [0.93333333 0.5       ]  Recall |  [0.93333333 0.5       ]\n",
      "Training Epoch 069: | Loss: 0.05206 | Acc: 99.667\n",
      "Validation Accuracy |  82.35294117647058  PPV |  [0.875 0.   ]  Recall |  [0.93333333 0.        ]\n",
      "Training Epoch 070: | Loss: 0.06003 | Acc: 99.667\n",
      "Validation Accuracy |  82.35294117647058  PPV |  [0.92857143 0.33333333]  Recall |  [0.86666667 0.5       ]\n",
      "Training Epoch 071: | Loss: 0.08165 | Acc: 98.222\n",
      "Validation Accuracy |  88.23529411764706  PPV |  [0.93333333 0.5       ]  Recall |  [0.93333333 0.5       ]\n",
      "Training Epoch 072: | Loss: 0.05962 | Acc: 98.889\n",
      "Validation Accuracy |  88.23529411764706  PPV |  [0.93333333 0.5       ]  Recall |  [0.93333333 0.5       ]\n",
      "Training Epoch 073: | Loss: 0.07642 | Acc: 99.667\n",
      "Validation Accuracy |  88.23529411764706  PPV |  [0.93333333 0.5       ]  Recall |  [0.93333333 0.5       ]\n",
      "Training Epoch 074: | Loss: 0.06837 | Acc: 98.889\n",
      "Validation Accuracy |  88.23529411764706  PPV |  [0.93333333 0.5       ]  Recall |  [0.93333333 0.5       ]\n",
      "Training Epoch 075: | Loss: 0.06930 | Acc: 99.000\n",
      "Validation Accuracy |  88.23529411764706  PPV |  [0.93333333 0.5       ]  Recall |  [0.93333333 0.5       ]\n",
      "Training Epoch 076: | Loss: 0.07047 | Acc: 98.556\n",
      "Validation Accuracy |  88.23529411764706  PPV |  [0.93333333 0.5       ]  Recall |  [0.93333333 0.5       ]\n",
      "Training Epoch 077: | Loss: 0.04852 | Acc: 100.000\n",
      "Validation Accuracy |  88.23529411764706  PPV |  [0.93333333 0.5       ]  Recall |  [0.93333333 0.5       ]\n",
      "Training Epoch 078: | Loss: 0.05577 | Acc: 99.667\n",
      "Validation Accuracy |  88.23529411764706  PPV |  [0.93333333 0.5       ]  Recall |  [0.93333333 0.5       ]\n",
      "Training Epoch 079: | Loss: 0.06352 | Acc: 99.333\n",
      "Validation Accuracy |  88.23529411764706  PPV |  [0.93333333 0.5       ]  Recall |  [0.93333333 0.5       ]\n",
      "Training Epoch 080: | Loss: 0.04370 | Acc: 99.333\n",
      "Validation Accuracy |  88.23529411764706  PPV |  [0.93333333 0.5       ]  Recall |  [0.93333333 0.5       ]\n",
      "Training Epoch 081: | Loss: 0.03985 | Acc: 100.000\n",
      "Validation Accuracy |  88.23529411764706  PPV |  [0.93333333 0.5       ]  Recall |  [0.93333333 0.5       ]\n",
      "Training Epoch 082: | Loss: 0.04438 | Acc: 99.667\n",
      "Validation Accuracy |  88.23529411764706  PPV |  [0.93333333 0.5       ]  Recall |  [0.93333333 0.5       ]\n",
      "Training Epoch 083: | Loss: 0.05199 | Acc: 99.333\n",
      "Validation Accuracy |  88.23529411764706  PPV |  [0.93333333 0.5       ]  Recall |  [0.93333333 0.5       ]\n",
      "Training Epoch 084: | Loss: 0.03197 | Acc: 99.667\n",
      "Validation Accuracy |  82.35294117647058  PPV |  [0.875 0.   ]  Recall |  [0.93333333 0.        ]\n",
      "Training Epoch 085: | Loss: 0.05528 | Acc: 99.667\n",
      "Validation Accuracy |  82.35294117647058  PPV |  [0.875 0.   ]  Recall |  [0.93333333 0.        ]\n",
      "Training Epoch 086: | Loss: 0.03803 | Acc: 99.667\n",
      "Validation Accuracy |  82.35294117647058  PPV |  [0.875 0.   ]  Recall |  [0.93333333 0.        ]\n",
      "Training Epoch 087: | Loss: 0.03799 | Acc: 100.000\n",
      "Validation Accuracy |  82.35294117647058  PPV |  [0.875 0.   ]  Recall |  [0.93333333 0.        ]\n",
      "Training Epoch 088: | Loss: 0.02966 | Acc: 100.000\n",
      "Validation Accuracy |  88.23529411764706  PPV |  [0.88235294 0.        ]  Recall |  [1. 0.]\n"
     ]
    },
    {
     "name": "stderr",
     "output_type": "stream",
     "text": [
      "C:\\Users\\mattbeze\\Anaconda3\\envs\\pytorch\\lib\\site-packages\\sklearn\\metrics\\_classification.py:1245: UndefinedMetricWarning: Precision is ill-defined and being set to 0.0 in labels with no predicted samples. Use `zero_division` parameter to control this behavior.\n",
      "  _warn_prf(average, modifier, msg_start, len(result))\n",
      "C:\\Users\\mattbeze\\Anaconda3\\envs\\pytorch\\lib\\site-packages\\sklearn\\metrics\\_classification.py:1245: UndefinedMetricWarning: Precision is ill-defined and being set to 0.0 in labels with no predicted samples. Use `zero_division` parameter to control this behavior.\n",
      "  _warn_prf(average, modifier, msg_start, len(result))\n"
     ]
    },
    {
     "name": "stdout",
     "output_type": "stream",
     "text": [
      "Training Epoch 089: | Loss: 0.05673 | Acc: 99.667\n",
      "Validation Accuracy |  82.35294117647058  PPV |  [0.92857143 0.33333333]  Recall |  [0.86666667 0.5       ]\n",
      "Training Epoch 090: | Loss: 0.06146 | Acc: 97.778\n",
      "Validation Accuracy |  88.23529411764706  PPV |  [0.88235294 0.        ]  Recall |  [1. 0.]\n",
      "Training Epoch 091: | Loss: 0.04841 | Acc: 99.667\n",
      "Validation Accuracy |  88.23529411764706  PPV |  [0.93333333 0.5       ]  Recall |  [0.93333333 0.5       ]\n",
      "Training Epoch 092: | Loss: 0.04403 | Acc: 98.889\n",
      "Validation Accuracy |  82.35294117647058  PPV |  [0.875 0.   ]  Recall |  [0.93333333 0.        ]\n",
      "Training Epoch 093: | Loss: 0.06701 | Acc: 98.889\n",
      "Validation Accuracy |  88.23529411764706  PPV |  [0.93333333 0.5       ]  Recall |  [0.93333333 0.5       ]\n",
      "Training Epoch 094: | Loss: 0.04489 | Acc: 98.667\n",
      "Validation Accuracy |  88.23529411764706  PPV |  [0.93333333 0.5       ]  Recall |  [0.93333333 0.5       ]\n",
      "Training Epoch 095: | Loss: 0.03255 | Acc: 100.000\n",
      "Validation Accuracy |  88.23529411764706  PPV |  [0.88235294 0.        ]  Recall |  [1. 0.]\n",
      "Training Epoch 096: | Loss: 0.03821 | Acc: 99.667\n",
      "Validation Accuracy |  82.35294117647058  PPV |  "
     ]
    },
    {
     "name": "stderr",
     "output_type": "stream",
     "text": [
      "C:\\Users\\mattbeze\\Anaconda3\\envs\\pytorch\\lib\\site-packages\\sklearn\\metrics\\_classification.py:1245: UndefinedMetricWarning: Precision is ill-defined and being set to 0.0 in labels with no predicted samples. Use `zero_division` parameter to control this behavior.\n",
      "  _warn_prf(average, modifier, msg_start, len(result))\n",
      "C:\\Users\\mattbeze\\Anaconda3\\envs\\pytorch\\lib\\site-packages\\sklearn\\metrics\\_classification.py:1245: UndefinedMetricWarning: Precision is ill-defined and being set to 0.0 in labels with no predicted samples. Use `zero_division` parameter to control this behavior.\n",
      "  _warn_prf(average, modifier, msg_start, len(result))\n"
     ]
    },
    {
     "name": "stdout",
     "output_type": "stream",
     "text": [
      "[0.875 0.   ]  Recall |  [0.93333333 0.        ]\n",
      "Training Epoch 097: | Loss: 0.04418 | Acc: 99.000\n",
      "Validation Accuracy |  88.23529411764706  PPV |  [0.88235294 0.        ]  Recall |  [1. 0.]\n",
      "Training Epoch 098: | Loss: 0.03163 | Acc: 99.667\n",
      "Validation Accuracy |  88.23529411764706  PPV |  [0.88235294 0.        ]  Recall |  [1. 0.]\n",
      "Training Epoch 099: | Loss: 0.02837 | Acc: 100.000\n",
      "Validation Accuracy |  88.23529411764706  PPV |  [0.93333333 0.5       ]  Recall |  [0.93333333 0.5       ]\n",
      "Training Epoch 100: | Loss: 0.02948 | Acc: 99.667\n",
      "Validation Accuracy |  82.35294117647058  PPV |  [0.875 0.   ]  Recall |  [0.93333333 0.        ]\n"
     ]
    },
    {
     "name": "stderr",
     "output_type": "stream",
     "text": [
      "C:\\Users\\mattbeze\\Anaconda3\\envs\\pytorch\\lib\\site-packages\\sklearn\\metrics\\_classification.py:1245: UndefinedMetricWarning: Precision is ill-defined and being set to 0.0 in labels with no predicted samples. Use `zero_division` parameter to control this behavior.\n",
      "  _warn_prf(average, modifier, msg_start, len(result))\n"
     ]
    }
   ],
   "source": [
    "#model.train() tells PyTorch that you’re in training mode.\n",
    "#Similarly, we’ll call model.eval() when we test our model. We’ll see that below.\n",
    "'''If you’re using layers such as Dropout or BatchNorm which behave differently during training and evaluation, \n",
    "you need to tell PyTorch to act accordingly. While the default mode in PyTorch is the train, \n",
    "so, you don’t explicitly have to write that. But it’s good practice.'''\n",
    "val_acc4 = []\n",
    "train_acc4 = []\n",
    "train_loss4 = []\n",
    "val_loss4 = []\n",
    "\n",
    "model4.train() #Initial training mode\n",
    "for e in range(1, EPOCHS+1):\n",
    "    epoch_loss = 0\n",
    "    epoch_acc = 0\n",
    "    for X_batch, y_batch in train_loader4:\n",
    "        X_batch, y_batch = X_batch.to(device), y_batch.to(device)\n",
    "        optimizer4.zero_grad()\n",
    "        \n",
    "        y_pred = model4(X_batch)\n",
    "        \n",
    "        loss = criterion(y_pred, y_batch)\n",
    "        acc = binary_acc(y_pred, y_batch)\n",
    "        \n",
    "        loss.backward()\n",
    "        optimizer4.step()\n",
    "        \n",
    "        epoch_loss += loss.item()\n",
    "        epoch_acc += acc.item()\n",
    "    \n",
    "    train_acc4.append(epoch_acc/len(train_loader4))\n",
    "    train_loss4.append(epoch_loss/len(train_loader4))\n",
    "    print(f'Training Epoch {e+0:03}: | Loss: {epoch_loss/len(train_loader4):.5f} | Acc: {epoch_acc/len(train_loader4):.3f}')\n",
    "    #Validation metrics here\n",
    "    model4.eval()\n",
    "    #print(\"Evaluation mode\")\n",
    "    y_pred_list = []\n",
    "    test_loader4 = DataLoader(dataset=test_data4, batch_size=test_size1)\n",
    "    with torch.no_grad():\n",
    "        counter = 0\n",
    "        for X_batch in test_loader4:\n",
    "            X_batch = X_batch.to(device)\n",
    "            y_test_pred = model4(X_batch)\n",
    "            y_test_pred = torch.sigmoid(y_test_pred)\n",
    "            y_pred_tag = torch.round(y_test_pred)\n",
    "            y_pred_list.append(y_pred_tag.cpu().numpy())\n",
    "            loss = criterion(y_test_pred,torch.FloatTensor(testing_fold_Y_4))\n",
    "            val_loss4.append(loss)\n",
    "            counter+=1\n",
    "            \n",
    "    y_pred_list = []\n",
    "    test_loader4 = DataLoader(dataset=test_data4, batch_size=1)\n",
    "    with torch.no_grad():\n",
    "        for X_batch in test_loader4:\n",
    "            X_batch = X_batch.to(device)\n",
    "            y_test_pred = model4(X_batch)\n",
    "            y_test_pred = torch.sigmoid(y_test_pred)\n",
    "            y_pred_tag = torch.round(y_test_pred)\n",
    "            y_pred_list.append(y_pred_tag.cpu().numpy())\n",
    "            \n",
    "    y_pred_list = [a.squeeze().tolist() for a in y_pred_list]\n",
    "    y_loss_df = pd.DataFrame(y_pred_list)\n",
    "    accuracy = accuracy_score(torch.FloatTensor(testing_fold_Y_4), y_pred_list)\n",
    "    ppv = precision_score(testing_fold_Y_4, y_pred_list, average=None)\n",
    "    recall = recall_score(testing_fold_Y_4, y_pred_list, average=None)\n",
    "    print(\"Validation Accuracy | \",accuracy*100,\" PPV | \",ppv,\" Recall | \",recall)\n",
    "    val_acc4.append(accuracy*100)\n",
    "    model4.train()\n",
    "    #print(\"Return to training mode\")\n",
    "    \n",
    "    #Need to get validation loss."
   ]
  },
  {
   "cell_type": "code",
   "execution_count": 16,
   "id": "decimal-connection",
   "metadata": {},
   "outputs": [
    {
     "name": "stdout",
     "output_type": "stream",
     "text": [
      "Training Epoch 001: | Loss: 2.78272 | Acc: 55.667\n",
      "Validation Accuracy |  29.411764705882355  PPV |  [1.         0.14285714]  Recall |  [0.2 1. ]\n",
      "Training Epoch 002: | Loss: 1.59804 | Acc: 53.333\n",
      "Validation Accuracy |  64.70588235294117  PPV |  [0.90909091 0.16666667]  Recall |  [0.66666667 0.5       ]\n",
      "Training Epoch 003: | Loss: 1.39601 | Acc: 67.000\n",
      "Validation Accuracy |  58.82352941176471  PPV |  [0.9        0.14285714]  Recall |  [0.6 0.5]\n",
      "Training Epoch 004: | Loss: 1.27497 | Acc: 58.889\n",
      "Validation Accuracy |  41.17647058823529  PPV |  [1.         0.16666667]  Recall |  [0.33333333 1.        ]\n",
      "Training Epoch 005: | Loss: 1.15200 | Acc: 59.222\n",
      "Validation Accuracy |  52.94117647058824  PPV |  [0.88888889 0.125     ]  Recall |  [0.53333333 0.5       ]\n",
      "Training Epoch 006: | Loss: 1.09621 | Acc: 66.667\n",
      "Validation Accuracy |  52.94117647058824  PPV |  [0.81818182 0.        ]  Recall |  [0.6 0. ]\n",
      "Training Epoch 007: | Loss: 0.98944 | Acc: 67.000\n",
      "Validation Accuracy |  58.82352941176471  PPV |  [0.83333333 0.        ]  Recall |  [0.66666667 0.        ]\n",
      "Training Epoch 008: | Loss: 1.05209 | Acc: 69.333\n",
      "Validation Accuracy |  58.82352941176471  PPV |  [0.83333333 0.        ]  Recall |  [0.66666667 0.        ]\n",
      "Training Epoch 009: | Loss: 0.95096 | Acc: 65.111\n",
      "Validation Accuracy |  52.94117647058824  PPV |  [0.81818182 0.        ]  Recall |  [0.6 0. ]\n",
      "Training Epoch 010: | Loss: 0.81560 | Acc: 78.222\n",
      "Validation Accuracy |  58.82352941176471  PPV |  [0.83333333 0.        ]  Recall |  [0.66666667 0.        ]\n",
      "Training Epoch 011: | Loss: 0.84776 | Acc: 72.556\n",
      "Validation Accuracy |  58.82352941176471  PPV |  [0.83333333 0.        ]  Recall |  [0.66666667 0.        ]\n",
      "Training Epoch 012: | Loss: 0.75681 | Acc: 80.111\n",
      "Validation Accuracy |  58.82352941176471  PPV |  [0.83333333 0.        ]  Recall |  [0.66666667 0.        ]\n",
      "Training Epoch 013: | Loss: 0.67007 | Acc: 86.556\n",
      "Validation Accuracy |  58.82352941176471  PPV |  [0.83333333 0.        ]  Recall |  [0.66666667 0.        ]\n",
      "Training Epoch 014: | Loss: 0.69611 | Acc: 80.333\n",
      "Validation Accuracy |  64.70588235294117  PPV |  [0.84615385 0.        ]  Recall |  [0.73333333 0.        ]\n",
      "Training Epoch 015: | Loss: 0.60917 | Acc: 85.889\n",
      "Validation Accuracy |  64.70588235294117  PPV |  [0.84615385 0.        ]  Recall |  [0.73333333 0.        ]\n",
      "Training Epoch 016: | Loss: 0.56622 | Acc: 89.667\n",
      "Validation Accuracy |  64.70588235294117  PPV |  [0.84615385 0.        ]  Recall |  [0.73333333 0.        ]\n",
      "Training Epoch 017: | Loss: 0.50532 | Acc: 87.000\n",
      "Validation Accuracy |  64.70588235294117  PPV |  [0.84615385 0.        ]  Recall |  [0.73333333 0.        ]\n",
      "Training Epoch 018: | Loss: 0.49409 | Acc: 93.333\n",
      "Validation Accuracy |  64.70588235294117  PPV |  [0.84615385 0.        ]  Recall |  [0.73333333 0.        ]\n",
      "Training Epoch 019: | Loss: 0.46078 | Acc: 91.222\n",
      "Validation Accuracy |  64.70588235294117  PPV |  [0.84615385 0.        ]  Recall |  [0.73333333 0.        ]\n",
      "Training Epoch 020: | Loss: 0.39325 | Acc: 93.000\n",
      "Validation Accuracy |  64.70588235294117  PPV |  [0.84615385 0.        ]  Recall |  [0.73333333 0.        ]\n",
      "Training Epoch 021: | Loss: 0.35437 | Acc: 94.889\n",
      "Validation Accuracy |  64.70588235294117  PPV |  [0.84615385 0.        ]  Recall |  [0.73333333 0.        ]\n",
      "Training Epoch 022: | Loss: 0.43140 | Acc: 94.111\n",
      "Validation Accuracy |  64.70588235294117  PPV |  [0.84615385 0.        ]  Recall |  [0.73333333 0.        ]\n",
      "Training Epoch 023: | Loss: 0.36938 | Acc: 90.111\n",
      "Validation Accuracy |  64.70588235294117  PPV |  [0.84615385 0.        ]  Recall |  [0.73333333 0.        ]\n",
      "Training Epoch 024: | Loss: 0.35740 | Acc: 95.111\n",
      "Validation Accuracy |  64.70588235294117  PPV |  [0.84615385 0.        ]  Recall |  [0.73333333 0.        ]\n",
      "Training Epoch 025: | Loss: 0.29099 | Acc: 92.889\n",
      "Validation Accuracy |  64.70588235294117  PPV |  [0.84615385 0.        ]  Recall |  [0.73333333 0.        ]\n",
      "Training Epoch 026: | Loss: 0.27870 | Acc: 95.222\n",
      "Validation Accuracy |  64.70588235294117  PPV |  [0.84615385 0.        ]  Recall |  [0.73333333 0.        ]\n",
      "Training Epoch 027: | Loss: 0.24610 | Acc: 96.222\n",
      "Validation Accuracy |  64.70588235294117  PPV |  [0.84615385 0.        ]  Recall |  [0.73333333 0.        ]\n",
      "Training Epoch 028: | Loss: 0.26040 | Acc: 94.111\n",
      "Validation Accuracy |  64.70588235294117  PPV |  [0.84615385 0.        ]  Recall |  [0.73333333 0.        ]\n",
      "Training Epoch 029: | Loss: 0.24274 | Acc: 95.556\n",
      "Validation Accuracy |  64.70588235294117  PPV |  [0.84615385 0.        ]  Recall |  [0.73333333 0.        ]\n",
      "Training Epoch 030: | Loss: 0.19915 | Acc: 97.556\n",
      "Validation Accuracy |  70.58823529411765  PPV |  [0.85714286 0.        ]  Recall |  [0.8 0. ]\n",
      "Training Epoch 031: | Loss: 0.22505 | Acc: 94.889\n",
      "Validation Accuracy |  64.70588235294117  PPV |  [0.84615385 0.        ]  Recall |  [0.73333333 0.        ]\n",
      "Training Epoch 032: | Loss: 0.18327 | Acc: 98.667\n",
      "Validation Accuracy |  76.47058823529412  PPV |  [0.86666667 0.        ]  Recall |  [0.86666667 0.        ]\n",
      "Training Epoch 033: | Loss: 0.26256 | Acc: 95.222\n",
      "Validation Accuracy |  70.58823529411765  PPV |  [0.85714286 0.        ]  Recall |  [0.8 0. ]\n",
      "Training Epoch 034: | Loss: 0.19268 | Acc: 97.111\n",
      "Validation Accuracy |  76.47058823529412  PPV |  [0.86666667 0.        ]  Recall |  [0.86666667 0.        ]\n",
      "Training Epoch 035: | Loss: 0.17094 | Acc: 97.889\n",
      "Validation Accuracy |  70.58823529411765  PPV |  [0.85714286 0.        ]  Recall |  [0.8 0. ]\n",
      "Training Epoch 036: | Loss: 0.17764 | Acc: 96.000\n",
      "Validation Accuracy |  76.47058823529412  PPV |  [0.86666667 0.        ]  Recall |  [0.86666667 0.        ]\n",
      "Training Epoch 037: | Loss: 0.17528 | Acc: 97.222\n",
      "Validation Accuracy |  64.70588235294117  PPV |  [0.84615385 0.        ]  Recall |  [0.73333333 0.        ]\n",
      "Training Epoch 038: | Loss: 0.15776 | Acc: 99.000\n",
      "Validation Accuracy |  76.47058823529412  PPV |  [0.86666667 0.        ]  Recall |  [0.86666667 0.        ]\n",
      "Training Epoch 039: | Loss: 0.16064 | Acc: 97.778\n",
      "Validation Accuracy |  70.58823529411765  PPV |  [0.85714286 0.        ]  Recall |  [0.8 0. ]\n",
      "Training Epoch 040: | Loss: 0.17508 | Acc: 97.111\n",
      "Validation Accuracy |  64.70588235294117  PPV |  [0.84615385 0.        ]  Recall |  [0.73333333 0.        ]\n",
      "Training Epoch 041: | Loss: 0.14278 | Acc: 97.778\n",
      "Validation Accuracy |  64.70588235294117  PPV |  [0.84615385 0.        ]  Recall |  [0.73333333 0.        ]\n",
      "Training Epoch 042: | Loss: 0.10234 | Acc: 99.000\n",
      "Validation Accuracy |  64.70588235294117  PPV |  [0.84615385 0.        ]  Recall |  [0.73333333 0.        ]\n",
      "Training Epoch 043: | Loss: 0.13415 | Acc: 97.778\n",
      "Validation Accuracy |  64.70588235294117  PPV |  [0.84615385 0.        ]  Recall |  [0.73333333 0.        ]\n",
      "Training Epoch 044: | Loss: 0.14942 | Acc: 98.111\n",
      "Validation Accuracy |  76.47058823529412  PPV |  [0.86666667 0.        ]  Recall |  [0.86666667 0.        ]\n",
      "Training Epoch 045: | Loss: 0.13586 | Acc: 97.000\n",
      "Validation Accuracy |  64.70588235294117  PPV |  [0.84615385 0.        ]  Recall |  [0.73333333 0.        ]\n",
      "Training Epoch 046: | Loss: 0.11337 | Acc: 99.000\n",
      "Validation Accuracy |  70.58823529411765  PPV |  [0.85714286 0.        ]  Recall |  [0.8 0. ]\n",
      "Training Epoch 047: | Loss: 0.09483 | Acc: 99.222\n",
      "Validation Accuracy |  64.70588235294117  PPV |  [0.84615385 0.        ]  Recall |  [0.73333333 0.        ]\n",
      "Training Epoch 048: | Loss: 0.12422 | Acc: 97.000\n",
      "Validation Accuracy |  76.47058823529412  PPV |  [0.86666667 0.        ]  Recall |  [0.86666667 0.        ]\n",
      "Training Epoch 049: | Loss: 0.15116 | Acc: 98.556\n",
      "Validation Accuracy |  64.70588235294117  PPV |  [0.84615385 0.        ]  Recall |  [0.73333333 0.        ]\n",
      "Training Epoch 050: | Loss: 0.18480 | Acc: 92.889\n",
      "Validation Accuracy |  76.47058823529412  PPV |  [0.86666667 0.        ]  Recall |  [0.86666667 0.        ]\n",
      "Training Epoch 051: | Loss: 0.14349 | Acc: 99.333\n",
      "Validation Accuracy |  70.58823529411765  PPV |  [0.85714286 0.        ]  Recall |  [0.8 0. ]\n",
      "Training Epoch 052: | Loss: 0.13602 | Acc: 95.222\n",
      "Validation Accuracy |  70.58823529411765  PPV |  [0.85714286 0.        ]  Recall |  [0.8 0. ]\n",
      "Training Epoch 053: | Loss: 0.10294 | Acc: 99.333\n",
      "Validation Accuracy |  76.47058823529412  PPV |  [0.86666667 0.        ]  Recall |  [0.86666667 0.        ]\n",
      "Training Epoch 054: | Loss: 0.09097 | Acc: 98.222\n",
      "Validation Accuracy |  64.70588235294117  PPV |  [0.84615385 0.        ]  Recall |  [0.73333333 0.        ]\n"
     ]
    },
    {
     "name": "stdout",
     "output_type": "stream",
     "text": [
      "Training Epoch 055: | Loss: 0.08304 | Acc: 98.667\n",
      "Validation Accuracy |  64.70588235294117  PPV |  [0.84615385 0.        ]  Recall |  [0.73333333 0.        ]\n",
      "Training Epoch 056: | Loss: 0.07406 | Acc: 99.667\n",
      "Validation Accuracy |  64.70588235294117  PPV |  [0.84615385 0.        ]  Recall |  [0.73333333 0.        ]\n",
      "Training Epoch 057: | Loss: 0.08495 | Acc: 98.556\n",
      "Validation Accuracy |  64.70588235294117  PPV |  [0.84615385 0.        ]  Recall |  [0.73333333 0.        ]\n",
      "Training Epoch 058: | Loss: 0.09547 | Acc: 97.333\n",
      "Validation Accuracy |  70.58823529411765  PPV |  [0.85714286 0.        ]  Recall |  [0.8 0. ]\n",
      "Training Epoch 059: | Loss: 0.08154 | Acc: 98.556\n",
      "Validation Accuracy |  70.58823529411765  PPV |  [0.85714286 0.        ]  Recall |  [0.8 0. ]\n",
      "Training Epoch 060: | Loss: 0.07325 | Acc: 99.333\n",
      "Validation Accuracy |  64.70588235294117  PPV |  [0.84615385 0.        ]  Recall |  [0.73333333 0.        ]\n",
      "Training Epoch 061: | Loss: 0.08557 | Acc: 98.000\n",
      "Validation Accuracy |  70.58823529411765  PPV |  [0.85714286 0.        ]  Recall |  [0.8 0. ]\n",
      "Training Epoch 062: | Loss: 0.07868 | Acc: 99.667\n",
      "Validation Accuracy |  64.70588235294117  PPV |  [0.84615385 0.        ]  Recall |  [0.73333333 0.        ]\n",
      "Training Epoch 063: | Loss: 0.09216 | Acc: 97.333\n",
      "Validation Accuracy |  64.70588235294117  PPV |  [0.84615385 0.        ]  Recall |  [0.73333333 0.        ]\n",
      "Training Epoch 064: | Loss: 0.10564 | Acc: 98.444\n",
      "Validation Accuracy |  70.58823529411765  PPV |  [0.85714286 0.        ]  Recall |  [0.8 0. ]\n",
      "Training Epoch 065: | Loss: 0.07971 | Acc: 98.667\n",
      "Validation Accuracy |  70.58823529411765  PPV |  [0.85714286 0.        ]  Recall |  [0.8 0. ]\n",
      "Training Epoch 066: | Loss: 0.06893 | Acc: 99.000\n",
      "Validation Accuracy |  70.58823529411765  PPV |  [0.85714286 0.        ]  Recall |  [0.8 0. ]\n",
      "Training Epoch 067: | Loss: 0.07908 | Acc: 98.889\n",
      "Validation Accuracy |  70.58823529411765  PPV |  [0.85714286 0.        ]  Recall |  [0.8 0. ]\n",
      "Training Epoch 068: | Loss: 0.07661 | Acc: 99.222\n",
      "Validation Accuracy |  70.58823529411765  PPV |  [0.85714286 0.        ]  Recall |  [0.8 0. ]\n",
      "Training Epoch 069: | Loss: 0.05638 | Acc: 99.333\n",
      "Validation Accuracy |  70.58823529411765  PPV |  [0.85714286 0.        ]  Recall |  [0.8 0. ]\n",
      "Training Epoch 070: | Loss: 0.09638 | Acc: 98.222\n",
      "Validation Accuracy |  64.70588235294117  PPV |  [0.84615385 0.        ]  Recall |  [0.73333333 0.        ]\n",
      "Training Epoch 071: | Loss: 0.05095 | Acc: 99.333\n",
      "Validation Accuracy |  76.47058823529412  PPV |  [0.86666667 0.        ]  Recall |  [0.86666667 0.        ]\n",
      "Training Epoch 072: | Loss: 0.07653 | Acc: 99.667\n",
      "Validation Accuracy |  64.70588235294117  PPV |  [0.84615385 0.        ]  Recall |  [0.73333333 0.        ]\n",
      "Training Epoch 073: | Loss: 0.05850 | Acc: 98.556\n",
      "Validation Accuracy |  70.58823529411765  PPV |  [0.85714286 0.        ]  Recall |  [0.8 0. ]\n",
      "Training Epoch 074: | Loss: 0.08281 | Acc: 98.889\n",
      "Validation Accuracy |  64.70588235294117  PPV |  [0.84615385 0.        ]  Recall |  [0.73333333 0.        ]\n",
      "Training Epoch 075: | Loss: 0.06988 | Acc: 99.333\n",
      "Validation Accuracy |  70.58823529411765  PPV |  [0.85714286 0.        ]  Recall |  [0.8 0. ]\n",
      "Training Epoch 076: | Loss: 0.07590 | Acc: 99.000\n",
      "Validation Accuracy |  70.58823529411765  PPV |  [0.85714286 0.        ]  Recall |  [0.8 0. ]\n",
      "Training Epoch 077: | Loss: 0.06575 | Acc: 98.556\n",
      "Validation Accuracy |  70.58823529411765  PPV |  [0.85714286 0.        ]  Recall |  [0.8 0. ]\n",
      "Training Epoch 078: | Loss: 0.04400 | Acc: 99.667\n",
      "Validation Accuracy |  70.58823529411765  PPV |  [0.85714286 0.        ]  Recall |  [0.8 0. ]\n",
      "Training Epoch 079: | Loss: 0.05466 | Acc: 99.333\n",
      "Validation Accuracy |  70.58823529411765  PPV |  [0.85714286 0.        ]  Recall |  [0.8 0. ]\n",
      "Training Epoch 080: | Loss: 0.04862 | Acc: 98.889\n",
      "Validation Accuracy |  70.58823529411765  PPV |  [0.85714286 0.        ]  Recall |  [0.8 0. ]\n",
      "Training Epoch 081: | Loss: 0.03230 | Acc: 99.667\n",
      "Validation Accuracy |  70.58823529411765  PPV |  [0.85714286 0.        ]  Recall |  [0.8 0. ]\n",
      "Training Epoch 082: | Loss: 0.05049 | Acc: 99.333\n",
      "Validation Accuracy |  70.58823529411765  PPV |  [0.85714286 0.        ]  Recall |  [0.8 0. ]\n",
      "Training Epoch 083: | Loss: 0.03813 | Acc: 99.333\n",
      "Validation Accuracy |  70.58823529411765  PPV |  [0.85714286 0.        ]  Recall |  [0.8 0. ]\n",
      "Training Epoch 084: | Loss: 0.03533 | Acc: 99.667\n",
      "Validation Accuracy |  70.58823529411765  PPV |  [0.85714286 0.        ]  Recall |  [0.8 0. ]\n",
      "Training Epoch 085: | Loss: 0.04369 | Acc: 100.000\n",
      "Validation Accuracy |  70.58823529411765  PPV |  [0.85714286 0.        ]  Recall |  [0.8 0. ]\n",
      "Training Epoch 086: | Loss: 0.04594 | Acc: 99.667\n",
      "Validation Accuracy |  64.70588235294117  PPV |  [0.84615385 0.        ]  Recall |  [0.73333333 0.        ]\n",
      "Training Epoch 087: | Loss: 0.04349 | Acc: 99.667\n",
      "Validation Accuracy |  70.58823529411765  PPV |  [0.85714286 0.        ]  Recall |  [0.8 0. ]\n",
      "Training Epoch 088: | Loss: 0.04934 | Acc: 99.333\n",
      "Validation Accuracy |  64.70588235294117  PPV |  [0.84615385 0.        ]  Recall |  [0.73333333 0.        ]\n",
      "Training Epoch 089: | Loss: 0.03582 | Acc: 99.667\n",
      "Validation Accuracy |  70.58823529411765  PPV |  [0.85714286 0.        ]  Recall |  [0.8 0. ]\n",
      "Training Epoch 090: | Loss: 0.02279 | Acc: 99.667\n",
      "Validation Accuracy |  70.58823529411765  PPV |  [0.85714286 0.        ]  Recall |  [0.8 0. ]\n",
      "Training Epoch 091: | Loss: 0.04155 | Acc: 99.000\n",
      "Validation Accuracy |  70.58823529411765  PPV |  [0.85714286 0.        ]  Recall |  [0.8 0. ]\n",
      "Training Epoch 092: | Loss: 0.04314 | Acc: 99.667\n",
      "Validation Accuracy |  70.58823529411765  PPV |  [0.85714286 0.        ]  Recall |  [0.8 0. ]\n",
      "Training Epoch 093: | Loss: 0.03583 | Acc: 99.667\n",
      "Validation Accuracy |  64.70588235294117  PPV |  [0.84615385 0.        ]  Recall |  [0.73333333 0.        ]\n",
      "Training Epoch 094: | Loss: 0.03772 | Acc: 99.333\n",
      "Validation Accuracy |  64.70588235294117  PPV |  [0.84615385 0.        ]  Recall |  [0.73333333 0.        ]\n",
      "Training Epoch 095: | Loss: 0.04137 | Acc: 99.333\n",
      "Validation Accuracy |  70.58823529411765  PPV |  [0.85714286 0.        ]  Recall |  [0.8 0. ]\n",
      "Training Epoch 096: | Loss: 0.03544 | Acc: 99.667\n",
      "Validation Accuracy |  64.70588235294117  PPV |  [0.84615385 0.        ]  Recall |  [0.73333333 0.        ]\n",
      "Training Epoch 097: | Loss: 0.03015 | Acc: 99.667\n",
      "Validation Accuracy |  64.70588235294117  PPV |  [0.84615385 0.        ]  Recall |  [0.73333333 0.        ]\n",
      "Training Epoch 098: | Loss: 0.02855 | Acc: 99.667\n",
      "Validation Accuracy |  70.58823529411765  PPV |  [0.85714286 0.        ]  Recall |  [0.8 0. ]\n",
      "Training Epoch 099: | Loss: 0.04384 | Acc: 99.667\n",
      "Validation Accuracy |  70.58823529411765  PPV |  [0.85714286 0.        ]  Recall |  [0.8 0. ]\n",
      "Training Epoch 100: | Loss: 0.03793 | Acc: 99.222\n",
      "Validation Accuracy |  64.70588235294117  PPV |  [0.84615385 0.        ]  Recall |  [0.73333333 0.        ]\n"
     ]
    }
   ],
   "source": [
    "#model.train() tells PyTorch that you’re in training mode.\n",
    "#Similarly, we’ll call model.eval() when we test our model. We’ll see that below.\n",
    "'''If you’re using layers such as Dropout or BatchNorm which behave differently during training and evaluation, \n",
    "you need to tell PyTorch to act accordingly. While the default mode in PyTorch is the train, \n",
    "so, you don’t explicitly have to write that. But it’s good practice.'''\n",
    "val_acc5 = []\n",
    "train_acc5 = []\n",
    "train_loss5 = []\n",
    "val_loss5 = []\n",
    "\n",
    "model5.train() #Initial training mode\n",
    "for e in range(1, EPOCHS+1):\n",
    "    epoch_loss = 0\n",
    "    epoch_acc = 0\n",
    "    for X_batch, y_batch in train_loader5:\n",
    "        X_batch, y_batch = X_batch.to(device), y_batch.to(device)\n",
    "        optimizer5.zero_grad()\n",
    "        \n",
    "        y_pred = model5(X_batch)\n",
    "        \n",
    "        loss = criterion(y_pred, y_batch)\n",
    "        acc = binary_acc(y_pred, y_batch)\n",
    "        \n",
    "        loss.backward()\n",
    "        optimizer5.step()\n",
    "        \n",
    "        epoch_loss += loss.item()\n",
    "        epoch_acc += acc.item()\n",
    "    \n",
    "    train_acc5.append(epoch_acc/len(train_loader5))\n",
    "    train_loss5.append(epoch_loss/len(train_loader5))\n",
    "    print(f'Training Epoch {e+0:03}: | Loss: {epoch_loss/len(train_loader5):.5f} | Acc: {epoch_acc/len(train_loader5):.3f}')\n",
    "    #Validation metrics here\n",
    "    model5.eval()\n",
    "    #print(\"Evaluation mode\")\n",
    "    y_pred_list = []\n",
    "    test_loader5 = DataLoader(dataset=test_data5, batch_size=test_size1)\n",
    "    with torch.no_grad():\n",
    "        counter = 0\n",
    "        for X_batch in test_loader5:\n",
    "            X_batch = X_batch.to(device)\n",
    "            y_test_pred = model5(X_batch)\n",
    "            y_test_pred = torch.sigmoid(y_test_pred)\n",
    "            y_pred_tag = torch.round(y_test_pred)\n",
    "            y_pred_list.append(y_pred_tag.cpu().numpy())\n",
    "            loss = criterion(y_test_pred,torch.FloatTensor(testing_fold_Y_5))\n",
    "            val_loss5.append(loss)\n",
    "            counter+=1\n",
    "            \n",
    "    y_pred_list = []\n",
    "    test_loader5 = DataLoader(dataset=test_data5, batch_size=1)\n",
    "    with torch.no_grad():\n",
    "        for X_batch in test_loader5:\n",
    "            X_batch = X_batch.to(device)\n",
    "            y_test_pred = model5(X_batch)\n",
    "            y_test_pred = torch.sigmoid(y_test_pred)\n",
    "            y_pred_tag = torch.round(y_test_pred)\n",
    "            y_pred_list.append(y_pred_tag.cpu().numpy())\n",
    "            \n",
    "    y_pred_list = [a.squeeze().tolist() for a in y_pred_list]\n",
    "    y_loss_df = pd.DataFrame(y_pred_list)\n",
    "    accuracy = accuracy_score(torch.FloatTensor(testing_fold_Y_5), y_pred_list)\n",
    "    ppv = precision_score(testing_fold_Y_5, y_pred_list, average=None)\n",
    "    recall = recall_score(testing_fold_Y_5, y_pred_list, average=None)\n",
    "    print(\"Validation Accuracy | \",accuracy*100,\" PPV | \",ppv,\" Recall | \",recall)\n",
    "    val_acc5.append(accuracy*100)\n",
    "    model5.train()\n",
    "    #print(\"Return to training mode\")\n",
    "    \n",
    "    #Need to get validation loss."
   ]
  },
  {
   "cell_type": "code",
   "execution_count": 17,
   "id": "handed-congress",
   "metadata": {},
   "outputs": [
    {
     "name": "stdout",
     "output_type": "stream",
     "text": [
      "Training Epoch 001: | Loss: 3.23576 | Acc: 52.556\n",
      "Validation Accuracy |  17.647058823529413  PPV |  [1.    0.125]  Recall |  [0.06666667 1.        ]\n",
      "Training Epoch 002: | Loss: 1.69578 | Acc: 54.778\n",
      "Validation Accuracy |  52.94117647058824  PPV |  [1.  0.2]  Recall |  [0.46666667 1.        ]\n",
      "Training Epoch 003: | Loss: 1.53445 | Acc: 60.444\n",
      "Validation Accuracy |  35.294117647058826  PPV |  [1.         0.15384615]  Recall |  [0.26666667 1.        ]\n",
      "Training Epoch 004: | Loss: 1.36463 | Acc: 53.667\n",
      "Validation Accuracy |  35.294117647058826  PPV |  [1.         0.15384615]  Recall |  [0.26666667 1.        ]\n",
      "Training Epoch 005: | Loss: 1.17485 | Acc: 65.222\n",
      "Validation Accuracy |  47.05882352941176  PPV |  [1.         0.18181818]  Recall |  [0.4 1. ]\n",
      "Training Epoch 006: | Loss: 1.09284 | Acc: 64.444\n",
      "Validation Accuracy |  35.294117647058826  PPV |  [1.         0.15384615]  Recall |  [0.26666667 1.        ]\n",
      "Training Epoch 007: | Loss: 1.09028 | Acc: 64.556\n",
      "Validation Accuracy |  47.05882352941176  PPV |  [1.         0.18181818]  Recall |  [0.4 1. ]\n",
      "Training Epoch 008: | Loss: 1.02447 | Acc: 67.333\n",
      "Validation Accuracy |  47.05882352941176  PPV |  [1.         0.18181818]  Recall |  [0.4 1. ]\n",
      "Training Epoch 009: | Loss: 1.01927 | Acc: 68.000\n",
      "Validation Accuracy |  47.05882352941176  PPV |  [1.         0.18181818]  Recall |  [0.4 1. ]\n",
      "Training Epoch 010: | Loss: 0.97983 | Acc: 68.222\n",
      "Validation Accuracy |  47.05882352941176  PPV |  [1.         0.18181818]  Recall |  [0.4 1. ]\n",
      "Training Epoch 011: | Loss: 0.94091 | Acc: 73.000\n",
      "Validation Accuracy |  47.05882352941176  PPV |  [1.         0.18181818]  Recall |  [0.4 1. ]\n",
      "Training Epoch 012: | Loss: 0.90365 | Acc: 67.778\n",
      "Validation Accuracy |  47.05882352941176  PPV |  [1.         0.18181818]  Recall |  [0.4 1. ]\n",
      "Training Epoch 013: | Loss: 0.91530 | Acc: 81.000\n",
      "Validation Accuracy |  52.94117647058824  PPV |  [1.  0.2]  Recall |  [0.46666667 1.        ]\n",
      "Training Epoch 014: | Loss: 0.89063 | Acc: 64.111\n",
      "Validation Accuracy |  41.17647058823529  PPV |  [1.         0.16666667]  Recall |  [0.33333333 1.        ]\n",
      "Training Epoch 015: | Loss: 0.82462 | Acc: 79.000\n",
      "Validation Accuracy |  70.58823529411765  PPV |  [1.         0.28571429]  Recall |  [0.66666667 1.        ]\n",
      "Training Epoch 016: | Loss: 0.75094 | Acc: 76.444\n",
      "Validation Accuracy |  47.05882352941176  PPV |  [1.         0.18181818]  Recall |  [0.4 1. ]\n",
      "Training Epoch 017: | Loss: 0.68421 | Acc: 79.000\n",
      "Validation Accuracy |  70.58823529411765  PPV |  [1.         0.28571429]  Recall |  [0.66666667 1.        ]\n",
      "Training Epoch 018: | Loss: 0.62857 | Acc: 86.667\n",
      "Validation Accuracy |  70.58823529411765  PPV |  [1.         0.28571429]  Recall |  [0.66666667 1.        ]\n",
      "Training Epoch 019: | Loss: 0.64890 | Acc: 81.889\n",
      "Validation Accuracy |  70.58823529411765  PPV |  [1.         0.28571429]  Recall |  [0.66666667 1.        ]\n",
      "Training Epoch 020: | Loss: 0.53384 | Acc: 87.111\n",
      "Validation Accuracy |  76.47058823529412  PPV |  [1.         0.33333333]  Recall |  [0.73333333 1.        ]\n",
      "Training Epoch 021: | Loss: 0.59047 | Acc: 84.444\n",
      "Validation Accuracy |  70.58823529411765  PPV |  [1.         0.28571429]  Recall |  [0.66666667 1.        ]\n",
      "Training Epoch 022: | Loss: 0.52543 | Acc: 90.778\n",
      "Validation Accuracy |  70.58823529411765  PPV |  [1.         0.28571429]  Recall |  [0.66666667 1.        ]\n",
      "Training Epoch 023: | Loss: 0.51538 | Acc: 86.333\n",
      "Validation Accuracy |  70.58823529411765  PPV |  [1.         0.28571429]  Recall |  [0.66666667 1.        ]\n",
      "Training Epoch 024: | Loss: 0.50942 | Acc: 90.444\n",
      "Validation Accuracy |  70.58823529411765  PPV |  [1.         0.28571429]  Recall |  [0.66666667 1.        ]\n",
      "Training Epoch 025: | Loss: 0.43933 | Acc: 90.222\n",
      "Validation Accuracy |  70.58823529411765  PPV |  [1.         0.28571429]  Recall |  [0.66666667 1.        ]\n",
      "Training Epoch 026: | Loss: 0.47022 | Acc: 91.556\n",
      "Validation Accuracy |  82.35294117647058  PPV |  [1.  0.4]  Recall |  [0.8 1. ]\n",
      "Training Epoch 027: | Loss: 0.37134 | Acc: 91.444\n",
      "Validation Accuracy |  64.70588235294117  PPV |  [0.90909091 0.16666667]  Recall |  [0.66666667 0.5       ]\n",
      "Training Epoch 028: | Loss: 0.38749 | Acc: 91.111\n",
      "Validation Accuracy |  76.47058823529412  PPV |  [0.92307692 0.25      ]  Recall |  [0.8 0.5]\n",
      "Training Epoch 029: | Loss: 0.33447 | Acc: 94.222\n",
      "Validation Accuracy |  76.47058823529412  PPV |  [0.92307692 0.25      ]  Recall |  [0.8 0.5]\n",
      "Training Epoch 030: | Loss: 0.33691 | Acc: 93.222\n",
      "Validation Accuracy |  70.58823529411765  PPV |  [0.91666667 0.2       ]  Recall |  [0.73333333 0.5       ]\n",
      "Training Epoch 031: | Loss: 0.37615 | Acc: 92.778\n",
      "Validation Accuracy |  76.47058823529412  PPV |  [0.86666667 0.        ]  Recall |  [0.86666667 0.        ]\n",
      "Training Epoch 032: | Loss: 0.33580 | Acc: 88.778\n",
      "Validation Accuracy |  76.47058823529412  PPV |  [0.92307692 0.25      ]  Recall |  [0.8 0.5]\n",
      "Training Epoch 033: | Loss: 0.28604 | Acc: 96.444\n",
      "Validation Accuracy |  82.35294117647058  PPV |  [0.92857143 0.33333333]  Recall |  [0.86666667 0.5       ]\n",
      "Training Epoch 034: | Loss: 0.29603 | Acc: 92.444\n",
      "Validation Accuracy |  76.47058823529412  PPV |  [0.92307692 0.25      ]  Recall |  [0.8 0.5]\n",
      "Training Epoch 035: | Loss: 0.26173 | Acc: 93.778\n",
      "Validation Accuracy |  76.47058823529412  PPV |  [0.86666667 0.        ]  Recall |  [0.86666667 0.        ]\n",
      "Training Epoch 036: | Loss: 0.26730 | Acc: 94.222\n",
      "Validation Accuracy |  76.47058823529412  PPV |  [0.92307692 0.25      ]  Recall |  [0.8 0.5]\n",
      "Training Epoch 037: | Loss: 0.23028 | Acc: 94.778\n",
      "Validation Accuracy |  76.47058823529412  PPV |  [0.86666667 0.        ]  Recall |  [0.86666667 0.        ]\n",
      "Training Epoch 038: | Loss: 0.21559 | Acc: 95.556\n",
      "Validation Accuracy |  76.47058823529412  PPV |  [0.86666667 0.        ]  Recall |  [0.86666667 0.        ]\n",
      "Training Epoch 039: | Loss: 0.21724 | Acc: 97.444\n",
      "Validation Accuracy |  76.47058823529412  PPV |  [0.92307692 0.25      ]  Recall |  [0.8 0.5]\n",
      "Training Epoch 040: | Loss: 0.20036 | Acc: 97.222\n",
      "Validation Accuracy |  76.47058823529412  PPV |  [0.86666667 0.        ]  Recall |  [0.86666667 0.        ]\n",
      "Training Epoch 041: | Loss: 0.22171 | Acc: 96.333\n",
      "Validation Accuracy |  76.47058823529412  PPV |  [0.86666667 0.        ]  Recall |  [0.86666667 0.        ]\n",
      "Training Epoch 042: | Loss: 0.17953 | Acc: 95.111\n",
      "Validation Accuracy |  76.47058823529412  PPV |  [0.86666667 0.        ]  Recall |  [0.86666667 0.        ]\n",
      "Training Epoch 043: | Loss: 0.19837 | Acc: 96.333\n",
      "Validation Accuracy |  70.58823529411765  PPV |  [0.85714286 0.        ]  Recall |  [0.8 0. ]\n",
      "Training Epoch 044: | Loss: 0.18361 | Acc: 95.111\n",
      "Validation Accuracy |  70.58823529411765  PPV |  [0.85714286 0.        ]  Recall |  [0.8 0. ]\n",
      "Training Epoch 045: | Loss: 0.19249 | Acc: 96.222\n",
      "Validation Accuracy |  76.47058823529412  PPV |  [0.86666667 0.        ]  Recall |  [0.86666667 0.        ]\n",
      "Training Epoch 046: | Loss: 0.17421 | Acc: 97.222\n",
      "Validation Accuracy |  70.58823529411765  PPV |  [0.85714286 0.        ]  Recall |  [0.8 0. ]\n",
      "Training Epoch 047: | Loss: 0.17453 | Acc: 96.778\n",
      "Validation Accuracy |  76.47058823529412  PPV |  [0.86666667 0.        ]  Recall |  [0.86666667 0.        ]\n",
      "Training Epoch 048: | Loss: 0.12790 | Acc: 97.556\n",
      "Validation Accuracy |  76.47058823529412  PPV |  [0.86666667 0.        ]  Recall |  [0.86666667 0.        ]\n",
      "Training Epoch 049: | Loss: 0.14344 | Acc: 96.333\n",
      "Validation Accuracy |  76.47058823529412  PPV |  [0.86666667 0.        ]  Recall |  [0.86666667 0.        ]\n",
      "Training Epoch 050: | Loss: 0.20570 | Acc: 95.556\n",
      "Validation Accuracy |  76.47058823529412  PPV |  [0.86666667 0.        ]  Recall |  [0.86666667 0.        ]\n",
      "Training Epoch 051: | Loss: 0.15795 | Acc: 96.111\n",
      "Validation Accuracy |  76.47058823529412  PPV |  [0.86666667 0.        ]  Recall |  [0.86666667 0.        ]\n",
      "Training Epoch 052: | Loss: 0.17197 | Acc: 96.000\n",
      "Validation Accuracy |  76.47058823529412  PPV |  [0.86666667 0.        ]  Recall |  [0.86666667 0.        ]\n",
      "Training Epoch 053: | Loss: 0.16801 | Acc: 97.111\n",
      "Validation Accuracy |  76.47058823529412  PPV |  [0.86666667 0.        ]  Recall |  [0.86666667 0.        ]\n",
      "Training Epoch 054: | Loss: 0.15161 | Acc: 95.222\n",
      "Validation Accuracy |  76.47058823529412  PPV |  [0.86666667 0.        ]  Recall |  [0.86666667 0.        ]\n"
     ]
    },
    {
     "name": "stdout",
     "output_type": "stream",
     "text": [
      "Training Epoch 055: | Loss: 0.11516 | Acc: 98.222\n",
      "Validation Accuracy |  76.47058823529412  PPV |  [0.86666667 0.        ]  Recall |  [0.86666667 0.        ]\n",
      "Training Epoch 056: | Loss: 0.10884 | Acc: 98.556\n",
      "Validation Accuracy |  70.58823529411765  PPV |  [0.85714286 0.        ]  Recall |  [0.8 0. ]\n",
      "Training Epoch 057: | Loss: 0.12458 | Acc: 96.667\n"
     ]
    },
    {
     "name": "stderr",
     "output_type": "stream",
     "text": [
      "C:\\Users\\mattbeze\\Anaconda3\\envs\\pytorch\\lib\\site-packages\\sklearn\\metrics\\_classification.py:1245: UndefinedMetricWarning: Precision is ill-defined and being set to 0.0 in labels with no predicted samples. Use `zero_division` parameter to control this behavior.\n",
      "  _warn_prf(average, modifier, msg_start, len(result))\n"
     ]
    },
    {
     "name": "stdout",
     "output_type": "stream",
     "text": [
      "Validation Accuracy |  88.23529411764706  PPV |  [0.88235294 0.        ]  Recall |  [1. 0.]\n",
      "Training Epoch 058: | Loss: 0.10016 | Acc: 98.667\n",
      "Validation Accuracy |  76.47058823529412  PPV |  [0.86666667 0.        ]  Recall |  [0.86666667 0.        ]\n",
      "Training Epoch 059: | Loss: 0.12392 | Acc: 97.000\n",
      "Validation Accuracy |  76.47058823529412  PPV |  [0.86666667 0.        ]  Recall |  [0.86666667 0.        ]\n",
      "Training Epoch 060: | Loss: 0.10591 | Acc: 99.000\n",
      "Validation Accuracy |  76.47058823529412  PPV |  [0.86666667 0.        ]  Recall |  [0.86666667 0.        ]\n",
      "Training Epoch 061: | Loss: 0.09237 | Acc: 98.556\n",
      "Validation Accuracy |  76.47058823529412  PPV |  [0.86666667 0.        ]  Recall |  [0.86666667 0.        ]\n",
      "Training Epoch 062: | Loss: 0.11811 | Acc: 96.778\n",
      "Validation Accuracy |  76.47058823529412  PPV |  [0.86666667 0.        ]  Recall |  [0.86666667 0.        ]\n",
      "Training Epoch 063: | Loss: 0.11583 | Acc: 96.778\n",
      "Validation Accuracy |  76.47058823529412  PPV |  [0.86666667 0.        ]  Recall |  [0.86666667 0.        ]\n",
      "Training Epoch 064: | Loss: 0.09076 | Acc: 98.556\n",
      "Validation Accuracy |  88.23529411764706  PPV |  [0.88235294 0.        ]  Recall |  [1. 0.]\n",
      "Training Epoch 065: | Loss: 0.09116 | Acc: 98.556"
     ]
    },
    {
     "name": "stderr",
     "output_type": "stream",
     "text": [
      "C:\\Users\\mattbeze\\Anaconda3\\envs\\pytorch\\lib\\site-packages\\sklearn\\metrics\\_classification.py:1245: UndefinedMetricWarning: Precision is ill-defined and being set to 0.0 in labels with no predicted samples. Use `zero_division` parameter to control this behavior.\n",
      "  _warn_prf(average, modifier, msg_start, len(result))\n"
     ]
    },
    {
     "name": "stdout",
     "output_type": "stream",
     "text": [
      "\n",
      "Validation Accuracy |  76.47058823529412  PPV |  [0.86666667 0.        ]  Recall |  [0.86666667 0.        ]\n",
      "Training Epoch 066: | Loss: 0.09200 | Acc: 97.444\n",
      "Validation Accuracy |  82.35294117647058  PPV |  [0.875 0.   ]  Recall |  [0.93333333 0.        ]\n",
      "Training Epoch 067: | Loss: 0.11767 | Acc: 98.556\n",
      "Validation Accuracy |  88.23529411764706  PPV |  [0.88235294 0.        ]  Recall |  [1. 0.]\n"
     ]
    },
    {
     "name": "stderr",
     "output_type": "stream",
     "text": [
      "C:\\Users\\mattbeze\\Anaconda3\\envs\\pytorch\\lib\\site-packages\\sklearn\\metrics\\_classification.py:1245: UndefinedMetricWarning: Precision is ill-defined and being set to 0.0 in labels with no predicted samples. Use `zero_division` parameter to control this behavior.\n",
      "  _warn_prf(average, modifier, msg_start, len(result))\n",
      "C:\\Users\\mattbeze\\Anaconda3\\envs\\pytorch\\lib\\site-packages\\sklearn\\metrics\\_classification.py:1245: UndefinedMetricWarning: Precision is ill-defined and being set to 0.0 in labels with no predicted samples. Use `zero_division` parameter to control this behavior.\n",
      "  _warn_prf(average, modifier, msg_start, len(result))\n"
     ]
    },
    {
     "name": "stdout",
     "output_type": "stream",
     "text": [
      "Training Epoch 068: | Loss: 0.11764 | Acc: 96.333\n",
      "Validation Accuracy |  82.35294117647058  PPV |  [0.875 0.   ]  Recall |  [0.93333333 0.        ]\n",
      "Training Epoch 069: | Loss: 0.08889 | Acc: 98.667\n",
      "Validation Accuracy |  88.23529411764706  PPV |  [0.88235294 0.        ]  Recall |  [1. 0.]\n",
      "Training Epoch 070: | Loss: 0.06915 | Acc: 98.333\n",
      "Validation Accuracy |  70.58823529411765  PPV |  [0.85714286 0.        ]  Recall |  [0.8 0. ]\n",
      "Training Epoch 071: | Loss: 0.07165 | Acc: 98.556\n",
      "Validation Accuracy |  88.23529411764706  PPV |  [0.88235294 0.        ]  Recall |  [1. 0.]\n",
      "Training Epoch 072: | Loss: 0.06259 | Acc: 99.333"
     ]
    },
    {
     "name": "stderr",
     "output_type": "stream",
     "text": [
      "C:\\Users\\mattbeze\\Anaconda3\\envs\\pytorch\\lib\\site-packages\\sklearn\\metrics\\_classification.py:1245: UndefinedMetricWarning: Precision is ill-defined and being set to 0.0 in labels with no predicted samples. Use `zero_division` parameter to control this behavior.\n",
      "  _warn_prf(average, modifier, msg_start, len(result))\n",
      "C:\\Users\\mattbeze\\Anaconda3\\envs\\pytorch\\lib\\site-packages\\sklearn\\metrics\\_classification.py:1245: UndefinedMetricWarning: Precision is ill-defined and being set to 0.0 in labels with no predicted samples. Use `zero_division` parameter to control this behavior.\n",
      "  _warn_prf(average, modifier, msg_start, len(result))\n"
     ]
    },
    {
     "name": "stdout",
     "output_type": "stream",
     "text": [
      "\n",
      "Validation Accuracy |  76.47058823529412  PPV |  [0.86666667 0.        ]  Recall |  [0.86666667 0.        ]\n",
      "Training Epoch 073: | Loss: 0.04458 | Acc: 99.333\n",
      "Validation Accuracy |  88.23529411764706  PPV |  [0.88235294 0.        ]  Recall |  [1. 0.]\n",
      "Training Epoch 074: | Loss: 0.06380 | Acc: 99.333\n"
     ]
    },
    {
     "name": "stderr",
     "output_type": "stream",
     "text": [
      "C:\\Users\\mattbeze\\Anaconda3\\envs\\pytorch\\lib\\site-packages\\sklearn\\metrics\\_classification.py:1245: UndefinedMetricWarning: Precision is ill-defined and being set to 0.0 in labels with no predicted samples. Use `zero_division` parameter to control this behavior.\n",
      "  _warn_prf(average, modifier, msg_start, len(result))\n"
     ]
    },
    {
     "name": "stdout",
     "output_type": "stream",
     "text": [
      "Validation Accuracy |  88.23529411764706  PPV |  [0.88235294 0.        ]  Recall |  [1. 0.]\n",
      "Training Epoch 075: | Loss: 0.05190 | Acc: 99.333\n",
      "Validation Accuracy |  82.35294117647058  PPV |  [0.875 0.   ]  Recall |  [0.93333333 0.        ]\n",
      "Training Epoch 076: | Loss: 0.09999 | Acc: 98.667\n",
      "Validation Accuracy |  82.35294117647058  PPV |  [0.875 0.   ]  Recall |  [0.93333333 0.        ]\n",
      "Training Epoch 077: | Loss: 0.05298 | Acc: 99.333\n",
      "Validation Accuracy |  88.23529411764706  PPV |  [0.88235294 0.        ]  Recall |  [1. 0.]\n",
      "Training Epoch 078: | Loss: 0.06419 | Acc: 99.000\n",
      "Validation Accuracy |  88.23529411764706  PPV |  [0.88235294 0.        ]  Recall |  [1. 0.]\n",
      "Training Epoch 079: | Loss: 0.07427 | Acc: 98.222\n",
      "Validation Accuracy |  82.35294117647058  PPV |  [0.875 0.   ]  Recall |  [0.93333333 0.        ]\n"
     ]
    },
    {
     "name": "stderr",
     "output_type": "stream",
     "text": [
      "C:\\Users\\mattbeze\\Anaconda3\\envs\\pytorch\\lib\\site-packages\\sklearn\\metrics\\_classification.py:1245: UndefinedMetricWarning: Precision is ill-defined and being set to 0.0 in labels with no predicted samples. Use `zero_division` parameter to control this behavior.\n",
      "  _warn_prf(average, modifier, msg_start, len(result))\n",
      "C:\\Users\\mattbeze\\Anaconda3\\envs\\pytorch\\lib\\site-packages\\sklearn\\metrics\\_classification.py:1245: UndefinedMetricWarning: Precision is ill-defined and being set to 0.0 in labels with no predicted samples. Use `zero_division` parameter to control this behavior.\n",
      "  _warn_prf(average, modifier, msg_start, len(result))\n"
     ]
    },
    {
     "name": "stdout",
     "output_type": "stream",
     "text": [
      "Training Epoch 080: | Loss: 0.05359 | Acc: 99.333\n",
      "Validation Accuracy |  88.23529411764706  PPV |  [0.88235294 0.        ]  Recall |  [1. 0.]\n",
      "Training Epoch 081: | Loss: 0.06746 | Acc: 98.444\n",
      "Validation Accuracy |  88.23529411764706  PPV |  [0.88235294 0.        ]  Recall |  [1. 0.]\n",
      "Training Epoch 082: | Loss: 0.05386 | Acc: 99.000\n",
      "Validation Accuracy |  88.23529411764706  PPV |  [0.88235294 0.        ]  Recall |  [1. 0.]\n"
     ]
    },
    {
     "name": "stderr",
     "output_type": "stream",
     "text": [
      "C:\\Users\\mattbeze\\Anaconda3\\envs\\pytorch\\lib\\site-packages\\sklearn\\metrics\\_classification.py:1245: UndefinedMetricWarning: Precision is ill-defined and being set to 0.0 in labels with no predicted samples. Use `zero_division` parameter to control this behavior.\n",
      "  _warn_prf(average, modifier, msg_start, len(result))\n",
      "C:\\Users\\mattbeze\\Anaconda3\\envs\\pytorch\\lib\\site-packages\\sklearn\\metrics\\_classification.py:1245: UndefinedMetricWarning: Precision is ill-defined and being set to 0.0 in labels with no predicted samples. Use `zero_division` parameter to control this behavior.\n",
      "  _warn_prf(average, modifier, msg_start, len(result))\n",
      "C:\\Users\\mattbeze\\Anaconda3\\envs\\pytorch\\lib\\site-packages\\sklearn\\metrics\\_classification.py:1245: UndefinedMetricWarning: Precision is ill-defined and being set to 0.0 in labels with no predicted samples. Use `zero_division` parameter to control this behavior.\n",
      "  _warn_prf(average, modifier, msg_start, len(result))\n"
     ]
    },
    {
     "name": "stdout",
     "output_type": "stream",
     "text": [
      "Training Epoch 083: | Loss: 0.04931 | Acc: 99.000\n",
      "Validation Accuracy |  88.23529411764706  PPV |  [0.88235294 0.        ]  Recall |  [1. 0.]\n",
      "Training Epoch 084: | Loss: 0.05345 | Acc: 99.667\n",
      "Validation Accuracy |  88.23529411764706  PPV |  [0.88235294 0.        ]  Recall |  [1. 0.]\n",
      "Training Epoch 085: | Loss: 0.03839 | Acc: 99.667\n",
      "Validation Accuracy |  88.23529411764706  PPV |  [0.88235294 0.        ]  Recall |  [1. 0.]\n"
     ]
    },
    {
     "name": "stderr",
     "output_type": "stream",
     "text": [
      "C:\\Users\\mattbeze\\Anaconda3\\envs\\pytorch\\lib\\site-packages\\sklearn\\metrics\\_classification.py:1245: UndefinedMetricWarning: Precision is ill-defined and being set to 0.0 in labels with no predicted samples. Use `zero_division` parameter to control this behavior.\n",
      "  _warn_prf(average, modifier, msg_start, len(result))\n",
      "C:\\Users\\mattbeze\\Anaconda3\\envs\\pytorch\\lib\\site-packages\\sklearn\\metrics\\_classification.py:1245: UndefinedMetricWarning: Precision is ill-defined and being set to 0.0 in labels with no predicted samples. Use `zero_division` parameter to control this behavior.\n",
      "  _warn_prf(average, modifier, msg_start, len(result))\n",
      "C:\\Users\\mattbeze\\Anaconda3\\envs\\pytorch\\lib\\site-packages\\sklearn\\metrics\\_classification.py:1245: UndefinedMetricWarning: Precision is ill-defined and being set to 0.0 in labels with no predicted samples. Use `zero_division` parameter to control this behavior.\n",
      "  _warn_prf(average, modifier, msg_start, len(result))\n"
     ]
    },
    {
     "name": "stdout",
     "output_type": "stream",
     "text": [
      "Training Epoch 086: | Loss: 0.05998 | Acc: 99.333\n",
      "Validation Accuracy |  88.23529411764706  PPV |  [0.88235294 0.        ]  Recall |  [1. 0.]\n",
      "Training Epoch 087: | Loss: 0.04235 | Acc: 99.667\n",
      "Validation Accuracy |  88.23529411764706  PPV |  [0.88235294 0.        ]  Recall |  [1. 0.]\n",
      "Training Epoch 088: | Loss: 0.03712 | Acc: 99.222\n"
     ]
    },
    {
     "name": "stderr",
     "output_type": "stream",
     "text": [
      "C:\\Users\\mattbeze\\Anaconda3\\envs\\pytorch\\lib\\site-packages\\sklearn\\metrics\\_classification.py:1245: UndefinedMetricWarning: Precision is ill-defined and being set to 0.0 in labels with no predicted samples. Use `zero_division` parameter to control this behavior.\n",
      "  _warn_prf(average, modifier, msg_start, len(result))\n",
      "C:\\Users\\mattbeze\\Anaconda3\\envs\\pytorch\\lib\\site-packages\\sklearn\\metrics\\_classification.py:1245: UndefinedMetricWarning: Precision is ill-defined and being set to 0.0 in labels with no predicted samples. Use `zero_division` parameter to control this behavior.\n",
      "  _warn_prf(average, modifier, msg_start, len(result))\n",
      "C:\\Users\\mattbeze\\Anaconda3\\envs\\pytorch\\lib\\site-packages\\sklearn\\metrics\\_classification.py:1245: UndefinedMetricWarning: Precision is ill-defined and being set to 0.0 in labels with no predicted samples. Use `zero_division` parameter to control this behavior.\n",
      "  _warn_prf(average, modifier, msg_start, len(result))\n"
     ]
    },
    {
     "name": "stdout",
     "output_type": "stream",
     "text": [
      "Validation Accuracy |  88.23529411764706  PPV |  [0.88235294 0.        ]  Recall |  [1. 0.]\n",
      "Training Epoch 089: | Loss: 0.07384 | Acc: 98.889\n",
      "Validation Accuracy |  82.35294117647058  PPV |  [0.875 0.   ]  Recall |  [0.93333333 0.        ]\n",
      "Training Epoch 090: | Loss: 0.09210 | Acc: 97.111\n",
      "Validation Accuracy |  76.47058823529412  PPV |  [0.86666667 0.        ]  Recall |  [0.86666667 0.        ]\n",
      "Training Epoch 091: | Loss: 0.07675 | Acc: 98.889\n",
      "Validation Accuracy |  88.23529411764706  PPV |  [0.88235294 0.        ]  Recall |  [1. 0.]\n",
      "Training Epoch 092: | Loss: 0.07049 | Acc: 98.889\n",
      "Validation Accuracy |  70.58823529411765  PPV |  [0.85714286 0.        ]  Recall |  [0.8 0. ]\n"
     ]
    },
    {
     "name": "stderr",
     "output_type": "stream",
     "text": [
      "C:\\Users\\mattbeze\\Anaconda3\\envs\\pytorch\\lib\\site-packages\\sklearn\\metrics\\_classification.py:1245: UndefinedMetricWarning: Precision is ill-defined and being set to 0.0 in labels with no predicted samples. Use `zero_division` parameter to control this behavior.\n",
      "  _warn_prf(average, modifier, msg_start, len(result))\n",
      "C:\\Users\\mattbeze\\Anaconda3\\envs\\pytorch\\lib\\site-packages\\sklearn\\metrics\\_classification.py:1245: UndefinedMetricWarning: Precision is ill-defined and being set to 0.0 in labels with no predicted samples. Use `zero_division` parameter to control this behavior.\n",
      "  _warn_prf(average, modifier, msg_start, len(result))\n"
     ]
    },
    {
     "name": "stdout",
     "output_type": "stream",
     "text": [
      "Training Epoch 093: | Loss: 0.05050 | Acc: 99.333\n",
      "Validation Accuracy |  88.23529411764706  PPV |  [0.88235294 0.        ]  Recall |  [1. 0.]\n",
      "Training Epoch 094: | Loss: 0.03767 | Acc: 100.000\n",
      "Validation Accuracy |  88.23529411764706  PPV |  [0.88235294 0.        ]  Recall |  [1. 0.]\n",
      "Training Epoch 095: | Loss: 0.05991 | Acc: 99.333\n"
     ]
    },
    {
     "name": "stderr",
     "output_type": "stream",
     "text": [
      "C:\\Users\\mattbeze\\Anaconda3\\envs\\pytorch\\lib\\site-packages\\sklearn\\metrics\\_classification.py:1245: UndefinedMetricWarning: Precision is ill-defined and being set to 0.0 in labels with no predicted samples. Use `zero_division` parameter to control this behavior.\n",
      "  _warn_prf(average, modifier, msg_start, len(result))\n",
      "C:\\Users\\mattbeze\\Anaconda3\\envs\\pytorch\\lib\\site-packages\\sklearn\\metrics\\_classification.py:1245: UndefinedMetricWarning: Precision is ill-defined and being set to 0.0 in labels with no predicted samples. Use `zero_division` parameter to control this behavior.\n",
      "  _warn_prf(average, modifier, msg_start, len(result))\n",
      "C:\\Users\\mattbeze\\Anaconda3\\envs\\pytorch\\lib\\site-packages\\sklearn\\metrics\\_classification.py:1245: UndefinedMetricWarning: Precision is ill-defined and being set to 0.0 in labels with no predicted samples. Use `zero_division` parameter to control this behavior.\n",
      "  _warn_prf(average, modifier, msg_start, len(result))\n"
     ]
    },
    {
     "name": "stdout",
     "output_type": "stream",
     "text": [
      "Validation Accuracy |  88.23529411764706  PPV |  [0.88235294 0.        ]  Recall |  [1. 0.]\n",
      "Training Epoch 096: | Loss: 0.03962 | Acc: 99.667\n",
      "Validation Accuracy |  88.23529411764706  PPV |  [0.88235294 0.        ]  Recall |  [1. 0.]\n",
      "Training Epoch 097: | Loss: 0.04195 | Acc: 100.000\n"
     ]
    },
    {
     "name": "stderr",
     "output_type": "stream",
     "text": [
      "C:\\Users\\mattbeze\\Anaconda3\\envs\\pytorch\\lib\\site-packages\\sklearn\\metrics\\_classification.py:1245: UndefinedMetricWarning: Precision is ill-defined and being set to 0.0 in labels with no predicted samples. Use `zero_division` parameter to control this behavior.\n",
      "  _warn_prf(average, modifier, msg_start, len(result))\n",
      "C:\\Users\\mattbeze\\Anaconda3\\envs\\pytorch\\lib\\site-packages\\sklearn\\metrics\\_classification.py:1245: UndefinedMetricWarning: Precision is ill-defined and being set to 0.0 in labels with no predicted samples. Use `zero_division` parameter to control this behavior.\n",
      "  _warn_prf(average, modifier, msg_start, len(result))\n",
      "C:\\Users\\mattbeze\\Anaconda3\\envs\\pytorch\\lib\\site-packages\\sklearn\\metrics\\_classification.py:1245: UndefinedMetricWarning: Precision is ill-defined and being set to 0.0 in labels with no predicted samples. Use `zero_division` parameter to control this behavior.\n",
      "  _warn_prf(average, modifier, msg_start, len(result))\n"
     ]
    },
    {
     "name": "stdout",
     "output_type": "stream",
     "text": [
      "Validation Accuracy |  88.23529411764706  PPV |  [0.88235294 0.        ]  Recall |  [1. 0.]\n",
      "Training Epoch 098: | Loss: 0.04183 | Acc: 99.333\n",
      "Validation Accuracy |  88.23529411764706  PPV |  [0.88235294 0.        ]  Recall |  [1. 0.]\n",
      "Training Epoch 099: | Loss: 0.05325 | Acc: 98.556\n",
      "Validation Accuracy |  88.23529411764706  PPV |  [0.88235294 0.        ]  Recall |  [1. 0.]\n",
      "Training Epoch 100: | Loss: 0.04714 | Acc: 98.556\n",
      "Validation Accuracy |  88.23529411764706  PPV |  [0.88235294 0.        ]  Recall |  [1. 0.]\n"
     ]
    },
    {
     "name": "stderr",
     "output_type": "stream",
     "text": [
      "C:\\Users\\mattbeze\\Anaconda3\\envs\\pytorch\\lib\\site-packages\\sklearn\\metrics\\_classification.py:1245: UndefinedMetricWarning: Precision is ill-defined and being set to 0.0 in labels with no predicted samples. Use `zero_division` parameter to control this behavior.\n",
      "  _warn_prf(average, modifier, msg_start, len(result))\n"
     ]
    }
   ],
   "source": [
    "#model.train() tells PyTorch that you’re in training mode.\n",
    "#Similarly, we’ll call model.eval() when we test our model. We’ll see that below.\n",
    "'''If you’re using layers such as Dropout or BatchNorm which behave differently during training and evaluation, \n",
    "you need to tell PyTorch to act accordingly. While the default mode in PyTorch is the train, \n",
    "so, you don’t explicitly have to write that. But it’s good practice.'''\n",
    "val_acc6 = []\n",
    "train_acc6 = []\n",
    "train_loss6 = []\n",
    "val_loss6 = []\n",
    "\n",
    "model6.train() #Initial training mode\n",
    "for e in range(1, EPOCHS+1):\n",
    "    epoch_loss = 0\n",
    "    epoch_acc = 0\n",
    "    for X_batch, y_batch in train_loader6:\n",
    "        X_batch, y_batch = X_batch.to(device), y_batch.to(device)\n",
    "        optimizer6.zero_grad()\n",
    "        \n",
    "        y_pred = model6(X_batch)\n",
    "        \n",
    "        loss = criterion(y_pred, y_batch)\n",
    "        acc = binary_acc(y_pred, y_batch)\n",
    "        \n",
    "        loss.backward()\n",
    "        optimizer6.step()\n",
    "        \n",
    "        epoch_loss += loss.item()\n",
    "        epoch_acc += acc.item()\n",
    "    \n",
    "    train_acc6.append(epoch_acc/len(train_loader6))\n",
    "    train_loss6.append(epoch_loss/len(train_loader6))\n",
    "    print(f'Training Epoch {e+0:03}: | Loss: {epoch_loss/len(train_loader6):.5f} | Acc: {epoch_acc/len(train_loader6):.3f}')\n",
    "    #Validation metrics here\n",
    "    model6.eval()\n",
    "    #print(\"Evaluation mode\")\n",
    "    y_pred_list = []\n",
    "    test_loader6 = DataLoader(dataset=test_data6, batch_size=test_size1)\n",
    "    with torch.no_grad():\n",
    "        counter = 0\n",
    "        for X_batch in test_loader6:\n",
    "            X_batch = X_batch.to(device)\n",
    "            y_test_pred = model6(X_batch)\n",
    "            y_test_pred = torch.sigmoid(y_test_pred)\n",
    "            y_pred_tag = torch.round(y_test_pred)\n",
    "            y_pred_list.append(y_pred_tag.cpu().numpy())\n",
    "            loss = criterion(y_test_pred,torch.FloatTensor(testing_fold_Y_6))\n",
    "            val_loss6.append(loss)\n",
    "            counter+=1\n",
    "            \n",
    "    y_pred_list = []\n",
    "    test_loader6 = DataLoader(dataset=test_data6, batch_size=1)\n",
    "    with torch.no_grad():\n",
    "        for X_batch in test_loader6:\n",
    "            X_batch = X_batch.to(device)\n",
    "            y_test_pred = model6(X_batch)\n",
    "            y_test_pred = torch.sigmoid(y_test_pred)\n",
    "            y_pred_tag = torch.round(y_test_pred)\n",
    "            y_pred_list.append(y_pred_tag.cpu().numpy())\n",
    "            \n",
    "    y_pred_list = [a.squeeze().tolist() for a in y_pred_list]\n",
    "    y_loss_df = pd.DataFrame(y_pred_list)\n",
    "    accuracy = accuracy_score(torch.FloatTensor(testing_fold_Y_6), y_pred_list)\n",
    "    ppv = precision_score(testing_fold_Y_6, y_pred_list, average=None)\n",
    "    recall = recall_score(testing_fold_Y_6, y_pred_list, average=None)\n",
    "    print(\"Validation Accuracy | \",accuracy*100,\" PPV | \",ppv,\" Recall | \",recall)\n",
    "    val_acc6.append(accuracy*100)\n",
    "    model6.train()\n",
    "    #print(\"Return to training mode\")\n",
    "    \n",
    "    #Need to get validation loss."
   ]
  },
  {
   "cell_type": "code",
   "execution_count": 18,
   "id": "quick-savage",
   "metadata": {},
   "outputs": [
    {
     "name": "stdout",
     "output_type": "stream",
     "text": [
      "Training Epoch 001: | Loss: 3.10542 | Acc: 55.444\n",
      "Validation Accuracy |  17.647058823529413  PPV |  [1.    0.125]  Recall |  [0.06666667 1.        ]\n",
      "Training Epoch 002: | Loss: 1.89229 | Acc: 47.778\n",
      "Validation Accuracy |  23.52941176470588  PPV |  [0.75       0.07692308]  Recall |  [0.2 0.5]\n",
      "Training Epoch 003: | Loss: 1.44979 | Acc: 60.222\n",
      "Validation Accuracy |  35.294117647058826  PPV |  [0.83333333 0.09090909]  Recall |  [0.33333333 0.5       ]\n",
      "Training Epoch 004: | Loss: 1.27890 | Acc: 59.556\n",
      "Validation Accuracy |  17.647058823529413  PPV |  [0.66666667 0.07142857]  Recall |  [0.13333333 0.5       ]\n",
      "Training Epoch 005: | Loss: 1.14465 | Acc: 61.444\n",
      "Validation Accuracy |  23.52941176470588  PPV |  [0.75       0.07692308]  Recall |  [0.2 0.5]\n",
      "Training Epoch 006: | Loss: 1.18631 | Acc: 63.556\n",
      "Validation Accuracy |  23.52941176470588  PPV |  [0.75       0.07692308]  Recall |  [0.2 0.5]\n",
      "Training Epoch 007: | Loss: 1.10281 | Acc: 63.000\n",
      "Validation Accuracy |  29.411764705882355  PPV |  [0.8        0.08333333]  Recall |  [0.26666667 0.5       ]\n",
      "Training Epoch 008: | Loss: 0.97805 | Acc: 69.333\n",
      "Validation Accuracy |  41.17647058823529  PPV |  [0.85714286 0.1       ]  Recall |  [0.4 0.5]\n",
      "Training Epoch 009: | Loss: 0.99357 | Acc: 67.444\n",
      "Validation Accuracy |  41.17647058823529  PPV |  [0.85714286 0.1       ]  Recall |  [0.4 0.5]\n",
      "Training Epoch 010: | Loss: 0.86327 | Acc: 74.333\n",
      "Validation Accuracy |  47.05882352941176  PPV |  [0.875      0.11111111]  Recall |  [0.46666667 0.5       ]\n",
      "Training Epoch 011: | Loss: 0.88131 | Acc: 74.333\n",
      "Validation Accuracy |  47.05882352941176  PPV |  [0.875      0.11111111]  Recall |  [0.46666667 0.5       ]\n",
      "Training Epoch 012: | Loss: 0.81576 | Acc: 78.111\n",
      "Validation Accuracy |  47.05882352941176  PPV |  [0.875      0.11111111]  Recall |  [0.46666667 0.5       ]\n",
      "Training Epoch 013: | Loss: 0.77647 | Acc: 79.889\n",
      "Validation Accuracy |  47.05882352941176  PPV |  [0.875      0.11111111]  Recall |  [0.46666667 0.5       ]\n",
      "Training Epoch 014: | Loss: 0.72610 | Acc: 82.889\n",
      "Validation Accuracy |  47.05882352941176  PPV |  [0.875      0.11111111]  Recall |  [0.46666667 0.5       ]\n",
      "Training Epoch 015: | Loss: 0.75478 | Acc: 77.222\n",
      "Validation Accuracy |  47.05882352941176  PPV |  [0.875      0.11111111]  Recall |  [0.46666667 0.5       ]\n",
      "Training Epoch 016: | Loss: 0.72784 | Acc: 85.111\n",
      "Validation Accuracy |  47.05882352941176  PPV |  [0.875      0.11111111]  Recall |  [0.46666667 0.5       ]\n",
      "Training Epoch 017: | Loss: 0.65455 | Acc: 84.333\n",
      "Validation Accuracy |  47.05882352941176  PPV |  [0.875      0.11111111]  Recall |  [0.46666667 0.5       ]\n",
      "Training Epoch 018: | Loss: 0.57473 | Acc: 89.000\n",
      "Validation Accuracy |  76.47058823529412  PPV |  [0.92307692 0.25      ]  Recall |  [0.8 0.5]\n",
      "Training Epoch 019: | Loss: 0.52559 | Acc: 91.556\n",
      "Validation Accuracy |  70.58823529411765  PPV |  [0.91666667 0.2       ]  Recall |  [0.73333333 0.5       ]\n",
      "Training Epoch 020: | Loss: 0.51002 | Acc: 88.556\n",
      "Validation Accuracy |  82.35294117647058  PPV |  [0.92857143 0.33333333]  Recall |  [0.86666667 0.5       ]\n",
      "Training Epoch 021: | Loss: 0.49196 | Acc: 92.111\n",
      "Validation Accuracy |  82.35294117647058  PPV |  [0.92857143 0.33333333]  Recall |  [0.86666667 0.5       ]\n",
      "Training Epoch 022: | Loss: 0.42075 | Acc: 93.333\n",
      "Validation Accuracy |  82.35294117647058  PPV |  [0.92857143 0.33333333]  Recall |  [0.86666667 0.5       ]\n",
      "Training Epoch 023: | Loss: 0.45978 | Acc: 92.000\n",
      "Validation Accuracy |  82.35294117647058  PPV |  [0.92857143 0.33333333]  Recall |  [0.86666667 0.5       ]\n",
      "Training Epoch 024: | Loss: 0.43194 | Acc: 91.111\n",
      "Validation Accuracy |  88.23529411764706  PPV |  [0.93333333 0.5       ]  Recall |  [0.93333333 0.5       ]\n",
      "Training Epoch 025: | Loss: 0.40105 | Acc: 94.111\n",
      "Validation Accuracy |  82.35294117647058  PPV |  [0.92857143 0.33333333]  Recall |  [0.86666667 0.5       ]\n",
      "Training Epoch 026: | Loss: 0.39147 | Acc: 90.778\n",
      "Validation Accuracy |  88.23529411764706  PPV |  [0.93333333 0.5       ]  Recall |  [0.93333333 0.5       ]\n",
      "Training Epoch 027: | Loss: 0.34291 | Acc: 95.222\n",
      "Validation Accuracy |  88.23529411764706  PPV |  [0.93333333 0.5       ]  Recall |  [0.93333333 0.5       ]\n",
      "Training Epoch 028: | Loss: 0.33885 | Acc: 93.667\n",
      "Validation Accuracy |  88.23529411764706  PPV |  [0.93333333 0.5       ]  Recall |  [0.93333333 0.5       ]\n",
      "Training Epoch 029: | Loss: 0.30906 | Acc: 92.333\n",
      "Validation Accuracy |  88.23529411764706  PPV |  [0.93333333 0.5       ]  Recall |  [0.93333333 0.5       ]\n",
      "Training Epoch 030: | Loss: 0.30920 | Acc: 94.889\n",
      "Validation Accuracy |  88.23529411764706  PPV |  [0.93333333 0.5       ]  Recall |  [0.93333333 0.5       ]\n",
      "Training Epoch 031: | Loss: 0.26162 | Acc: 95.667\n",
      "Validation Accuracy |  88.23529411764706  PPV |  [0.93333333 0.5       ]  Recall |  [0.93333333 0.5       ]\n",
      "Training Epoch 032: | Loss: 0.28356 | Acc: 93.667\n",
      "Validation Accuracy |  88.23529411764706  PPV |  [0.93333333 0.5       ]  Recall |  [0.93333333 0.5       ]\n",
      "Training Epoch 033: | Loss: 0.23136 | Acc: 96.333\n",
      "Validation Accuracy |  88.23529411764706  PPV |  [0.93333333 0.5       ]  Recall |  [0.93333333 0.5       ]\n",
      "Training Epoch 034: | Loss: 0.21238 | Acc: 95.667\n",
      "Validation Accuracy |  88.23529411764706  PPV |  [0.93333333 0.5       ]  Recall |  [0.93333333 0.5       ]\n",
      "Training Epoch 035: | Loss: 0.20968 | Acc: 97.444\n",
      "Validation Accuracy |  88.23529411764706  PPV |  [0.93333333 0.5       ]  Recall |  [0.93333333 0.5       ]\n",
      "Training Epoch 036: | Loss: 0.22814 | Acc: 93.333\n",
      "Validation Accuracy |  88.23529411764706  PPV |  [0.93333333 0.5       ]  Recall |  [0.93333333 0.5       ]\n",
      "Training Epoch 037: | Loss: 0.21303 | Acc: 97.000\n",
      "Validation Accuracy |  88.23529411764706  PPV |  [0.93333333 0.5       ]  Recall |  [0.93333333 0.5       ]\n",
      "Training Epoch 038: | Loss: 0.23247 | Acc: 95.333\n",
      "Validation Accuracy |  88.23529411764706  PPV |  [0.93333333 0.5       ]  Recall |  [0.93333333 0.5       ]\n",
      "Training Epoch 039: | Loss: 0.18571 | Acc: 96.333\n",
      "Validation Accuracy |  88.23529411764706  PPV |  [0.93333333 0.5       ]  Recall |  [0.93333333 0.5       ]\n",
      "Training Epoch 040: | Loss: 0.17389 | Acc: 98.000\n",
      "Validation Accuracy |  88.23529411764706  PPV |  [0.93333333 0.5       ]  Recall |  [0.93333333 0.5       ]\n",
      "Training Epoch 041: | Loss: 0.14479 | Acc: 98.556\n",
      "Validation Accuracy |  88.23529411764706  PPV |  [0.93333333 0.5       ]  Recall |  [0.93333333 0.5       ]\n",
      "Training Epoch 042: | Loss: 0.16120 | Acc: 98.556\n",
      "Validation Accuracy |  88.23529411764706  PPV |  [0.93333333 0.5       ]  Recall |  [0.93333333 0.5       ]\n",
      "Training Epoch 043: | Loss: 0.15262 | Acc: 97.667\n",
      "Validation Accuracy |  88.23529411764706  PPV |  [0.93333333 0.5       ]  Recall |  [0.93333333 0.5       ]\n",
      "Training Epoch 044: | Loss: 0.13895 | Acc: 98.222\n",
      "Validation Accuracy |  88.23529411764706  PPV |  [0.93333333 0.5       ]  Recall |  [0.93333333 0.5       ]\n",
      "Training Epoch 045: | Loss: 0.14654 | Acc: 96.667\n",
      "Validation Accuracy |  88.23529411764706  PPV |  [0.93333333 0.5       ]  Recall |  [0.93333333 0.5       ]\n",
      "Training Epoch 046: | Loss: 0.13287 | Acc: 97.444\n",
      "Validation Accuracy |  88.23529411764706  PPV |  [0.93333333 0.5       ]  Recall |  [0.93333333 0.5       ]\n",
      "Training Epoch 047: | Loss: 0.14978 | Acc: 98.667\n",
      "Validation Accuracy |  88.23529411764706  PPV |  [0.93333333 0.5       ]  Recall |  [0.93333333 0.5       ]\n",
      "Training Epoch 048: | Loss: 0.10906 | Acc: 97.778\n",
      "Validation Accuracy |  88.23529411764706  PPV |  [0.93333333 0.5       ]  Recall |  [0.93333333 0.5       ]\n",
      "Training Epoch 049: | Loss: 0.12200 | Acc: 97.889\n",
      "Validation Accuracy |  88.23529411764706  PPV |  [0.93333333 0.5       ]  Recall |  [0.93333333 0.5       ]\n",
      "Training Epoch 050: | Loss: 0.13271 | Acc: 98.111\n",
      "Validation Accuracy |  88.23529411764706  PPV |  [0.93333333 0.5       ]  Recall |  [0.93333333 0.5       ]\n",
      "Training Epoch 051: | Loss: 0.09171 | Acc: 99.000\n",
      "Validation Accuracy |  88.23529411764706  PPV |  [0.93333333 0.5       ]  Recall |  [0.93333333 0.5       ]\n",
      "Training Epoch 052: | Loss: 0.09595 | Acc: 99.000\n",
      "Validation Accuracy |  88.23529411764706  PPV |  [0.93333333 0.5       ]  Recall |  [0.93333333 0.5       ]\n",
      "Training Epoch 053: | Loss: 0.11102 | Acc: 98.889\n"
     ]
    },
    {
     "name": "stdout",
     "output_type": "stream",
     "text": [
      "Validation Accuracy |  88.23529411764706  PPV |  [0.93333333 0.5       ]  Recall |  [0.93333333 0.5       ]\n",
      "Training Epoch 054: | Loss: 0.08202 | Acc: 99.000\n",
      "Validation Accuracy |  88.23529411764706  PPV |  [0.93333333 0.5       ]  Recall |  [0.93333333 0.5       ]\n",
      "Training Epoch 055: | Loss: 0.12837 | Acc: 97.444\n",
      "Validation Accuracy |  88.23529411764706  PPV |  [0.93333333 0.5       ]  Recall |  [0.93333333 0.5       ]\n",
      "Training Epoch 056: | Loss: 0.09192 | Acc: 98.667\n",
      "Validation Accuracy |  88.23529411764706  PPV |  [0.93333333 0.5       ]  Recall |  [0.93333333 0.5       ]\n",
      "Training Epoch 057: | Loss: 0.08250 | Acc: 98.889\n",
      "Validation Accuracy |  88.23529411764706  PPV |  [0.93333333 0.5       ]  Recall |  [0.93333333 0.5       ]\n",
      "Training Epoch 058: | Loss: 0.07608 | Acc: 100.000\n",
      "Validation Accuracy |  88.23529411764706  PPV |  [0.93333333 0.5       ]  Recall |  [0.93333333 0.5       ]\n",
      "Training Epoch 059: | Loss: 0.07644 | Acc: 99.333\n",
      "Validation Accuracy |  88.23529411764706  PPV |  [0.93333333 0.5       ]  Recall |  [0.93333333 0.5       ]\n",
      "Training Epoch 060: | Loss: 0.08242 | Acc: 100.000\n",
      "Validation Accuracy |  88.23529411764706  PPV |  [0.93333333 0.5       ]  Recall |  [0.93333333 0.5       ]\n",
      "Training Epoch 061: | Loss: 0.07343 | Acc: 98.222\n",
      "Validation Accuracy |  88.23529411764706  PPV |  [0.93333333 0.5       ]  Recall |  [0.93333333 0.5       ]\n",
      "Training Epoch 062: | Loss: 0.10032 | Acc: 99.333\n",
      "Validation Accuracy |  88.23529411764706  PPV |  [0.93333333 0.5       ]  Recall |  [0.93333333 0.5       ]\n",
      "Training Epoch 063: | Loss: 0.07425 | Acc: 100.000\n",
      "Validation Accuracy |  88.23529411764706  PPV |  [0.93333333 0.5       ]  Recall |  [0.93333333 0.5       ]\n",
      "Training Epoch 064: | Loss: 0.07907 | Acc: 99.000\n",
      "Validation Accuracy |  88.23529411764706  PPV |  [0.93333333 0.5       ]  Recall |  [0.93333333 0.5       ]\n",
      "Training Epoch 065: | Loss: 0.06638 | Acc: 99.333\n",
      "Validation Accuracy |  88.23529411764706  PPV |  [0.93333333 0.5       ]  Recall |  [0.93333333 0.5       ]\n",
      "Training Epoch 066: | Loss: 0.05548 | Acc: 99.667\n",
      "Validation Accuracy |  88.23529411764706  PPV |  [0.93333333 0.5       ]  Recall |  [0.93333333 0.5       ]\n",
      "Training Epoch 067: | Loss: 0.06108 | Acc: 99.667\n",
      "Validation Accuracy |  88.23529411764706  PPV |  [0.93333333 0.5       ]  Recall |  [0.93333333 0.5       ]\n",
      "Training Epoch 068: | Loss: 0.08909 | Acc: 98.556\n",
      "Validation Accuracy |  88.23529411764706  PPV |  [0.93333333 0.5       ]  Recall |  [0.93333333 0.5       ]\n",
      "Training Epoch 069: | Loss: 0.08710 | Acc: 98.889\n",
      "Validation Accuracy |  88.23529411764706  PPV |  [0.93333333 0.5       ]  Recall |  [0.93333333 0.5       ]\n",
      "Training Epoch 070: | Loss: 0.06281 | Acc: 98.222\n",
      "Validation Accuracy |  88.23529411764706  PPV |  [0.93333333 0.5       ]  Recall |  [0.93333333 0.5       ]\n",
      "Training Epoch 071: | Loss: 0.07137 | Acc: 98.889\n",
      "Validation Accuracy |  88.23529411764706  PPV |  [0.93333333 0.5       ]  Recall |  [0.93333333 0.5       ]\n",
      "Training Epoch 072: | Loss: 0.03900 | Acc: 100.000\n",
      "Validation Accuracy |  88.23529411764706  PPV |  [0.93333333 0.5       ]  Recall |  [0.93333333 0.5       ]\n",
      "Training Epoch 073: | Loss: 0.09840 | Acc: 98.222\n",
      "Validation Accuracy |  88.23529411764706  PPV |  [0.93333333 0.5       ]  Recall |  [0.93333333 0.5       ]\n",
      "Training Epoch 074: | Loss: 0.05768 | Acc: 99.333\n",
      "Validation Accuracy |  88.23529411764706  PPV |  [0.93333333 0.5       ]  Recall |  [0.93333333 0.5       ]\n",
      "Training Epoch 075: | Loss: 0.06127 | Acc: 98.889\n",
      "Validation Accuracy |  88.23529411764706  PPV |  [0.93333333 0.5       ]  Recall |  [0.93333333 0.5       ]\n",
      "Training Epoch 076: | Loss: 0.04410 | Acc: 99.667\n",
      "Validation Accuracy |  88.23529411764706  PPV |  [0.93333333 0.5       ]  Recall |  [0.93333333 0.5       ]\n",
      "Training Epoch 077: | Loss: 0.04113 | Acc: 99.667\n",
      "Validation Accuracy |  88.23529411764706  PPV |  [0.93333333 0.5       ]  Recall |  [0.93333333 0.5       ]\n",
      "Training Epoch 078: | Loss: 0.05322 | Acc: 99.667\n",
      "Validation Accuracy |  88.23529411764706  PPV |  [0.93333333 0.5       ]  Recall |  [0.93333333 0.5       ]\n",
      "Training Epoch 079: | Loss: 0.06575 | Acc: 99.222\n",
      "Validation Accuracy |  88.23529411764706  PPV |  [0.93333333 0.5       ]  Recall |  [0.93333333 0.5       ]\n",
      "Training Epoch 080: | Loss: 0.04711 | Acc: 99.333\n",
      "Validation Accuracy |  88.23529411764706  PPV |  [0.93333333 0.5       ]  Recall |  [0.93333333 0.5       ]\n",
      "Training Epoch 081: | Loss: 0.03928 | Acc: 100.000\n",
      "Validation Accuracy |  88.23529411764706  PPV |  [0.93333333 0.5       ]  Recall |  [0.93333333 0.5       ]\n",
      "Training Epoch 082: | Loss: 0.04688 | Acc: 99.333\n",
      "Validation Accuracy |  88.23529411764706  PPV |  [0.93333333 0.5       ]  Recall |  [0.93333333 0.5       ]\n",
      "Training Epoch 083: | Loss: 0.02805 | Acc: 100.000\n",
      "Validation Accuracy |  88.23529411764706  PPV |  [0.93333333 0.5       ]  Recall |  [0.93333333 0.5       ]\n",
      "Training Epoch 084: | Loss: 0.03864 | Acc: 99.667\n",
      "Validation Accuracy |  88.23529411764706  PPV |  [0.93333333 0.5       ]  Recall |  [0.93333333 0.5       ]\n",
      "Training Epoch 085: | Loss: 0.04777 | Acc: 99.222\n",
      "Validation Accuracy |  88.23529411764706  PPV |  [0.93333333 0.5       ]  Recall |  [0.93333333 0.5       ]\n",
      "Training Epoch 086: | Loss: 0.02736 | Acc: 99.667\n",
      "Validation Accuracy |  88.23529411764706  PPV |  [0.93333333 0.5       ]  Recall |  [0.93333333 0.5       ]\n",
      "Training Epoch 087: | Loss: 0.03464 | Acc: 99.667\n",
      "Validation Accuracy |  88.23529411764706  PPV |  [0.93333333 0.5       ]  Recall |  [0.93333333 0.5       ]\n",
      "Training Epoch 088: | Loss: 0.04028 | Acc: 100.000\n",
      "Validation Accuracy |  88.23529411764706  PPV |  [0.93333333 0.5       ]  Recall |  [0.93333333 0.5       ]\n",
      "Training Epoch 089: | Loss: 0.06638 | Acc: 98.556\n",
      "Validation Accuracy |  88.23529411764706  PPV |  [0.93333333 0.5       ]  Recall |  [0.93333333 0.5       ]\n",
      "Training Epoch 090: | Loss: 0.08488 | Acc: 98.889\n",
      "Validation Accuracy |  88.23529411764706  PPV |  [0.93333333 0.5       ]  Recall |  [0.93333333 0.5       ]\n",
      "Training Epoch 091: | Loss: 0.09997 | Acc: 95.889\n",
      "Validation Accuracy |  88.23529411764706  PPV |  [0.93333333 0.5       ]  Recall |  [0.93333333 0.5       ]\n",
      "Training Epoch 092: | Loss: 0.05961 | Acc: 99.667\n",
      "Validation Accuracy |  88.23529411764706  PPV |  [0.93333333 0.5       ]  Recall |  [0.93333333 0.5       ]\n",
      "Training Epoch 093: | Loss: 0.05980 | Acc: 98.556\n",
      "Validation Accuracy |  88.23529411764706  PPV |  [0.93333333 0.5       ]  Recall |  [0.93333333 0.5       ]\n",
      "Training Epoch 094: | Loss: 0.03653 | Acc: 100.000\n",
      "Validation Accuracy |  88.23529411764706  PPV |  [0.93333333 0.5       ]  Recall |  [0.93333333 0.5       ]\n",
      "Training Epoch 095: | Loss: 0.04831 | Acc: 98.889\n",
      "Validation Accuracy |  88.23529411764706  PPV |  [0.93333333 0.5       ]  Recall |  [0.93333333 0.5       ]\n",
      "Training Epoch 096: | Loss: 0.03954 | Acc: 100.000\n",
      "Validation Accuracy |  88.23529411764706  PPV |  [0.93333333 0.5       ]  Recall |  [0.93333333 0.5       ]\n",
      "Training Epoch 097: | Loss: 0.03110 | Acc: 100.000\n",
      "Validation Accuracy |  88.23529411764706  PPV |  [0.93333333 0.5       ]  Recall |  [0.93333333 0.5       ]\n",
      "Training Epoch 098: | Loss: 0.05260 | Acc: 98.889\n",
      "Validation Accuracy |  88.23529411764706  PPV |  [0.93333333 0.5       ]  Recall |  [0.93333333 0.5       ]\n",
      "Training Epoch 099: | Loss: 0.02579 | Acc: 100.000\n",
      "Validation Accuracy |  88.23529411764706  PPV |  [0.93333333 0.5       ]  Recall |  [0.93333333 0.5       ]\n",
      "Training Epoch 100: | Loss: 0.04505 | Acc: 99.333\n",
      "Validation Accuracy |  88.23529411764706  PPV |  [0.93333333 0.5       ]  Recall |  [0.93333333 0.5       ]\n"
     ]
    }
   ],
   "source": [
    "#model.train() tells PyTorch that you’re in training mode.\n",
    "#Similarly, we’ll call model.eval() when we test our model. We’ll see that below.\n",
    "'''If you’re using layers such as Dropout or BatchNorm which behave differently during training and evaluation, \n",
    "you need to tell PyTorch to act accordingly. While the default mode in PyTorch is the train, \n",
    "so, you don’t explicitly have to write that. But it’s good practice.'''\n",
    "val_acc7 = []\n",
    "train_acc7 = []\n",
    "train_loss7 = []\n",
    "val_loss7 = []\n",
    "\n",
    "model7.train() #Initial training mode\n",
    "for e in range(1, EPOCHS+1):\n",
    "    epoch_loss = 0\n",
    "    epoch_acc = 0\n",
    "    for X_batch, y_batch in train_loader7:\n",
    "        X_batch, y_batch = X_batch.to(device), y_batch.to(device)\n",
    "        optimizer7.zero_grad()\n",
    "        \n",
    "        y_pred = model7(X_batch)\n",
    "        \n",
    "        loss = criterion(y_pred, y_batch)\n",
    "        acc = binary_acc(y_pred, y_batch)\n",
    "        \n",
    "        loss.backward()\n",
    "        optimizer7.step()\n",
    "        \n",
    "        epoch_loss += loss.item()\n",
    "        epoch_acc += acc.item()\n",
    "    \n",
    "    train_acc7.append(epoch_acc/len(train_loader7))\n",
    "    train_loss7.append(epoch_loss/len(train_loader7))\n",
    "    print(f'Training Epoch {e+0:03}: | Loss: {epoch_loss/len(train_loader7):.5f} | Acc: {epoch_acc/len(train_loader7):.3f}')\n",
    "    #Validation metrics here\n",
    "    model7.eval()\n",
    "    #print(\"Evaluation mode\")\n",
    "    y_pred_list = []\n",
    "    test_loader7 = DataLoader(dataset=test_data7, batch_size=test_size1)\n",
    "    with torch.no_grad():\n",
    "        counter = 0\n",
    "        for X_batch in test_loader7:\n",
    "            X_batch = X_batch.to(device)\n",
    "            y_test_pred = model7(X_batch)\n",
    "            y_test_pred = torch.sigmoid(y_test_pred)\n",
    "            y_pred_tag = torch.round(y_test_pred)\n",
    "            y_pred_list.append(y_pred_tag.cpu().numpy())\n",
    "            loss = criterion(y_test_pred,torch.FloatTensor(testing_fold_Y_7))\n",
    "            val_loss7.append(loss)\n",
    "            counter+=1\n",
    "            \n",
    "    y_pred_list = []\n",
    "    test_loader7 = DataLoader(dataset=test_data7, batch_size=1)\n",
    "    with torch.no_grad():\n",
    "        for X_batch in test_loader7:\n",
    "            X_batch = X_batch.to(device)\n",
    "            y_test_pred = model7(X_batch)\n",
    "            y_test_pred = torch.sigmoid(y_test_pred)\n",
    "            y_pred_tag = torch.round(y_test_pred)\n",
    "            y_pred_list.append(y_pred_tag.cpu().numpy())\n",
    "            \n",
    "    y_pred_list = [a.squeeze().tolist() for a in y_pred_list]\n",
    "    y_loss_df = pd.DataFrame(y_pred_list)\n",
    "    accuracy = accuracy_score(torch.FloatTensor(testing_fold_Y_7), y_pred_list)\n",
    "    ppv = precision_score(testing_fold_Y_7, y_pred_list, average=None)\n",
    "    recall = recall_score(testing_fold_Y_7, y_pred_list, average=None)\n",
    "    print(\"Validation Accuracy | \",accuracy*100,\" PPV | \",ppv,\" Recall | \",recall)\n",
    "    val_acc7.append(accuracy*100)\n",
    "    model7.train()\n",
    "    #print(\"Return to training mode\")\n",
    "    \n",
    "    #Need to get validation loss."
   ]
  },
  {
   "cell_type": "code",
   "execution_count": 19,
   "id": "empirical-college",
   "metadata": {},
   "outputs": [
    {
     "data": {
      "image/png": "[encoded data removed]",
      "text/plain": [
       "<Figure size 432x288 with 1 Axes>"
      ]
     },
     "metadata": {
      "needs_background": "light"
     },
     "output_type": "display_data"
    },
    {
     "data": {
      "image/png": "[encoded data removed]",
      "text/plain": [
       "<Figure size 432x288 with 1 Axes>"
      ]
     },
     "metadata": {
      "needs_background": "light"
     },
     "output_type": "display_data"
    },
    {
     "data": {
      "image/png": "[encoded data removed]",
      "text/plain": [
       "<Figure size 432x288 with 1 Axes>"
      ]
     },
     "metadata": {
      "needs_background": "light"
     },
     "output_type": "display_data"
    },
    {
     "data": {
      "image/png": "[encoded data removed]",
      "text/plain": [
       "<Figure size 432x288 with 1 Axes>"
      ]
     },
     "metadata": {
      "needs_background": "light"
     },
     "output_type": "display_data"
    },
    {
     "data": {
      "image/png": "[encoded data removed]",
      "text/plain": [
       "<Figure size 432x288 with 1 Axes>"
      ]
     },
     "metadata": {
      "needs_background": "light"
     },
     "output_type": "display_data"
    },
    {
     "data": {
      "image/png": "[encoded data removed]",
      "text/plain": [
       "<Figure size 432x288 with 1 Axes>"
      ]
     },
     "metadata": {
      "needs_background": "light"
     },
     "output_type": "display_data"
    },
    {
     "data": {
      "image/png": "[encoded data removed]",
      "text/plain": [
       "<Figure size 432x288 with 1 Axes>"
      ]
     },
     "metadata": {
      "needs_background": "light"
     },
     "output_type": "display_data"
    },
    {
     "data": {
      "image/png": "[encoded data removed]",
      "text/plain": [
       "<Figure size 432x288 with 1 Axes>"
      ]
     },
     "metadata": {
      "needs_background": "light"
     },
     "output_type": "display_data"
    },
    {
     "data": {
      "image/png": "[encoded data removed]",
      "text/plain": [
       "<Figure size 432x288 with 1 Axes>"
      ]
     },
     "metadata": {
      "needs_background": "light"
     },
     "output_type": "display_data"
    },
    {
     "data": {
      "image/png": "[encoded data removed]",
      "text/plain": [
       "<Figure size 432x288 with 1 Axes>"
      ]
     },
     "metadata": {
      "needs_background": "light"
     },
     "output_type": "display_data"
    },
    {
     "data": {
      "image/png": "[encoded data removed]",
      "text/plain": [
       "<Figure size 432x288 with 1 Axes>"
      ]
     },
     "metadata": {
      "needs_background": "light"
     },
     "output_type": "display_data"
    },
    {
     "data": {
      "image/png": "[encoded data removed]",
      "text/plain": [
       "<Figure size 432x288 with 1 Axes>"
      ]
     },
     "metadata": {
      "needs_background": "light"
     },
     "output_type": "display_data"
    },
    {
     "data": {
      "image/png": "[encoded data removed]",
      "text/plain": [
       "<Figure size 432x288 with 1 Axes>"
      ]
     },
     "metadata": {
      "needs_background": "light"
     },
     "output_type": "display_data"
    },
    {
     "data": {
      "image/png": "[encoded data removed]",
      "text/plain": [
       "<Figure size 432x288 with 1 Axes>"
      ]
     },
     "metadata": {
      "needs_background": "light"
     },
     "output_type": "display_data"
    },
    {
     "data": {
      "image/png": "[encoded data removed]",
      "text/plain": [
       "<Figure size 432x288 with 1 Axes>"
      ]
     },
     "metadata": {
      "needs_background": "light"
     },
     "output_type": "display_data"
    },
    {
     "data": {
      "image/png": "[encoded data removed]",
      "text/plain": [
       "<Figure size 432x288 with 1 Axes>"
      ]
     },
     "metadata": {
      "needs_background": "light"
     },
     "output_type": "display_data"
    }
   ],
   "source": [
    "#Plotting loss\n",
    "plt.plot(train_loss)\n",
    "plt.plot(val_loss)\n",
    "plt.title('model loss')\n",
    "plt.ylabel('loss')\n",
    "plt.xlabel('epoch')\n",
    "plt.legend(['train', 'validation'], loc='upper left')\n",
    "plt.axis([0, EPOCHS-1, 0.0, 1.5])\n",
    "plt.show()\n",
    "\n",
    "#Plotting Accuracy\n",
    "plt.plot(train_acc)\n",
    "plt.plot(val_acc)\n",
    "plt.title('model accuracy')\n",
    "plt.ylabel('acc')\n",
    "plt.xlabel('epoch')\n",
    "plt.legend(['train_acc', 'val_acc'], loc='upper left')\n",
    "plt.axis([0, EPOCHS-1, 0.0, 105])\n",
    "plt.show()\n",
    "\n",
    "#Plotting loss\n",
    "plt.plot(train_loss1)\n",
    "plt.plot(val_loss1)\n",
    "plt.title('model1 loss')\n",
    "plt.ylabel('loss')\n",
    "plt.xlabel('epoch')\n",
    "plt.legend(['train', 'validation'], loc='upper left')\n",
    "plt.axis([0, EPOCHS-1, 0.0, 1.5])\n",
    "plt.show()\n",
    "\n",
    "#Plotting Accuracy\n",
    "plt.plot(train_acc1)\n",
    "plt.plot(val_acc1)\n",
    "plt.title('model1 accuracy')\n",
    "plt.ylabel('acc')\n",
    "plt.xlabel('epoch')\n",
    "plt.legend(['train_acc', 'val_acc'], loc='upper left')\n",
    "plt.axis([0, EPOCHS-1, 0.0, 105])\n",
    "plt.show()\n",
    "\n",
    "#Plotting loss\n",
    "plt.plot(train_loss2)\n",
    "plt.plot(val_loss2)\n",
    "plt.title('model2 loss')\n",
    "plt.ylabel('loss')\n",
    "plt.xlabel('epoch')\n",
    "plt.legend(['train', 'validation'], loc='upper left')\n",
    "plt.axis([0, EPOCHS-1, 0.0, 1.5])\n",
    "plt.show()\n",
    "\n",
    "#Plotting Accuracy\n",
    "plt.plot(train_acc2)\n",
    "plt.plot(val_acc2)\n",
    "plt.title('model2 accuracy')\n",
    "plt.ylabel('acc')\n",
    "plt.xlabel('epoch')\n",
    "plt.legend(['train_acc', 'val_acc'], loc='upper left')\n",
    "plt.axis([0, EPOCHS-1, 0.0, 105])\n",
    "plt.show()\n",
    "\n",
    "#Plotting loss\n",
    "plt.plot(train_loss3)\n",
    "plt.plot(val_loss3)\n",
    "plt.title('model3 loss')\n",
    "plt.ylabel('loss')\n",
    "plt.xlabel('epoch')\n",
    "plt.legend(['train', 'validation'], loc='upper left')\n",
    "plt.axis([0, EPOCHS-1, 0.0, 1.5])\n",
    "plt.show()\n",
    "\n",
    "#Plotting Accuracy\n",
    "plt.plot(train_acc3)\n",
    "plt.plot(val_acc3)\n",
    "plt.title('model3 accuracy')\n",
    "plt.ylabel('acc')\n",
    "plt.xlabel('epoch')\n",
    "plt.legend(['train_acc', 'val_acc'], loc='upper left')\n",
    "plt.axis([0, EPOCHS-1, 0.0, 105])\n",
    "plt.show()\n",
    "\n",
    "#Plotting loss\n",
    "plt.plot(train_loss4)\n",
    "plt.plot(val_loss4)\n",
    "plt.title('model4 loss')\n",
    "plt.ylabel('loss')\n",
    "plt.xlabel('epoch')\n",
    "plt.legend(['train', 'validation'], loc='upper left')\n",
    "plt.axis([0, EPOCHS-1, 0.0, 1.5])\n",
    "plt.show()\n",
    "\n",
    "#Plotting Accuracy\n",
    "plt.plot(train_acc4)\n",
    "plt.plot(val_acc4)\n",
    "plt.title('model4 accuracy')\n",
    "plt.ylabel('acc')\n",
    "plt.xlabel('epoch')\n",
    "plt.legend(['train_acc', 'val_acc'], loc='upper left')\n",
    "plt.axis([0, EPOCHS-1, 0.0, 105])\n",
    "plt.show()\n",
    "\n",
    "#Plotting loss\n",
    "plt.plot(train_loss5)\n",
    "plt.plot(val_loss5)\n",
    "plt.title('model5 loss')\n",
    "plt.ylabel('loss')\n",
    "plt.xlabel('epoch')\n",
    "plt.legend(['train', 'validation'], loc='upper left')\n",
    "plt.axis([0, EPOCHS-1, 0.0, 1.5])\n",
    "plt.show()\n",
    "\n",
    "#Plotting Accuracy\n",
    "plt.plot(train_acc5)\n",
    "plt.plot(val_acc5)\n",
    "plt.title('model5 accuracy')\n",
    "plt.ylabel('acc')\n",
    "plt.xlabel('epoch')\n",
    "plt.legend(['train_acc', 'val_acc'], loc='upper left')\n",
    "plt.axis([0, EPOCHS-1, 0.0, 105])\n",
    "plt.show()\n",
    "\n",
    "#Plotting loss\n",
    "plt.plot(train_loss6)\n",
    "plt.plot(val_loss6)\n",
    "plt.title('model6 loss')\n",
    "plt.ylabel('loss')\n",
    "plt.xlabel('epoch')\n",
    "plt.legend(['train', 'validation'], loc='upper left')\n",
    "plt.axis([0, EPOCHS-1, 0.0, 1.5])\n",
    "plt.show()\n",
    "\n",
    "#Plotting Accuracy\n",
    "plt.plot(train_acc6)\n",
    "plt.plot(val_acc6)\n",
    "plt.title('model6 accuracy')\n",
    "plt.ylabel('acc')\n",
    "plt.xlabel('epoch')\n",
    "plt.legend(['train_acc', 'val_acc'], loc='upper left')\n",
    "plt.axis([0, EPOCHS-1, 0.0, 105])\n",
    "plt.show()\n",
    "\n",
    "#Plotting loss\n",
    "plt.plot(train_loss7)\n",
    "plt.plot(val_loss7)\n",
    "plt.title('model7 loss')\n",
    "plt.ylabel('loss')\n",
    "plt.xlabel('epoch')\n",
    "plt.legend(['train', 'validation'], loc='upper left')\n",
    "plt.axis([0, EPOCHS-1, 0.0, 1.5])\n",
    "plt.show()\n",
    "\n",
    "#Plotting Accuracy\n",
    "plt.plot(train_acc7)\n",
    "plt.plot(val_acc7)\n",
    "plt.title('model7 accuracy')\n",
    "plt.ylabel('acc')\n",
    "plt.xlabel('epoch')\n",
    "plt.legend(['train_acc', 'val_acc'], loc='upper left')\n",
    "plt.axis([0, EPOCHS-1, 0.0, 105])\n",
    "plt.show()"
   ]
  },
  {
   "cell_type": "code",
   "execution_count": 20,
   "id": "employed-radical",
   "metadata": {},
   "outputs": [
    {
     "name": "stdout",
     "output_type": "stream",
     "text": [
      "Validation Accuracy |  72.22222222222221  PPV |  [0.86666667 0.        ]  Recall |  [0.8125 0.    ]\n"
     ]
    },
    {
     "data": {
      "image/png": "[encoded data removed]",
      "text/plain": [
       "<Figure size 432x288 with 2 Axes>"
      ]
     },
     "metadata": {
      "needs_background": "light"
     },
     "output_type": "display_data"
    }
   ],
   "source": [
    "final_prediction = []\n",
    "final_prediction_true = []\n",
    "\n",
    "y_pred_list = []\n",
    "test_loader = DataLoader(dataset=test_data, batch_size=1)\n",
    "model.eval() #Model evaluation\n",
    "with torch.no_grad():\n",
    "    for X_batch in test_loader:\n",
    "        X_batch = X_batch.to(device)\n",
    "        y_test_pred = model(X_batch)\n",
    "        y_test_pred = torch.sigmoid(y_test_pred)\n",
    "        y_pred_tag = torch.round(y_test_pred)\n",
    "        y_pred_list.append(y_pred_tag.cpu().numpy())\n",
    "        final_prediction.append(y_pred_tag.cpu().numpy())\n",
    "\n",
    "y_pred_list = [a.squeeze().tolist() for a in y_pred_list]\n",
    "accuracy = accuracy_score(testing_fold_Y_0, y_pred_list)\n",
    "ppv = precision_score(testing_fold_Y_0, y_pred_list, average=None)\n",
    "recall = recall_score(testing_fold_Y_0, y_pred_list, average=None)\n",
    "print(\"Validation Accuracy | \",accuracy*100,\" PPV | \",ppv,\" Recall | \",recall)\n",
    "cf_matrix = confusion_matrix(testing_fold_Y_0, y_pred_list)\n",
    "sn.heatmap(cf_matrix, annot=True)\n",
    "\n",
    "for y in testing_fold_Y_0:\n",
    "    final_prediction_true.append(y)"
   ]
  },
  {
   "cell_type": "code",
   "execution_count": 21,
   "id": "textile-combine",
   "metadata": {},
   "outputs": [
    {
     "name": "stderr",
     "output_type": "stream",
     "text": [
      "C:\\Users\\mattbeze\\Anaconda3\\envs\\pytorch\\lib\\site-packages\\sklearn\\metrics\\_classification.py:1245: UndefinedMetricWarning: Precision is ill-defined and being set to 0.0 in labels with no predicted samples. Use `zero_division` parameter to control this behavior.\n",
      "  _warn_prf(average, modifier, msg_start, len(result))\n"
     ]
    },
    {
     "name": "stdout",
     "output_type": "stream",
     "text": [
      "Validation Accuracy |  94.11764705882352  PPV |  [0.94117647 0.        ]  Recall |  [1. 0.]\n"
     ]
    },
    {
     "data": {
      "image/png": "[encoded data removed]",
      "text/plain": [
       "<Figure size 432x288 with 2 Axes>"
      ]
     },
     "metadata": {
      "needs_background": "light"
     },
     "output_type": "display_data"
    }
   ],
   "source": [
    "y_pred_list = []\n",
    "test_loader = DataLoader(dataset=test_data1, batch_size=1)\n",
    "model1.eval() #Model evaluation\n",
    "with torch.no_grad():\n",
    "    for X_batch in test_loader:\n",
    "        X_batch = X_batch.to(device)\n",
    "        y_test_pred = model1(X_batch)\n",
    "        y_test_pred = torch.sigmoid(y_test_pred)\n",
    "        y_pred_tag = torch.round(y_test_pred)\n",
    "        y_pred_list.append(y_pred_tag.cpu().numpy())\n",
    "        final_prediction.append(y_pred_tag.cpu().numpy())\n",
    "\n",
    "y_pred_list = [a.squeeze().tolist() for a in y_pred_list]\n",
    "accuracy = accuracy_score(testing_fold_Y_1, y_pred_list)\n",
    "ppv = precision_score(testing_fold_Y_1, y_pred_list, average=None)\n",
    "recall = recall_score(testing_fold_Y_1, y_pred_list, average=None)\n",
    "print(\"Validation Accuracy | \",accuracy*100,\" PPV | \",ppv,\" Recall | \",recall)\n",
    "cf_matrix = confusion_matrix(testing_fold_Y_1, y_pred_list)\n",
    "sn.heatmap(cf_matrix, annot=True)\n",
    "\n",
    "for y in testing_fold_Y_1:\n",
    "    final_prediction_true.append(y)"
   ]
  },
  {
   "cell_type": "code",
   "execution_count": 22,
   "id": "perceived-diving",
   "metadata": {},
   "outputs": [
    {
     "name": "stdout",
     "output_type": "stream",
     "text": [
      "Validation Accuracy |  82.35294117647058  PPV |  [0.93333333 0.        ]  Recall |  [0.875 0.   ]\n"
     ]
    },
    {
     "data": {
      "image/png": "[encoded data removed]",
      "text/plain": [
       "<Figure size 432x288 with 2 Axes>"
      ]
     },
     "metadata": {
      "needs_background": "light"
     },
     "output_type": "display_data"
    }
   ],
   "source": [
    "y_pred_list = []\n",
    "test_loader = DataLoader(dataset=test_data2, batch_size=1)\n",
    "model2.eval() #Model evaluation\n",
    "with torch.no_grad():\n",
    "    for X_batch in test_loader:\n",
    "        X_batch = X_batch.to(device)\n",
    "        y_test_pred = model2(X_batch)\n",
    "        y_test_pred = torch.sigmoid(y_test_pred)\n",
    "        y_pred_tag = torch.round(y_test_pred)\n",
    "        y_pred_list.append(y_pred_tag.cpu().numpy())\n",
    "        final_prediction.append(y_pred_tag.cpu().numpy())\n",
    "\n",
    "y_pred_list = [a.squeeze().tolist() for a in y_pred_list]\n",
    "accuracy = accuracy_score(testing_fold_Y_2, y_pred_list)\n",
    "ppv = precision_score(testing_fold_Y_2, y_pred_list, average=None)\n",
    "recall = recall_score(testing_fold_Y_2, y_pred_list, average=None)\n",
    "print(\"Validation Accuracy | \",accuracy*100,\" PPV | \",ppv,\" Recall | \",recall)\n",
    "cf_matrix = confusion_matrix(testing_fold_Y_2, y_pred_list)\n",
    "sn.heatmap(cf_matrix, annot=True)\n",
    "\n",
    "for y in testing_fold_Y_2:\n",
    "    final_prediction_true.append(y)"
   ]
  },
  {
   "cell_type": "code",
   "execution_count": 23,
   "id": "velvet-authorization",
   "metadata": {},
   "outputs": [
    {
     "name": "stdout",
     "output_type": "stream",
     "text": [
      "Validation Accuracy |  88.23529411764706  PPV |  [0.93333333 0.5       ]  Recall |  [0.93333333 0.5       ]\n"
     ]
    },
    {
     "data": {
      "image/png": "[encoded data removed]",
      "text/plain": [
       "<Figure size 432x288 with 2 Axes>"
      ]
     },
     "metadata": {
      "needs_background": "light"
     },
     "output_type": "display_data"
    }
   ],
   "source": [
    "y_pred_list = []\n",
    "test_loader = DataLoader(dataset=test_data3, batch_size=1)\n",
    "model3.eval() #Model evaluation\n",
    "with torch.no_grad():\n",
    "    for X_batch in test_loader:\n",
    "        X_batch = X_batch.to(device)\n",
    "        y_test_pred = model3(X_batch)\n",
    "        y_test_pred = torch.sigmoid(y_test_pred)\n",
    "        y_pred_tag = torch.round(y_test_pred)\n",
    "        y_pred_list.append(y_pred_tag.cpu().numpy())\n",
    "        final_prediction.append(y_pred_tag.cpu().numpy())\n",
    "\n",
    "y_pred_list = [a.squeeze().tolist() for a in y_pred_list]\n",
    "accuracy = accuracy_score(testing_fold_Y_3, y_pred_list)\n",
    "ppv = precision_score(testing_fold_Y_3, y_pred_list, average=None)\n",
    "recall = recall_score(testing_fold_Y_3, y_pred_list, average=None)\n",
    "print(\"Validation Accuracy | \",accuracy*100,\" PPV | \",ppv,\" Recall | \",recall)\n",
    "cf_matrix = confusion_matrix(testing_fold_Y_3, y_pred_list)\n",
    "sn.heatmap(cf_matrix, annot=True)\n",
    "\n",
    "for y in testing_fold_Y_3:\n",
    "    final_prediction_true.append(y)"
   ]
  },
  {
   "cell_type": "code",
   "execution_count": 24,
   "id": "accurate-bacteria",
   "metadata": {},
   "outputs": [
    {
     "name": "stdout",
     "output_type": "stream",
     "text": [
      "Validation Accuracy |  82.35294117647058  PPV |  [0.875 0.   ]  Recall |  [0.93333333 0.        ]\n"
     ]
    },
    {
     "data": {
      "image/png": "[encoded data removed]",
      "text/plain": [
       "<Figure size 432x288 with 2 Axes>"
      ]
     },
     "metadata": {
      "needs_background": "light"
     },
     "output_type": "display_data"
    }
   ],
   "source": [
    "y_pred_list = []\n",
    "test_loader = DataLoader(dataset=test_data4, batch_size=1)\n",
    "model4.eval() #Model evaluation\n",
    "with torch.no_grad():\n",
    "    for X_batch in test_loader:\n",
    "        X_batch = X_batch.to(device)\n",
    "        y_test_pred = model4(X_batch)\n",
    "        y_test_pred = torch.sigmoid(y_test_pred)\n",
    "        y_pred_tag = torch.round(y_test_pred)\n",
    "        y_pred_list.append(y_pred_tag.cpu().numpy())\n",
    "        final_prediction.append(y_pred_tag.cpu().numpy())\n",
    "\n",
    "y_pred_list = [a.squeeze().tolist() for a in y_pred_list]\n",
    "accuracy = accuracy_score(testing_fold_Y_4, y_pred_list)\n",
    "ppv = precision_score(testing_fold_Y_4, y_pred_list, average=None)\n",
    "recall = recall_score(testing_fold_Y_4, y_pred_list, average=None)\n",
    "print(\"Validation Accuracy | \",accuracy*100,\" PPV | \",ppv,\" Recall | \",recall)\n",
    "cf_matrix = confusion_matrix(testing_fold_Y_4, y_pred_list)\n",
    "sn.heatmap(cf_matrix, annot=True)\n",
    "\n",
    "for y in testing_fold_Y_4:\n",
    "    final_prediction_true.append(y)"
   ]
  },
  {
   "cell_type": "code",
   "execution_count": 25,
   "id": "breeding-forth",
   "metadata": {},
   "outputs": [
    {
     "name": "stdout",
     "output_type": "stream",
     "text": [
      "Validation Accuracy |  64.70588235294117  PPV |  [0.84615385 0.        ]  Recall |  [0.73333333 0.        ]\n"
     ]
    },
    {
     "data": {
      "image/png": "[encoded data removed]",
      "text/plain": [
       "<Figure size 432x288 with 2 Axes>"
      ]
     },
     "metadata": {
      "needs_background": "light"
     },
     "output_type": "display_data"
    }
   ],
   "source": [
    "y_pred_list = []\n",
    "test_loader = DataLoader(dataset=test_data5, batch_size=1)\n",
    "model5.eval() #Model evaluation\n",
    "with torch.no_grad():\n",
    "    for X_batch in test_loader:\n",
    "        X_batch = X_batch.to(device)\n",
    "        y_test_pred = model5(X_batch)\n",
    "        y_test_pred = torch.sigmoid(y_test_pred)\n",
    "        y_pred_tag = torch.round(y_test_pred)\n",
    "        y_pred_list.append(y_pred_tag.cpu().numpy())\n",
    "        final_prediction.append(y_pred_tag.cpu().numpy())\n",
    "\n",
    "y_pred_list = [a.squeeze().tolist() for a in y_pred_list]\n",
    "accuracy = accuracy_score(testing_fold_Y_5, y_pred_list)\n",
    "ppv = precision_score(testing_fold_Y_5, y_pred_list, average=None)\n",
    "recall = recall_score(testing_fold_Y_5, y_pred_list, average=None)\n",
    "print(\"Validation Accuracy | \",accuracy*100,\" PPV | \",ppv,\" Recall | \",recall)\n",
    "cf_matrix = confusion_matrix(testing_fold_Y_5, y_pred_list)\n",
    "sn.heatmap(cf_matrix, annot=True)\n",
    "\n",
    "for y in testing_fold_Y_5:\n",
    "    final_prediction_true.append(y)"
   ]
  },
  {
   "cell_type": "code",
   "execution_count": 26,
   "id": "moral-unknown",
   "metadata": {},
   "outputs": [
    {
     "name": "stdout",
     "output_type": "stream",
     "text": [
      "Validation Accuracy |  88.23529411764706  PPV |  [0.88235294 0.        ]  Recall |  [1. 0.]\n"
     ]
    },
    {
     "name": "stderr",
     "output_type": "stream",
     "text": [
      "C:\\Users\\mattbeze\\Anaconda3\\envs\\pytorch\\lib\\site-packages\\sklearn\\metrics\\_classification.py:1245: UndefinedMetricWarning: Precision is ill-defined and being set to 0.0 in labels with no predicted samples. Use `zero_division` parameter to control this behavior.\n",
      "  _warn_prf(average, modifier, msg_start, len(result))\n"
     ]
    },
    {
     "data": {
      "image/png": "[encoded data removed]",
      "text/plain": [
       "<Figure size 432x288 with 2 Axes>"
      ]
     },
     "metadata": {
      "needs_background": "light"
     },
     "output_type": "display_data"
    }
   ],
   "source": [
    "y_pred_list = []\n",
    "test_loader = DataLoader(dataset=test_data6, batch_size=1)\n",
    "model6.eval() #Model evaluation\n",
    "with torch.no_grad():\n",
    "    for X_batch in test_loader:\n",
    "        X_batch = X_batch.to(device)\n",
    "        y_test_pred = model6(X_batch)\n",
    "        y_test_pred = torch.sigmoid(y_test_pred)\n",
    "        y_pred_tag = torch.round(y_test_pred)\n",
    "        y_pred_list.append(y_pred_tag.cpu().numpy())\n",
    "        final_prediction.append(y_pred_tag.cpu().numpy())\n",
    "\n",
    "y_pred_list = [a.squeeze().tolist() for a in y_pred_list]\n",
    "accuracy = accuracy_score(testing_fold_Y_6, y_pred_list)\n",
    "ppv = precision_score(testing_fold_Y_6, y_pred_list, average=None)\n",
    "recall = recall_score(testing_fold_Y_6, y_pred_list, average=None)\n",
    "print(\"Validation Accuracy | \",accuracy*100,\" PPV | \",ppv,\" Recall | \",recall)\n",
    "cf_matrix = confusion_matrix(testing_fold_Y_6, y_pred_list)\n",
    "sn.heatmap(cf_matrix, annot=True)\n",
    "\n",
    "for y in testing_fold_Y_6:\n",
    "    final_prediction_true.append(y)"
   ]
  },
  {
   "cell_type": "code",
   "execution_count": 27,
   "id": "domestic-satin",
   "metadata": {},
   "outputs": [
    {
     "name": "stdout",
     "output_type": "stream",
     "text": [
      "Validation Accuracy |  88.23529411764706  PPV |  [0.93333333 0.5       ]  Recall |  [0.93333333 0.5       ]\n"
     ]
    },
    {
     "data": {
      "image/png": "[encoded data removed]",
      "text/plain": [
       "<Figure size 432x288 with 2 Axes>"
      ]
     },
     "metadata": {
      "needs_background": "light"
     },
     "output_type": "display_data"
    }
   ],
   "source": [
    "y_pred_list = []\n",
    "test_loader = DataLoader(dataset=test_data7, batch_size=1)\n",
    "model7.eval() #Model evaluation\n",
    "with torch.no_grad():\n",
    "    for X_batch in test_loader:\n",
    "        X_batch = X_batch.to(device)\n",
    "        y_test_pred = model7(X_batch)\n",
    "        y_test_pred = torch.sigmoid(y_test_pred)\n",
    "        y_pred_tag = torch.round(y_test_pred)\n",
    "        y_pred_list.append(y_pred_tag.cpu().numpy())\n",
    "        final_prediction.append(y_pred_tag.cpu().numpy())\n",
    "\n",
    "y_pred_list = [a.squeeze().tolist() for a in y_pred_list]\n",
    "accuracy = accuracy_score(testing_fold_Y_7, y_pred_list)\n",
    "ppv = precision_score(testing_fold_Y_7, y_pred_list, average=None)\n",
    "recall = recall_score(testing_fold_Y_7, y_pred_list, average=None)\n",
    "print(\"Validation Accuracy | \",accuracy*100,\" PPV | \",ppv,\" Recall | \",recall)\n",
    "cf_matrix = confusion_matrix(testing_fold_Y_7, y_pred_list)\n",
    "sn.heatmap(cf_matrix, annot=True)\n",
    "\n",
    "for y in testing_fold_Y_7:\n",
    "    final_prediction_true.append(y)"
   ]
  },
  {
   "cell_type": "code",
   "execution_count": 28,
   "id": "historical-server",
   "metadata": {},
   "outputs": [
    {
     "data": {
      "text/plain": [
       "[0.0,\n",
       " 0.0,\n",
       " 0.0,\n",
       " 0.0,\n",
       " 0.0,\n",
       " 0.0,\n",
       " 0.0,\n",
       " 1.0,\n",
       " 0.0,\n",
       " 1.0,\n",
       " 0.0,\n",
       " 0.0,\n",
       " 0.0,\n",
       " 0.0,\n",
       " 1.0,\n",
       " 0.0,\n",
       " 0.0,\n",
       " 0.0,\n",
       " 0.0,\n",
       " 0.0,\n",
       " 0.0,\n",
       " 0.0,\n",
       " 0.0,\n",
       " 0.0,\n",
       " 0.0,\n",
       " 0.0,\n",
       " 0.0,\n",
       " 0.0,\n",
       " 0.0,\n",
       " 0.0,\n",
       " 0.0,\n",
       " 0.0,\n",
       " 0.0,\n",
       " 0.0,\n",
       " 0.0,\n",
       " 1.0,\n",
       " 0.0,\n",
       " 0.0,\n",
       " 0.0,\n",
       " 0.0,\n",
       " 0.0,\n",
       " 0.0,\n",
       " 0.0,\n",
       " 0.0,\n",
       " 1.0,\n",
       " 0.0,\n",
       " 0.0,\n",
       " 0.0,\n",
       " 0.0,\n",
       " 0.0,\n",
       " 0.0,\n",
       " 0.0,\n",
       " 0.0,\n",
       " 0.0,\n",
       " 0.0,\n",
       " 1.0,\n",
       " 0.0,\n",
       " 0.0,\n",
       " 0.0,\n",
       " 0.0,\n",
       " 0.0,\n",
       " 0.0,\n",
       " 0.0,\n",
       " 1.0,\n",
       " 0.0,\n",
       " 0.0,\n",
       " 0.0,\n",
       " 0.0,\n",
       " 0.0,\n",
       " 0.0,\n",
       " 0.0,\n",
       " 0.0,\n",
       " 0.0,\n",
       " 0.0,\n",
       " 0.0,\n",
       " 0.0,\n",
       " 0.0,\n",
       " 0.0,\n",
       " 1.0,\n",
       " 0.0,\n",
       " 0.0,\n",
       " 0.0,\n",
       " 0.0,\n",
       " 0.0,\n",
       " 0.0,\n",
       " 0.0,\n",
       " 1.0,\n",
       " 0.0,\n",
       " 0.0,\n",
       " 0.0,\n",
       " 0.0,\n",
       " 0.0,\n",
       " 0.0,\n",
       " 0.0,\n",
       " 1.0,\n",
       " 0.0,\n",
       " 0.0,\n",
       " 0.0,\n",
       " 1.0,\n",
       " 0.0,\n",
       " 1.0,\n",
       " 0.0,\n",
       " 0.0,\n",
       " 0.0,\n",
       " 0.0,\n",
       " 0.0,\n",
       " 0.0,\n",
       " 0.0,\n",
       " 0.0,\n",
       " 0.0,\n",
       " 0.0,\n",
       " 0.0,\n",
       " 0.0,\n",
       " 0.0,\n",
       " 0.0,\n",
       " 0.0,\n",
       " 0.0,\n",
       " 0.0,\n",
       " 0.0,\n",
       " 0.0,\n",
       " 0.0,\n",
       " 0.0,\n",
       " 0.0,\n",
       " 0.0,\n",
       " 1.0,\n",
       " 0.0,\n",
       " 1.0,\n",
       " 0.0,\n",
       " 0.0,\n",
       " 0.0,\n",
       " 0.0,\n",
       " 0.0,\n",
       " 0.0,\n",
       " 0.0,\n",
       " 0.0,\n",
       " 0.0,\n",
       " 0.0]"
      ]
     },
     "execution_count": 28,
     "metadata": {},
     "output_type": "execute_result"
    }
   ],
   "source": [
    "prediction_labels = []\n",
    "true_labels = []\n",
    "\n",
    "for x in range(0,len(final_prediction_true)):\n",
    "    true_labels.append(final_prediction_true[x][0])\n",
    "    prediction_labels.append(final_prediction[x][0][0])\n",
    "\n",
    "prediction_labels"
   ]
  },
  {
   "cell_type": "code",
   "execution_count": 29,
   "id": "seasonal-ottawa",
   "metadata": {},
   "outputs": [
    {
     "name": "stdout",
     "output_type": "stream",
     "text": [
      "[[111  12]\n",
      " [ 12   2]]\n",
      "Positive Predictive Value tp/(tp+fp):  0.14285714285714285\n",
      "Accuracy Value (tp+tn)/(tp+fp+fn+tn):  0.8248175182481752\n",
      "Recall Value tp/(tp+fn):  0.14285714285714285\n"
     ]
    },
    {
     "data": {
      "image/png": "[encoded data removed]",
      "text/plain": [
       "<Figure size 432x288 with 2 Axes>"
      ]
     },
     "metadata": {
      "needs_background": "light"
     },
     "output_type": "display_data"
    }
   ],
   "source": [
    "cf_matrix = confusion_matrix(true_labels, prediction_labels)\n",
    "print(cf_matrix)\n",
    "sn.heatmap(cf_matrix, annot=True)\n",
    "\n",
    "\n",
    "accuracy = accuracy_score(true_labels, prediction_labels)\n",
    "recall = recall_score(true_labels, prediction_labels, average=None)\n",
    "prec_score = precision_score(true_labels, prediction_labels, average=None)\n",
    "print('Positive Predictive Value tp/(tp+fp): ',prec_score[1]) \n",
    "print('Accuracy Value (tp+tn)/(tp+fp+fn+tn): ',accuracy) \n",
    "print('Recall Value tp/(tp+fn): ',recall[1]) "
   ]
  },
  {
   "cell_type": "code",
   "execution_count": 30,
   "id": "presidential-brighton",
   "metadata": {},
   "outputs": [],
   "source": [
    "#Line up Subjects by case number based on test_index in skf. This is done before smoting.\n",
    "#Allows us to later check t-score to see if the models improve when using imputed data\n",
    "#that we are able to classify the ones that have borderline t-scores (60 - 65 ish)\n",
    "#Can create a histogram of the distribution based on correctly predicted vs incorrectly predicted\n",
    "\n",
    "#Try the HYP Hyperparameters and pretraining on the ATP models - Significantly better\n",
    "#Double check whether or not grid search included interpolated samples - No, but I did smote them.\n",
    "#Could try and add twins into the testing/validation set - Need to rescale them and find the minmax scaling file I used later."
   ]
  },
  {
   "cell_type": "code",
   "execution_count": 31,
   "id": "breeding-criminal",
   "metadata": {},
   "outputs": [
    {
     "name": "stdout",
     "output_type": "stream",
     "text": [
      "(142, 298)\n",
      "(142, 1)\n"
     ]
    }
   ],
   "source": [
    "Twin_Validation = pd.ExcelFile(\"Scaled Twin CTSA1y with labels sex GA.xlsx\") #298 Features, CT1y SA1y GA Sex\n",
    "Twin_Labels = pd.ExcelFile(\"Twin Labels.xlsx\") #Labels for twins\n",
    "\n",
    "twin_data = Twin_Validation.parse(Twin_Validation.sheet_names[0])\n",
    "twin_label_data = Twin_Labels.parse(Twin_Labels.sheet_names[0])\n",
    "twin_data_features = twin_data.loc[:, twin_data.columns]\n",
    "twin_data_features = twin_data_features.drop(['ROI','MATCH','INDEX','MATCH2','INDEX2', 'ATP', 'HYP', 'ATP Middle', 'HYP Middle', 'ATP Label'], axis=1)\n",
    "twin_data_features = twin_data_features.dropna()\n",
    "twin_data_features = twin_data_features.drop(['HYP Label'], axis=1)\n",
    "twin_labels = twin_label_data.loc[:, twin_label_data.columns]\n",
    "twin_labels = twin_labels.drop(['ROI','ATP Middle', 'HYP Middle', 'ATP Label'], axis=1)\n",
    "twin_labels = twin_labels.dropna()\n",
    "print(twin_data_features.shape)\n",
    "print(twin_labels.shape)"
   ]
  },
  {
   "cell_type": "code",
   "execution_count": 32,
   "id": "common-moldova",
   "metadata": {},
   "outputs": [],
   "source": [
    "type(twin_data_features) #Currently dataframe, needs to be numpy array\n",
    "td_features = twin_data_features.to_numpy()\n",
    "td_data = testData(torch.FloatTensor(td_features))\n",
    "\n",
    "t_labels = twin_labels.to_numpy()"
   ]
  },
  {
   "cell_type": "code",
   "execution_count": 33,
   "id": "stable-resort",
   "metadata": {},
   "outputs": [
    {
     "name": "stdout",
     "output_type": "stream",
     "text": [
      "Validation Accuracy |  73.23943661971832  PPV |  [0.9009009  0.12903226]  Recall |  [0.78740157 0.26666667]\n",
      "[[100  27]\n",
      " [ 11   4]]\n"
     ]
    },
    {
     "data": {
      "image/png": "[encoded data removed]",
      "text/plain": [
       "<Figure size 432x288 with 2 Axes>"
      ]
     },
     "metadata": {
      "needs_background": "light"
     },
     "output_type": "display_data"
    }
   ],
   "source": [
    "y_pred_list = []\n",
    "test_loader = DataLoader(dataset=td_data, batch_size=1)\n",
    "model.eval() #Model evaluation\n",
    "with torch.no_grad():\n",
    "    for X_batch in test_loader:\n",
    "        X_batch = X_batch.to(device)\n",
    "        y_test_pred = model(X_batch)\n",
    "        y_test_pred = torch.sigmoid(y_test_pred)\n",
    "        y_pred_tag = torch.round(y_test_pred)\n",
    "        y_pred_list.append(y_pred_tag.cpu().numpy())\n",
    "        final_prediction.append(y_pred_tag.cpu().numpy())\n",
    "\n",
    "y_pred_list = [a.squeeze().tolist() for a in y_pred_list]\n",
    "accuracy = accuracy_score(t_labels, y_pred_list)\n",
    "ppv = precision_score(t_labels, y_pred_list, average=None)\n",
    "recall = recall_score(t_labels, y_pred_list, average=None)\n",
    "print(\"Validation Accuracy | \",accuracy*100,\" PPV | \",ppv,\" Recall | \",recall)\n",
    "cf_matrix = confusion_matrix(t_labels, y_pred_list)\n",
    "sn.heatmap(cf_matrix, annot=True)\n",
    "print(cf_matrix)"
   ]
  },
  {
   "cell_type": "code",
   "execution_count": 34,
   "id": "mediterranean-empire",
   "metadata": {},
   "outputs": [
    {
     "name": "stdout",
     "output_type": "stream",
     "text": [
      "Validation Accuracy |  69.71830985915493  PPV |  [0.88888889 0.08823529]  Recall |  [0.75590551 0.2       ]\n",
      "[[96 31]\n",
      " [12  3]]\n"
     ]
    },
    {
     "data": {
      "image/png": "[encoded data removed]",
      "text/plain": [
       "<Figure size 432x288 with 2 Axes>"
      ]
     },
     "metadata": {
      "needs_background": "light"
     },
     "output_type": "display_data"
    }
   ],
   "source": [
    "y_pred_list1 = []\n",
    "test_loader = DataLoader(dataset=td_data, batch_size=1)\n",
    "model1.eval() #Model evaluation\n",
    "with torch.no_grad():\n",
    "    for X_batch in test_loader:\n",
    "        X_batch = X_batch.to(device)\n",
    "        y_test_pred = model1(X_batch)\n",
    "        y_test_pred = torch.sigmoid(y_test_pred)\n",
    "        y_pred_tag = torch.round(y_test_pred)\n",
    "        y_pred_list1.append(y_pred_tag.cpu().numpy())\n",
    "        final_prediction.append(y_pred_tag.cpu().numpy())\n",
    "\n",
    "y_pred_list1 = [a.squeeze().tolist() for a in y_pred_list1]\n",
    "accuracy = accuracy_score(t_labels, y_pred_list1)\n",
    "ppv = precision_score(t_labels, y_pred_list1, average=None)\n",
    "recall = recall_score(t_labels, y_pred_list1, average=None)\n",
    "print(\"Validation Accuracy | \",accuracy*100,\" PPV | \",ppv,\" Recall | \",recall)\n",
    "cf_matrix = confusion_matrix(t_labels, y_pred_list1)\n",
    "sn.heatmap(cf_matrix, annot=True)\n",
    "print(cf_matrix)"
   ]
  },
  {
   "cell_type": "code",
   "execution_count": 35,
   "id": "confidential-perry",
   "metadata": {},
   "outputs": [
    {
     "name": "stdout",
     "output_type": "stream",
     "text": [
      "Validation Accuracy |  63.38028169014085  PPV |  [0.87878788 0.06976744]  Recall |  [0.68503937 0.2       ]\n",
      "[[87 40]\n",
      " [12  3]]\n"
     ]
    },
    {
     "data": {
      "image/png": "[encoded data removed]",
      "text/plain": [
       "<Figure size 432x288 with 2 Axes>"
      ]
     },
     "metadata": {
      "needs_background": "light"
     },
     "output_type": "display_data"
    }
   ],
   "source": [
    "y_pred_list2 = []\n",
    "test_loader = DataLoader(dataset=td_data, batch_size=1)\n",
    "model2.eval() #Model evaluation\n",
    "with torch.no_grad():\n",
    "    for X_batch in test_loader:\n",
    "        X_batch = X_batch.to(device)\n",
    "        y_test_pred = model2(X_batch)\n",
    "        y_test_pred = torch.sigmoid(y_test_pred)\n",
    "        y_pred_tag = torch.round(y_test_pred)\n",
    "        y_pred_list2.append(y_pred_tag.cpu().numpy())\n",
    "        final_prediction.append(y_pred_tag.cpu().numpy())\n",
    "\n",
    "y_pred_list2 = [a.squeeze().tolist() for a in y_pred_list2]\n",
    "accuracy = accuracy_score(t_labels, y_pred_list2)\n",
    "ppv = precision_score(t_labels, y_pred_list2, average=None)\n",
    "recall = recall_score(t_labels, y_pred_list2, average=None)\n",
    "print(\"Validation Accuracy | \",accuracy*100,\" PPV | \",ppv,\" Recall | \",recall)\n",
    "cf_matrix = confusion_matrix(t_labels, y_pred_list2)\n",
    "sn.heatmap(cf_matrix, annot=True)\n",
    "print(cf_matrix)"
   ]
  },
  {
   "cell_type": "code",
   "execution_count": 36,
   "id": "expensive-header",
   "metadata": {},
   "outputs": [
    {
     "name": "stdout",
     "output_type": "stream",
     "text": [
      "Validation Accuracy |  69.01408450704226  PPV |  [0.88785047 0.08571429]  Recall |  [0.7480315 0.2      ]\n",
      "[[95 32]\n",
      " [12  3]]\n"
     ]
    },
    {
     "data": {
      "image/png": "[encoded data removed]",
      "text/plain": [
       "<Figure size 432x288 with 2 Axes>"
      ]
     },
     "metadata": {
      "needs_background": "light"
     },
     "output_type": "display_data"
    }
   ],
   "source": [
    "y_pred_list3 = []\n",
    "test_loader = DataLoader(dataset=td_data, batch_size=1)\n",
    "model3.eval() #Model evaluation\n",
    "with torch.no_grad():\n",
    "    for X_batch in test_loader:\n",
    "        X_batch = X_batch.to(device)\n",
    "        y_test_pred = model3(X_batch)\n",
    "        y_test_pred = torch.sigmoid(y_test_pred)\n",
    "        y_pred_tag = torch.round(y_test_pred)\n",
    "        y_pred_list3.append(y_pred_tag.cpu().numpy())\n",
    "        final_prediction.append(y_pred_tag.cpu().numpy())\n",
    "\n",
    "y_pred_list3 = [a.squeeze().tolist() for a in y_pred_list3]\n",
    "accuracy = accuracy_score(t_labels, y_pred_list3)\n",
    "ppv = precision_score(t_labels, y_pred_list3, average=None)\n",
    "recall = recall_score(t_labels, y_pred_list3, average=None)\n",
    "print(\"Validation Accuracy | \",accuracy*100,\" PPV | \",ppv,\" Recall | \",recall)\n",
    "cf_matrix = confusion_matrix(t_labels, y_pred_list3)\n",
    "sn.heatmap(cf_matrix, annot=True)\n",
    "print(cf_matrix)"
   ]
  },
  {
   "cell_type": "code",
   "execution_count": 37,
   "id": "technological-ghana",
   "metadata": {},
   "outputs": [
    {
     "name": "stdout",
     "output_type": "stream",
     "text": [
      "Validation Accuracy |  73.23943661971832  PPV |  [0.89380531 0.10344828]  Recall |  [0.79527559 0.2       ]\n",
      "[[101  26]\n",
      " [ 12   3]]\n"
     ]
    },
    {
     "data": {
      "image/png": "[encoded data removed]",
      "text/plain": [
       "<Figure size 432x288 with 2 Axes>"
      ]
     },
     "metadata": {
      "needs_background": "light"
     },
     "output_type": "display_data"
    }
   ],
   "source": [
    "y_pred_list4 = []\n",
    "test_loader = DataLoader(dataset=td_data, batch_size=1)\n",
    "model4.eval() #Model evaluation\n",
    "with torch.no_grad():\n",
    "    for X_batch in test_loader:\n",
    "        X_batch = X_batch.to(device)\n",
    "        y_test_pred = model4(X_batch)\n",
    "        y_test_pred = torch.sigmoid(y_test_pred)\n",
    "        y_pred_tag = torch.round(y_test_pred)\n",
    "        y_pred_list4.append(y_pred_tag.cpu().numpy())\n",
    "        final_prediction.append(y_pred_tag.cpu().numpy())\n",
    "\n",
    "y_pred_list4 = [a.squeeze().tolist() for a in y_pred_list4]\n",
    "accuracy = accuracy_score(t_labels, y_pred_list4)\n",
    "ppv = precision_score(t_labels, y_pred_list4, average=None)\n",
    "recall = recall_score(t_labels, y_pred_list4, average=None)\n",
    "print(\"Validation Accuracy | \",accuracy*100,\" PPV | \",ppv,\" Recall | \",recall)\n",
    "cf_matrix = confusion_matrix(t_labels, y_pred_list4)\n",
    "sn.heatmap(cf_matrix, annot=True)\n",
    "print(cf_matrix)"
   ]
  },
  {
   "cell_type": "code",
   "execution_count": 38,
   "id": "formal-hepatitis",
   "metadata": {},
   "outputs": [
    {
     "name": "stdout",
     "output_type": "stream",
     "text": [
      "Validation Accuracy |  69.01408450704226  PPV |  [0.88785047 0.08571429]  Recall |  [0.7480315 0.2      ]\n",
      "[[95 32]\n",
      " [12  3]]\n"
     ]
    },
    {
     "data": {
      "image/png": "[encoded data removed]",
      "text/plain": [
       "<Figure size 432x288 with 2 Axes>"
      ]
     },
     "metadata": {
      "needs_background": "light"
     },
     "output_type": "display_data"
    }
   ],
   "source": [
    "y_pred_list5 = []\n",
    "test_loader = DataLoader(dataset=td_data, batch_size=1)\n",
    "model5.eval() #Model evaluation\n",
    "with torch.no_grad():\n",
    "    for X_batch in test_loader:\n",
    "        X_batch = X_batch.to(device)\n",
    "        y_test_pred = model5(X_batch)\n",
    "        y_test_pred = torch.sigmoid(y_test_pred)\n",
    "        y_pred_tag = torch.round(y_test_pred)\n",
    "        y_pred_list5.append(y_pred_tag.cpu().numpy())\n",
    "        final_prediction.append(y_pred_tag.cpu().numpy())\n",
    "\n",
    "y_pred_list5 = [a.squeeze().tolist() for a in y_pred_list5]\n",
    "accuracy = accuracy_score(t_labels, y_pred_list5)\n",
    "ppv = precision_score(t_labels, y_pred_list5, average=None)\n",
    "recall = recall_score(t_labels, y_pred_list5, average=None)\n",
    "print(\"Validation Accuracy | \",accuracy*100,\" PPV | \",ppv,\" Recall | \",recall)\n",
    "cf_matrix = confusion_matrix(t_labels, y_pred_list5)\n",
    "sn.heatmap(cf_matrix, annot=True)\n",
    "print(cf_matrix)"
   ]
  },
  {
   "cell_type": "code",
   "execution_count": 39,
   "id": "indonesian-chess",
   "metadata": {},
   "outputs": [
    {
     "name": "stdout",
     "output_type": "stream",
     "text": [
      "Validation Accuracy |  69.01408450704226  PPV |  [0.8952381  0.10810811]  Recall |  [0.74015748 0.26666667]\n",
      "[[94 33]\n",
      " [11  4]]\n"
     ]
    },
    {
     "data": {
      "image/png": "[encoded data removed]",
      "text/plain": [
       "<Figure size 432x288 with 2 Axes>"
      ]
     },
     "metadata": {
      "needs_background": "light"
     },
     "output_type": "display_data"
    }
   ],
   "source": [
    "y_pred_list6 = []\n",
    "test_loader = DataLoader(dataset=td_data, batch_size=1)\n",
    "model6.eval() #Model evaluation\n",
    "with torch.no_grad():\n",
    "    for X_batch in test_loader:\n",
    "        X_batch = X_batch.to(device)\n",
    "        y_test_pred = model6(X_batch)\n",
    "        y_test_pred = torch.sigmoid(y_test_pred)\n",
    "        y_pred_tag = torch.round(y_test_pred)\n",
    "        y_pred_list6.append(y_pred_tag.cpu().numpy())\n",
    "        final_prediction.append(y_pred_tag.cpu().numpy())\n",
    "\n",
    "y_pred_list6 = [a.squeeze().tolist() for a in y_pred_list6]\n",
    "accuracy = accuracy_score(t_labels, y_pred_list6)\n",
    "ppv = precision_score(t_labels, y_pred_list6, average=None)\n",
    "recall = recall_score(t_labels, y_pred_list6, average=None)\n",
    "print(\"Validation Accuracy | \",accuracy*100,\" PPV | \",ppv,\" Recall | \",recall)\n",
    "cf_matrix = confusion_matrix(t_labels, y_pred_list6)\n",
    "sn.heatmap(cf_matrix, annot=True)\n",
    "print(cf_matrix)"
   ]
  },
  {
   "cell_type": "code",
   "execution_count": 40,
   "id": "acting-cleaners",
   "metadata": {},
   "outputs": [
    {
     "name": "stdout",
     "output_type": "stream",
     "text": [
      "Validation Accuracy |  66.19718309859155  PPV |  [0.89108911 0.09756098]  Recall |  [0.70866142 0.26666667]\n",
      "[[90 37]\n",
      " [11  4]]\n"
     ]
    },
    {
     "data": {
      "image/png": "[encoded data removed]",
      "text/plain": [
       "<Figure size 432x288 with 2 Axes>"
      ]
     },
     "metadata": {
      "needs_background": "light"
     },
     "output_type": "display_data"
    }
   ],
   "source": [
    "y_pred_list7 = []\n",
    "test_loader = DataLoader(dataset=td_data, batch_size=1)\n",
    "model7.eval() #Model evaluation\n",
    "with torch.no_grad():\n",
    "    for X_batch in test_loader:\n",
    "        X_batch = X_batch.to(device)\n",
    "        y_test_pred = model7(X_batch)\n",
    "        y_test_pred = torch.sigmoid(y_test_pred)\n",
    "        y_pred_tag = torch.round(y_test_pred)\n",
    "        y_pred_list7.append(y_pred_tag.cpu().numpy())\n",
    "        final_prediction.append(y_pred_tag.cpu().numpy())\n",
    "\n",
    "y_pred_list7 = [a.squeeze().tolist() for a in y_pred_list7]\n",
    "accuracy = accuracy_score(t_labels, y_pred_list7)\n",
    "ppv = precision_score(t_labels, y_pred_list7, average=None)\n",
    "recall = recall_score(t_labels, y_pred_list7, average=None)\n",
    "print(\"Validation Accuracy | \",accuracy*100,\" PPV | \",ppv,\" Recall | \",recall)\n",
    "cf_matrix = confusion_matrix(t_labels, y_pred_list7)\n",
    "sn.heatmap(cf_matrix, annot=True)\n",
    "print(cf_matrix)"
   ]
  },
  {
   "cell_type": "code",
   "execution_count": 41,
   "id": "neural-nutrition",
   "metadata": {},
   "outputs": [
    {
     "name": "stdout",
     "output_type": "stream",
     "text": [
      "[0.0, 0.0, 0.0, 1.0, 0.0, 0.0, 1.0, 0.0, 0.0, 0.0, 0.0, 1.0, 0.0, 0.0, 0.0, 0.0, 0.0, 0.0, 0.0, 0.0, 0.0, 1.0, 0.0, 0.0, 0.0, 1.0, 0.0, 0.0, 0.0, 0.0, 1.0, 0.0, 0.0, 0.0, 0.0, 1.0, 1.0, 0.0, 1.0, 0.0, 0.0, 1.0, 0.0, 0.0, 0.0, 0.0, 0.0, 0.0, 0.0, 0.0, 0.0, 0.0, 1.0, 0.0, 0.0, 0.0, 1.0, 0.0, 1.0, 0.0, 0.0, 0.0, 0.0, 0.0, 0.0, 0.0, 0.0, 1.0, 0.0, 0.0, 0.0, 0.0, 0.0, 0.0, 1.0, 1.0, 0.0, 0.0, 1.0, 0.0, 0.0, 0.0, 0.0, 0.0, 0.0, 0.0, 0.0, 1.0, 1.0, 0.0, 1.0, 1.0, 0.0, 0.0, 0.0, 1.0, 0.0, 0.0, 0.0, 0.0, 0.0, 0.0, 1.0, 0.0, 1.0, 0.0, 0.0, 0.0, 1.0, 0.0, 0.0, 0.0, 0.0, 0.0, 0.0, 1.0, 0.0, 0.0, 0.0, 0.0, 0.0, 1.0, 1.0, 0.0, 1.0, 0.0, 0.0, 1.0, 0.0, 0.0, 0.0, 0.0, 0.0, 0.0, 0.0, 0.0, 0.0, 0.0, 1.0, 0.0, 0.0, 0.0]\n"
     ]
    }
   ],
   "source": [
    "final_twin_pred = []\n",
    "for x in range(0,142):\n",
    "    count = 0\n",
    "    if(y_pred_list[x] == 1.0):\n",
    "        count += 1\n",
    "    if(y_pred_list1[x] == 1.0):\n",
    "        count += 1\n",
    "    if(y_pred_list2[x] == 1.0):\n",
    "        count += 1\n",
    "    if(y_pred_list3[x] == 1.0):\n",
    "        count += 1\n",
    "    if(y_pred_list4[x] == 1.0):\n",
    "        count += 1\n",
    "    if(y_pred_list5[x] == 1.0):\n",
    "        count += 1\n",
    "    if(y_pred_list6[x] == 1.0):\n",
    "        count += 1\n",
    "    if(y_pred_list7[x] == 1.0):\n",
    "        count += 1\n",
    "    if(count > 4):\n",
    "        final_twin_pred.append(1.0)\n",
    "    else:\n",
    "        final_twin_pred.append(0.0)\n",
    "\n",
    "print(final_twin_pred)"
   ]
  },
  {
   "cell_type": "code",
   "execution_count": 42,
   "id": "pointed-confirmation",
   "metadata": {},
   "outputs": [
    {
     "name": "stdout",
     "output_type": "stream",
     "text": [
      "Validation Accuracy |  71.83098591549296  PPV |  [0.89189189 0.09677419]  Recall |  [0.77952756 0.2       ]\n",
      "[[99 28]\n",
      " [12  3]]\n"
     ]
    },
    {
     "data": {
      "image/png": "[encoded data removed]",
      "text/plain": [
       "<Figure size 432x288 with 2 Axes>"
      ]
     },
     "metadata": {
      "needs_background": "light"
     },
     "output_type": "display_data"
    }
   ],
   "source": [
    "accuracy = accuracy_score(t_labels, final_twin_pred)\n",
    "ppv = precision_score(t_labels, final_twin_pred, average=None)\n",
    "recall = recall_score(t_labels, final_twin_pred, average=None)\n",
    "print(\"Validation Accuracy | \",accuracy*100,\" PPV | \",ppv,\" Recall | \",recall)\n",
    "cf_matrix = confusion_matrix(t_labels, final_twin_pred)\n",
    "sn.heatmap(cf_matrix, annot=True)\n",
    "print(cf_matrix)"
   ]
  }
 ],
 "metadata": {
  "kernelspec": {
   "display_name": "Python 3",
   "language": "python",
   "name": "python3"
  },
  "language_info": {
   "codemirror_mode": {
    "name": "ipython",
    "version": 3
   },
   "file_extension": ".py",
   "mimetype": "text/x-python",
   "name": "python",
   "nbconvert_exporter": "python",
   "pygments_lexer": "ipython3",
   "version": "3.7.9"
  }
 },
 "nbformat": 4,
 "nbformat_minor": 5
}
