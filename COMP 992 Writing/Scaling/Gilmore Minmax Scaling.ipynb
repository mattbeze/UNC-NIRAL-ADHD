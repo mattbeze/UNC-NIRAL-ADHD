{
 "cells": [
  {
   "cell_type": "code",
   "execution_count": 1,
   "metadata": {},
   "outputs": [],
   "source": [
    "import pandas as pd\n",
    "from sklearn.preprocessing import MinMaxScaler\n",
    "import joblib\n",
    "\n",
    "Gilmore_Data = pd.ExcelFile(\"CONTE_TWIN_CT_SA_tlaplace_Master.xlsx\") \n",
    "Gilmore_Data_Sorted = pd.ExcelFile(\"CONTE_TWIN_CT_SA_1_2_YEAR_SORTED.xlsx\")\n",
    "scalerCT1y = MinMaxScaler()\n",
    "scalerCT2y = MinMaxScaler()\n",
    "scalerSA1y = MinMaxScaler()\n",
    "scalerSA2y = MinMaxScaler()"
   ]
  },
  {
   "cell_type": "code",
   "execution_count": 2,
   "metadata": {},
   "outputs": [],
   "source": [
    "ct1y = Gilmore_Data_Sorted.sheet_names[0]\n",
    "ct2y = Gilmore_Data_Sorted.sheet_names[1]\n",
    "sa1y = Gilmore_Data_Sorted.sheet_names[2]\n",
    "sa2y = Gilmore_Data_Sorted.sheet_names[3]\n",
    "\n",
    "ct1y_data = Gilmore_Data_Sorted.parse(ct1y)\n",
    "ct2y_data = Gilmore_Data_Sorted.parse(ct2y)\n",
    "sa1y_data = Gilmore_Data_Sorted.parse(sa1y)\n",
    "sa2y_data = Gilmore_Data_Sorted.parse(sa2y)\n",
    "\n",
    "ct1y_data_features = ct1y_data.loc[:, ct1y_data.columns] \n",
    "ct1y_data_features = ct1y_data_features.drop(['ROI',11142,12142], axis=1)\n",
    "ct2y_data_features = ct2y_data.loc[:, ct2y_data.columns] \n",
    "ct2y_data_features = ct2y_data_features.drop(['ROI',11142,12142], axis=1) \n",
    "sa1y_data_features = sa1y_data.loc[:, sa1y_data.columns] \n",
    "sa1y_data_features = sa1y_data_features.drop(['ROI',11142,12142], axis=1) \n",
    "sa2y_data_features = sa2y_data.loc[:, sa2y_data.columns] \n",
    "sa2y_data_features = sa2y_data_features.drop(['ROI',11142,12142], axis=1) \n",
    "\n",
    "scaled_gilmore_ct1y = scalerCT1y.fit_transform(ct1y_data_features)\n",
    "scaled_gilmore_ct2y = scalerCT2y.fit_transform(ct2y_data_features)\n",
    "scaled_gilmore_sa1y = scalerSA1y.fit_transform(sa1y_data_features)\n",
    "scaled_gilmore_sa2y = scalerSA2y.fit_transform(sa2y_data_features)"
   ]
  },
  {
   "cell_type": "code",
   "execution_count": 3,
   "metadata": {},
   "outputs": [],
   "source": [
    "#Saving the scaled IBIS data\n",
    "df0 = pd.DataFrame(scaled_gilmore_ct1y)\n",
    "df1 = pd.DataFrame(scaled_gilmore_ct2y)\n",
    "df2 = pd.DataFrame(scaled_gilmore_sa1y)\n",
    "df3 = pd.DataFrame(scaled_gilmore_sa2y)\n",
    "\n",
    "# Create a Pandas Excel writer using XlsxWriter as the engine.\n",
    "writer = pd.ExcelWriter('GILMORE_CT_SA_1_2_YEAR_SCALED.xlsx', engine='xlsxwriter')\n",
    "\n",
    "# Write each dataframe to a different worksheet.\n",
    "df0.to_excel(writer, sheet_name='Gilmore CONTE CT 1yr')\n",
    "df1.to_excel(writer, sheet_name='Gilmore CONTE CT 2yr')\n",
    "df2.to_excel(writer, sheet_name='Gilmore CONTE SA 1yr')\n",
    "df3.to_excel(writer, sheet_name='Gilmore CONTE SA 2yr')\n",
    "\n",
    "writer.save()"
   ]
  },
  {
   "cell_type": "code",
   "execution_count": 4,
   "metadata": {},
   "outputs": [
    {
     "data": {
      "text/plain": [
       "['Gilmore_scaledSA2y.save']"
      ]
     },
     "execution_count": 4,
     "metadata": {},
     "output_type": "execute_result"
    }
   ],
   "source": [
    "#Saving the scalers\n",
    "scalerCT1y_filename = \"Gilmore_scaledCT1y.save\"\n",
    "joblib.dump(scalerCT1y, scalerCT1y_filename)\n",
    "scalerCT2y_filename = \"Gilmore_scaledCT2y.save\"\n",
    "joblib.dump(scalerCT2y, scalerCT2y_filename)\n",
    "scalerSA1y_filename = \"Gilmore_scaledSA1y.save\"\n",
    "joblib.dump(scalerSA1y, scalerSA1y_filename)\n",
    "scalerSA2y_filename = \"Gilmore_scaledSA2y.save\"\n",
    "joblib.dump(scalerSA2y, scalerSA2y_filename)"
   ]
  }
 ],
 "metadata": {
  "kernelspec": {
   "display_name": "Python 3",
   "language": "python",
   "name": "python3"
  },
  "language_info": {
   "codemirror_mode": {
    "name": "ipython",
    "version": 3
   },
   "file_extension": ".py",
   "mimetype": "text/x-python",
   "name": "python",
   "nbconvert_exporter": "python",
   "pygments_lexer": "ipython3",
   "version": "3.6.9"
  }
 },
 "nbformat": 4,
 "nbformat_minor": 4
}
