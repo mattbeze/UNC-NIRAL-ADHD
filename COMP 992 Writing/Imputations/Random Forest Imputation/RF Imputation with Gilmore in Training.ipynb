{
 "cells": [
  {
   "cell_type": "code",
   "execution_count": 1,
   "metadata": {},
   "outputs": [
    {
     "name": "stdout",
     "output_type": "stream",
     "text": [
      "(290, 148)\n",
      "(290, 148)\n"
     ]
    }
   ],
   "source": [
    "import numpy as np\n",
    "import pandas as pd\n",
    "import joblib\n",
    "from pandas import DataFrame\n",
    "import xlsxwriter\n",
    "from sklearn.model_selection import train_test_split\n",
    "from sklearn.ensemble import RandomForestRegressor\n",
    "\n",
    "#Get base from IBIS Data to fit\n",
    "data = pd.ExcelFile(\"RF Imputation Scaled.xlsx\") \n",
    "ibis_sa1y_sheet = data.sheet_names[0]\n",
    "ibis_sa2y_sheet = data.sheet_names[1]\n",
    "\n",
    "ibis_sa1y_data = data.parse(ibis_sa1y_sheet)\n",
    "ibis_sa2y_data = data.parse(ibis_sa2y_sheet)\n",
    "\n",
    "ibis_data_features_sa1y = ibis_sa1y_data.loc[:, ibis_sa1y_data.columns] \n",
    "ibis_data_features_sa1y = ibis_data_features_sa1y.drop(['ROI'], axis=1)\n",
    "ibis_data_features_sa2y = ibis_sa2y_data.loc[:, ibis_sa2y_data.columns] \n",
    "ibis_data_features_sa2y = ibis_data_features_sa2y.drop(['ROI'], axis=1)\n",
    "#Already dropped ,'1SA-11142','1SA-12142','2SA-11142','2SA-12142'\n",
    "\n",
    "print(ibis_data_features_sa1y.shape)\n",
    "print(ibis_data_features_sa2y.shape)"
   ]
  },
  {
   "cell_type": "code",
   "execution_count": 2,
   "metadata": {},
   "outputs": [
    {
     "name": "stdout",
     "output_type": "stream",
     "text": [
      "Individual data feature shapes\n",
      "(129, 148)\n",
      "(129, 148)\n"
     ]
    }
   ],
   "source": [
    "#Get the Gilmore data we want imputed to calculate MAE\n",
    "#'1SA-11142','1SA-12142','2SA-11142','2SA-12142' Already dropped\n",
    "gilmore_sa_sheet_1yToImpute2y = data.sheet_names[2]\n",
    "gilmore_sa_sheet_2yToImpute1y = data.sheet_names[3]\n",
    "\n",
    "gilmore_sa1y_data = data.parse(gilmore_sa_sheet_1yToImpute2y)\n",
    "gilmore_data_features_sa1y = gilmore_sa1y_data.loc[:, gilmore_sa1y_data.columns]\n",
    "gilmore_data_features_sa1y = gilmore_data_features_sa1y.drop(['ROI'], axis=1)\n",
    "\n",
    "gilmore_sa2y_data = data.parse(gilmore_sa_sheet_2yToImpute1y)\n",
    "gilmore_data_features_sa2y = gilmore_sa2y_data.loc[:, gilmore_sa2y_data.columns]\n",
    "gilmore_data_features_sa2y = gilmore_data_features_sa2y.drop(['ROI'], axis=1)\n",
    "\n",
    "print(\"Individual data feature shapes\")\n",
    "print(gilmore_data_features_sa1y.shape)\n",
    "print(gilmore_data_features_sa2y.shape)"
   ]
  },
  {
   "cell_type": "code",
   "execution_count": 3,
   "metadata": {},
   "outputs": [
    {
     "name": "stdout",
     "output_type": "stream",
     "text": [
      "(64, 148)\n",
      "(65, 148)\n",
      "(64, 148)\n",
      "(65, 148)\n",
      "--------\n",
      "(354, 148)\n",
      "(354, 148)\n"
     ]
    }
   ],
   "source": [
    "#Combine some Gilmore for training with IBIS data\n",
    "\n",
    "X_train_sa1y, X_test_sa1y, X_train_sa2y, X_test_sa2y = train_test_split(gilmore_data_features_sa1y, gilmore_data_features_sa2y, test_size=0.50, random_state=20)\n",
    "print(X_train_sa1y.shape)\n",
    "print(X_test_sa1y.shape)\n",
    "print(X_train_sa2y.shape)\n",
    "print(X_test_sa2y.shape)\n",
    "\n",
    "X_train_sa1y_full = pd.concat([ibis_data_features_sa1y, X_train_sa1y])\n",
    "X_train_sa2y_full = pd.concat([ibis_data_features_sa2y, X_train_sa2y])\n",
    "\n",
    "print(\"--------\")\n",
    "print(X_train_sa1y_full.shape)\n",
    "print(X_train_sa2y_full.shape)"
   ]
  },
  {
   "cell_type": "code",
   "execution_count": 4,
   "metadata": {},
   "outputs": [
    {
     "data": {
      "text/plain": [
       "RandomForestRegressor()"
      ]
     },
     "execution_count": 4,
     "metadata": {},
     "output_type": "execute_result"
    }
   ],
   "source": [
    "impute_sa2y_from_sa1y = RandomForestRegressor()\n",
    "impute_sa1y_from_sa2y = RandomForestRegressor()\n",
    "\n",
    "#Fit to Data\n",
    "impute_sa2y_from_sa1y.fit(X_train_sa1y_full, X_train_sa2y_full)\n",
    "impute_sa1y_from_sa2y.fit(X_train_sa2y_full, X_train_sa1y_full)"
   ]
  },
  {
   "cell_type": "code",
   "execution_count": 5,
   "metadata": {},
   "outputs": [
    {
     "name": "stdout",
     "output_type": "stream",
     "text": [
      "Imputed Individual Shapes\n",
      "(65, 148)\n",
      "(65, 148)\n"
     ]
    }
   ],
   "source": [
    "#Predict Gilmore Data for MAE\n",
    "imputed_sa2y_gilmore = impute_sa2y_from_sa1y.predict(X_test_sa1y)\n",
    "imputed_sa1y_gilmore = impute_sa1y_from_sa2y.predict(X_test_sa2y)\n",
    "print(\"Imputed Individual Shapes\")\n",
    "print(imputed_sa2y_gilmore.shape)\n",
    "print(imputed_sa1y_gilmore.shape)\n",
    "\n",
    "#DFs for Individuals\n",
    "df_sa_2y = pd.DataFrame(imputed_sa2y_gilmore)\n",
    "df_sa_1y = pd.DataFrame(imputed_sa1y_gilmore)\n",
    "\n",
    "df_sa_2y.to_excel(\"Imputed SA 2y RF with Gilmore in Training.xlsx\", index=False)\n",
    "df_sa_1y.to_excel(\"Imputed SA 1y RF with Gilmore in Training.xlsx\", index=False)"
   ]
  },
  {
   "cell_type": "code",
   "execution_count": 6,
   "metadata": {},
   "outputs": [
    {
     "name": "stdout",
     "output_type": "stream",
     "text": [
      "MAE 1y RF 0.11326950472454522 \n",
      "MAE 2y RF 0.12378693029060446 \n"
     ]
    }
   ],
   "source": [
    "#Calculate MAEs\n",
    "from sklearn.metrics import mean_absolute_error\n",
    "print('MAE 1y RF {} '.format(mean_absolute_error(X_test_sa1y, imputed_sa1y_gilmore)))\n",
    "print('MAE 2y RF {} '.format(mean_absolute_error(X_test_sa2y, imputed_sa2y_gilmore)))"
   ]
  },
  {
   "cell_type": "code",
   "execution_count": 7,
   "metadata": {},
   "outputs": [],
   "source": [
    "#Get the data we want imputed\n",
    "interpolate_data = pd.ExcelFile(\"Data to be Interpolated.xlsx\") \n",
    "sa1y = interpolate_data.sheet_names[4]\n",
    "sa2y = interpolate_data.sheet_names[9]\n",
    "\n",
    "sa1y_data = interpolate_data.parse(sa1y)\n",
    "data_features_sa1y = sa1y_data.loc[:, sa1y_data.columns] \n",
    "data_features_sa1y = data_features_sa1y.drop(['ROI'], axis=1)\n",
    "\n",
    "sa2y_data = interpolate_data.parse(sa2y)\n",
    "data_features_sa2y = sa2y_data.loc[:, sa2y_data.columns] \n",
    "data_features_sa2y = data_features_sa2y.drop(['ROI'], axis=1)"
   ]
  },
  {
   "cell_type": "code",
   "execution_count": 8,
   "metadata": {},
   "outputs": [],
   "source": [
    "#Predict the data we want to impute here for the downstream task\n",
    "predicted_sa1y = impute_sa1y_from_sa2y.predict(data_features_sa2y)\n",
    "df_predicted_sa1y = pd.DataFrame(predicted_sa1y)\n",
    "df_predicted_sa1y.to_excel(\"Interpolated sa1y Downstream with Gilmore in Training.xlsx\", index=False)\n",
    "\n",
    "predicted_sa2y = impute_sa2y_from_sa1y.predict(data_features_sa1y)\n",
    "df_predicted_sa2y = pd.DataFrame(predicted_sa2y)\n",
    "df_predicted_sa2y.to_excel(\"Interpolated sa2y Downstream with Gilmore in Training.xlsx\", index=False)"
   ]
  }
 ],
 "metadata": {
  "kernelspec": {
   "display_name": "Python 3",
   "language": "python",
   "name": "python3"
  },
  "language_info": {
   "codemirror_mode": {
    "name": "ipython",
    "version": 3
   },
   "file_extension": ".py",
   "mimetype": "text/x-python",
   "name": "python",
   "nbconvert_exporter": "python",
   "pygments_lexer": "ipython3",
   "version": "3.6.9"
  }
 },
 "nbformat": 4,
 "nbformat_minor": 4
}
