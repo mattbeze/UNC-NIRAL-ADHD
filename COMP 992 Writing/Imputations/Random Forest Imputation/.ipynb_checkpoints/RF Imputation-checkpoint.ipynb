{
 "cells": [
  {
   "cell_type": "code",
   "execution_count": 1,
   "metadata": {},
   "outputs": [
    {
     "name": "stdout",
     "output_type": "stream",
     "text": [
      "(290, 148)\n",
      "(290, 148)\n",
      "(290, 148)\n",
      "(290, 148)\n"
     ]
    }
   ],
   "source": [
    "import numpy as np\n",
    "import pandas as pd\n",
    "import joblib\n",
    "from pandas import DataFrame\n",
    "import xlsxwriter\n",
    "\n",
    "from sklearn.ensemble import RandomForestRegressor\n",
    "\n",
    "#Get base from IBIS Data to fit\n",
    "data = pd.ExcelFile(\"RF Imputation.xlsx\") \n",
    "ibis_ct1y_sheet = data.sheet_names[1]\n",
    "ibis_ct2y_sheet = data.sheet_names[2]\n",
    "ibis_sa1y_sheet = data.sheet_names[4]\n",
    "ibis_sa2y_sheet = data.sheet_names[5]\n",
    "\n",
    "ibis_ct1y_data = data.parse(ibis_ct1y_sheet)\n",
    "ibis_ct2y_data = data.parse(ibis_ct2y_sheet)\n",
    "ibis_sa1y_data = data.parse(ibis_sa1y_sheet)\n",
    "ibis_sa2y_data = data.parse(ibis_sa2y_sheet)\n",
    "\n",
    "ibis_data_features_ct1y = ibis_ct1y_data.loc[:, ibis_ct1y_data.columns] \n",
    "ibis_data_features_ct1y = ibis_data_features_ct1y.drop(['ROI','1CT-11142','1CT-12142'], axis=1)\n",
    "ibis_data_features_ct2y = ibis_ct2y_data.loc[:, ibis_ct2y_data.columns] \n",
    "ibis_data_features_ct2y = ibis_data_features_ct2y.drop(['ROI','2CT-11142','2CT-12142'], axis=1)\n",
    "ibis_data_features_sa1y = ibis_sa1y_data.loc[:, ibis_sa1y_data.columns] \n",
    "ibis_data_features_sa1y = ibis_data_features_sa1y.drop(['ROI','1SA-11142','1SA-12142'], axis=1)\n",
    "ibis_data_features_sa2y = ibis_sa2y_data.loc[:, ibis_sa2y_data.columns] \n",
    "ibis_data_features_sa2y = ibis_data_features_sa2y.drop(['ROI','2SA-11142','2SA-12142'], axis=1)\n",
    "\n",
    "print(ibis_data_features_ct1y.shape)\n",
    "print(ibis_data_features_ct2y.shape)\n",
    "print(ibis_data_features_sa1y.shape)\n",
    "print(ibis_data_features_sa2y.shape)"
   ]
  },
  {
   "cell_type": "code",
   "execution_count": 2,
   "metadata": {},
   "outputs": [
    {
     "data": {
      "text/plain": [
       "RandomForestRegressor()"
      ]
     },
     "execution_count": 2,
     "metadata": {},
     "output_type": "execute_result"
    }
   ],
   "source": [
    "impute_ct2y_from_ct1y = RandomForestRegressor()\n",
    "impute_ct1y_from_ct2y = RandomForestRegressor()\n",
    "impute_sa2y_from_sa1y = RandomForestRegressor()\n",
    "impute_sa1y_from_sa2y = RandomForestRegressor()\n",
    "\n",
    "#Fit to IBIS Data\n",
    "impute_ct2y_from_ct1y.fit(ibis_data_features_ct1y, ibis_data_features_ct2y)\n",
    "impute_ct1y_from_ct2y.fit(ibis_data_features_ct2y, ibis_data_features_ct1y)\n",
    "impute_sa2y_from_sa1y.fit(ibis_data_features_sa1y, ibis_data_features_sa2y)\n",
    "impute_sa1y_from_sa2y.fit(ibis_data_features_sa2y, ibis_data_features_sa1y)"
   ]
  },
  {
   "cell_type": "code",
   "execution_count": 3,
   "metadata": {},
   "outputs": [
    {
     "name": "stdout",
     "output_type": "stream",
     "text": [
      "Individual data feature shapes\n",
      "(129, 148)\n",
      "(129, 148)\n",
      "(129, 148)\n",
      "(129, 148)\n"
     ]
    }
   ],
   "source": [
    "#Get the Gilmore data we want imputed to calculate MAE\n",
    "#'1CT-11142','1CT-12142','2CT-11142','2CT-12142' Already dropped\n",
    "#'1SA-11142','1SA-12142','2SA-11142','2SA-12142' Already dropped\n",
    "gilmore_ct_sheet_1yToImpute2y = data.sheet_names[7]\n",
    "gilmore_ct_sheet_2yToImpute1y = data.sheet_names[8]\n",
    "gilmore_sa_sheet_1yToImpute2y = data.sheet_names[9]\n",
    "gilmore_sa_sheet_2yToImpute1y = data.sheet_names[10]\n",
    "\n",
    "gilmore_ct1y_data = data.parse(gilmore_ct_sheet_1yToImpute2y)\n",
    "gilmore_data_features_ct1y = gilmore_ct1y_data.loc[:, gilmore_ct1y_data.columns]\n",
    "gilmore_data_features_ct1y = gilmore_data_features_ct1y.drop(['ROI'], axis=1)\n",
    "\n",
    "gilmore_ct2y_data = data.parse(gilmore_ct_sheet_2yToImpute1y)\n",
    "gilmore_data_features_ct2y = gilmore_ct2y_data.loc[:, gilmore_ct2y_data.columns]\n",
    "gilmore_data_features_ct2y = gilmore_data_features_ct2y.drop(['ROI'], axis=1)\n",
    "\n",
    "gilmore_sa1y_data = data.parse(gilmore_sa_sheet_1yToImpute2y)\n",
    "gilmore_data_features_sa1y = gilmore_sa1y_data.loc[:, gilmore_sa1y_data.columns]\n",
    "gilmore_data_features_sa1y = gilmore_data_features_sa1y.drop(['ROI'], axis=1)\n",
    "\n",
    "gilmore_sa2y_data = data.parse(gilmore_sa_sheet_2yToImpute1y)\n",
    "gilmore_data_features_sa2y = gilmore_sa2y_data.loc[:, gilmore_sa2y_data.columns]\n",
    "gilmore_data_features_sa2y = gilmore_data_features_sa2y.drop(['ROI'], axis=1)\n",
    "\n",
    "print(\"Individual data feature shapes\")\n",
    "print(gilmore_data_features_ct1y.shape)\n",
    "print(gilmore_data_features_ct2y.shape)\n",
    "print(gilmore_data_features_sa1y.shape)\n",
    "print(gilmore_data_features_sa2y.shape)"
   ]
  },
  {
   "cell_type": "code",
   "execution_count": 4,
   "metadata": {},
   "outputs": [
    {
     "name": "stdout",
     "output_type": "stream",
     "text": [
      "Imputed Individual Shapes\n",
      "(129, 148)\n",
      "(129, 148)\n",
      "(129, 148)\n",
      "(129, 148)\n"
     ]
    }
   ],
   "source": [
    "#Predict Gilmore Data for MAE\n",
    "imputed_ct2y_gilmore = impute_ct2y_from_ct1y.predict(gilmore_data_features_ct1y)\n",
    "imputed_ct1y_gilmore = impute_ct1y_from_ct2y.predict(gilmore_data_features_ct2y)\n",
    "imputed_sa2y_gilmore = impute_sa2y_from_sa1y.predict(gilmore_data_features_sa1y)\n",
    "imputed_sa1y_gilmore = impute_sa1y_from_sa2y.predict(gilmore_data_features_sa2y)\n",
    "print(\"Imputed Individual Shapes\")\n",
    "print(imputed_ct2y_gilmore.shape)\n",
    "print(imputed_ct1y_gilmore.shape)\n",
    "print(imputed_sa2y_gilmore.shape)\n",
    "print(imputed_sa1y_gilmore.shape)\n",
    "\n",
    "#DFs for Individuals\n",
    "df_ct_2y = pd.DataFrame(imputed_ct2y_gilmore)\n",
    "df_ct_1y = pd.DataFrame(imputed_ct1y_gilmore)\n",
    "df_sa_2y = pd.DataFrame(imputed_sa2y_gilmore)\n",
    "df_sa_1y = pd.DataFrame(imputed_sa1y_gilmore)\n",
    "\n",
    "df_ct_2y.to_excel(\"Imputed CT 2y RF.xlsx\", index=False)\n",
    "df_ct_1y.to_excel(\"Imputed CT 1y RF.xlsx\", index=False)\n",
    "df_sa_2y.to_excel(\"Imputed SA 2y RF.xlsx\", index=False)\n",
    "df_sa_1y.to_excel(\"Imputed SA 1y RF.xlsx\", index=False)"
   ]
  },
  {
   "cell_type": "code",
   "execution_count": 5,
   "metadata": {},
   "outputs": [
    {
     "name": "stdout",
     "output_type": "stream",
     "text": [
      "0.7922265081548227\n",
      "0.627800383230783\n",
      "61.665644079789196\n",
      "71.08991276469088\n"
     ]
    }
   ],
   "source": [
    "#Calculate MAEs\n",
    "from sklearn.metrics import mean_absolute_error\n",
    "mae_ct1y = mean_absolute_error(gilmore_data_features_ct1y, imputed_ct1y_gilmore)\n",
    "mae_ct2y = mean_absolute_error(gilmore_data_features_ct2y, imputed_ct2y_gilmore)\n",
    "mae_sa1y = mean_absolute_error(gilmore_data_features_sa1y, imputed_sa1y_gilmore)\n",
    "mae_sa2y = mean_absolute_error(gilmore_data_features_sa2y, imputed_sa2y_gilmore)\n",
    "print(mae_ct1y)\n",
    "print(mae_ct2y)\n",
    "print(mae_sa1y)\n",
    "print(mae_sa2y)\n",
    "#MAE for imputed 1y ct -\n",
    "#MAE for imputed 2y ct -\n",
    "#MAE for imputed 1y sa -\n",
    "#MAE for imputed 2y sa -"
   ]
  },
  {
   "cell_type": "code",
   "execution_count": 6,
   "metadata": {},
   "outputs": [],
   "source": [
    "#Get the data we want imputed\n",
    "interpolate_data = pd.ExcelFile(\"Data to be Interpolated.xlsx\") \n",
    "ct1y = interpolate_data.sheet_names[1]\n",
    "sa1y = interpolate_data.sheet_names[3]\n",
    "ct2y = interpolate_data.sheet_names[5]\n",
    "sa2y = interpolate_data.sheet_names[7]\n",
    "\n",
    "ct1y_data = interpolate_data.parse(ct1y)\n",
    "data_features_ct1y = ct1y_data.loc[:, ct1y_data.columns] \n",
    "data_features_ct1y = data_features_ct1y.drop(['ROI'], axis=1)\n",
    "\n",
    "sa1y_data = interpolate_data.parse(sa1y)\n",
    "data_features_sa1y = sa1y_data.loc[:, sa1y_data.columns] \n",
    "data_features_sa1y = data_features_sa1y.drop(['ROI'], axis=1)\n",
    "\n",
    "ct2y_data = interpolate_data.parse(ct2y)\n",
    "data_features_ct2y = ct2y_data.loc[:, ct2y_data.columns] \n",
    "data_features_ct2y = data_features_ct2y.drop(['ROI'], axis=1) \n",
    "\n",
    "sa2y_data = interpolate_data.parse(sa2y)\n",
    "data_features_sa2y = sa2y_data.loc[:, sa2y_data.columns] \n",
    "data_features_sa2y = data_features_sa2y.drop(['ROI'], axis=1)"
   ]
  },
  {
   "cell_type": "code",
   "execution_count": 7,
   "metadata": {},
   "outputs": [
    {
     "ename": "NameError",
     "evalue": "name 'df' is not defined",
     "output_type": "error",
     "traceback": [
      "\u001b[1;31m---------------------------------------------------------------------------\u001b[0m",
      "\u001b[1;31mNameError\u001b[0m                                 Traceback (most recent call last)",
      "\u001b[1;32m<ipython-input-7-8103629560b1>\u001b[0m in \u001b[0;36m<module>\u001b[1;34m\u001b[0m\n\u001b[0;32m      2\u001b[0m \u001b[0mpredicted_ct1y\u001b[0m \u001b[1;33m=\u001b[0m \u001b[0mimpute_ct1y_from_ct2y\u001b[0m\u001b[1;33m.\u001b[0m\u001b[0mpredict\u001b[0m\u001b[1;33m(\u001b[0m\u001b[0mdata_features_ct2y\u001b[0m\u001b[1;33m)\u001b[0m\u001b[1;33m\u001b[0m\u001b[1;33m\u001b[0m\u001b[0m\n\u001b[0;32m      3\u001b[0m \u001b[0mdf_predicted_ct1y\u001b[0m \u001b[1;33m=\u001b[0m \u001b[0mpd\u001b[0m\u001b[1;33m.\u001b[0m\u001b[0mDataFrame\u001b[0m\u001b[1;33m(\u001b[0m\u001b[0mpredicted_ct1y\u001b[0m\u001b[1;33m)\u001b[0m\u001b[1;33m\u001b[0m\u001b[1;33m\u001b[0m\u001b[0m\n\u001b[1;32m----> 4\u001b[1;33m \u001b[0mdf\u001b[0m\u001b[1;33m.\u001b[0m\u001b[0mto_excel\u001b[0m\u001b[1;33m(\u001b[0m\u001b[1;34m\"Interpolated ct1y Downstream.xlsx\"\u001b[0m\u001b[1;33m,\u001b[0m \u001b[0mindex\u001b[0m\u001b[1;33m=\u001b[0m\u001b[1;32mFalse\u001b[0m\u001b[1;33m)\u001b[0m\u001b[1;33m\u001b[0m\u001b[1;33m\u001b[0m\u001b[0m\n\u001b[0m\u001b[0;32m      5\u001b[0m \u001b[1;33m\u001b[0m\u001b[0m\n\u001b[0;32m      6\u001b[0m \u001b[0mpredicted_sa1y\u001b[0m \u001b[1;33m=\u001b[0m \u001b[0mimpute_sa1y_from_sa2y\u001b[0m\u001b[1;33m.\u001b[0m\u001b[0mpredict\u001b[0m\u001b[1;33m(\u001b[0m\u001b[0mdata_features_sa2y\u001b[0m\u001b[1;33m)\u001b[0m\u001b[1;33m\u001b[0m\u001b[1;33m\u001b[0m\u001b[0m\n",
      "\u001b[1;31mNameError\u001b[0m: name 'df' is not defined"
     ]
    }
   ],
   "source": [
    "#Predict the data we want to impute here for the downstream task\n",
    "predicted_ct1y = impute_ct1y_from_ct2y.predict(data_features_ct2y)\n",
    "df_predicted_ct1y = pd.DataFrame(predicted_ct1y)\n",
    "df_predicted_ct1y.to_excel(\"Interpolated ct1y Downstream.xlsx\", index=False)\n",
    "\n",
    "predicted_sa1y = impute_sa1y_from_sa2y.predict(data_features_sa2y)\n",
    "df_predicted_sa1y = pd.DataFrame(predicted_sa1y)\n",
    "df_predicted_sa1y.to_excel(\"Interpolated sa1y Downstream.xlsx\", index=False)\n",
    "\n",
    "predicted_ct2y = impute_ct2y_from_ct1y.predict(data_features_ct1y)\n",
    "df_predicted_ct2y = pd.DataFrame(predicted_ct2y)\n",
    "df_predicted_ct2y.to_excel(\"Interpolated ct2y Downstream.xlsx\", index=False)\n",
    "\n",
    "predicted_sa2y = impute_sa2y_from_sa1y.predict(data_features_sa1y)\n",
    "df_predicted_sa2y = pd.DataFrame(predicted_sa2y)\n",
    "df_predicted_sa2y.to_excel(\"Interpolated sa2y Downstream.xlsx\", index=False)"
   ]
  },
  {
   "cell_type": "code",
   "execution_count": null,
   "metadata": {},
   "outputs": [],
   "source": []
  }
 ],
 "metadata": {
  "kernelspec": {
   "display_name": "Python 3",
   "language": "python",
   "name": "python3"
  },
  "language_info": {
   "codemirror_mode": {
    "name": "ipython",
    "version": 3
   },
   "file_extension": ".py",
   "mimetype": "text/x-python",
   "name": "python",
   "nbconvert_exporter": "python",
   "pygments_lexer": "ipython3",
   "version": "3.6.9"
  }
 },
 "nbformat": 4,
 "nbformat_minor": 4
}
