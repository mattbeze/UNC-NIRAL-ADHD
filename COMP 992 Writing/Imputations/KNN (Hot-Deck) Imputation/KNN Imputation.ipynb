{
 "cells": [
  {
   "cell_type": "code",
   "execution_count": 1,
   "metadata": {},
   "outputs": [
    {
     "name": "stdout",
     "output_type": "stream",
     "text": [
      "(290, 296)\n",
      "(290, 296)\n",
      "(290, 592)\n"
     ]
    }
   ],
   "source": [
    "import numpy as np\n",
    "import pandas as pd\n",
    "import joblib\n",
    "from pandas import DataFrame\n",
    "import xlsxwriter\n",
    "\n",
    "from sklearn.impute import KNNImputer\n",
    "\n",
    "#Get base from IBIS Data to fit\n",
    "data = pd.ExcelFile(\"KNN Imputation.xlsx\") \n",
    "ct_sheet = data.sheet_names[0]\n",
    "sa_sheet = data.sheet_names[1]\n",
    "ctsa_sheet = data.sheet_names[2]\n",
    "\n",
    "ct_data = data.parse(ct_sheet)\n",
    "sa_data = data.parse(sa_sheet)\n",
    "ctsa_data = data.parse(ctsa_sheet)\n",
    "\n",
    "\n",
    "data_features_ct = ct_data.loc[:, ct_data.columns] \n",
    "data_features_ct = data_features_ct.drop(['ROI','1CT-11142','1CT-12142','2CT-11142','2CT-12142'], axis=1)\n",
    "data_features_sa = sa_data.loc[:, sa_data.columns] \n",
    "data_features_sa = data_features_sa.drop(['ROI','1SA-11142','1SA-12142','2SA-11142','2SA-12142'], axis=1)\n",
    "#'1CT-11142','1CT-12142','2CT-11142','2CT-12142' Already dropped\n",
    "#'1SA-11142','1SA-12142','2SA-11142','2SA-12142' Already dropped\n",
    "data_features_ctsa = ctsa_data.loc[:, ctsa_data.columns] \n",
    "data_features_ctsa = data_features_ctsa.drop(['ROI'], axis=1)\n",
    "\n",
    "print(data_features_ct.shape)\n",
    "print(data_features_sa.shape)\n",
    "print(data_features_ctsa.shape)"
   ]
  },
  {
   "cell_type": "code",
   "execution_count": 2,
   "metadata": {},
   "outputs": [
    {
     "data": {
      "text/plain": [
       "KNNImputer(n_neighbors=2)"
      ]
     },
     "execution_count": 2,
     "metadata": {},
     "output_type": "execute_result"
    }
   ],
   "source": [
    "ct_imputer = KNNImputer(n_neighbors=2)\n",
    "sa_imputer = KNNImputer(n_neighbors=2)\n",
    "ctsa_imputer  = KNNImputer(n_neighbors=2)\n",
    "#Fit to IBIS Data\n",
    "ct_imputer.fit(data_features_ct)\n",
    "sa_imputer.fit(data_features_sa)\n",
    "ctsa_imputer.fit(data_features_ctsa)"
   ]
  },
  {
   "cell_type": "code",
   "execution_count": 3,
   "metadata": {},
   "outputs": [
    {
     "name": "stdout",
     "output_type": "stream",
     "text": [
      "Individual data feature shapes\n",
      "(129, 296)\n",
      "(129, 296)\n",
      "(129, 296)\n",
      "(129, 296)\n",
      "Combined data feature shapes\n",
      "(129, 592)\n",
      "(129, 592)\n"
     ]
    }
   ],
   "source": [
    "#Get the Gilmore data we want imputed to calculate MAE\n",
    "#'1CT-11142','1CT-12142','2CT-11142','2CT-12142' Already dropped\n",
    "#'1SA-11142','1SA-12142','2SA-11142','2SA-12142' Already dropped\n",
    "gilmore_ct_sheet_1yToImpute2y = data.sheet_names[3]\n",
    "gilmore_ct_sheet_2yToImpute1y = data.sheet_names[4]\n",
    "gilmore_sa_sheet_1yToImpute2y = data.sheet_names[5]\n",
    "gilmore_sa_sheet_2yToImpute1y = data.sheet_names[6]\n",
    "#Seeing which one imputes better. All at once, or individually CT and SA\n",
    "#'1CT-11142','1CT-12142','2CT-11142','2CT-12142' Already dropped\n",
    "#'1SA-11142','1SA-12142','2SA-11142','2SA-12142' Already dropped\n",
    "gilmore_sheet_1yToImpute2y = data.sheet_names[7]\n",
    "gilmore_sheet_2yToImpute1y = data.sheet_names[8]\n",
    "\n",
    "gilmore_ct1y_data = data.parse(gilmore_ct_sheet_1yToImpute2y)\n",
    "gilmore_data_features_ct1y = gilmore_ct1y_data.loc[:, gilmore_ct1y_data.columns]\n",
    "gilmore_data_features_ct1y = gilmore_data_features_ct1y.drop(['ROI'], axis=1)\n",
    "\n",
    "gilmore_ct2y_data = data.parse(gilmore_ct_sheet_2yToImpute1y)\n",
    "gilmore_data_features_ct2y = gilmore_ct2y_data.loc[:, gilmore_ct2y_data.columns]\n",
    "gilmore_data_features_ct2y = gilmore_data_features_ct2y.drop(['ROI'], axis=1)\n",
    "\n",
    "gilmore_sa1y_data = data.parse(gilmore_sa_sheet_1yToImpute2y)\n",
    "gilmore_data_features_sa1y = gilmore_sa1y_data.loc[:, gilmore_sa1y_data.columns]\n",
    "gilmore_data_features_sa1y = gilmore_data_features_sa1y.drop(['ROI'], axis=1)\n",
    "\n",
    "gilmore_sa2y_data = data.parse(gilmore_sa_sheet_2yToImpute1y)\n",
    "gilmore_data_features_sa2y = gilmore_sa2y_data.loc[:, gilmore_sa2y_data.columns]\n",
    "gilmore_data_features_sa2y = gilmore_data_features_sa2y.drop(['ROI'], axis=1)\n",
    "\n",
    "print(\"Individual data feature shapes\")\n",
    "print(gilmore_data_features_ct1y.shape)\n",
    "print(gilmore_data_features_ct2y.shape)\n",
    "print(gilmore_data_features_sa1y.shape)\n",
    "print(gilmore_data_features_sa2y.shape)\n",
    "\n",
    "#####All at once now\n",
    "gilmore_1y_data = data.parse(gilmore_sheet_1yToImpute2y)\n",
    "gilmore_data_features_1y = gilmore_1y_data.loc[:, gilmore_1y_data.columns]\n",
    "gilmore_data_features_1y = gilmore_1y_data.drop(['ROI'], axis=1)\n",
    "\n",
    "gilmore_2y_data = data.parse(gilmore_sheet_2yToImpute1y)\n",
    "gilmore_data_features_2y = gilmore_2y_data.loc[:, gilmore_2y_data.columns]\n",
    "gilmore_data_features_2y = gilmore_2y_data.drop(['ROI'], axis=1)\n",
    "\n",
    "print(\"Combined data feature shapes\")\n",
    "print(gilmore_data_features_1y.shape)\n",
    "print(gilmore_data_features_2y.shape)"
   ]
  },
  {
   "cell_type": "code",
   "execution_count": 4,
   "metadata": {},
   "outputs": [
    {
     "name": "stdout",
     "output_type": "stream",
     "text": [
      "Imputed Individual Shapes\n",
      "(129, 296)\n",
      "(129, 296)\n",
      "(129, 296)\n",
      "(129, 296)\n",
      "Imputed Combined Shapes\n",
      "(129, 592)\n",
      "(129, 592)\n"
     ]
    }
   ],
   "source": [
    "#Predict Gilmore Data for MAE\n",
    "imputed_ct2y = ct_imputer.transform(gilmore_data_features_ct1y)\n",
    "imputed_ct1y = ct_imputer.transform(gilmore_data_features_ct2y)\n",
    "imputed_sa2y = sa_imputer.transform(gilmore_data_features_sa1y)\n",
    "imputed_sa1y = sa_imputer.transform(gilmore_data_features_sa2y)\n",
    "print(\"Imputed Individual Shapes\")\n",
    "print(imputed_ct2y.shape)\n",
    "print(imputed_ct1y.shape)\n",
    "print(imputed_sa2y.shape)\n",
    "print(imputed_sa1y.shape)\n",
    "#Combined Gilmore Data for MAE Comparison\n",
    "imputed_2y = ctsa_imputer.transform(gilmore_data_features_1y)\n",
    "imputed_1y = ctsa_imputer.transform(gilmore_data_features_2y)\n",
    "print(\"Imputed Combined Shapes\")\n",
    "print(imputed_2y.shape)\n",
    "print(imputed_1y.shape)\n",
    "\n",
    "#DFs for Individuals\n",
    "df_ct_2y = pd.DataFrame(imputed_ct2y)\n",
    "df_ct_1y = pd.DataFrame(imputed_ct1y)\n",
    "df_sa_2y = pd.DataFrame(imputed_sa2y)\n",
    "df_sa_1y = pd.DataFrame(imputed_sa1y)\n",
    "\n",
    "df_ct_2y.to_excel(\"Imputed CT 2y KNN.xlsx\", index=False)\n",
    "df_ct_1y.to_excel(\"Imputed CT 1y KNN.xlsx\", index=False)\n",
    "df_sa_2y.to_excel(\"Imputed SA 2y KNN.xlsx\", index=False)\n",
    "df_sa_1y.to_excel(\"Imputed SA 1y KNN.xlsx\", index=False)\n",
    "\n",
    "#DFs for Combined\n",
    "df_1y = pd.DataFrame(imputed_1y)\n",
    "df_2y = pd.DataFrame(imputed_2y)\n",
    "\n",
    "df_1y.to_excel(\"Imputed 1y KNN.xlsx\", index=False)\n",
    "df_2y.to_excel(\"Imputed 2y KNN.xlsx\", index=False)\n",
    "\n",
    "#From here calculate MAE to see which imputation method within KNN works better.\n",
    "#Use this same method to impute the data for the downstream method below.\n",
    "\n",
    "#MAE for imputed 1y ct -\n",
    "#MAE for imputed 2y ct -\n",
    "#MAE for imputed 1y sa -\n",
    "#MAE for imputed 2y sa -\n",
    "\n",
    "#MAE for imputed 1y -\n",
    "#MAE for imputed 2y -"
   ]
  },
  {
   "cell_type": "code",
   "execution_count": null,
   "metadata": {},
   "outputs": [],
   "source": []
  },
  {
   "cell_type": "code",
   "execution_count": 5,
   "metadata": {},
   "outputs": [],
   "source": [
    "#Get the data we want imputed\n",
    "interpolate_data = pd.ExcelFile(\"Data to be Interpolated.xlsx\") \n",
    "ct1y = interpolate_data.sheet_names[1]\n",
    "sa1y = interpolate_data.sheet_names[3]\n",
    "ct2y = interpolate_data.sheet_names[5]\n",
    "sa2y = interpolate_data.sheet_names[7]\n",
    "\n",
    "ct1y_data = interpolate_data.parse(ct1y)\n",
    "data_features_ct1y = ct1y_data.loc[:, ct1y_data.columns] \n",
    "data_features_ct1y = data_features_ct1y.drop(['ROI'], axis=1)\n",
    "\n",
    "sa1y_data = interpolate_data.parse(sa1y)\n",
    "data_features_sa1y = sa1y_data.loc[:, sa1y_data.columns] \n",
    "data_features_sa1y = data_features_sa1y.drop(['ROI'], axis=1)\n",
    "\n",
    "ct2y_data = interpolate_data.parse(ct2y)\n",
    "data_features_ct2y = ct2y_data.loc[:, ct2y_data.columns] \n",
    "data_features_ct2y = data_features_ct2y.drop(['ROI'], axis=1) \n",
    "\n",
    "sa2y_data = interpolate_data.parse(sa2y)\n",
    "data_features_sa2y = sa2y_data.loc[:, sa2y_data.columns] \n",
    "data_features_sa2y = data_features_sa2y.drop(['ROI'], axis=1)"
   ]
  },
  {
   "cell_type": "code",
   "execution_count": 6,
   "metadata": {},
   "outputs": [
    {
     "ename": "SyntaxError",
     "evalue": "invalid syntax (<ipython-input-6-d915c9aade5d>, line 2)",
     "output_type": "error",
     "traceback": [
      "\u001b[1;36m  File \u001b[1;32m\"<ipython-input-6-d915c9aade5d>\"\u001b[1;36m, line \u001b[1;32m2\u001b[0m\n\u001b[1;33m    predicted_ct1y = ???_imputer.transform(data_features_ct1y)\u001b[0m\n\u001b[1;37m                     ^\u001b[0m\n\u001b[1;31mSyntaxError\u001b[0m\u001b[1;31m:\u001b[0m invalid syntax\n"
     ]
    }
   ],
   "source": [
    "#Predict the data we want to impute here for the downstream task\n",
    "predicted_ct1y = ???_imputer.transform(data_features_ct1y)\n",
    "df_predicted_ct1y = pd.DataFrame(predicted_ct1y)\n",
    "df.to_excel(\"Interpolated ct1y Downstream.xlsx\", index=False)\n",
    "\n",
    "predicted_sa1y = ???_imputer.transform(data_features_sa1y)\n",
    "df_predicted_sa1y = pd.DataFrame(predicted_sa1y)\n",
    "df.to_excel(\"Interpolated sa1y Downstream.xlsx\", index=False)\n",
    "\n",
    "predicted_ct2y = ???_imputer.transform(data_features_ct2y)\n",
    "df_predicted_ct2y = pd.DataFrame(predicted_ct2y)\n",
    "df.to_excel(\"Interpolated ct2y Downstream.xlsx\", index=False)\n",
    "\n",
    "predicted_sa2y = ???_imputer.transform(data_features_sa2y)\n",
    "df_predicted_sa2y = pd.DataFrame(predicted_sa2y)\n",
    "df.to_excel(\"Interpolated sa2y Downstream.xlsx\", index=False)"
   ]
  },
  {
   "cell_type": "code",
   "execution_count": null,
   "metadata": {},
   "outputs": [],
   "source": []
  }
 ],
 "metadata": {
  "kernelspec": {
   "display_name": "Python 3",
   "language": "python",
   "name": "python3"
  },
  "language_info": {
   "codemirror_mode": {
    "name": "ipython",
    "version": 3
   },
   "file_extension": ".py",
   "mimetype": "text/x-python",
   "name": "python",
   "nbconvert_exporter": "python",
   "pygments_lexer": "ipython3",
   "version": "3.6.9"
  }
 },
 "nbformat": 4,
 "nbformat_minor": 4
}
