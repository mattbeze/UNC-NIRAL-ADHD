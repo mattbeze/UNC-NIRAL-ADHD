{
 "cells": [
  {
   "cell_type": "code",
   "execution_count": 13,
   "metadata": {},
   "outputs": [
    {
     "name": "stdout",
     "output_type": "stream",
     "text": [
      "30\n",
      "Gilmore SA1y Scaled\n",
      "SA1y Mean Predictions\n"
     ]
    }
   ],
   "source": [
    "import numpy as np\n",
    "import matplotlib.pyplot as plt\n",
    "import pandas as pd\n",
    "import joblib\n",
    "from pandas import DataFrame\n",
    "from sklearn.metrics import mean_absolute_error\n",
    "#from sklearn.metrics import mean_absolute_percentage_error\n",
    "import xlsxwriter\n",
    "\n",
    "sheet = pd.ExcelFile(\"Naive Imputation Revised.xlsx\") \n",
    "\n",
    "print(len(sheet.sheet_names))\n",
    "print(sheet.sheet_names[11])\n",
    "print(sheet.sheet_names[26])"
   ]
  },
  {
   "cell_type": "code",
   "execution_count": 14,
   "metadata": {},
   "outputs": [],
   "source": [
    "#Get sheets\n",
    "sa_1y_gilmore_true = sheet.sheet_names[11]\n",
    "sa_2y_gilmore_true = sheet.sheet_names[12]\n",
    "sa_1y_ibis_mean = sheet.sheet_names[26]\n",
    "sa_1y_ibis_median = sheet.sheet_names[27]\n",
    "sa_2y_ibis_mean = sheet.sheet_names[28]\n",
    "sa_2y_ibis_median = sheet.sheet_names[29]\n",
    "\n",
    "#Grab true data\n",
    "sa1y_gilmore_data = sheet.parse(sa_1y_gilmore_true)\n",
    "sa1y_gilmore_data_features = sa1y_gilmore_data.loc[:, sa1y_gilmore_data.columns] \n",
    "sa1y_gilmore_data_features = sa1y_gilmore_data_features.drop(['ROI'], axis=1)\n",
    "sa2y_gilmore_data = sheet.parse(sa_2y_gilmore_true)\n",
    "sa2y_gilmore_data_features = sa2y_gilmore_data.loc[:, sa2y_gilmore_data.columns] \n",
    "sa2y_gilmore_data_features = sa2y_gilmore_data_features.drop(['ROI'], axis=1)\n",
    "\n",
    "#Grab prediction data\n",
    "sa1y_ibis_mean_data = sheet.parse(sa_1y_ibis_mean)\n",
    "sa1y_ibis_mean_data_features = sa1y_ibis_mean_data.loc[:, sa1y_ibis_mean_data.columns] \n",
    "sa1y_ibis_mean_data_features = sa1y_ibis_mean_data_features.drop(['ROI'], axis=1)\n",
    "sa1y_ibis_median_data = sheet.parse(sa_1y_ibis_median)\n",
    "sa1y_ibis_median_data_features = sa1y_ibis_median_data.loc[:, sa1y_ibis_median_data.columns] \n",
    "sa1y_ibis_median_data_features = sa1y_ibis_median_data_features.drop(['ROI'], axis=1)\n",
    "sa2y_ibis_mean_data = sheet.parse(sa_2y_ibis_mean)\n",
    "sa2y_ibis_mean_data_features = sa2y_ibis_mean_data.loc[:, sa2y_ibis_mean_data.columns] \n",
    "sa2y_ibis_mean_data_features = sa2y_ibis_mean_data_features.drop(['ROI'], axis=1)\n",
    "sa2y_ibis_median_data = sheet.parse(sa_2y_ibis_median)\n",
    "sa2y_ibis_median_data_features = sa2y_ibis_median_data.loc[:, sa2y_ibis_median_data.columns] \n",
    "sa2y_ibis_median_data_features = sa2y_ibis_median_data_features.drop(['ROI'], axis=1)"
   ]
  },
  {
   "cell_type": "code",
   "execution_count": 24,
   "metadata": {},
   "outputs": [
    {
     "name": "stdout",
     "output_type": "stream",
     "text": [
      "MAE 1y Mean 0.15034691871631947\n",
      "MAE 2y Mean 0.15575654768149763\n",
      "MAE 1y Median 0.151959422872512\n",
      "MAE 2y Median 0.1550991199146631\n"
     ]
    }
   ],
   "source": [
    "#Calculate MAE\n",
    "print('MAE 1y Mean {}'.format(mean_absolute_error(sa1y_gilmore_data_features, sa1y_ibis_mean_data_features)))\n",
    "print('MAE 2y Mean {}'.format(mean_absolute_error(sa2y_gilmore_data_features, sa2y_ibis_mean_data_features)))\n",
    "print('MAE 1y Median {}'.format(mean_absolute_error(sa1y_gilmore_data_features, sa1y_ibis_median_data_features)))\n",
    "print('MAE 2y Median {}'.format(mean_absolute_error(sa2y_gilmore_data_features, sa2y_ibis_median_data_features)))"
   ]
  }
 ],
 "metadata": {
  "kernelspec": {
   "display_name": "Python 3",
   "language": "python",
   "name": "python3"
  },
  "language_info": {
   "codemirror_mode": {
    "name": "ipython",
    "version": 3
   },
   "file_extension": ".py",
   "mimetype": "text/x-python",
   "name": "python",
   "nbconvert_exporter": "python",
   "pygments_lexer": "ipython3",
   "version": "3.6.9"
  }
 },
 "nbformat": 4,
 "nbformat_minor": 4
}
