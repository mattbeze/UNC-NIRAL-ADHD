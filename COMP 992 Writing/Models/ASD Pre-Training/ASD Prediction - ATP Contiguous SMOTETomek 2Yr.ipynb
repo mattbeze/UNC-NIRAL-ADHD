{
 "cells": [
  {
   "cell_type": "code",
   "execution_count": 1,
   "id": "foreign-airfare",
   "metadata": {},
   "outputs": [
    {
     "data": {
      "text/plain": [
       "<torch._C.Generator at 0x2316a943a30>"
      ]
     },
     "execution_count": 1,
     "metadata": {},
     "output_type": "execute_result"
    }
   ],
   "source": [
    "import seaborn as sn\n",
    "from imblearn.over_sampling import SMOTE, SMOTENC \n",
    "from imblearn.combine import SMOTETomek\n",
    "from imblearn.under_sampling import TomekLinks\n",
    "import matplotlib.pyplot as plt\n",
    "import pandas as pd\n",
    "from sklearn.utils import class_weight\n",
    "from sklearn.metrics import accuracy_score, recall_score, confusion_matrix, multilabel_confusion_matrix, precision_score, precision_recall_curve, average_precision_score, classification_report\n",
    "from sklearn.model_selection import KFold, StratifiedKFold, train_test_split, GridSearchCV\n",
    "from sklearn.preprocessing import MinMaxScaler, LabelEncoder\n",
    "from torch.utils.data import Dataset, DataLoader, random_split\n",
    "from torch import Tensor\n",
    "from torch.nn import Linear, ReLU, Sigmoid, Module, BCELoss, BCEWithLogitsLoss\n",
    "from torch.optim import Adam\n",
    "import torch\n",
    "import torch.nn as nn\n",
    "import torch.optim as optim\n",
    "from torch.utils.data import Dataset, DataLoader\n",
    "from pandas import DataFrame\n",
    "import xlsxwriter\n",
    "import time\n",
    "\n",
    "seed_value = 7\n",
    "import os\n",
    "os.environ['PYTHONHASHSEED']=str(seed_value)\n",
    "import random\n",
    "random.seed(seed_value)\n",
    "import numpy as np\n",
    "np.random.seed(seed_value)\n",
    "import torch\n",
    "torch.manual_seed(seed_value)"
   ]
  },
  {
   "cell_type": "code",
   "execution_count": 2,
   "id": "cooked-scroll",
   "metadata": {
    "scrolled": true
   },
   "outputs": [
    {
     "name": "stdout",
     "output_type": "stream",
     "text": [
      "(285, 300)\n",
      "(285, 1)\n",
      "        ROI01     ROI02     ROI03     ROI04     ROI05     ROI06     ROI07  \\\n",
      "0    5.029876  3.726654  3.427438  3.981583  5.349900  4.482533  4.188761   \n",
      "1    4.558297  3.523212  3.050419  3.728841  4.582860  4.732882  4.154219   \n",
      "2    4.862393  3.573448  3.548558  4.120730  5.016851  4.666914  4.357041   \n",
      "3    4.976339  3.560973  3.425916  4.031993  4.867496  4.528555  3.880940   \n",
      "4    4.393498  3.644686  3.305453  3.924469  4.743097  4.493087  4.547651   \n",
      "..        ...       ...       ...       ...       ...       ...       ...   \n",
      "280  5.162674  3.802889  3.475207  4.326397  5.137480  4.480127  3.911898   \n",
      "281  4.627709  3.558513  3.536533  3.896477  4.688239  4.365193  3.939188   \n",
      "282  4.449460  3.756849  3.369820  3.854403  4.927545  4.515043  4.523340   \n",
      "283  5.353643  3.786087  3.441294  3.878084  5.432423  4.511390  4.263558   \n",
      "284  4.826855  3.932250  3.572424  4.401231  4.633188  4.511347  4.048214   \n",
      "\n",
      "        ROI08     ROI09     ROI10  ...    ROI145.1    ROI146.1    ROI147.1  \\\n",
      "0    3.917547  4.513912  3.487158  ...  536.484070   88.525070  517.677734   \n",
      "1    3.656441  4.383626  3.151249  ...  633.745728   99.549080  607.062988   \n",
      "2    4.137424  4.709630  3.728338  ...  608.105469  127.721260  604.861877   \n",
      "3    3.650654  4.080115  3.397733  ...  531.852356   99.652077  541.236145   \n",
      "4    4.307598  4.481702  3.345804  ...  663.143250  135.558548  715.380432   \n",
      "..        ...       ...       ...  ...         ...         ...         ...   \n",
      "280  4.063940  4.226049  3.144438  ...  629.860352   66.088036  438.403625   \n",
      "281  3.922157  4.320230  3.423628  ...  613.170898  154.727417  892.369629   \n",
      "282  3.793367  3.708602  3.052272  ...  607.855591   92.237068  389.954803   \n",
      "283  3.912596  4.415555  3.229810  ...  715.723267  108.366829  501.632568   \n",
      "284  4.019198  4.593268  3.509587  ...  801.283020  148.940979  450.855438   \n",
      "\n",
      "       ROI148.1    ROI149.1    ROI150.1  GA  Sex  MEDU  Age-At-Scan  \n",
      "0    236.496460  201.145233   73.988457  38  1.0    25          730  \n",
      "1    541.234253  194.753418   88.439957  38  1.0    25          730  \n",
      "2    532.357117  209.077560   91.626724  38  1.0    25          730  \n",
      "3    186.517044  221.049026   78.935867  38  1.0    25          730  \n",
      "4    274.076202  202.578049   51.299538  38  1.0    25          730  \n",
      "..          ...         ...         ...  ..  ...   ...          ...  \n",
      "280  236.722076  277.900787  105.470558  38  1.0    25          730  \n",
      "281  220.891266  241.105286  138.327805  38  1.0    25          730  \n",
      "282  368.161804  190.296112   89.323586  38  0.0    25          730  \n",
      "283  206.737228  336.702057   67.737236  38  0.0    25          730  \n",
      "284  280.721497  263.371674   66.949821  38  0.0    25          730  \n",
      "\n",
      "[285 rows x 300 columns]\n"
     ]
    }
   ],
   "source": [
    "Training_Data = pd.ExcelFile(\"Labels.xlsx\") #Training Data already pre-scaled to the IBIS Data set\n",
    "data = Training_Data.parse(Training_Data.sheet_names[3])\n",
    "label_data = Training_Data.parse(Training_Data.sheet_names[2])\n",
    "data_features = data.loc[:, data.columns]\n",
    "data_features = data_features.drop(['Case','Visit','MATCH','INDEX','ASD+','ASD-','Gender'], axis=1)\n",
    "data_features = data_features.dropna()\n",
    "data_features = data_features.drop(['Final Label'], axis=1)\n",
    "labels = label_data.loc[:, label_data.columns]\n",
    "labels = labels.drop(['CASE','MATCH','INDEX','ASD+','ASD-'], axis=1)\n",
    "labels = labels.dropna()\n",
    "print(data_features.shape)\n",
    "print(labels.shape)\n",
    "\n",
    "print(data_features)"
   ]
  },
  {
   "cell_type": "code",
   "execution_count": 3,
   "id": "engaged-memorabilia",
   "metadata": {},
   "outputs": [
    {
     "name": "stdout",
     "output_type": "stream",
     "text": [
      "(400, 300)\n",
      "(400, 1)\n",
      "(29, 300)\n"
     ]
    }
   ],
   "source": [
    "scaler = MinMaxScaler()\n",
    "scaled_data = scaler.fit_transform(data_features)\n",
    "\n",
    "scaled_data.shape\n",
    "labels.shape\n",
    "\n",
    "X_train, X_test, Y_train, Y_test = train_test_split(scaled_data, labels, test_size=0.10, random_state=seed_value)\n",
    "sm = SMOTENC([297],sampling_strategy = 'minority', random_state = seed_value, k_neighbors=2)\n",
    "tl = TomekLinks(sampling_strategy = 'majority')\n",
    "\n",
    "\n",
    "resample = SMOTETomek(smote=sm,tomek=tl,random_state=seed_value)\n",
    "#Version below works the exact same apparently. Will just pass the old smote object.\n",
    "#resample = SMOTETomek(smote=SMOTENC([297],sampling_strategy='minority'),tomek=TomekLinks(sampling_strategy='majority'),random_state=seed_value)\n",
    "\n",
    "\n",
    "\n",
    "#Imblearn has other SMOTE variants to look into.\n",
    "#ADASYN - creates synthetic data according to the data density. \n",
    "#The synthetic data generation would inversely proportional to the density of the minority class. It means more synthetic data are created in regions of the feature space where the density of minority examples is low, and fewer or none where the density is high.\n",
    "#In simpler terms, in an area where the minority class is less dense, the synthetic data are created more. Otherwise, the synthetic data is not made so much.\n",
    "\n",
    "#SMOTENC - Denote which features are categorical, and SMOTE would resample the categorical data instead of creating synthetic data.\n",
    "\n",
    "#Borderline SMOTE\n",
    "#K SMOTE\n",
    "\n",
    "#Should increase testing size. Play with testing/training split.\n",
    "#X_train_smoted, Y_train_smoted = sm.fit_sample(X_train, Y_train) #Only smote the training set.\n",
    "#X_undersampled, Y_undersampled = tl.fit_resample(X_train, Y_train)\n",
    "X_resampled, Y_resampled = resample.fit_sample(X_train,Y_train)\n",
    "\n",
    "#print(X_train_smoted.shape)\n",
    "#print(Y_train_smoted.shape)\n",
    "#print(X_undersampled.shape)\n",
    "#print(Y_undersampled.shape)\n",
    "print(X_resampled.shape)\n",
    "print(Y_resampled.shape)\n",
    "print(X_test.shape)"
   ]
  },
  {
   "cell_type": "code",
   "execution_count": 4,
   "id": "quarterly-fundamentals",
   "metadata": {},
   "outputs": [],
   "source": [
    "#Y_train_smoted"
   ]
  },
  {
   "cell_type": "code",
   "execution_count": 5,
   "id": "double-visibility",
   "metadata": {},
   "outputs": [],
   "source": [
    "#Y_undersampled"
   ]
  },
  {
   "cell_type": "code",
   "execution_count": 6,
   "id": "loved-salon",
   "metadata": {},
   "outputs": [],
   "source": [
    "pd.set_option(\"display.max_rows\", None, \"display.max_columns\", None)\n",
    "#print(X_train_smoted)"
   ]
  },
  {
   "cell_type": "code",
   "execution_count": 7,
   "id": "endless-penny",
   "metadata": {},
   "outputs": [
    {
     "data": {
      "text/plain": [
       "(400, 300)"
      ]
     },
     "execution_count": 7,
     "metadata": {},
     "output_type": "execute_result"
    }
   ],
   "source": [
    "X_resampled.shape"
   ]
  },
  {
   "cell_type": "code",
   "execution_count": 8,
   "id": "retired-depression",
   "metadata": {},
   "outputs": [],
   "source": [
    "#print(X_undersampled)"
   ]
  },
  {
   "cell_type": "code",
   "execution_count": 9,
   "id": "consolidated-business",
   "metadata": {},
   "outputs": [],
   "source": [
    "#Some hyperparameters\n",
    "#D_in is input dimension; H is hidden dimension; D_out is output dimension. \n",
    "#Need to figure out how to get dropout\n",
    "D_in, H1, H2, D_out = 300, 130, 30, 1\n",
    "EPOCHS = 78\n",
    "BATCH_SIZE = 15\n",
    "LEARNING_RATE = 0.001\n",
    "DROPOUT_RATE = 0.15\n",
    "\n",
    "## train data\n",
    "class trainData(Dataset):\n",
    "    \n",
    "    def __init__(self, X_data, y_data): #used to perform initializing operations such as reading data and preprocessing.\n",
    "        self.X_data = X_data\n",
    "        self.y_data = y_data\n",
    "        \n",
    "    def __getitem__(self, index): #returns data (input and output) in batches.\n",
    "        return self.X_data[index], self.y_data[index]\n",
    "        \n",
    "    def __len__ (self): #returns the size of the input data.\n",
    "        return len(self.X_data)\n",
    "\n",
    "#A dataloader is then used on this dataset class to read the data in batches.\n",
    "train_data = trainData(torch.FloatTensor(X_resampled), \n",
    "                       torch.FloatTensor(Y_resampled.values))\n",
    "## test data    \n",
    "class testData(Dataset):\n",
    "    \n",
    "    def __init__(self, X_data): ##used to perform initializing operations such as reading data and preprocessing.\n",
    "        self.X_data = X_data\n",
    "        \n",
    "    def __getitem__(self, index): #returns data (input and output) in batches.\n",
    "        return self.X_data[index]\n",
    "        \n",
    "    def __len__ (self): #returns the size of the input data.\n",
    "        return len(self.X_data)\n",
    "    \n",
    "#A dataloader is then used on this dataset class to read the data in batches.\n",
    "test_data = testData(torch.FloatTensor(X_test))\n",
    "\n",
    "#Initialize DataLoaders\n",
    "train_loader = DataLoader(dataset=train_data, batch_size=BATCH_SIZE, shuffle=True)\n",
    "test_loader = DataLoader(dataset=test_data, batch_size=33) #Batch size of the validation set. Need 1 at a time for how it was setup in the tutorial."
   ]
  },
  {
   "cell_type": "code",
   "execution_count": 10,
   "id": "addressed-python",
   "metadata": {},
   "outputs": [
    {
     "name": "stdout",
     "output_type": "stream",
     "text": [
      "cpu\n"
     ]
    }
   ],
   "source": [
    "class binaryClassification(nn.Module):\n",
    "    def __init__(self):\n",
    "        super(binaryClassification, self).__init__()\n",
    "        # Number of input features is 298.\n",
    "        self.layer_1 = nn.Linear(D_in, H1) #298 -> 100\n",
    "        self.layer_2 = nn.Linear(H1, H2) #100 -> 15\n",
    "        self.layer_out = nn.Linear(H2, D_out) #15 -> 1\n",
    "        \n",
    "        self.relu = nn.ReLU()\n",
    "        self.dropout = nn.Dropout(p=DROPOUT_RATE)\n",
    "        #self.batchnorm1 = nn.BatchNorm1d(100)\n",
    "        #self.batchnorm2 = nn.BatchNorm1d(15)\n",
    "        \n",
    "    def forward(self, inputs):\n",
    "        x = self.relu(self.layer_1(inputs)) #ReLU on the 298?\n",
    "        #x = self.batchnorm1(x) #Normalize the 100\n",
    "        x = self.dropout(x) #Dropout 15%\n",
    "        x = self.relu(self.layer_2(x)) #ReLU on the 100?\n",
    "        #x = self.batchnorm2(x) #Normalize the 15\n",
    "        x = self.layer_out(x) #1\n",
    "        \n",
    "        return x\n",
    "device = torch.device(\"cuda:0\" if torch.cuda.is_available() else \"cpu\")\n",
    "print(device)\n",
    "#Should use the CPU since I don't have a GPU."
   ]
  },
  {
   "cell_type": "code",
   "execution_count": 11,
   "id": "utility-fairy",
   "metadata": {},
   "outputs": [
    {
     "name": "stdout",
     "output_type": "stream",
     "text": [
      "binaryClassification(\n",
      "  (layer_1): Linear(in_features=300, out_features=130, bias=True)\n",
      "  (layer_2): Linear(in_features=130, out_features=30, bias=True)\n",
      "  (layer_out): Linear(in_features=30, out_features=1, bias=True)\n",
      "  (relu): ReLU()\n",
      "  (dropout): Dropout(p=0.15, inplace=False)\n",
      ")\n"
     ]
    }
   ],
   "source": [
    "#Model initialization and information on layers. The model's actual architecture can be viewed in the forward function above.\n",
    "model = binaryClassification()\n",
    "model.to(device)\n",
    "print(model)\n",
    "weights = torch.FloatTensor([5]) #Class weights?\n",
    "criterion = nn.BCEWithLogitsLoss(pos_weight=weights)\n",
    "optimizer = optim.Adam(model.parameters(), lr=LEARNING_RATE)"
   ]
  },
  {
   "cell_type": "code",
   "execution_count": 12,
   "id": "ignored-treatment",
   "metadata": {},
   "outputs": [],
   "source": [
    "#Function to define accuracy. Should look to see if there is a prebuilt that I can use from sci-kit learn or something.\n",
    "def binary_acc(y_pred, y_test):\n",
    "    y_pred_tag = torch.round(torch.sigmoid(y_pred))\n",
    "\n",
    "    correct_results_sum = (y_pred_tag == y_test).sum().float()\n",
    "    acc = correct_results_sum/y_test.shape[0]\n",
    "    acc = torch.round(acc * 100)\n",
    "    \n",
    "    return acc"
   ]
  },
  {
   "cell_type": "code",
   "execution_count": 13,
   "id": "nervous-highland",
   "metadata": {},
   "outputs": [
    {
     "name": "stdout",
     "output_type": "stream",
     "text": [
      "Training Epoch 001: | Loss: 1.56048 | Acc: 48.481\n",
      "Validation Accuracy |  10.344827586206897  PPV |  [0.         0.10344828]  Recall |  [0. 1.]\n",
      "Training Epoch 002: | Loss: 1.36219 | Acc: 49.704\n",
      "Validation Accuracy |  10.344827586206897  PPV |  [0.         0.10344828]  Recall |  [0. 1.]\n"
     ]
    },
    {
     "name": "stderr",
     "output_type": "stream",
     "text": [
      "C:\\Users\\mattbeze\\Anaconda3\\envs\\pytorch\\lib\\site-packages\\sklearn\\metrics\\_classification.py:1245: UndefinedMetricWarning: Precision is ill-defined and being set to 0.0 in labels with no predicted samples. Use `zero_division` parameter to control this behavior.\n",
      "  _warn_prf(average, modifier, msg_start, len(result))\n",
      "C:\\Users\\mattbeze\\Anaconda3\\envs\\pytorch\\lib\\site-packages\\sklearn\\metrics\\_classification.py:1245: UndefinedMetricWarning: Precision is ill-defined and being set to 0.0 in labels with no predicted samples. Use `zero_division` parameter to control this behavior.\n",
      "  _warn_prf(average, modifier, msg_start, len(result))\n"
     ]
    },
    {
     "name": "stdout",
     "output_type": "stream",
     "text": [
      "Training Epoch 003: | Loss: 1.33833 | Acc: 50.074\n",
      "Validation Accuracy |  10.344827586206897  PPV |  [0.         0.10344828]  Recall |  [0. 1.]\n",
      "Training Epoch 004: | Loss: 1.34791 | Acc: 50.185\n",
      "Validation Accuracy |  10.344827586206897  PPV |  [0.         0.10344828]  Recall |  [0. 1.]\n",
      "Training Epoch 005: | Loss: 1.31262 | Acc: 49.852\n"
     ]
    },
    {
     "name": "stderr",
     "output_type": "stream",
     "text": [
      "C:\\Users\\mattbeze\\Anaconda3\\envs\\pytorch\\lib\\site-packages\\sklearn\\metrics\\_classification.py:1245: UndefinedMetricWarning: Precision is ill-defined and being set to 0.0 in labels with no predicted samples. Use `zero_division` parameter to control this behavior.\n",
      "  _warn_prf(average, modifier, msg_start, len(result))\n",
      "C:\\Users\\mattbeze\\Anaconda3\\envs\\pytorch\\lib\\site-packages\\sklearn\\metrics\\_classification.py:1245: UndefinedMetricWarning: Precision is ill-defined and being set to 0.0 in labels with no predicted samples. Use `zero_division` parameter to control this behavior.\n",
      "  _warn_prf(average, modifier, msg_start, len(result))\n",
      "C:\\Users\\mattbeze\\Anaconda3\\envs\\pytorch\\lib\\site-packages\\sklearn\\metrics\\_classification.py:1245: UndefinedMetricWarning: Precision is ill-defined and being set to 0.0 in labels with no predicted samples. Use `zero_division` parameter to control this behavior.\n",
      "  _warn_prf(average, modifier, msg_start, len(result))\n"
     ]
    },
    {
     "name": "stdout",
     "output_type": "stream",
     "text": [
      "Validation Accuracy |  10.344827586206897  PPV |  [0.         0.10344828]  Recall |  [0. 1.]\n",
      "Training Epoch 006: | Loss: 1.29715 | Acc: 49.889\n",
      "Validation Accuracy |  10.344827586206897  PPV |  [0.         0.10344828]  Recall |  [0. 1.]\n",
      "Training Epoch 007: | Loss: 1.27867 | Acc: 49.963\n",
      "Validation Accuracy |  10.344827586206897  PPV |  [0.         0.10344828]  Recall |  [0. 1.]\n"
     ]
    },
    {
     "name": "stderr",
     "output_type": "stream",
     "text": [
      "C:\\Users\\mattbeze\\Anaconda3\\envs\\pytorch\\lib\\site-packages\\sklearn\\metrics\\_classification.py:1245: UndefinedMetricWarning: Precision is ill-defined and being set to 0.0 in labels with no predicted samples. Use `zero_division` parameter to control this behavior.\n",
      "  _warn_prf(average, modifier, msg_start, len(result))\n",
      "C:\\Users\\mattbeze\\Anaconda3\\envs\\pytorch\\lib\\site-packages\\sklearn\\metrics\\_classification.py:1245: UndefinedMetricWarning: Precision is ill-defined and being set to 0.0 in labels with no predicted samples. Use `zero_division` parameter to control this behavior.\n",
      "  _warn_prf(average, modifier, msg_start, len(result))\n"
     ]
    },
    {
     "name": "stdout",
     "output_type": "stream",
     "text": [
      "Training Epoch 008: | Loss: 1.26348 | Acc: 49.926\n",
      "Validation Accuracy |  10.344827586206897  PPV |  [0.         0.10344828]  Recall |  [0. 1.]\n",
      "Training Epoch 009: | Loss: 1.21634 | Acc: 50.370\n",
      "Validation Accuracy |  10.344827586206897  PPV |  [0.         0.10344828]  Recall |  [0. 1.]\n"
     ]
    },
    {
     "name": "stderr",
     "output_type": "stream",
     "text": [
      "C:\\Users\\mattbeze\\Anaconda3\\envs\\pytorch\\lib\\site-packages\\sklearn\\metrics\\_classification.py:1245: UndefinedMetricWarning: Precision is ill-defined and being set to 0.0 in labels with no predicted samples. Use `zero_division` parameter to control this behavior.\n",
      "  _warn_prf(average, modifier, msg_start, len(result))\n",
      "C:\\Users\\mattbeze\\Anaconda3\\envs\\pytorch\\lib\\site-packages\\sklearn\\metrics\\_classification.py:1245: UndefinedMetricWarning: Precision is ill-defined and being set to 0.0 in labels with no predicted samples. Use `zero_division` parameter to control this behavior.\n",
      "  _warn_prf(average, modifier, msg_start, len(result))\n"
     ]
    },
    {
     "name": "stdout",
     "output_type": "stream",
     "text": [
      "Training Epoch 010: | Loss: 1.19191 | Acc: 49.963\n",
      "Validation Accuracy |  13.793103448275861  PPV |  [1.         0.10714286]  Recall |  [0.03846154 1.        ]\n",
      "Training Epoch 011: | Loss: 1.11457 | Acc: 51.370\n",
      "Validation Accuracy |  13.793103448275861  PPV |  [1.         0.10714286]  Recall |  [0.03846154 1.        ]\n",
      "Training Epoch 012: | Loss: 1.08931 | Acc: 57.074\n",
      "Validation Accuracy |  17.24137931034483  PPV |  [1.         0.11111111]  Recall |  [0.07692308 1.        ]\n",
      "Training Epoch 013: | Loss: 0.96821 | Acc: 55.926\n",
      "Validation Accuracy |  65.51724137931035  PPV |  [0.94444444 0.18181818]  Recall |  [0.65384615 0.66666667]\n",
      "Training Epoch 014: | Loss: 0.93594 | Acc: 64.556\n",
      "Validation Accuracy |  27.586206896551722  PPV |  [0.85714286 0.09090909]  Recall |  [0.23076923 0.66666667]\n",
      "Training Epoch 015: | Loss: 0.94269 | Acc: 65.000\n",
      "Validation Accuracy |  51.724137931034484  PPV |  [0.92857143 0.13333333]  Recall |  [0.5        0.66666667]\n",
      "Training Epoch 016: | Loss: 0.92485 | Acc: 65.852\n",
      "Validation Accuracy |  51.724137931034484  PPV |  [0.92857143 0.13333333]  Recall |  [0.5        0.66666667]\n",
      "Training Epoch 017: | Loss: 0.75343 | Acc: 75.296\n",
      "Validation Accuracy |  44.827586206896555  PPV |  [0.91666667 0.11764706]  Recall |  [0.42307692 0.66666667]\n",
      "Training Epoch 018: | Loss: 0.70575 | Acc: 77.148\n",
      "Validation Accuracy |  48.275862068965516  PPV |  [0.92307692 0.125     ]  Recall |  [0.46153846 0.66666667]\n",
      "Training Epoch 019: | Loss: 0.73397 | Acc: 73.926\n",
      "Validation Accuracy |  65.51724137931035  PPV |  [0.94444444 0.18181818]  Recall |  [0.65384615 0.66666667]\n",
      "Training Epoch 020: | Loss: 0.60477 | Acc: 80.704\n",
      "Validation Accuracy |  65.51724137931035  PPV |  [0.94444444 0.18181818]  Recall |  [0.65384615 0.66666667]\n",
      "Training Epoch 021: | Loss: 0.58755 | Acc: 81.963\n",
      "Validation Accuracy |  34.48275862068966  PPV |  [0.88888889 0.1       ]  Recall |  [0.30769231 0.66666667]\n",
      "Training Epoch 022: | Loss: 0.65460 | Acc: 80.222\n",
      "Validation Accuracy |  68.96551724137932  PPV |  [0.94736842 0.2       ]  Recall |  [0.69230769 0.66666667]\n",
      "Training Epoch 023: | Loss: 0.56034 | Acc: 85.593\n",
      "Validation Accuracy |  34.48275862068966  PPV |  [0.88888889 0.1       ]  Recall |  [0.30769231 0.66666667]\n",
      "Training Epoch 024: | Loss: 0.49290 | Acc: 86.741\n",
      "Validation Accuracy |  65.51724137931035  PPV |  [0.94444444 0.18181818]  Recall |  [0.65384615 0.66666667]\n",
      "Training Epoch 025: | Loss: 0.50690 | Acc: 85.667\n",
      "Validation Accuracy |  72.41379310344827  PPV |  [0.90909091 0.14285714]  Recall |  [0.76923077 0.33333333]\n",
      "Training Epoch 026: | Loss: 0.49630 | Acc: 88.370\n",
      "Validation Accuracy |  48.275862068965516  PPV |  [0.92307692 0.125     ]  Recall |  [0.46153846 0.66666667]\n",
      "Training Epoch 027: | Loss: 0.45257 | Acc: 87.593\n",
      "Validation Accuracy |  65.51724137931035  PPV |  [0.94444444 0.18181818]  Recall |  [0.65384615 0.66666667]\n",
      "Training Epoch 028: | Loss: 0.51704 | Acc: 85.222\n",
      "Validation Accuracy |  68.96551724137932  PPV |  [0.94736842 0.2       ]  Recall |  [0.69230769 0.66666667]\n",
      "Training Epoch 029: | Loss: 0.49220 | Acc: 85.963\n",
      "Validation Accuracy |  72.41379310344827  PPV |  [0.95       0.22222222]  Recall |  [0.73076923 0.66666667]\n",
      "Training Epoch 030: | Loss: 0.37685 | Acc: 89.889\n",
      "Validation Accuracy |  72.41379310344827  PPV |  [0.95       0.22222222]  Recall |  [0.73076923 0.66666667]\n",
      "Training Epoch 031: | Loss: 0.34592 | Acc: 91.259\n",
      "Validation Accuracy |  65.51724137931035  PPV |  [0.94444444 0.18181818]  Recall |  [0.65384615 0.66666667]\n",
      "Training Epoch 032: | Loss: 0.35898 | Acc: 90.852\n",
      "Validation Accuracy |  41.37931034482759  PPV |  [0.90909091 0.11111111]  Recall |  [0.38461538 0.66666667]\n",
      "Training Epoch 033: | Loss: 0.33541 | Acc: 90.111\n",
      "Validation Accuracy |  72.41379310344827  PPV |  [0.95       0.22222222]  Recall |  [0.73076923 0.66666667]\n",
      "Training Epoch 034: | Loss: 0.27718 | Acc: 93.815\n",
      "Validation Accuracy |  68.96551724137932  PPV |  [0.9047619 0.125    ]  Recall |  [0.73076923 0.33333333]\n",
      "Training Epoch 035: | Loss: 0.34076 | Acc: 90.963\n",
      "Validation Accuracy |  37.93103448275862  PPV |  [0.9        0.10526316]  Recall |  [0.34615385 0.66666667]\n",
      "Training Epoch 036: | Loss: 0.39474 | Acc: 88.481\n",
      "Validation Accuracy |  72.41379310344827  PPV |  [0.95       0.22222222]  Recall |  [0.73076923 0.66666667]\n",
      "Training Epoch 037: | Loss: 0.24965 | Acc: 94.222\n",
      "Validation Accuracy |  72.41379310344827  PPV |  [0.95       0.22222222]  Recall |  [0.73076923 0.66666667]\n",
      "Training Epoch 038: | Loss: 0.24063 | Acc: 92.963\n",
      "Validation Accuracy |  72.41379310344827  PPV |  [0.90909091 0.14285714]  Recall |  [0.76923077 0.33333333]\n",
      "Training Epoch 039: | Loss: 0.35316 | Acc: 91.296\n",
      "Validation Accuracy |  68.96551724137932  PPV |  [0.9047619 0.125    ]  Recall |  [0.73076923 0.33333333]\n",
      "Training Epoch 040: | Loss: 0.24443 | Acc: 93.185\n",
      "Validation Accuracy |  72.41379310344827  PPV |  [0.90909091 0.14285714]  Recall |  [0.76923077 0.33333333]\n",
      "Training Epoch 041: | Loss: 0.25083 | Acc: 93.148\n",
      "Validation Accuracy |  75.86206896551724  PPV |  [0.91304348 0.16666667]  Recall |  [0.80769231 0.33333333]\n",
      "Training Epoch 042: | Loss: 0.18547 | Acc: 95.370\n",
      "Validation Accuracy |  72.41379310344827  PPV |  [0.90909091 0.14285714]  Recall |  [0.76923077 0.33333333]\n",
      "Training Epoch 043: | Loss: 0.24538 | Acc: 93.185\n",
      "Validation Accuracy |  72.41379310344827  PPV |  [0.90909091 0.14285714]  Recall |  [0.76923077 0.33333333]\n",
      "Training Epoch 044: | Loss: 0.20294 | Acc: 95.259\n",
      "Validation Accuracy |  72.41379310344827  PPV |  [0.90909091 0.14285714]  Recall |  [0.76923077 0.33333333]\n",
      "Training Epoch 045: | Loss: 0.15935 | Acc: 96.407\n",
      "Validation Accuracy |  72.41379310344827  PPV |  [0.90909091 0.14285714]  Recall |  [0.76923077 0.33333333]\n",
      "Training Epoch 046: | Loss: 0.16429 | Acc: 95.815\n",
      "Validation Accuracy |  72.41379310344827  PPV |  [0.90909091 0.14285714]  Recall |  [0.76923077 0.33333333]\n",
      "Training Epoch 047: | Loss: 0.13395 | Acc: 97.222\n",
      "Validation Accuracy |  82.75862068965517  PPV |  [0.92 0.25]  Recall |  [0.88461538 0.33333333]\n",
      "Training Epoch 048: | Loss: 0.14407 | Acc: 96.926\n",
      "Validation Accuracy |  72.41379310344827  PPV |  [0.90909091 0.14285714]  Recall |  [0.76923077 0.33333333]\n",
      "Training Epoch 049: | Loss: 0.16333 | Acc: 95.778\n",
      "Validation Accuracy |  75.86206896551724  PPV |  [0.91304348 0.16666667]  Recall |  [0.80769231 0.33333333]\n",
      "Training Epoch 050: | Loss: 0.12925 | Acc: 97.185\n",
      "Validation Accuracy |  75.86206896551724  PPV |  [0.91304348 0.16666667]  Recall |  [0.80769231 0.33333333]\n",
      "Training Epoch 051: | Loss: 0.11169 | Acc: 98.444\n",
      "Validation Accuracy |  75.86206896551724  PPV |  [0.91304348 0.16666667]  Recall |  [0.80769231 0.33333333]\n",
      "Training Epoch 052: | Loss: 0.10646 | Acc: 98.259\n",
      "Validation Accuracy |  68.96551724137932  PPV |  [0.94736842 0.2       ]  Recall |  [0.69230769 0.66666667]\n",
      "Training Epoch 053: | Loss: 0.28050 | Acc: 92.000\n",
      "Validation Accuracy |  62.06896551724138  PPV |  [0.89473684 0.1       ]  Recall |  [0.65384615 0.33333333]\n",
      "Training Epoch 054: | Loss: 0.14566 | Acc: 96.778\n",
      "Validation Accuracy |  72.41379310344827  PPV |  [0.90909091 0.14285714]  Recall |  [0.76923077 0.33333333]\n",
      "Training Epoch 055: | Loss: 0.12994 | Acc: 97.444\n",
      "Validation Accuracy |  75.86206896551724  PPV |  [0.91304348 0.16666667]  Recall |  [0.80769231 0.33333333]\n",
      "Training Epoch 056: | Loss: 0.09623 | Acc: 98.259\n",
      "Validation Accuracy |  79.3103448275862  PPV |  [0.91666667 0.2       ]  Recall |  [0.84615385 0.33333333]\n",
      "Training Epoch 057: | Loss: 0.14490 | Acc: 97.370\n",
      "Validation Accuracy |  75.86206896551724  PPV |  [0.91304348 0.16666667]  Recall |  [0.80769231 0.33333333]\n",
      "Training Epoch 058: | Loss: 0.15396 | Acc: 96.111\n",
      "Validation Accuracy |  68.96551724137932  PPV |  [0.94736842 0.2       ]  Recall |  [0.69230769 0.66666667]\n",
      "Training Epoch 059: | Loss: 0.12498 | Acc: 96.852\n",
      "Validation Accuracy |  82.75862068965517  PPV |  [0.92 0.25]  Recall |  [0.88461538 0.33333333]\n",
      "Training Epoch 060: | Loss: 0.10657 | Acc: 97.852\n",
      "Validation Accuracy |  79.3103448275862  PPV |  [0.91666667 0.2       ]  Recall |  [0.84615385 0.33333333]\n",
      "Training Epoch 061: | Loss: 0.07663 | Acc: 98.704\n",
      "Validation Accuracy |  68.96551724137932  PPV |  [0.94736842 0.2       ]  Recall |  [0.69230769 0.66666667]\n",
      "Training Epoch 062: | Loss: 0.15135 | Acc: 96.222\n",
      "Validation Accuracy |  79.3103448275862  PPV |  [0.91666667 0.2       ]  Recall |  [0.84615385 0.33333333]\n"
     ]
    },
    {
     "name": "stdout",
     "output_type": "stream",
     "text": [
      "Training Epoch 063: | Loss: 0.12840 | Acc: 97.259\n",
      "Validation Accuracy |  75.86206896551724  PPV |  [0.91304348 0.16666667]  Recall |  [0.80769231 0.33333333]\n",
      "Training Epoch 064: | Loss: 0.10860 | Acc: 97.741\n",
      "Validation Accuracy |  82.75862068965517  PPV |  [0.92 0.25]  Recall |  [0.88461538 0.33333333]\n",
      "Training Epoch 065: | Loss: 0.07372 | Acc: 98.704\n",
      "Validation Accuracy |  75.86206896551724  PPV |  [0.91304348 0.16666667]  Recall |  [0.80769231 0.33333333]\n",
      "Training Epoch 066: | Loss: 0.06540 | Acc: 99.000\n",
      "Validation Accuracy |  82.75862068965517  PPV |  [0.92 0.25]  Recall |  [0.88461538 0.33333333]\n",
      "Training Epoch 067: | Loss: 0.06854 | Acc: 97.778\n",
      "Validation Accuracy |  75.86206896551724  PPV |  [0.91304348 0.16666667]  Recall |  [0.80769231 0.33333333]\n",
      "Training Epoch 068: | Loss: 0.21498 | Acc: 94.000\n",
      "Validation Accuracy |  86.20689655172413  PPV |  [0.92307692 0.33333333]  Recall |  [0.92307692 0.33333333]\n",
      "Training Epoch 069: | Loss: 0.47831 | Acc: 86.852\n",
      "Validation Accuracy |  55.172413793103445  PPV |  [0.93333333 0.14285714]  Recall |  [0.53846154 0.66666667]\n",
      "Training Epoch 070: | Loss: 0.23230 | Acc: 93.778\n",
      "Validation Accuracy |  72.41379310344827  PPV |  [0.90909091 0.14285714]  Recall |  [0.76923077 0.33333333]\n",
      "Training Epoch 071: | Loss: 0.15160 | Acc: 96.741\n",
      "Validation Accuracy |  72.41379310344827  PPV |  [0.90909091 0.14285714]  Recall |  [0.76923077 0.33333333]\n",
      "Training Epoch 072: | Loss: 0.14384 | Acc: 95.963\n",
      "Validation Accuracy |  68.96551724137932  PPV |  [0.94736842 0.2       ]  Recall |  [0.69230769 0.66666667]\n",
      "Training Epoch 073: | Loss: 0.15348 | Acc: 95.963\n",
      "Validation Accuracy |  72.41379310344827  PPV |  [0.90909091 0.14285714]  Recall |  [0.76923077 0.33333333]\n",
      "Training Epoch 074: | Loss: 0.18155 | Acc: 95.667\n",
      "Validation Accuracy |  75.86206896551724  PPV |  [0.91304348 0.16666667]  Recall |  [0.80769231 0.33333333]\n",
      "Training Epoch 075: | Loss: 0.08579 | Acc: 99.000\n",
      "Validation Accuracy |  72.41379310344827  PPV |  [0.90909091 0.14285714]  Recall |  [0.76923077 0.33333333]\n",
      "Training Epoch 076: | Loss: 0.07735 | Acc: 98.185\n",
      "Validation Accuracy |  82.75862068965517  PPV |  [0.92 0.25]  Recall |  [0.88461538 0.33333333]\n",
      "Training Epoch 077: | Loss: 0.05152 | Acc: 99.222\n",
      "Validation Accuracy |  72.41379310344827  PPV |  [0.90909091 0.14285714]  Recall |  [0.76923077 0.33333333]\n",
      "Training Epoch 078: | Loss: 0.05240 | Acc: 99.481\n",
      "Validation Accuracy |  72.41379310344827  PPV |  [0.90909091 0.14285714]  Recall |  [0.76923077 0.33333333]\n"
     ]
    }
   ],
   "source": [
    "#model.train() tells PyTorch that you’re in training mode.\n",
    "#Similarly, we’ll call model.eval() when we test our model. We’ll see that below.\n",
    "'''If you’re using layers such as Dropout or BatchNorm which behave differently during training and evaluation, \n",
    "you need to tell PyTorch to act accordingly. While the default mode in PyTorch is the train, \n",
    "so, you don’t explicitly have to write that. But it’s good practice.'''\n",
    "val_acc = []\n",
    "train_acc = []\n",
    "train_loss = []\n",
    "val_loss = []\n",
    "\n",
    "model.train() #Initial training mode\n",
    "for e in range(1, EPOCHS+1):\n",
    "    epoch_loss = 0\n",
    "    epoch_acc = 0\n",
    "    for X_batch, y_batch in train_loader:\n",
    "        X_batch, y_batch = X_batch.to(device), y_batch.to(device)\n",
    "        optimizer.zero_grad()\n",
    "        \n",
    "        y_pred = model(X_batch)\n",
    "        \n",
    "        loss = criterion(y_pred, y_batch)\n",
    "        acc = binary_acc(y_pred, y_batch)\n",
    "        \n",
    "        loss.backward()\n",
    "        optimizer.step()\n",
    "        \n",
    "        epoch_loss += loss.item()\n",
    "        epoch_acc += acc.item()\n",
    "    \n",
    "    train_acc.append(epoch_acc/len(train_loader))\n",
    "    train_loss.append(epoch_loss/len(train_loader))\n",
    "    print(f'Training Epoch {e+0:03}: | Loss: {epoch_loss/len(train_loader):.5f} | Acc: {epoch_acc/len(train_loader):.3f}')\n",
    "    #Validation metrics here\n",
    "    model.eval()\n",
    "    #print(\"Evaluation mode\")\n",
    "    y_pred_list = []\n",
    "    test_loader = DataLoader(dataset=test_data, batch_size=33)\n",
    "    with torch.no_grad():\n",
    "        counter = 0\n",
    "        for X_batch in test_loader:\n",
    "            X_batch = X_batch.to(device)\n",
    "            y_test_pred = model(X_batch)\n",
    "            y_test_pred = torch.sigmoid(y_test_pred)\n",
    "            y_pred_tag = torch.round(y_test_pred)\n",
    "            y_pred_list.append(y_pred_tag.cpu().numpy())\n",
    "            loss = criterion(y_test_pred,torch.FloatTensor(Y_test.values))\n",
    "            val_loss.append(loss)\n",
    "            counter+=1\n",
    "            \n",
    "    y_pred_list = []\n",
    "    test_loader = DataLoader(dataset=test_data, batch_size=1)\n",
    "    with torch.no_grad():\n",
    "        for X_batch in test_loader:\n",
    "            X_batch = X_batch.to(device)\n",
    "            y_test_pred = model(X_batch)\n",
    "            y_test_pred = torch.sigmoid(y_test_pred)\n",
    "            y_pred_tag = torch.round(y_test_pred)\n",
    "            y_pred_list.append(y_pred_tag.cpu().numpy())\n",
    "            \n",
    "    y_pred_list = [a.squeeze().tolist() for a in y_pred_list]\n",
    "    y_loss_df = pd.DataFrame(y_pred_list)\n",
    "    accuracy = accuracy_score(torch.FloatTensor(Y_test.values), y_pred_list)\n",
    "    ppv = precision_score(Y_test, y_pred_list, average=None)\n",
    "    recall = recall_score(Y_test, y_pred_list, average=None)\n",
    "    print(\"Validation Accuracy | \",accuracy*100,\" PPV | \",ppv,\" Recall | \",recall)\n",
    "    val_acc.append(accuracy*100)\n",
    "    model.train()\n",
    "    #print(\"Return to training mode\")\n",
    "    \n",
    "    #Need to get validation loss."
   ]
  },
  {
   "cell_type": "code",
   "execution_count": 14,
   "id": "empirical-college",
   "metadata": {},
   "outputs": [
    {
     "data": {
      "image/png": "[encoded data removed]",
      "text/plain": [
       "<Figure size 432x288 with 1 Axes>"
      ]
     },
     "metadata": {
      "needs_background": "light"
     },
     "output_type": "display_data"
    },
    {
     "data": {
      "image/png": "[encoded data removed]",
      "text/plain": [
       "<Figure size 432x288 with 1 Axes>"
      ]
     },
     "metadata": {
      "needs_background": "light"
     },
     "output_type": "display_data"
    }
   ],
   "source": [
    "#Plotting loss\n",
    "plt.plot(train_loss)\n",
    "plt.plot(val_loss)\n",
    "plt.title('model loss')\n",
    "plt.ylabel('loss')\n",
    "plt.xlabel('epoch')\n",
    "plt.legend(['train', 'validation'], loc='upper left')\n",
    "plt.axis([0, EPOCHS-1, 0.0, 1.5])\n",
    "plt.show()\n",
    "\n",
    "#Plotting Accuracy\n",
    "plt.plot(train_acc)\n",
    "plt.plot(val_acc)\n",
    "plt.title('model accuracy')\n",
    "plt.ylabel('acc')\n",
    "plt.xlabel('epoch')\n",
    "plt.legend(['train_acc', 'val_acc'], loc='upper left')\n",
    "plt.axis([0, EPOCHS-1, 0.0, 105])\n",
    "plt.show()"
   ]
  },
  {
   "cell_type": "code",
   "execution_count": 15,
   "id": "employed-radical",
   "metadata": {},
   "outputs": [
    {
     "name": "stdout",
     "output_type": "stream",
     "text": [
      "Validation Accuracy |  72.41379310344827  PPV |  [0.90909091 0.14285714]  Recall |  [0.76923077 0.33333333]\n"
     ]
    },
    {
     "data": {
      "text/plain": [
       "<AxesSubplot:>"
      ]
     },
     "execution_count": 15,
     "metadata": {},
     "output_type": "execute_result"
    },
    {
     "data": {
      "image/png": "[encoded data removed]",
      "text/plain": [
       "<Figure size 432x288 with 2 Axes>"
      ]
     },
     "metadata": {
      "needs_background": "light"
     },
     "output_type": "display_data"
    }
   ],
   "source": [
    "y_pred_list = []\n",
    "test_loader = DataLoader(dataset=test_data, batch_size=1)\n",
    "model.eval() #Model evaluation\n",
    "with torch.no_grad():\n",
    "    for X_batch in test_loader:\n",
    "        X_batch = X_batch.to(device)\n",
    "        y_test_pred = model(X_batch)\n",
    "        y_test_pred = torch.sigmoid(y_test_pred)\n",
    "        y_pred_tag = torch.round(y_test_pred)\n",
    "        y_pred_list.append(y_pred_tag.cpu().numpy())\n",
    "\n",
    "y_pred_list = [a.squeeze().tolist() for a in y_pred_list]\n",
    "accuracy = accuracy_score(Y_test, y_pred_list)\n",
    "ppv = precision_score(Y_test, y_pred_list, average=None)\n",
    "recall = recall_score(Y_test, y_pred_list, average=None)\n",
    "print(\"Validation Accuracy | \",accuracy*100,\" PPV | \",ppv,\" Recall | \",recall)\n",
    "cf_matrix = confusion_matrix(Y_test, y_pred_list)\n",
    "sn.heatmap(cf_matrix, annot=True)"
   ]
  },
  {
   "cell_type": "code",
   "execution_count": 16,
   "id": "seasonal-ottawa",
   "metadata": {},
   "outputs": [
    {
     "name": "stdout",
     "output_type": "stream",
     "text": [
      "              precision    recall  f1-score   support\n",
      "\n",
      "         0.0       0.91      0.77      0.83        26\n",
      "         1.0       0.14      0.33      0.20         3\n",
      "\n",
      "    accuracy                           0.72        29\n",
      "   macro avg       0.53      0.55      0.52        29\n",
      "weighted avg       0.83      0.72      0.77        29\n",
      "\n"
     ]
    }
   ],
   "source": [
    "print(classification_report(Y_test, y_pred_list))"
   ]
  },
  {
   "cell_type": "code",
   "execution_count": 17,
   "id": "atomic-album",
   "metadata": {},
   "outputs": [
    {
     "data": {
      "text/plain": [
       "\"\\n10% Test - 25 05 ppv - 0.286 recall - 0.666 \\n            1  2 \\n15% Test - 31 12 ppv - 0.14 recall - 0.333\\n            4  2\\n20% Test - 46 12 ppv - 0.08 recall - 0.14\\n            6  1\\n25% Test - 63 10 ppv - 0.17 recall - 0.22\\n            7  2\\n30% Test - 63 24 ppv - 0.20 recall - 0.55\\n            5  6\\n35% Test - 79 23 ppv - 0.15 recall - 0.33\\n            8  4\\n            \\n------------------------------------------            \\nSMOTENC\\n\\n10% Test LR 0.001 Dropout 0.15 Batch Size 35 Epochs 80 ppv - 0.286 recall - 0.67 \\n\\n10% Test LR 0.001 Dropout 0.25 Batch Size 35 Epochs 86 ppv - 0.3333 recall 0.66667\\n\\n10% Test LR 0.001 Dropout 0.25 Batch Size 20 Epochs 79 ppv - 0.4 recall - 0.66667\\n\\n------------------------------------------\\nTomekLinks\\n\\nCan't get a configuration to do better than SMOTENC\\n\\n------------------------------------------\\nSMOTETomek\\n10% Test LR 0.001 Dropout 0.25 Batch Size 20 Epochs 79 ppv - 0.4 recall - 0.66667  Same performance as smote NC\\n\\n10% Test LR 0.001 Dropout 0.13 Batch Size 5 Epochs 77,98,120 ppv - 0.4 recall - 0.6667\\n\\n10% Test LR 0.001 Dropout 0.15 Batch Size 15 Epochs 100 ppv - 0.4 recall - 0.6667\\n\\n10% Test LR 0.001 Dropout 0.20 Batch Size 20 Epochs 76 ppv - 0.4 recall - 0.6667\\n\\n10% Test LR 0.001 Dropout 0.30 Batch Size 30 Epochs 124,126 ppv - 0.4 recall - 0.6667\\n\""
      ]
     },
     "execution_count": 17,
     "metadata": {},
     "output_type": "execute_result"
    }
   ],
   "source": [
    "#Save model once everything is all figured out\n",
    "#Models below were initially trained at 150 epochs. Re-trained for optimizing ppv, recall, and acc, without overtraining.\n",
    "'''\n",
    "10% Test - 25 05 ppv - 0.286 recall - 0.666 \n",
    "            1  2 \n",
    "15% Test - 31 12 ppv - 0.14 recall - 0.333\n",
    "            4  2\n",
    "20% Test - 46 12 ppv - 0.08 recall - 0.14\n",
    "            6  1\n",
    "25% Test - 63 10 ppv - 0.17 recall - 0.22\n",
    "            7  2\n",
    "30% Test - 63 24 ppv - 0.20 recall - 0.55\n",
    "            5  6\n",
    "35% Test - 79 23 ppv - 0.15 recall - 0.33\n",
    "            8  4\n",
    "            \n",
    "------------------------------------------            \n",
    "SMOTENC\n",
    "\n",
    "10% Test LR 0.001 Dropout 0.15 Batch Size 35 Epochs 80 ppv - 0.286 recall - 0.67 \n",
    "\n",
    "10% Test LR 0.001 Dropout 0.25 Batch Size 35 Epochs 86 ppv - 0.3333 recall 0.66667\n",
    "\n",
    "10% Test LR 0.001 Dropout 0.25 Batch Size 20 Epochs 79 ppv - 0.4 recall - 0.66667\n",
    "\n",
    "------------------------------------------\n",
    "TomekLinks\n",
    "\n",
    "Can't get a configuration to do better than SMOTENC\n",
    "\n",
    "------------------------------------------\n",
    "SMOTETomek\n",
    "10% Test LR 0.001 Dropout 0.25 Batch Size 20 Epochs 79 ppv - 0.4 recall - 0.66667  Same performance as smote NC\n",
    "\n",
    "10% Test LR 0.001 Dropout 0.13 Batch Size 5 Epochs 77,98,120 ppv - 0.4 recall - 0.6667\n",
    "\n",
    "10% Test LR 0.001 Dropout 0.15 Batch Size 15 Epochs 100 ppv - 0.4 recall - 0.6667\n",
    "\n",
    "10% Test LR 0.001 Dropout 0.20 Batch Size 20 Epochs 76 ppv - 0.4 recall - 0.6667\n",
    "\n",
    "10% Test LR 0.001 Dropout 0.30 Batch Size 30 Epochs 124,126 ppv - 0.4 recall - 0.6667\n",
    "'''\n",
    "\n",
    "#Undersample majority class using smote\n",
    "#Oversample minority class using smote\n",
    "#Combine these to create a training set\n",
    "\n",
    "#Compare SmoteTomek that does undersampling & oversampling vs two separate smotes: SMOTENC for oversampling minority class and another SMOTE for undersampling the majority class\n",
    "#Shooting for over 20% ppv\n",
    "#for next week: smotetomek stuff, and begin loading pre-training model for ADHD symptom prediction"
   ]
  },
  {
   "cell_type": "code",
   "execution_count": 18,
   "id": "macro-mills",
   "metadata": {},
   "outputs": [],
   "source": [
    "torch.save(model.state_dict(), \"./model_dict_atp_2yr.pth\")"
   ]
  },
  {
   "cell_type": "code",
   "execution_count": 19,
   "id": "peaceful-shame",
   "metadata": {},
   "outputs": [],
   "source": [
    "#Use ROC curves for stability to select between hyperparameters for the pre-training\n",
    "#SMOTETomek for Final model prediction"
   ]
  }
 ],
 "metadata": {
  "kernelspec": {
   "display_name": "Python 3",
   "language": "python",
   "name": "python3"
  },
  "language_info": {
   "codemirror_mode": {
    "name": "ipython",
    "version": 3
   },
   "file_extension": ".py",
   "mimetype": "text/x-python",
   "name": "python",
   "nbconvert_exporter": "python",
   "pygments_lexer": "ipython3",
   "version": "3.7.9"
  }
 },
 "nbformat": 4,
 "nbformat_minor": 5
}
