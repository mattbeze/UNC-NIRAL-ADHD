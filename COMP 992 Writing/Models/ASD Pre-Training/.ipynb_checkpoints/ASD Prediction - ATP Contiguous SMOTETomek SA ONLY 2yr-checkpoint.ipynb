{
 "cells": [
  {
   "cell_type": "code",
   "execution_count": 1,
   "id": "foreign-airfare",
   "metadata": {},
   "outputs": [
    {
     "data": {
      "text/plain": [
       "<torch._C.Generator at 0x1cef30a2a50>"
      ]
     },
     "execution_count": 1,
     "metadata": {},
     "output_type": "execute_result"
    }
   ],
   "source": [
    "import seaborn as sn\n",
    "from imblearn.over_sampling import SMOTE, SMOTENC \n",
    "from imblearn.combine import SMOTETomek\n",
    "from imblearn.under_sampling import TomekLinks\n",
    "import matplotlib.pyplot as plt\n",
    "import pandas as pd\n",
    "from sklearn.utils import class_weight\n",
    "from sklearn.metrics import accuracy_score, recall_score, confusion_matrix, multilabel_confusion_matrix, precision_score, precision_recall_curve, average_precision_score, classification_report\n",
    "from sklearn.model_selection import KFold, StratifiedKFold, train_test_split, GridSearchCV\n",
    "from sklearn.preprocessing import MinMaxScaler, LabelEncoder\n",
    "from torch.utils.data import Dataset, DataLoader, random_split\n",
    "from torch import Tensor\n",
    "from torch.nn import Linear, ReLU, Sigmoid, Module, BCELoss, BCEWithLogitsLoss\n",
    "from torch.optim import Adam\n",
    "import torch\n",
    "import torch.nn as nn\n",
    "import torch.optim as optim\n",
    "from torch.utils.data import Dataset, DataLoader\n",
    "from pandas import DataFrame\n",
    "import xlsxwriter\n",
    "import time\n",
    "\n",
    "seed_value = 7\n",
    "import os\n",
    "os.environ['PYTHONHASHSEED']=str(seed_value)\n",
    "import random\n",
    "random.seed(seed_value)\n",
    "import numpy as np\n",
    "np.random.seed(seed_value)\n",
    "import torch\n",
    "torch.manual_seed(seed_value)"
   ]
  },
  {
   "cell_type": "code",
   "execution_count": 2,
   "id": "cooked-scroll",
   "metadata": {},
   "outputs": [
    {
     "name": "stdout",
     "output_type": "stream",
     "text": [
      "(285, 152)\n",
      "(285, 1)\n",
      "        ROI01     ROI02       ROI03       ROI04       ROI05       ROI06  \\\n",
      "0    3.905840  3.393892  230.523926  293.862579  527.884460  555.748962   \n",
      "1    3.595455  3.312612  370.019440  582.413879  497.802826  596.668823   \n",
      "2    3.670577  3.725302  371.318420  772.177307  549.699341  730.099426   \n",
      "3    3.566294  3.487459  250.661987  443.132172  486.239197  525.699402   \n",
      "4    3.833908  3.821681  345.200073  738.344055  536.072754  675.837463   \n",
      "..        ...       ...         ...         ...         ...         ...   \n",
      "280  3.662186  3.650436  287.647369  474.686035  584.339905  438.143341   \n",
      "281  4.109102  3.846138  332.994141  760.042908  486.190369  816.337830   \n",
      "282  3.693911  3.648732  271.374634  490.116577  406.441742  389.142914   \n",
      "283  3.752698  3.274315  356.308594  775.486877  524.228760  368.944977   \n",
      "284  3.719216  3.630050  332.994507  795.262390  651.754333  723.053345   \n",
      "\n",
      "          ROI07        ROI08       ROI09       ROI10  ...      ROI145  \\\n",
      "0    295.126587   549.173340  278.556213  316.988800  ...  536.484070   \n",
      "1    360.500824   659.186646  328.039642  438.723846  ...  633.745728   \n",
      "2    410.474030   915.784546  483.310150  352.274841  ...  608.105469   \n",
      "3    199.968048   572.680786  362.952515  291.379608  ...  531.852356   \n",
      "4    318.143555   794.241028  324.610565  591.088928  ...  663.143250   \n",
      "..          ...          ...         ...         ...  ...         ...   \n",
      "280  329.550201   731.609070  406.504242  319.972656  ...  629.860352   \n",
      "281  360.135803   847.826660  461.949036  345.167786  ...  613.170898   \n",
      "282  253.388779   646.499390  297.905151  378.563232  ...  607.855591   \n",
      "283  527.416199   593.869019  332.332001  393.644623  ...  715.723267   \n",
      "284  347.640137  1029.776855  572.250916  305.297729  ...  801.283020   \n",
      "\n",
      "         ROI146      ROI147      ROI148      ROI149      ROI150  GA  Sex  \\\n",
      "0     88.525070  517.677734  236.496460  201.145233   73.988457  38  1.0   \n",
      "1     99.549080  607.062988  541.234253  194.753418   88.439957  38  1.0   \n",
      "2    127.721260  604.861877  532.357117  209.077560   91.626724  38  1.0   \n",
      "3     99.652077  541.236145  186.517044  221.049026   78.935867  38  1.0   \n",
      "4    135.558548  715.380432  274.076202  202.578049   51.299538  38  1.0   \n",
      "..          ...         ...         ...         ...         ...  ..  ...   \n",
      "280   66.088036  438.403625  236.722076  277.900787  105.470558  38  1.0   \n",
      "281  154.727417  892.369629  220.891266  241.105286  138.327805  38  1.0   \n",
      "282   92.237068  389.954803  368.161804  190.296112   89.323586  38  0.0   \n",
      "283  108.366829  501.632568  206.737228  336.702057   67.737236  38  0.0   \n",
      "284  148.940979  450.855438  280.721497  263.371674   66.949821  38  0.0   \n",
      "\n",
      "     MEDU  Age-At-Scan  \n",
      "0      25          730  \n",
      "1      25          730  \n",
      "2      25          730  \n",
      "3      25          730  \n",
      "4      25          730  \n",
      "..    ...          ...  \n",
      "280    25          730  \n",
      "281    25          730  \n",
      "282    25          730  \n",
      "283    25          730  \n",
      "284    25          730  \n",
      "\n",
      "[285 rows x 152 columns]\n"
     ]
    }
   ],
   "source": [
    "Training_Data = pd.ExcelFile(\"Labels.xlsx\") #Training Data already pre-scaled to the IBIS Data set\n",
    "data = Training_Data.parse(Training_Data.sheet_names[5])\n",
    "label_data = Training_Data.parse(Training_Data.sheet_names[2])\n",
    "data_features = data.loc[:, data.columns]\n",
    "data_features = data_features.drop(['Case','Visit','MATCH','INDEX','ASD+','ASD-','Gender'], axis=1)\n",
    "data_features = data_features.dropna()\n",
    "data_features = data_features.drop(['Final Label'], axis=1)\n",
    "labels = label_data.loc[:, label_data.columns]\n",
    "labels = labels.drop(['CASE','MATCH','INDEX','ASD+','ASD-'], axis=1)\n",
    "labels = labels.dropna()\n",
    "print(data_features.shape)\n",
    "print(labels.shape)\n",
    "\n",
    "print(data_features)"
   ]
  },
  {
   "cell_type": "code",
   "execution_count": 3,
   "id": "engaged-memorabilia",
   "metadata": {},
   "outputs": [
    {
     "name": "stdout",
     "output_type": "stream",
     "text": [
      "(400, 152)\n",
      "(400, 1)\n",
      "(29, 152)\n"
     ]
    }
   ],
   "source": [
    "scaler = MinMaxScaler()\n",
    "scaled_data = scaler.fit_transform(data_features)\n",
    "\n",
    "scaled_data.shape\n",
    "labels.shape\n",
    "\n",
    "X_train, X_test, Y_train, Y_test = train_test_split(scaled_data, labels, test_size=0.10, random_state=seed_value)\n",
    "sm = SMOTENC([150],sampling_strategy = 'minority', random_state = seed_value, k_neighbors=2)\n",
    "tl = TomekLinks(sampling_strategy = 'majority')\n",
    "\n",
    "\n",
    "resample = SMOTETomek(smote=sm,tomek=tl,random_state=seed_value)\n",
    "#Version below works the exact same apparently. Will just pass the old smote object.\n",
    "#resample = SMOTETomek(smote=SMOTENC([297],sampling_strategy='minority'),tomek=TomekLinks(sampling_strategy='majority'),random_state=seed_value)\n",
    "\n",
    "\n",
    "\n",
    "#Imblearn has other SMOTE variants to look into.\n",
    "#ADASYN - creates synthetic data according to the data density. \n",
    "#The synthetic data generation would inversely proportional to the density of the minority class. It means more synthetic data are created in regions of the feature space where the density of minority examples is low, and fewer or none where the density is high.\n",
    "#In simpler terms, in an area where the minority class is less dense, the synthetic data are created more. Otherwise, the synthetic data is not made so much.\n",
    "\n",
    "#SMOTENC - Denote which features are categorical, and SMOTE would resample the categorical data instead of creating synthetic data.\n",
    "\n",
    "#Borderline SMOTE\n",
    "#K SMOTE\n",
    "\n",
    "#Should increase testing size. Play with testing/training split.\n",
    "#X_train_smoted, Y_train_smoted = sm.fit_sample(X_train, Y_train) #Only smote the training set.\n",
    "#X_undersampled, Y_undersampled = tl.fit_resample(X_train, Y_train)\n",
    "X_resampled, Y_resampled = resample.fit_sample(X_train,Y_train)\n",
    "\n",
    "#print(X_train_smoted.shape)\n",
    "#print(Y_train_smoted.shape)\n",
    "#print(X_undersampled.shape)\n",
    "#print(Y_undersampled.shape)\n",
    "print(X_resampled.shape)\n",
    "print(Y_resampled.shape)\n",
    "print(X_test.shape)"
   ]
  },
  {
   "cell_type": "code",
   "execution_count": 4,
   "id": "quarterly-fundamentals",
   "metadata": {},
   "outputs": [],
   "source": [
    "#Y_train_smoted"
   ]
  },
  {
   "cell_type": "code",
   "execution_count": 5,
   "id": "double-visibility",
   "metadata": {},
   "outputs": [],
   "source": [
    "#Y_undersampled"
   ]
  },
  {
   "cell_type": "code",
   "execution_count": 6,
   "id": "loved-salon",
   "metadata": {},
   "outputs": [],
   "source": [
    "pd.set_option(\"display.max_rows\", None, \"display.max_columns\", None)\n",
    "#print(X_train_smoted)"
   ]
  },
  {
   "cell_type": "code",
   "execution_count": 7,
   "id": "endless-penny",
   "metadata": {},
   "outputs": [
    {
     "data": {
      "text/plain": [
       "(400, 152)"
      ]
     },
     "execution_count": 7,
     "metadata": {},
     "output_type": "execute_result"
    }
   ],
   "source": [
    "X_resampled.shape"
   ]
  },
  {
   "cell_type": "code",
   "execution_count": 8,
   "id": "consolidated-business",
   "metadata": {},
   "outputs": [],
   "source": [
    "#Some hyperparameters\n",
    "#D_in is input dimension; H is hidden dimension; D_out is output dimension. \n",
    "\n",
    "#Best: 0.674222 using {'batch_size': 35, 'dropout': 0.3, 'epochs': 25, 'layer1_size': 90, 'layer2_size': 35}\n",
    "D_in, H1, H2, D_out = 152, 90, 35, 1\n",
    "EPOCHS = 62\n",
    "BATCH_SIZE = 35\n",
    "LEARNING_RATE = 0.01\n",
    "DROPOUT_RATE = 0.15\n",
    "\n",
    "## train data\n",
    "class trainData(Dataset):\n",
    "    \n",
    "    def __init__(self, X_data, y_data): #used to perform initializing operations such as reading data and preprocessing.\n",
    "        self.X_data = X_data\n",
    "        self.y_data = y_data\n",
    "        \n",
    "    def __getitem__(self, index): #returns data (input and output) in batches.\n",
    "        return self.X_data[index], self.y_data[index]\n",
    "        \n",
    "    def __len__ (self): #returns the size of the input data.\n",
    "        return len(self.X_data)\n",
    "\n",
    "#A dataloader is then used on this dataset class to read the data in batches.\n",
    "train_data = trainData(torch.FloatTensor(X_resampled), \n",
    "                       torch.FloatTensor(Y_resampled.values))\n",
    "## test data    \n",
    "class testData(Dataset):\n",
    "    \n",
    "    def __init__(self, X_data): ##used to perform initializing operations such as reading data and preprocessing.\n",
    "        self.X_data = X_data\n",
    "        \n",
    "    def __getitem__(self, index): #returns data (input and output) in batches.\n",
    "        return self.X_data[index]\n",
    "        \n",
    "    def __len__ (self): #returns the size of the input data.\n",
    "        return len(self.X_data)\n",
    "    \n",
    "#A dataloader is then used on this dataset class to read the data in batches.\n",
    "test_data = testData(torch.FloatTensor(X_test))\n",
    "\n",
    "#Initialize DataLoaders\n",
    "train_loader = DataLoader(dataset=train_data, batch_size=BATCH_SIZE, shuffle=True)\n",
    "test_loader = DataLoader(dataset=test_data, batch_size=33) #Batch size of the validation set. Need 1 at a time for how it was setup in the tutorial."
   ]
  },
  {
   "cell_type": "code",
   "execution_count": 9,
   "id": "addressed-python",
   "metadata": {},
   "outputs": [
    {
     "name": "stdout",
     "output_type": "stream",
     "text": [
      "cpu\n"
     ]
    }
   ],
   "source": [
    "class binaryClassification(nn.Module):\n",
    "    def __init__(self):\n",
    "        super(binaryClassification, self).__init__()\n",
    "        # Number of input features is 298.\n",
    "        self.layer_1 = nn.Linear(D_in, H1) #298 -> 100\n",
    "        self.layer_2 = nn.Linear(H1, H2) #100 -> 15\n",
    "        self.layer_out = nn.Linear(H2, D_out) #15 -> 1\n",
    "        \n",
    "        self.relu = nn.ReLU()\n",
    "        self.dropout = nn.Dropout(p=DROPOUT_RATE)\n",
    "        #self.batchnorm1 = nn.BatchNorm1d(100)\n",
    "        #self.batchnorm2 = nn.BatchNorm1d(15)\n",
    "        \n",
    "    def forward(self, inputs):\n",
    "        x = self.relu(self.layer_1(inputs)) #ReLU on the 298?\n",
    "        #x = self.batchnorm1(x) #Normalize the 100\n",
    "        x = self.dropout(x) #Dropout 15%\n",
    "        x = self.relu(self.layer_2(x)) #ReLU on the 100?\n",
    "        #x = self.batchnorm2(x) #Normalize the 15\n",
    "        x = self.layer_out(x) #1\n",
    "        \n",
    "        return x\n",
    "device = torch.device(\"cuda:0\" if torch.cuda.is_available() else \"cpu\")\n",
    "print(device)\n",
    "#Should use the CPU since I don't have a GPU."
   ]
  },
  {
   "cell_type": "code",
   "execution_count": 10,
   "id": "utility-fairy",
   "metadata": {},
   "outputs": [
    {
     "name": "stdout",
     "output_type": "stream",
     "text": [
      "binaryClassification(\n",
      "  (layer_1): Linear(in_features=152, out_features=90, bias=True)\n",
      "  (layer_2): Linear(in_features=90, out_features=35, bias=True)\n",
      "  (layer_out): Linear(in_features=35, out_features=1, bias=True)\n",
      "  (relu): ReLU()\n",
      "  (dropout): Dropout(p=0.15, inplace=False)\n",
      ")\n"
     ]
    }
   ],
   "source": [
    "#Model initialization and information on layers. The model's actual architecture can be viewed in the forward function above.\n",
    "model = binaryClassification()\n",
    "model.to(device)\n",
    "print(model)\n",
    "weights = torch.FloatTensor([5]) #Class weights?\n",
    "criterion = nn.BCEWithLogitsLoss(pos_weight=weights)\n",
    "optimizer = optim.Adam(model.parameters(), lr=LEARNING_RATE)"
   ]
  },
  {
   "cell_type": "code",
   "execution_count": 11,
   "id": "ignored-treatment",
   "metadata": {},
   "outputs": [],
   "source": [
    "#Function to define accuracy. Should look to see if there is a prebuilt that I can use from sci-kit learn or something.\n",
    "def binary_acc(y_pred, y_test):\n",
    "    y_pred_tag = torch.round(torch.sigmoid(y_pred))\n",
    "\n",
    "    correct_results_sum = (y_pred_tag == y_test).sum().float()\n",
    "    acc = correct_results_sum/y_test.shape[0]\n",
    "    acc = torch.round(acc * 100)\n",
    "    \n",
    "    return acc"
   ]
  },
  {
   "cell_type": "code",
   "execution_count": 12,
   "id": "nervous-highland",
   "metadata": {},
   "outputs": [
    {
     "name": "stdout",
     "output_type": "stream",
     "text": [
      "Training Epoch 001: | Loss: 1.42676 | Acc: 50.083\n",
      "Validation Accuracy |  10.344827586206897  PPV |  [0.         0.10344828]  Recall |  [0. 1.]\n",
      "Training Epoch 002: | Loss: 1.32940 | Acc: 50.667\n",
      "Validation Accuracy |  10.344827586206897  PPV |  [0.         0.10344828]  Recall |  [0. 1.]\n",
      "Training Epoch 003: | Loss: 1.31581 | Acc: 50.250\n",
      "Validation Accuracy |  10.344827586206897  PPV |  [0.         0.10344828]  Recall |  [0. 1.]\n",
      "Training Epoch 004: | Loss: 1.29086 | Acc: 49.417\n",
      "Validation Accuracy |  10.344827586206897  PPV |  [0.         0.10344828]  Recall |  [0. 1.]\n"
     ]
    },
    {
     "name": "stderr",
     "output_type": "stream",
     "text": [
      "C:\\Users\\mattbeze\\Anaconda3\\envs\\pytorch\\lib\\site-packages\\sklearn\\metrics\\_classification.py:1245: UndefinedMetricWarning: Precision is ill-defined and being set to 0.0 in labels with no predicted samples. Use `zero_division` parameter to control this behavior.\n",
      "  _warn_prf(average, modifier, msg_start, len(result))\n",
      "C:\\Users\\mattbeze\\Anaconda3\\envs\\pytorch\\lib\\site-packages\\sklearn\\metrics\\_classification.py:1245: UndefinedMetricWarning: Precision is ill-defined and being set to 0.0 in labels with no predicted samples. Use `zero_division` parameter to control this behavior.\n",
      "  _warn_prf(average, modifier, msg_start, len(result))\n",
      "C:\\Users\\mattbeze\\Anaconda3\\envs\\pytorch\\lib\\site-packages\\sklearn\\metrics\\_classification.py:1245: UndefinedMetricWarning: Precision is ill-defined and being set to 0.0 in labels with no predicted samples. Use `zero_division` parameter to control this behavior.\n",
      "  _warn_prf(average, modifier, msg_start, len(result))\n",
      "C:\\Users\\mattbeze\\Anaconda3\\envs\\pytorch\\lib\\site-packages\\sklearn\\metrics\\_classification.py:1245: UndefinedMetricWarning: Precision is ill-defined and being set to 0.0 in labels with no predicted samples. Use `zero_division` parameter to control this behavior.\n",
      "  _warn_prf(average, modifier, msg_start, len(result))\n"
     ]
    },
    {
     "name": "stdout",
     "output_type": "stream",
     "text": [
      "Training Epoch 005: | Loss: 1.23374 | Acc: 49.500\n",
      "Validation Accuracy |  10.344827586206897  PPV |  [0.         0.10344828]  Recall |  [0. 1.]\n",
      "Training Epoch 006: | Loss: 1.19213 | Acc: 50.333\n",
      "Validation Accuracy |  10.344827586206897  PPV |  [0.         0.10344828]  Recall |  [0. 1.]\n",
      "Training Epoch 007: | Loss: 1.16984 | Acc: 50.000\n"
     ]
    },
    {
     "name": "stderr",
     "output_type": "stream",
     "text": [
      "C:\\Users\\mattbeze\\Anaconda3\\envs\\pytorch\\lib\\site-packages\\sklearn\\metrics\\_classification.py:1245: UndefinedMetricWarning: Precision is ill-defined and being set to 0.0 in labels with no predicted samples. Use `zero_division` parameter to control this behavior.\n",
      "  _warn_prf(average, modifier, msg_start, len(result))\n",
      "C:\\Users\\mattbeze\\Anaconda3\\envs\\pytorch\\lib\\site-packages\\sklearn\\metrics\\_classification.py:1245: UndefinedMetricWarning: Precision is ill-defined and being set to 0.0 in labels with no predicted samples. Use `zero_division` parameter to control this behavior.\n",
      "  _warn_prf(average, modifier, msg_start, len(result))\n"
     ]
    },
    {
     "name": "stdout",
     "output_type": "stream",
     "text": [
      "Validation Accuracy |  10.344827586206897  PPV |  [0.         0.10344828]  Recall |  [0. 1.]\n"
     ]
    },
    {
     "name": "stderr",
     "output_type": "stream",
     "text": [
      "C:\\Users\\mattbeze\\Anaconda3\\envs\\pytorch\\lib\\site-packages\\sklearn\\metrics\\_classification.py:1245: UndefinedMetricWarning: Precision is ill-defined and being set to 0.0 in labels with no predicted samples. Use `zero_division` parameter to control this behavior.\n",
      "  _warn_prf(average, modifier, msg_start, len(result))\n"
     ]
    },
    {
     "name": "stdout",
     "output_type": "stream",
     "text": [
      "Training Epoch 008: | Loss: 1.00275 | Acc: 54.333\n",
      "Validation Accuracy |  51.724137931034484  PPV |  [0.92857143 0.13333333]  Recall |  [0.5        0.66666667]\n",
      "Training Epoch 009: | Loss: 0.95992 | Acc: 65.417\n",
      "Validation Accuracy |  58.620689655172406  PPV |  [0.9375     0.15384615]  Recall |  [0.57692308 0.66666667]\n",
      "Training Epoch 010: | Loss: 1.01911 | Acc: 66.333\n",
      "Validation Accuracy |  17.24137931034483  PPV |  [1.         0.11111111]  Recall |  [0.07692308 1.        ]\n",
      "Training Epoch 011: | Loss: 1.07101 | Acc: 59.667\n",
      "Validation Accuracy |  24.137931034482758  PPV |  [1.   0.12]  Recall |  [0.15384615 1.        ]\n",
      "Training Epoch 012: | Loss: 0.89228 | Acc: 68.083\n",
      "Validation Accuracy |  82.75862068965517  PPV |  [0.92 0.25]  Recall |  [0.88461538 0.33333333]\n",
      "Training Epoch 013: | Loss: 1.18090 | Acc: 65.000\n",
      "Validation Accuracy |  13.793103448275861  PPV |  [1.         0.10714286]  Recall |  [0.03846154 1.        ]\n",
      "Training Epoch 014: | Loss: 1.03144 | Acc: 52.333\n",
      "Validation Accuracy |  24.137931034482758  PPV |  [1.   0.12]  Recall |  [0.15384615 1.        ]\n",
      "Training Epoch 015: | Loss: 0.89960 | Acc: 63.917\n",
      "Validation Accuracy |  24.137931034482758  PPV |  [1.   0.12]  Recall |  [0.15384615 1.        ]\n",
      "Training Epoch 016: | Loss: 0.95767 | Acc: 68.000\n",
      "Validation Accuracy |  68.96551724137932  PPV |  [0.94736842 0.2       ]  Recall |  [0.69230769 0.66666667]\n",
      "Training Epoch 017: | Loss: 0.95529 | Acc: 67.083\n",
      "Validation Accuracy |  62.06896551724138  PPV |  [0.94117647 0.16666667]  Recall |  [0.61538462 0.66666667]\n",
      "Training Epoch 018: | Loss: 0.76405 | Acc: 74.667\n",
      "Validation Accuracy |  65.51724137931035  PPV |  [0.94444444 0.18181818]  Recall |  [0.65384615 0.66666667]\n",
      "Training Epoch 019: | Loss: 0.75417 | Acc: 78.250\n",
      "Validation Accuracy |  62.06896551724138  PPV |  [0.94117647 0.16666667]  Recall |  [0.61538462 0.66666667]\n",
      "Training Epoch 020: | Loss: 0.76008 | Acc: 76.167\n",
      "Validation Accuracy |  79.3103448275862  PPV |  [0.91666667 0.2       ]  Recall |  [0.84615385 0.33333333]\n",
      "Training Epoch 021: | Loss: 0.75297 | Acc: 78.000\n",
      "Validation Accuracy |  72.41379310344827  PPV |  [0.95       0.22222222]  Recall |  [0.73076923 0.66666667]\n",
      "Training Epoch 022: | Loss: 0.66817 | Acc: 82.250\n",
      "Validation Accuracy |  65.51724137931035  PPV |  [0.94444444 0.18181818]  Recall |  [0.65384615 0.66666667]\n",
      "Training Epoch 023: | Loss: 0.62838 | Acc: 84.000\n",
      "Validation Accuracy |  75.86206896551724  PPV |  [0.95238095 0.25      ]  Recall |  [0.76923077 0.66666667]\n",
      "Training Epoch 024: | Loss: 0.66713 | Acc: 80.917\n",
      "Validation Accuracy |  72.41379310344827  PPV |  [0.95       0.22222222]  Recall |  [0.73076923 0.66666667]\n",
      "Training Epoch 025: | Loss: 0.63388 | Acc: 84.417\n",
      "Validation Accuracy |  48.275862068965516  PPV |  [0.92307692 0.125     ]  Recall |  [0.46153846 0.66666667]\n",
      "Training Epoch 026: | Loss: 0.61047 | Acc: 80.833\n",
      "Validation Accuracy |  82.75862068965517  PPV |  [0.95652174 0.33333333]  Recall |  [0.84615385 0.66666667]\n",
      "Training Epoch 027: | Loss: 0.79925 | Acc: 76.917\n",
      "Validation Accuracy |  31.03448275862069  PPV |  [1.         0.13043478]  Recall |  [0.23076923 1.        ]\n",
      "Training Epoch 028: | Loss: 0.67004 | Acc: 78.167\n",
      "Validation Accuracy |  86.20689655172413  PPV |  [0.92307692 0.33333333]  Recall |  [0.92307692 0.33333333]\n",
      "Training Epoch 029: | Loss: 0.93267 | Acc: 72.833\n",
      "Validation Accuracy |  72.41379310344827  PPV |  [0.95       0.22222222]  Recall |  [0.73076923 0.66666667]\n",
      "Training Epoch 030: | Loss: 0.78971 | Acc: 75.333\n",
      "Validation Accuracy |  51.724137931034484  PPV |  [0.92857143 0.13333333]  Recall |  [0.5        0.66666667]\n",
      "Training Epoch 031: | Loss: 0.67392 | Acc: 79.333\n",
      "Validation Accuracy |  51.724137931034484  PPV |  [0.92857143 0.13333333]  Recall |  [0.5        0.66666667]\n",
      "Training Epoch 032: | Loss: 0.61204 | Acc: 81.917\n",
      "Validation Accuracy |  55.172413793103445  PPV |  [0.93333333 0.14285714]  Recall |  [0.53846154 0.66666667]\n",
      "Training Epoch 033: | Loss: 0.58097 | Acc: 85.083\n",
      "Validation Accuracy |  86.20689655172413  PPV |  [0.92307692 0.33333333]  Recall |  [0.92307692 0.33333333]\n",
      "Training Epoch 034: | Loss: 0.47532 | Acc: 88.917\n",
      "Validation Accuracy |  62.06896551724138  PPV |  [0.94117647 0.16666667]  Recall |  [0.61538462 0.66666667]\n",
      "Training Epoch 035: | Loss: 0.51370 | Acc: 85.750\n",
      "Validation Accuracy |  82.75862068965517  PPV |  [0.95652174 0.33333333]  Recall |  [0.84615385 0.66666667]\n",
      "Training Epoch 036: | Loss: 0.51509 | Acc: 87.333\n",
      "Validation Accuracy |  44.827586206896555  PPV |  [0.91666667 0.11764706]  Recall |  [0.42307692 0.66666667]\n",
      "Training Epoch 037: | Loss: 0.59923 | Acc: 84.583\n",
      "Validation Accuracy |  75.86206896551724  PPV |  [0.95238095 0.25      ]  Recall |  [0.76923077 0.66666667]\n",
      "Training Epoch 038: | Loss: 0.43977 | Acc: 89.833\n",
      "Validation Accuracy |  82.75862068965517  PPV |  [0.95652174 0.33333333]  Recall |  [0.84615385 0.66666667]\n",
      "Training Epoch 039: | Loss: 0.44026 | Acc: 89.917\n",
      "Validation Accuracy |  86.20689655172413  PPV |  [0.95833333 0.4       ]  Recall |  [0.88461538 0.66666667]\n",
      "Training Epoch 040: | Loss: 0.47022 | Acc: 88.167\n",
      "Validation Accuracy |  68.96551724137932  PPV |  [0.94736842 0.2       ]  Recall |  [0.69230769 0.66666667]\n",
      "Training Epoch 041: | Loss: 0.52330 | Acc: 87.667\n",
      "Validation Accuracy |  68.96551724137932  PPV |  [0.94736842 0.2       ]  Recall |  [0.69230769 0.66666667]\n",
      "Training Epoch 042: | Loss: 0.51901 | Acc: 83.833\n",
      "Validation Accuracy |  58.620689655172406  PPV |  [0.9375     0.15384615]  Recall |  [0.57692308 0.66666667]\n",
      "Training Epoch 043: | Loss: 0.62207 | Acc: 84.250\n",
      "Validation Accuracy |  68.96551724137932  PPV |  [0.94736842 0.2       ]  Recall |  [0.69230769 0.66666667]\n",
      "Training Epoch 044: | Loss: 0.72021 | Acc: 81.833\n",
      "Validation Accuracy |  89.65517241379311  PPV |  [0.96 0.5 ]  Recall |  [0.92307692 0.66666667]\n",
      "Training Epoch 045: | Loss: 0.64328 | Acc: 83.833\n",
      "Validation Accuracy |  86.20689655172413  PPV |  [0.95833333 0.4       ]  Recall |  [0.88461538 0.66666667]\n",
      "Training Epoch 046: | Loss: 0.52069 | Acc: 89.000\n",
      "Validation Accuracy |  72.41379310344827  PPV |  [0.95       0.22222222]  Recall |  [0.73076923 0.66666667]\n",
      "Training Epoch 047: | Loss: 0.52187 | Acc: 86.333\n",
      "Validation Accuracy |  86.20689655172413  PPV |  [0.95833333 0.4       ]  Recall |  [0.88461538 0.66666667]\n",
      "Training Epoch 048: | Loss: 0.49166 | Acc: 86.083\n",
      "Validation Accuracy |  65.51724137931035  PPV |  [0.94444444 0.18181818]  Recall |  [0.65384615 0.66666667]\n",
      "Training Epoch 049: | Loss: 0.48248 | Acc: 86.250\n",
      "Validation Accuracy |  75.86206896551724  PPV |  [0.95238095 0.25      ]  Recall |  [0.76923077 0.66666667]\n",
      "Training Epoch 050: | Loss: 0.55105 | Acc: 86.083\n",
      "Validation Accuracy |  68.96551724137932  PPV |  [0.94736842 0.2       ]  Recall |  [0.69230769 0.66666667]\n",
      "Training Epoch 051: | Loss: 0.57792 | Acc: 85.417\n",
      "Validation Accuracy |  55.172413793103445  PPV |  [0.93333333 0.14285714]  Recall |  [0.53846154 0.66666667]\n",
      "Training Epoch 052: | Loss: 0.61239 | Acc: 84.083\n",
      "Validation Accuracy |  79.3103448275862  PPV |  [0.95454545 0.28571429]  Recall |  [0.80769231 0.66666667]\n",
      "Training Epoch 053: | Loss: 0.75275 | Acc: 82.917\n",
      "Validation Accuracy |  48.275862068965516  PPV |  [1.         0.16666667]  Recall |  [0.42307692 1.        ]\n",
      "Training Epoch 054: | Loss: 0.94846 | Acc: 75.000\n",
      "Validation Accuracy |  65.51724137931035  PPV |  [0.94444444 0.18181818]  Recall |  [0.65384615 0.66666667]\n",
      "Training Epoch 055: | Loss: 0.63527 | Acc: 83.083\n",
      "Validation Accuracy |  75.86206896551724  PPV |  [0.95238095 0.25      ]  Recall |  [0.76923077 0.66666667]\n",
      "Training Epoch 056: | Loss: 0.68539 | Acc: 82.583\n",
      "Validation Accuracy |  79.3103448275862  PPV |  [0.95454545 0.28571429]  Recall |  [0.80769231 0.66666667]\n",
      "Training Epoch 057: | Loss: 0.49144 | Acc: 89.167\n",
      "Validation Accuracy |  58.620689655172406  PPV |  [0.9375     0.15384615]  Recall |  [0.57692308 0.66666667]\n",
      "Training Epoch 058: | Loss: 0.72582 | Acc: 83.083\n",
      "Validation Accuracy |  58.620689655172406  PPV |  [0.9375     0.15384615]  Recall |  [0.57692308 0.66666667]\n",
      "Training Epoch 059: | Loss: 0.59756 | Acc: 86.083\n",
      "Validation Accuracy |  86.20689655172413  PPV |  [0.92307692 0.33333333]  Recall |  [0.92307692 0.33333333]\n",
      "Training Epoch 060: | Loss: 0.76928 | Acc: 83.583\n",
      "Validation Accuracy |  55.172413793103445  PPV |  [0.93333333 0.14285714]  Recall |  [0.53846154 0.66666667]\n",
      "Training Epoch 061: | Loss: 0.65140 | Acc: 82.250\n",
      "Validation Accuracy |  68.96551724137932  PPV |  [0.94736842 0.2       ]  Recall |  [0.69230769 0.66666667]\n",
      "Training Epoch 062: | Loss: 0.67411 | Acc: 82.917\n",
      "Validation Accuracy |  86.20689655172413  PPV |  [0.95833333 0.4       ]  Recall |  [0.88461538 0.66666667]\n"
     ]
    }
   ],
   "source": [
    "#model.train() tells PyTorch that you’re in training mode.\n",
    "#Similarly, we’ll call model.eval() when we test our model. We’ll see that below.\n",
    "'''If you’re using layers such as Dropout or BatchNorm which behave differently during training and evaluation, \n",
    "you need to tell PyTorch to act accordingly. While the default mode in PyTorch is the train, \n",
    "so, you don’t explicitly have to write that. But it’s good practice.'''\n",
    "val_acc = []\n",
    "train_acc = []\n",
    "train_loss = []\n",
    "val_loss = []\n",
    "\n",
    "model.train() #Initial training mode\n",
    "for e in range(1, EPOCHS+1):\n",
    "    epoch_loss = 0\n",
    "    epoch_acc = 0\n",
    "    for X_batch, y_batch in train_loader:\n",
    "        X_batch, y_batch = X_batch.to(device), y_batch.to(device)\n",
    "        optimizer.zero_grad()\n",
    "        \n",
    "        y_pred = model(X_batch)\n",
    "        \n",
    "        loss = criterion(y_pred, y_batch)\n",
    "        acc = binary_acc(y_pred, y_batch)\n",
    "        \n",
    "        loss.backward()\n",
    "        optimizer.step()\n",
    "        \n",
    "        epoch_loss += loss.item()\n",
    "        epoch_acc += acc.item()\n",
    "    \n",
    "    train_acc.append(epoch_acc/len(train_loader))\n",
    "    train_loss.append(epoch_loss/len(train_loader))\n",
    "    print(f'Training Epoch {e+0:03}: | Loss: {epoch_loss/len(train_loader):.5f} | Acc: {epoch_acc/len(train_loader):.3f}')\n",
    "    #Validation metrics here\n",
    "    model.eval()\n",
    "    #print(\"Evaluation mode\")\n",
    "    y_pred_list = []\n",
    "    test_loader = DataLoader(dataset=test_data, batch_size=33)\n",
    "    with torch.no_grad():\n",
    "        counter = 0\n",
    "        for X_batch in test_loader:\n",
    "            X_batch = X_batch.to(device)\n",
    "            y_test_pred = model(X_batch)\n",
    "            y_test_pred = torch.sigmoid(y_test_pred)\n",
    "            y_pred_tag = torch.round(y_test_pred)\n",
    "            y_pred_list.append(y_pred_tag.cpu().numpy())\n",
    "            loss = criterion(y_test_pred,torch.FloatTensor(Y_test.values))\n",
    "            val_loss.append(loss)\n",
    "            counter+=1\n",
    "            \n",
    "    y_pred_list = []\n",
    "    test_loader = DataLoader(dataset=test_data, batch_size=1)\n",
    "    with torch.no_grad():\n",
    "        for X_batch in test_loader:\n",
    "            X_batch = X_batch.to(device)\n",
    "            y_test_pred = model(X_batch)\n",
    "            y_test_pred = torch.sigmoid(y_test_pred)\n",
    "            y_pred_tag = torch.round(y_test_pred)\n",
    "            y_pred_list.append(y_pred_tag.cpu().numpy())\n",
    "            \n",
    "    y_pred_list = [a.squeeze().tolist() for a in y_pred_list]\n",
    "    y_loss_df = pd.DataFrame(y_pred_list)\n",
    "    accuracy = accuracy_score(torch.FloatTensor(Y_test.values), y_pred_list)\n",
    "    ppv = precision_score(Y_test, y_pred_list, average=None)\n",
    "    recall = recall_score(Y_test, y_pred_list, average=None)\n",
    "    print(\"Validation Accuracy | \",accuracy*100,\" PPV | \",ppv,\" Recall | \",recall)\n",
    "    val_acc.append(accuracy*100)\n",
    "    model.train()\n",
    "    #print(\"Return to training mode\")\n",
    "    \n",
    "    #Need to get validation loss."
   ]
  },
  {
   "cell_type": "code",
   "execution_count": 13,
   "id": "empirical-college",
   "metadata": {},
   "outputs": [
    {
     "data": {
      "image/png": "[encoded data removed]",
      "text/plain": [
       "<Figure size 432x288 with 1 Axes>"
      ]
     },
     "metadata": {
      "needs_background": "light"
     },
     "output_type": "display_data"
    },
    {
     "data": {
      "image/png": "[encoded data removed]",
      "text/plain": [
       "<Figure size 432x288 with 1 Axes>"
      ]
     },
     "metadata": {
      "needs_background": "light"
     },
     "output_type": "display_data"
    }
   ],
   "source": [
    "#Plotting loss\n",
    "plt.plot(train_loss)\n",
    "plt.plot(val_loss)\n",
    "plt.title('model loss')\n",
    "plt.ylabel('loss')\n",
    "plt.xlabel('epoch')\n",
    "plt.legend(['train', 'validation'], loc='upper left')\n",
    "plt.axis([0, EPOCHS-1, 0.0, 1.5])\n",
    "plt.show()\n",
    "\n",
    "#Plotting Accuracy\n",
    "plt.plot(train_acc)\n",
    "plt.plot(val_acc)\n",
    "plt.title('model accuracy')\n",
    "plt.ylabel('acc')\n",
    "plt.xlabel('epoch')\n",
    "plt.legend(['train_acc', 'val_acc'], loc='upper left')\n",
    "plt.axis([0, EPOCHS-1, 0.0, 105])\n",
    "plt.show()"
   ]
  },
  {
   "cell_type": "code",
   "execution_count": 14,
   "id": "employed-radical",
   "metadata": {},
   "outputs": [
    {
     "name": "stdout",
     "output_type": "stream",
     "text": [
      "Validation Accuracy |  86.20689655172413  PPV |  [0.95833333 0.4       ]  Recall |  [0.88461538 0.66666667]\n"
     ]
    },
    {
     "data": {
      "text/plain": [
       "<AxesSubplot:>"
      ]
     },
     "execution_count": 14,
     "metadata": {},
     "output_type": "execute_result"
    },
    {
     "data": {
      "image/png": "[encoded data removed]",
      "text/plain": [
       "<Figure size 432x288 with 2 Axes>"
      ]
     },
     "metadata": {
      "needs_background": "light"
     },
     "output_type": "display_data"
    }
   ],
   "source": [
    "y_pred_list = []\n",
    "test_loader = DataLoader(dataset=test_data, batch_size=1)\n",
    "model.eval() #Model evaluation\n",
    "with torch.no_grad():\n",
    "    for X_batch in test_loader:\n",
    "        X_batch = X_batch.to(device)\n",
    "        y_test_pred = model(X_batch)\n",
    "        y_test_pred = torch.sigmoid(y_test_pred)\n",
    "        y_pred_tag = torch.round(y_test_pred)\n",
    "        y_pred_list.append(y_pred_tag.cpu().numpy())\n",
    "\n",
    "y_pred_list = [a.squeeze().tolist() for a in y_pred_list]\n",
    "accuracy = accuracy_score(Y_test, y_pred_list)\n",
    "ppv = precision_score(Y_test, y_pred_list, average=None)\n",
    "recall = recall_score(Y_test, y_pred_list, average=None)\n",
    "print(\"Validation Accuracy | \",accuracy*100,\" PPV | \",ppv,\" Recall | \",recall)\n",
    "cf_matrix = confusion_matrix(Y_test, y_pred_list)\n",
    "sn.heatmap(cf_matrix, annot=True)"
   ]
  },
  {
   "cell_type": "code",
   "execution_count": 15,
   "id": "seasonal-ottawa",
   "metadata": {},
   "outputs": [
    {
     "name": "stdout",
     "output_type": "stream",
     "text": [
      "              precision    recall  f1-score   support\n",
      "\n",
      "         0.0       0.96      0.88      0.92        26\n",
      "         1.0       0.40      0.67      0.50         3\n",
      "\n",
      "    accuracy                           0.86        29\n",
      "   macro avg       0.68      0.78      0.71        29\n",
      "weighted avg       0.90      0.86      0.88        29\n",
      "\n"
     ]
    }
   ],
   "source": [
    "print(classification_report(Y_test, y_pred_list))"
   ]
  },
  {
   "cell_type": "code",
   "execution_count": 16,
   "id": "atomic-album",
   "metadata": {},
   "outputs": [],
   "source": [
    "#Save model once everything is all figured out\n",
    "#Compare SmoteTomek that does undersampling & oversampling vs two separate smotes: SMOTENC for oversampling minority class and another SMOTE for undersampling the majority class\n",
    "#Shooting for over 20% ppv"
   ]
  },
  {
   "cell_type": "code",
   "execution_count": 17,
   "id": "macro-mills",
   "metadata": {},
   "outputs": [],
   "source": [
    "torch.save(model.state_dict(), \"./model_dict_atp_sa_only_2y.pth\")"
   ]
  },
  {
   "cell_type": "code",
   "execution_count": 18,
   "id": "peaceful-shame",
   "metadata": {},
   "outputs": [],
   "source": [
    "#Use ROC curves for stability to select between hyperparameters for the pre-training\n",
    "#SMOTETomek for Final model prediction"
   ]
  }
 ],
 "metadata": {
  "kernelspec": {
   "display_name": "Python 3",
   "language": "python",
   "name": "python3"
  },
  "language_info": {
   "codemirror_mode": {
    "name": "ipython",
    "version": 3
   },
   "file_extension": ".py",
   "mimetype": "text/x-python",
   "name": "python",
   "nbconvert_exporter": "python",
   "pygments_lexer": "ipython3",
   "version": "3.7.9"
  }
 },
 "nbformat": 4,
 "nbformat_minor": 5
}
