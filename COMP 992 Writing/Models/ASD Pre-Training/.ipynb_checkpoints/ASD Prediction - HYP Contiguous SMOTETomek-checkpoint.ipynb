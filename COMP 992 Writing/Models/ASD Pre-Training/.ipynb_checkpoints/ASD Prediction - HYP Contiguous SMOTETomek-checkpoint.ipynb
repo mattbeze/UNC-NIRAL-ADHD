{
 "cells": [
  {
   "cell_type": "code",
   "execution_count": 1,
   "id": "foreign-airfare",
   "metadata": {},
   "outputs": [
    {
     "data": {
      "text/plain": [
       "<torch._C.Generator at 0x1cebb1f1a10>"
      ]
     },
     "execution_count": 1,
     "metadata": {},
     "output_type": "execute_result"
    }
   ],
   "source": [
    "import seaborn as sn\n",
    "from imblearn.over_sampling import SMOTE, SMOTENC \n",
    "from imblearn.combine import SMOTETomek\n",
    "from imblearn.under_sampling import TomekLinks\n",
    "import matplotlib.pyplot as plt\n",
    "import pandas as pd\n",
    "from sklearn.utils import class_weight\n",
    "from sklearn.metrics import accuracy_score, recall_score, confusion_matrix, multilabel_confusion_matrix, precision_score, precision_recall_curve, average_precision_score, classification_report\n",
    "from sklearn.model_selection import KFold, StratifiedKFold, train_test_split, GridSearchCV\n",
    "from sklearn.preprocessing import MinMaxScaler, LabelEncoder\n",
    "from torch.utils.data import Dataset, DataLoader, random_split\n",
    "from torch import Tensor\n",
    "from torch.nn import Linear, ReLU, Sigmoid, Module, BCELoss, BCEWithLogitsLoss\n",
    "from torch.optim import Adam\n",
    "import torch\n",
    "import torch.nn as nn\n",
    "import torch.optim as optim\n",
    "from torch.utils.data import Dataset, DataLoader\n",
    "from pandas import DataFrame\n",
    "import xlsxwriter\n",
    "import time\n",
    "\n",
    "seed_value = 7\n",
    "import os\n",
    "os.environ['PYTHONHASHSEED']=str(seed_value)\n",
    "import random\n",
    "random.seed(seed_value)\n",
    "import numpy as np\n",
    "np.random.seed(seed_value)\n",
    "import torch\n",
    "torch.manual_seed(seed_value)"
   ]
  },
  {
   "cell_type": "code",
   "execution_count": 2,
   "id": "cooked-scroll",
   "metadata": {},
   "outputs": [
    {
     "name": "stdout",
     "output_type": "stream",
     "text": [
      "(325, 300)\n",
      "(325, 1)\n",
      "        ROI01     ROI02     ROI03     ROI04     ROI05     ROI06     ROI07  \\\n",
      "0    5.793536  3.866496  3.098838  4.048604  6.426077  4.403172  4.261295   \n",
      "1    5.427401  3.622417  2.783151  3.694173  5.355683  4.619472  4.155240   \n",
      "2    5.111301  3.870314  3.108702  4.091984  5.355489  4.630480  4.624373   \n",
      "3    5.178747  3.622916  3.598303  3.447460  5.283903  4.220170  4.121575   \n",
      "4    4.722781  3.377421  3.210996  3.651045  5.095924  4.381611  3.842679   \n",
      "..        ...       ...       ...       ...       ...       ...       ...   \n",
      "320  5.349534  3.946325  3.614473  4.477407  5.462570  4.709925  3.994972   \n",
      "321  5.704702  4.075027  3.370904  3.777030  5.658958  4.895649  4.063496   \n",
      "322  4.848389  3.957003  2.965123  4.136956  5.076971  4.495058  4.002496   \n",
      "323  6.258693  3.978725  3.678498  4.113883  5.968214  4.725040  4.266952   \n",
      "324  5.040856  4.178494  3.567092  4.197161  5.300995  4.562065  4.492294   \n",
      "\n",
      "        ROI08     ROI09     ROI10  ...    ROI145.1    ROI146.1    ROI147.1  \\\n",
      "0    3.831333  4.445617  3.396683  ...  155.508011   48.544083  181.545761   \n",
      "1    3.875726  4.422465  3.511074  ...  201.204773   73.664246  213.794815   \n",
      "2    4.511621  4.540018  3.477463  ...  200.227219   44.225342  138.425171   \n",
      "3    3.856017  3.960819  3.149752  ...  236.601746  110.491745  165.591187   \n",
      "4    3.762513  4.036688  3.547168  ...  204.568115   40.610905  164.443649   \n",
      "..        ...       ...       ...  ...         ...         ...         ...   \n",
      "320  4.296281  4.383517  3.554552  ...  235.810120   51.496948  148.841721   \n",
      "321  4.100371  4.553134  3.622911  ...  276.025177   96.080154  190.212219   \n",
      "322  3.926990  4.001771  2.968836  ...  144.219238   68.406181  145.055130   \n",
      "323  3.912821  4.372757  3.494205  ...  276.356140   32.484756   92.408058   \n",
      "324  4.481652  4.821313  3.696236  ...  298.344025   41.011883  125.253403   \n",
      "\n",
      "       ROI148.1     ROI149.1   ROI150.1    GA  Sex  MEDU  Age-At-Scan  \n",
      "0     55.945396  1334.362915  42.280411  38.0  1.0  25.0        365.0  \n",
      "1     85.349739  1055.696899  45.044640  38.0  1.0  25.0        365.0  \n",
      "2     67.068848  1332.396973  38.569923  38.0  1.0  25.0        365.0  \n",
      "3     54.119156  1180.109985  41.613785  38.0  1.0  25.0        365.0  \n",
      "4     69.239693   977.552307  30.338100  38.0  0.0  25.0        365.0  \n",
      "..          ...          ...        ...   ...  ...   ...          ...  \n",
      "320   65.336006  1114.747314  49.085369  38.0  1.0  25.0        365.0  \n",
      "321   94.857468  1246.162842  91.711594  38.0  1.0  25.0        365.0  \n",
      "322  126.826782   951.095276  57.694912  38.0  0.0  25.0        365.0  \n",
      "323   29.952845  1340.986572  43.590279  38.0  0.0  25.0        365.0  \n",
      "324   86.354561  1254.106079  45.841053  38.0  1.0  25.0        365.0  \n",
      "\n",
      "[325 rows x 300 columns]\n"
     ]
    }
   ],
   "source": [
    "Training_Data = pd.ExcelFile(\"Labels.xlsx\") #Training Data already pre-scaled to the IBIS Data set\n",
    "data = Training_Data.parse(Training_Data.sheet_names[1])\n",
    "label_data = Training_Data.parse(Training_Data.sheet_names[0])\n",
    "data_features = data.loc[:, data.columns]\n",
    "data_features = data_features.drop(['Case','Visit','MATCH','INDEX','ASD+','ASD-','Gender'], axis=1)\n",
    "data_features = data_features.dropna()\n",
    "data_features = data_features.drop(['Final Label'], axis=1)\n",
    "labels = label_data.loc[:, label_data.columns]\n",
    "labels = labels.drop(['CASE','MATCH','INDEX','ASD+','ASD-'], axis=1)\n",
    "labels = labels.dropna()\n",
    "print(data_features.shape)\n",
    "print(labels.shape)\n",
    "\n",
    "print(data_features)"
   ]
  },
  {
   "cell_type": "code",
   "execution_count": 3,
   "id": "engaged-memorabilia",
   "metadata": {},
   "outputs": [
    {
     "name": "stdout",
     "output_type": "stream",
     "text": [
      "(484, 300)\n",
      "(484, 1)\n",
      "(33, 300)\n"
     ]
    }
   ],
   "source": [
    "scaler = MinMaxScaler()\n",
    "scaled_data = scaler.fit_transform(data_features)\n",
    "\n",
    "scaled_data.shape\n",
    "labels.shape\n",
    "\n",
    "X_train, X_test, Y_train, Y_test = train_test_split(scaled_data, labels, test_size=0.10, random_state=seed_value)\n",
    "sm = SMOTENC([297],sampling_strategy = 'minority', random_state = seed_value, k_neighbors=2)\n",
    "tl = TomekLinks(sampling_strategy = 'majority')\n",
    "\n",
    "\n",
    "resample = SMOTETomek(smote=sm,tomek=tl,random_state=seed_value)\n",
    "#Version below works the exact same apparently. Will just pass the old smote object.\n",
    "#resample = SMOTETomek(smote=SMOTENC([297],sampling_strategy='minority'),tomek=TomekLinks(sampling_strategy='majority'),random_state=seed_value)\n",
    "\n",
    "\n",
    "\n",
    "#Imblearn has other SMOTE variants to look into.\n",
    "#ADASYN - creates synthetic data according to the data density. \n",
    "#The synthetic data generation would inversely proportional to the density of the minority class. It means more synthetic data are created in regions of the feature space where the density of minority examples is low, and fewer or none where the density is high.\n",
    "#In simpler terms, in an area where the minority class is less dense, the synthetic data are created more. Otherwise, the synthetic data is not made so much.\n",
    "\n",
    "#SMOTENC - Denote which features are categorical, and SMOTE would resample the categorical data instead of creating synthetic data.\n",
    "\n",
    "#Borderline SMOTE\n",
    "#K SMOTE\n",
    "\n",
    "#Should increase testing size. Play with testing/training split.\n",
    "#X_train_smoted, Y_train_smoted = sm.fit_sample(X_train, Y_train) #Only smote the training set.\n",
    "#X_undersampled, Y_undersampled = tl.fit_resample(X_train, Y_train)\n",
    "X_resampled, Y_resampled = resample.fit_sample(X_train,Y_train)\n",
    "\n",
    "#print(X_train_smoted.shape)\n",
    "#print(Y_train_smoted.shape)\n",
    "#print(X_undersampled.shape)\n",
    "#print(Y_undersampled.shape)\n",
    "print(X_resampled.shape)\n",
    "print(Y_resampled.shape)\n",
    "print(X_test.shape)"
   ]
  },
  {
   "cell_type": "code",
   "execution_count": 4,
   "id": "quarterly-fundamentals",
   "metadata": {},
   "outputs": [],
   "source": [
    "#Y_train_smoted"
   ]
  },
  {
   "cell_type": "code",
   "execution_count": 5,
   "id": "double-visibility",
   "metadata": {},
   "outputs": [],
   "source": [
    "#Y_undersampled"
   ]
  },
  {
   "cell_type": "code",
   "execution_count": 6,
   "id": "loved-salon",
   "metadata": {},
   "outputs": [],
   "source": [
    "pd.set_option(\"display.max_rows\", None, \"display.max_columns\", None)\n",
    "#print(X_train_smoted)"
   ]
  },
  {
   "cell_type": "code",
   "execution_count": 7,
   "id": "endless-penny",
   "metadata": {},
   "outputs": [
    {
     "data": {
      "text/plain": [
       "(484, 300)"
      ]
     },
     "execution_count": 7,
     "metadata": {},
     "output_type": "execute_result"
    }
   ],
   "source": [
    "X_resampled.shape"
   ]
  },
  {
   "cell_type": "code",
   "execution_count": 8,
   "id": "retired-depression",
   "metadata": {},
   "outputs": [],
   "source": [
    "#print(X_undersampled)"
   ]
  },
  {
   "cell_type": "code",
   "execution_count": 9,
   "id": "consolidated-business",
   "metadata": {},
   "outputs": [],
   "source": [
    "#Some hyperparameters\n",
    "#D_in is input dimension; H is hidden dimension; D_out is output dimension. \n",
    "#Need to figure out how to get dropout\n",
    "#Best: 0.610920 using {'batch_size': 30, 'dropout': 0.2, 'epochs': 100, 'layer1_size': 100, 'layer2_size': 25}\n",
    "D_in, H1, H2, D_out = 300, 100, 25, 1\n",
    "EPOCHS = 138\n",
    "BATCH_SIZE = 20\n",
    "LEARNING_RATE = 0.001\n",
    "DROPOUT_RATE = 0.20\n",
    "\n",
    "## train data\n",
    "class trainData(Dataset):\n",
    "    \n",
    "    def __init__(self, X_data, y_data): #used to perform initializing operations such as reading data and preprocessing.\n",
    "        self.X_data = X_data\n",
    "        self.y_data = y_data\n",
    "        \n",
    "    def __getitem__(self, index): #returns data (input and output) in batches.\n",
    "        return self.X_data[index], self.y_data[index]\n",
    "        \n",
    "    def __len__ (self): #returns the size of the input data.\n",
    "        return len(self.X_data)\n",
    "\n",
    "#A dataloader is then used on this dataset class to read the data in batches.\n",
    "train_data = trainData(torch.FloatTensor(X_resampled), \n",
    "                       torch.FloatTensor(Y_resampled.values))\n",
    "## test data    \n",
    "class testData(Dataset):\n",
    "    \n",
    "    def __init__(self, X_data): ##used to perform initializing operations such as reading data and preprocessing.\n",
    "        self.X_data = X_data\n",
    "        \n",
    "    def __getitem__(self, index): #returns data (input and output) in batches.\n",
    "        return self.X_data[index]\n",
    "        \n",
    "    def __len__ (self): #returns the size of the input data.\n",
    "        return len(self.X_data)\n",
    "    \n",
    "#A dataloader is then used on this dataset class to read the data in batches.\n",
    "test_data = testData(torch.FloatTensor(X_test))\n",
    "\n",
    "#Initialize DataLoaders\n",
    "train_loader = DataLoader(dataset=train_data, batch_size=BATCH_SIZE, shuffle=True)\n",
    "test_loader = DataLoader(dataset=test_data, batch_size=33) #Batch size of the validation set. Need 1 at a time for how it was setup in the tutorial."
   ]
  },
  {
   "cell_type": "code",
   "execution_count": 10,
   "id": "addressed-python",
   "metadata": {},
   "outputs": [
    {
     "name": "stdout",
     "output_type": "stream",
     "text": [
      "cpu\n"
     ]
    }
   ],
   "source": [
    "class binaryClassification(nn.Module):\n",
    "    def __init__(self):\n",
    "        super(binaryClassification, self).__init__()\n",
    "        # Number of input features is 298.\n",
    "        self.layer_1 = nn.Linear(D_in, H1) #298 -> 100\n",
    "        self.layer_2 = nn.Linear(H1, H2) #100 -> 15\n",
    "        self.layer_out = nn.Linear(H2, D_out) #15 -> 1\n",
    "        \n",
    "        self.relu = nn.ReLU()\n",
    "        self.dropout = nn.Dropout(p=DROPOUT_RATE)\n",
    "        #self.batchnorm1 = nn.BatchNorm1d(100)\n",
    "        #self.batchnorm2 = nn.BatchNorm1d(15)\n",
    "        \n",
    "    def forward(self, inputs):\n",
    "        x = self.relu(self.layer_1(inputs)) #ReLU on the 298?\n",
    "        #x = self.batchnorm1(x) #Normalize the 100\n",
    "        x = self.dropout(x) #Dropout 15%\n",
    "        x = self.relu(self.layer_2(x)) #ReLU on the 100?\n",
    "        #x = self.batchnorm2(x) #Normalize the 15\n",
    "        x = self.layer_out(x) #1\n",
    "        \n",
    "        return x\n",
    "device = torch.device(\"cuda:0\" if torch.cuda.is_available() else \"cpu\")\n",
    "print(device)\n",
    "#Should use the CPU since I don't have a GPU."
   ]
  },
  {
   "cell_type": "code",
   "execution_count": 11,
   "id": "utility-fairy",
   "metadata": {},
   "outputs": [
    {
     "name": "stdout",
     "output_type": "stream",
     "text": [
      "binaryClassification(\n",
      "  (layer_1): Linear(in_features=300, out_features=100, bias=True)\n",
      "  (layer_2): Linear(in_features=100, out_features=25, bias=True)\n",
      "  (layer_out): Linear(in_features=25, out_features=1, bias=True)\n",
      "  (relu): ReLU()\n",
      "  (dropout): Dropout(p=0.2, inplace=False)\n",
      ")\n"
     ]
    }
   ],
   "source": [
    "#Model initialization and information on layers. The model's actual architecture can be viewed in the forward function above.\n",
    "model = binaryClassification()\n",
    "model.to(device)\n",
    "print(model)\n",
    "weights = torch.FloatTensor([5]) #Class weights?\n",
    "criterion = nn.BCEWithLogitsLoss(pos_weight=weights)\n",
    "optimizer = optim.Adam(model.parameters(), lr=LEARNING_RATE)"
   ]
  },
  {
   "cell_type": "code",
   "execution_count": 12,
   "id": "ignored-treatment",
   "metadata": {},
   "outputs": [],
   "source": [
    "#Function to define accuracy. Should look to see if there is a prebuilt that I can use from sci-kit learn or something.\n",
    "def binary_acc(y_pred, y_test):\n",
    "    y_pred_tag = torch.round(torch.sigmoid(y_pred))\n",
    "\n",
    "    correct_results_sum = (y_pred_tag == y_test).sum().float()\n",
    "    acc = correct_results_sum/y_test.shape[0]\n",
    "    acc = torch.round(acc * 100)\n",
    "    \n",
    "    return acc"
   ]
  },
  {
   "cell_type": "code",
   "execution_count": 13,
   "id": "nervous-highland",
   "metadata": {},
   "outputs": [
    {
     "name": "stdout",
     "output_type": "stream",
     "text": [
      "Training Epoch 001: | Loss: 1.42271 | Acc: 50.000\n",
      "Validation Accuracy |  9.090909090909092  PPV |  [0.         0.09090909]  Recall |  [0. 1.]\n",
      "Training Epoch 002: | Loss: 1.32322 | Acc: 50.800\n",
      "Validation Accuracy |  9.090909090909092  PPV |  [0.         0.09090909]  Recall |  [0. 1.]\n",
      "Training Epoch 003: | Loss: 1.31850 | Acc: 48.400\n"
     ]
    },
    {
     "name": "stderr",
     "output_type": "stream",
     "text": [
      "C:\\Users\\mattbeze\\Anaconda3\\envs\\pytorch\\lib\\site-packages\\sklearn\\metrics\\_classification.py:1245: UndefinedMetricWarning: Precision is ill-defined and being set to 0.0 in labels with no predicted samples. Use `zero_division` parameter to control this behavior.\n",
      "  _warn_prf(average, modifier, msg_start, len(result))\n",
      "C:\\Users\\mattbeze\\Anaconda3\\envs\\pytorch\\lib\\site-packages\\sklearn\\metrics\\_classification.py:1245: UndefinedMetricWarning: Precision is ill-defined and being set to 0.0 in labels with no predicted samples. Use `zero_division` parameter to control this behavior.\n",
      "  _warn_prf(average, modifier, msg_start, len(result))\n"
     ]
    },
    {
     "name": "stdout",
     "output_type": "stream",
     "text": [
      "Validation Accuracy |  9.090909090909092  PPV |  [0.         0.09090909]  Recall |  [0. 1.]\n",
      "Training Epoch 004: | Loss: 1.35003 | Acc: 50.800\n",
      "Validation Accuracy |  9.090909090909092  PPV |  [0.         0.09090909]  Recall |  [0. 1.]\n",
      "Training Epoch 005: | Loss: 1.29661 | Acc: 50.800\n",
      "Validation Accuracy |  9.090909090909092  PPV |  [0.         0.09090909]  Recall |  [0. 1.]\n"
     ]
    },
    {
     "name": "stderr",
     "output_type": "stream",
     "text": [
      "C:\\Users\\mattbeze\\Anaconda3\\envs\\pytorch\\lib\\site-packages\\sklearn\\metrics\\_classification.py:1245: UndefinedMetricWarning: Precision is ill-defined and being set to 0.0 in labels with no predicted samples. Use `zero_division` parameter to control this behavior.\n",
      "  _warn_prf(average, modifier, msg_start, len(result))\n",
      "C:\\Users\\mattbeze\\Anaconda3\\envs\\pytorch\\lib\\site-packages\\sklearn\\metrics\\_classification.py:1245: UndefinedMetricWarning: Precision is ill-defined and being set to 0.0 in labels with no predicted samples. Use `zero_division` parameter to control this behavior.\n",
      "  _warn_prf(average, modifier, msg_start, len(result))\n",
      "C:\\Users\\mattbeze\\Anaconda3\\envs\\pytorch\\lib\\site-packages\\sklearn\\metrics\\_classification.py:1245: UndefinedMetricWarning: Precision is ill-defined and being set to 0.0 in labels with no predicted samples. Use `zero_division` parameter to control this behavior.\n",
      "  _warn_prf(average, modifier, msg_start, len(result))\n"
     ]
    },
    {
     "name": "stdout",
     "output_type": "stream",
     "text": [
      "Training Epoch 006: | Loss: 1.25532 | Acc: 50.800\n",
      "Validation Accuracy |  9.090909090909092  PPV |  [0.         0.09090909]  Recall |  [0. 1.]\n",
      "Training Epoch 007: | Loss: 1.24981 | Acc: 50.000\n",
      "Validation Accuracy |  9.090909090909092  PPV |  [0.         0.09090909]  Recall |  [0. 1.]\n",
      "Training Epoch 008: | Loss: 1.20303 | Acc: 50.800\n"
     ]
    },
    {
     "name": "stderr",
     "output_type": "stream",
     "text": [
      "C:\\Users\\mattbeze\\Anaconda3\\envs\\pytorch\\lib\\site-packages\\sklearn\\metrics\\_classification.py:1245: UndefinedMetricWarning: Precision is ill-defined and being set to 0.0 in labels with no predicted samples. Use `zero_division` parameter to control this behavior.\n",
      "  _warn_prf(average, modifier, msg_start, len(result))\n",
      "C:\\Users\\mattbeze\\Anaconda3\\envs\\pytorch\\lib\\site-packages\\sklearn\\metrics\\_classification.py:1245: UndefinedMetricWarning: Precision is ill-defined and being set to 0.0 in labels with no predicted samples. Use `zero_division` parameter to control this behavior.\n",
      "  _warn_prf(average, modifier, msg_start, len(result))\n",
      "C:\\Users\\mattbeze\\Anaconda3\\envs\\pytorch\\lib\\site-packages\\sklearn\\metrics\\_classification.py:1245: UndefinedMetricWarning: Precision is ill-defined and being set to 0.0 in labels with no predicted samples. Use `zero_division` parameter to control this behavior.\n",
      "  _warn_prf(average, modifier, msg_start, len(result))\n"
     ]
    },
    {
     "name": "stdout",
     "output_type": "stream",
     "text": [
      "Validation Accuracy |  9.090909090909092  PPV |  [0.         0.09090909]  Recall |  [0. 1.]\n",
      "Training Epoch 009: | Loss: 1.15807 | Acc: 50.000\n",
      "Validation Accuracy |  9.090909090909092  PPV |  [0.         0.09090909]  Recall |  [0. 1.]\n",
      "Training Epoch 010: | Loss: 1.10399 | Acc: 50.000\n"
     ]
    },
    {
     "name": "stderr",
     "output_type": "stream",
     "text": [
      "C:\\Users\\mattbeze\\Anaconda3\\envs\\pytorch\\lib\\site-packages\\sklearn\\metrics\\_classification.py:1245: UndefinedMetricWarning: Precision is ill-defined and being set to 0.0 in labels with no predicted samples. Use `zero_division` parameter to control this behavior.\n",
      "  _warn_prf(average, modifier, msg_start, len(result))\n",
      "C:\\Users\\mattbeze\\Anaconda3\\envs\\pytorch\\lib\\site-packages\\sklearn\\metrics\\_classification.py:1245: UndefinedMetricWarning: Precision is ill-defined and being set to 0.0 in labels with no predicted samples. Use `zero_division` parameter to control this behavior.\n",
      "  _warn_prf(average, modifier, msg_start, len(result))\n"
     ]
    },
    {
     "name": "stdout",
     "output_type": "stream",
     "text": [
      "Validation Accuracy |  9.090909090909092  PPV |  [0.         0.09090909]  Recall |  [0. 1.]\n",
      "Training Epoch 011: | Loss: 1.06788 | Acc: 50.800\n",
      "Validation Accuracy |  12.121212121212121  PPV |  [1.      0.09375]  Recall |  [0.03333333 1.        ]\n",
      "Training Epoch 012: | Loss: 0.95115 | Acc: 57.400\n",
      "Validation Accuracy |  24.242424242424242  PPV |  [1.         0.10714286]  Recall |  [0.16666667 1.        ]\n",
      "Training Epoch 013: | Loss: 0.94396 | Acc: 62.400\n",
      "Validation Accuracy |  24.242424242424242  PPV |  [1.         0.10714286]  Recall |  [0.16666667 1.        ]\n",
      "Training Epoch 014: | Loss: 0.84590 | Acc: 64.000\n",
      "Validation Accuracy |  45.45454545454545  PPV |  [0.92857143 0.10526316]  Recall |  [0.43333333 0.66666667]\n",
      "Training Epoch 015: | Loss: 0.82810 | Acc: 67.600\n",
      "Validation Accuracy |  60.60606060606061  PPV |  [0.94736842 0.14285714]  Recall |  [0.6        0.66666667]\n",
      "Training Epoch 016: | Loss: 0.80249 | Acc: 71.200\n",
      "Validation Accuracy |  54.54545454545454  PPV |  [0.94117647 0.125     ]  Recall |  [0.53333333 0.66666667]\n",
      "Training Epoch 017: | Loss: 0.71688 | Acc: 73.000\n",
      "Validation Accuracy |  63.63636363636363  PPV |  [0.95       0.15384615]  Recall |  [0.63333333 0.66666667]\n",
      "Training Epoch 018: | Loss: 0.65397 | Acc: 77.200\n",
      "Validation Accuracy |  45.45454545454545  PPV |  [0.92857143 0.10526316]  Recall |  [0.43333333 0.66666667]\n",
      "Training Epoch 019: | Loss: 0.65529 | Acc: 78.800\n",
      "Validation Accuracy |  66.66666666666666  PPV |  [0.95238095 0.16666667]  Recall |  [0.66666667 0.66666667]\n",
      "Training Epoch 020: | Loss: 0.58604 | Acc: 82.400\n",
      "Validation Accuracy |  51.515151515151516  PPV |  [0.9375     0.11764706]  Recall |  [0.5        0.66666667]\n",
      "Training Epoch 021: | Loss: 0.52052 | Acc: 85.200\n",
      "Validation Accuracy |  30.303030303030305  PPV |  [1.         0.11538462]  Recall |  [0.23333333 1.        ]\n",
      "Training Epoch 022: | Loss: 0.78038 | Acc: 75.600\n",
      "Validation Accuracy |  66.66666666666666  PPV |  [0.95238095 0.16666667]  Recall |  [0.66666667 0.66666667]\n",
      "Training Epoch 023: | Loss: 0.54747 | Acc: 83.600\n",
      "Validation Accuracy |  66.66666666666666  PPV |  [0.95238095 0.16666667]  Recall |  [0.66666667 0.66666667]\n",
      "Training Epoch 024: | Loss: 0.53440 | Acc: 85.400\n",
      "Validation Accuracy |  75.75757575757575  PPV |  [0.89285714 0.        ]  Recall |  [0.83333333 0.        ]\n",
      "Training Epoch 025: | Loss: 0.52345 | Acc: 85.200\n",
      "Validation Accuracy |  66.66666666666666  PPV |  [0.95238095 0.16666667]  Recall |  [0.66666667 0.66666667]\n",
      "Training Epoch 026: | Loss: 0.61899 | Acc: 82.800\n",
      "Validation Accuracy |  78.78787878787878  PPV |  [0.92592593 0.16666667]  Recall |  [0.83333333 0.33333333]\n",
      "Training Epoch 027: | Loss: 0.45959 | Acc: 87.200\n",
      "Validation Accuracy |  66.66666666666666  PPV |  [0.95238095 0.16666667]  Recall |  [0.66666667 0.66666667]\n",
      "Training Epoch 028: | Loss: 0.37618 | Acc: 88.600\n",
      "Validation Accuracy |  78.78787878787878  PPV |  [0.96 0.25]  Recall |  [0.8        0.66666667]\n",
      "Training Epoch 029: | Loss: 0.39476 | Acc: 89.600\n",
      "Validation Accuracy |  78.78787878787878  PPV |  [0.92592593 0.16666667]  Recall |  [0.83333333 0.33333333]\n",
      "Training Epoch 030: | Loss: 0.40691 | Acc: 87.200\n",
      "Validation Accuracy |  75.75757575757575  PPV |  [0.92307692 0.14285714]  Recall |  [0.8        0.33333333]\n",
      "Training Epoch 031: | Loss: 0.35507 | Acc: 89.800\n",
      "Validation Accuracy |  78.78787878787878  PPV |  [0.92592593 0.16666667]  Recall |  [0.83333333 0.33333333]\n",
      "Training Epoch 032: | Loss: 0.40486 | Acc: 88.200\n",
      "Validation Accuracy |  78.78787878787878  PPV |  [0.92592593 0.16666667]  Recall |  [0.83333333 0.33333333]\n",
      "Training Epoch 033: | Loss: 0.30584 | Acc: 91.600\n",
      "Validation Accuracy |  78.78787878787878  PPV |  [0.92592593 0.16666667]  Recall |  [0.83333333 0.33333333]\n",
      "Training Epoch 034: | Loss: 0.42155 | Acc: 90.800\n",
      "Validation Accuracy |  57.57575757575758  PPV |  [0.94444444 0.13333333]  Recall |  [0.56666667 0.66666667]\n",
      "Training Epoch 035: | Loss: 0.73152 | Acc: 76.400\n",
      "Validation Accuracy |  78.78787878787878  PPV |  [0.92592593 0.16666667]  Recall |  [0.83333333 0.33333333]\n",
      "Training Epoch 036: | Loss: 0.33281 | Acc: 93.000\n",
      "Validation Accuracy |  78.78787878787878  PPV |  [0.92592593 0.16666667]  Recall |  [0.83333333 0.33333333]\n",
      "Training Epoch 037: | Loss: 0.29168 | Acc: 93.400\n",
      "Validation Accuracy |  66.66666666666666  PPV |  [0.95238095 0.16666667]  Recall |  [0.66666667 0.66666667]\n",
      "Training Epoch 038: | Loss: 0.30600 | Acc: 91.000\n",
      "Validation Accuracy |  75.75757575757575  PPV |  [0.92307692 0.14285714]  Recall |  [0.8        0.33333333]\n",
      "Training Epoch 039: | Loss: 0.27868 | Acc: 93.000\n",
      "Validation Accuracy |  78.78787878787878  PPV |  [0.92592593 0.16666667]  Recall |  [0.83333333 0.33333333]\n",
      "Training Epoch 040: | Loss: 0.25557 | Acc: 93.200\n",
      "Validation Accuracy |  78.78787878787878  PPV |  [0.92592593 0.16666667]  Recall |  [0.83333333 0.33333333]\n",
      "Training Epoch 041: | Loss: 0.23666 | Acc: 94.400\n",
      "Validation Accuracy |  78.78787878787878  PPV |  [0.92592593 0.16666667]  Recall |  [0.83333333 0.33333333]\n",
      "Training Epoch 042: | Loss: 0.22472 | Acc: 94.200\n",
      "Validation Accuracy |  78.78787878787878  PPV |  [0.92592593 0.16666667]  Recall |  [0.83333333 0.33333333]\n",
      "Training Epoch 043: | Loss: 0.25437 | Acc: 92.600\n",
      "Validation Accuracy |  78.78787878787878  PPV |  [0.92592593 0.16666667]  Recall |  [0.83333333 0.33333333]\n",
      "Training Epoch 044: | Loss: 0.25383 | Acc: 94.200\n",
      "Validation Accuracy |  78.78787878787878  PPV |  [0.92592593 0.16666667]  Recall |  [0.83333333 0.33333333]\n",
      "Training Epoch 045: | Loss: 0.21433 | Acc: 94.200\n",
      "Validation Accuracy |  78.78787878787878  PPV |  [0.92592593 0.16666667]  Recall |  [0.83333333 0.33333333]\n",
      "Training Epoch 046: | Loss: 0.20059 | Acc: 95.800\n",
      "Validation Accuracy |  78.78787878787878  PPV |  [0.92592593 0.16666667]  Recall |  [0.83333333 0.33333333]\n",
      "Training Epoch 047: | Loss: 0.18766 | Acc: 95.800\n",
      "Validation Accuracy |  78.78787878787878  PPV |  [0.92592593 0.16666667]  Recall |  [0.83333333 0.33333333]\n",
      "Training Epoch 048: | Loss: 0.16625 | Acc: 96.600\n",
      "Validation Accuracy |  78.78787878787878  PPV |  [0.92592593 0.16666667]  Recall |  [0.83333333 0.33333333]\n",
      "Training Epoch 049: | Loss: 0.16750 | Acc: 95.600\n",
      "Validation Accuracy |  78.78787878787878  PPV |  [0.92592593 0.16666667]  Recall |  [0.83333333 0.33333333]\n",
      "Training Epoch 050: | Loss: 0.18547 | Acc: 96.000\n",
      "Validation Accuracy |  78.78787878787878  PPV |  [0.92592593 0.16666667]  Recall |  [0.83333333 0.33333333]\n",
      "Training Epoch 051: | Loss: 0.17169 | Acc: 96.800\n",
      "Validation Accuracy |  69.6969696969697  PPV |  [0.95454545 0.18181818]  Recall |  [0.7        0.66666667]\n",
      "Training Epoch 052: | Loss: 0.21546 | Acc: 95.000\n",
      "Validation Accuracy |  78.78787878787878  PPV |  [0.96 0.25]  Recall |  [0.8        0.66666667]\n",
      "Training Epoch 053: | Loss: 0.18353 | Acc: 95.400\n",
      "Validation Accuracy |  81.81818181818183  PPV |  [0.92857143 0.2       ]  Recall |  [0.86666667 0.33333333]\n",
      "Training Epoch 054: | Loss: 0.15655 | Acc: 97.200\n",
      "Validation Accuracy |  78.78787878787878  PPV |  [0.96 0.25]  Recall |  [0.8        0.66666667]\n",
      "Training Epoch 055: | Loss: 0.19135 | Acc: 94.600\n",
      "Validation Accuracy |  81.81818181818183  PPV |  [0.92857143 0.2       ]  Recall |  [0.86666667 0.33333333]\n",
      "Training Epoch 056: | Loss: 0.12248 | Acc: 97.400\n",
      "Validation Accuracy |  81.81818181818183  PPV |  [0.92857143 0.2       ]  Recall |  [0.86666667 0.33333333]\n",
      "Training Epoch 057: | Loss: 0.11704 | Acc: 97.200\n",
      "Validation Accuracy |  81.81818181818183  PPV |  [0.9 0. ]  Recall |  [0.9 0. ]\n",
      "Training Epoch 058: | Loss: 0.24107 | Acc: 93.800\n",
      "Validation Accuracy |  78.78787878787878  PPV |  [0.96 0.25]  Recall |  [0.8        0.66666667]\n",
      "Training Epoch 059: | Loss: 0.14935 | Acc: 96.600\n",
      "Validation Accuracy |  81.81818181818183  PPV |  [0.9 0. ]  Recall |  [0.9 0. ]\n",
      "Training Epoch 060: | Loss: 0.12823 | Acc: 97.600\n",
      "Validation Accuracy |  81.81818181818183  PPV |  [0.92857143 0.2       ]  Recall |  [0.86666667 0.33333333]\n",
      "Training Epoch 061: | Loss: 0.11899 | Acc: 98.200\n",
      "Validation Accuracy |  81.81818181818183  PPV |  [0.96153846 0.28571429]  Recall |  [0.83333333 0.66666667]\n",
      "Training Epoch 062: | Loss: 0.09770 | Acc: 97.800\n",
      "Validation Accuracy |  84.84848484848484  PPV |  [0.96296296 0.33333333]  Recall |  [0.86666667 0.66666667]\n"
     ]
    },
    {
     "name": "stdout",
     "output_type": "stream",
     "text": [
      "Training Epoch 063: | Loss: 0.12023 | Acc: 96.200\n",
      "Validation Accuracy |  81.81818181818183  PPV |  [0.96153846 0.28571429]  Recall |  [0.83333333 0.66666667]\n",
      "Training Epoch 064: | Loss: 0.11553 | Acc: 98.000\n",
      "Validation Accuracy |  81.81818181818183  PPV |  [0.92857143 0.2       ]  Recall |  [0.86666667 0.33333333]\n",
      "Training Epoch 065: | Loss: 0.09436 | Acc: 98.800\n",
      "Validation Accuracy |  81.81818181818183  PPV |  [0.92857143 0.2       ]  Recall |  [0.86666667 0.33333333]\n",
      "Training Epoch 066: | Loss: 0.15392 | Acc: 95.800\n",
      "Validation Accuracy |  51.515151515151516  PPV |  [0.9375     0.11764706]  Recall |  [0.5        0.66666667]\n",
      "Training Epoch 067: | Loss: 0.20569 | Acc: 94.800\n",
      "Validation Accuracy |  78.78787878787878  PPV |  [0.96 0.25]  Recall |  [0.8        0.66666667]\n",
      "Training Epoch 068: | Loss: 0.13498 | Acc: 95.400\n",
      "Validation Accuracy |  78.78787878787878  PPV |  [0.89655172 0.        ]  Recall |  [0.86666667 0.        ]\n",
      "Training Epoch 069: | Loss: 0.17516 | Acc: 95.400\n",
      "Validation Accuracy |  81.81818181818183  PPV |  [0.96153846 0.28571429]  Recall |  [0.83333333 0.66666667]\n",
      "Training Epoch 070: | Loss: 0.11862 | Acc: 97.400\n",
      "Validation Accuracy |  81.81818181818183  PPV |  [0.96153846 0.28571429]  Recall |  [0.83333333 0.66666667]\n",
      "Training Epoch 071: | Loss: 0.09517 | Acc: 98.400\n",
      "Validation Accuracy |  81.81818181818183  PPV |  [0.96153846 0.28571429]  Recall |  [0.83333333 0.66666667]\n",
      "Training Epoch 072: | Loss: 0.11914 | Acc: 97.600\n",
      "Validation Accuracy |  81.81818181818183  PPV |  [0.96153846 0.28571429]  Recall |  [0.83333333 0.66666667]\n",
      "Training Epoch 073: | Loss: 0.09433 | Acc: 97.200\n",
      "Validation Accuracy |  81.81818181818183  PPV |  [0.9 0. ]  Recall |  [0.9 0. ]\n",
      "Training Epoch 074: | Loss: 0.10566 | Acc: 97.600\n",
      "Validation Accuracy |  84.84848484848484  PPV |  [0.96296296 0.33333333]  Recall |  [0.86666667 0.66666667]\n",
      "Training Epoch 075: | Loss: 0.08890 | Acc: 98.600\n",
      "Validation Accuracy |  78.78787878787878  PPV |  [0.89655172 0.        ]  Recall |  [0.86666667 0.        ]\n",
      "Training Epoch 076: | Loss: 0.07302 | Acc: 98.800\n",
      "Validation Accuracy |  78.78787878787878  PPV |  [0.89655172 0.        ]  Recall |  [0.86666667 0.        ]\n",
      "Training Epoch 077: | Loss: 0.10448 | Acc: 97.400\n",
      "Validation Accuracy |  78.78787878787878  PPV |  [0.96 0.25]  Recall |  [0.8        0.66666667]\n",
      "Training Epoch 078: | Loss: 0.16878 | Acc: 95.800\n",
      "Validation Accuracy |  81.81818181818183  PPV |  [0.96153846 0.28571429]  Recall |  [0.83333333 0.66666667]\n",
      "Training Epoch 079: | Loss: 0.08560 | Acc: 98.000\n",
      "Validation Accuracy |  78.78787878787878  PPV |  [0.89655172 0.        ]  Recall |  [0.86666667 0.        ]\n",
      "Training Epoch 080: | Loss: 0.11086 | Acc: 97.800\n",
      "Validation Accuracy |  75.75757575757575  PPV |  [0.89285714 0.        ]  Recall |  [0.83333333 0.        ]\n",
      "Training Epoch 081: | Loss: 0.08051 | Acc: 98.600\n",
      "Validation Accuracy |  81.81818181818183  PPV |  [0.96153846 0.28571429]  Recall |  [0.83333333 0.66666667]\n",
      "Training Epoch 082: | Loss: 0.08487 | Acc: 98.600\n",
      "Validation Accuracy |  66.66666666666666  PPV |  [0.95238095 0.16666667]  Recall |  [0.66666667 0.66666667]\n",
      "Training Epoch 083: | Loss: 0.18747 | Acc: 95.800\n",
      "Validation Accuracy |  78.78787878787878  PPV |  [0.96 0.25]  Recall |  [0.8        0.66666667]\n",
      "Training Epoch 084: | Loss: 0.16573 | Acc: 96.000\n",
      "Validation Accuracy |  81.81818181818183  PPV |  [0.96153846 0.28571429]  Recall |  [0.83333333 0.66666667]\n",
      "Training Epoch 085: | Loss: 0.05994 | Acc: 98.600\n",
      "Validation Accuracy |  81.81818181818183  PPV |  [0.96153846 0.28571429]  Recall |  [0.83333333 0.66666667]\n",
      "Training Epoch 086: | Loss: 0.06663 | Acc: 98.800\n",
      "Validation Accuracy |  81.81818181818183  PPV |  [0.9 0. ]  Recall |  [0.9 0. ]\n",
      "Training Epoch 087: | Loss: 0.06427 | Acc: 99.200\n",
      "Validation Accuracy |  81.81818181818183  PPV |  [0.96153846 0.28571429]  Recall |  [0.83333333 0.66666667]\n",
      "Training Epoch 088: | Loss: 0.05539 | Acc: 98.800\n",
      "Validation Accuracy |  84.84848484848484  PPV |  [0.93103448 0.25      ]  Recall |  [0.9        0.33333333]\n",
      "Training Epoch 089: | Loss: 0.04833 | Acc: 98.800\n",
      "Validation Accuracy |  78.78787878787878  PPV |  [0.92592593 0.16666667]  Recall |  [0.83333333 0.33333333]\n",
      "Training Epoch 090: | Loss: 0.05582 | Acc: 98.400\n",
      "Validation Accuracy |  81.81818181818183  PPV |  [0.96153846 0.28571429]  Recall |  [0.83333333 0.66666667]\n",
      "Training Epoch 091: | Loss: 0.07286 | Acc: 99.000\n",
      "Validation Accuracy |  81.81818181818183  PPV |  [0.96153846 0.28571429]  Recall |  [0.83333333 0.66666667]\n",
      "Training Epoch 092: | Loss: 0.08534 | Acc: 98.000\n",
      "Validation Accuracy |  81.81818181818183  PPV |  [0.9 0. ]  Recall |  [0.9 0. ]\n",
      "Training Epoch 093: | Loss: 0.16020 | Acc: 95.600\n",
      "Validation Accuracy |  81.81818181818183  PPV |  [0.96153846 0.28571429]  Recall |  [0.83333333 0.66666667]\n",
      "Training Epoch 094: | Loss: 0.33395 | Acc: 89.200\n",
      "Validation Accuracy |  69.6969696969697  PPV |  [0.95454545 0.18181818]  Recall |  [0.7        0.66666667]\n",
      "Training Epoch 095: | Loss: 0.12662 | Acc: 96.400\n",
      "Validation Accuracy |  69.6969696969697  PPV |  [0.95454545 0.18181818]  Recall |  [0.7        0.66666667]\n",
      "Training Epoch 096: | Loss: 0.09395 | Acc: 97.800\n",
      "Validation Accuracy |  81.81818181818183  PPV |  [0.96153846 0.28571429]  Recall |  [0.83333333 0.66666667]\n",
      "Training Epoch 097: | Loss: 0.07015 | Acc: 99.000\n",
      "Validation Accuracy |  81.81818181818183  PPV |  [0.96153846 0.28571429]  Recall |  [0.83333333 0.66666667]\n",
      "Training Epoch 098: | Loss: 0.09250 | Acc: 97.800\n",
      "Validation Accuracy |  81.81818181818183  PPV |  [0.96153846 0.28571429]  Recall |  [0.83333333 0.66666667]\n",
      "Training Epoch 099: | Loss: 0.05545 | Acc: 99.200\n",
      "Validation Accuracy |  81.81818181818183  PPV |  [0.92857143 0.2       ]  Recall |  [0.86666667 0.33333333]\n",
      "Training Epoch 100: | Loss: 0.07394 | Acc: 98.600\n",
      "Validation Accuracy |  81.81818181818183  PPV |  [0.96153846 0.28571429]  Recall |  [0.83333333 0.66666667]\n",
      "Training Epoch 101: | Loss: 0.10724 | Acc: 97.600\n",
      "Validation Accuracy |  72.72727272727273  PPV |  [0.95652174 0.2       ]  Recall |  [0.73333333 0.66666667]\n",
      "Training Epoch 102: | Loss: 0.14477 | Acc: 95.600\n",
      "Validation Accuracy |  81.81818181818183  PPV |  [0.96153846 0.28571429]  Recall |  [0.83333333 0.66666667]\n",
      "Training Epoch 103: | Loss: 0.12260 | Acc: 97.600\n",
      "Validation Accuracy |  78.78787878787878  PPV |  [0.96 0.25]  Recall |  [0.8        0.66666667]\n",
      "Training Epoch 104: | Loss: 0.06965 | Acc: 98.600\n",
      "Validation Accuracy |  81.81818181818183  PPV |  [0.96153846 0.28571429]  Recall |  [0.83333333 0.66666667]\n",
      "Training Epoch 105: | Loss: 0.06790 | Acc: 98.600\n",
      "Validation Accuracy |  81.81818181818183  PPV |  [0.96153846 0.28571429]  Recall |  [0.83333333 0.66666667]\n",
      "Training Epoch 106: | Loss: 0.04728 | Acc: 99.400\n",
      "Validation Accuracy |  81.81818181818183  PPV |  [0.96153846 0.28571429]  Recall |  [0.83333333 0.66666667]\n",
      "Training Epoch 107: | Loss: 0.05970 | Acc: 99.000\n",
      "Validation Accuracy |  81.81818181818183  PPV |  [0.96153846 0.28571429]  Recall |  [0.83333333 0.66666667]\n",
      "Training Epoch 108: | Loss: 0.06601 | Acc: 98.400\n",
      "Validation Accuracy |  78.78787878787878  PPV |  [0.92592593 0.16666667]  Recall |  [0.83333333 0.33333333]\n",
      "Training Epoch 109: | Loss: 0.07245 | Acc: 98.600\n",
      "Validation Accuracy |  81.81818181818183  PPV |  [0.9 0. ]  Recall |  [0.9 0. ]\n",
      "Training Epoch 110: | Loss: 0.05122 | Acc: 99.200\n",
      "Validation Accuracy |  81.81818181818183  PPV |  [0.96153846 0.28571429]  Recall |  [0.83333333 0.66666667]\n",
      "Training Epoch 111: | Loss: 0.03785 | Acc: 99.600\n",
      "Validation Accuracy |  78.78787878787878  PPV |  [0.92592593 0.16666667]  Recall |  [0.83333333 0.33333333]\n",
      "Training Epoch 112: | Loss: 0.04527 | Acc: 98.400\n",
      "Validation Accuracy |  84.84848484848484  PPV |  [0.93103448 0.25      ]  Recall |  [0.9        0.33333333]\n",
      "Training Epoch 113: | Loss: 0.07343 | Acc: 98.200\n",
      "Validation Accuracy |  66.66666666666666  PPV |  [0.95238095 0.16666667]  Recall |  [0.66666667 0.66666667]\n",
      "Training Epoch 114: | Loss: 0.05088 | Acc: 99.000\n",
      "Validation Accuracy |  81.81818181818183  PPV |  [0.96153846 0.28571429]  Recall |  [0.83333333 0.66666667]\n",
      "Training Epoch 115: | Loss: 0.09063 | Acc: 98.200\n",
      "Validation Accuracy |  81.81818181818183  PPV |  [0.96153846 0.28571429]  Recall |  [0.83333333 0.66666667]\n"
     ]
    },
    {
     "name": "stdout",
     "output_type": "stream",
     "text": [
      "Training Epoch 116: | Loss: 0.13805 | Acc: 96.400\n",
      "Validation Accuracy |  75.75757575757575  PPV |  [0.95833333 0.22222222]  Recall |  [0.76666667 0.66666667]\n",
      "Training Epoch 117: | Loss: 0.10117 | Acc: 98.200\n",
      "Validation Accuracy |  69.6969696969697  PPV |  [0.95454545 0.18181818]  Recall |  [0.7        0.66666667]\n",
      "Training Epoch 118: | Loss: 0.09818 | Acc: 97.200\n",
      "Validation Accuracy |  75.75757575757575  PPV |  [0.95833333 0.22222222]  Recall |  [0.76666667 0.66666667]\n",
      "Training Epoch 119: | Loss: 0.08126 | Acc: 98.600\n",
      "Validation Accuracy |  72.72727272727273  PPV |  [0.95652174 0.2       ]  Recall |  [0.73333333 0.66666667]\n",
      "Training Epoch 120: | Loss: 0.11416 | Acc: 96.400\n",
      "Validation Accuracy |  78.78787878787878  PPV |  [0.96 0.25]  Recall |  [0.8        0.66666667]\n",
      "Training Epoch 121: | Loss: 0.04977 | Acc: 99.200\n",
      "Validation Accuracy |  81.81818181818183  PPV |  [0.96153846 0.28571429]  Recall |  [0.83333333 0.66666667]\n",
      "Training Epoch 122: | Loss: 0.05782 | Acc: 98.800\n",
      "Validation Accuracy |  81.81818181818183  PPV |  [0.96153846 0.28571429]  Recall |  [0.83333333 0.66666667]\n",
      "Training Epoch 123: | Loss: 0.03918 | Acc: 100.000\n",
      "Validation Accuracy |  75.75757575757575  PPV |  [0.89285714 0.        ]  Recall |  [0.83333333 0.        ]\n",
      "Training Epoch 124: | Loss: 0.06023 | Acc: 98.400\n",
      "Validation Accuracy |  81.81818181818183  PPV |  [0.9 0. ]  Recall |  [0.9 0. ]\n",
      "Training Epoch 125: | Loss: 0.20018 | Acc: 95.600\n",
      "Validation Accuracy |  75.75757575757575  PPV |  [0.95833333 0.22222222]  Recall |  [0.76666667 0.66666667]\n",
      "Training Epoch 126: | Loss: 0.29976 | Acc: 92.400\n",
      "Validation Accuracy |  63.63636363636363  PPV |  [0.95       0.15384615]  Recall |  [0.63333333 0.66666667]\n",
      "Training Epoch 127: | Loss: 0.19133 | Acc: 96.600\n",
      "Validation Accuracy |  75.75757575757575  PPV |  [0.95833333 0.22222222]  Recall |  [0.76666667 0.66666667]\n",
      "Training Epoch 128: | Loss: 0.09084 | Acc: 98.200\n",
      "Validation Accuracy |  72.72727272727273  PPV |  [0.95652174 0.2       ]  Recall |  [0.73333333 0.66666667]\n",
      "Training Epoch 129: | Loss: 0.10251 | Acc: 97.600\n",
      "Validation Accuracy |  75.75757575757575  PPV |  [0.89285714 0.        ]  Recall |  [0.83333333 0.        ]\n",
      "Training Epoch 130: | Loss: 0.12017 | Acc: 97.400\n",
      "Validation Accuracy |  78.78787878787878  PPV |  [0.96 0.25]  Recall |  [0.8        0.66666667]\n",
      "Training Epoch 131: | Loss: 0.14442 | Acc: 96.200\n",
      "Validation Accuracy |  75.75757575757575  PPV |  [0.89285714 0.        ]  Recall |  [0.83333333 0.        ]\n",
      "Training Epoch 132: | Loss: 0.10716 | Acc: 97.600\n",
      "Validation Accuracy |  69.6969696969697  PPV |  [0.95454545 0.18181818]  Recall |  [0.7        0.66666667]\n",
      "Training Epoch 133: | Loss: 0.16850 | Acc: 96.600\n",
      "Validation Accuracy |  72.72727272727273  PPV |  [0.95652174 0.2       ]  Recall |  [0.73333333 0.66666667]\n",
      "Training Epoch 134: | Loss: 0.18799 | Acc: 97.800\n",
      "Validation Accuracy |  69.6969696969697  PPV |  [0.95454545 0.18181818]  Recall |  [0.7        0.66666667]\n",
      "Training Epoch 135: | Loss: 0.17962 | Acc: 95.800\n",
      "Validation Accuracy |  78.78787878787878  PPV |  [0.96 0.25]  Recall |  [0.8        0.66666667]\n",
      "Training Epoch 136: | Loss: 0.09782 | Acc: 97.600\n",
      "Validation Accuracy |  78.78787878787878  PPV |  [0.92592593 0.16666667]  Recall |  [0.83333333 0.33333333]\n",
      "Training Epoch 137: | Loss: 0.09657 | Acc: 98.200\n",
      "Validation Accuracy |  78.78787878787878  PPV |  [0.92592593 0.16666667]  Recall |  [0.83333333 0.33333333]\n",
      "Training Epoch 138: | Loss: 0.18456 | Acc: 95.600\n",
      "Validation Accuracy |  78.78787878787878  PPV |  [0.92592593 0.16666667]  Recall |  [0.83333333 0.33333333]\n"
     ]
    }
   ],
   "source": [
    "#model.train() tells PyTorch that you’re in training mode.\n",
    "#Similarly, we’ll call model.eval() when we test our model. We’ll see that below.\n",
    "'''If you’re using layers such as Dropout or BatchNorm which behave differently during training and evaluation, \n",
    "you need to tell PyTorch to act accordingly. While the default mode in PyTorch is the train, \n",
    "so, you don’t explicitly have to write that. But it’s good practice.'''\n",
    "val_acc = []\n",
    "train_acc = []\n",
    "train_loss = []\n",
    "val_loss = []\n",
    "\n",
    "model.train() #Initial training mode\n",
    "for e in range(1, EPOCHS+1):\n",
    "    epoch_loss = 0\n",
    "    epoch_acc = 0\n",
    "    for X_batch, y_batch in train_loader:\n",
    "        X_batch, y_batch = X_batch.to(device), y_batch.to(device)\n",
    "        optimizer.zero_grad()\n",
    "        \n",
    "        y_pred = model(X_batch)\n",
    "        \n",
    "        loss = criterion(y_pred, y_batch)\n",
    "        acc = binary_acc(y_pred, y_batch)\n",
    "        \n",
    "        loss.backward()\n",
    "        optimizer.step()\n",
    "        \n",
    "        epoch_loss += loss.item()\n",
    "        epoch_acc += acc.item()\n",
    "    \n",
    "    train_acc.append(epoch_acc/len(train_loader))\n",
    "    train_loss.append(epoch_loss/len(train_loader))\n",
    "    print(f'Training Epoch {e+0:03}: | Loss: {epoch_loss/len(train_loader):.5f} | Acc: {epoch_acc/len(train_loader):.3f}')\n",
    "    #Validation metrics here\n",
    "    model.eval()\n",
    "    #print(\"Evaluation mode\")\n",
    "    y_pred_list = []\n",
    "    test_loader = DataLoader(dataset=test_data, batch_size=33)\n",
    "    with torch.no_grad():\n",
    "        counter = 0\n",
    "        for X_batch in test_loader:\n",
    "            X_batch = X_batch.to(device)\n",
    "            y_test_pred = model(X_batch)\n",
    "            y_test_pred = torch.sigmoid(y_test_pred)\n",
    "            y_pred_tag = torch.round(y_test_pred)\n",
    "            y_pred_list.append(y_pred_tag.cpu().numpy())\n",
    "            loss = criterion(y_test_pred,torch.FloatTensor(Y_test.values))\n",
    "            val_loss.append(loss)\n",
    "            counter+=1\n",
    "            \n",
    "    y_pred_list = []\n",
    "    test_loader = DataLoader(dataset=test_data, batch_size=1)\n",
    "    with torch.no_grad():\n",
    "        for X_batch in test_loader:\n",
    "            X_batch = X_batch.to(device)\n",
    "            y_test_pred = model(X_batch)\n",
    "            y_test_pred = torch.sigmoid(y_test_pred)\n",
    "            y_pred_tag = torch.round(y_test_pred)\n",
    "            y_pred_list.append(y_pred_tag.cpu().numpy())\n",
    "            \n",
    "    y_pred_list = [a.squeeze().tolist() for a in y_pred_list]\n",
    "    y_loss_df = pd.DataFrame(y_pred_list)\n",
    "    accuracy = accuracy_score(torch.FloatTensor(Y_test.values), y_pred_list)\n",
    "    ppv = precision_score(Y_test, y_pred_list, average=None)\n",
    "    recall = recall_score(Y_test, y_pred_list, average=None)\n",
    "    print(\"Validation Accuracy | \",accuracy*100,\" PPV | \",ppv,\" Recall | \",recall)\n",
    "    val_acc.append(accuracy*100)\n",
    "    model.train()\n",
    "    #print(\"Return to training mode\")\n",
    "    \n",
    "    #Need to get validation loss."
   ]
  },
  {
   "cell_type": "code",
   "execution_count": 14,
   "id": "empirical-college",
   "metadata": {},
   "outputs": [
    {
     "data": {
      "image/png": "[encoded data removed]",
      "text/plain": [
       "<Figure size 432x288 with 1 Axes>"
      ]
     },
     "metadata": {
      "needs_background": "light"
     },
     "output_type": "display_data"
    },
    {
     "data": {
      "image/png": "[encoded data removed]",
      "text/plain": [
       "<Figure size 432x288 with 1 Axes>"
      ]
     },
     "metadata": {
      "needs_background": "light"
     },
     "output_type": "display_data"
    }
   ],
   "source": [
    "#Plotting loss\n",
    "plt.plot(train_loss)\n",
    "plt.plot(val_loss)\n",
    "plt.title('model loss')\n",
    "plt.ylabel('loss')\n",
    "plt.xlabel('epoch')\n",
    "plt.legend(['train', 'validation'], loc='upper left')\n",
    "plt.axis([0, EPOCHS-1, 0.0, 1.5])\n",
    "plt.show()\n",
    "\n",
    "#Plotting Accuracy\n",
    "plt.plot(train_acc)\n",
    "plt.plot(val_acc)\n",
    "plt.title('model accuracy')\n",
    "plt.ylabel('acc')\n",
    "plt.xlabel('epoch')\n",
    "plt.legend(['train_acc', 'val_acc'], loc='upper left')\n",
    "plt.axis([0, EPOCHS-1, 0.0, 105])\n",
    "plt.show()"
   ]
  },
  {
   "cell_type": "code",
   "execution_count": 15,
   "id": "employed-radical",
   "metadata": {},
   "outputs": [
    {
     "name": "stdout",
     "output_type": "stream",
     "text": [
      "Validation Accuracy |  78.78787878787878  PPV |  [0.92592593 0.16666667]  Recall |  [0.83333333 0.33333333]\n"
     ]
    },
    {
     "data": {
      "text/plain": [
       "<AxesSubplot:>"
      ]
     },
     "execution_count": 15,
     "metadata": {},
     "output_type": "execute_result"
    },
    {
     "data": {
      "image/png": "[encoded data removed]",
      "text/plain": [
       "<Figure size 432x288 with 2 Axes>"
      ]
     },
     "metadata": {
      "needs_background": "light"
     },
     "output_type": "display_data"
    }
   ],
   "source": [
    "y_pred_list = []\n",
    "test_loader = DataLoader(dataset=test_data, batch_size=1)\n",
    "model.eval() #Model evaluation\n",
    "with torch.no_grad():\n",
    "    for X_batch in test_loader:\n",
    "        X_batch = X_batch.to(device)\n",
    "        y_test_pred = model(X_batch)\n",
    "        y_test_pred = torch.sigmoid(y_test_pred)\n",
    "        y_pred_tag = torch.round(y_test_pred)\n",
    "        y_pred_list.append(y_pred_tag.cpu().numpy())\n",
    "\n",
    "y_pred_list = [a.squeeze().tolist() for a in y_pred_list]\n",
    "accuracy = accuracy_score(Y_test, y_pred_list)\n",
    "ppv = precision_score(Y_test, y_pred_list, average=None)\n",
    "recall = recall_score(Y_test, y_pred_list, average=None)\n",
    "print(\"Validation Accuracy | \",accuracy*100,\" PPV | \",ppv,\" Recall | \",recall)\n",
    "cf_matrix = confusion_matrix(Y_test, y_pred_list)\n",
    "sn.heatmap(cf_matrix, annot=True)"
   ]
  },
  {
   "cell_type": "code",
   "execution_count": 16,
   "id": "seasonal-ottawa",
   "metadata": {},
   "outputs": [
    {
     "name": "stdout",
     "output_type": "stream",
     "text": [
      "              precision    recall  f1-score   support\n",
      "\n",
      "         0.0       0.93      0.83      0.88        30\n",
      "         1.0       0.17      0.33      0.22         3\n",
      "\n",
      "    accuracy                           0.79        33\n",
      "   macro avg       0.55      0.58      0.55        33\n",
      "weighted avg       0.86      0.79      0.82        33\n",
      "\n"
     ]
    }
   ],
   "source": [
    "print(classification_report(Y_test, y_pred_list))"
   ]
  },
  {
   "cell_type": "code",
   "execution_count": 17,
   "id": "atomic-album",
   "metadata": {},
   "outputs": [
    {
     "data": {
      "text/plain": [
       "'\\nSMOTETomek Results\\n\\n10% Test - 22 08 ppv - 0.20 recall - 0.666 \\n            1  2 \\nEPOCHS = 150\\nBATCH_SIZE = 20\\nLEARNING_RATE = 0.001\\nDROPOUT_RATE = 0.20\\n\\n10% Test - 27 03 ppv - 0.40 recall - 0.666 Best\\n            1  2 \\nEPOCHS = 138\\nBATCH_SIZE = 20\\nLEARNING_RATE = 0.001\\nDROPOUT_RATE = 0.20\\n\\n10% Test - 26 04 ppv - 0.2 recall - 0.333\\n            2  1 \\nEPOCHS = 150\\nBATCH_SIZE = 30\\nLEARNING_RATE = 0.001\\nDROPOUT_RATE = 0.15\\n\\n10% Test - 24 06 ppv - 0.25 recall - 0.666\\n            1  2 \\nEPOCHS = 150\\nBATCH_SIZE = 30\\nLEARNING_RATE = 0.001\\nDROPOUT_RATE = 0.15\\n'"
      ]
     },
     "execution_count": 17,
     "metadata": {},
     "output_type": "execute_result"
    }
   ],
   "source": [
    "#Save model once everything is all figured out\n",
    "#Models below were initially trained at 150 epochs. Re-trained for optimizing ppv, recall, and acc, without overtraining.\n",
    "'''\n",
    "SMOTETomek Results\n",
    "\n",
    "10% Test - 22 08 ppv - 0.20 recall - 0.666 \n",
    "            1  2 \n",
    "EPOCHS = 150\n",
    "BATCH_SIZE = 20\n",
    "LEARNING_RATE = 0.001\n",
    "DROPOUT_RATE = 0.20\n",
    "\n",
    "10% Test - 27 03 ppv - 0.40 recall - 0.666 Best\n",
    "            1  2 \n",
    "EPOCHS = 138\n",
    "BATCH_SIZE = 20\n",
    "LEARNING_RATE = 0.001\n",
    "DROPOUT_RATE = 0.20\n",
    "\n",
    "10% Test - 26 04 ppv - 0.2 recall - 0.333\n",
    "            2  1 \n",
    "EPOCHS = 150\n",
    "BATCH_SIZE = 30\n",
    "LEARNING_RATE = 0.001\n",
    "DROPOUT_RATE = 0.15\n",
    "\n",
    "10% Test - 24 06 ppv - 0.25 recall - 0.666\n",
    "            1  2 \n",
    "EPOCHS = 150\n",
    "BATCH_SIZE = 30\n",
    "LEARNING_RATE = 0.001\n",
    "DROPOUT_RATE = 0.15\n",
    "'''"
   ]
  },
  {
   "cell_type": "code",
   "execution_count": 18,
   "id": "macro-mills",
   "metadata": {},
   "outputs": [],
   "source": [
    "#torch.save(model.state_dict(), \"./model_dict_hyp.pth\")"
   ]
  },
  {
   "cell_type": "code",
   "execution_count": 19,
   "id": "peaceful-shame",
   "metadata": {},
   "outputs": [],
   "source": [
    "#Use ROC curves for stability to select between hyperparameters for the pre-training\n",
    "#SMOTETomek for Final model prediction"
   ]
  }
 ],
 "metadata": {
  "kernelspec": {
   "display_name": "Python 3",
   "language": "python",
   "name": "python3"
  },
  "language_info": {
   "codemirror_mode": {
    "name": "ipython",
    "version": 3
   },
   "file_extension": ".py",
   "mimetype": "text/x-python",
   "name": "python",
   "nbconvert_exporter": "python",
   "pygments_lexer": "ipython3",
   "version": "3.7.9"
  }
 },
 "nbformat": 4,
 "nbformat_minor": 5
}
