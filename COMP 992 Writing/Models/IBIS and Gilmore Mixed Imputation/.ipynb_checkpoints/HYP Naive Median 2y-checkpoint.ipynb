{
 "cells": [
  {
   "cell_type": "code",
   "execution_count": 1,
   "id": "macro-judges",
   "metadata": {},
   "outputs": [
    {
     "data": {
      "text/plain": [
       "<torch._C.Generator at 0x1c374952a10>"
      ]
     },
     "execution_count": 1,
     "metadata": {},
     "output_type": "execute_result"
    }
   ],
   "source": [
    "import seaborn as sn\n",
    "from imblearn.over_sampling import SMOTE \n",
    "from imblearn.combine import SMOTETomek\n",
    "import matplotlib.pyplot as plt\n",
    "import pandas as pd\n",
    "import sklearn\n",
    "from sklearn.utils import class_weight\n",
    "from sklearn.metrics import accuracy_score, recall_score, confusion_matrix, precision_score, precision_recall_curve, average_precision_score, classification_report\n",
    "from sklearn.model_selection import KFold, StratifiedKFold, train_test_split\n",
    "from sklearn.preprocessing import MinMaxScaler, LabelEncoder\n",
    "from torch.utils.data import Dataset, DataLoader, random_split\n",
    "from torch import Tensor\n",
    "from torch.nn import Linear, ReLU, Sigmoid, Module, BCELoss, BCEWithLogitsLoss\n",
    "from torch.optim import Adam\n",
    "import torch\n",
    "import torch.nn as nn\n",
    "import torch.optim as optim\n",
    "from torch.utils.data import Dataset, DataLoader\n",
    "from pandas import DataFrame\n",
    "import xlsxwriter\n",
    "import time\n",
    "\n",
    "seed_value = 7\n",
    "import os\n",
    "os.environ['PYTHONHASHSEED']=str(seed_value)\n",
    "import random\n",
    "random.seed(seed_value)\n",
    "import numpy as np\n",
    "np.random.seed(seed_value)\n",
    "import torch\n",
    "torch.manual_seed(seed_value)"
   ]
  },
  {
   "cell_type": "code",
   "execution_count": 2,
   "id": "indirect-tragedy",
   "metadata": {},
   "outputs": [
    {
     "name": "stdout",
     "output_type": "stream",
     "text": [
      "(127, 152)\n",
      "(127, 1)\n"
     ]
    }
   ],
   "source": [
    "Training_Data = pd.ExcelFile(\"Training Data with Mixed Imputation.xlsx\") #Training Data already pre-scaled to the IBIS Data set\n",
    "data = Training_Data.parse(Training_Data.sheet_names[2])\n",
    "label_data = Training_Data.parse(Training_Data.sheet_names[3])\n",
    "data_features = data.loc[:, data.columns]\n",
    "data_features = data_features.drop(['ROI','MATCH DEMOS','INDEX SEX','MATCH BASC2','INDEX GA', 'ATP', 'INDEX MEDU', 'MATCH DEMOS OLD', 'INDEX AGE'], axis=1)\n",
    "data_features = data_features.dropna()\n",
    "data_features = data_features.drop(['HYP'], axis=1)\n",
    "labels = label_data.loc[:, label_data.columns]\n",
    "labels = labels.drop(['ROI', 'ATP'], axis=1)\n",
    "labels = labels.dropna()\n",
    "print(data_features.shape)\n",
    "print(labels.shape)"
   ]
  },
  {
   "cell_type": "code",
   "execution_count": 3,
   "id": "close-trauma",
   "metadata": {},
   "outputs": [
    {
     "name": "stdout",
     "output_type": "stream",
     "text": [
      "(36, 152)\n",
      "(36, 1)\n",
      "<class 'pandas.core.frame.DataFrame'>\n"
     ]
    }
   ],
   "source": [
    "interpolated_data = Training_Data.parse(Training_Data.sheet_names[7])\n",
    "interpolated_data_features = interpolated_data.loc[:, interpolated_data.columns]\n",
    "interpolated_data_features = interpolated_data_features.drop(['ROI','MATCH DEMOS','INDEX SEX','MATCH BASC2','INDEX GA', 'ATP', 'MATCH DEMOS OLD', 'INDEX AGE', 'INDEX MEDU'], axis=1)\n",
    "interpolated_data_features = interpolated_data_features.dropna()\n",
    "interpolated_data_features = interpolated_data_features.drop(['HYP'], axis=1)\n",
    "\n",
    "interpolated_label_data = Training_Data.parse(Training_Data.sheet_names[15])\n",
    "interpolated_labels = interpolated_label_data.loc[:, interpolated_label_data.columns]\n",
    "interpolated_labels = interpolated_labels.drop(['ROI','ATP'], axis=1)\n",
    "interpolated_labels = interpolated_labels.dropna()\n",
    "\n",
    "print(interpolated_data_features.shape)\n",
    "print(interpolated_labels.shape)\n",
    "print(type(interpolated_data_features))"
   ]
  },
  {
   "cell_type": "code",
   "execution_count": 4,
   "id": "postal-criminal",
   "metadata": {},
   "outputs": [
    {
     "data": {
      "text/html": [
       "<div>\n",
       "<style scoped>\n",
       "    .dataframe tbody tr th:only-of-type {\n",
       "        vertical-align: middle;\n",
       "    }\n",
       "\n",
       "    .dataframe tbody tr th {\n",
       "        vertical-align: top;\n",
       "    }\n",
       "\n",
       "    .dataframe thead th {\n",
       "        text-align: right;\n",
       "    }\n",
       "</style>\n",
       "<table border=\"1\" class=\"dataframe\">\n",
       "  <thead>\n",
       "    <tr style=\"text-align: right;\">\n",
       "      <th></th>\n",
       "      <th>2SA-11101</th>\n",
       "      <th>2SA-11102</th>\n",
       "      <th>2SA-11103</th>\n",
       "      <th>2SA-11104</th>\n",
       "      <th>2SA-11105</th>\n",
       "      <th>2SA-11106</th>\n",
       "      <th>2SA-11107</th>\n",
       "      <th>2SA-11108</th>\n",
       "      <th>2SA-11109</th>\n",
       "      <th>2SA-11110</th>\n",
       "      <th>...</th>\n",
       "      <th>2SA-12170</th>\n",
       "      <th>2SA-12171</th>\n",
       "      <th>2SA-12172</th>\n",
       "      <th>2SA-12173</th>\n",
       "      <th>2SA-12174</th>\n",
       "      <th>2SA-12175</th>\n",
       "      <th>SEX</th>\n",
       "      <th>Gestational Age</th>\n",
       "      <th>Maternal Education MEDU</th>\n",
       "      <th>Age at MRI 2</th>\n",
       "    </tr>\n",
       "  </thead>\n",
       "  <tbody>\n",
       "    <tr>\n",
       "      <th>0</th>\n",
       "      <td>0.507074</td>\n",
       "      <td>0.464589</td>\n",
       "      <td>0.264794</td>\n",
       "      <td>0.410548</td>\n",
       "      <td>0.406671</td>\n",
       "      <td>0.464617</td>\n",
       "      <td>0.403838</td>\n",
       "      <td>0.34549</td>\n",
       "      <td>0.467805</td>\n",
       "      <td>0.224549</td>\n",
       "      <td>...</td>\n",
       "      <td>0.243053</td>\n",
       "      <td>0.294373</td>\n",
       "      <td>0.316603</td>\n",
       "      <td>0.237767</td>\n",
       "      <td>0.412811</td>\n",
       "      <td>0.363104</td>\n",
       "      <td>1</td>\n",
       "      <td>0.750000</td>\n",
       "      <td>46</td>\n",
       "      <td>2</td>\n",
       "    </tr>\n",
       "    <tr>\n",
       "      <th>1</th>\n",
       "      <td>0.507074</td>\n",
       "      <td>0.464589</td>\n",
       "      <td>0.264794</td>\n",
       "      <td>0.410548</td>\n",
       "      <td>0.406671</td>\n",
       "      <td>0.464617</td>\n",
       "      <td>0.403838</td>\n",
       "      <td>0.34549</td>\n",
       "      <td>0.467805</td>\n",
       "      <td>0.224549</td>\n",
       "      <td>...</td>\n",
       "      <td>0.243053</td>\n",
       "      <td>0.294373</td>\n",
       "      <td>0.316603</td>\n",
       "      <td>0.237767</td>\n",
       "      <td>0.412811</td>\n",
       "      <td>0.363104</td>\n",
       "      <td>0</td>\n",
       "      <td>0.833333</td>\n",
       "      <td>66</td>\n",
       "      <td>2</td>\n",
       "    </tr>\n",
       "    <tr>\n",
       "      <th>2</th>\n",
       "      <td>0.507074</td>\n",
       "      <td>0.464589</td>\n",
       "      <td>0.264794</td>\n",
       "      <td>0.410548</td>\n",
       "      <td>0.406671</td>\n",
       "      <td>0.464617</td>\n",
       "      <td>0.403838</td>\n",
       "      <td>0.34549</td>\n",
       "      <td>0.467805</td>\n",
       "      <td>0.224549</td>\n",
       "      <td>...</td>\n",
       "      <td>0.243053</td>\n",
       "      <td>0.294373</td>\n",
       "      <td>0.316603</td>\n",
       "      <td>0.237767</td>\n",
       "      <td>0.412811</td>\n",
       "      <td>0.363104</td>\n",
       "      <td>0</td>\n",
       "      <td>0.833333</td>\n",
       "      <td>52</td>\n",
       "      <td>2</td>\n",
       "    </tr>\n",
       "    <tr>\n",
       "      <th>3</th>\n",
       "      <td>0.507074</td>\n",
       "      <td>0.464589</td>\n",
       "      <td>0.264794</td>\n",
       "      <td>0.410548</td>\n",
       "      <td>0.406671</td>\n",
       "      <td>0.464617</td>\n",
       "      <td>0.403838</td>\n",
       "      <td>0.34549</td>\n",
       "      <td>0.467805</td>\n",
       "      <td>0.224549</td>\n",
       "      <td>...</td>\n",
       "      <td>0.243053</td>\n",
       "      <td>0.294373</td>\n",
       "      <td>0.316603</td>\n",
       "      <td>0.237767</td>\n",
       "      <td>0.412811</td>\n",
       "      <td>0.363104</td>\n",
       "      <td>1</td>\n",
       "      <td>0.833333</td>\n",
       "      <td>46</td>\n",
       "      <td>2</td>\n",
       "    </tr>\n",
       "    <tr>\n",
       "      <th>4</th>\n",
       "      <td>0.507074</td>\n",
       "      <td>0.464589</td>\n",
       "      <td>0.264794</td>\n",
       "      <td>0.410548</td>\n",
       "      <td>0.406671</td>\n",
       "      <td>0.464617</td>\n",
       "      <td>0.403838</td>\n",
       "      <td>0.34549</td>\n",
       "      <td>0.467805</td>\n",
       "      <td>0.224549</td>\n",
       "      <td>...</td>\n",
       "      <td>0.243053</td>\n",
       "      <td>0.294373</td>\n",
       "      <td>0.316603</td>\n",
       "      <td>0.237767</td>\n",
       "      <td>0.412811</td>\n",
       "      <td>0.363104</td>\n",
       "      <td>0</td>\n",
       "      <td>0.583333</td>\n",
       "      <td>47</td>\n",
       "      <td>2</td>\n",
       "    </tr>\n",
       "  </tbody>\n",
       "</table>\n",
       "<p>5 rows × 152 columns</p>\n",
       "</div>"
      ],
      "text/plain": [
       "   2SA-11101  2SA-11102  2SA-11103  2SA-11104  2SA-11105  2SA-11106  \\\n",
       "0   0.507074   0.464589   0.264794   0.410548   0.406671   0.464617   \n",
       "1   0.507074   0.464589   0.264794   0.410548   0.406671   0.464617   \n",
       "2   0.507074   0.464589   0.264794   0.410548   0.406671   0.464617   \n",
       "3   0.507074   0.464589   0.264794   0.410548   0.406671   0.464617   \n",
       "4   0.507074   0.464589   0.264794   0.410548   0.406671   0.464617   \n",
       "\n",
       "   2SA-11107  2SA-11108  2SA-11109  2SA-11110  ...  2SA-12170  2SA-12171  \\\n",
       "0   0.403838    0.34549   0.467805   0.224549  ...   0.243053   0.294373   \n",
       "1   0.403838    0.34549   0.467805   0.224549  ...   0.243053   0.294373   \n",
       "2   0.403838    0.34549   0.467805   0.224549  ...   0.243053   0.294373   \n",
       "3   0.403838    0.34549   0.467805   0.224549  ...   0.243053   0.294373   \n",
       "4   0.403838    0.34549   0.467805   0.224549  ...   0.243053   0.294373   \n",
       "\n",
       "   2SA-12172  2SA-12173  2SA-12174  2SA-12175  SEX  Gestational Age  \\\n",
       "0   0.316603   0.237767   0.412811   0.363104    1         0.750000   \n",
       "1   0.316603   0.237767   0.412811   0.363104    0         0.833333   \n",
       "2   0.316603   0.237767   0.412811   0.363104    0         0.833333   \n",
       "3   0.316603   0.237767   0.412811   0.363104    1         0.833333   \n",
       "4   0.316603   0.237767   0.412811   0.363104    0         0.583333   \n",
       "\n",
       "   Maternal Education MEDU  Age at MRI 2  \n",
       "0                       46             2  \n",
       "1                       66             2  \n",
       "2                       52             2  \n",
       "3                       46             2  \n",
       "4                       47             2  \n",
       "\n",
       "[5 rows x 152 columns]"
      ]
     },
     "execution_count": 4,
     "metadata": {},
     "output_type": "execute_result"
    }
   ],
   "source": [
    "interpolated_data_features.head()"
   ]
  },
  {
   "cell_type": "code",
   "execution_count": 5,
   "id": "polyphonic-difficulty",
   "metadata": {},
   "outputs": [
    {
     "name": "stdout",
     "output_type": "stream",
     "text": [
      "StratifiedKFold(n_splits=8, random_state=None, shuffle=False)\n",
      "(198, 152)\n",
      "(198, 152)\n",
      "(200, 152)\n",
      "(200, 152)\n",
      "(200, 152)\n",
      "(200, 152)\n",
      "(200, 152)\n",
      "(200, 152)\n"
     ]
    }
   ],
   "source": [
    "skf = StratifiedKFold(n_splits=8)\n",
    "skf.get_n_splits(data_features, labels)\n",
    "print(skf)\n",
    "\n",
    "training_indices_X = []\n",
    "testing_indices_X = []\n",
    "training_indices_Y = []\n",
    "testing_indices_Y = []\n",
    "\n",
    "for train_index, test_index in skf.split(data_features, labels):\n",
    "  \n",
    "    X_train, X_test = data_features.iloc[train_index], data_features.iloc[test_index]\n",
    "    Y_train, Y_test = labels.iloc[train_index], labels.iloc[test_index]\n",
    "   \n",
    "    sm = SMOTE(sampling_strategy = 'minority', random_state = seed_value, k_neighbors=2) \n",
    "    X_train_res, Y_train_res = sm.fit_sample(X_train, Y_train) #Only smote the training set.\n",
    "    print(X_train_res.shape)\n",
    "    training_indices_X.append(X_train_res)\n",
    "    testing_indices_X.append(X_test)\n",
    "    training_indices_Y.append(Y_train_res)\n",
    "    testing_indices_Y.append(Y_test)\n"
   ]
  },
  {
   "cell_type": "code",
   "execution_count": 6,
   "id": "alpine-skirt",
   "metadata": {},
   "outputs": [
    {
     "data": {
      "text/html": [
       "<div>\n",
       "<style scoped>\n",
       "    .dataframe tbody tr th:only-of-type {\n",
       "        vertical-align: middle;\n",
       "    }\n",
       "\n",
       "    .dataframe tbody tr th {\n",
       "        vertical-align: top;\n",
       "    }\n",
       "\n",
       "    .dataframe thead th {\n",
       "        text-align: right;\n",
       "    }\n",
       "</style>\n",
       "<table border=\"1\" class=\"dataframe\">\n",
       "  <thead>\n",
       "    <tr style=\"text-align: right;\">\n",
       "      <th></th>\n",
       "      <th>2SA-11101</th>\n",
       "      <th>2SA-11102</th>\n",
       "      <th>2SA-11103</th>\n",
       "      <th>2SA-11104</th>\n",
       "      <th>2SA-11105</th>\n",
       "      <th>2SA-11106</th>\n",
       "      <th>2SA-11107</th>\n",
       "      <th>2SA-11108</th>\n",
       "      <th>2SA-11109</th>\n",
       "      <th>2SA-11110</th>\n",
       "      <th>...</th>\n",
       "      <th>2SA-12170</th>\n",
       "      <th>2SA-12171</th>\n",
       "      <th>2SA-12172</th>\n",
       "      <th>2SA-12173</th>\n",
       "      <th>2SA-12174</th>\n",
       "      <th>2SA-12175</th>\n",
       "      <th>SEX</th>\n",
       "      <th>Gestational Age</th>\n",
       "      <th>Maternal Education MEDU</th>\n",
       "      <th>Age at MRI 2</th>\n",
       "    </tr>\n",
       "  </thead>\n",
       "  <tbody>\n",
       "    <tr>\n",
       "      <th>0</th>\n",
       "      <td>0.432096</td>\n",
       "      <td>0.386283</td>\n",
       "      <td>0.481741</td>\n",
       "      <td>0.236948</td>\n",
       "      <td>0.542033</td>\n",
       "      <td>0.331085</td>\n",
       "      <td>0.369602</td>\n",
       "      <td>0.147932</td>\n",
       "      <td>0.544125</td>\n",
       "      <td>0.276766</td>\n",
       "      <td>...</td>\n",
       "      <td>0.165730</td>\n",
       "      <td>0.537900</td>\n",
       "      <td>0.285430</td>\n",
       "      <td>0.125538</td>\n",
       "      <td>0.401477</td>\n",
       "      <td>0.174124</td>\n",
       "      <td>1.0</td>\n",
       "      <td>0.833333</td>\n",
       "      <td>18.0</td>\n",
       "      <td>0.984932</td>\n",
       "    </tr>\n",
       "    <tr>\n",
       "      <th>1</th>\n",
       "      <td>0.243653</td>\n",
       "      <td>0.481102</td>\n",
       "      <td>0.477778</td>\n",
       "      <td>0.433554</td>\n",
       "      <td>0.286735</td>\n",
       "      <td>0.200823</td>\n",
       "      <td>0.478094</td>\n",
       "      <td>1.000000</td>\n",
       "      <td>0.198463</td>\n",
       "      <td>0.199713</td>\n",
       "      <td>...</td>\n",
       "      <td>0.371440</td>\n",
       "      <td>0.379240</td>\n",
       "      <td>0.290894</td>\n",
       "      <td>0.174206</td>\n",
       "      <td>0.691366</td>\n",
       "      <td>0.525546</td>\n",
       "      <td>1.0</td>\n",
       "      <td>0.666667</td>\n",
       "      <td>17.0</td>\n",
       "      <td>1.019178</td>\n",
       "    </tr>\n",
       "    <tr>\n",
       "      <th>2</th>\n",
       "      <td>0.516002</td>\n",
       "      <td>0.464478</td>\n",
       "      <td>0.462143</td>\n",
       "      <td>0.738975</td>\n",
       "      <td>0.284425</td>\n",
       "      <td>0.761222</td>\n",
       "      <td>0.202680</td>\n",
       "      <td>0.447507</td>\n",
       "      <td>0.293644</td>\n",
       "      <td>0.555326</td>\n",
       "      <td>...</td>\n",
       "      <td>0.562010</td>\n",
       "      <td>0.094689</td>\n",
       "      <td>0.521913</td>\n",
       "      <td>0.311295</td>\n",
       "      <td>0.477971</td>\n",
       "      <td>0.553047</td>\n",
       "      <td>0.0</td>\n",
       "      <td>0.750000</td>\n",
       "      <td>17.0</td>\n",
       "      <td>1.001370</td>\n",
       "    </tr>\n",
       "    <tr>\n",
       "      <th>3</th>\n",
       "      <td>0.080166</td>\n",
       "      <td>0.244326</td>\n",
       "      <td>0.394250</td>\n",
       "      <td>0.176250</td>\n",
       "      <td>0.221995</td>\n",
       "      <td>0.167520</td>\n",
       "      <td>0.212417</td>\n",
       "      <td>0.054495</td>\n",
       "      <td>0.252337</td>\n",
       "      <td>0.103110</td>\n",
       "      <td>...</td>\n",
       "      <td>0.295944</td>\n",
       "      <td>0.093989</td>\n",
       "      <td>0.606068</td>\n",
       "      <td>0.089457</td>\n",
       "      <td>0.532038</td>\n",
       "      <td>0.536973</td>\n",
       "      <td>0.0</td>\n",
       "      <td>0.500000</td>\n",
       "      <td>14.0</td>\n",
       "      <td>1.008219</td>\n",
       "    </tr>\n",
       "    <tr>\n",
       "      <th>4</th>\n",
       "      <td>0.095012</td>\n",
       "      <td>0.404079</td>\n",
       "      <td>0.435218</td>\n",
       "      <td>0.214316</td>\n",
       "      <td>0.134360</td>\n",
       "      <td>0.236452</td>\n",
       "      <td>0.448421</td>\n",
       "      <td>0.092952</td>\n",
       "      <td>0.102965</td>\n",
       "      <td>0.256367</td>\n",
       "      <td>...</td>\n",
       "      <td>0.360096</td>\n",
       "      <td>0.210988</td>\n",
       "      <td>0.289718</td>\n",
       "      <td>0.248348</td>\n",
       "      <td>0.370810</td>\n",
       "      <td>0.481870</td>\n",
       "      <td>0.0</td>\n",
       "      <td>0.666667</td>\n",
       "      <td>19.0</td>\n",
       "      <td>1.015068</td>\n",
       "    </tr>\n",
       "  </tbody>\n",
       "</table>\n",
       "<p>5 rows × 152 columns</p>\n",
       "</div>"
      ],
      "text/plain": [
       "   2SA-11101  2SA-11102  2SA-11103  2SA-11104  2SA-11105  2SA-11106  \\\n",
       "0   0.432096   0.386283   0.481741   0.236948   0.542033   0.331085   \n",
       "1   0.243653   0.481102   0.477778   0.433554   0.286735   0.200823   \n",
       "2   0.516002   0.464478   0.462143   0.738975   0.284425   0.761222   \n",
       "3   0.080166   0.244326   0.394250   0.176250   0.221995   0.167520   \n",
       "4   0.095012   0.404079   0.435218   0.214316   0.134360   0.236452   \n",
       "\n",
       "   2SA-11107  2SA-11108  2SA-11109  2SA-11110  ...  2SA-12170  2SA-12171  \\\n",
       "0   0.369602   0.147932   0.544125   0.276766  ...   0.165730   0.537900   \n",
       "1   0.478094   1.000000   0.198463   0.199713  ...   0.371440   0.379240   \n",
       "2   0.202680   0.447507   0.293644   0.555326  ...   0.562010   0.094689   \n",
       "3   0.212417   0.054495   0.252337   0.103110  ...   0.295944   0.093989   \n",
       "4   0.448421   0.092952   0.102965   0.256367  ...   0.360096   0.210988   \n",
       "\n",
       "   2SA-12172  2SA-12173  2SA-12174  2SA-12175  SEX  Gestational Age  \\\n",
       "0   0.285430   0.125538   0.401477   0.174124  1.0         0.833333   \n",
       "1   0.290894   0.174206   0.691366   0.525546  1.0         0.666667   \n",
       "2   0.521913   0.311295   0.477971   0.553047  0.0         0.750000   \n",
       "3   0.606068   0.089457   0.532038   0.536973  0.0         0.500000   \n",
       "4   0.289718   0.248348   0.370810   0.481870  0.0         0.666667   \n",
       "\n",
       "   Maternal Education MEDU  Age at MRI 2  \n",
       "0                     18.0      0.984932  \n",
       "1                     17.0      1.019178  \n",
       "2                     17.0      1.001370  \n",
       "3                     14.0      1.008219  \n",
       "4                     19.0      1.015068  \n",
       "\n",
       "[5 rows x 152 columns]"
      ]
     },
     "execution_count": 6,
     "metadata": {},
     "output_type": "execute_result"
    }
   ],
   "source": [
    "training_indices_X[0].head()"
   ]
  },
  {
   "cell_type": "code",
   "execution_count": 7,
   "id": "appreciated-courtesy",
   "metadata": {},
   "outputs": [
    {
     "name": "stdout",
     "output_type": "stream",
     "text": [
      "(198, 152)\n",
      "(198, 152)\n",
      "(200, 152)\n",
      "(200, 152)\n",
      "(200, 152)\n",
      "(200, 152)\n",
      "(200, 152)\n",
      "(200, 152)\n",
      "----------\n",
      "(234, 152)\n",
      "(234, 152)\n",
      "(236, 152)\n",
      "(236, 152)\n",
      "(236, 152)\n",
      "(236, 152)\n",
      "(236, 152)\n",
      "(236, 152)\n",
      "Label shapes\n",
      "(198, 1)\n",
      "(198, 1)\n",
      "(200, 1)\n",
      "(200, 1)\n",
      "(200, 1)\n",
      "(200, 1)\n",
      "(200, 1)\n",
      "(200, 1)\n",
      "----------\n",
      "(234, 1)\n",
      "(234, 1)\n",
      "(236, 1)\n",
      "(236, 1)\n",
      "(236, 1)\n",
      "(236, 1)\n",
      "(236, 1)\n",
      "(236, 1)\n"
     ]
    }
   ],
   "source": [
    "for x in training_indices_X:\n",
    "    print(x.shape)\n",
    "    \n",
    "#Figure out how to loop this later. Wasn't working for the following code:\n",
    "#for x in training_indices_X:\n",
    "#    x = pd.concat([x,interpolated_data_features])\n",
    "\n",
    "training_indices_X[0] = pd.concat([training_indices_X[0],interpolated_data_features])\n",
    "training_indices_X[1] = pd.concat([training_indices_X[1],interpolated_data_features])\n",
    "training_indices_X[2] = pd.concat([training_indices_X[2],interpolated_data_features])\n",
    "training_indices_X[3] = pd.concat([training_indices_X[3],interpolated_data_features])\n",
    "training_indices_X[4] = pd.concat([training_indices_X[4],interpolated_data_features])\n",
    "training_indices_X[5] = pd.concat([training_indices_X[5],interpolated_data_features])\n",
    "training_indices_X[6] = pd.concat([training_indices_X[6],interpolated_data_features])\n",
    "training_indices_X[7] = pd.concat([training_indices_X[7],interpolated_data_features])\n",
    "\n",
    "print('----------')\n",
    "for x in training_indices_X:\n",
    "    print(x.shape)\n",
    "    \n",
    "print('Label shapes')\n",
    "    \n",
    "for y in training_indices_Y:\n",
    "    print(y.shape)\n",
    "\n",
    "training_indices_Y[0] = pd.concat([training_indices_Y[0],interpolated_labels])\n",
    "training_indices_Y[1] = pd.concat([training_indices_Y[1],interpolated_labels])\n",
    "training_indices_Y[2] = pd.concat([training_indices_Y[2],interpolated_labels])\n",
    "training_indices_Y[3] = pd.concat([training_indices_Y[3],interpolated_labels])\n",
    "training_indices_Y[4] = pd.concat([training_indices_Y[4],interpolated_labels])\n",
    "training_indices_Y[5] = pd.concat([training_indices_Y[5],interpolated_labels])\n",
    "training_indices_Y[6] = pd.concat([training_indices_Y[6],interpolated_labels])\n",
    "training_indices_Y[7] = pd.concat([training_indices_Y[7],interpolated_labels])\n",
    "\n",
    "print('----------')\n",
    "for y in training_indices_Y:\n",
    "    print(y.shape)\n"
   ]
  },
  {
   "cell_type": "code",
   "execution_count": 8,
   "id": "available-factory",
   "metadata": {},
   "outputs": [],
   "source": [
    "#training_indices_X[0] #8 Folds so 0 -> 7 Data type is a DataFrame currently.\n",
    "training_fold_X_0 = training_indices_X[0].to_numpy()\n",
    "training_fold_X_1 = training_indices_X[1].to_numpy()\n",
    "training_fold_X_2 = training_indices_X[2].to_numpy()\n",
    "training_fold_X_3 = training_indices_X[3].to_numpy()\n",
    "training_fold_X_4 = training_indices_X[4].to_numpy()\n",
    "training_fold_X_5 = training_indices_X[5].to_numpy()\n",
    "training_fold_X_6 = training_indices_X[6].to_numpy()\n",
    "training_fold_X_7 = training_indices_X[7].to_numpy()\n",
    "\n",
    "training_fold_Y_0 = training_indices_Y[0].to_numpy()\n",
    "training_fold_Y_1 = training_indices_Y[1].to_numpy()\n",
    "training_fold_Y_2 = training_indices_Y[2].to_numpy()\n",
    "training_fold_Y_3 = training_indices_Y[3].to_numpy()\n",
    "training_fold_Y_4 = training_indices_Y[4].to_numpy()\n",
    "training_fold_Y_5 = training_indices_Y[5].to_numpy()\n",
    "training_fold_Y_6 = training_indices_Y[6].to_numpy()\n",
    "training_fold_Y_7 = training_indices_Y[7].to_numpy()\n",
    "\n",
    "testing_fold_X_0 = testing_indices_X[0].to_numpy()\n",
    "testing_fold_X_1 = testing_indices_X[1].to_numpy()\n",
    "testing_fold_X_2 = testing_indices_X[2].to_numpy()\n",
    "testing_fold_X_3 = testing_indices_X[3].to_numpy()\n",
    "testing_fold_X_4 = testing_indices_X[4].to_numpy()\n",
    "testing_fold_X_5 = testing_indices_X[5].to_numpy()\n",
    "testing_fold_X_6 = testing_indices_X[6].to_numpy()\n",
    "testing_fold_X_7 = testing_indices_X[7].to_numpy()\n",
    "\n",
    "testing_fold_Y_0 = testing_indices_Y[0].to_numpy()\n",
    "testing_fold_Y_1 = testing_indices_Y[1].to_numpy()\n",
    "testing_fold_Y_2 = testing_indices_Y[2].to_numpy()\n",
    "testing_fold_Y_3 = testing_indices_Y[3].to_numpy()\n",
    "testing_fold_Y_4 = testing_indices_Y[4].to_numpy()\n",
    "testing_fold_Y_5 = testing_indices_Y[5].to_numpy()\n",
    "testing_fold_Y_6 = testing_indices_Y[6].to_numpy()\n",
    "testing_fold_Y_7 = testing_indices_Y[7].to_numpy()"
   ]
  },
  {
   "cell_type": "code",
   "execution_count": 9,
   "id": "daily-teddy",
   "metadata": {},
   "outputs": [
    {
     "data": {
      "text/plain": [
       "(16, 1)"
      ]
     },
     "execution_count": 9,
     "metadata": {},
     "output_type": "execute_result"
    }
   ],
   "source": [
    "testing_fold_Y_1.shape"
   ]
  },
  {
   "cell_type": "code",
   "execution_count": 10,
   "id": "adverse-armor",
   "metadata": {},
   "outputs": [],
   "source": [
    "#Some hyperparameters\n",
    "#D_in is input dimension; H is hidden dimension; D_out is output dimension. \n",
    "\n",
    "#Best: 0.801792 using {'batch_size': 30, 'dropout': 0.2, 'epochs': 25, 'layer1_size': 90, 'layer2_size': 20}\n",
    "D_in, H1, H2, D_out = 152, 90, 20, 1\n",
    "EPOCHS = 25\n",
    "BATCH_SIZE = 30\n",
    "LEARNING_RATE = 0.001\n",
    "DROPOUT_RATE = 0.20\n",
    "\n",
    "test_size = 19\n",
    "test_size1 = 18\n",
    "\n",
    "## train data\n",
    "class trainData(Dataset):\n",
    "    \n",
    "    def __init__(self, X_data, y_data): #used to perform initializing operations such as reading data and preprocessing.\n",
    "        self.X_data = X_data\n",
    "        self.y_data = y_data\n",
    "        \n",
    "    def __getitem__(self, index): #returns data (input and output) in batches.\n",
    "        return self.X_data[index], self.y_data[index]\n",
    "        \n",
    "    def __len__ (self): #returns the size of the input data.\n",
    "        return len(self.X_data)\n",
    "\n",
    "#A dataloader is then used on this dataset class to read the data in batches.\n",
    "train_data = trainData(torch.FloatTensor(training_fold_X_0), \n",
    "                       torch.FloatTensor(training_fold_Y_0))\n",
    "\n",
    "train_data1 = trainData(torch.FloatTensor(training_fold_X_1), \n",
    "                       torch.FloatTensor(training_fold_Y_1))\n",
    "\n",
    "train_data2 = trainData(torch.FloatTensor(training_fold_X_2), \n",
    "                       torch.FloatTensor(training_fold_Y_2))\n",
    "\n",
    "train_data3 = trainData(torch.FloatTensor(training_fold_X_3), \n",
    "                       torch.FloatTensor(training_fold_Y_3))\n",
    "\n",
    "train_data4 = trainData(torch.FloatTensor(training_fold_X_4), \n",
    "                       torch.FloatTensor(training_fold_Y_4))\n",
    "\n",
    "train_data5 = trainData(torch.FloatTensor(training_fold_X_5), \n",
    "                       torch.FloatTensor(training_fold_Y_5))\n",
    "\n",
    "train_data6 = trainData(torch.FloatTensor(training_fold_X_6), \n",
    "                       torch.FloatTensor(training_fold_Y_6))\n",
    "\n",
    "train_data7 = trainData(torch.FloatTensor(training_fold_X_7), \n",
    "                       torch.FloatTensor(training_fold_Y_7))\n",
    "## test data    \n",
    "class testData(Dataset):\n",
    "    \n",
    "    def __init__(self, X_data): ##used to perform initializing operations such as reading data and preprocessing.\n",
    "        self.X_data = X_data\n",
    "        \n",
    "    def __getitem__(self, index): #returns data (input and output) in batches.\n",
    "        return self.X_data[index]\n",
    "        \n",
    "    def __len__ (self): #returns the size of the input data.\n",
    "        return len(self.X_data)\n",
    "    \n",
    "#A dataloader is then used on this dataset class to read the data in batches.\n",
    "test_data = testData(torch.FloatTensor(testing_fold_X_0))\n",
    "test_data1 = testData(torch.FloatTensor(testing_fold_X_1))\n",
    "test_data2 = testData(torch.FloatTensor(testing_fold_X_2))\n",
    "test_data3 = testData(torch.FloatTensor(testing_fold_X_3))\n",
    "test_data4 = testData(torch.FloatTensor(testing_fold_X_4))\n",
    "test_data5 = testData(torch.FloatTensor(testing_fold_X_5))\n",
    "test_data6 = testData(torch.FloatTensor(testing_fold_X_6))\n",
    "test_data7 = testData(torch.FloatTensor(testing_fold_X_7))\n",
    "\n",
    "#Initialize DataLoaders\n",
    "train_loader = DataLoader(dataset=train_data, batch_size=BATCH_SIZE, shuffle=True)\n",
    "test_loader = DataLoader(dataset=test_data, batch_size=test_size) #Batch size of the validation set. Need 1 at a time for how it was setup in the tutorial.\n",
    "\n",
    "train_loader1 = DataLoader(dataset=train_data1, batch_size=BATCH_SIZE, shuffle=True)\n",
    "test_loader1 = DataLoader(dataset=test_data1, batch_size=test_size) #Batch size of the validation set. Need 1 at a time for how it was setup in the tutorial.\n",
    "\n",
    "train_loader2 = DataLoader(dataset=train_data2, batch_size=BATCH_SIZE, shuffle=True)\n",
    "test_loader2 = DataLoader(dataset=test_data2, batch_size=test_size) #Batch size of the validation set. Need 1 at a time for how it was setup in the tutorial.\n",
    "\n",
    "train_loader3 = DataLoader(dataset=train_data3, batch_size=BATCH_SIZE, shuffle=True)\n",
    "test_loader3 = DataLoader(dataset=test_data3, batch_size=test_size) #Batch size of the validation set. Need 1 at a time for how it was setup in the tutorial.\n",
    "\n",
    "train_loader4 = DataLoader(dataset=train_data4, batch_size=BATCH_SIZE, shuffle=True)\n",
    "test_loader4 = DataLoader(dataset=test_data4, batch_size=test_size1) #Batch size of the validation set. Need 1 at a time for how it was setup in the tutorial.\n",
    "\n",
    "train_loader5 = DataLoader(dataset=train_data5, batch_size=BATCH_SIZE, shuffle=True)\n",
    "test_loader5 = DataLoader(dataset=test_data5, batch_size=test_size1) #Batch size of the validation set. Need 1 at a time for how it was setup in the tutorial.\n",
    "\n",
    "train_loader6 = DataLoader(dataset=train_data6, batch_size=BATCH_SIZE, shuffle=True)\n",
    "test_loader6 = DataLoader(dataset=test_data6, batch_size=test_size1) #Batch size of the validation set. Need 1 at a time for how it was setup in the tutorial.\n",
    "\n",
    "train_loader7 = DataLoader(dataset=train_data7, batch_size=BATCH_SIZE, shuffle=True)\n",
    "test_loader7 = DataLoader(dataset=test_data7, batch_size=test_size1) #Batch size of the validation set. Need 1 at a time for how it was setup in the tutorial."
   ]
  },
  {
   "cell_type": "code",
   "execution_count": 11,
   "id": "overhead-norfolk",
   "metadata": {},
   "outputs": [
    {
     "name": "stdout",
     "output_type": "stream",
     "text": [
      "(16, 152)\n",
      "(16, 152)\n",
      "(16, 152)\n",
      "(16, 152)\n",
      "(16, 152)\n",
      "(16, 152)\n",
      "(16, 152)\n",
      "(15, 152)\n"
     ]
    }
   ],
   "source": [
    "print(testing_fold_X_0.shape)\n",
    "print(testing_fold_X_1.shape)\n",
    "print(testing_fold_X_2.shape)\n",
    "print(testing_fold_X_3.shape)\n",
    "print(testing_fold_X_4.shape)\n",
    "print(testing_fold_X_5.shape)\n",
    "print(testing_fold_X_6.shape)\n",
    "print(testing_fold_X_7.shape)"
   ]
  },
  {
   "cell_type": "code",
   "execution_count": 12,
   "id": "residential-compatibility",
   "metadata": {},
   "outputs": [
    {
     "name": "stdout",
     "output_type": "stream",
     "text": [
      "cpu\n"
     ]
    }
   ],
   "source": [
    "class binaryClassification(nn.Module):\n",
    "    def __init__(self):\n",
    "        super(binaryClassification, self).__init__()\n",
    "        # Number of input features is 298.\n",
    "        self.layer_1 = nn.Linear(D_in, H1) #298 -> 100\n",
    "        self.layer_2 = nn.Linear(H1, H2) #100 -> 15\n",
    "        self.layer_out = nn.Linear(H2, D_out) #15 -> 1\n",
    "        \n",
    "        self.relu = nn.ReLU()\n",
    "        self.dropout = nn.Dropout(p=DROPOUT_RATE)\n",
    "        #self.batchnorm1 = nn.BatchNorm1d(100)\n",
    "        #self.batchnorm2 = nn.BatchNorm1d(15)\n",
    "        \n",
    "    def forward(self, inputs):\n",
    "        x = self.relu(self.layer_1(inputs)) #ReLU on the 298?\n",
    "        #x = self.batchnorm1(x) #Normalize the 100\n",
    "        x = self.dropout(x) #Dropout 15%\n",
    "        x = self.relu(self.layer_2(x)) #ReLU on the 100?\n",
    "        #x = self.batchnorm2(x) #Normalize the 15\n",
    "        x = self.layer_out(x) #1\n",
    "        \n",
    "        return x\n",
    "device = torch.device(\"cuda:0\" if torch.cuda.is_available() else \"cpu\")\n",
    "print(device)\n",
    "#Should use the CPU since I don't have a GPU."
   ]
  },
  {
   "cell_type": "code",
   "execution_count": 13,
   "id": "expired-malaysia",
   "metadata": {},
   "outputs": [
    {
     "name": "stdout",
     "output_type": "stream",
     "text": [
      "binaryClassification(\n",
      "  (layer_1): Linear(in_features=152, out_features=90, bias=True)\n",
      "  (layer_2): Linear(in_features=90, out_features=20, bias=True)\n",
      "  (layer_out): Linear(in_features=20, out_features=1, bias=True)\n",
      "  (relu): ReLU()\n",
      "  (dropout): Dropout(p=0.2, inplace=False)\n",
      ")\n"
     ]
    }
   ],
   "source": [
    "#Model initialization and information on layers. The model's actual architecture can be viewed in the forward function above.\n",
    "model = binaryClassification()\n",
    "model.load_state_dict(torch.load('./model_dict_hyp_sa_only_2y.pth'))\n",
    "model.train()\n",
    "print(model)\n",
    "#weights = torch.FloatTensor([5]) #Class weights?\n",
    "#criterion = nn.BCEWithLogitsLoss(pos_weight=weights)\n",
    "criterion = nn.BCEWithLogitsLoss()\n",
    "optimizer = optim.Adam(model.parameters(), lr=LEARNING_RATE)\n",
    "\n",
    "#Model initialization and information on layers. The model's actual architecture can be viewed in the forward function above.\n",
    "model1 = binaryClassification()\n",
    "model1.load_state_dict(torch.load('./model_dict_hyp_sa_only_2y.pth'))\n",
    "model1.train()\n",
    "#print(model)\n",
    "#weights1 = torch.FloatTensor([5]) #Class weights?\n",
    "criterion1 = nn.BCEWithLogitsLoss()\n",
    "optimizer1 = optim.Adam(model1.parameters(), lr=LEARNING_RATE)\n",
    "\n",
    "#Model initialization and information on layers. The model's actual architecture can be viewed in the forward function above.\n",
    "model2 = binaryClassification()\n",
    "model2.load_state_dict(torch.load('./model_dict_hyp_sa_only_2y.pth'))\n",
    "model2.train()\n",
    "#print(model)\n",
    "#weights2 = torch.FloatTensor([5]) #Class weights?\n",
    "criterion2 = nn.BCEWithLogitsLoss()\n",
    "optimizer2 = optim.Adam(model2.parameters(), lr=LEARNING_RATE)\n",
    "\n",
    "#Model initialization and information on layers. The model's actual architecture can be viewed in the forward function above.\n",
    "model3 = binaryClassification()\n",
    "model3.load_state_dict(torch.load('./model_dict_hyp_sa_only_2y.pth'))\n",
    "model3.train()\n",
    "#print(model)\n",
    "#weights3 = torch.FloatTensor([5]) #Class weights?\n",
    "criterion3 = nn.BCEWithLogitsLoss()\n",
    "optimizer3 = optim.Adam(model3.parameters(), lr=LEARNING_RATE)\n",
    "\n",
    "#Model initialization and information on layers. The model's actual architecture can be viewed in the forward function above.\n",
    "model4 = binaryClassification()\n",
    "model4.load_state_dict(torch.load('./model_dict_hyp_sa_only_2y.pth'))\n",
    "model4.train()\n",
    "#print(model)\n",
    "#weights4 = torch.FloatTensor([5]) #Class weights?\n",
    "criterion4 = nn.BCEWithLogitsLoss()\n",
    "optimizer4 = optim.Adam(model4.parameters(), lr=LEARNING_RATE)\n",
    "\n",
    "#Model initialization and information on layers. The model's actual architecture can be viewed in the forward function above.\n",
    "model5 = binaryClassification()\n",
    "model5.load_state_dict(torch.load('./model_dict_hyp_sa_only_2y.pth'))\n",
    "model5.train()\n",
    "#print(model)\n",
    "#weights5 = torch.FloatTensor([5]) #Class weights?\n",
    "criterion5 = nn.BCEWithLogitsLoss()\n",
    "optimizer5 = optim.Adam(model5.parameters(), lr=LEARNING_RATE)\n",
    "\n",
    "#Model initialization and information on layers. The model's actual architecture can be viewed in the forward function above.\n",
    "model6 = binaryClassification()\n",
    "model6.load_state_dict(torch.load('./model_dict_hyp_sa_only_2y.pth'))\n",
    "model6.train()\n",
    "#print(model)\n",
    "#weights6 = torch.FloatTensor([5]) #Class weights?\n",
    "criterion6 = nn.BCEWithLogitsLoss()\n",
    "optimizer6 = optim.Adam(model6.parameters(), lr=LEARNING_RATE)\n",
    "\n",
    "#Model initialization and information on layers. The model's actual architecture can be viewed in the forward function above.\n",
    "model7 = binaryClassification()\n",
    "model7.load_state_dict(torch.load('./model_dict_hyp_sa_only_2y.pth'))\n",
    "model7.train()\n",
    "#print(model)\n",
    "#weights7 = torch.FloatTensor([5]) #Class weights?\n",
    "criterion7 = nn.BCEWithLogitsLoss()\n",
    "optimizer7 = optim.Adam(model7.parameters(), lr=LEARNING_RATE)"
   ]
  },
  {
   "cell_type": "code",
   "execution_count": 14,
   "id": "cellular-failing",
   "metadata": {},
   "outputs": [],
   "source": [
    "#Function to define accuracy. Should look to see if there is a prebuilt that I can use from sci-kit learn or something.\n",
    "def binary_acc(y_pred, y_test):\n",
    "    y_pred_tag = torch.round(torch.sigmoid(y_pred))\n",
    "\n",
    "    correct_results_sum = (y_pred_tag == y_test).sum().float()\n",
    "    acc = correct_results_sum/y_test.shape[0]\n",
    "    acc = torch.round(acc * 100)\n",
    "    \n",
    "    return acc"
   ]
  },
  {
   "cell_type": "code",
   "execution_count": 15,
   "id": "american-wallet",
   "metadata": {},
   "outputs": [
    {
     "name": "stdout",
     "output_type": "stream",
     "text": [
      "Training Epoch 001: | Loss: 1.33947 | Acc: 44.250\n",
      "Validation Accuracy |  93.75  PPV |  [0.9375 0.    ]  Recall |  [1. 0.]\n",
      "Training Epoch 002: | Loss: 0.86892 | Acc: 55.625\n"
     ]
    },
    {
     "name": "stderr",
     "output_type": "stream",
     "text": [
      "C:\\Users\\mattbeze\\Anaconda3\\envs\\pytorch\\lib\\site-packages\\sklearn\\metrics\\_classification.py:1245: UndefinedMetricWarning: Precision is ill-defined and being set to 0.0 in labels with no predicted samples. Use `zero_division` parameter to control this behavior.\n",
      "  _warn_prf(average, modifier, msg_start, len(result))\n",
      "C:\\Users\\mattbeze\\Anaconda3\\envs\\pytorch\\lib\\site-packages\\sklearn\\metrics\\_classification.py:1245: UndefinedMetricWarning: Precision is ill-defined and being set to 0.0 in labels with no predicted samples. Use `zero_division` parameter to control this behavior.\n",
      "  _warn_prf(average, modifier, msg_start, len(result))\n"
     ]
    },
    {
     "name": "stdout",
     "output_type": "stream",
     "text": [
      "Validation Accuracy |  93.75  PPV |  [0.9375 0.    ]  Recall |  [1. 0.]\n",
      "Training Epoch 003: | Loss: 0.76173 | Acc: 56.500\n",
      "Validation Accuracy |  93.75  PPV |  [0.9375 0.    ]  Recall |  [1. 0.]\n",
      "Training Epoch 004: | Loss: 0.69780 | Acc: 56.375\n",
      "Validation Accuracy |  81.25  PPV |  [0.92857143 0.        ]  Recall |  [0.86666667 0.        ]\n"
     ]
    },
    {
     "name": "stderr",
     "output_type": "stream",
     "text": [
      "C:\\Users\\mattbeze\\Anaconda3\\envs\\pytorch\\lib\\site-packages\\sklearn\\metrics\\_classification.py:1245: UndefinedMetricWarning: Precision is ill-defined and being set to 0.0 in labels with no predicted samples. Use `zero_division` parameter to control this behavior.\n",
      "  _warn_prf(average, modifier, msg_start, len(result))\n"
     ]
    },
    {
     "name": "stdout",
     "output_type": "stream",
     "text": [
      "Training Epoch 005: | Loss: 0.66726 | Acc: 50.750\n",
      "Validation Accuracy |  81.25  PPV |  [0.92857143 0.        ]  Recall |  [0.86666667 0.        ]\n",
      "Training Epoch 006: | Loss: 0.67639 | Acc: 52.125\n",
      "Validation Accuracy |  81.25  PPV |  [0.92857143 0.        ]  Recall |  [0.86666667 0.        ]\n",
      "Training Epoch 007: | Loss: 0.66000 | Acc: 55.875\n",
      "Validation Accuracy |  81.25  PPV |  [0.92857143 0.        ]  Recall |  [0.86666667 0.        ]\n",
      "Training Epoch 008: | Loss: 0.63685 | Acc: 58.375\n",
      "Validation Accuracy |  62.5  PPV |  [0.90909091 0.        ]  Recall |  [0.66666667 0.        ]\n",
      "Training Epoch 009: | Loss: 0.62359 | Acc: 59.750\n",
      "Validation Accuracy |  62.5  PPV |  [0.90909091 0.        ]  Recall |  [0.66666667 0.        ]\n",
      "Training Epoch 010: | Loss: 0.63719 | Acc: 58.125\n",
      "Validation Accuracy |  81.25  PPV |  [0.92857143 0.        ]  Recall |  [0.86666667 0.        ]\n",
      "Training Epoch 011: | Loss: 0.63184 | Acc: 60.375\n",
      "Validation Accuracy |  81.25  PPV |  [0.92857143 0.        ]  Recall |  [0.86666667 0.        ]\n",
      "Training Epoch 012: | Loss: 0.60275 | Acc: 61.375\n",
      "Validation Accuracy |  81.25  PPV |  [0.92857143 0.        ]  Recall |  [0.86666667 0.        ]\n",
      "Training Epoch 013: | Loss: 0.60825 | Acc: 62.000\n",
      "Validation Accuracy |  75.0  PPV |  [0.92307692 0.        ]  Recall |  [0.8 0. ]\n",
      "Training Epoch 014: | Loss: 0.60267 | Acc: 64.125\n",
      "Validation Accuracy |  56.25  PPV |  [0.9 0. ]  Recall |  [0.6 0. ]\n",
      "Training Epoch 015: | Loss: 0.62007 | Acc: 63.000\n",
      "Validation Accuracy |  56.25  PPV |  [0.9 0. ]  Recall |  [0.6 0. ]\n",
      "Training Epoch 016: | Loss: 0.62560 | Acc: 64.375\n",
      "Validation Accuracy |  56.25  PPV |  [0.9 0. ]  Recall |  [0.6 0. ]\n",
      "Training Epoch 017: | Loss: 0.58602 | Acc: 66.125\n",
      "Validation Accuracy |  68.75  PPV |  [0.91666667 0.        ]  Recall |  [0.73333333 0.        ]\n",
      "Training Epoch 018: | Loss: 0.58838 | Acc: 62.625\n",
      "Validation Accuracy |  50.0  PPV |  [0.88888889 0.        ]  Recall |  [0.53333333 0.        ]\n",
      "Training Epoch 019: | Loss: 0.59436 | Acc: 69.250\n",
      "Validation Accuracy |  50.0  PPV |  [0.88888889 0.        ]  Recall |  [0.53333333 0.        ]\n",
      "Training Epoch 020: | Loss: 0.54803 | Acc: 73.625\n",
      "Validation Accuracy |  50.0  PPV |  [0.88888889 0.        ]  Recall |  [0.53333333 0.        ]\n",
      "Training Epoch 021: | Loss: 0.55841 | Acc: 71.125\n",
      "Validation Accuracy |  50.0  PPV |  [0.88888889 0.        ]  Recall |  [0.53333333 0.        ]\n",
      "Training Epoch 022: | Loss: 0.53185 | Acc: 73.750\n",
      "Validation Accuracy |  56.25  PPV |  [0.9 0. ]  Recall |  [0.6 0. ]\n",
      "Training Epoch 023: | Loss: 0.53084 | Acc: 72.625\n",
      "Validation Accuracy |  81.25  PPV |  [0.92857143 0.        ]  Recall |  [0.86666667 0.        ]\n",
      "Training Epoch 024: | Loss: 0.49574 | Acc: 78.500\n",
      "Validation Accuracy |  62.5  PPV |  [0.90909091 0.        ]  Recall |  [0.66666667 0.        ]\n",
      "Training Epoch 025: | Loss: 0.47903 | Acc: 80.000\n",
      "Validation Accuracy |  81.25  PPV |  [0.92857143 0.        ]  Recall |  [0.86666667 0.        ]\n"
     ]
    }
   ],
   "source": [
    "#model.train() tells PyTorch that you’re in training mode.\n",
    "#Similarly, we’ll call model.eval() when we test our model. We’ll see that below.\n",
    "'''If you’re using layers such as Dropout or BatchNorm which behave differently during training and evaluation, \n",
    "you need to tell PyTorch to act accordingly. While the default mode in PyTorch is the train, \n",
    "so, you don’t explicitly have to write that. But it’s good practice.'''\n",
    "val_acc = []\n",
    "train_acc = []\n",
    "train_loss = []\n",
    "val_loss = []\n",
    "\n",
    "model.train() #Initial training mode\n",
    "for e in range(1, EPOCHS+1):\n",
    "    epoch_loss = 0\n",
    "    epoch_acc = 0\n",
    "    for X_batch, y_batch in train_loader:\n",
    "        X_batch, y_batch = X_batch.to(device), y_batch.to(device)\n",
    "        optimizer.zero_grad()\n",
    "        \n",
    "        y_pred = model(X_batch)\n",
    "        \n",
    "        loss = criterion(y_pred, y_batch)\n",
    "        acc = binary_acc(y_pred, y_batch)\n",
    "        \n",
    "        loss.backward()\n",
    "        optimizer.step()\n",
    "        \n",
    "        epoch_loss += loss.item()\n",
    "        epoch_acc += acc.item()\n",
    "    \n",
    "    train_acc.append(epoch_acc/len(train_loader))\n",
    "    train_loss.append(epoch_loss/len(train_loader))\n",
    "    print(f'Training Epoch {e+0:03}: | Loss: {epoch_loss/len(train_loader):.5f} | Acc: {epoch_acc/len(train_loader):.3f}')\n",
    "    #Validation metrics here\n",
    "    model.eval()\n",
    "    #print(\"Evaluation mode\")\n",
    "    y_pred_list = []\n",
    "    test_loader = DataLoader(dataset=test_data, batch_size=test_size)\n",
    "    with torch.no_grad():\n",
    "        counter = 0\n",
    "        for X_batch in test_loader:\n",
    "            X_batch = X_batch.to(device)\n",
    "            y_test_pred = model(X_batch)\n",
    "            y_test_pred = torch.sigmoid(y_test_pred)\n",
    "            y_pred_tag = torch.round(y_test_pred)\n",
    "            y_pred_list.append(y_pred_tag.cpu().numpy())\n",
    "            loss = criterion(y_test_pred,torch.FloatTensor(testing_fold_Y_0))\n",
    "            val_loss.append(loss)\n",
    "            counter+=1\n",
    "            \n",
    "    y_pred_list = []\n",
    "    test_loader = DataLoader(dataset=test_data, batch_size=1)\n",
    "    with torch.no_grad():\n",
    "        for X_batch in test_loader:\n",
    "            X_batch = X_batch.to(device)\n",
    "            y_test_pred = model(X_batch)\n",
    "            y_test_pred = torch.sigmoid(y_test_pred)\n",
    "            y_pred_tag = torch.round(y_test_pred)\n",
    "            y_pred_list.append(y_pred_tag.cpu().numpy())\n",
    "            \n",
    "    y_pred_list = [a.squeeze().tolist() for a in y_pred_list]\n",
    "    y_loss_df = pd.DataFrame(y_pred_list)\n",
    "    accuracy = accuracy_score(torch.FloatTensor(testing_fold_Y_0), y_pred_list)\n",
    "    ppv = precision_score(testing_fold_Y_0, y_pred_list, average=None)\n",
    "    recall = recall_score(testing_fold_Y_0, y_pred_list, average=None)\n",
    "    print(\"Validation Accuracy | \",accuracy*100,\" PPV | \",ppv,\" Recall | \",recall)\n",
    "    val_acc.append(accuracy*100)\n",
    "    model.train()\n",
    "    #print(\"Return to training mode\")\n",
    "    \n",
    "    #Need to get validation loss."
   ]
  },
  {
   "cell_type": "code",
   "execution_count": 16,
   "id": "neither-anthropology",
   "metadata": {},
   "outputs": [
    {
     "name": "stdout",
     "output_type": "stream",
     "text": [
      "Training Epoch 001: | Loss: 1.39284 | Acc: 44.875\n",
      "Validation Accuracy |  93.75  PPV |  [0.9375 0.    ]  Recall |  [1. 0.]\n",
      "Training Epoch 002: | Loss: 0.88965 | Acc: 53.750\n",
      "Validation Accuracy |  93.75  PPV |  [0.9375 0.    ]  Recall |  [1. 0.]\n",
      "Training Epoch 003: | Loss: 0.75456 | Acc: 56.750\n",
      "Validation Accuracy |  93.75  PPV |  [0.9375 0.    ]  Recall |  [1. 0.]\n",
      "Training Epoch 004: | Loss: 0.72913 | Acc: 51.375\n"
     ]
    },
    {
     "name": "stderr",
     "output_type": "stream",
     "text": [
      "C:\\Users\\mattbeze\\Anaconda3\\envs\\pytorch\\lib\\site-packages\\sklearn\\metrics\\_classification.py:1245: UndefinedMetricWarning: Precision is ill-defined and being set to 0.0 in labels with no predicted samples. Use `zero_division` parameter to control this behavior.\n",
      "  _warn_prf(average, modifier, msg_start, len(result))\n",
      "C:\\Users\\mattbeze\\Anaconda3\\envs\\pytorch\\lib\\site-packages\\sklearn\\metrics\\_classification.py:1245: UndefinedMetricWarning: Precision is ill-defined and being set to 0.0 in labels with no predicted samples. Use `zero_division` parameter to control this behavior.\n",
      "  _warn_prf(average, modifier, msg_start, len(result))\n",
      "C:\\Users\\mattbeze\\Anaconda3\\envs\\pytorch\\lib\\site-packages\\sklearn\\metrics\\_classification.py:1245: UndefinedMetricWarning: Precision is ill-defined and being set to 0.0 in labels with no predicted samples. Use `zero_division` parameter to control this behavior.\n",
      "  _warn_prf(average, modifier, msg_start, len(result))\n",
      "C:\\Users\\mattbeze\\Anaconda3\\envs\\pytorch\\lib\\site-packages\\sklearn\\metrics\\_classification.py:1245: UndefinedMetricWarning: Precision is ill-defined and being set to 0.0 in labels with no predicted samples. Use `zero_division` parameter to control this behavior.\n",
      "  _warn_prf(average, modifier, msg_start, len(result))\n"
     ]
    },
    {
     "name": "stdout",
     "output_type": "stream",
     "text": [
      "Validation Accuracy |  93.75  PPV |  [0.9375 0.    ]  Recall |  [1. 0.]\n",
      "Training Epoch 005: | Loss: 0.69618 | Acc: 51.750\n",
      "Validation Accuracy |  75.0  PPV |  [0.92307692 0.        ]  Recall |  [0.8 0. ]\n",
      "Training Epoch 006: | Loss: 0.67789 | Acc: 49.375\n",
      "Validation Accuracy |  87.5  PPV |  [0.93333333 0.        ]  Recall |  [0.93333333 0.        ]\n",
      "Training Epoch 007: | Loss: 0.65094 | Acc: 50.750\n",
      "Validation Accuracy |  93.75  PPV |  [0.9375 0.    ]  Recall |  [1. 0.]\n",
      "Training Epoch 008: | Loss: 0.64648 | Acc: 53.250\n",
      "Validation Accuracy |  81.25  PPV |  [0.92857143 0.        ]  Recall |  [0.86666667 0.        ]\n",
      "Training Epoch 009: | Loss: 0.62835 | Acc: 53.625\n"
     ]
    },
    {
     "name": "stderr",
     "output_type": "stream",
     "text": [
      "C:\\Users\\mattbeze\\Anaconda3\\envs\\pytorch\\lib\\site-packages\\sklearn\\metrics\\_classification.py:1245: UndefinedMetricWarning: Precision is ill-defined and being set to 0.0 in labels with no predicted samples. Use `zero_division` parameter to control this behavior.\n",
      "  _warn_prf(average, modifier, msg_start, len(result))\n"
     ]
    },
    {
     "name": "stdout",
     "output_type": "stream",
     "text": [
      "Validation Accuracy |  87.5  PPV |  [0.93333333 0.        ]  Recall |  [0.93333333 0.        ]\n",
      "Training Epoch 010: | Loss: 0.62321 | Acc: 51.875\n",
      "Validation Accuracy |  87.5  PPV |  [0.93333333 0.        ]  Recall |  [0.93333333 0.        ]\n",
      "Training Epoch 011: | Loss: 0.62645 | Acc: 52.375\n",
      "Validation Accuracy |  81.25  PPV |  [0.92857143 0.        ]  Recall |  [0.86666667 0.        ]\n",
      "Training Epoch 012: | Loss: 0.63014 | Acc: 55.500\n",
      "Validation Accuracy |  81.25  PPV |  [0.92857143 0.        ]  Recall |  [0.86666667 0.        ]\n",
      "Training Epoch 013: | Loss: 0.60767 | Acc: 58.875\n",
      "Validation Accuracy |  75.0  PPV |  [0.92307692 0.        ]  Recall |  [0.8 0. ]\n",
      "Training Epoch 014: | Loss: 0.63254 | Acc: 60.500\n",
      "Validation Accuracy |  75.0  PPV |  [0.92307692 0.        ]  Recall |  [0.8 0. ]\n",
      "Training Epoch 015: | Loss: 0.63012 | Acc: 60.125\n",
      "Validation Accuracy |  56.25  PPV |  [0.9 0. ]  Recall |  [0.6 0. ]\n",
      "Training Epoch 016: | Loss: 0.60937 | Acc: 61.875\n",
      "Validation Accuracy |  81.25  PPV |  [0.92857143 0.        ]  Recall |  [0.86666667 0.        ]\n",
      "Training Epoch 017: | Loss: 0.58849 | Acc: 61.125\n",
      "Validation Accuracy |  75.0  PPV |  [0.92307692 0.        ]  Recall |  [0.8 0. ]\n",
      "Training Epoch 018: | Loss: 0.62429 | Acc: 61.000\n",
      "Validation Accuracy |  62.5  PPV |  [0.90909091 0.        ]  Recall |  [0.66666667 0.        ]\n",
      "Training Epoch 019: | Loss: 0.57989 | Acc: 68.875\n",
      "Validation Accuracy |  75.0  PPV |  [0.92307692 0.        ]  Recall |  [0.8 0. ]\n",
      "Training Epoch 020: | Loss: 0.57693 | Acc: 64.625\n",
      "Validation Accuracy |  68.75  PPV |  [0.91666667 0.        ]  Recall |  [0.73333333 0.        ]\n",
      "Training Epoch 021: | Loss: 0.56551 | Acc: 72.375\n",
      "Validation Accuracy |  56.25  PPV |  [0.9 0. ]  Recall |  [0.6 0. ]\n",
      "Training Epoch 022: | Loss: 0.58414 | Acc: 71.375\n",
      "Validation Accuracy |  56.25  PPV |  [0.9 0. ]  Recall |  [0.6 0. ]\n",
      "Training Epoch 023: | Loss: 0.55878 | Acc: 73.750\n",
      "Validation Accuracy |  56.25  PPV |  [0.9 0. ]  Recall |  [0.6 0. ]\n",
      "Training Epoch 024: | Loss: 0.54652 | Acc: 74.000\n",
      "Validation Accuracy |  56.25  PPV |  [0.9 0. ]  Recall |  [0.6 0. ]\n",
      "Training Epoch 025: | Loss: 0.56069 | Acc: 75.000\n",
      "Validation Accuracy |  56.25  PPV |  [0.9 0. ]  Recall |  [0.6 0. ]\n"
     ]
    }
   ],
   "source": [
    "#model.train() tells PyTorch that you’re in training mode.\n",
    "#Similarly, we’ll call model.eval() when we test our model. We’ll see that below.\n",
    "'''If you’re using layers such as Dropout or BatchNorm which behave differently during training and evaluation, \n",
    "you need to tell PyTorch to act accordingly. While the default mode in PyTorch is the train, \n",
    "so, you don’t explicitly have to write that. But it’s good practice.'''\n",
    "val_acc1 = []\n",
    "train_acc1 = []\n",
    "train_loss1 = []\n",
    "val_loss1 = []\n",
    "\n",
    "model1.train() #Initial training mode\n",
    "for e in range(1, EPOCHS+1):\n",
    "    epoch_loss = 0\n",
    "    epoch_acc = 0\n",
    "    for X_batch, y_batch in train_loader1:\n",
    "        X_batch, y_batch = X_batch.to(device), y_batch.to(device)\n",
    "        optimizer1.zero_grad()\n",
    "        \n",
    "        y_pred = model1(X_batch)\n",
    "        \n",
    "        loss = criterion(y_pred, y_batch)\n",
    "        acc = binary_acc(y_pred, y_batch)\n",
    "        \n",
    "        loss.backward()\n",
    "        optimizer1.step()\n",
    "        \n",
    "        epoch_loss += loss.item()\n",
    "        epoch_acc += acc.item()\n",
    "    \n",
    "    train_acc1.append(epoch_acc/len(train_loader1))\n",
    "    train_loss1.append(epoch_loss/len(train_loader1))\n",
    "    print(f'Training Epoch {e+0:03}: | Loss: {epoch_loss/len(train_loader1):.5f} | Acc: {epoch_acc/len(train_loader1):.3f}')\n",
    "    #Validation metrics here\n",
    "    model1.eval()\n",
    "    #print(\"Evaluation mode\")\n",
    "    y_pred_list = []\n",
    "    test_loader1 = DataLoader(dataset=test_data1, batch_size=test_size)\n",
    "    with torch.no_grad():\n",
    "        counter = 0\n",
    "        for X_batch in test_loader1:\n",
    "            X_batch = X_batch.to(device)\n",
    "            y_test_pred = model1(X_batch)\n",
    "            y_test_pred = torch.sigmoid(y_test_pred)\n",
    "            y_pred_tag = torch.round(y_test_pred)\n",
    "            y_pred_list.append(y_pred_tag.cpu().numpy())\n",
    "            loss = criterion(y_test_pred,torch.FloatTensor(testing_fold_Y_1))\n",
    "            val_loss1.append(loss)\n",
    "            counter+=1\n",
    "            \n",
    "    y_pred_list = []\n",
    "    test_loader = DataLoader(dataset=test_data1, batch_size=1)\n",
    "    with torch.no_grad():\n",
    "        for X_batch in test_loader:\n",
    "            X_batch = X_batch.to(device)\n",
    "            y_test_pred = model1(X_batch)\n",
    "            y_test_pred = torch.sigmoid(y_test_pred)\n",
    "            y_pred_tag = torch.round(y_test_pred)\n",
    "            y_pred_list.append(y_pred_tag.cpu().numpy())\n",
    "            \n",
    "    y_pred_list = [a.squeeze().tolist() for a in y_pred_list]\n",
    "    y_loss_df = pd.DataFrame(y_pred_list)\n",
    "    accuracy = accuracy_score(torch.FloatTensor(testing_fold_Y_1), y_pred_list)\n",
    "    ppv = precision_score(testing_fold_Y_1, y_pred_list, average=None)\n",
    "    recall = recall_score(testing_fold_Y_1, y_pred_list, average=None)\n",
    "    print(\"Validation Accuracy | \",accuracy*100,\" PPV | \",ppv,\" Recall | \",recall)\n",
    "    val_acc1.append(accuracy*100)\n",
    "    model1.train()\n",
    "    #print(\"Return to training mode\")\n",
    "    \n",
    "    #Need to get validation loss."
   ]
  },
  {
   "cell_type": "code",
   "execution_count": 17,
   "id": "portuguese-beauty",
   "metadata": {},
   "outputs": [
    {
     "name": "stdout",
     "output_type": "stream",
     "text": [
      "Training Epoch 001: | Loss: 1.37122 | Acc: 45.750\n",
      "Validation Accuracy |  87.5  PPV |  [0.875 0.   ]  Recall |  [1. 0.]\n",
      "Training Epoch 002: | Loss: 0.95156 | Acc: 54.375\n",
      "Validation Accuracy |  87.5  PPV |  [0.875 0.   ]  Recall |  [1. 0.]\n"
     ]
    },
    {
     "name": "stderr",
     "output_type": "stream",
     "text": [
      "C:\\Users\\mattbeze\\Anaconda3\\envs\\pytorch\\lib\\site-packages\\sklearn\\metrics\\_classification.py:1245: UndefinedMetricWarning: Precision is ill-defined and being set to 0.0 in labels with no predicted samples. Use `zero_division` parameter to control this behavior.\n",
      "  _warn_prf(average, modifier, msg_start, len(result))\n",
      "C:\\Users\\mattbeze\\Anaconda3\\envs\\pytorch\\lib\\site-packages\\sklearn\\metrics\\_classification.py:1245: UndefinedMetricWarning: Precision is ill-defined and being set to 0.0 in labels with no predicted samples. Use `zero_division` parameter to control this behavior.\n",
      "  _warn_prf(average, modifier, msg_start, len(result))\n"
     ]
    },
    {
     "name": "stdout",
     "output_type": "stream",
     "text": [
      "Training Epoch 003: | Loss: 0.80270 | Acc: 56.250\n",
      "Validation Accuracy |  87.5  PPV |  [0.875 0.   ]  Recall |  [1. 0.]\n",
      "Training Epoch 004: | Loss: 0.72519 | Acc: 55.750\n",
      "Validation Accuracy |  87.5  PPV |  [0.875 0.   ]  Recall |  [1. 0.]\n"
     ]
    },
    {
     "name": "stderr",
     "output_type": "stream",
     "text": [
      "C:\\Users\\mattbeze\\Anaconda3\\envs\\pytorch\\lib\\site-packages\\sklearn\\metrics\\_classification.py:1245: UndefinedMetricWarning: Precision is ill-defined and being set to 0.0 in labels with no predicted samples. Use `zero_division` parameter to control this behavior.\n",
      "  _warn_prf(average, modifier, msg_start, len(result))\n",
      "C:\\Users\\mattbeze\\Anaconda3\\envs\\pytorch\\lib\\site-packages\\sklearn\\metrics\\_classification.py:1245: UndefinedMetricWarning: Precision is ill-defined and being set to 0.0 in labels with no predicted samples. Use `zero_division` parameter to control this behavior.\n",
      "  _warn_prf(average, modifier, msg_start, len(result))\n"
     ]
    },
    {
     "name": "stdout",
     "output_type": "stream",
     "text": [
      "Training Epoch 005: | Loss: 0.68680 | Acc: 51.750\n",
      "Validation Accuracy |  68.75  PPV |  [0.84615385 0.        ]  Recall |  [0.78571429 0.        ]\n",
      "Training Epoch 006: | Loss: 0.66964 | Acc: 55.625\n",
      "Validation Accuracy |  43.75  PPV |  [0.77777778 0.        ]  Recall |  [0.5 0. ]\n",
      "Training Epoch 007: | Loss: 0.66984 | Acc: 54.375\n",
      "Validation Accuracy |  50.0  PPV |  [0.8 0. ]  Recall |  [0.57142857 0.        ]\n",
      "Training Epoch 008: | Loss: 0.66871 | Acc: 54.125\n",
      "Validation Accuracy |  50.0  PPV |  [0.8 0. ]  Recall |  [0.57142857 0.        ]\n",
      "Training Epoch 009: | Loss: 0.68149 | Acc: 56.375\n",
      "Validation Accuracy |  50.0  PPV |  [0.8 0. ]  Recall |  [0.57142857 0.        ]\n",
      "Training Epoch 010: | Loss: 0.63528 | Acc: 65.250\n",
      "Validation Accuracy |  50.0  PPV |  [0.875 0.125]  Recall |  [0.5 0.5]\n",
      "Training Epoch 011: | Loss: 0.62230 | Acc: 62.750\n",
      "Validation Accuracy |  50.0  PPV |  [0.875 0.125]  Recall |  [0.5 0.5]\n",
      "Training Epoch 012: | Loss: 0.62182 | Acc: 56.500\n",
      "Validation Accuracy |  43.75  PPV |  [0.85714286 0.11111111]  Recall |  [0.42857143 0.5       ]\n",
      "Training Epoch 013: | Loss: 0.62683 | Acc: 60.000\n",
      "Validation Accuracy |  43.75  PPV |  [0.85714286 0.11111111]  Recall |  [0.42857143 0.5       ]\n",
      "Training Epoch 014: | Loss: 0.61930 | Acc: 63.625\n",
      "Validation Accuracy |  43.75  PPV |  [0.85714286 0.11111111]  Recall |  [0.42857143 0.5       ]\n",
      "Training Epoch 015: | Loss: 0.60710 | Acc: 62.375\n",
      "Validation Accuracy |  43.75  PPV |  [0.85714286 0.11111111]  Recall |  [0.42857143 0.5       ]\n",
      "Training Epoch 016: | Loss: 0.61358 | Acc: 63.750\n",
      "Validation Accuracy |  56.25  PPV |  [0.88888889 0.14285714]  Recall |  [0.57142857 0.5       ]\n",
      "Training Epoch 017: | Loss: 0.59416 | Acc: 65.250\n",
      "Validation Accuracy |  50.0  PPV |  [0.875 0.125]  Recall |  [0.5 0.5]\n",
      "Training Epoch 018: | Loss: 0.61265 | Acc: 62.000\n",
      "Validation Accuracy |  50.0  PPV |  [0.875 0.125]  Recall |  [0.5 0.5]\n",
      "Training Epoch 019: | Loss: 0.59764 | Acc: 63.500\n",
      "Validation Accuracy |  56.25  PPV |  [0.88888889 0.14285714]  Recall |  [0.57142857 0.5       ]\n",
      "Training Epoch 020: | Loss: 0.60334 | Acc: 67.875\n",
      "Validation Accuracy |  50.0  PPV |  [0.875 0.125]  Recall |  [0.5 0.5]\n",
      "Training Epoch 021: | Loss: 0.61546 | Acc: 65.625\n",
      "Validation Accuracy |  50.0  PPV |  [0.875 0.125]  Recall |  [0.5 0.5]\n",
      "Training Epoch 022: | Loss: 0.57929 | Acc: 69.500\n",
      "Validation Accuracy |  50.0  PPV |  [0.875 0.125]  Recall |  [0.5 0.5]\n",
      "Training Epoch 023: | Loss: 0.56543 | Acc: 69.000\n",
      "Validation Accuracy |  50.0  PPV |  [0.875 0.125]  Recall |  [0.5 0.5]\n",
      "Training Epoch 024: | Loss: 0.57684 | Acc: 72.875\n",
      "Validation Accuracy |  56.25  PPV |  [0.88888889 0.14285714]  Recall |  [0.57142857 0.5       ]\n",
      "Training Epoch 025: | Loss: 0.55039 | Acc: 71.000\n",
      "Validation Accuracy |  50.0  PPV |  [0.875 0.125]  Recall |  [0.5 0.5]\n"
     ]
    }
   ],
   "source": [
    "#model.train() tells PyTorch that you’re in training mode.\n",
    "#Similarly, we’ll call model.eval() when we test our model. We’ll see that below.\n",
    "'''If you’re using layers such as Dropout or BatchNorm which behave differently during training and evaluation, \n",
    "you need to tell PyTorch to act accordingly. While the default mode in PyTorch is the train, \n",
    "so, you don’t explicitly have to write that. But it’s good practice.'''\n",
    "val_acc2 = []\n",
    "train_acc2 = []\n",
    "train_loss2 = []\n",
    "val_loss2 = []\n",
    "\n",
    "model2.train() #Initial training mode\n",
    "for e in range(1, EPOCHS+1):\n",
    "    epoch_loss = 0\n",
    "    epoch_acc = 0\n",
    "    for X_batch, y_batch in train_loader2:\n",
    "        X_batch, y_batch = X_batch.to(device), y_batch.to(device)\n",
    "        optimizer2.zero_grad()\n",
    "        \n",
    "        y_pred = model2(X_batch)\n",
    "        \n",
    "        loss = criterion(y_pred, y_batch)\n",
    "        acc = binary_acc(y_pred, y_batch)\n",
    "        \n",
    "        loss.backward()\n",
    "        optimizer2.step()\n",
    "        \n",
    "        epoch_loss += loss.item()\n",
    "        epoch_acc += acc.item()\n",
    "    \n",
    "    train_acc2.append(epoch_acc/len(train_loader2))\n",
    "    train_loss2.append(epoch_loss/len(train_loader2))\n",
    "    print(f'Training Epoch {e+0:03}: | Loss: {epoch_loss/len(train_loader2):.5f} | Acc: {epoch_acc/len(train_loader2):.3f}')\n",
    "    #Validation metrics here\n",
    "    model2.eval()\n",
    "    #print(\"Evaluation mode\")\n",
    "    y_pred_list = []\n",
    "    test_loader2 = DataLoader(dataset=test_data2, batch_size=test_size)\n",
    "    with torch.no_grad():\n",
    "        counter = 0\n",
    "        for X_batch in test_loader2:\n",
    "            X_batch = X_batch.to(device)\n",
    "            y_test_pred = model2(X_batch)\n",
    "            y_test_pred = torch.sigmoid(y_test_pred)\n",
    "            y_pred_tag = torch.round(y_test_pred)\n",
    "            y_pred_list.append(y_pred_tag.cpu().numpy())\n",
    "            loss = criterion(y_test_pred,torch.FloatTensor(testing_fold_Y_2))\n",
    "            val_loss2.append(loss)\n",
    "            counter+=1\n",
    "            \n",
    "    y_pred_list = []\n",
    "    test_loader2 = DataLoader(dataset=test_data2, batch_size=1)\n",
    "    with torch.no_grad():\n",
    "        for X_batch in test_loader2:\n",
    "            X_batch = X_batch.to(device)\n",
    "            y_test_pred = model2(X_batch)\n",
    "            y_test_pred = torch.sigmoid(y_test_pred)\n",
    "            y_pred_tag = torch.round(y_test_pred)\n",
    "            y_pred_list.append(y_pred_tag.cpu().numpy())\n",
    "            \n",
    "    y_pred_list = [a.squeeze().tolist() for a in y_pred_list]\n",
    "    y_loss_df = pd.DataFrame(y_pred_list)\n",
    "    accuracy = accuracy_score(torch.FloatTensor(testing_fold_Y_2), y_pred_list)\n",
    "    ppv = precision_score(testing_fold_Y_2, y_pred_list, average=None)\n",
    "    recall = recall_score(testing_fold_Y_2, y_pred_list, average=None)\n",
    "    print(\"Validation Accuracy | \",accuracy*100,\" PPV | \",ppv,\" Recall | \",recall)\n",
    "    val_acc2.append(accuracy*100)\n",
    "    model2.train()\n",
    "    #print(\"Return to training mode\")\n",
    "    \n",
    "    #Need to get validation loss."
   ]
  },
  {
   "cell_type": "code",
   "execution_count": 18,
   "id": "intense-shepherd",
   "metadata": {},
   "outputs": [
    {
     "name": "stdout",
     "output_type": "stream",
     "text": [
      "Training Epoch 001: | Loss: 1.45431 | Acc: 46.500\n",
      "Validation Accuracy |  87.5  PPV |  [0.875 0.   ]  Recall |  [1. 0.]\n",
      "Training Epoch 002: | Loss: 0.91875 | Acc: 53.625\n",
      "Validation Accuracy |  87.5  PPV |  [0.875 0.   ]  Recall |  [1. 0.]\n",
      "Training Epoch 003: | Loss: 0.75084 | Acc: 56.375\n",
      "Validation Accuracy |  87.5  PPV |  [0.875 0.   ]  Recall |  [1. 0.]\n",
      "Training Epoch 004: | Loss: 0.69554 | Acc: 54.125"
     ]
    },
    {
     "name": "stderr",
     "output_type": "stream",
     "text": [
      "C:\\Users\\mattbeze\\Anaconda3\\envs\\pytorch\\lib\\site-packages\\sklearn\\metrics\\_classification.py:1245: UndefinedMetricWarning: Precision is ill-defined and being set to 0.0 in labels with no predicted samples. Use `zero_division` parameter to control this behavior.\n",
      "  _warn_prf(average, modifier, msg_start, len(result))\n",
      "C:\\Users\\mattbeze\\Anaconda3\\envs\\pytorch\\lib\\site-packages\\sklearn\\metrics\\_classification.py:1245: UndefinedMetricWarning: Precision is ill-defined and being set to 0.0 in labels with no predicted samples. Use `zero_division` parameter to control this behavior.\n",
      "  _warn_prf(average, modifier, msg_start, len(result))\n",
      "C:\\Users\\mattbeze\\Anaconda3\\envs\\pytorch\\lib\\site-packages\\sklearn\\metrics\\_classification.py:1245: UndefinedMetricWarning: Precision is ill-defined and being set to 0.0 in labels with no predicted samples. Use `zero_division` parameter to control this behavior.\n",
      "  _warn_prf(average, modifier, msg_start, len(result))\n"
     ]
    },
    {
     "name": "stdout",
     "output_type": "stream",
     "text": [
      "\n",
      "Validation Accuracy |  43.75  PPV |  [0.77777778 0.        ]  Recall |  [0.5 0. ]\n",
      "Training Epoch 005: | Loss: 0.67517 | Acc: 55.625\n",
      "Validation Accuracy |  31.25  PPV |  [0.71428571 0.        ]  Recall |  [0.35714286 0.        ]\n",
      "Training Epoch 006: | Loss: 0.63064 | Acc: 60.000\n",
      "Validation Accuracy |  18.75  PPV |  [0.6 0. ]  Recall |  [0.21428571 0.        ]\n",
      "Training Epoch 007: | Loss: 0.65131 | Acc: 56.750\n",
      "Validation Accuracy |  18.75  PPV |  [0.6 0. ]  Recall |  [0.21428571 0.        ]\n",
      "Training Epoch 008: | Loss: 0.67380 | Acc: 57.125\n",
      "Validation Accuracy |  18.75  PPV |  [0.6 0. ]  Recall |  [0.21428571 0.        ]\n",
      "Training Epoch 009: | Loss: 0.63895 | Acc: 55.250\n",
      "Validation Accuracy |  25.0  PPV |  [0.66666667 0.        ]  Recall |  [0.28571429 0.        ]\n",
      "Training Epoch 010: | Loss: 0.64185 | Acc: 58.500\n",
      "Validation Accuracy |  25.0  PPV |  [0.66666667 0.        ]  Recall |  [0.28571429 0.        ]\n",
      "Training Epoch 011: | Loss: 0.60126 | Acc: 60.250\n",
      "Validation Accuracy |  25.0  PPV |  [0.66666667 0.        ]  Recall |  [0.28571429 0.        ]\n",
      "Training Epoch 012: | Loss: 0.61185 | Acc: 65.375\n",
      "Validation Accuracy |  25.0  PPV |  [0.66666667 0.        ]  Recall |  [0.28571429 0.        ]\n",
      "Training Epoch 013: | Loss: 0.59646 | Acc: 66.625\n",
      "Validation Accuracy |  25.0  PPV |  [0.66666667 0.        ]  Recall |  [0.28571429 0.        ]\n",
      "Training Epoch 014: | Loss: 0.61071 | Acc: 63.625\n",
      "Validation Accuracy |  25.0  PPV |  [0.66666667 0.        ]  Recall |  [0.28571429 0.        ]\n",
      "Training Epoch 015: | Loss: 0.61821 | Acc: 63.875\n",
      "Validation Accuracy |  25.0  PPV |  [0.66666667 0.        ]  Recall |  [0.28571429 0.        ]\n",
      "Training Epoch 016: | Loss: 0.61945 | Acc: 66.000\n",
      "Validation Accuracy |  25.0  PPV |  [0.66666667 0.        ]  Recall |  [0.28571429 0.        ]\n",
      "Training Epoch 017: | Loss: 0.59739 | Acc: 67.750\n",
      "Validation Accuracy |  31.25  PPV |  [0.71428571 0.        ]  Recall |  [0.35714286 0.        ]\n",
      "Training Epoch 018: | Loss: 0.56539 | Acc: 69.625\n",
      "Validation Accuracy |  62.5  PPV |  [0.83333333 0.        ]  Recall |  [0.71428571 0.        ]\n",
      "Training Epoch 019: | Loss: 0.55268 | Acc: 73.125\n",
      "Validation Accuracy |  31.25  PPV |  [0.71428571 0.        ]  Recall |  [0.35714286 0.        ]\n",
      "Training Epoch 020: | Loss: 0.56411 | Acc: 72.875\n",
      "Validation Accuracy |  31.25  PPV |  [0.71428571 0.        ]  Recall |  [0.35714286 0.        ]\n",
      "Training Epoch 021: | Loss: 0.54635 | Acc: 73.000\n",
      "Validation Accuracy |  31.25  PPV |  [0.71428571 0.        ]  Recall |  [0.35714286 0.        ]\n",
      "Training Epoch 022: | Loss: 0.53486 | Acc: 74.250\n",
      "Validation Accuracy |  62.5  PPV |  [0.83333333 0.        ]  Recall |  [0.71428571 0.        ]\n",
      "Training Epoch 023: | Loss: 0.51128 | Acc: 78.750\n",
      "Validation Accuracy |  31.25  PPV |  [0.71428571 0.        ]  Recall |  [0.35714286 0.        ]\n",
      "Training Epoch 024: | Loss: 0.51648 | Acc: 76.375\n",
      "Validation Accuracy |  68.75  PPV |  [0.84615385 0.        ]  Recall |  [0.78571429 0.        ]\n",
      "Training Epoch 025: | Loss: 0.51849 | Acc: 77.375\n",
      "Validation Accuracy |  56.25  PPV |  [0.81818182 0.        ]  Recall |  [0.64285714 0.        ]\n"
     ]
    }
   ],
   "source": [
    "#model.train() tells PyTorch that you’re in training mode.\n",
    "#Similarly, we’ll call model.eval() when we test our model. We’ll see that below.\n",
    "'''If you’re using layers such as Dropout or BatchNorm which behave differently during training and evaluation, \n",
    "you need to tell PyTorch to act accordingly. While the default mode in PyTorch is the train, \n",
    "so, you don’t explicitly have to write that. But it’s good practice.'''\n",
    "val_acc3 = []\n",
    "train_acc3 = []\n",
    "train_loss3 = []\n",
    "val_loss3 = []\n",
    "\n",
    "model3.train() #Initial training mode\n",
    "for e in range(1, EPOCHS+1):\n",
    "    epoch_loss = 0\n",
    "    epoch_acc = 0\n",
    "    for X_batch, y_batch in train_loader3:\n",
    "        X_batch, y_batch = X_batch.to(device), y_batch.to(device)\n",
    "        optimizer3.zero_grad()\n",
    "        \n",
    "        y_pred = model3(X_batch)\n",
    "        \n",
    "        loss = criterion(y_pred, y_batch)\n",
    "        acc = binary_acc(y_pred, y_batch)\n",
    "        \n",
    "        loss.backward()\n",
    "        optimizer3.step()\n",
    "        \n",
    "        epoch_loss += loss.item()\n",
    "        epoch_acc += acc.item()\n",
    "    \n",
    "    train_acc3.append(epoch_acc/len(train_loader3))\n",
    "    train_loss3.append(epoch_loss/len(train_loader3))\n",
    "    print(f'Training Epoch {e+0:03}: | Loss: {epoch_loss/len(train_loader3):.5f} | Acc: {epoch_acc/len(train_loader3):.3f}')\n",
    "    #Validation metrics here\n",
    "    model3.eval()\n",
    "    #print(\"Evaluation mode\")\n",
    "    y_pred_list = []\n",
    "    test_loader3 = DataLoader(dataset=test_data3, batch_size=test_size)\n",
    "    with torch.no_grad():\n",
    "        counter = 0\n",
    "        for X_batch in test_loader3:\n",
    "            X_batch = X_batch.to(device)\n",
    "            y_test_pred = model3(X_batch)\n",
    "            y_test_pred = torch.sigmoid(y_test_pred)\n",
    "            y_pred_tag = torch.round(y_test_pred)\n",
    "            y_pred_list.append(y_pred_tag.cpu().numpy())\n",
    "            loss = criterion(y_test_pred,torch.FloatTensor(testing_fold_Y_3))\n",
    "            val_loss3.append(loss)\n",
    "            counter+=1\n",
    "            \n",
    "    y_pred_list = []\n",
    "    test_loader3 = DataLoader(dataset=test_data3, batch_size=1)\n",
    "    with torch.no_grad():\n",
    "        for X_batch in test_loader3:\n",
    "            X_batch = X_batch.to(device)\n",
    "            y_test_pred = model3(X_batch)\n",
    "            y_test_pred = torch.sigmoid(y_test_pred)\n",
    "            y_pred_tag = torch.round(y_test_pred)\n",
    "            y_pred_list.append(y_pred_tag.cpu().numpy())\n",
    "            \n",
    "    y_pred_list = [a.squeeze().tolist() for a in y_pred_list]\n",
    "    y_loss_df = pd.DataFrame(y_pred_list)\n",
    "    accuracy = accuracy_score(torch.FloatTensor(testing_fold_Y_3), y_pred_list)\n",
    "    ppv = precision_score(testing_fold_Y_3, y_pred_list, average=None)\n",
    "    recall = recall_score(testing_fold_Y_3, y_pred_list, average=None)\n",
    "    print(\"Validation Accuracy | \",accuracy*100,\" PPV | \",ppv,\" Recall | \",recall)\n",
    "    val_acc3.append(accuracy*100)\n",
    "    model3.train()\n",
    "    #print(\"Return to training mode\")\n",
    "    \n",
    "    #Need to get validation loss."
   ]
  },
  {
   "cell_type": "code",
   "execution_count": 19,
   "id": "aging-azerbaijan",
   "metadata": {},
   "outputs": [
    {
     "name": "stdout",
     "output_type": "stream",
     "text": [
      "Training Epoch 001: | Loss: 1.37882 | Acc: 46.125\n",
      "Validation Accuracy |  87.5  PPV |  [0.875 0.   ]  Recall |  [1. 0.]\n",
      "Training Epoch 002: | Loss: 0.90469 | Acc: 55.500\n",
      "Validation Accuracy |  87.5  PPV |  [0.875 0.   ]  Recall |  [1. 0.]\n"
     ]
    },
    {
     "name": "stderr",
     "output_type": "stream",
     "text": [
      "C:\\Users\\mattbeze\\Anaconda3\\envs\\pytorch\\lib\\site-packages\\sklearn\\metrics\\_classification.py:1245: UndefinedMetricWarning: Precision is ill-defined and being set to 0.0 in labels with no predicted samples. Use `zero_division` parameter to control this behavior.\n",
      "  _warn_prf(average, modifier, msg_start, len(result))\n",
      "C:\\Users\\mattbeze\\Anaconda3\\envs\\pytorch\\lib\\site-packages\\sklearn\\metrics\\_classification.py:1245: UndefinedMetricWarning: Precision is ill-defined and being set to 0.0 in labels with no predicted samples. Use `zero_division` parameter to control this behavior.\n",
      "  _warn_prf(average, modifier, msg_start, len(result))\n"
     ]
    },
    {
     "name": "stdout",
     "output_type": "stream",
     "text": [
      "Training Epoch 003: | Loss: 0.81523 | Acc: 56.875\n",
      "Validation Accuracy |  87.5  PPV |  [0.875 0.   ]  Recall |  [1. 0.]\n",
      "Training Epoch 004: | Loss: 0.73028 | Acc: 54.875\n",
      "Validation Accuracy |  87.5  PPV |  [0.875 0.   ]  Recall |  [1. 0.]\n",
      "Training Epoch 005: | Loss: 0.71797 | Acc: 51.750\n",
      "Validation Accuracy |  81.25  PPV |  [0.92307692 0.33333333]  Recall |  [0.85714286 0.5       ]\n"
     ]
    },
    {
     "name": "stderr",
     "output_type": "stream",
     "text": [
      "C:\\Users\\mattbeze\\Anaconda3\\envs\\pytorch\\lib\\site-packages\\sklearn\\metrics\\_classification.py:1245: UndefinedMetricWarning: Precision is ill-defined and being set to 0.0 in labels with no predicted samples. Use `zero_division` parameter to control this behavior.\n",
      "  _warn_prf(average, modifier, msg_start, len(result))\n",
      "C:\\Users\\mattbeze\\Anaconda3\\envs\\pytorch\\lib\\site-packages\\sklearn\\metrics\\_classification.py:1245: UndefinedMetricWarning: Precision is ill-defined and being set to 0.0 in labels with no predicted samples. Use `zero_division` parameter to control this behavior.\n",
      "  _warn_prf(average, modifier, msg_start, len(result))\n"
     ]
    },
    {
     "name": "stdout",
     "output_type": "stream",
     "text": [
      "Training Epoch 006: | Loss: 0.68806 | Acc: 52.000\n",
      "Validation Accuracy |  68.75  PPV |  [0.90909091 0.2       ]  Recall |  [0.71428571 0.5       ]\n",
      "Training Epoch 007: | Loss: 0.66901 | Acc: 54.250\n",
      "Validation Accuracy |  81.25  PPV |  [0.92307692 0.33333333]  Recall |  [0.85714286 0.5       ]\n",
      "Training Epoch 008: | Loss: 0.66373 | Acc: 55.875\n",
      "Validation Accuracy |  81.25  PPV |  [0.92307692 0.33333333]  Recall |  [0.85714286 0.5       ]\n",
      "Training Epoch 009: | Loss: 0.65485 | Acc: 52.625\n",
      "Validation Accuracy |  81.25  PPV |  [0.92307692 0.33333333]  Recall |  [0.85714286 0.5       ]\n",
      "Training Epoch 010: | Loss: 0.60650 | Acc: 62.625\n",
      "Validation Accuracy |  81.25  PPV |  [0.92307692 0.33333333]  Recall |  [0.85714286 0.5       ]\n",
      "Training Epoch 011: | Loss: 0.65461 | Acc: 56.375\n",
      "Validation Accuracy |  93.75  PPV |  [0.93333333 1.        ]  Recall |  [1.  0.5]\n",
      "Training Epoch 012: | Loss: 0.63298 | Acc: 55.000\n",
      "Validation Accuracy |  81.25  PPV |  [0.92307692 0.33333333]  Recall |  [0.85714286 0.5       ]\n",
      "Training Epoch 013: | Loss: 0.63111 | Acc: 57.500\n",
      "Validation Accuracy |  87.5  PPV |  [0.875 0.   ]  Recall |  [1. 0.]\n",
      "Training Epoch 014: | Loss: 0.62902 | Acc: 61.750\n",
      "Validation Accuracy |  87.5  PPV |  [0.875 0.   ]  Recall |  [1. 0.]\n"
     ]
    },
    {
     "name": "stderr",
     "output_type": "stream",
     "text": [
      "C:\\Users\\mattbeze\\Anaconda3\\envs\\pytorch\\lib\\site-packages\\sklearn\\metrics\\_classification.py:1245: UndefinedMetricWarning: Precision is ill-defined and being set to 0.0 in labels with no predicted samples. Use `zero_division` parameter to control this behavior.\n",
      "  _warn_prf(average, modifier, msg_start, len(result))\n",
      "C:\\Users\\mattbeze\\Anaconda3\\envs\\pytorch\\lib\\site-packages\\sklearn\\metrics\\_classification.py:1245: UndefinedMetricWarning: Precision is ill-defined and being set to 0.0 in labels with no predicted samples. Use `zero_division` parameter to control this behavior.\n",
      "  _warn_prf(average, modifier, msg_start, len(result))\n"
     ]
    },
    {
     "name": "stdout",
     "output_type": "stream",
     "text": [
      "Training Epoch 015: | Loss: 0.60192 | Acc: 61.000\n",
      "Validation Accuracy |  93.75  PPV |  [0.93333333 1.        ]  Recall |  [1.  0.5]\n",
      "Training Epoch 016: | Loss: 0.59422 | Acc: 65.250\n",
      "Validation Accuracy |  87.5  PPV |  [0.875 0.   ]  Recall |  [1. 0.]\n",
      "Training Epoch 017: | Loss: 0.59692 | Acc: 66.125\n"
     ]
    },
    {
     "name": "stderr",
     "output_type": "stream",
     "text": [
      "C:\\Users\\mattbeze\\Anaconda3\\envs\\pytorch\\lib\\site-packages\\sklearn\\metrics\\_classification.py:1245: UndefinedMetricWarning: Precision is ill-defined and being set to 0.0 in labels with no predicted samples. Use `zero_division` parameter to control this behavior.\n",
      "  _warn_prf(average, modifier, msg_start, len(result))\n",
      "C:\\Users\\mattbeze\\Anaconda3\\envs\\pytorch\\lib\\site-packages\\sklearn\\metrics\\_classification.py:1245: UndefinedMetricWarning: Precision is ill-defined and being set to 0.0 in labels with no predicted samples. Use `zero_division` parameter to control this behavior.\n",
      "  _warn_prf(average, modifier, msg_start, len(result))\n"
     ]
    },
    {
     "name": "stdout",
     "output_type": "stream",
     "text": [
      "Validation Accuracy |  87.5  PPV |  [0.875 0.   ]  Recall |  [1. 0.]\n",
      "Training Epoch 018: | Loss: 0.59869 | Acc: 64.250\n",
      "Validation Accuracy |  87.5  PPV |  [0.875 0.   ]  Recall |  [1. 0.]\n"
     ]
    },
    {
     "name": "stderr",
     "output_type": "stream",
     "text": [
      "C:\\Users\\mattbeze\\Anaconda3\\envs\\pytorch\\lib\\site-packages\\sklearn\\metrics\\_classification.py:1245: UndefinedMetricWarning: Precision is ill-defined and being set to 0.0 in labels with no predicted samples. Use `zero_division` parameter to control this behavior.\n",
      "  _warn_prf(average, modifier, msg_start, len(result))\n"
     ]
    },
    {
     "name": "stdout",
     "output_type": "stream",
     "text": [
      "Training Epoch 019: | Loss: 0.56786 | Acc: 68.500\n",
      "Validation Accuracy |  87.5  PPV |  [0.875 0.   ]  Recall |  [1. 0.]\n"
     ]
    },
    {
     "name": "stderr",
     "output_type": "stream",
     "text": [
      "C:\\Users\\mattbeze\\Anaconda3\\envs\\pytorch\\lib\\site-packages\\sklearn\\metrics\\_classification.py:1245: UndefinedMetricWarning: Precision is ill-defined and being set to 0.0 in labels with no predicted samples. Use `zero_division` parameter to control this behavior.\n",
      "  _warn_prf(average, modifier, msg_start, len(result))\n"
     ]
    },
    {
     "name": "stdout",
     "output_type": "stream",
     "text": [
      "Training Epoch 020: | Loss: 0.57122 | Acc: 69.875\n",
      "Validation Accuracy |  81.25  PPV |  [0.86666667 0.        ]  Recall |  [0.92857143 0.        ]\n",
      "Training Epoch 021: | Loss: 0.57757 | Acc: 71.500\n",
      "Validation Accuracy |  87.5  PPV |  [0.875 0.   ]  Recall |  [1. 0.]\n"
     ]
    },
    {
     "name": "stderr",
     "output_type": "stream",
     "text": [
      "C:\\Users\\mattbeze\\Anaconda3\\envs\\pytorch\\lib\\site-packages\\sklearn\\metrics\\_classification.py:1245: UndefinedMetricWarning: Precision is ill-defined and being set to 0.0 in labels with no predicted samples. Use `zero_division` parameter to control this behavior.\n",
      "  _warn_prf(average, modifier, msg_start, len(result))\n",
      "C:\\Users\\mattbeze\\Anaconda3\\envs\\pytorch\\lib\\site-packages\\sklearn\\metrics\\_classification.py:1245: UndefinedMetricWarning: Precision is ill-defined and being set to 0.0 in labels with no predicted samples. Use `zero_division` parameter to control this behavior.\n",
      "  _warn_prf(average, modifier, msg_start, len(result))\n"
     ]
    },
    {
     "name": "stdout",
     "output_type": "stream",
     "text": [
      "Training Epoch 022: | Loss: 0.56048 | Acc: 71.625\n",
      "Validation Accuracy |  87.5  PPV |  [0.875 0.   ]  Recall |  [1. 0.]\n",
      "Training Epoch 023: | Loss: 0.53778 | Acc: 72.750\n",
      "Validation Accuracy |  87.5  PPV |  [0.875 0.   ]  Recall |  [1. 0.]\n"
     ]
    },
    {
     "name": "stderr",
     "output_type": "stream",
     "text": [
      "C:\\Users\\mattbeze\\Anaconda3\\envs\\pytorch\\lib\\site-packages\\sklearn\\metrics\\_classification.py:1245: UndefinedMetricWarning: Precision is ill-defined and being set to 0.0 in labels with no predicted samples. Use `zero_division` parameter to control this behavior.\n",
      "  _warn_prf(average, modifier, msg_start, len(result))\n",
      "C:\\Users\\mattbeze\\Anaconda3\\envs\\pytorch\\lib\\site-packages\\sklearn\\metrics\\_classification.py:1245: UndefinedMetricWarning: Precision is ill-defined and being set to 0.0 in labels with no predicted samples. Use `zero_division` parameter to control this behavior.\n",
      "  _warn_prf(average, modifier, msg_start, len(result))\n"
     ]
    },
    {
     "name": "stdout",
     "output_type": "stream",
     "text": [
      "Training Epoch 024: | Loss: 0.54448 | Acc: 69.875\n",
      "Validation Accuracy |  87.5  PPV |  [0.875 0.   ]  Recall |  [1. 0.]\n",
      "Training Epoch 025: | Loss: 0.53505 | Acc: 73.500\n",
      "Validation Accuracy |  87.5  PPV |  [0.875 0.   ]  Recall |  [1. 0.]\n"
     ]
    },
    {
     "name": "stderr",
     "output_type": "stream",
     "text": [
      "C:\\Users\\mattbeze\\Anaconda3\\envs\\pytorch\\lib\\site-packages\\sklearn\\metrics\\_classification.py:1245: UndefinedMetricWarning: Precision is ill-defined and being set to 0.0 in labels with no predicted samples. Use `zero_division` parameter to control this behavior.\n",
      "  _warn_prf(average, modifier, msg_start, len(result))\n"
     ]
    }
   ],
   "source": [
    "#model.train() tells PyTorch that you’re in training mode.\n",
    "#Similarly, we’ll call model.eval() when we test our model. We’ll see that below.\n",
    "'''If you’re using layers such as Dropout or BatchNorm which behave differently during training and evaluation, \n",
    "you need to tell PyTorch to act accordingly. While the default mode in PyTorch is the train, \n",
    "so, you don’t explicitly have to write that. But it’s good practice.'''\n",
    "val_acc4 = []\n",
    "train_acc4 = []\n",
    "train_loss4 = []\n",
    "val_loss4 = []\n",
    "\n",
    "model4.train() #Initial training mode\n",
    "for e in range(1, EPOCHS+1):\n",
    "    epoch_loss = 0\n",
    "    epoch_acc = 0\n",
    "    for X_batch, y_batch in train_loader4:\n",
    "        X_batch, y_batch = X_batch.to(device), y_batch.to(device)\n",
    "        optimizer4.zero_grad()\n",
    "        \n",
    "        y_pred = model4(X_batch)\n",
    "        \n",
    "        loss = criterion(y_pred, y_batch)\n",
    "        acc = binary_acc(y_pred, y_batch)\n",
    "        \n",
    "        loss.backward()\n",
    "        optimizer4.step()\n",
    "        \n",
    "        epoch_loss += loss.item()\n",
    "        epoch_acc += acc.item()\n",
    "    \n",
    "    train_acc4.append(epoch_acc/len(train_loader4))\n",
    "    train_loss4.append(epoch_loss/len(train_loader4))\n",
    "    print(f'Training Epoch {e+0:03}: | Loss: {epoch_loss/len(train_loader4):.5f} | Acc: {epoch_acc/len(train_loader4):.3f}')\n",
    "    #Validation metrics here\n",
    "    model4.eval()\n",
    "    #print(\"Evaluation mode\")\n",
    "    y_pred_list = []\n",
    "    test_loader4 = DataLoader(dataset=test_data4, batch_size=test_size1)\n",
    "    with torch.no_grad():\n",
    "        counter = 0\n",
    "        for X_batch in test_loader4:\n",
    "            X_batch = X_batch.to(device)\n",
    "            y_test_pred = model4(X_batch)\n",
    "            y_test_pred = torch.sigmoid(y_test_pred)\n",
    "            y_pred_tag = torch.round(y_test_pred)\n",
    "            y_pred_list.append(y_pred_tag.cpu().numpy())\n",
    "            loss = criterion(y_test_pred,torch.FloatTensor(testing_fold_Y_4))\n",
    "            val_loss4.append(loss)\n",
    "            counter+=1\n",
    "            \n",
    "    y_pred_list = []\n",
    "    test_loader4 = DataLoader(dataset=test_data4, batch_size=1)\n",
    "    with torch.no_grad():\n",
    "        for X_batch in test_loader4:\n",
    "            X_batch = X_batch.to(device)\n",
    "            y_test_pred = model4(X_batch)\n",
    "            y_test_pred = torch.sigmoid(y_test_pred)\n",
    "            y_pred_tag = torch.round(y_test_pred)\n",
    "            y_pred_list.append(y_pred_tag.cpu().numpy())\n",
    "            \n",
    "    y_pred_list = [a.squeeze().tolist() for a in y_pred_list]\n",
    "    y_loss_df = pd.DataFrame(y_pred_list)\n",
    "    accuracy = accuracy_score(torch.FloatTensor(testing_fold_Y_4), y_pred_list)\n",
    "    ppv = precision_score(testing_fold_Y_4, y_pred_list, average=None)\n",
    "    recall = recall_score(testing_fold_Y_4, y_pred_list, average=None)\n",
    "    print(\"Validation Accuracy | \",accuracy*100,\" PPV | \",ppv,\" Recall | \",recall)\n",
    "    val_acc4.append(accuracy*100)\n",
    "    model4.train()\n",
    "    #print(\"Return to training mode\")\n",
    "    \n",
    "    #Need to get validation loss."
   ]
  },
  {
   "cell_type": "code",
   "execution_count": 20,
   "id": "joined-license",
   "metadata": {},
   "outputs": [
    {
     "name": "stderr",
     "output_type": "stream",
     "text": [
      "C:\\Users\\mattbeze\\Anaconda3\\envs\\pytorch\\lib\\site-packages\\sklearn\\metrics\\_classification.py:1245: UndefinedMetricWarning: Precision is ill-defined and being set to 0.0 in labels with no predicted samples. Use `zero_division` parameter to control this behavior.\n",
      "  _warn_prf(average, modifier, msg_start, len(result))\n"
     ]
    },
    {
     "name": "stdout",
     "output_type": "stream",
     "text": [
      "Training Epoch 001: | Loss: 1.41223 | Acc: 45.250\n",
      "Validation Accuracy |  87.5  PPV |  [0.875 0.   ]  Recall |  [1. 0.]\n",
      "Training Epoch 002: | Loss: 0.91507 | Acc: 54.125\n",
      "Validation Accuracy |  87.5  PPV |  [0.875 0.   ]  Recall |  [1. 0.]\n",
      "Training Epoch 003: | Loss: 0.78822 | Acc: 57.000\n"
     ]
    },
    {
     "name": "stderr",
     "output_type": "stream",
     "text": [
      "C:\\Users\\mattbeze\\Anaconda3\\envs\\pytorch\\lib\\site-packages\\sklearn\\metrics\\_classification.py:1245: UndefinedMetricWarning: Precision is ill-defined and being set to 0.0 in labels with no predicted samples. Use `zero_division` parameter to control this behavior.\n",
      "  _warn_prf(average, modifier, msg_start, len(result))\n",
      "C:\\Users\\mattbeze\\Anaconda3\\envs\\pytorch\\lib\\site-packages\\sklearn\\metrics\\_classification.py:1245: UndefinedMetricWarning: Precision is ill-defined and being set to 0.0 in labels with no predicted samples. Use `zero_division` parameter to control this behavior.\n",
      "  _warn_prf(average, modifier, msg_start, len(result))\n",
      "C:\\Users\\mattbeze\\Anaconda3\\envs\\pytorch\\lib\\site-packages\\sklearn\\metrics\\_classification.py:1245: UndefinedMetricWarning: Precision is ill-defined and being set to 0.0 in labels with no predicted samples. Use `zero_division` parameter to control this behavior.\n",
      "  _warn_prf(average, modifier, msg_start, len(result))\n"
     ]
    },
    {
     "name": "stdout",
     "output_type": "stream",
     "text": [
      "Validation Accuracy |  87.5  PPV |  [0.875 0.   ]  Recall |  [1. 0.]\n",
      "Training Epoch 004: | Loss: 0.71899 | Acc: 53.375\n",
      "Validation Accuracy |  87.5  PPV |  [0.875 0.   ]  Recall |  [1. 0.]\n",
      "Training Epoch 005: | Loss: 0.71543 | Acc: 51.625\n",
      "Validation Accuracy |  75.0  PPV |  [0.91666667 0.25      ]  Recall |  [0.78571429 0.5       ]\n",
      "Training Epoch 006: | Loss: 0.66866 | Acc: 49.000\n",
      "Validation Accuracy |  37.5  PPV |  [0.83333333 0.1       ]  Recall |  [0.35714286 0.5       ]\n",
      "Training Epoch 007: | Loss: 0.67730 | Acc: 49.500\n",
      "Validation Accuracy |  37.5  PPV |  [0.83333333 0.1       ]  Recall |  [0.35714286 0.5       ]\n",
      "Training Epoch 008: | Loss: 0.64984 | Acc: 57.750\n",
      "Validation Accuracy |  56.25  PPV |  [0.88888889 0.14285714]  Recall |  [0.57142857 0.5       ]\n",
      "Training Epoch 009: | Loss: 0.65836 | Acc: 58.250\n",
      "Validation Accuracy |  62.5  PPV |  [0.9        0.16666667]  Recall |  [0.64285714 0.5       ]\n",
      "Training Epoch 010: | Loss: 0.65719 | Acc: 57.000\n",
      "Validation Accuracy |  68.75  PPV |  [0.90909091 0.2       ]  Recall |  [0.71428571 0.5       ]\n",
      "Training Epoch 011: | Loss: 0.62191 | Acc: 59.625\n",
      "Validation Accuracy |  68.75  PPV |  [0.90909091 0.2       ]  Recall |  [0.71428571 0.5       ]\n",
      "Training Epoch 012: | Loss: 0.66190 | Acc: 52.750\n",
      "Validation Accuracy |  68.75  PPV |  [0.90909091 0.2       ]  Recall |  [0.71428571 0.5       ]\n",
      "Training Epoch 013: | Loss: 0.62544 | Acc: 64.000\n",
      "Validation Accuracy |  75.0  PPV |  [0.91666667 0.25      ]  Recall |  [0.78571429 0.5       ]\n",
      "Training Epoch 014: | Loss: 0.62176 | Acc: 60.875\n",
      "Validation Accuracy |  75.0  PPV |  [0.91666667 0.25      ]  Recall |  [0.78571429 0.5       ]\n",
      "Training Epoch 015: | Loss: 0.61636 | Acc: 64.250\n",
      "Validation Accuracy |  75.0  PPV |  [0.91666667 0.25      ]  Recall |  [0.78571429 0.5       ]\n",
      "Training Epoch 016: | Loss: 0.62394 | Acc: 61.375\n",
      "Validation Accuracy |  75.0  PPV |  [0.91666667 0.25      ]  Recall |  [0.78571429 0.5       ]\n",
      "Training Epoch 017: | Loss: 0.62083 | Acc: 61.000\n",
      "Validation Accuracy |  75.0  PPV |  [0.91666667 0.25      ]  Recall |  [0.78571429 0.5       ]\n",
      "Training Epoch 018: | Loss: 0.60493 | Acc: 64.750\n",
      "Validation Accuracy |  75.0  PPV |  [0.91666667 0.25      ]  Recall |  [0.78571429 0.5       ]\n",
      "Training Epoch 019: | Loss: 0.60331 | Acc: 66.125\n",
      "Validation Accuracy |  75.0  PPV |  [0.91666667 0.25      ]  Recall |  [0.78571429 0.5       ]\n",
      "Training Epoch 020: | Loss: 0.61245 | Acc: 62.500\n",
      "Validation Accuracy |  75.0  PPV |  [1.         0.33333333]  Recall |  [0.71428571 1.        ]\n",
      "Training Epoch 021: | Loss: 0.59958 | Acc: 60.500\n",
      "Validation Accuracy |  68.75  PPV |  [0.84615385 0.        ]  Recall |  [0.78571429 0.        ]\n",
      "Training Epoch 022: | Loss: 0.59643 | Acc: 64.875\n",
      "Validation Accuracy |  75.0  PPV |  [1.         0.33333333]  Recall |  [0.71428571 1.        ]\n",
      "Training Epoch 023: | Loss: 0.55205 | Acc: 72.500\n",
      "Validation Accuracy |  75.0  PPV |  [1.         0.33333333]  Recall |  [0.71428571 1.        ]\n",
      "Training Epoch 024: | Loss: 0.56193 | Acc: 71.500\n",
      "Validation Accuracy |  75.0  PPV |  [1.         0.33333333]  Recall |  [0.71428571 1.        ]\n",
      "Training Epoch 025: | Loss: 0.56628 | Acc: 71.625\n",
      "Validation Accuracy |  81.25  PPV |  [1.  0.4]  Recall |  [0.78571429 1.        ]\n"
     ]
    }
   ],
   "source": [
    "#model.train() tells PyTorch that you’re in training mode.\n",
    "#Similarly, we’ll call model.eval() when we test our model. We’ll see that below.\n",
    "'''If you’re using layers such as Dropout or BatchNorm which behave differently during training and evaluation, \n",
    "you need to tell PyTorch to act accordingly. While the default mode in PyTorch is the train, \n",
    "so, you don’t explicitly have to write that. But it’s good practice.'''\n",
    "val_acc5 = []\n",
    "train_acc5 = []\n",
    "train_loss5 = []\n",
    "val_loss5 = []\n",
    "\n",
    "model5.train() #Initial training mode\n",
    "for e in range(1, EPOCHS+1):\n",
    "    epoch_loss = 0\n",
    "    epoch_acc = 0\n",
    "    for X_batch, y_batch in train_loader5:\n",
    "        X_batch, y_batch = X_batch.to(device), y_batch.to(device)\n",
    "        optimizer5.zero_grad()\n",
    "        \n",
    "        y_pred = model5(X_batch)\n",
    "        \n",
    "        loss = criterion(y_pred, y_batch)\n",
    "        acc = binary_acc(y_pred, y_batch)\n",
    "        \n",
    "        loss.backward()\n",
    "        optimizer5.step()\n",
    "        \n",
    "        epoch_loss += loss.item()\n",
    "        epoch_acc += acc.item()\n",
    "    \n",
    "    train_acc5.append(epoch_acc/len(train_loader5))\n",
    "    train_loss5.append(epoch_loss/len(train_loader5))\n",
    "    print(f'Training Epoch {e+0:03}: | Loss: {epoch_loss/len(train_loader5):.5f} | Acc: {epoch_acc/len(train_loader5):.3f}')\n",
    "    #Validation metrics here\n",
    "    model5.eval()\n",
    "    #print(\"Evaluation mode\")\n",
    "    y_pred_list = []\n",
    "    test_loader5 = DataLoader(dataset=test_data5, batch_size=test_size1)\n",
    "    with torch.no_grad():\n",
    "        counter = 0\n",
    "        for X_batch in test_loader5:\n",
    "            X_batch = X_batch.to(device)\n",
    "            y_test_pred = model5(X_batch)\n",
    "            y_test_pred = torch.sigmoid(y_test_pred)\n",
    "            y_pred_tag = torch.round(y_test_pred)\n",
    "            y_pred_list.append(y_pred_tag.cpu().numpy())\n",
    "            loss = criterion(y_test_pred,torch.FloatTensor(testing_fold_Y_5))\n",
    "            val_loss5.append(loss)\n",
    "            counter+=1\n",
    "            \n",
    "    y_pred_list = []\n",
    "    test_loader5 = DataLoader(dataset=test_data5, batch_size=1)\n",
    "    with torch.no_grad():\n",
    "        for X_batch in test_loader5:\n",
    "            X_batch = X_batch.to(device)\n",
    "            y_test_pred = model5(X_batch)\n",
    "            y_test_pred = torch.sigmoid(y_test_pred)\n",
    "            y_pred_tag = torch.round(y_test_pred)\n",
    "            y_pred_list.append(y_pred_tag.cpu().numpy())\n",
    "            \n",
    "    y_pred_list = [a.squeeze().tolist() for a in y_pred_list]\n",
    "    y_loss_df = pd.DataFrame(y_pred_list)\n",
    "    accuracy = accuracy_score(torch.FloatTensor(testing_fold_Y_5), y_pred_list)\n",
    "    ppv = precision_score(testing_fold_Y_5, y_pred_list, average=None)\n",
    "    recall = recall_score(testing_fold_Y_5, y_pred_list, average=None)\n",
    "    print(\"Validation Accuracy | \",accuracy*100,\" PPV | \",ppv,\" Recall | \",recall)\n",
    "    val_acc5.append(accuracy*100)\n",
    "    model5.train()\n",
    "    #print(\"Return to training mode\")\n",
    "    \n",
    "    #Need to get validation loss."
   ]
  },
  {
   "cell_type": "code",
   "execution_count": 21,
   "id": "silver-authentication",
   "metadata": {},
   "outputs": [
    {
     "name": "stdout",
     "output_type": "stream",
     "text": [
      "Training Epoch 001: | Loss: 1.41240 | Acc: 44.125\n",
      "Validation Accuracy |  87.5  PPV |  [0.875 0.   ]  Recall |  [1. 0.]\n",
      "Training Epoch 002: | Loss: 0.92402 | Acc: 53.875\n",
      "Validation Accuracy |  87.5  PPV |  [0.875 0.   ]  Recall |  [1. 0.]\n",
      "Training Epoch 003: | Loss: 0.77049 | Acc: 56.750\n"
     ]
    },
    {
     "name": "stderr",
     "output_type": "stream",
     "text": [
      "C:\\Users\\mattbeze\\Anaconda3\\envs\\pytorch\\lib\\site-packages\\sklearn\\metrics\\_classification.py:1245: UndefinedMetricWarning: Precision is ill-defined and being set to 0.0 in labels with no predicted samples. Use `zero_division` parameter to control this behavior.\n",
      "  _warn_prf(average, modifier, msg_start, len(result))\n",
      "C:\\Users\\mattbeze\\Anaconda3\\envs\\pytorch\\lib\\site-packages\\sklearn\\metrics\\_classification.py:1245: UndefinedMetricWarning: Precision is ill-defined and being set to 0.0 in labels with no predicted samples. Use `zero_division` parameter to control this behavior.\n",
      "  _warn_prf(average, modifier, msg_start, len(result))\n",
      "C:\\Users\\mattbeze\\Anaconda3\\envs\\pytorch\\lib\\site-packages\\sklearn\\metrics\\_classification.py:1245: UndefinedMetricWarning: Precision is ill-defined and being set to 0.0 in labels with no predicted samples. Use `zero_division` parameter to control this behavior.\n",
      "  _warn_prf(average, modifier, msg_start, len(result))\n"
     ]
    },
    {
     "name": "stdout",
     "output_type": "stream",
     "text": [
      "Validation Accuracy |  87.5  PPV |  [0.875 0.   ]  Recall |  [1. 0.]\n",
      "Training Epoch 004: | Loss: 0.71472 | Acc: 53.500\n",
      "Validation Accuracy |  81.25  PPV |  [0.86666667 0.        ]  Recall |  [0.92857143 0.        ]\n",
      "Training Epoch 005: | Loss: 0.68950 | Acc: 50.000\n",
      "Validation Accuracy |  62.5  PPV |  [0.83333333 0.        ]  Recall |  [0.71428571 0.        ]\n",
      "Training Epoch 006: | Loss: 0.65562 | Acc: 56.125\n",
      "Validation Accuracy |  68.75  PPV |  [0.84615385 0.        ]  Recall |  [0.78571429 0.        ]\n",
      "Training Epoch 007: | Loss: 0.65363 | Acc: 56.125\n",
      "Validation Accuracy |  62.5  PPV |  [0.83333333 0.        ]  Recall |  [0.71428571 0.        ]\n",
      "Training Epoch 008: | Loss: 0.67318 | Acc: 54.875\n",
      "Validation Accuracy |  31.25  PPV |  [0.71428571 0.        ]  Recall |  [0.35714286 0.        ]\n",
      "Training Epoch 009: | Loss: 0.64243 | Acc: 56.250\n",
      "Validation Accuracy |  43.75  PPV |  [0.77777778 0.        ]  Recall |  [0.5 0. ]\n",
      "Training Epoch 010: | Loss: 0.63651 | Acc: 54.375\n",
      "Validation Accuracy |  50.0  PPV |  [0.8 0. ]  Recall |  [0.57142857 0.        ]\n",
      "Training Epoch 011: | Loss: 0.62703 | Acc: 59.750\n",
      "Validation Accuracy |  50.0  PPV |  [0.8 0. ]  Recall |  [0.57142857 0.        ]\n",
      "Training Epoch 012: | Loss: 0.62979 | Acc: 60.625\n",
      "Validation Accuracy |  50.0  PPV |  [0.8 0. ]  Recall |  [0.57142857 0.        ]\n",
      "Training Epoch 013: | Loss: 0.60503 | Acc: 62.250\n",
      "Validation Accuracy |  68.75  PPV |  [0.84615385 0.        ]  Recall |  [0.78571429 0.        ]\n",
      "Training Epoch 014: | Loss: 0.61703 | Acc: 60.250\n",
      "Validation Accuracy |  56.25  PPV |  [0.81818182 0.        ]  Recall |  [0.64285714 0.        ]\n",
      "Training Epoch 015: | Loss: 0.62311 | Acc: 59.750\n",
      "Validation Accuracy |  43.75  PPV |  [0.77777778 0.        ]  Recall |  [0.5 0. ]\n",
      "Training Epoch 016: | Loss: 0.63977 | Acc: 62.125\n",
      "Validation Accuracy |  68.75  PPV |  [0.84615385 0.        ]  Recall |  [0.78571429 0.        ]\n",
      "Training Epoch 017: | Loss: 0.60702 | Acc: 64.000\n",
      "Validation Accuracy |  56.25  PPV |  [0.81818182 0.        ]  Recall |  [0.64285714 0.        ]\n",
      "Training Epoch 018: | Loss: 0.62569 | Acc: 63.750\n",
      "Validation Accuracy |  56.25  PPV |  [0.81818182 0.        ]  Recall |  [0.64285714 0.        ]\n",
      "Training Epoch 019: | Loss: 0.60469 | Acc: 60.875\n",
      "Validation Accuracy |  62.5  PPV |  [0.83333333 0.        ]  Recall |  [0.71428571 0.        ]\n",
      "Training Epoch 020: | Loss: 0.57367 | Acc: 70.250\n",
      "Validation Accuracy |  68.75  PPV |  [0.84615385 0.        ]  Recall |  [0.78571429 0.        ]\n",
      "Training Epoch 021: | Loss: 0.59568 | Acc: 64.375\n",
      "Validation Accuracy |  56.25  PPV |  [0.81818182 0.        ]  Recall |  [0.64285714 0.        ]\n",
      "Training Epoch 022: | Loss: 0.56175 | Acc: 73.000\n",
      "Validation Accuracy |  56.25  PPV |  [0.81818182 0.        ]  Recall |  [0.64285714 0.        ]\n",
      "Training Epoch 023: | Loss: 0.58412 | Acc: 69.750\n",
      "Validation Accuracy |  68.75  PPV |  [0.84615385 0.        ]  Recall |  [0.78571429 0.        ]\n",
      "Training Epoch 024: | Loss: 0.55466 | Acc: 72.750\n",
      "Validation Accuracy |  68.75  PPV |  [0.84615385 0.        ]  Recall |  [0.78571429 0.        ]\n",
      "Training Epoch 025: | Loss: 0.52816 | Acc: 75.250\n",
      "Validation Accuracy |  68.75  PPV |  [0.84615385 0.        ]  Recall |  [0.78571429 0.        ]\n"
     ]
    }
   ],
   "source": [
    "#model.train() tells PyTorch that you’re in training mode.\n",
    "#Similarly, we’ll call model.eval() when we test our model. We’ll see that below.\n",
    "'''If you’re using layers such as Dropout or BatchNorm which behave differently during training and evaluation, \n",
    "you need to tell PyTorch to act accordingly. While the default mode in PyTorch is the train, \n",
    "so, you don’t explicitly have to write that. But it’s good practice.'''\n",
    "val_acc6 = []\n",
    "train_acc6 = []\n",
    "train_loss6 = []\n",
    "val_loss6 = []\n",
    "\n",
    "model6.train() #Initial training mode\n",
    "for e in range(1, EPOCHS+1):\n",
    "    epoch_loss = 0\n",
    "    epoch_acc = 0\n",
    "    for X_batch, y_batch in train_loader6:\n",
    "        X_batch, y_batch = X_batch.to(device), y_batch.to(device)\n",
    "        optimizer6.zero_grad()\n",
    "        \n",
    "        y_pred = model6(X_batch)\n",
    "        \n",
    "        loss = criterion(y_pred, y_batch)\n",
    "        acc = binary_acc(y_pred, y_batch)\n",
    "        \n",
    "        loss.backward()\n",
    "        optimizer6.step()\n",
    "        \n",
    "        epoch_loss += loss.item()\n",
    "        epoch_acc += acc.item()\n",
    "    \n",
    "    train_acc6.append(epoch_acc/len(train_loader6))\n",
    "    train_loss6.append(epoch_loss/len(train_loader6))\n",
    "    print(f'Training Epoch {e+0:03}: | Loss: {epoch_loss/len(train_loader6):.5f} | Acc: {epoch_acc/len(train_loader6):.3f}')\n",
    "    #Validation metrics here\n",
    "    model6.eval()\n",
    "    #print(\"Evaluation mode\")\n",
    "    y_pred_list = []\n",
    "    test_loader6 = DataLoader(dataset=test_data6, batch_size=test_size1)\n",
    "    with torch.no_grad():\n",
    "        counter = 0\n",
    "        for X_batch in test_loader6:\n",
    "            X_batch = X_batch.to(device)\n",
    "            y_test_pred = model6(X_batch)\n",
    "            y_test_pred = torch.sigmoid(y_test_pred)\n",
    "            y_pred_tag = torch.round(y_test_pred)\n",
    "            y_pred_list.append(y_pred_tag.cpu().numpy())\n",
    "            loss = criterion(y_test_pred,torch.FloatTensor(testing_fold_Y_6))\n",
    "            val_loss6.append(loss)\n",
    "            counter+=1\n",
    "            \n",
    "    y_pred_list = []\n",
    "    test_loader6 = DataLoader(dataset=test_data6, batch_size=1)\n",
    "    with torch.no_grad():\n",
    "        for X_batch in test_loader6:\n",
    "            X_batch = X_batch.to(device)\n",
    "            y_test_pred = model6(X_batch)\n",
    "            y_test_pred = torch.sigmoid(y_test_pred)\n",
    "            y_pred_tag = torch.round(y_test_pred)\n",
    "            y_pred_list.append(y_pred_tag.cpu().numpy())\n",
    "            \n",
    "    y_pred_list = [a.squeeze().tolist() for a in y_pred_list]\n",
    "    y_loss_df = pd.DataFrame(y_pred_list)\n",
    "    accuracy = accuracy_score(torch.FloatTensor(testing_fold_Y_6), y_pred_list)\n",
    "    ppv = precision_score(testing_fold_Y_6, y_pred_list, average=None)\n",
    "    recall = recall_score(testing_fold_Y_6, y_pred_list, average=None)\n",
    "    print(\"Validation Accuracy | \",accuracy*100,\" PPV | \",ppv,\" Recall | \",recall)\n",
    "    val_acc6.append(accuracy*100)\n",
    "    model6.train()\n",
    "    #print(\"Return to training mode\")\n",
    "    \n",
    "    #Need to get validation loss."
   ]
  },
  {
   "cell_type": "code",
   "execution_count": 22,
   "id": "double-isaac",
   "metadata": {},
   "outputs": [
    {
     "name": "stdout",
     "output_type": "stream",
     "text": [
      "Training Epoch 001: | Loss: 1.32864 | Acc: 45.625\n",
      "Validation Accuracy |  93.33333333333333  PPV |  [0.93333333 0.        ]  Recall |  [1. 0.]\n",
      "Training Epoch 002: | Loss: 0.91355 | Acc: 54.125\n",
      "Validation Accuracy |  93.33333333333333  PPV |  [0.93333333 0.        ]  Recall |  [1. 0.]\n"
     ]
    },
    {
     "name": "stderr",
     "output_type": "stream",
     "text": [
      "C:\\Users\\mattbeze\\Anaconda3\\envs\\pytorch\\lib\\site-packages\\sklearn\\metrics\\_classification.py:1245: UndefinedMetricWarning: Precision is ill-defined and being set to 0.0 in labels with no predicted samples. Use `zero_division` parameter to control this behavior.\n",
      "  _warn_prf(average, modifier, msg_start, len(result))\n",
      "C:\\Users\\mattbeze\\Anaconda3\\envs\\pytorch\\lib\\site-packages\\sklearn\\metrics\\_classification.py:1245: UndefinedMetricWarning: Precision is ill-defined and being set to 0.0 in labels with no predicted samples. Use `zero_division` parameter to control this behavior.\n",
      "  _warn_prf(average, modifier, msg_start, len(result))\n"
     ]
    },
    {
     "name": "stdout",
     "output_type": "stream",
     "text": [
      "Training Epoch 003: | Loss: 0.76637 | Acc: 56.375\n",
      "Validation Accuracy |  93.33333333333333  PPV |  [0.93333333 0.        ]  Recall |  [1. 0.]\n",
      "Training Epoch 004: | Loss: 0.69975 | Acc: 53.000\n",
      "Validation Accuracy |  93.33333333333333  PPV |  [0.93333333 0.        ]  Recall |  [1. 0.]\n"
     ]
    },
    {
     "name": "stderr",
     "output_type": "stream",
     "text": [
      "C:\\Users\\mattbeze\\Anaconda3\\envs\\pytorch\\lib\\site-packages\\sklearn\\metrics\\_classification.py:1245: UndefinedMetricWarning: Precision is ill-defined and being set to 0.0 in labels with no predicted samples. Use `zero_division` parameter to control this behavior.\n",
      "  _warn_prf(average, modifier, msg_start, len(result))\n",
      "C:\\Users\\mattbeze\\Anaconda3\\envs\\pytorch\\lib\\site-packages\\sklearn\\metrics\\_classification.py:1245: UndefinedMetricWarning: Precision is ill-defined and being set to 0.0 in labels with no predicted samples. Use `zero_division` parameter to control this behavior.\n",
      "  _warn_prf(average, modifier, msg_start, len(result))\n"
     ]
    },
    {
     "name": "stdout",
     "output_type": "stream",
     "text": [
      "Training Epoch 005: | Loss: 0.66242 | Acc: 56.000\n",
      "Validation Accuracy |  66.66666666666666  PPV |  [0.90909091 0.        ]  Recall |  [0.71428571 0.        ]\n",
      "Training Epoch 006: | Loss: 0.68460 | Acc: 52.375\n",
      "Validation Accuracy |  66.66666666666666  PPV |  [0.90909091 0.        ]  Recall |  [0.71428571 0.        ]\n",
      "Training Epoch 007: | Loss: 0.66946 | Acc: 54.625\n",
      "Validation Accuracy |  73.33333333333333  PPV |  [0.91666667 0.        ]  Recall |  [0.78571429 0.        ]\n",
      "Training Epoch 008: | Loss: 0.67135 | Acc: 52.750\n",
      "Validation Accuracy |  60.0  PPV |  [0.9 0. ]  Recall |  [0.64285714 0.        ]\n",
      "Training Epoch 009: | Loss: 0.62964 | Acc: 57.375\n",
      "Validation Accuracy |  60.0  PPV |  [0.9 0. ]  Recall |  [0.64285714 0.        ]\n",
      "Training Epoch 010: | Loss: 0.62449 | Acc: 61.875\n",
      "Validation Accuracy |  66.66666666666666  PPV |  [0.90909091 0.        ]  Recall |  [0.71428571 0.        ]\n",
      "Training Epoch 011: | Loss: 0.61992 | Acc: 61.500\n",
      "Validation Accuracy |  60.0  PPV |  [0.9 0. ]  Recall |  [0.64285714 0.        ]\n",
      "Training Epoch 012: | Loss: 0.63141 | Acc: 62.000\n",
      "Validation Accuracy |  66.66666666666666  PPV |  [0.90909091 0.        ]  Recall |  [0.71428571 0.        ]\n",
      "Training Epoch 013: | Loss: 0.62842 | Acc: 60.375\n",
      "Validation Accuracy |  60.0  PPV |  [0.9 0. ]  Recall |  [0.64285714 0.        ]\n",
      "Training Epoch 014: | Loss: 0.61349 | Acc: 62.375\n",
      "Validation Accuracy |  66.66666666666666  PPV |  [0.90909091 0.        ]  Recall |  [0.71428571 0.        ]\n",
      "Training Epoch 015: | Loss: 0.58325 | Acc: 69.500\n",
      "Validation Accuracy |  60.0  PPV |  [0.9 0. ]  Recall |  [0.64285714 0.        ]\n",
      "Training Epoch 016: | Loss: 0.62274 | Acc: 58.875\n",
      "Validation Accuracy |  66.66666666666666  PPV |  [0.90909091 0.        ]  Recall |  [0.71428571 0.        ]\n",
      "Training Epoch 017: | Loss: 0.59647 | Acc: 62.500\n",
      "Validation Accuracy |  66.66666666666666  PPV |  [0.90909091 0.        ]  Recall |  [0.71428571 0.        ]\n",
      "Training Epoch 018: | Loss: 0.59507 | Acc: 72.250\n",
      "Validation Accuracy |  66.66666666666666  PPV |  [0.90909091 0.        ]  Recall |  [0.71428571 0.        ]\n",
      "Training Epoch 019: | Loss: 0.59228 | Acc: 66.875\n",
      "Validation Accuracy |  66.66666666666666  PPV |  [0.90909091 0.        ]  Recall |  [0.71428571 0.        ]\n",
      "Training Epoch 020: | Loss: 0.57424 | Acc: 65.250\n",
      "Validation Accuracy |  66.66666666666666  PPV |  [0.90909091 0.        ]  Recall |  [0.71428571 0.        ]\n",
      "Training Epoch 021: | Loss: 0.58295 | Acc: 65.750\n",
      "Validation Accuracy |  66.66666666666666  PPV |  [0.90909091 0.        ]  Recall |  [0.71428571 0.        ]\n",
      "Training Epoch 022: | Loss: 0.56579 | Acc: 69.625\n",
      "Validation Accuracy |  66.66666666666666  PPV |  [0.90909091 0.        ]  Recall |  [0.71428571 0.        ]\n",
      "Training Epoch 023: | Loss: 0.53771 | Acc: 70.125\n",
      "Validation Accuracy |  66.66666666666666  PPV |  [0.90909091 0.        ]  Recall |  [0.71428571 0.        ]\n",
      "Training Epoch 024: | Loss: 0.54423 | Acc: 71.750\n",
      "Validation Accuracy |  66.66666666666666  PPV |  [0.90909091 0.        ]  Recall |  [0.71428571 0.        ]\n",
      "Training Epoch 025: | Loss: 0.52600 | Acc: 78.000\n",
      "Validation Accuracy |  73.33333333333333  PPV |  [0.91666667 0.        ]  Recall |  [0.78571429 0.        ]\n"
     ]
    }
   ],
   "source": [
    "#model.train() tells PyTorch that you’re in training mode.\n",
    "#Similarly, we’ll call model.eval() when we test our model. We’ll see that below.\n",
    "'''If you’re using layers such as Dropout or BatchNorm which behave differently during training and evaluation, \n",
    "you need to tell PyTorch to act accordingly. While the default mode in PyTorch is the train, \n",
    "so, you don’t explicitly have to write that. But it’s good practice.'''\n",
    "val_acc7 = []\n",
    "train_acc7 = []\n",
    "train_loss7 = []\n",
    "val_loss7 = []\n",
    "\n",
    "model7.train() #Initial training mode\n",
    "for e in range(1, EPOCHS+1):\n",
    "    epoch_loss = 0\n",
    "    epoch_acc = 0\n",
    "    for X_batch, y_batch in train_loader7:\n",
    "        X_batch, y_batch = X_batch.to(device), y_batch.to(device)\n",
    "        optimizer7.zero_grad()\n",
    "        \n",
    "        y_pred = model7(X_batch)\n",
    "        \n",
    "        loss = criterion(y_pred, y_batch)\n",
    "        acc = binary_acc(y_pred, y_batch)\n",
    "        \n",
    "        loss.backward()\n",
    "        optimizer7.step()\n",
    "        \n",
    "        epoch_loss += loss.item()\n",
    "        epoch_acc += acc.item()\n",
    "    \n",
    "    train_acc7.append(epoch_acc/len(train_loader7))\n",
    "    train_loss7.append(epoch_loss/len(train_loader7))\n",
    "    print(f'Training Epoch {e+0:03}: | Loss: {epoch_loss/len(train_loader7):.5f} | Acc: {epoch_acc/len(train_loader7):.3f}')\n",
    "    #Validation metrics here\n",
    "    model7.eval()\n",
    "    #print(\"Evaluation mode\")\n",
    "    y_pred_list = []\n",
    "    test_loader7 = DataLoader(dataset=test_data7, batch_size=test_size1)\n",
    "    with torch.no_grad():\n",
    "        counter = 0\n",
    "        for X_batch in test_loader7:\n",
    "            X_batch = X_batch.to(device)\n",
    "            y_test_pred = model7(X_batch)\n",
    "            y_test_pred = torch.sigmoid(y_test_pred)\n",
    "            y_pred_tag = torch.round(y_test_pred)\n",
    "            y_pred_list.append(y_pred_tag.cpu().numpy())\n",
    "            loss = criterion(y_test_pred,torch.FloatTensor(testing_fold_Y_7))\n",
    "            val_loss7.append(loss)\n",
    "            counter+=1\n",
    "            \n",
    "    y_pred_list = []\n",
    "    test_loader7 = DataLoader(dataset=test_data7, batch_size=1)\n",
    "    with torch.no_grad():\n",
    "        for X_batch in test_loader7:\n",
    "            X_batch = X_batch.to(device)\n",
    "            y_test_pred = model7(X_batch)\n",
    "            y_test_pred = torch.sigmoid(y_test_pred)\n",
    "            y_pred_tag = torch.round(y_test_pred)\n",
    "            y_pred_list.append(y_pred_tag.cpu().numpy())\n",
    "            \n",
    "    y_pred_list = [a.squeeze().tolist() for a in y_pred_list]\n",
    "    y_loss_df = pd.DataFrame(y_pred_list)\n",
    "    accuracy = accuracy_score(torch.FloatTensor(testing_fold_Y_7), y_pred_list)\n",
    "    ppv = precision_score(testing_fold_Y_7, y_pred_list, average=None)\n",
    "    recall = recall_score(testing_fold_Y_7, y_pred_list, average=None)\n",
    "    print(\"Validation Accuracy | \",accuracy*100,\" PPV | \",ppv,\" Recall | \",recall)\n",
    "    val_acc7.append(accuracy*100)\n",
    "    model7.train()\n",
    "    #print(\"Return to training mode\")\n",
    "    \n",
    "    #Need to get validation loss."
   ]
  },
  {
   "cell_type": "code",
   "execution_count": 23,
   "id": "international-consumer",
   "metadata": {},
   "outputs": [
    {
     "data": {
      "image/png": "[encoded data removed]",
      "text/plain": [
       "<Figure size 432x288 with 1 Axes>"
      ]
     },
     "metadata": {
      "needs_background": "light"
     },
     "output_type": "display_data"
    },
    {
     "data": {
      "image/png": "[encoded data removed]",
      "text/plain": [
       "<Figure size 432x288 with 1 Axes>"
      ]
     },
     "metadata": {
      "needs_background": "light"
     },
     "output_type": "display_data"
    },
    {
     "data": {
      "image/png": "[encoded data removed]",
      "text/plain": [
       "<Figure size 432x288 with 1 Axes>"
      ]
     },
     "metadata": {
      "needs_background": "light"
     },
     "output_type": "display_data"
    },
    {
     "data": {
      "image/png": "[encoded data removed]",
      "text/plain": [
       "<Figure size 432x288 with 1 Axes>"
      ]
     },
     "metadata": {
      "needs_background": "light"
     },
     "output_type": "display_data"
    },
    {
     "data": {
      "image/png": "[encoded data removed]",
      "text/plain": [
       "<Figure size 432x288 with 1 Axes>"
      ]
     },
     "metadata": {
      "needs_background": "light"
     },
     "output_type": "display_data"
    },
    {
     "data": {
      "image/png": "[encoded data removed]",
      "text/plain": [
       "<Figure size 432x288 with 1 Axes>"
      ]
     },
     "metadata": {
      "needs_background": "light"
     },
     "output_type": "display_data"
    },
    {
     "data": {
      "image/png": "[encoded data removed]",
      "text/plain": [
       "<Figure size 432x288 with 1 Axes>"
      ]
     },
     "metadata": {
      "needs_background": "light"
     },
     "output_type": "display_data"
    },
    {
     "data": {
      "image/png": "[encoded data removed]",
      "text/plain": [
       "<Figure size 432x288 with 1 Axes>"
      ]
     },
     "metadata": {
      "needs_background": "light"
     },
     "output_type": "display_data"
    },
    {
     "data": {
      "image/png": "[encoded data removed]",
      "text/plain": [
       "<Figure size 432x288 with 1 Axes>"
      ]
     },
     "metadata": {
      "needs_background": "light"
     },
     "output_type": "display_data"
    },
    {
     "data": {
      "image/png": "[encoded data removed]",
      "text/plain": [
       "<Figure size 432x288 with 1 Axes>"
      ]
     },
     "metadata": {
      "needs_background": "light"
     },
     "output_type": "display_data"
    },
    {
     "data": {
      "image/png": "[encoded data removed]",
      "text/plain": [
       "<Figure size 432x288 with 1 Axes>"
      ]
     },
     "metadata": {
      "needs_background": "light"
     },
     "output_type": "display_data"
    },
    {
     "data": {
      "image/png": "[encoded data removed]",
      "text/plain": [
       "<Figure size 432x288 with 1 Axes>"
      ]
     },
     "metadata": {
      "needs_background": "light"
     },
     "output_type": "display_data"
    },
    {
     "data": {
      "image/png": "[encoded data removed]",
      "text/plain": [
       "<Figure size 432x288 with 1 Axes>"
      ]
     },
     "metadata": {
      "needs_background": "light"
     },
     "output_type": "display_data"
    },
    {
     "data": {
      "image/png": "[encoded data removed]",
      "text/plain": [
       "<Figure size 432x288 with 1 Axes>"
      ]
     },
     "metadata": {
      "needs_background": "light"
     },
     "output_type": "display_data"
    },
    {
     "data": {
      "image/png": "[encoded data removed]",
      "text/plain": [
       "<Figure size 432x288 with 1 Axes>"
      ]
     },
     "metadata": {
      "needs_background": "light"
     },
     "output_type": "display_data"
    },
    {
     "data": {
      "image/png": "[encoded data removed]",
      "text/plain": [
       "<Figure size 432x288 with 1 Axes>"
      ]
     },
     "metadata": {
      "needs_background": "light"
     },
     "output_type": "display_data"
    }
   ],
   "source": [
    "#Plotting loss\n",
    "plt.plot(train_loss)\n",
    "plt.plot(val_loss)\n",
    "plt.title('model loss')\n",
    "plt.ylabel('loss')\n",
    "plt.xlabel('epoch')\n",
    "plt.legend(['train', 'validation'], loc='upper left')\n",
    "plt.axis([0, EPOCHS-1, 0.0, 1.5])\n",
    "plt.show()\n",
    "\n",
    "#Plotting Accuracy\n",
    "plt.plot(train_acc)\n",
    "plt.plot(val_acc)\n",
    "plt.title('model accuracy')\n",
    "plt.ylabel('acc')\n",
    "plt.xlabel('epoch')\n",
    "plt.legend(['train_acc', 'val_acc'], loc='upper left')\n",
    "plt.axis([0, EPOCHS-1, 0.0, 105])\n",
    "plt.show()\n",
    "\n",
    "#Plotting loss\n",
    "plt.plot(train_loss1)\n",
    "plt.plot(val_loss1)\n",
    "plt.title('model1 loss')\n",
    "plt.ylabel('loss')\n",
    "plt.xlabel('epoch')\n",
    "plt.legend(['train', 'validation'], loc='upper left')\n",
    "plt.axis([0, EPOCHS-1, 0.0, 1.5])\n",
    "plt.show()\n",
    "\n",
    "#Plotting Accuracy\n",
    "plt.plot(train_acc1)\n",
    "plt.plot(val_acc1)\n",
    "plt.title('model1 accuracy')\n",
    "plt.ylabel('acc')\n",
    "plt.xlabel('epoch')\n",
    "plt.legend(['train_acc', 'val_acc'], loc='upper left')\n",
    "plt.axis([0, EPOCHS-1, 0.0, 105])\n",
    "plt.show()\n",
    "\n",
    "#Plotting loss\n",
    "plt.plot(train_loss2)\n",
    "plt.plot(val_loss2)\n",
    "plt.title('model2 loss')\n",
    "plt.ylabel('loss')\n",
    "plt.xlabel('epoch')\n",
    "plt.legend(['train', 'validation'], loc='upper left')\n",
    "plt.axis([0, EPOCHS-1, 0.0, 1.5])\n",
    "plt.show()\n",
    "\n",
    "#Plotting Accuracy\n",
    "plt.plot(train_acc2)\n",
    "plt.plot(val_acc2)\n",
    "plt.title('model2 accuracy')\n",
    "plt.ylabel('acc')\n",
    "plt.xlabel('epoch')\n",
    "plt.legend(['train_acc', 'val_acc'], loc='upper left')\n",
    "plt.axis([0, EPOCHS-1, 0.0, 105])\n",
    "plt.show()\n",
    "\n",
    "#Plotting loss\n",
    "plt.plot(train_loss3)\n",
    "plt.plot(val_loss3)\n",
    "plt.title('model3 loss')\n",
    "plt.ylabel('loss')\n",
    "plt.xlabel('epoch')\n",
    "plt.legend(['train', 'validation'], loc='upper left')\n",
    "plt.axis([0, EPOCHS-1, 0.0, 1.5])\n",
    "plt.show()\n",
    "\n",
    "#Plotting Accuracy\n",
    "plt.plot(train_acc3)\n",
    "plt.plot(val_acc3)\n",
    "plt.title('model3 accuracy')\n",
    "plt.ylabel('acc')\n",
    "plt.xlabel('epoch')\n",
    "plt.legend(['train_acc', 'val_acc'], loc='upper left')\n",
    "plt.axis([0, EPOCHS-1, 0.0, 105])\n",
    "plt.show()\n",
    "\n",
    "#Plotting loss\n",
    "plt.plot(train_loss4)\n",
    "plt.plot(val_loss4)\n",
    "plt.title('model4 loss')\n",
    "plt.ylabel('loss')\n",
    "plt.xlabel('epoch')\n",
    "plt.legend(['train', 'validation'], loc='upper left')\n",
    "plt.axis([0, EPOCHS-1, 0.0, 1.5])\n",
    "plt.show()\n",
    "\n",
    "#Plotting Accuracy\n",
    "plt.plot(train_acc4)\n",
    "plt.plot(val_acc4)\n",
    "plt.title('model4 accuracy')\n",
    "plt.ylabel('acc')\n",
    "plt.xlabel('epoch')\n",
    "plt.legend(['train_acc', 'val_acc'], loc='upper left')\n",
    "plt.axis([0, EPOCHS-1, 0.0, 105])\n",
    "plt.show()\n",
    "\n",
    "#Plotting loss\n",
    "plt.plot(train_loss5)\n",
    "plt.plot(val_loss5)\n",
    "plt.title('model5 loss')\n",
    "plt.ylabel('loss')\n",
    "plt.xlabel('epoch')\n",
    "plt.legend(['train', 'validation'], loc='upper left')\n",
    "plt.axis([0, EPOCHS-1, 0.0, 1.5])\n",
    "plt.show()\n",
    "\n",
    "#Plotting Accuracy\n",
    "plt.plot(train_acc5)\n",
    "plt.plot(val_acc5)\n",
    "plt.title('model5 accuracy')\n",
    "plt.ylabel('acc')\n",
    "plt.xlabel('epoch')\n",
    "plt.legend(['train_acc', 'val_acc'], loc='upper left')\n",
    "plt.axis([0, EPOCHS-1, 0.0, 105])\n",
    "plt.show()\n",
    "\n",
    "#Plotting loss\n",
    "plt.plot(train_loss6)\n",
    "plt.plot(val_loss6)\n",
    "plt.title('model6 loss')\n",
    "plt.ylabel('loss')\n",
    "plt.xlabel('epoch')\n",
    "plt.legend(['train', 'validation'], loc='upper left')\n",
    "plt.axis([0, EPOCHS-1, 0.0, 1.5])\n",
    "plt.show()\n",
    "\n",
    "#Plotting Accuracy\n",
    "plt.plot(train_acc6)\n",
    "plt.plot(val_acc6)\n",
    "plt.title('model6 accuracy')\n",
    "plt.ylabel('acc')\n",
    "plt.xlabel('epoch')\n",
    "plt.legend(['train_acc', 'val_acc'], loc='upper left')\n",
    "plt.axis([0, EPOCHS-1, 0.0, 105])\n",
    "plt.show()\n",
    "\n",
    "#Plotting loss\n",
    "plt.plot(train_loss7)\n",
    "plt.plot(val_loss7)\n",
    "plt.title('model7 loss')\n",
    "plt.ylabel('loss')\n",
    "plt.xlabel('epoch')\n",
    "plt.legend(['train', 'validation'], loc='upper left')\n",
    "plt.axis([0, EPOCHS-1, 0.0, 1.5])\n",
    "plt.show()\n",
    "\n",
    "#Plotting Accuracy\n",
    "plt.plot(train_acc7)\n",
    "plt.plot(val_acc7)\n",
    "plt.title('model7 accuracy')\n",
    "plt.ylabel('acc')\n",
    "plt.xlabel('epoch')\n",
    "plt.legend(['train_acc', 'val_acc'], loc='upper left')\n",
    "plt.axis([0, EPOCHS-1, 0.0, 105])\n",
    "plt.show()"
   ]
  },
  {
   "cell_type": "code",
   "execution_count": 24,
   "id": "automated-houston",
   "metadata": {},
   "outputs": [
    {
     "name": "stdout",
     "output_type": "stream",
     "text": [
      "Validation Accuracy |  81.25  PPV |  [0.92857143 0.        ]  Recall |  [0.86666667 0.        ]\n"
     ]
    },
    {
     "data": {
      "image/png": "[encoded data removed]",
      "text/plain": [
       "<Figure size 432x288 with 2 Axes>"
      ]
     },
     "metadata": {
      "needs_background": "light"
     },
     "output_type": "display_data"
    }
   ],
   "source": [
    "final_prediction = []\n",
    "final_prediction_true = []\n",
    "\n",
    "y_pred_list = []\n",
    "test_loader = DataLoader(dataset=test_data, batch_size=1)\n",
    "model.eval() #Model evaluation\n",
    "with torch.no_grad():\n",
    "    for X_batch in test_loader:\n",
    "        X_batch = X_batch.to(device)\n",
    "        y_test_pred = model(X_batch)\n",
    "        y_test_pred = torch.sigmoid(y_test_pred)\n",
    "        y_pred_tag = torch.round(y_test_pred)\n",
    "        y_pred_list.append(y_pred_tag.cpu().numpy())\n",
    "        final_prediction.append(y_pred_tag.cpu().numpy())\n",
    "\n",
    "y_pred_list = [a.squeeze().tolist() for a in y_pred_list]\n",
    "accuracy = accuracy_score(testing_fold_Y_0, y_pred_list)\n",
    "ppv = precision_score(testing_fold_Y_0, y_pred_list, average=None)\n",
    "recall = recall_score(testing_fold_Y_0, y_pred_list, average=None)\n",
    "print(\"Validation Accuracy | \",accuracy*100,\" PPV | \",ppv,\" Recall | \",recall)\n",
    "cf_matrix = confusion_matrix(testing_fold_Y_0, y_pred_list)\n",
    "sn.heatmap(cf_matrix, annot=True)\n",
    "\n",
    "for y in testing_fold_Y_0:\n",
    "    final_prediction_true.append(y)"
   ]
  },
  {
   "cell_type": "code",
   "execution_count": 25,
   "id": "bibliographic-video",
   "metadata": {},
   "outputs": [
    {
     "name": "stdout",
     "output_type": "stream",
     "text": [
      "Validation Accuracy |  56.25  PPV |  [0.9 0. ]  Recall |  [0.6 0. ]\n"
     ]
    },
    {
     "data": {
      "image/png": "[encoded data removed]",
      "text/plain": [
       "<Figure size 432x288 with 2 Axes>"
      ]
     },
     "metadata": {
      "needs_background": "light"
     },
     "output_type": "display_data"
    }
   ],
   "source": [
    "y_pred_list = []\n",
    "test_loader = DataLoader(dataset=test_data1, batch_size=1)\n",
    "model1.eval() #Model evaluation\n",
    "with torch.no_grad():\n",
    "    for X_batch in test_loader:\n",
    "        X_batch = X_batch.to(device)\n",
    "        y_test_pred = model1(X_batch)\n",
    "        y_test_pred = torch.sigmoid(y_test_pred)\n",
    "        y_pred_tag = torch.round(y_test_pred)\n",
    "        y_pred_list.append(y_pred_tag.cpu().numpy())\n",
    "        final_prediction.append(y_pred_tag.cpu().numpy())\n",
    "\n",
    "y_pred_list = [a.squeeze().tolist() for a in y_pred_list]\n",
    "accuracy = accuracy_score(testing_fold_Y_1, y_pred_list)\n",
    "ppv = precision_score(testing_fold_Y_1, y_pred_list, average=None)\n",
    "recall = recall_score(testing_fold_Y_1, y_pred_list, average=None)\n",
    "print(\"Validation Accuracy | \",accuracy*100,\" PPV | \",ppv,\" Recall | \",recall)\n",
    "cf_matrix = confusion_matrix(testing_fold_Y_1, y_pred_list)\n",
    "sn.heatmap(cf_matrix, annot=True)\n",
    "\n",
    "for y in testing_fold_Y_1:\n",
    "    final_prediction_true.append(y)"
   ]
  },
  {
   "cell_type": "code",
   "execution_count": 26,
   "id": "incoming-auction",
   "metadata": {},
   "outputs": [
    {
     "name": "stdout",
     "output_type": "stream",
     "text": [
      "Validation Accuracy |  50.0  PPV |  [0.875 0.125]  Recall |  [0.5 0.5]\n"
     ]
    },
    {
     "data": {
      "image/png": "[encoded data removed]",
      "text/plain": [
       "<Figure size 432x288 with 2 Axes>"
      ]
     },
     "metadata": {
      "needs_background": "light"
     },
     "output_type": "display_data"
    }
   ],
   "source": [
    "y_pred_list = []\n",
    "test_loader = DataLoader(dataset=test_data2, batch_size=1)\n",
    "model2.eval() #Model evaluation\n",
    "with torch.no_grad():\n",
    "    for X_batch in test_loader:\n",
    "        X_batch = X_batch.to(device)\n",
    "        y_test_pred = model2(X_batch)\n",
    "        y_test_pred = torch.sigmoid(y_test_pred)\n",
    "        y_pred_tag = torch.round(y_test_pred)\n",
    "        y_pred_list.append(y_pred_tag.cpu().numpy())\n",
    "        final_prediction.append(y_pred_tag.cpu().numpy())\n",
    "\n",
    "y_pred_list = [a.squeeze().tolist() for a in y_pred_list]\n",
    "accuracy = accuracy_score(testing_fold_Y_2, y_pred_list)\n",
    "ppv = precision_score(testing_fold_Y_2, y_pred_list, average=None)\n",
    "recall = recall_score(testing_fold_Y_2, y_pred_list, average=None)\n",
    "print(\"Validation Accuracy | \",accuracy*100,\" PPV | \",ppv,\" Recall | \",recall)\n",
    "cf_matrix = confusion_matrix(testing_fold_Y_2, y_pred_list)\n",
    "sn.heatmap(cf_matrix, annot=True)\n",
    "\n",
    "for y in testing_fold_Y_2:\n",
    "    final_prediction_true.append(y)"
   ]
  },
  {
   "cell_type": "code",
   "execution_count": 27,
   "id": "related-velvet",
   "metadata": {},
   "outputs": [
    {
     "name": "stdout",
     "output_type": "stream",
     "text": [
      "Validation Accuracy |  56.25  PPV |  [0.81818182 0.        ]  Recall |  [0.64285714 0.        ]\n"
     ]
    },
    {
     "data": {
      "image/png": "[encoded data removed]",
      "text/plain": [
       "<Figure size 432x288 with 2 Axes>"
      ]
     },
     "metadata": {
      "needs_background": "light"
     },
     "output_type": "display_data"
    }
   ],
   "source": [
    "y_pred_list = []\n",
    "test_loader = DataLoader(dataset=test_data3, batch_size=1)\n",
    "model3.eval() #Model evaluation\n",
    "with torch.no_grad():\n",
    "    for X_batch in test_loader:\n",
    "        X_batch = X_batch.to(device)\n",
    "        y_test_pred = model3(X_batch)\n",
    "        y_test_pred = torch.sigmoid(y_test_pred)\n",
    "        y_pred_tag = torch.round(y_test_pred)\n",
    "        y_pred_list.append(y_pred_tag.cpu().numpy())\n",
    "        final_prediction.append(y_pred_tag.cpu().numpy())\n",
    "\n",
    "y_pred_list = [a.squeeze().tolist() for a in y_pred_list]\n",
    "accuracy = accuracy_score(testing_fold_Y_3, y_pred_list)\n",
    "ppv = precision_score(testing_fold_Y_3, y_pred_list, average=None)\n",
    "recall = recall_score(testing_fold_Y_3, y_pred_list, average=None)\n",
    "print(\"Validation Accuracy | \",accuracy*100,\" PPV | \",ppv,\" Recall | \",recall)\n",
    "cf_matrix = confusion_matrix(testing_fold_Y_3, y_pred_list)\n",
    "sn.heatmap(cf_matrix, annot=True)\n",
    "\n",
    "for y in testing_fold_Y_3:\n",
    "    final_prediction_true.append(y)"
   ]
  },
  {
   "cell_type": "code",
   "execution_count": 28,
   "id": "coral-rebate",
   "metadata": {},
   "outputs": [
    {
     "name": "stderr",
     "output_type": "stream",
     "text": [
      "C:\\Users\\mattbeze\\Anaconda3\\envs\\pytorch\\lib\\site-packages\\sklearn\\metrics\\_classification.py:1245: UndefinedMetricWarning: Precision is ill-defined and being set to 0.0 in labels with no predicted samples. Use `zero_division` parameter to control this behavior.\n",
      "  _warn_prf(average, modifier, msg_start, len(result))\n"
     ]
    },
    {
     "name": "stdout",
     "output_type": "stream",
     "text": [
      "Validation Accuracy |  87.5  PPV |  [0.875 0.   ]  Recall |  [1. 0.]\n"
     ]
    },
    {
     "data": {
      "image/png": "[encoded data removed]",
      "text/plain": [
       "<Figure size 432x288 with 2 Axes>"
      ]
     },
     "metadata": {
      "needs_background": "light"
     },
     "output_type": "display_data"
    }
   ],
   "source": [
    "y_pred_list = []\n",
    "test_loader = DataLoader(dataset=test_data4, batch_size=1)\n",
    "model4.eval() #Model evaluation\n",
    "with torch.no_grad():\n",
    "    for X_batch in test_loader:\n",
    "        X_batch = X_batch.to(device)\n",
    "        y_test_pred = model4(X_batch)\n",
    "        y_test_pred = torch.sigmoid(y_test_pred)\n",
    "        y_pred_tag = torch.round(y_test_pred)\n",
    "        y_pred_list.append(y_pred_tag.cpu().numpy())\n",
    "        final_prediction.append(y_pred_tag.cpu().numpy())\n",
    "\n",
    "y_pred_list = [a.squeeze().tolist() for a in y_pred_list]\n",
    "accuracy = accuracy_score(testing_fold_Y_4, y_pred_list)\n",
    "ppv = precision_score(testing_fold_Y_4, y_pred_list, average=None)\n",
    "recall = recall_score(testing_fold_Y_4, y_pred_list, average=None)\n",
    "print(\"Validation Accuracy | \",accuracy*100,\" PPV | \",ppv,\" Recall | \",recall)\n",
    "cf_matrix = confusion_matrix(testing_fold_Y_4, y_pred_list)\n",
    "sn.heatmap(cf_matrix, annot=True)\n",
    "\n",
    "for y in testing_fold_Y_4:\n",
    "    final_prediction_true.append(y)"
   ]
  },
  {
   "cell_type": "code",
   "execution_count": 29,
   "id": "passing-morgan",
   "metadata": {},
   "outputs": [
    {
     "name": "stdout",
     "output_type": "stream",
     "text": [
      "Validation Accuracy |  81.25  PPV |  [1.  0.4]  Recall |  [0.78571429 1.        ]\n"
     ]
    },
    {
     "data": {
      "image/png": "[encoded data removed]",
      "text/plain": [
       "<Figure size 432x288 with 2 Axes>"
      ]
     },
     "metadata": {
      "needs_background": "light"
     },
     "output_type": "display_data"
    }
   ],
   "source": [
    "y_pred_list = []\n",
    "test_loader = DataLoader(dataset=test_data5, batch_size=1)\n",
    "model5.eval() #Model evaluation\n",
    "with torch.no_grad():\n",
    "    for X_batch in test_loader:\n",
    "        X_batch = X_batch.to(device)\n",
    "        y_test_pred = model5(X_batch)\n",
    "        y_test_pred = torch.sigmoid(y_test_pred)\n",
    "        y_pred_tag = torch.round(y_test_pred)\n",
    "        y_pred_list.append(y_pred_tag.cpu().numpy())\n",
    "        final_prediction.append(y_pred_tag.cpu().numpy())\n",
    "\n",
    "y_pred_list = [a.squeeze().tolist() for a in y_pred_list]\n",
    "accuracy = accuracy_score(testing_fold_Y_5, y_pred_list)\n",
    "ppv = precision_score(testing_fold_Y_5, y_pred_list, average=None)\n",
    "recall = recall_score(testing_fold_Y_5, y_pred_list, average=None)\n",
    "print(\"Validation Accuracy | \",accuracy*100,\" PPV | \",ppv,\" Recall | \",recall)\n",
    "cf_matrix = confusion_matrix(testing_fold_Y_5, y_pred_list)\n",
    "sn.heatmap(cf_matrix, annot=True)\n",
    "\n",
    "for y in testing_fold_Y_5:\n",
    "    final_prediction_true.append(y)"
   ]
  },
  {
   "cell_type": "code",
   "execution_count": 30,
   "id": "hindu-equilibrium",
   "metadata": {},
   "outputs": [
    {
     "name": "stdout",
     "output_type": "stream",
     "text": [
      "Validation Accuracy |  68.75  PPV |  [0.84615385 0.        ]  Recall |  [0.78571429 0.        ]\n"
     ]
    },
    {
     "data": {
      "image/png": "[encoded data removed]",
      "text/plain": [
       "<Figure size 432x288 with 2 Axes>"
      ]
     },
     "metadata": {
      "needs_background": "light"
     },
     "output_type": "display_data"
    }
   ],
   "source": [
    "y_pred_list = []\n",
    "test_loader = DataLoader(dataset=test_data6, batch_size=1)\n",
    "model6.eval() #Model evaluation\n",
    "with torch.no_grad():\n",
    "    for X_batch in test_loader:\n",
    "        X_batch = X_batch.to(device)\n",
    "        y_test_pred = model6(X_batch)\n",
    "        y_test_pred = torch.sigmoid(y_test_pred)\n",
    "        y_pred_tag = torch.round(y_test_pred)\n",
    "        y_pred_list.append(y_pred_tag.cpu().numpy())\n",
    "        final_prediction.append(y_pred_tag.cpu().numpy())\n",
    "\n",
    "y_pred_list = [a.squeeze().tolist() for a in y_pred_list]\n",
    "accuracy = accuracy_score(testing_fold_Y_6, y_pred_list)\n",
    "ppv = precision_score(testing_fold_Y_6, y_pred_list, average=None)\n",
    "recall = recall_score(testing_fold_Y_6, y_pred_list, average=None)\n",
    "print(\"Validation Accuracy | \",accuracy*100,\" PPV | \",ppv,\" Recall | \",recall)\n",
    "cf_matrix = confusion_matrix(testing_fold_Y_6, y_pred_list)\n",
    "sn.heatmap(cf_matrix, annot=True)\n",
    "\n",
    "for y in testing_fold_Y_6:\n",
    "    final_prediction_true.append(y)"
   ]
  },
  {
   "cell_type": "code",
   "execution_count": 31,
   "id": "indirect-print",
   "metadata": {},
   "outputs": [
    {
     "name": "stdout",
     "output_type": "stream",
     "text": [
      "Validation Accuracy |  73.33333333333333  PPV |  [0.91666667 0.        ]  Recall |  [0.78571429 0.        ]\n"
     ]
    },
    {
     "data": {
      "image/png": "[encoded data removed]",
      "text/plain": [
       "<Figure size 432x288 with 2 Axes>"
      ]
     },
     "metadata": {
      "needs_background": "light"
     },
     "output_type": "display_data"
    }
   ],
   "source": [
    "y_pred_list = []\n",
    "test_loader = DataLoader(dataset=test_data7, batch_size=1)\n",
    "model7.eval() #Model evaluation\n",
    "with torch.no_grad():\n",
    "    for X_batch in test_loader:\n",
    "        X_batch = X_batch.to(device)\n",
    "        y_test_pred = model7(X_batch)\n",
    "        y_test_pred = torch.sigmoid(y_test_pred)\n",
    "        y_pred_tag = torch.round(y_test_pred)\n",
    "        y_pred_list.append(y_pred_tag.cpu().numpy())\n",
    "        final_prediction.append(y_pred_tag.cpu().numpy())\n",
    "\n",
    "y_pred_list = [a.squeeze().tolist() for a in y_pred_list]\n",
    "accuracy = accuracy_score(testing_fold_Y_7, y_pred_list)\n",
    "ppv = precision_score(testing_fold_Y_7, y_pred_list, average=None)\n",
    "recall = recall_score(testing_fold_Y_7, y_pred_list, average=None)\n",
    "print(\"Validation Accuracy | \",accuracy*100,\" PPV | \",ppv,\" Recall | \",recall)\n",
    "cf_matrix = confusion_matrix(testing_fold_Y_7, y_pred_list)\n",
    "sn.heatmap(cf_matrix, annot=True)\n",
    "\n",
    "for y in testing_fold_Y_7:\n",
    "    final_prediction_true.append(y)"
   ]
  },
  {
   "cell_type": "code",
   "execution_count": 32,
   "id": "bibliographic-tanzania",
   "metadata": {},
   "outputs": [
    {
     "data": {
      "text/plain": [
       "[0.0,\n",
       " 0.0,\n",
       " 0.0,\n",
       " 0.0,\n",
       " 0.0,\n",
       " 0.0,\n",
       " 1.0,\n",
       " 1.0,\n",
       " 0.0,\n",
       " 0.0,\n",
       " 0.0,\n",
       " 0.0,\n",
       " 0.0,\n",
       " 0.0,\n",
       " 0.0,\n",
       " 0.0,\n",
       " 0.0,\n",
       " 0.0,\n",
       " 1.0,\n",
       " 0.0,\n",
       " 0.0,\n",
       " 1.0,\n",
       " 1.0,\n",
       " 0.0,\n",
       " 1.0,\n",
       " 1.0,\n",
       " 1.0,\n",
       " 0.0,\n",
       " 0.0,\n",
       " 0.0,\n",
       " 0.0,\n",
       " 0.0,\n",
       " 1.0,\n",
       " 0.0,\n",
       " 0.0,\n",
       " 0.0,\n",
       " 1.0,\n",
       " 0.0,\n",
       " 1.0,\n",
       " 0.0,\n",
       " 1.0,\n",
       " 1.0,\n",
       " 0.0,\n",
       " 0.0,\n",
       " 1.0,\n",
       " 0.0,\n",
       " 1.0,\n",
       " 1.0,\n",
       " 0.0,\n",
       " 0.0,\n",
       " 1.0,\n",
       " 1.0,\n",
       " 1.0,\n",
       " 0.0,\n",
       " 0.0,\n",
       " 0.0,\n",
       " 0.0,\n",
       " 0.0,\n",
       " 0.0,\n",
       " 1.0,\n",
       " 0.0,\n",
       " 1.0,\n",
       " 0.0,\n",
       " 0.0,\n",
       " 0.0,\n",
       " 0.0,\n",
       " 0.0,\n",
       " 0.0,\n",
       " 0.0,\n",
       " 0.0,\n",
       " 0.0,\n",
       " 0.0,\n",
       " 0.0,\n",
       " 0.0,\n",
       " 0.0,\n",
       " 0.0,\n",
       " 0.0,\n",
       " 0.0,\n",
       " 0.0,\n",
       " 0.0,\n",
       " 0.0,\n",
       " 0.0,\n",
       " 0.0,\n",
       " 1.0,\n",
       " 0.0,\n",
       " 0.0,\n",
       " 1.0,\n",
       " 0.0,\n",
       " 1.0,\n",
       " 0.0,\n",
       " 0.0,\n",
       " 0.0,\n",
       " 0.0,\n",
       " 0.0,\n",
       " 1.0,\n",
       " 1.0,\n",
       " 0.0,\n",
       " 1.0,\n",
       " 0.0,\n",
       " 0.0,\n",
       " 0.0,\n",
       " 0.0,\n",
       " 0.0,\n",
       " 0.0,\n",
       " 0.0,\n",
       " 1.0,\n",
       " 0.0,\n",
       " 1.0,\n",
       " 0.0,\n",
       " 0.0,\n",
       " 0.0,\n",
       " 0.0,\n",
       " 0.0,\n",
       " 1.0,\n",
       " 1.0,\n",
       " 0.0,\n",
       " 0.0,\n",
       " 0.0,\n",
       " 0.0,\n",
       " 0.0,\n",
       " 0.0,\n",
       " 0.0,\n",
       " 0.0,\n",
       " 0.0,\n",
       " 0.0,\n",
       " 1.0,\n",
       " 0.0]"
      ]
     },
     "execution_count": 32,
     "metadata": {},
     "output_type": "execute_result"
    }
   ],
   "source": [
    "prediction_labels = []\n",
    "true_labels = []\n",
    "\n",
    "for x in range(0,len(final_prediction_true)):\n",
    "    true_labels.append(final_prediction_true[x][0])\n",
    "    prediction_labels.append(final_prediction[x][0][0])\n",
    "\n",
    "prediction_labels"
   ]
  },
  {
   "cell_type": "code",
   "execution_count": 33,
   "id": "composed-intersection",
   "metadata": {},
   "outputs": [
    {
     "name": "stdout",
     "output_type": "stream",
     "text": [
      "[[85 29]\n",
      " [10  3]]\n",
      "Positive Predictive Value tp/(tp+fp):  0.09375\n",
      "Accuracy Value (tp+tn)/(tp+fp+fn+tn):  0.6929133858267716\n",
      "Recall Value tp/(tp+fn):  0.23076923076923078\n"
     ]
    },
    {
     "data": {
      "image/png": "[encoded data removed]",
      "text/plain": [
       "<Figure size 432x288 with 2 Axes>"
      ]
     },
     "metadata": {
      "needs_background": "light"
     },
     "output_type": "display_data"
    }
   ],
   "source": [
    "cf_matrix = confusion_matrix(true_labels, prediction_labels)\n",
    "print(cf_matrix)\n",
    "sn.heatmap(cf_matrix, annot=True)\n",
    "\n",
    "\n",
    "accuracy = accuracy_score(true_labels, prediction_labels)\n",
    "recall = recall_score(true_labels, prediction_labels, average=None)\n",
    "prec_score = precision_score(true_labels, prediction_labels, average=None)\n",
    "print('Positive Predictive Value tp/(tp+fp): ',prec_score[1]) \n",
    "print('Accuracy Value (tp+tn)/(tp+fp+fn+tn): ',accuracy) \n",
    "print('Recall Value tp/(tp+fn): ',recall[1]) "
   ]
  },
  {
   "cell_type": "code",
   "execution_count": null,
   "id": "breathing-puppy",
   "metadata": {},
   "outputs": [],
   "source": []
  }
 ],
 "metadata": {
  "kernelspec": {
   "display_name": "Python 3",
   "language": "python",
   "name": "python3"
  },
  "language_info": {
   "codemirror_mode": {
    "name": "ipython",
    "version": 3
   },
   "file_extension": ".py",
   "mimetype": "text/x-python",
   "name": "python",
   "nbconvert_exporter": "python",
   "pygments_lexer": "ipython3",
   "version": "3.7.9"
  }
 },
 "nbformat": 4,
 "nbformat_minor": 5
}
