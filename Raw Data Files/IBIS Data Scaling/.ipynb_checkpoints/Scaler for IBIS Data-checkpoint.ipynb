{
 "cells": [
  {
   "cell_type": "code",
   "execution_count": 1,
   "metadata": {},
   "outputs": [
    {
     "name": "stderr",
     "output_type": "stream",
     "text": [
      "Using TensorFlow backend.\n",
      "C:\\Users\\mattbeze\\Anaconda3\\envs\\tensorflow_env\\lib\\site-packages\\sklearn\\externals\\joblib\\__init__.py:15: FutureWarning: sklearn.externals.joblib is deprecated in 0.21 and will be removed in 0.23. Please import this functionality directly from joblib, which can be installed with: pip install joblib. If this warning is raised when loading pickled models, you may need to re-serialize those models with scikit-learn 0.21+.\n",
      "  warnings.warn(msg, category=FutureWarning)\n"
     ]
    }
   ],
   "source": [
    "import numpy as np\n",
    "from keras.layers import Input, Dense, Dropout\n",
    "from keras.models import Sequential, Model, load_model\n",
    "from keras import losses\n",
    "from keras.datasets import mnist\n",
    "import matplotlib.pyplot as plt\n",
    "import pandas as pd\n",
    "from sklearn.externals import joblib\n",
    "from sklearn.model_selection import KFold\n",
    "from sklearn.model_selection import StratifiedKFold\n",
    "from sklearn.model_selection import train_test_split\n",
    "from sklearn.preprocessing import MinMaxScaler\n",
    "from pandas import DataFrame\n",
    "import xlsxwriter\n",
    "import time\n",
    "\n",
    "IBIS_Data = pd.ExcelFile(\"SA_and_CT_AALandfROI_08272019.xlsx\") \n",
    "IBIS_CONTE_Data = pd.ExcelFile(\"IBIS 1 and 2 Year Destrieux.xlsx\")\n",
    "scalerCT = MinMaxScaler()\n",
    "scalerSA = MinMaxScaler()"
   ]
  },
  {
   "cell_type": "code",
   "execution_count": 4,
   "metadata": {},
   "outputs": [],
   "source": [
    "ct = IBIS_CONTE_Data.sheet_names[0]\n",
    "sa = IBIS_CONTE_Data.sheet_names[1]\n",
    "\n",
    "ct_data = IBIS_CONTE_Data.parse(ct)\n",
    "sa_data = IBIS_CONTE_Data.parse(sa)\n",
    "ct_data_features = ct_data.loc[:, ct_data.columns] \n",
    "ct_data_features = ct_data_features.drop(['Case','Visit','ROI42','ROI117'], axis=1)  \n",
    "sa_data_features = sa_data.loc[:, sa_data.columns] \n",
    "sa_data_features = sa_data_features.drop(['Case','Visit','ROI42','ROI117'], axis=1)  \n",
    "\n",
    "scaled_ct = scalerCT.fit_transform(ct_data_features)\n",
    "scaled_sa = scalerSA.fit_transform(sa_data_features)"
   ]
  },
  {
   "cell_type": "code",
   "execution_count": 5,
   "metadata": {},
   "outputs": [
    {
     "data": {
      "text/plain": [
       "['IBIS_scaledSA_1_2_year.save']"
      ]
     },
     "execution_count": 5,
     "metadata": {},
     "output_type": "execute_result"
    }
   ],
   "source": [
    "#Saving the scalers\n",
    "scalerCT_filename = \"IBIS_scaledCT_1_2_year.save\"\n",
    "joblib.dump(scalerCT, scalerCT_filename)\n",
    "scalerSA_filename = \"IBIS_scaledSA_1_2_year.save\"\n",
    "joblib.dump(scalerSA, scalerSA_filename)"
   ]
  },
  {
   "cell_type": "code",
   "execution_count": 10,
   "metadata": {},
   "outputs": [],
   "source": [
    "#Now transform the Gilmore data set using the scalers based on the IBIS data set\n",
    "Gilmore_Data = pd.ExcelFile(\"Gilmore CT1y2y SA1y2y.xlsx\") \n",
    "Gilmore_CT1y = Gilmore_Data.sheet_names[0]\n",
    "Gilmore_SA1y = Gilmore_Data.sheet_names[1]\n",
    "Gilmore_CT2y = Gilmore_Data.sheet_names[2]\n",
    "Gilmore_SA2y = Gilmore_Data.sheet_names[3]\n",
    "\n",
    "Gilmore_CT1y_data = Gilmore_Data.parse(Gilmore_CT1y)\n",
    "Gilmore_SA1y_data = Gilmore_Data.parse(Gilmore_SA1y)\n",
    "Gilmore_CT2y_data = Gilmore_Data.parse(Gilmore_CT2y)\n",
    "Gilmore_SA2y_data = Gilmore_Data.parse(Gilmore_SA2y)\n",
    "\n",
    "Gilmore_CT1y_data_features = Gilmore_CT1y_data.loc[:, Gilmore_CT1y_data.columns] \n",
    "Gilmore_CT1y_data_features = Gilmore_CT1y_data_features.drop(['ROI'], axis=1)\n",
    "Gilmore_SA1y_data_features = Gilmore_SA1y_data.loc[:, Gilmore_SA1y_data.columns] \n",
    "Gilmore_SA1y_data_features = Gilmore_SA1y_data_features.drop(['ROI'], axis=1) \n",
    "Gilmore_CT2y_data_features = Gilmore_CT2y_data.loc[:, Gilmore_CT2y_data.columns] \n",
    "Gilmore_CT2y_data_features = Gilmore_CT2y_data_features.drop(['ROI'], axis=1) \n",
    "Gilmore_SA2y_data_features = Gilmore_SA2y_data.loc[:, Gilmore_SA2y_data.columns] \n",
    "Gilmore_SA2y_data_features = Gilmore_SA2y_data_features.drop(['ROI'], axis=1) \n",
    "\n",
    "scaled_Gilmore_CT1y = scalerCT.transform(Gilmore_CT1y_data_features)\n",
    "scaled_Gilmore_SA1y = scalerSA.transform(Gilmore_SA1y_data_features)\n",
    "scaled_Gilmore_CT2y = scalerCT.transform(Gilmore_CT2y_data_features)\n",
    "scaled_Gilmore_SA2y = scalerSA.transform(Gilmore_SA2y_data_features)"
   ]
  },
  {
   "cell_type": "code",
   "execution_count": 12,
   "metadata": {},
   "outputs": [],
   "source": [
    "#Saving the scaled Gilmore data\n",
    "df0 = pd.DataFrame(scaled_Gilmore_CT1y)\n",
    "df1 = pd.DataFrame(scaled_Gilmore_SA1y)\n",
    "df2 = pd.DataFrame(scaled_Gilmore_CT2y)\n",
    "df3 = pd.DataFrame(scaled_Gilmore_SA2y)\n",
    "\n",
    "# Create a Pandas Excel writer using XlsxWriter as the engine.\n",
    "writer = pd.ExcelWriter('Scaled_Gilmore_Data_CT_SA_1_2.xlsx', engine='xlsxwriter')\n",
    "\n",
    "# Write each dataframe to a different worksheet.\n",
    "df0.to_excel(writer, sheet_name='Gilmore CONTE CT 1yr')\n",
    "df1.to_excel(writer, sheet_name='Gilmore CONTE SA 1yr')\n",
    "df2.to_excel(writer, sheet_name='Gilmore CONTE CT 2yr')\n",
    "df3.to_excel(writer, sheet_name='Gilmore CONTE SA 2yr')\n",
    "\n",
    "# Close the Pandas Excel writer and output the Excel file.\n",
    "writer.save()"
   ]
  },
  {
   "cell_type": "code",
   "execution_count": null,
   "metadata": {},
   "outputs": [],
   "source": []
  }
 ],
 "metadata": {
  "kernelspec": {
   "display_name": "Python 3",
   "language": "python",
   "name": "python3"
  },
  "language_info": {
   "codemirror_mode": {
    "name": "ipython",
    "version": 3
   },
   "file_extension": ".py",
   "mimetype": "text/x-python",
   "name": "python",
   "nbconvert_exporter": "python",
   "pygments_lexer": "ipython3",
   "version": "3.6.9"
  }
 },
 "nbformat": 4,
 "nbformat_minor": 4
}
