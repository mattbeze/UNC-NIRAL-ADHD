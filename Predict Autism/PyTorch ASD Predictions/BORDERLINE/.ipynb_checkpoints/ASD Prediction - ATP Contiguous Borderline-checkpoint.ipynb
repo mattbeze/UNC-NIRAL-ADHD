{
 "cells": [
  {
   "cell_type": "code",
   "execution_count": 1,
   "id": "intensive-executive",
   "metadata": {},
   "outputs": [
    {
     "data": {
      "text/plain": [
       "'import comet_ml\\ncomet_ml.config.save(api_key=\"YarDlAXZLHepLKBFlSPyWbDPt\")\\nfrom comet_ml import Experiment\\nexperiment = Experiment(\\n    api_key=\"YarDlAXZLHepLKBFlSPyWbDPt\",\\n    project_name=\"asd-pytorch-atp-c\",\\n    workspace=\"mattbeze\",\\n    auto_metric_logging=True,\\n    auto_param_logging=True,\\n    auto_histogram_weight_logging=True,\\n    auto_histogram_gradient_logging=True,\\n    auto_histogram_activation_logging=True,\\n)\\nhyper_params = {\\n    \"input_size\": 298,\\n    \"hidden_size1\": 100,\\n    \"hidden_size2\": 15,\\n    \"num_layers\": 4,\\n    \"num_classes\": 2,\\n    \"batch_size\": 35,\\n    \"num_epochs\": 50,\\n    \"learning_rate\": 0.01\\n}\\nexperiment.log_parameters(hyper_params)'"
      ]
     },
     "execution_count": 1,
     "metadata": {},
     "output_type": "execute_result"
    }
   ],
   "source": [
    "#COMET ML API KEY YarDlAXZLHepLKBFlSPyWbDPt\n",
    "'''import comet_ml\n",
    "comet_ml.config.save(api_key=\"YarDlAXZLHepLKBFlSPyWbDPt\")\n",
    "from comet_ml import Experiment\n",
    "experiment = Experiment(\n",
    "    api_key=\"YarDlAXZLHepLKBFlSPyWbDPt\",\n",
    "    project_name=\"asd-pytorch-atp-c\",\n",
    "    workspace=\"mattbeze\",\n",
    "    auto_metric_logging=True,\n",
    "    auto_param_logging=True,\n",
    "    auto_histogram_weight_logging=True,\n",
    "    auto_histogram_gradient_logging=True,\n",
    "    auto_histogram_activation_logging=True,\n",
    ")\n",
    "hyper_params = {\n",
    "    \"input_size\": 298,\n",
    "    \"hidden_size1\": 100,\n",
    "    \"hidden_size2\": 15,\n",
    "    \"num_layers\": 4,\n",
    "    \"num_classes\": 2,\n",
    "    \"batch_size\": 35,\n",
    "    \"num_epochs\": 50,\n",
    "    \"learning_rate\": 0.01\n",
    "}\n",
    "experiment.log_parameters(hyper_params)'''\n"
   ]
  },
  {
   "cell_type": "code",
   "execution_count": 2,
   "id": "foreign-airfare",
   "metadata": {},
   "outputs": [
    {
     "data": {
      "text/plain": [
       "<torch._C.Generator at 0x27d8a997a90>"
      ]
     },
     "execution_count": 2,
     "metadata": {},
     "output_type": "execute_result"
    }
   ],
   "source": [
    "import seaborn as sn\n",
    "from imblearn.over_sampling import SMOTE, BorderlineSMOTE\n",
    "import matplotlib.pyplot as plt\n",
    "import pandas as pd\n",
    "from sklearn.utils import class_weight\n",
    "from sklearn.metrics import accuracy_score, recall_score, confusion_matrix, multilabel_confusion_matrix, precision_score, precision_recall_curve, average_precision_score, classification_report\n",
    "from sklearn.model_selection import KFold, StratifiedKFold, train_test_split, GridSearchCV\n",
    "from sklearn.preprocessing import MinMaxScaler, LabelEncoder\n",
    "from torch.utils.data import Dataset, DataLoader, random_split\n",
    "from torch import Tensor\n",
    "from torch.nn import Linear, ReLU, Sigmoid, Module, BCELoss, BCEWithLogitsLoss\n",
    "from torch.optim import Adam\n",
    "import torch\n",
    "import torch.nn as nn\n",
    "import torch.optim as optim\n",
    "from torch.utils.data import Dataset, DataLoader\n",
    "from pandas import DataFrame\n",
    "import xlsxwriter\n",
    "import time\n",
    "\n",
    "seed_value = 7\n",
    "import os\n",
    "os.environ['PYTHONHASHSEED']=str(seed_value)\n",
    "import random\n",
    "random.seed(seed_value)\n",
    "import numpy as np\n",
    "np.random.seed(seed_value)\n",
    "import torch\n",
    "torch.manual_seed(seed_value)"
   ]
  },
  {
   "cell_type": "code",
   "execution_count": 3,
   "id": "cooked-scroll",
   "metadata": {},
   "outputs": [
    {
     "name": "stdout",
     "output_type": "stream",
     "text": [
      "(325, 298)\n",
      "(325, 1)\n"
     ]
    }
   ],
   "source": [
    "Training_Data = pd.ExcelFile(\"Labels.xlsx\") #Training Data already pre-scaled to the IBIS Data set\n",
    "data = Training_Data.parse(Training_Data.sheet_names[1])\n",
    "label_data = Training_Data.parse(Training_Data.sheet_names[0])\n",
    "data_features = data.loc[:, data.columns]\n",
    "data_features = data_features.drop(['Case','Visit','MATCH','INDEX','ASD+','ASD-','Gender'], axis=1)\n",
    "data_features = data_features.dropna()\n",
    "data_features = data_features.drop(['Final Label'], axis=1)\n",
    "labels = label_data.loc[:, label_data.columns]\n",
    "labels = labels.drop(['CASE','MATCH','INDEX','ASD+','ASD-'], axis=1)\n",
    "labels = labels.dropna()\n",
    "print(data_features.shape)\n",
    "print(labels.shape)"
   ]
  },
  {
   "cell_type": "code",
   "execution_count": 4,
   "id": "engaged-memorabilia",
   "metadata": {},
   "outputs": [
    {
     "name": "stdout",
     "output_type": "stream",
     "text": [
      "(340, 298)\n",
      "(340, 1)\n",
      "(114, 298)\n"
     ]
    }
   ],
   "source": [
    "scaler = MinMaxScaler()\n",
    "scaled_data = scaler.fit_transform(data_features)\n",
    "\n",
    "scaled_data.shape\n",
    "labels.shape\n",
    "\n",
    "X_train, X_test, Y_train, Y_test = train_test_split(scaled_data, labels, test_size=0.35, random_state=seed_value)\n",
    "sm = BorderlineSMOTE(kind= 'borderline-2',sampling_strategy = 'minority', random_state = seed_value, k_neighbors=2)\n",
    "\n",
    "#Imblearn has other SMOTE variants to look into.\n",
    "#ADASYN - creates synthetic data according to the data density. \n",
    "#The synthetic data generation would inversely proportional to the density of the minority class. It means more synthetic data are created in regions of the feature space where the density of minority examples is low, and fewer or none where the density is high.\n",
    "#In simpler terms, in an area where the minority class is less dense, the synthetic data are created more. Otherwise, the synthetic data is not made so much.\n",
    "#SMOTENC - Denote which features are categorical, and SMOTE would resample the categorical data instead of creating synthetic data.\n",
    "#Borderline SMOTE - Borderline Smote 2 can have categorical.\n",
    "#K SMOTE\n",
    "\n",
    "#Should increase testing size. Play with testing/training split.\n",
    "X_train_smoted, Y_train_smoted = sm.fit_sample(X_train, Y_train) #Only smote the training set.\n",
    "\n",
    "for x in X_train_smoted: #Round sex to be categorical\n",
    "    x[297] = round(x[297]) \n",
    "\n",
    "print(X_train_smoted.shape)\n",
    "print(Y_train_smoted.shape)\n",
    "print(X_test.shape)\n",
    "\n",
    "test_batch_size = X_test.shape[0]"
   ]
  },
  {
   "cell_type": "code",
   "execution_count": 5,
   "id": "consolidated-business",
   "metadata": {},
   "outputs": [],
   "source": [
    "#Some hyperparameters\n",
    "#D_in is input dimension; H is hidden dimension; D_out is output dimension. \n",
    "#Need to figure out how to get dropout\n",
    "D_in, H1, H2, D_out = 298, 100, 15, 1\n",
    "EPOCHS = 150\n",
    "BATCH_SIZE = 35\n",
    "LEARNING_RATE = 0.01\n",
    "\n",
    "## train data\n",
    "class trainData(Dataset):\n",
    "    \n",
    "    def __init__(self, X_data, y_data): #used to perform initializing operations such as reading data and preprocessing.\n",
    "        self.X_data = X_data\n",
    "        self.y_data = y_data\n",
    "        \n",
    "    def __getitem__(self, index): #returns data (input and output) in batches.\n",
    "        return self.X_data[index], self.y_data[index]\n",
    "        \n",
    "    def __len__ (self): #returns the size of the input data.\n",
    "        return len(self.X_data)\n",
    "\n",
    "#A dataloader is then used on this dataset class to read the data in batches.\n",
    "train_data = trainData(torch.FloatTensor(X_train_smoted), \n",
    "                       torch.FloatTensor(Y_train_smoted.values))\n",
    "## test data    \n",
    "class testData(Dataset):\n",
    "    \n",
    "    def __init__(self, X_data): ##used to perform initializing operations such as reading data and preprocessing.\n",
    "        self.X_data = X_data\n",
    "        \n",
    "    def __getitem__(self, index): #returns data (input and output) in batches.\n",
    "        return self.X_data[index]\n",
    "        \n",
    "    def __len__ (self): #returns the size of the input data.\n",
    "        return len(self.X_data)\n",
    "    \n",
    "#A dataloader is then used on this dataset class to read the data in batches.\n",
    "test_data = testData(torch.FloatTensor(X_test))\n",
    "\n",
    "#Initialize DataLoaders\n",
    "train_loader = DataLoader(dataset=train_data, batch_size=BATCH_SIZE, shuffle=True)\n",
    "test_loader = DataLoader(dataset=test_data, batch_size=test_batch_size) #Batch size of the validation set. Need 1 at a time for how it was setup in the tutorial."
   ]
  },
  {
   "cell_type": "code",
   "execution_count": 6,
   "id": "addressed-python",
   "metadata": {},
   "outputs": [
    {
     "name": "stdout",
     "output_type": "stream",
     "text": [
      "cpu\n"
     ]
    }
   ],
   "source": [
    "class binaryClassification(nn.Module):\n",
    "    def __init__(self):\n",
    "        super(binaryClassification, self).__init__()\n",
    "        # Number of input features is 298.\n",
    "        self.layer_1 = nn.Linear(D_in, H1) #298 -> 100\n",
    "        self.layer_2 = nn.Linear(H1, H2) #100 -> 15\n",
    "        self.layer_out = nn.Linear(H2, D_out) #15 -> 1\n",
    "        \n",
    "        self.relu = nn.ReLU()\n",
    "        self.dropout = nn.Dropout(p=0.15)\n",
    "        #self.batchnorm1 = nn.BatchNorm1d(100)\n",
    "        #self.batchnorm2 = nn.BatchNorm1d(15)\n",
    "        \n",
    "    def forward(self, inputs):\n",
    "        x = self.relu(self.layer_1(inputs)) #ReLU on the 298?\n",
    "        #x = self.batchnorm1(x) #Normalize the 100\n",
    "        x = self.dropout(x) #Dropout 15%\n",
    "        x = self.relu(self.layer_2(x)) #ReLU on the 100?\n",
    "        #x = self.batchnorm2(x) #Normalize the 15\n",
    "        x = self.layer_out(x) #1\n",
    "        \n",
    "        return x\n",
    "device = torch.device(\"cuda:0\" if torch.cuda.is_available() else \"cpu\")\n",
    "print(device)\n",
    "#Should use the CPU since I don't have a GPU."
   ]
  },
  {
   "cell_type": "code",
   "execution_count": 7,
   "id": "utility-fairy",
   "metadata": {},
   "outputs": [
    {
     "name": "stdout",
     "output_type": "stream",
     "text": [
      "binaryClassification(\n",
      "  (layer_1): Linear(in_features=298, out_features=100, bias=True)\n",
      "  (layer_2): Linear(in_features=100, out_features=15, bias=True)\n",
      "  (layer_out): Linear(in_features=15, out_features=1, bias=True)\n",
      "  (relu): ReLU()\n",
      "  (dropout): Dropout(p=0.15, inplace=False)\n",
      ")\n"
     ]
    }
   ],
   "source": [
    "#Model initialization and information on layers. The model's actual architecture can be viewed in the forward function above.\n",
    "model = binaryClassification()\n",
    "model.to(device)\n",
    "print(model)\n",
    "weights = torch.FloatTensor([5]) #Class weights\n",
    "criterion = nn.BCEWithLogitsLoss(pos_weight=weights)\n",
    "optimizer = optim.Adam(model.parameters(), lr=LEARNING_RATE)"
   ]
  },
  {
   "cell_type": "code",
   "execution_count": 8,
   "id": "ignored-treatment",
   "metadata": {},
   "outputs": [],
   "source": [
    "#Function to define accuracy. Should look to see if there is a prebuilt that I can use from sci-kit learn or something.\n",
    "def binary_acc(y_pred, y_test):\n",
    "    y_pred_tag = torch.round(torch.sigmoid(y_pred))\n",
    "\n",
    "    correct_results_sum = (y_pred_tag == y_test).sum().float()\n",
    "    acc = correct_results_sum/y_test.shape[0]\n",
    "    acc = torch.round(acc * 100)\n",
    "    \n",
    "    return acc"
   ]
  },
  {
   "cell_type": "code",
   "execution_count": 9,
   "id": "nervous-highland",
   "metadata": {},
   "outputs": [
    {
     "name": "stdout",
     "output_type": "stream",
     "text": [
      "Training Epoch 001: | Loss: 1.53629 | Acc: 49.000\n",
      "Validation Accuracy |  10.526315789473683  PPV |  [0.         0.10526316]  Recall |  [0. 1.]\n",
      "Training Epoch 002: | Loss: 1.34918 | Acc: 49.700\n",
      "Validation Accuracy |  10.526315789473683  PPV |  [0.         0.10526316]  Recall |  [0. 1.]\n",
      "Training Epoch 003: | Loss: 1.29726 | Acc: 50.200\n",
      "Validation Accuracy |  10.526315789473683  PPV |  [0.         0.10526316]  Recall |  [0. 1.]\n",
      "Training Epoch 004: | Loss: 1.29975 | Acc: 49.600\n"
     ]
    },
    {
     "name": "stderr",
     "output_type": "stream",
     "text": [
      "C:\\Users\\mattbeze\\Anaconda3\\envs\\pytorch\\lib\\site-packages\\sklearn\\metrics\\_classification.py:1245: UndefinedMetricWarning: Precision is ill-defined and being set to 0.0 in labels with no predicted samples. Use `zero_division` parameter to control this behavior.\n",
      "  _warn_prf(average, modifier, msg_start, len(result))\n",
      "C:\\Users\\mattbeze\\Anaconda3\\envs\\pytorch\\lib\\site-packages\\sklearn\\metrics\\_classification.py:1245: UndefinedMetricWarning: Precision is ill-defined and being set to 0.0 in labels with no predicted samples. Use `zero_division` parameter to control this behavior.\n",
      "  _warn_prf(average, modifier, msg_start, len(result))\n",
      "C:\\Users\\mattbeze\\Anaconda3\\envs\\pytorch\\lib\\site-packages\\sklearn\\metrics\\_classification.py:1245: UndefinedMetricWarning: Precision is ill-defined and being set to 0.0 in labels with no predicted samples. Use `zero_division` parameter to control this behavior.\n",
      "  _warn_prf(average, modifier, msg_start, len(result))\n",
      "C:\\Users\\mattbeze\\Anaconda3\\envs\\pytorch\\lib\\site-packages\\sklearn\\metrics\\_classification.py:1245: UndefinedMetricWarning: Precision is ill-defined and being set to 0.0 in labels with no predicted samples. Use `zero_division` parameter to control this behavior.\n",
      "  _warn_prf(average, modifier, msg_start, len(result))\n"
     ]
    },
    {
     "name": "stdout",
     "output_type": "stream",
     "text": [
      "Validation Accuracy |  10.526315789473683  PPV |  [0.         0.10526316]  Recall |  [0. 1.]\n",
      "Training Epoch 005: | Loss: 1.25013 | Acc: 50.200\n",
      "Validation Accuracy |  10.526315789473683  PPV |  [0.         0.10526316]  Recall |  [0. 1.]\n",
      "Training Epoch 006: | Loss: 1.18948 | Acc: 50.100\n",
      "Validation Accuracy |  11.403508771929824  PPV |  [1.         0.10619469]  Recall |  [0.00980392 1.        ]\n",
      "Training Epoch 007: | Loss: 1.20939 | Acc: 53.600\n",
      "Validation Accuracy |  14.035087719298245  PPV |  [1.         0.10909091]  Recall |  [0.03921569 1.        ]\n"
     ]
    },
    {
     "name": "stderr",
     "output_type": "stream",
     "text": [
      "C:\\Users\\mattbeze\\Anaconda3\\envs\\pytorch\\lib\\site-packages\\sklearn\\metrics\\_classification.py:1245: UndefinedMetricWarning: Precision is ill-defined and being set to 0.0 in labels with no predicted samples. Use `zero_division` parameter to control this behavior.\n",
      "  _warn_prf(average, modifier, msg_start, len(result))\n"
     ]
    },
    {
     "name": "stdout",
     "output_type": "stream",
     "text": [
      "Training Epoch 008: | Loss: 1.07383 | Acc: 54.600\n",
      "Validation Accuracy |  12.280701754385964  PPV |  [1.         0.10714286]  Recall |  [0.01960784 1.        ]\n",
      "Training Epoch 009: | Loss: 1.07140 | Acc: 56.000\n",
      "Validation Accuracy |  21.929824561403507  PPV |  [1.         0.11881188]  Recall |  [0.12745098 1.        ]\n",
      "Training Epoch 010: | Loss: 0.97982 | Acc: 66.800\n",
      "Validation Accuracy |  51.75438596491229  PPV |  [0.94339623 0.14754098]  Recall |  [0.49019608 0.75      ]\n",
      "Training Epoch 011: | Loss: 0.92891 | Acc: 70.200\n",
      "Validation Accuracy |  37.719298245614034  PPV |  [0.96969697 0.13580247]  Recall |  [0.31372549 0.91666667]\n",
      "Training Epoch 012: | Loss: 0.85716 | Acc: 69.700\n",
      "Validation Accuracy |  58.77192982456141  PPV |  [0.93650794 0.15686275]  Recall |  [0.57843137 0.66666667]\n",
      "Training Epoch 013: | Loss: 0.86316 | Acc: 75.000\n",
      "Validation Accuracy |  48.24561403508772  PPV |  [0.97777778 0.15942029]  Recall |  [0.43137255 0.91666667]\n",
      "Training Epoch 014: | Loss: 0.80344 | Acc: 73.200\n",
      "Validation Accuracy |  49.122807017543856  PPV |  [0.97826087 0.16176471]  Recall |  [0.44117647 0.91666667]\n",
      "Training Epoch 015: | Loss: 0.78107 | Acc: 77.000\n",
      "Validation Accuracy |  67.54385964912281  PPV |  [0.92207792 0.16216216]  Recall |  [0.69607843 0.5       ]\n",
      "Training Epoch 016: | Loss: 0.68169 | Acc: 78.000\n",
      "Validation Accuracy |  61.40350877192983  PPV |  [0.953125 0.18    ]  Recall |  [0.59803922 0.75      ]\n",
      "Training Epoch 017: | Loss: 0.67715 | Acc: 82.500\n",
      "Validation Accuracy |  32.45614035087719  PPV |  [0.96296296 0.12643678]  Recall |  [0.25490196 0.91666667]\n",
      "Training Epoch 018: | Loss: 0.86032 | Acc: 72.000\n",
      "Validation Accuracy |  42.98245614035088  PPV |  [0.97435897 0.14666667]  Recall |  [0.37254902 0.91666667]\n",
      "Training Epoch 019: | Loss: 0.61673 | Acc: 81.200\n",
      "Validation Accuracy |  74.56140350877193  PPV |  [0.91954023 0.18518519]  Recall |  [0.78431373 0.41666667]\n",
      "Training Epoch 020: | Loss: 0.59354 | Acc: 81.500\n",
      "Validation Accuracy |  56.14035087719298  PPV |  [0.96428571 0.17241379]  Recall |  [0.52941176 0.83333333]\n",
      "Training Epoch 021: | Loss: 0.59395 | Acc: 84.000\n",
      "Validation Accuracy |  59.64912280701754  PPV |  [0.9516129  0.17307692]  Recall |  [0.57843137 0.75      ]\n",
      "Training Epoch 022: | Loss: 0.46611 | Acc: 83.800\n",
      "Validation Accuracy |  68.42105263157895  PPV |  [0.92307692 0.16666667]  Recall |  [0.70588235 0.5       ]\n",
      "Training Epoch 023: | Loss: 0.58111 | Acc: 83.300\n",
      "Validation Accuracy |  62.28070175438597  PPV |  [0.94029851 0.17021277]  Recall |  [0.61764706 0.66666667]\n",
      "Training Epoch 024: | Loss: 0.56567 | Acc: 86.500\n",
      "Validation Accuracy |  67.54385964912281  PPV |  [0.94520548 0.19512195]  Recall |  [0.67647059 0.66666667]\n",
      "Training Epoch 025: | Loss: 0.67849 | Acc: 81.700\n",
      "Validation Accuracy |  49.122807017543856  PPV |  [0.95833333 0.15151515]  Recall |  [0.45098039 0.83333333]\n",
      "Training Epoch 026: | Loss: 0.95288 | Acc: 72.200\n",
      "Validation Accuracy |  54.385964912280706  PPV |  [0.94642857 0.15517241]  Recall |  [0.51960784 0.75      ]\n",
      "Training Epoch 027: | Loss: 0.87709 | Acc: 75.500\n",
      "Validation Accuracy |  49.122807017543856  PPV |  [0.95833333 0.15151515]  Recall |  [0.45098039 0.83333333]\n",
      "Training Epoch 028: | Loss: 0.67011 | Acc: 81.900\n",
      "Validation Accuracy |  60.526315789473685  PPV |  [0.93846154 0.16326531]  Recall |  [0.59803922 0.66666667]\n",
      "Training Epoch 029: | Loss: 0.68018 | Acc: 80.200\n",
      "Validation Accuracy |  38.59649122807017  PPV |  [0.97058824 0.1375    ]  Recall |  [0.32352941 0.91666667]\n",
      "Training Epoch 030: | Loss: 0.64146 | Acc: 77.500\n",
      "Validation Accuracy |  61.40350877192983  PPV |  [0.93939394 0.16666667]  Recall |  [0.60784314 0.66666667]\n",
      "Training Epoch 031: | Loss: 0.52018 | Acc: 86.200\n",
      "Validation Accuracy |  57.89473684210527  PPV |  [0.93548387 0.15384615]  Recall |  [0.56862745 0.66666667]\n",
      "Training Epoch 032: | Loss: 0.34881 | Acc: 89.400\n",
      "Validation Accuracy |  74.56140350877193  PPV |  [0.91954023 0.18518519]  Recall |  [0.78431373 0.41666667]\n",
      "Training Epoch 033: | Loss: 0.33754 | Acc: 91.700\n",
      "Validation Accuracy |  74.56140350877193  PPV |  [0.91011236 0.16      ]  Recall |  [0.79411765 0.33333333]\n",
      "Training Epoch 034: | Loss: 0.33968 | Acc: 91.300\n",
      "Validation Accuracy |  57.89473684210527  PPV |  [0.95       0.16666667]  Recall |  [0.55882353 0.75      ]\n",
      "Training Epoch 035: | Loss: 0.32906 | Acc: 91.600\n",
      "Validation Accuracy |  78.94736842105263  PPV |  [0.90625    0.16666667]  Recall |  [0.85294118 0.25      ]\n",
      "Training Epoch 036: | Loss: 0.25878 | Acc: 94.200\n",
      "Validation Accuracy |  71.9298245614035  PPV |  [0.91666667 0.16666667]  Recall |  [0.75490196 0.41666667]\n",
      "Training Epoch 037: | Loss: 0.55541 | Acc: 86.700\n",
      "Validation Accuracy |  80.7017543859649  PPV |  [0.90816327 0.1875    ]  Recall |  [0.87254902 0.25      ]\n",
      "Training Epoch 038: | Loss: 0.50287 | Acc: 89.500\n",
      "Validation Accuracy |  22.807017543859647  PPV |  [1.   0.12]  Recall |  [0.1372549 1.       ]\n",
      "Training Epoch 039: | Loss: 1.08511 | Acc: 71.500\n",
      "Validation Accuracy |  39.473684210526315  PPV |  [0.97142857 0.13924051]  Recall |  [0.33333333 0.91666667]\n",
      "Training Epoch 040: | Loss: 0.66049 | Acc: 77.200\n",
      "Validation Accuracy |  58.77192982456141  PPV |  [0.95081967 0.16981132]  Recall |  [0.56862745 0.75      ]\n",
      "Training Epoch 041: | Loss: 0.54160 | Acc: 83.700\n",
      "Validation Accuracy |  46.49122807017544  PPV |  [0.93617021 0.13432836]  Recall |  [0.43137255 0.75      ]\n",
      "Training Epoch 042: | Loss: 0.48897 | Acc: 85.000\n",
      "Validation Accuracy |  58.77192982456141  PPV |  [0.95081967 0.16981132]  Recall |  [0.56862745 0.75      ]\n",
      "Training Epoch 043: | Loss: 0.35195 | Acc: 90.200\n",
      "Validation Accuracy |  73.68421052631578  PPV |  [0.91860465 0.17857143]  Recall |  [0.7745098  0.41666667]\n",
      "Training Epoch 044: | Loss: 0.31647 | Acc: 89.800\n",
      "Validation Accuracy |  73.68421052631578  PPV |  [0.92857143 0.2       ]  Recall |  [0.76470588 0.5       ]\n",
      "Training Epoch 045: | Loss: 0.32553 | Acc: 92.500\n",
      "Validation Accuracy |  51.75438596491229  PPV |  [0.94339623 0.14754098]  Recall |  [0.49019608 0.75      ]\n",
      "Training Epoch 046: | Loss: 0.50695 | Acc: 85.300\n",
      "Validation Accuracy |  50.877192982456144  PPV |  [0.94230769 0.14516129]  Recall |  [0.48039216 0.75      ]\n",
      "Training Epoch 047: | Loss: 0.49643 | Acc: 86.800\n",
      "Validation Accuracy |  79.82456140350878  PPV |  [0.92473118 0.23809524]  Recall |  [0.84313725 0.41666667]\n",
      "Training Epoch 048: | Loss: 0.44269 | Acc: 88.700\n",
      "Validation Accuracy |  45.614035087719294  PPV |  [0.93478261 0.13235294]  Recall |  [0.42156863 0.75      ]\n",
      "Training Epoch 049: | Loss: 0.46740 | Acc: 87.300\n",
      "Validation Accuracy |  64.91228070175438  PPV |  [0.93055556 0.16666667]  Recall |  [0.65686275 0.58333333]\n",
      "Training Epoch 050: | Loss: 0.72407 | Acc: 70.900\n",
      "Validation Accuracy |  19.298245614035086  PPV |  [1.         0.11538462]  Recall |  [0.09803922 1.        ]\n",
      "Training Epoch 051: | Loss: 0.64177 | Acc: 70.700\n",
      "Validation Accuracy |  59.64912280701754  PPV |  [0.91176471 0.13043478]  Recall |  [0.60784314 0.5       ]\n",
      "Training Epoch 052: | Loss: 0.52680 | Acc: 85.600\n",
      "Validation Accuracy |  76.31578947368422  PPV |  [0.92134831 0.2       ]  Recall |  [0.80392157 0.41666667]\n",
      "Training Epoch 053: | Loss: 0.51343 | Acc: 90.500\n",
      "Validation Accuracy |  64.91228070175438  PPV |  [0.90789474 0.13157895]  Recall |  [0.67647059 0.41666667]\n",
      "Training Epoch 054: | Loss: 0.47094 | Acc: 89.300\n",
      "Validation Accuracy |  79.82456140350878  PPV |  [0.8989899  0.13333333]  Recall |  [0.87254902 0.16666667]\n",
      "Training Epoch 055: | Loss: 0.34000 | Acc: 93.700\n",
      "Validation Accuracy |  78.94736842105263  PPV |  [0.89       0.07142857]  Recall |  [0.87254902 0.08333333]\n",
      "Training Epoch 056: | Loss: 0.30233 | Acc: 93.500\n",
      "Validation Accuracy |  77.19298245614034  PPV |  [0.92222222 0.20833333]  Recall |  [0.81372549 0.41666667]\n",
      "Training Epoch 057: | Loss: 0.26324 | Acc: 93.800\n",
      "Validation Accuracy |  72.80701754385966  PPV |  [0.91764706 0.17241379]  Recall |  [0.76470588 0.41666667]\n",
      "Training Epoch 058: | Loss: 0.23011 | Acc: 94.700\n",
      "Validation Accuracy |  69.2982456140351  PPV |  [0.92405063 0.17142857]  Recall |  [0.71568627 0.5       ]\n",
      "Training Epoch 059: | Loss: 0.35376 | Acc: 89.800\n",
      "Validation Accuracy |  67.54385964912281  PPV |  [0.93333333 0.17948718]  Recall |  [0.68627451 0.58333333]\n",
      "Training Epoch 060: | Loss: 0.27268 | Acc: 89.500\n"
     ]
    },
    {
     "name": "stdout",
     "output_type": "stream",
     "text": [
      "Validation Accuracy |  76.31578947368422  PPV |  [0.92134831 0.2       ]  Recall |  [0.80392157 0.41666667]\n",
      "Training Epoch 061: | Loss: 0.26316 | Acc: 86.700\n",
      "Validation Accuracy |  71.9298245614035  PPV |  [0.91666667 0.16666667]  Recall |  [0.75490196 0.41666667]\n",
      "Training Epoch 062: | Loss: 0.27089 | Acc: 91.000\n",
      "Validation Accuracy |  74.56140350877193  PPV |  [0.91954023 0.18518519]  Recall |  [0.78431373 0.41666667]\n",
      "Training Epoch 063: | Loss: 0.22493 | Acc: 90.200\n",
      "Validation Accuracy |  73.68421052631578  PPV |  [0.91860465 0.17857143]  Recall |  [0.7745098  0.41666667]\n",
      "Training Epoch 064: | Loss: 0.20064 | Acc: 88.100\n",
      "Validation Accuracy |  80.7017543859649  PPV |  [0.9        0.14285714]  Recall |  [0.88235294 0.16666667]\n",
      "Training Epoch 065: | Loss: 0.61157 | Acc: 87.200\n",
      "Validation Accuracy |  42.98245614035088  PPV |  [0.95121951 0.1369863 ]  Recall |  [0.38235294 0.83333333]\n",
      "Training Epoch 066: | Loss: 0.49053 | Acc: 87.600\n",
      "Validation Accuracy |  71.05263157894737  PPV |  [0.90588235 0.13793103]  Recall |  [0.75490196 0.33333333]\n",
      "Training Epoch 067: | Loss: 0.35474 | Acc: 92.300\n",
      "Validation Accuracy |  64.91228070175438  PPV |  [0.91891892 0.15      ]  Recall |  [0.66666667 0.5       ]\n",
      "Training Epoch 068: | Loss: 0.31529 | Acc: 92.500\n",
      "Validation Accuracy |  76.31578947368422  PPV |  [0.90322581 0.14285714]  Recall |  [0.82352941 0.25      ]\n",
      "Training Epoch 069: | Loss: 0.30475 | Acc: 94.500\n",
      "Validation Accuracy |  76.31578947368422  PPV |  [0.92134831 0.2       ]  Recall |  [0.80392157 0.41666667]\n",
      "Training Epoch 070: | Loss: 0.31749 | Acc: 94.500\n",
      "Validation Accuracy |  66.66666666666666  PPV |  [0.92105263 0.15789474]  Recall |  [0.68627451 0.5       ]\n",
      "Training Epoch 071: | Loss: 0.39382 | Acc: 88.900\n",
      "Validation Accuracy |  52.63157894736842  PPV |  [0.94444444 0.15      ]  Recall |  [0.5  0.75]\n",
      "Training Epoch 072: | Loss: 0.25675 | Acc: 94.400\n",
      "Validation Accuracy |  73.68421052631578  PPV |  [0.91860465 0.17857143]  Recall |  [0.7745098  0.41666667]\n",
      "Training Epoch 073: | Loss: 0.34299 | Acc: 92.400\n",
      "Validation Accuracy |  72.80701754385966  PPV |  [0.90804598 0.14814815]  Recall |  [0.7745098  0.33333333]\n",
      "Training Epoch 074: | Loss: 0.25242 | Acc: 95.500\n",
      "Validation Accuracy |  74.56140350877193  PPV |  [0.91954023 0.18518519]  Recall |  [0.78431373 0.41666667]\n",
      "Training Epoch 075: | Loss: 0.19344 | Acc: 95.600\n",
      "Validation Accuracy |  74.56140350877193  PPV |  [0.91954023 0.18518519]  Recall |  [0.78431373 0.41666667]\n",
      "Training Epoch 076: | Loss: 0.20809 | Acc: 96.100\n",
      "Validation Accuracy |  69.2982456140351  PPV |  [0.91358025 0.15151515]  Recall |  [0.7254902  0.41666667]\n",
      "Training Epoch 077: | Loss: 0.32345 | Acc: 92.100\n",
      "Validation Accuracy |  76.31578947368422  PPV |  [0.89473684 0.10526316]  Recall |  [0.83333333 0.16666667]\n",
      "Training Epoch 078: | Loss: 0.27618 | Acc: 95.000\n",
      "Validation Accuracy |  77.19298245614034  PPV |  [0.92222222 0.20833333]  Recall |  [0.81372549 0.41666667]\n",
      "Training Epoch 079: | Loss: 0.22168 | Acc: 96.900\n",
      "Validation Accuracy |  65.78947368421053  PPV |  [0.93150685 0.17073171]  Recall |  [0.66666667 0.58333333]\n",
      "Training Epoch 080: | Loss: 0.19795 | Acc: 96.400\n",
      "Validation Accuracy |  71.9298245614035  PPV |  [0.91666667 0.16666667]  Recall |  [0.75490196 0.41666667]\n",
      "Training Epoch 081: | Loss: 0.20835 | Acc: 95.900\n",
      "Validation Accuracy |  71.9298245614035  PPV |  [0.91666667 0.16666667]  Recall |  [0.75490196 0.41666667]\n",
      "Training Epoch 082: | Loss: 0.20226 | Acc: 95.900\n",
      "Validation Accuracy |  77.19298245614034  PPV |  [0.92222222 0.20833333]  Recall |  [0.81372549 0.41666667]\n",
      "Training Epoch 083: | Loss: 0.17687 | Acc: 93.200\n",
      "Validation Accuracy |  68.42105263157895  PPV |  [0.92307692 0.16666667]  Recall |  [0.70588235 0.5       ]\n",
      "Training Epoch 084: | Loss: 0.16148 | Acc: 94.300\n",
      "Validation Accuracy |  77.19298245614034  PPV |  [0.89583333 0.11111111]  Recall |  [0.84313725 0.16666667]\n",
      "Training Epoch 085: | Loss: 0.18392 | Acc: 96.200\n",
      "Validation Accuracy |  75.43859649122807  PPV |  [0.92045455 0.19230769]  Recall |  [0.79411765 0.41666667]\n",
      "Training Epoch 086: | Loss: 0.26100 | Acc: 95.000\n",
      "Validation Accuracy |  74.56140350877193  PPV |  [0.91011236 0.16      ]  Recall |  [0.79411765 0.33333333]\n",
      "Training Epoch 087: | Loss: 0.22703 | Acc: 91.900\n",
      "Validation Accuracy |  75.43859649122807  PPV |  [0.91111111 0.16666667]  Recall |  [0.80392157 0.33333333]\n",
      "Training Epoch 088: | Loss: 0.19679 | Acc: 92.900\n",
      "Validation Accuracy |  76.31578947368422  PPV |  [0.91208791 0.17391304]  Recall |  [0.81372549 0.33333333]\n",
      "Training Epoch 089: | Loss: 0.24685 | Acc: 88.800\n",
      "Validation Accuracy |  72.80701754385966  PPV |  [0.91764706 0.17241379]  Recall |  [0.76470588 0.41666667]\n",
      "Training Epoch 090: | Loss: 0.32686 | Acc: 90.300\n",
      "Validation Accuracy |  75.43859649122807  PPV |  [0.90217391 0.13636364]  Recall |  [0.81372549 0.25      ]\n",
      "Training Epoch 091: | Loss: 0.35674 | Acc: 85.900\n",
      "Validation Accuracy |  79.82456140350878  PPV |  [0.8989899  0.13333333]  Recall |  [0.87254902 0.16666667]\n",
      "Training Epoch 092: | Loss: 0.36567 | Acc: 88.500\n",
      "Validation Accuracy |  49.122807017543856  PPV |  [0.94     0.140625]  Recall |  [0.46078431 0.75      ]\n",
      "Training Epoch 093: | Loss: 0.44099 | Acc: 81.800\n",
      "Validation Accuracy |  64.03508771929825  PPV |  [0.94202899 0.17777778]  Recall |  [0.6372549  0.66666667]\n",
      "Training Epoch 094: | Loss: 0.36043 | Acc: 84.700\n",
      "Validation Accuracy |  74.56140350877193  PPV |  [0.91011236 0.16      ]  Recall |  [0.79411765 0.33333333]\n",
      "Training Epoch 095: | Loss: 0.75018 | Acc: 66.700\n",
      "Validation Accuracy |  10.526315789473683  PPV |  [0.         0.10526316]  Recall |  [0. 1.]\n",
      "Training Epoch 096: | Loss: 0.68278 | Acc: 58.700\n",
      "Validation Accuracy |  80.7017543859649  PPV |  [0.9        0.14285714]  Recall |  [0.88235294 0.16666667]\n",
      "Training Epoch 097: | Loss: 0.71509 | Acc: 86.600\n",
      "Validation Accuracy |  "
     ]
    },
    {
     "name": "stderr",
     "output_type": "stream",
     "text": [
      "C:\\Users\\mattbeze\\Anaconda3\\envs\\pytorch\\lib\\site-packages\\sklearn\\metrics\\_classification.py:1245: UndefinedMetricWarning: Precision is ill-defined and being set to 0.0 in labels with no predicted samples. Use `zero_division` parameter to control this behavior.\n",
      "  _warn_prf(average, modifier, msg_start, len(result))\n"
     ]
    },
    {
     "name": "stdout",
     "output_type": "stream",
     "text": [
      "64.03508771929825  PPV |  [0.91780822 0.14634146]  Recall |  [0.65686275 0.5       ]\n",
      "Training Epoch 098: | Loss: 0.76141 | Acc: 87.900\n",
      "Validation Accuracy |  72.80701754385966  PPV |  [0.91764706 0.17241379]  Recall |  [0.76470588 0.41666667]\n",
      "Training Epoch 099: | Loss: 0.50195 | Acc: 94.100\n",
      "Validation Accuracy |  72.80701754385966  PPV |  [0.90804598 0.14814815]  Recall |  [0.7745098  0.33333333]\n",
      "Training Epoch 100: | Loss: 0.73460 | Acc: 88.400\n",
      "Validation Accuracy |  63.1578947368421  PPV |  [0.91666667 0.14285714]  Recall |  [0.64705882 0.5       ]\n",
      "Training Epoch 101: | Loss: 0.57676 | Acc: 91.800\n",
      "Validation Accuracy |  58.77192982456141  PPV |  [0.91044776 0.12765957]  Recall |  [0.59803922 0.5       ]\n",
      "Training Epoch 102: | Loss: 0.70819 | Acc: 86.900\n",
      "Validation Accuracy |  74.56140350877193  PPV |  [0.89247312 0.0952381 ]  Recall |  [0.81372549 0.16666667]\n",
      "Training Epoch 103: | Loss: 0.68024 | Acc: 90.100\n",
      "Validation Accuracy |  56.14035087719298  PPV |  [0.90625 0.12   ]  Recall |  [0.56862745 0.5       ]\n",
      "Training Epoch 104: | Loss: 0.71259 | Acc: 86.200\n",
      "Validation Accuracy |  66.66666666666666  PPV |  [0.91025641 0.13888889]  Recall |  [0.69607843 0.41666667]\n",
      "Training Epoch 105: | Loss: 0.63019 | Acc: 90.900\n",
      "Validation Accuracy |  75.43859649122807  PPV |  [0.91111111 0.16666667]  Recall |  [0.80392157 0.33333333]\n",
      "Training Epoch 106: | Loss: 0.59773 | Acc: 92.100\n",
      "Validation Accuracy |  68.42105263157895  PPV |  [0.9125     0.14705882]  Recall |  [0.71568627 0.41666667]\n",
      "Training Epoch 107: | Loss: 0.62639 | Acc: 91.900\n",
      "Validation Accuracy |  70.17543859649122  PPV |  [0.91463415 0.15625   ]  Recall |  [0.73529412 0.41666667]\n",
      "Training Epoch 108: | Loss: 0.63656 | Acc: 91.200\n",
      "Validation Accuracy |  73.68421052631578  PPV |  [0.90909091 0.15384615]  Recall |  [0.78431373 0.33333333]\n",
      "Training Epoch 109: | Loss: 0.56673 | Acc: 92.500\n",
      "Validation Accuracy |  73.68421052631578  PPV |  [0.91860465 0.17857143]  Recall |  [0.7745098  0.41666667]\n",
      "Training Epoch 110: | Loss: 0.65015 | Acc: 90.900\n",
      "Validation Accuracy |  74.56140350877193  PPV |  [0.91011236 0.16      ]  Recall |  [0.79411765 0.33333333]\n",
      "Training Epoch 111: | Loss: 0.61593 | Acc: 91.900\n",
      "Validation Accuracy |  66.66666666666666  PPV |  [0.91025641 0.13888889]  Recall |  [0.69607843 0.41666667]\n",
      "Training Epoch 112: | Loss: 0.74789 | Acc: 88.900\n",
      "Validation Accuracy |  65.78947368421053  PPV |  [0.90909091 0.13513514]  Recall |  [0.68627451 0.41666667]\n",
      "Training Epoch 113: | Loss: 0.61343 | Acc: 62.200\n",
      "Validation Accuracy |  11.403508771929824  PPV |  [1.         0.10619469]  Recall |  [0.00980392 1.        ]\n",
      "Training Epoch 114: | Loss: 0.65328 | Acc: 86.000\n",
      "Validation Accuracy |  72.80701754385966  PPV |  [0.90804598 0.14814815]  Recall |  [0.7745098  0.33333333]\n",
      "Training Epoch 115: | Loss: 0.59084 | Acc: 92.100\n",
      "Validation Accuracy |  70.17543859649122  PPV |  [0.91463415 0.15625   ]  Recall |  [0.73529412 0.41666667]\n",
      "Training Epoch 116: | Loss: 0.72519 | Acc: 85.500\n",
      "Validation Accuracy |  10.526315789473683  PPV |  [0.         0.10526316]  Recall |  [0. 1.]\n",
      "Training Epoch 117: | Loss: 0.61404 | Acc: 49.700\n",
      "Validation Accuracy |  71.9298245614035  PPV |  [0.90697674 0.14285714]  Recall |  [0.76470588 0.33333333]\n",
      "Training Epoch 118: | Loss: 0.65929 | Acc: 90.300\n",
      "Validation Accuracy |  74.56140350877193  PPV |  [0.89247312 0.0952381 ]  Recall |  [0.81372549 0.16666667]\n",
      "Training Epoch 119: | Loss: 0.60754 | Acc: 92.500\n"
     ]
    },
    {
     "name": "stderr",
     "output_type": "stream",
     "text": [
      "C:\\Users\\mattbeze\\Anaconda3\\envs\\pytorch\\lib\\site-packages\\sklearn\\metrics\\_classification.py:1245: UndefinedMetricWarning: Precision is ill-defined and being set to 0.0 in labels with no predicted samples. Use `zero_division` parameter to control this behavior.\n",
      "  _warn_prf(average, modifier, msg_start, len(result))\n"
     ]
    },
    {
     "name": "stdout",
     "output_type": "stream",
     "text": [
      "Validation Accuracy |  66.66666666666666  PPV |  [0.91025641 0.13888889]  Recall |  [0.69607843 0.41666667]\n",
      "Training Epoch 120: | Loss: 0.58789 | Acc: 92.700\n",
      "Validation Accuracy |  69.2982456140351  PPV |  [0.91358025 0.15151515]  Recall |  [0.7254902  0.41666667]\n",
      "Training Epoch 121: | Loss: 0.54908 | Acc: 93.600\n",
      "Validation Accuracy |  67.54385964912281  PPV |  [0.91139241 0.14285714]  Recall |  [0.70588235 0.41666667]\n",
      "Training Epoch 122: | Loss: 0.62220 | Acc: 91.500\n",
      "Validation Accuracy |  66.66666666666666  PPV |  [0.91025641 0.13888889]  Recall |  [0.69607843 0.41666667]\n",
      "Training Epoch 123: | Loss: 0.56844 | Acc: 92.300\n",
      "Validation Accuracy |  61.40350877192983  PPV |  [0.90277778 0.11904762]  Recall |  [0.6372549  0.41666667]\n",
      "Training Epoch 124: | Loss: 0.63969 | Acc: 90.100\n",
      "Validation Accuracy |  67.54385964912281  PPV |  [0.91139241 0.14285714]  Recall |  [0.70588235 0.41666667]\n",
      "Training Epoch 125: | Loss: 0.52954 | Acc: 93.200\n",
      "Validation Accuracy |  68.42105263157895  PPV |  [0.9125     0.14705882]  Recall |  [0.71568627 0.41666667]\n",
      "Training Epoch 126: | Loss: 0.69409 | Acc: 89.200\n",
      "Validation Accuracy |  82.45614035087719  PPV |  [0.90196078 0.16666667]  Recall |  [0.90196078 0.16666667]\n",
      "Training Epoch 127: | Loss: 0.61456 | Acc: 91.900\n",
      "Validation Accuracy |  78.0701754385965  PPV |  [0.89690722 0.11764706]  Recall |  [0.85294118 0.16666667]\n",
      "Training Epoch 128: | Loss: 0.62743 | Acc: 91.800\n",
      "Validation Accuracy |  56.14035087719298  PPV |  [0.90625 0.12   ]  Recall |  [0.56862745 0.5       ]\n",
      "Training Epoch 129: | Loss: 0.53244 | Acc: 93.200\n",
      "Validation Accuracy |  61.40350877192983  PPV |  [0.90277778 0.11904762]  Recall |  [0.6372549  0.41666667]\n",
      "Training Epoch 130: | Loss: 0.65069 | Acc: 90.400\n",
      "Validation Accuracy |  69.2982456140351  PPV |  [0.91358025 0.15151515]  Recall |  [0.7254902  0.41666667]\n",
      "Training Epoch 131: | Loss: 0.73336 | Acc: 89.500\n",
      "Validation Accuracy |  11.403508771929824  PPV |  [1.         0.10619469]  Recall |  [0.00980392 1.        ]\n",
      "Training Epoch 132: | Loss: 0.60414 | Acc: 56.500\n",
      "Validation Accuracy |  65.78947368421053  PPV |  [0.90909091 0.13513514]  Recall |  [0.68627451 0.41666667]\n",
      "Training Epoch 133: | Loss: 0.60672 | Acc: 91.700\n",
      "Validation Accuracy |  79.82456140350878  PPV |  [0.8989899  0.13333333]  Recall |  [0.87254902 0.16666667]\n",
      "Training Epoch 134: | Loss: 0.80021 | Acc: 87.200\n",
      "Validation Accuracy |  47.368421052631575  PPV |  [0.95652174 0.14705882]  Recall |  [0.43137255 0.83333333]\n",
      "Training Epoch 135: | Loss: 0.97520 | Acc: 75.900\n"
     ]
    },
    {
     "name": "stderr",
     "output_type": "stream",
     "text": [
      "C:\\Users\\mattbeze\\Anaconda3\\envs\\pytorch\\lib\\site-packages\\sklearn\\metrics\\_classification.py:1245: UndefinedMetricWarning: Precision is ill-defined and being set to 0.0 in labels with no predicted samples. Use `zero_division` parameter to control this behavior.\n",
      "  _warn_prf(average, modifier, msg_start, len(result))\n",
      "C:\\Users\\mattbeze\\Anaconda3\\envs\\pytorch\\lib\\site-packages\\sklearn\\metrics\\_classification.py:1245: UndefinedMetricWarning: Precision is ill-defined and being set to 0.0 in labels with no predicted samples. Use `zero_division` parameter to control this behavior.\n",
      "  _warn_prf(average, modifier, msg_start, len(result))\n",
      "C:\\Users\\mattbeze\\Anaconda3\\envs\\pytorch\\lib\\site-packages\\sklearn\\metrics\\_classification.py:1245: UndefinedMetricWarning: Precision is ill-defined and being set to 0.0 in labels with no predicted samples. Use `zero_division` parameter to control this behavior.\n",
      "  _warn_prf(average, modifier, msg_start, len(result))\n"
     ]
    },
    {
     "name": "stdout",
     "output_type": "stream",
     "text": [
      "Validation Accuracy |  10.526315789473683  PPV |  [0.         0.10526316]  Recall |  [0. 1.]\n",
      "Training Epoch 136: | Loss: 1.21803 | Acc: 50.300\n",
      "Validation Accuracy |  10.526315789473683  PPV |  [0.         0.10526316]  Recall |  [0. 1.]\n",
      "Training Epoch 137: | Loss: 0.97586 | Acc: 49.800\n",
      "Validation Accuracy |  10.526315789473683  PPV |  [0.         0.10526316]  Recall |  [0. 1.]\n",
      "Training Epoch 138: | Loss: 0.75461 | Acc: 49.700\n",
      "Validation Accuracy |  75.43859649122807  PPV |  [0.90217391 0.13636364]  Recall |  [0.81372549 0.25      ]\n",
      "Training Epoch 139: | Loss: 0.60261 | Acc: 92.100\n",
      "Validation Accuracy |  71.05263157894737  PPV |  [0.91566265 0.16129032]  Recall |  [0.74509804 0.41666667]\n",
      "Training Epoch 140: | Loss: 0.70952 | Acc: 90.200\n",
      "Validation Accuracy |  64.91228070175438  PPV |  [0.90789474 0.13157895]  Recall |  [0.67647059 0.41666667]\n",
      "Training Epoch 141: | Loss: 0.67707 | Acc: 67.700\n",
      "Validation Accuracy |  10.526315789473683  PPV |  [0.         0.10526316]  Recall |  [0. 1.]\n",
      "Training Epoch 142: | Loss: 0.73520 | Acc: 50.700\n"
     ]
    },
    {
     "name": "stderr",
     "output_type": "stream",
     "text": [
      "C:\\Users\\mattbeze\\Anaconda3\\envs\\pytorch\\lib\\site-packages\\sklearn\\metrics\\_classification.py:1245: UndefinedMetricWarning: Precision is ill-defined and being set to 0.0 in labels with no predicted samples. Use `zero_division` parameter to control this behavior.\n",
      "  _warn_prf(average, modifier, msg_start, len(result))\n",
      "C:\\Users\\mattbeze\\Anaconda3\\envs\\pytorch\\lib\\site-packages\\sklearn\\metrics\\_classification.py:1245: UndefinedMetricWarning: Precision is ill-defined and being set to 0.0 in labels with no predicted samples. Use `zero_division` parameter to control this behavior.\n",
      "  _warn_prf(average, modifier, msg_start, len(result))\n"
     ]
    },
    {
     "name": "stdout",
     "output_type": "stream",
     "text": [
      "Validation Accuracy |  10.526315789473683  PPV |  [0.         0.10526316]  Recall |  [0. 1.]\n",
      "Training Epoch 143: | Loss: 0.56179 | Acc: 64.300\n",
      "Validation Accuracy |  73.68421052631578  PPV |  [0.91860465 0.17857143]  Recall |  [0.7745098  0.41666667]\n",
      "Training Epoch 144: | Loss: 0.65626 | Acc: 90.500\n",
      "Validation Accuracy |  61.40350877192983  PPV |  [0.90277778 0.11904762]  Recall |  [0.6372549  0.41666667]\n",
      "Training Epoch 145: | Loss: 0.53919 | Acc: 93.700\n",
      "Validation Accuracy |  71.05263157894737  PPV |  [0.91566265 0.16129032]  Recall |  [0.74509804 0.41666667]\n",
      "Training Epoch 146: | Loss: 0.55063 | Acc: 93.600\n",
      "Validation Accuracy |  72.80701754385966  PPV |  [0.90804598 0.14814815]  Recall |  [0.7745098  0.33333333]\n",
      "Training Epoch 147: | Loss: 0.58743 | Acc: 92.500\n",
      "Validation Accuracy |  66.66666666666666  PPV |  [0.91025641 0.13888889]  Recall |  [0.69607843 0.41666667]\n",
      "Training Epoch 148: | Loss: 0.55988 | Acc: 93.500\n",
      "Validation Accuracy |  64.91228070175438  PPV |  [0.90789474 0.13157895]  Recall |  [0.67647059 0.41666667]\n",
      "Training Epoch 149: | Loss: 0.48619 | Acc: 94.900\n",
      "Validation Accuracy |  64.91228070175438  PPV |  [0.90789474 0.13157895]  Recall |  [0.67647059 0.41666667]\n",
      "Training Epoch 150: | Loss: 0.53842 | Acc: 93.800\n",
      "Validation Accuracy |  72.80701754385966  PPV |  [0.91764706 0.17241379]  Recall |  [0.76470588 0.41666667]\n"
     ]
    }
   ],
   "source": [
    "#model.train() tells PyTorch that you’re in training mode.\n",
    "#Similarly, we’ll call model.eval() when we test our model. We’ll see that below.\n",
    "'''If you’re using layers such as Dropout or BatchNorm which behave differently during training and evaluation, \n",
    "you need to tell PyTorch to act accordingly. While the default mode in PyTorch is the train, \n",
    "so, you don’t explicitly have to write that. But it’s good practice.'''\n",
    "val_acc = []\n",
    "train_acc = []\n",
    "train_loss = []\n",
    "val_loss = []\n",
    "\n",
    "model.train() #Initial training mode\n",
    "for e in range(1, EPOCHS+1):\n",
    "    epoch_loss = 0\n",
    "    epoch_acc = 0\n",
    "    for X_batch, y_batch in train_loader:\n",
    "        X_batch, y_batch = X_batch.to(device), y_batch.to(device)\n",
    "        optimizer.zero_grad()\n",
    "        \n",
    "        y_pred = model(X_batch)\n",
    "        \n",
    "        loss = criterion(y_pred, y_batch)\n",
    "        acc = binary_acc(y_pred, y_batch)\n",
    "        \n",
    "        loss.backward()\n",
    "        optimizer.step()\n",
    "        \n",
    "        epoch_loss += loss.item()\n",
    "        epoch_acc += acc.item()\n",
    "    \n",
    "    train_acc.append(epoch_acc/len(train_loader))\n",
    "    train_loss.append(epoch_loss/len(train_loader))\n",
    "    print(f'Training Epoch {e+0:03}: | Loss: {epoch_loss/len(train_loader):.5f} | Acc: {epoch_acc/len(train_loader):.3f}')\n",
    "    #Validation metrics here\n",
    "    model.eval()\n",
    "    #print(\"Evaluation mode\")\n",
    "    y_pred_list = []\n",
    "    test_loader = DataLoader(dataset=test_data, batch_size=test_batch_size)\n",
    "    with torch.no_grad():\n",
    "        counter = 0\n",
    "        for X_batch in test_loader:\n",
    "            X_batch = X_batch.to(device)\n",
    "            y_test_pred = model(X_batch)\n",
    "            y_test_pred = torch.sigmoid(y_test_pred)\n",
    "            y_pred_tag = torch.round(y_test_pred)\n",
    "            y_pred_list.append(y_pred_tag.cpu().numpy())\n",
    "            loss = criterion(y_test_pred,torch.FloatTensor(Y_test.values))\n",
    "            val_loss.append(loss)\n",
    "            counter+=1\n",
    "            \n",
    "    y_pred_list = []\n",
    "    test_loader = DataLoader(dataset=test_data, batch_size=1)\n",
    "    with torch.no_grad():\n",
    "        for X_batch in test_loader:\n",
    "            X_batch = X_batch.to(device)\n",
    "            y_test_pred = model(X_batch)\n",
    "            y_test_pred = torch.sigmoid(y_test_pred)\n",
    "            y_pred_tag = torch.round(y_test_pred)\n",
    "            y_pred_list.append(y_pred_tag.cpu().numpy())\n",
    "            \n",
    "    y_pred_list = [a.squeeze().tolist() for a in y_pred_list]\n",
    "    y_loss_df = pd.DataFrame(y_pred_list)\n",
    "    accuracy = accuracy_score(torch.FloatTensor(Y_test.values), y_pred_list)\n",
    "    ppv = precision_score(Y_test, y_pred_list, average=None)\n",
    "    recall = recall_score(Y_test, y_pred_list, average=None)\n",
    "    print(\"Validation Accuracy | \",accuracy*100,\" PPV | \",ppv,\" Recall | \",recall)\n",
    "    val_acc.append(accuracy*100)\n",
    "    model.train()\n",
    "    #print(\"Return to training mode\")\n",
    "    \n",
    "    #Need to get validation loss."
   ]
  },
  {
   "cell_type": "code",
   "execution_count": 10,
   "id": "empirical-college",
   "metadata": {},
   "outputs": [
    {
     "data": {
      "image/png": "[encoded data removed]",
      "text/plain": [
       "<Figure size 432x288 with 1 Axes>"
      ]
     },
     "metadata": {
      "needs_background": "light"
     },
     "output_type": "display_data"
    },
    {
     "data": {
      "image/png": "[encoded data removed]",
      "text/plain": [
       "<Figure size 432x288 with 1 Axes>"
      ]
     },
     "metadata": {
      "needs_background": "light"
     },
     "output_type": "display_data"
    }
   ],
   "source": [
    "#Plotting loss\n",
    "plt.plot(train_loss)\n",
    "plt.plot(val_loss)\n",
    "plt.title('model loss')\n",
    "plt.ylabel('loss')\n",
    "plt.xlabel('epoch')\n",
    "plt.legend(['train', 'validation'], loc='upper left')\n",
    "plt.axis([0, EPOCHS-1, 0.0, 1.5])\n",
    "plt.show()\n",
    "\n",
    "#Plotting Accuracy\n",
    "plt.plot(train_acc)\n",
    "plt.plot(val_acc)\n",
    "plt.title('model accuracy')\n",
    "plt.ylabel('acc')\n",
    "plt.xlabel('epoch')\n",
    "plt.legend(['train_acc', 'val_acc'], loc='upper left')\n",
    "plt.axis([0, EPOCHS-1, 0.0, 105])\n",
    "plt.show()"
   ]
  },
  {
   "cell_type": "code",
   "execution_count": 11,
   "id": "employed-radical",
   "metadata": {},
   "outputs": [
    {
     "name": "stdout",
     "output_type": "stream",
     "text": [
      "Validation Accuracy |  72.80701754385966  PPV |  [0.91764706 0.17241379]  Recall |  [0.76470588 0.41666667]\n"
     ]
    },
    {
     "data": {
      "text/plain": [
       "<AxesSubplot:>"
      ]
     },
     "execution_count": 11,
     "metadata": {},
     "output_type": "execute_result"
    },
    {
     "data": {
      "image/png": "[encoded data removed]",
      "text/plain": [
       "<Figure size 432x288 with 2 Axes>"
      ]
     },
     "metadata": {
      "needs_background": "light"
     },
     "output_type": "display_data"
    }
   ],
   "source": [
    "y_pred_list = []\n",
    "test_loader = DataLoader(dataset=test_data, batch_size=1)\n",
    "model.eval() #Model evaluation\n",
    "with torch.no_grad():\n",
    "    for X_batch in test_loader:\n",
    "        X_batch = X_batch.to(device)\n",
    "        y_test_pred = model(X_batch)\n",
    "        y_test_pred = torch.sigmoid(y_test_pred)\n",
    "        y_pred_tag = torch.round(y_test_pred)\n",
    "        y_pred_list.append(y_pred_tag.cpu().numpy())\n",
    "\n",
    "y_pred_list = [a.squeeze().tolist() for a in y_pred_list]\n",
    "accuracy = accuracy_score(Y_test, y_pred_list)\n",
    "ppv = precision_score(Y_test, y_pred_list, average=None)\n",
    "recall = recall_score(Y_test, y_pred_list, average=None)\n",
    "print(\"Validation Accuracy | \",accuracy*100,\" PPV | \",ppv,\" Recall | \",recall)\n",
    "cf_matrix = confusion_matrix(Y_test, y_pred_list)\n",
    "sn.heatmap(cf_matrix, annot=True)"
   ]
  },
  {
   "cell_type": "code",
   "execution_count": 12,
   "id": "seasonal-ottawa",
   "metadata": {},
   "outputs": [
    {
     "name": "stdout",
     "output_type": "stream",
     "text": [
      "              precision    recall  f1-score   support\n",
      "\n",
      "         0.0       0.92      0.76      0.83       102\n",
      "         1.0       0.17      0.42      0.24        12\n",
      "\n",
      "    accuracy                           0.73       114\n",
      "   macro avg       0.55      0.59      0.54       114\n",
      "weighted avg       0.84      0.73      0.77       114\n",
      "\n"
     ]
    }
   ],
   "source": [
    "print(classification_report(Y_test, y_pred_list))"
   ]
  },
  {
   "cell_type": "code",
   "execution_count": 13,
   "id": "atomic-album",
   "metadata": {},
   "outputs": [
    {
     "data": {
      "text/plain": [
       "'\\n10% Test - 25 05 ppv - 0.29 recall - 0.667\\n            1  2\\n15% Test - 39 04 ppv - 0.33 recall - 0.33\\n            4  2 \\n20% Test - 51 07 ppv - 0.12 recall - 0.14            \\n            6  1\\n25% Test - 59 14 ppv - 0.18 recall - 0.33\\n            6  3\\n30% Test - 72 15 ppv - 0.12 recall - 0.18\\n            9  2\\n'"
      ]
     },
     "execution_count": 13,
     "metadata": {},
     "output_type": "execute_result"
    }
   ],
   "source": [
    "#Save model once everything is all figured out\n",
    "\n",
    "#Models below were initially trained at 150 epochs. Re-trained for when accuracy was highest, without overtraining.\n",
    "'''\n",
    "10% Test - 25 05 ppv - 0.29 recall - 0.667\n",
    "            1  2\n",
    "15% Test - 39 04 ppv - 0.33 recall - 0.33\n",
    "            4  2 \n",
    "20% Test - 51 07 ppv - 0.12 recall - 0.14            \n",
    "            6  1\n",
    "25% Test - 59 14 ppv - 0.18 recall - 0.33\n",
    "            6  3\n",
    "30% Test - 72 15 ppv - 0.12 recall - 0.18\n",
    "            9  2\n",
    "35% Test - 78 24 ppv - 0.17 recall - 0.42\n",
    "            7  5\n",
    "'''"
   ]
  },
  {
   "cell_type": "code",
   "execution_count": null,
   "id": "dental-prince",
   "metadata": {},
   "outputs": [],
   "source": []
  }
 ],
 "metadata": {
  "kernelspec": {
   "display_name": "Python 3",
   "language": "python",
   "name": "python3"
  },
  "language_info": {
   "codemirror_mode": {
    "name": "ipython",
    "version": 3
   },
   "file_extension": ".py",
   "mimetype": "text/x-python",
   "name": "python",
   "nbconvert_exporter": "python",
   "pygments_lexer": "ipython3",
   "version": "3.7.9"
  }
 },
 "nbformat": 4,
 "nbformat_minor": 5
}
