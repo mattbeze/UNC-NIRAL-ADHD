{
 "cells": [
  {
   "cell_type": "code",
   "execution_count": 1,
   "id": "intensive-executive",
   "metadata": {},
   "outputs": [
    {
     "data": {
      "text/plain": [
       "'import comet_ml\\ncomet_ml.config.save(api_key=\"YarDlAXZLHepLKBFlSPyWbDPt\")\\nfrom comet_ml import Experiment\\nexperiment = Experiment(\\n    api_key=\"YarDlAXZLHepLKBFlSPyWbDPt\",\\n    project_name=\"asd-pytorch-atp-c\",\\n    workspace=\"mattbeze\",\\n    auto_metric_logging=True,\\n    auto_param_logging=True,\\n    auto_histogram_weight_logging=True,\\n    auto_histogram_gradient_logging=True,\\n    auto_histogram_activation_logging=True,\\n)\\nhyper_params = {\\n    \"input_size\": 298,\\n    \"hidden_size1\": 100,\\n    \"hidden_size2\": 15,\\n    \"num_layers\": 4,\\n    \"num_classes\": 2,\\n    \"batch_size\": 35,\\n    \"num_epochs\": 50,\\n    \"learning_rate\": 0.01\\n}\\nexperiment.log_parameters(hyper_params)'"
      ]
     },
     "execution_count": 1,
     "metadata": {},
     "output_type": "execute_result"
    }
   ],
   "source": [
    "#COMET ML API KEY YarDlAXZLHepLKBFlSPyWbDPt\n",
    "'''import comet_ml\n",
    "comet_ml.config.save(api_key=\"YarDlAXZLHepLKBFlSPyWbDPt\")\n",
    "from comet_ml import Experiment\n",
    "experiment = Experiment(\n",
    "    api_key=\"YarDlAXZLHepLKBFlSPyWbDPt\",\n",
    "    project_name=\"asd-pytorch-atp-c\",\n",
    "    workspace=\"mattbeze\",\n",
    "    auto_metric_logging=True,\n",
    "    auto_param_logging=True,\n",
    "    auto_histogram_weight_logging=True,\n",
    "    auto_histogram_gradient_logging=True,\n",
    "    auto_histogram_activation_logging=True,\n",
    ")\n",
    "hyper_params = {\n",
    "    \"input_size\": 298,\n",
    "    \"hidden_size1\": 100,\n",
    "    \"hidden_size2\": 15,\n",
    "    \"num_layers\": 4,\n",
    "    \"num_classes\": 2,\n",
    "    \"batch_size\": 35,\n",
    "    \"num_epochs\": 50,\n",
    "    \"learning_rate\": 0.01\n",
    "}\n",
    "experiment.log_parameters(hyper_params)'''\n"
   ]
  },
  {
   "cell_type": "code",
   "execution_count": 2,
   "id": "foreign-airfare",
   "metadata": {},
   "outputs": [
    {
     "data": {
      "text/plain": [
       "<torch._C.Generator at 0x1fdb45f7a90>"
      ]
     },
     "execution_count": 2,
     "metadata": {},
     "output_type": "execute_result"
    }
   ],
   "source": [
    "import seaborn as sn\n",
    "from imblearn.over_sampling import SMOTE \n",
    "import matplotlib.pyplot as plt\n",
    "import pandas as pd\n",
    "from sklearn.utils import class_weight\n",
    "from sklearn.metrics import accuracy_score, recall_score, confusion_matrix, multilabel_confusion_matrix, precision_score, precision_recall_curve, average_precision_score, classification_report\n",
    "from sklearn.model_selection import KFold, StratifiedKFold, train_test_split, GridSearchCV\n",
    "from sklearn.preprocessing import MinMaxScaler, LabelEncoder\n",
    "from torch.utils.data import Dataset, DataLoader, random_split\n",
    "from torch import Tensor\n",
    "from torch.nn import Linear, ReLU, Sigmoid, Module, BCELoss, BCEWithLogitsLoss\n",
    "from torch.optim import Adam\n",
    "import torch\n",
    "import torch.nn as nn\n",
    "import torch.optim as optim\n",
    "from torch.utils.data import Dataset, DataLoader\n",
    "from pandas import DataFrame\n",
    "import xlsxwriter\n",
    "import time\n",
    "\n",
    "seed_value = 7\n",
    "import os\n",
    "os.environ['PYTHONHASHSEED']=str(seed_value)\n",
    "import random\n",
    "random.seed(seed_value)\n",
    "import numpy as np\n",
    "np.random.seed(seed_value)\n",
    "import torch\n",
    "torch.manual_seed(seed_value)"
   ]
  },
  {
   "cell_type": "code",
   "execution_count": 3,
   "id": "cooked-scroll",
   "metadata": {},
   "outputs": [
    {
     "name": "stdout",
     "output_type": "stream",
     "text": [
      "(325, 298)\n",
      "(325, 1)\n"
     ]
    }
   ],
   "source": [
    "Training_Data = pd.ExcelFile(\"Labels.xlsx\") #Training Data already pre-scaled to the IBIS Data set\n",
    "data = Training_Data.parse(Training_Data.sheet_names[1])\n",
    "label_data = Training_Data.parse(Training_Data.sheet_names[0])\n",
    "data_features = data.loc[:, data.columns]\n",
    "data_features = data_features.drop(['Case','Visit','MATCH','INDEX','ASD+','ASD-','Gender'], axis=1)\n",
    "data_features = data_features.dropna()\n",
    "data_features = data_features.drop(['Final Label'], axis=1)\n",
    "labels = label_data.loc[:, label_data.columns]\n",
    "labels = labels.drop(['CASE','MATCH','INDEX','ASD+','ASD-'], axis=1)\n",
    "labels = labels.dropna()\n",
    "print(data_features.shape)\n",
    "print(labels.shape)"
   ]
  },
  {
   "cell_type": "code",
   "execution_count": 4,
   "id": "engaged-memorabilia",
   "metadata": {},
   "outputs": [
    {
     "name": "stdout",
     "output_type": "stream",
     "text": [
      "(484, 298)\n",
      "(484, 1)\n"
     ]
    }
   ],
   "source": [
    "scaler = MinMaxScaler()\n",
    "scaled_data = scaler.fit_transform(data_features)\n",
    "\n",
    "scaled_data.shape\n",
    "labels.shape\n",
    "\n",
    "X_train, X_test, Y_train, Y_test = train_test_split(scaled_data, labels, test_size=0.10, random_state=seed_value)\n",
    "sm = SMOTE(sampling_strategy = 'minority', random_state = seed_value, k_neighbors=2) \n",
    "X_train_smoted, Y_train_smoted = sm.fit_sample(X_train, Y_train) #Only smote the training set.\n",
    "\n",
    "print(X_train_smoted.shape)\n",
    "print(Y_train_smoted.shape)"
   ]
  },
  {
   "cell_type": "code",
   "execution_count": 5,
   "id": "consolidated-business",
   "metadata": {},
   "outputs": [],
   "source": [
    "#Some hyperparameters\n",
    "#D_in is input dimension; H is hidden dimension; D_out is output dimension. #Need to figure out how to get dropout\n",
    "D_in, H1, H2, D_out = 298, 100, 25, 1\n",
    "EPOCHS = 150\n",
    "BATCH_SIZE = 35\n",
    "LEARNING_RATE = 0.01\n",
    "\n",
    "## train data\n",
    "class trainData(Dataset):\n",
    "    \n",
    "    def __init__(self, X_data, y_data): #used to perform initializing operations such as reading data and preprocessing.\n",
    "        self.X_data = X_data\n",
    "        self.y_data = y_data\n",
    "        \n",
    "    def __getitem__(self, index): #returns data (input and output) in batches.\n",
    "        return self.X_data[index], self.y_data[index]\n",
    "        \n",
    "    def __len__ (self): #returns the size of the input data.\n",
    "        return len(self.X_data)\n",
    "\n",
    "#A dataloader is then used on this dataset class to read the data in batches.\n",
    "train_data = trainData(torch.FloatTensor(X_train_smoted), \n",
    "                       torch.FloatTensor(Y_train_smoted.values))\n",
    "## test data    \n",
    "class testData(Dataset):\n",
    "    \n",
    "    def __init__(self, X_data): ##used to perform initializing operations such as reading data and preprocessing.\n",
    "        self.X_data = X_data\n",
    "        \n",
    "    def __getitem__(self, index): #returns data (input and output) in batches.\n",
    "        return self.X_data[index]\n",
    "        \n",
    "    def __len__ (self): #returns the size of the input data.\n",
    "        return len(self.X_data)\n",
    "    \n",
    "#A dataloader is then used on this dataset class to read the data in batches.\n",
    "test_data = testData(torch.FloatTensor(X_test))\n",
    "\n",
    "#Initialize DataLoaders\n",
    "train_loader = DataLoader(dataset=train_data, batch_size=BATCH_SIZE, shuffle=True)\n",
    "test_loader = DataLoader(dataset=test_data, batch_size=33) #Batch size of the validation set. Need 1 at a time for how it was setup in the tutorial."
   ]
  },
  {
   "cell_type": "code",
   "execution_count": 6,
   "id": "addressed-python",
   "metadata": {},
   "outputs": [
    {
     "name": "stdout",
     "output_type": "stream",
     "text": [
      "cpu\n"
     ]
    }
   ],
   "source": [
    "class binaryClassification(nn.Module):\n",
    "    def __init__(self):\n",
    "        super(binaryClassification, self).__init__()\n",
    "        # Number of input features is 298.\n",
    "        self.layer_1 = nn.Linear(D_in, H1) #298 -> 100\n",
    "        self.layer_2 = nn.Linear(H1, H2) #100 -> 15\n",
    "        self.layer_out = nn.Linear(H2, D_out) #15 -> 1\n",
    "        \n",
    "        self.relu = nn.ReLU()\n",
    "        self.dropout = nn.Dropout(p=0.15)\n",
    "        self.batchnorm1 = nn.BatchNorm1d(H1)\n",
    "        self.batchnorm2 = nn.BatchNorm1d(H2)\n",
    "        \n",
    "    def forward(self, inputs):\n",
    "        x = self.relu(self.layer_1(inputs)) #ReLU on the 298?\n",
    "        x = self.batchnorm1(x) #Normalize the 100\n",
    "        x = self.dropout(x) #Dropout 15%\n",
    "        x = self.relu(self.layer_2(x)) #ReLU on the 100?\n",
    "        x = self.batchnorm2(x) #Normalize the 15\n",
    "        x = self.layer_out(x) #1\n",
    "        \n",
    "        return x\n",
    "device = torch.device(\"cuda:0\" if torch.cuda.is_available() else \"cpu\")\n",
    "print(device)\n",
    "#Should use the CPU since I don't have a GPU."
   ]
  },
  {
   "cell_type": "code",
   "execution_count": 7,
   "id": "utility-fairy",
   "metadata": {},
   "outputs": [
    {
     "name": "stdout",
     "output_type": "stream",
     "text": [
      "binaryClassification(\n",
      "  (layer_1): Linear(in_features=298, out_features=100, bias=True)\n",
      "  (layer_2): Linear(in_features=100, out_features=25, bias=True)\n",
      "  (layer_out): Linear(in_features=25, out_features=1, bias=True)\n",
      "  (relu): ReLU()\n",
      "  (dropout): Dropout(p=0.15, inplace=False)\n",
      "  (batchnorm1): BatchNorm1d(100, eps=1e-05, momentum=0.1, affine=True, track_running_stats=True)\n",
      "  (batchnorm2): BatchNorm1d(25, eps=1e-05, momentum=0.1, affine=True, track_running_stats=True)\n",
      ")\n"
     ]
    }
   ],
   "source": [
    "#Model initialization and information on layers. The model's actual architecture can be viewed in the forward function above.\n",
    "model = binaryClassification()\n",
    "model.to(device)\n",
    "print(model)\n",
    "weights = torch.FloatTensor([5]) #Class weights?\n",
    "criterion = nn.BCEWithLogitsLoss(pos_weight=weights)\n",
    "optimizer = optim.Adam(model.parameters(), lr=LEARNING_RATE)"
   ]
  },
  {
   "cell_type": "code",
   "execution_count": 8,
   "id": "ignored-treatment",
   "metadata": {},
   "outputs": [],
   "source": [
    "#Function to define accuracy. Should look to see if there is a prebuilt that I can use from sci-kit learn or something.\n",
    "def binary_acc(y_pred, y_test):\n",
    "    y_pred_tag = torch.round(torch.sigmoid(y_pred))\n",
    "\n",
    "    correct_results_sum = (y_pred_tag == y_test).sum().float()\n",
    "    acc = correct_results_sum/y_test.shape[0]\n",
    "    acc = torch.round(acc * 100)\n",
    "    \n",
    "    return acc"
   ]
  },
  {
   "cell_type": "code",
   "execution_count": 9,
   "id": "nervous-highland",
   "metadata": {},
   "outputs": [
    {
     "name": "stdout",
     "output_type": "stream",
     "text": [
      "Training Epoch 001: | Loss: 1.51757 | Acc: 65.214\n",
      "Validation Accuracy |  9.090909090909092  PPV |  [0.         0.09090909]  Recall |  [0. 1.]\n",
      "Training Epoch 002: | Loss: 0.71021 | Acc: 79.500\n",
      "Validation Accuracy |  36.36363636363637  PPV |  [1.    0.125]  Recall |  [0.3 1. ]\n"
     ]
    },
    {
     "name": "stderr",
     "output_type": "stream",
     "text": [
      "C:\\Users\\mattbeze\\Anaconda3\\envs\\pytorch\\lib\\site-packages\\sklearn\\metrics\\_classification.py:1245: UndefinedMetricWarning: Precision is ill-defined and being set to 0.0 in labels with no predicted samples. Use `zero_division` parameter to control this behavior.\n",
      "  _warn_prf(average, modifier, msg_start, len(result))\n"
     ]
    },
    {
     "name": "stdout",
     "output_type": "stream",
     "text": [
      "Training Epoch 003: | Loss: 0.46598 | Acc: 84.357\n",
      "Validation Accuracy |  87.87878787878788  PPV |  [0.90625 0.     ]  Recall |  [0.96666667 0.        ]\n",
      "Training Epoch 004: | Loss: 0.33548 | Acc: 91.071\n",
      "Validation Accuracy |  78.78787878787878  PPV |  [0.89655172 0.        ]  Recall |  [0.86666667 0.        ]\n",
      "Training Epoch 005: | Loss: 0.21282 | Acc: 93.786\n",
      "Validation Accuracy |  84.84848484848484  PPV |  [0.96296296 0.33333333]  Recall |  [0.86666667 0.66666667]\n",
      "Training Epoch 006: | Loss: 0.28754 | Acc: 93.786\n",
      "Validation Accuracy |  87.87878787878788  PPV |  [0.90625 0.     ]  Recall |  [0.96666667 0.        ]\n",
      "Training Epoch 007: | Loss: 0.26855 | Acc: 93.000\n",
      "Validation Accuracy |  24.242424242424242  PPV |  [1.         0.10714286]  Recall |  [0.16666667 1.        ]\n",
      "Training Epoch 008: | Loss: 0.25444 | Acc: 93.429\n",
      "Validation Accuracy |  57.57575757575758  PPV |  [0.94444444 0.13333333]  Recall |  [0.56666667 0.66666667]\n",
      "Training Epoch 009: | Loss: 0.19213 | Acc: 93.214\n",
      "Validation Accuracy |  48.484848484848484  PPV |  [0.93333333 0.11111111]  Recall |  [0.46666667 0.66666667]\n",
      "Training Epoch 010: | Loss: 0.08720 | Acc: 97.857\n",
      "Validation Accuracy |  81.81818181818183  PPV |  [0.9 0. ]  Recall |  [0.9 0. ]\n",
      "Training Epoch 011: | Loss: 0.07280 | Acc: 98.786\n",
      "Validation Accuracy |  69.6969696969697  PPV |  [0.95454545 0.18181818]  Recall |  [0.7        0.66666667]\n",
      "Training Epoch 012: | Loss: 0.05384 | Acc: 98.714\n",
      "Validation Accuracy |  84.84848484848484  PPV |  [0.93103448 0.25      ]  Recall |  [0.9        0.33333333]\n",
      "Training Epoch 013: | Loss: 0.02817 | Acc: 99.571\n",
      "Validation Accuracy |  84.84848484848484  PPV |  [0.93103448 0.25      ]  Recall |  [0.9        0.33333333]\n",
      "Training Epoch 014: | Loss: 0.02572 | Acc: 99.786\n",
      "Validation Accuracy |  66.66666666666666  PPV |  [0.95238095 0.16666667]  Recall |  [0.66666667 0.66666667]\n",
      "Training Epoch 015: | Loss: 0.02377 | Acc: 99.571\n",
      "Validation Accuracy |  81.81818181818183  PPV |  [0.9 0. ]  Recall |  [0.9 0. ]\n",
      "Training Epoch 016: | Loss: 0.03385 | Acc: 99.786\n",
      "Validation Accuracy |  72.72727272727273  PPV |  [0.95652174 0.2       ]  Recall |  [0.73333333 0.66666667]\n",
      "Training Epoch 017: | Loss: 0.06293 | Acc: 98.929\n",
      "Validation Accuracy |  84.84848484848484  PPV |  [0.93103448 0.25      ]  Recall |  [0.9        0.33333333]\n",
      "Training Epoch 018: | Loss: 0.07932 | Acc: 97.857\n",
      "Validation Accuracy |  39.39393939393939  PPV |  [0.91666667 0.0952381 ]  Recall |  [0.36666667 0.66666667]\n",
      "Training Epoch 019: | Loss: 0.14808 | Acc: 96.214\n",
      "Validation Accuracy |  66.66666666666666  PPV |  [0.88 0.  ]  Recall |  [0.73333333 0.        ]\n",
      "Training Epoch 020: | Loss: 0.27095 | Acc: 93.857\n",
      "Validation Accuracy |  90.9090909090909  PPV |  [0.90909091 0.        ]  Recall |  [1. 0.]\n",
      "Training Epoch 021: | Loss: 0.22996 | Acc: 93.000\n",
      "Validation Accuracy |  45.45454545454545  PPV |  [0.92857143 0.10526316]  Recall |  [0.43333333 0.66666667]\n"
     ]
    },
    {
     "name": "stderr",
     "output_type": "stream",
     "text": [
      "C:\\Users\\mattbeze\\Anaconda3\\envs\\pytorch\\lib\\site-packages\\sklearn\\metrics\\_classification.py:1245: UndefinedMetricWarning: Precision is ill-defined and being set to 0.0 in labels with no predicted samples. Use `zero_division` parameter to control this behavior.\n",
      "  _warn_prf(average, modifier, msg_start, len(result))\n"
     ]
    },
    {
     "name": "stdout",
     "output_type": "stream",
     "text": [
      "Training Epoch 022: | Loss: 0.11282 | Acc: 97.643\n",
      "Validation Accuracy |  81.81818181818183  PPV |  [0.92857143 0.2       ]  Recall |  [0.86666667 0.33333333]\n",
      "Training Epoch 023: | Loss: 0.07085 | Acc: 97.429\n",
      "Validation Accuracy |  84.84848484848484  PPV |  [0.93103448 0.25      ]  Recall |  [0.9        0.33333333]\n",
      "Training Epoch 024: | Loss: 0.09005 | Acc: 97.071\n",
      "Validation Accuracy |  84.84848484848484  PPV |  [0.93103448 0.25      ]  Recall |  [0.9        0.33333333]\n",
      "Training Epoch 025: | Loss: 0.05400 | Acc: 98.929\n",
      "Validation Accuracy |  39.39393939393939  PPV |  [0.91666667 0.0952381 ]  Recall |  [0.36666667 0.66666667]\n",
      "Training Epoch 026: | Loss: 0.06399 | Acc: 98.143\n",
      "Validation Accuracy |  87.87878787878788  PPV |  [0.93333333 0.33333333]  Recall |  [0.93333333 0.33333333]\n",
      "Training Epoch 027: | Loss: 0.03681 | Acc: 98.714\n",
      "Validation Accuracy |  66.66666666666666  PPV |  [0.91304348 0.1       ]  Recall |  [0.7        0.33333333]\n",
      "Training Epoch 028: | Loss: 0.04166 | Acc: 99.143\n",
      "Validation Accuracy |  81.81818181818183  PPV |  [0.92857143 0.2       ]  Recall |  [0.86666667 0.33333333]\n",
      "Training Epoch 029: | Loss: 0.03126 | Acc: 99.143\n",
      "Validation Accuracy |  75.75757575757575  PPV |  [0.89285714 0.        ]  Recall |  [0.83333333 0.        ]\n",
      "Training Epoch 030: | Loss: 0.01274 | Acc: 99.786\n",
      "Validation Accuracy |  78.78787878787878  PPV |  [0.92592593 0.16666667]  Recall |  [0.83333333 0.33333333]\n",
      "Training Epoch 031: | Loss: 0.08379 | Acc: 97.929\n",
      "Validation Accuracy |  90.9090909090909  PPV |  [0.90909091 0.        ]  Recall |  [1. 0.]\n",
      "Training Epoch 032: | Loss: 0.06198 | Acc: 97.857\n",
      "Validation Accuracy |  36.36363636363637  PPV |  [0.84615385 0.05      ]  Recall |  [0.36666667 0.33333333]\n"
     ]
    },
    {
     "name": "stderr",
     "output_type": "stream",
     "text": [
      "C:\\Users\\mattbeze\\Anaconda3\\envs\\pytorch\\lib\\site-packages\\sklearn\\metrics\\_classification.py:1245: UndefinedMetricWarning: Precision is ill-defined and being set to 0.0 in labels with no predicted samples. Use `zero_division` parameter to control this behavior.\n",
      "  _warn_prf(average, modifier, msg_start, len(result))\n"
     ]
    },
    {
     "name": "stdout",
     "output_type": "stream",
     "text": [
      "Training Epoch 033: | Loss: 0.03919 | Acc: 98.857\n",
      "Validation Accuracy |  84.84848484848484  PPV |  [0.90322581 0.        ]  Recall |  [0.93333333 0.        ]\n",
      "Training Epoch 034: | Loss: 0.04174 | Acc: 98.357\n",
      "Validation Accuracy |  78.78787878787878  PPV |  [0.89655172 0.        ]  Recall |  [0.86666667 0.        ]\n",
      "Training Epoch 035: | Loss: 0.03357 | Acc: 99.571\n",
      "Validation Accuracy |  84.84848484848484  PPV |  [0.90322581 0.        ]  Recall |  [0.93333333 0.        ]\n",
      "Training Epoch 036: | Loss: 0.03922 | Acc: 99.143\n",
      "Validation Accuracy |  75.75757575757575  PPV |  [0.92307692 0.14285714]  Recall |  [0.8        0.33333333]\n",
      "Training Epoch 037: | Loss: 0.09287 | Acc: 98.071\n",
      "Validation Accuracy |  90.9090909090909  PPV |  [0.93548387 0.5       ]  Recall |  [0.96666667 0.33333333]\n",
      "Training Epoch 038: | Loss: 0.07371 | Acc: 97.571\n",
      "Validation Accuracy |  90.9090909090909  PPV |  [0.90909091 0.        ]  Recall |  [1. 0.]\n",
      "Training Epoch 039: | Loss: 0.12785 | Acc: 98.500\n",
      "Validation Accuracy |  33.33333333333333  PPV |  [0.9        0.08695652]  Recall |  [0.3        0.66666667]\n"
     ]
    },
    {
     "name": "stderr",
     "output_type": "stream",
     "text": [
      "C:\\Users\\mattbeze\\Anaconda3\\envs\\pytorch\\lib\\site-packages\\sklearn\\metrics\\_classification.py:1245: UndefinedMetricWarning: Precision is ill-defined and being set to 0.0 in labels with no predicted samples. Use `zero_division` parameter to control this behavior.\n",
      "  _warn_prf(average, modifier, msg_start, len(result))\n"
     ]
    },
    {
     "name": "stdout",
     "output_type": "stream",
     "text": [
      "Training Epoch 040: | Loss: 0.19024 | Acc: 97.000\n",
      "Validation Accuracy |  78.78787878787878  PPV |  [0.92592593 0.16666667]  Recall |  [0.83333333 0.33333333]\n",
      "Training Epoch 041: | Loss: 0.11390 | Acc: 96.643\n",
      "Validation Accuracy |  63.63636363636363  PPV |  [0.90909091 0.09090909]  Recall |  [0.66666667 0.33333333]\n",
      "Training Epoch 042: | Loss: 0.05692 | Acc: 98.500\n",
      "Validation Accuracy |  75.75757575757575  PPV |  [0.92307692 0.14285714]  Recall |  [0.8        0.33333333]\n",
      "Training Epoch 043: | Loss: 0.03885 | Acc: 99.357\n",
      "Validation Accuracy |  72.72727272727273  PPV |  [0.92  0.125]  Recall |  [0.76666667 0.33333333]\n",
      "Training Epoch 044: | Loss: 0.06595 | Acc: 98.500\n",
      "Validation Accuracy |  78.78787878787878  PPV |  [0.89655172 0.        ]  Recall |  [0.86666667 0.        ]\n",
      "Training Epoch 045: | Loss: 0.03486 | Acc: 99.571\n",
      "Validation Accuracy |  69.6969696969697  PPV |  [0.91666667 0.11111111]  Recall |  [0.73333333 0.33333333]\n",
      "Training Epoch 046: | Loss: 0.05312 | Acc: 98.571\n",
      "Validation Accuracy |  42.42424242424242  PPV |  [0.86666667 0.05555556]  Recall |  [0.43333333 0.33333333]\n",
      "Training Epoch 047: | Loss: 0.04066 | Acc: 98.429\n",
      "Validation Accuracy |  87.87878787878788  PPV |  [0.90625 0.     ]  Recall |  [0.96666667 0.        ]\n",
      "Training Epoch 048: | Loss: 0.02511 | Acc: 99.571\n",
      "Validation Accuracy |  84.84848484848484  PPV |  [0.93103448 0.25      ]  Recall |  [0.9        0.33333333]\n",
      "Training Epoch 049: | Loss: 0.01880 | Acc: 99.786\n",
      "Validation Accuracy |  78.78787878787878  PPV |  [0.92592593 0.16666667]  Recall |  [0.83333333 0.33333333]\n",
      "Training Epoch 050: | Loss: 0.01725 | Acc: 99.357\n",
      "Validation Accuracy |  84.84848484848484  PPV |  [0.93103448 0.25      ]  Recall |  [0.9        0.33333333]\n",
      "Training Epoch 051: | Loss: 0.02258 | Acc: 99.786\n",
      "Validation Accuracy |  63.63636363636363  PPV |  [0.90909091 0.09090909]  Recall |  [0.66666667 0.33333333]\n",
      "Training Epoch 052: | Loss: 0.02989 | Acc: 99.143\n",
      "Validation Accuracy |  60.60606060606061  PPV |  [0.9047619  0.08333333]  Recall |  [0.63333333 0.33333333]\n",
      "Training Epoch 053: | Loss: 0.02685 | Acc: 99.571\n",
      "Validation Accuracy |  72.72727272727273  PPV |  [0.88888889 0.        ]  Recall |  [0.8 0. ]\n",
      "Training Epoch 054: | Loss: 0.03002 | Acc: 99.357\n",
      "Validation Accuracy |  66.66666666666666  PPV |  [0.91304348 0.1       ]  Recall |  [0.7        0.33333333]\n",
      "Training Epoch 055: | Loss: 0.00653 | Acc: 100.000\n",
      "Validation Accuracy |  63.63636363636363  PPV |  [0.90909091 0.09090909]  Recall |  [0.66666667 0.33333333]\n",
      "Training Epoch 056: | Loss: 0.01867 | Acc: 99.571\n",
      "Validation Accuracy |  81.81818181818183  PPV |  [0.92857143 0.2       ]  Recall |  [0.86666667 0.33333333]\n",
      "Training Epoch 057: | Loss: 0.00520 | Acc: 100.000\n",
      "Validation Accuracy |  78.78787878787878  PPV |  [0.92592593 0.16666667]  Recall |  [0.83333333 0.33333333]\n",
      "Training Epoch 058: | Loss: 0.00427 | Acc: 100.000\n",
      "Validation Accuracy |  78.78787878787878  PPV |  [0.92592593 0.16666667]  Recall |  [0.83333333 0.33333333]\n",
      "Training Epoch 059: | Loss: 0.02121 | Acc: 99.571\n",
      "Validation Accuracy |  66.66666666666666  PPV |  [0.91304348 0.1       ]  Recall |  [0.7        0.33333333]\n",
      "Training Epoch 060: | Loss: 0.00910 | Acc: 100.000\n",
      "Validation Accuracy |  84.84848484848484  PPV |  [0.90322581 0.        ]  Recall |  [0.93333333 0.        ]\n",
      "Training Epoch 061: | Loss: 0.00797 | Acc: 100.000\n",
      "Validation Accuracy |  81.81818181818183  PPV |  [0.9 0. ]  Recall |  [0.9 0. ]\n",
      "Training Epoch 062: | Loss: 0.02141 | Acc: 99.786\n",
      "Validation Accuracy |  57.57575757575758  PPV |  [0.9        0.07692308]  Recall |  [0.6        0.33333333]\n",
      "Training Epoch 063: | Loss: 0.01328 | Acc: 99.786\n",
      "Validation Accuracy |  69.6969696969697  PPV |  [0.91666667 0.11111111]  Recall |  [0.73333333 0.33333333]\n",
      "Training Epoch 064: | Loss: 0.01227 | Acc: 99.571\n",
      "Validation Accuracy |  72.72727272727273  PPV |  [0.88888889 0.        ]  Recall |  [0.8 0. ]\n",
      "Training Epoch 065: | Loss: 0.02180 | Acc: 99.571\n",
      "Validation Accuracy |  57.57575757575758  PPV |  [0.9        0.07692308]  Recall |  [0.6        0.33333333]\n",
      "Training Epoch 066: | Loss: 0.00627 | Acc: 100.000\n",
      "Validation Accuracy |  60.60606060606061  PPV |  [0.9047619  0.08333333]  Recall |  [0.63333333 0.33333333]\n",
      "Training Epoch 067: | Loss: 0.00591 | Acc: 99.786\n",
      "Validation Accuracy |  69.6969696969697  PPV |  [0.88461538 0.        ]  Recall |  [0.76666667 0.        ]\n",
      "Training Epoch 068: | Loss: 0.00768 | Acc: 100.000\n",
      "Validation Accuracy |  69.6969696969697  PPV |  [0.91666667 0.11111111]  Recall |  [0.73333333 0.33333333]\n",
      "Training Epoch 069: | Loss: 0.00516 | Acc: 100.000\n",
      "Validation Accuracy |  69.6969696969697  PPV |  [0.88461538 0.        ]  Recall |  [0.76666667 0.        ]\n",
      "Training Epoch 070: | Loss: 0.00547 | Acc: 99.786\n",
      "Validation Accuracy |  75.75757575757575  PPV |  [0.89285714 0.        ]  Recall |  [0.83333333 0.        ]\n",
      "Training Epoch 071: | Loss: 0.00520 | Acc: 99.786\n",
      "Validation Accuracy |  72.72727272727273  PPV |  [0.88888889 0.        ]  Recall |  [0.8 0. ]\n",
      "Training Epoch 072: | Loss: 0.00143 | Acc: 100.000\n",
      "Validation Accuracy |  72.72727272727273  PPV |  [0.88888889 0.        ]  Recall |  [0.8 0. ]\n",
      "Training Epoch 073: | Loss: 0.02006 | Acc: 99.786\n",
      "Validation Accuracy |  75.75757575757575  PPV |  [0.92307692 0.14285714]  Recall |  [0.8        0.33333333]\n",
      "Training Epoch 074: | Loss: 0.00392 | Acc: 100.000\n",
      "Validation Accuracy |  75.75757575757575  PPV |  [0.92307692 0.14285714]  Recall |  [0.8        0.33333333]\n",
      "Training Epoch 075: | Loss: 0.00551 | Acc: 100.000\n",
      "Validation Accuracy |  72.72727272727273  PPV |  [0.92  0.125]  Recall |  [0.76666667 0.33333333]\n",
      "Training Epoch 076: | Loss: 0.00496 | Acc: 100.000\n",
      "Validation Accuracy |  72.72727272727273  PPV |  [0.92  0.125]  Recall |  [0.76666667 0.33333333]\n",
      "Training Epoch 077: | Loss: 0.00307 | Acc: 100.000\n",
      "Validation Accuracy |  78.78787878787878  PPV |  [0.92592593 0.16666667]  Recall |  [0.83333333 0.33333333]\n",
      "Training Epoch 078: | Loss: 0.00989 | Acc: 99.786\n",
      "Validation Accuracy |  75.75757575757575  PPV |  [0.89285714 0.        ]  Recall |  [0.83333333 0.        ]\n",
      "Training Epoch 079: | Loss: 0.00712 | Acc: 99.571\n",
      "Validation Accuracy |  72.72727272727273  PPV |  [0.88888889 0.        ]  Recall |  [0.8 0. ]\n",
      "Training Epoch 080: | Loss: 0.01450 | Acc: 99.571\n",
      "Validation Accuracy |  69.6969696969697  PPV |  [0.91666667 0.11111111]  Recall |  [0.73333333 0.33333333]\n",
      "Training Epoch 081: | Loss: 0.01104 | Acc: 99.786\n",
      "Validation Accuracy |  81.81818181818183  PPV |  [0.9 0. ]  Recall |  [0.9 0. ]\n",
      "Training Epoch 082: | Loss: 0.04911 | Acc: 99.786\n",
      "Validation Accuracy |  78.78787878787878  PPV |  [0.89655172 0.        ]  Recall |  [0.86666667 0.        ]\n",
      "Training Epoch 083: | Loss: 0.11119 | Acc: 96.857\n",
      "Validation Accuracy |  75.75757575757575  PPV |  [0.89285714 0.        ]  Recall |  [0.83333333 0.        ]\n",
      "Training Epoch 084: | Loss: 0.04269 | Acc: 98.714\n",
      "Validation Accuracy |  72.72727272727273  PPV |  [0.88888889 0.        ]  Recall |  [0.8 0. ]\n",
      "Training Epoch 085: | Loss: 0.05252 | Acc: 98.429\n",
      "Validation Accuracy |  57.57575757575758  PPV |  [0.9        0.07692308]  Recall |  [0.6        0.33333333]\n",
      "Training Epoch 086: | Loss: 0.02591 | Acc: 99.143\n",
      "Validation Accuracy |  75.75757575757575  PPV |  [0.89285714 0.        ]  Recall |  [0.83333333 0.        ]\n",
      "Training Epoch 087: | Loss: 0.06633 | Acc: 98.929\n",
      "Validation Accuracy |  42.42424242424242  PPV |  [0.86666667 0.05555556]  Recall |  [0.43333333 0.33333333]\n",
      "Training Epoch 088: | Loss: 0.18494 | Acc: 97.429\n",
      "Validation Accuracy |  75.75757575757575  PPV |  [0.89285714 0.        ]  Recall |  [0.83333333 0.        ]\n",
      "Training Epoch 089: | Loss: 0.05735 | Acc: 98.714\n",
      "Validation Accuracy |  75.75757575757575  PPV |  [0.92307692 0.14285714]  Recall |  [0.8        0.33333333]\n",
      "Training Epoch 090: | Loss: 0.06770 | Acc: 98.929\n",
      "Validation Accuracy |  33.33333333333333  PPV |  [0.9        0.08695652]  Recall |  [0.3        0.66666667]\n",
      "Training Epoch 091: | Loss: 0.05073 | Acc: 98.714\n",
      "Validation Accuracy |  75.75757575757575  PPV |  [0.92307692 0.14285714]  Recall |  [0.8        0.33333333]\n",
      "Training Epoch 092: | Loss: 0.03114 | Acc: 99.357\n",
      "Validation Accuracy |  78.78787878787878  PPV |  [0.89655172 0.        ]  Recall |  [0.86666667 0.        ]\n",
      "Training Epoch 093: | Loss: 0.05754 | Acc: 99.571\n",
      "Validation Accuracy |  75.75757575757575  PPV |  [0.92307692 0.14285714]  Recall |  [0.8        0.33333333]\n"
     ]
    },
    {
     "name": "stdout",
     "output_type": "stream",
     "text": [
      "Training Epoch 094: | Loss: 0.04666 | Acc: 98.929\n",
      "Validation Accuracy |  75.75757575757575  PPV |  [0.89285714 0.        ]  Recall |  [0.83333333 0.        ]\n",
      "Training Epoch 095: | Loss: 0.14704 | Acc: 97.500\n",
      "Validation Accuracy |  72.72727272727273  PPV |  [0.92  0.125]  Recall |  [0.76666667 0.33333333]\n",
      "Training Epoch 096: | Loss: 0.03186 | Acc: 98.714\n",
      "Validation Accuracy |  66.66666666666666  PPV |  [0.91304348 0.1       ]  Recall |  [0.7        0.33333333]\n",
      "Training Epoch 097: | Loss: 0.05131 | Acc: 98.571\n",
      "Validation Accuracy |  72.72727272727273  PPV |  [0.92  0.125]  Recall |  [0.76666667 0.33333333]\n",
      "Training Epoch 098: | Loss: 0.06878 | Acc: 99.143\n",
      "Validation Accuracy |  63.63636363636363  PPV |  [0.90909091 0.09090909]  Recall |  [0.66666667 0.33333333]\n",
      "Training Epoch 099: | Loss: 0.02764 | Acc: 99.786\n",
      "Validation Accuracy |  57.57575757575758  PPV |  [0.9        0.07692308]  Recall |  [0.6        0.33333333]\n",
      "Training Epoch 100: | Loss: 0.02286 | Acc: 99.571\n",
      "Validation Accuracy |  72.72727272727273  PPV |  [0.92  0.125]  Recall |  [0.76666667 0.33333333]\n",
      "Training Epoch 101: | Loss: 0.02834 | Acc: 98.714\n",
      "Validation Accuracy |  63.63636363636363  PPV |  [0.90909091 0.09090909]  Recall |  [0.66666667 0.33333333]\n",
      "Training Epoch 102: | Loss: 0.01023 | Acc: 99.571\n",
      "Validation Accuracy |  69.6969696969697  PPV |  [0.91666667 0.11111111]  Recall |  [0.73333333 0.33333333]\n",
      "Training Epoch 103: | Loss: 0.04308 | Acc: 99.143\n",
      "Validation Accuracy |  66.66666666666666  PPV |  [0.91304348 0.1       ]  Recall |  [0.7        0.33333333]\n",
      "Training Epoch 104: | Loss: 0.01424 | Acc: 99.357\n",
      "Validation Accuracy |  75.75757575757575  PPV |  [0.89285714 0.        ]  Recall |  [0.83333333 0.        ]\n",
      "Training Epoch 105: | Loss: 0.01191 | Acc: 99.786\n",
      "Validation Accuracy |  78.78787878787878  PPV |  [0.92592593 0.16666667]  Recall |  [0.83333333 0.33333333]\n",
      "Training Epoch 106: | Loss: 0.00554 | Acc: 100.000\n",
      "Validation Accuracy |  78.78787878787878  PPV |  [0.92592593 0.16666667]  Recall |  [0.83333333 0.33333333]\n",
      "Training Epoch 107: | Loss: 0.00698 | Acc: 100.000\n",
      "Validation Accuracy |  75.75757575757575  PPV |  [0.92307692 0.14285714]  Recall |  [0.8        0.33333333]\n",
      "Training Epoch 108: | Loss: 0.00352 | Acc: 100.000\n",
      "Validation Accuracy |  72.72727272727273  PPV |  [0.92  0.125]  Recall |  [0.76666667 0.33333333]\n",
      "Training Epoch 109: | Loss: 0.00842 | Acc: 99.571\n",
      "Validation Accuracy |  78.78787878787878  PPV |  [0.92592593 0.16666667]  Recall |  [0.83333333 0.33333333]\n",
      "Training Epoch 110: | Loss: 0.01298 | Acc: 100.000\n",
      "Validation Accuracy |  78.78787878787878  PPV |  [0.92592593 0.16666667]  Recall |  [0.83333333 0.33333333]\n",
      "Training Epoch 111: | Loss: 0.02685 | Acc: 99.071\n",
      "Validation Accuracy |  81.81818181818183  PPV |  [0.92857143 0.2       ]  Recall |  [0.86666667 0.33333333]\n",
      "Training Epoch 112: | Loss: 0.01597 | Acc: 99.357\n",
      "Validation Accuracy |  84.84848484848484  PPV |  [0.90322581 0.        ]  Recall |  [0.93333333 0.        ]\n",
      "Training Epoch 113: | Loss: 0.00638 | Acc: 99.786\n",
      "Validation Accuracy |  78.78787878787878  PPV |  [0.89655172 0.        ]  Recall |  [0.86666667 0.        ]\n",
      "Training Epoch 114: | Loss: 0.00295 | Acc: 100.000\n",
      "Validation Accuracy |  72.72727272727273  PPV |  [0.88888889 0.        ]  Recall |  [0.8 0. ]\n",
      "Training Epoch 115: | Loss: 0.00534 | Acc: 100.000\n",
      "Validation Accuracy |  75.75757575757575  PPV |  [0.92307692 0.14285714]  Recall |  [0.8        0.33333333]\n",
      "Training Epoch 116: | Loss: 0.00393 | Acc: 100.000\n",
      "Validation Accuracy |  75.75757575757575  PPV |  [0.92307692 0.14285714]  Recall |  [0.8        0.33333333]\n",
      "Training Epoch 117: | Loss: 0.00263 | Acc: 100.000\n",
      "Validation Accuracy |  72.72727272727273  PPV |  [0.88888889 0.        ]  Recall |  [0.8 0. ]\n",
      "Training Epoch 118: | Loss: 0.00430 | Acc: 100.000\n",
      "Validation Accuracy |  75.75757575757575  PPV |  [0.92307692 0.14285714]  Recall |  [0.8        0.33333333]\n",
      "Training Epoch 119: | Loss: 0.01375 | Acc: 99.786\n",
      "Validation Accuracy |  75.75757575757575  PPV |  [0.92307692 0.14285714]  Recall |  [0.8        0.33333333]\n",
      "Training Epoch 120: | Loss: 0.00409 | Acc: 100.000\n",
      "Validation Accuracy |  75.75757575757575  PPV |  [0.92307692 0.14285714]  Recall |  [0.8        0.33333333]\n",
      "Training Epoch 121: | Loss: 0.01351 | Acc: 100.000\n",
      "Validation Accuracy |  66.66666666666666  PPV |  [0.91304348 0.1       ]  Recall |  [0.7        0.33333333]\n",
      "Training Epoch 122: | Loss: 0.00250 | Acc: 100.000\n",
      "Validation Accuracy |  72.72727272727273  PPV |  [0.92  0.125]  Recall |  [0.76666667 0.33333333]\n",
      "Training Epoch 123: | Loss: 0.00291 | Acc: 100.000\n",
      "Validation Accuracy |  72.72727272727273  PPV |  [0.92  0.125]  Recall |  [0.76666667 0.33333333]\n",
      "Training Epoch 124: | Loss: 0.00469 | Acc: 100.000\n",
      "Validation Accuracy |  69.6969696969697  PPV |  [0.91666667 0.11111111]  Recall |  [0.73333333 0.33333333]\n",
      "Training Epoch 125: | Loss: 0.02122 | Acc: 99.786\n",
      "Validation Accuracy |  84.84848484848484  PPV |  [0.90322581 0.        ]  Recall |  [0.93333333 0.        ]\n",
      "Training Epoch 126: | Loss: 0.00822 | Acc: 100.000\n",
      "Validation Accuracy |  81.81818181818183  PPV |  [0.9 0. ]  Recall |  [0.9 0. ]\n",
      "Training Epoch 127: | Loss: 0.01093 | Acc: 99.786\n",
      "Validation Accuracy |  75.75757575757575  PPV |  [0.92307692 0.14285714]  Recall |  [0.8        0.33333333]\n",
      "Training Epoch 128: | Loss: 0.01446 | Acc: 99.357\n",
      "Validation Accuracy |  69.6969696969697  PPV |  [0.91666667 0.11111111]  Recall |  [0.73333333 0.33333333]\n",
      "Training Epoch 129: | Loss: 0.00571 | Acc: 100.000\n",
      "Validation Accuracy |  72.72727272727273  PPV |  [0.92  0.125]  Recall |  [0.76666667 0.33333333]\n",
      "Training Epoch 130: | Loss: 0.00234 | Acc: 100.000\n",
      "Validation Accuracy |  75.75757575757575  PPV |  [0.92307692 0.14285714]  Recall |  [0.8        0.33333333]\n",
      "Training Epoch 131: | Loss: 0.00116 | Acc: 100.000\n",
      "Validation Accuracy |  75.75757575757575  PPV |  [0.92307692 0.14285714]  Recall |  [0.8        0.33333333]\n",
      "Training Epoch 132: | Loss: 0.04468 | Acc: 99.143\n",
      "Validation Accuracy |  78.78787878787878  PPV |  [0.92592593 0.16666667]  Recall |  [0.83333333 0.33333333]\n",
      "Training Epoch 133: | Loss: 0.01620 | Acc: 99.357\n",
      "Validation Accuracy |  75.75757575757575  PPV |  [0.92307692 0.14285714]  Recall |  [0.8        0.33333333]\n",
      "Training Epoch 134: | Loss: 0.01290 | Acc: 99.571\n",
      "Validation Accuracy |  72.72727272727273  PPV |  [0.92  0.125]  Recall |  [0.76666667 0.33333333]\n",
      "Training Epoch 135: | Loss: 0.00453 | Acc: 99.786\n",
      "Validation Accuracy |  84.84848484848484  PPV |  [0.93103448 0.25      ]  Recall |  [0.9        0.33333333]\n",
      "Training Epoch 136: | Loss: 0.03983 | Acc: 98.929\n",
      "Validation Accuracy |  63.63636363636363  PPV |  [0.90909091 0.09090909]  Recall |  [0.66666667 0.33333333]\n",
      "Training Epoch 137: | Loss: 0.01236 | Acc: 99.571\n",
      "Validation Accuracy |  72.72727272727273  PPV |  [0.92  0.125]  Recall |  [0.76666667 0.33333333]\n",
      "Training Epoch 138: | Loss: 0.00261 | Acc: 100.000\n",
      "Validation Accuracy |  84.84848484848484  PPV |  [0.93103448 0.25      ]  Recall |  [0.9        0.33333333]\n",
      "Training Epoch 139: | Loss: 0.01886 | Acc: 99.571\n",
      "Validation Accuracy |  84.84848484848484  PPV |  [0.93103448 0.25      ]  Recall |  [0.9        0.33333333]\n",
      "Training Epoch 140: | Loss: 0.03677 | Acc: 99.286\n",
      "Validation Accuracy |  81.81818181818183  PPV |  [0.92857143 0.2       ]  Recall |  [0.86666667 0.33333333]\n",
      "Training Epoch 141: | Loss: 0.04275 | Acc: 99.000\n",
      "Validation Accuracy |  66.66666666666666  PPV |  [0.88 0.  ]  Recall |  [0.73333333 0.        ]\n",
      "Training Epoch 142: | Loss: 0.04423 | Acc: 98.714\n",
      "Validation Accuracy |  81.81818181818183  PPV |  [0.9 0. ]  Recall |  [0.9 0. ]\n",
      "Training Epoch 143: | Loss: 0.01161 | Acc: 99.786\n",
      "Validation Accuracy |  66.66666666666666  PPV |  [0.91304348 0.1       ]  Recall |  [0.7        0.33333333]\n",
      "Training Epoch 144: | Loss: 0.02674 | Acc: 99.357\n",
      "Validation Accuracy |  48.484848484848484  PPV |  [0.93333333 0.11111111]  Recall |  [0.46666667 0.66666667]\n",
      "Training Epoch 145: | Loss: 0.01271 | Acc: 100.000\n",
      "Validation Accuracy |  75.75757575757575  PPV |  [0.89285714 0.        ]  Recall |  [0.83333333 0.        ]\n",
      "Training Epoch 146: | Loss: 0.00206 | Acc: 100.000\n",
      "Validation Accuracy |  78.78787878787878  PPV |  [0.92592593 0.16666667]  Recall |  [0.83333333 0.33333333]\n"
     ]
    },
    {
     "name": "stdout",
     "output_type": "stream",
     "text": [
      "Training Epoch 147: | Loss: 0.01461 | Acc: 99.786\n",
      "Validation Accuracy |  78.78787878787878  PPV |  [0.92592593 0.16666667]  Recall |  [0.83333333 0.33333333]\n",
      "Training Epoch 148: | Loss: 0.00315 | Acc: 100.000\n",
      "Validation Accuracy |  78.78787878787878  PPV |  [0.92592593 0.16666667]  Recall |  [0.83333333 0.33333333]\n",
      "Training Epoch 149: | Loss: 0.03209 | Acc: 99.143\n",
      "Validation Accuracy |  75.75757575757575  PPV |  [0.89285714 0.        ]  Recall |  [0.83333333 0.        ]\n",
      "Training Epoch 150: | Loss: 0.01478 | Acc: 99.571\n",
      "Validation Accuracy |  78.78787878787878  PPV |  [0.92592593 0.16666667]  Recall |  [0.83333333 0.33333333]\n"
     ]
    }
   ],
   "source": [
    "#model.train() tells PyTorch that you’re in training mode.\n",
    "#Similarly, we’ll call model.eval() when we test our model. We’ll see that below.\n",
    "'''If you’re using layers such as Dropout or BatchNorm which behave differently during training and evaluation, \n",
    "you need to tell PyTorch to act accordingly. While the default mode in PyTorch is the train, \n",
    "so, you don’t explicitly have to write that. But it’s good practice.'''\n",
    "val_acc = []\n",
    "train_acc = []\n",
    "train_loss = []\n",
    "val_loss = []\n",
    "\n",
    "model.train() #Initial training mode\n",
    "for e in range(1, EPOCHS+1):\n",
    "    epoch_loss = 0\n",
    "    epoch_acc = 0\n",
    "    for X_batch, y_batch in train_loader:\n",
    "        X_batch, y_batch = X_batch.to(device), y_batch.to(device)\n",
    "        optimizer.zero_grad()\n",
    "        \n",
    "        y_pred = model(X_batch)\n",
    "        \n",
    "        loss = criterion(y_pred, y_batch)\n",
    "        acc = binary_acc(y_pred, y_batch)\n",
    "        \n",
    "        loss.backward()\n",
    "        optimizer.step()\n",
    "        \n",
    "        epoch_loss += loss.item()\n",
    "        epoch_acc += acc.item()\n",
    "    \n",
    "    train_acc.append(epoch_acc/len(train_loader))\n",
    "    train_loss.append(epoch_loss/len(train_loader))\n",
    "    print(f'Training Epoch {e+0:03}: | Loss: {epoch_loss/len(train_loader):.5f} | Acc: {epoch_acc/len(train_loader):.3f}')\n",
    "    #Validation metrics here\n",
    "    model.eval()\n",
    "    #print(\"Evaluation mode\")\n",
    "    y_pred_list = []\n",
    "    test_loader = DataLoader(dataset=test_data, batch_size=33)\n",
    "    with torch.no_grad():\n",
    "        counter = 0\n",
    "        for X_batch in test_loader:\n",
    "            X_batch = X_batch.to(device)\n",
    "            y_test_pred = model(X_batch)\n",
    "            y_test_pred = torch.sigmoid(y_test_pred)\n",
    "            y_pred_tag = torch.round(y_test_pred)\n",
    "            y_pred_list.append(y_pred_tag.cpu().numpy())\n",
    "            loss = criterion(y_test_pred,torch.FloatTensor(Y_test.values))\n",
    "            val_loss.append(loss)\n",
    "            counter+=1\n",
    "            \n",
    "    y_pred_list = []\n",
    "    test_loader = DataLoader(dataset=test_data, batch_size=1)\n",
    "    with torch.no_grad():\n",
    "        for X_batch in test_loader:\n",
    "            X_batch = X_batch.to(device)\n",
    "            y_test_pred = model(X_batch)\n",
    "            y_test_pred = torch.sigmoid(y_test_pred)\n",
    "            y_pred_tag = torch.round(y_test_pred)\n",
    "            y_pred_list.append(y_pred_tag.cpu().numpy())\n",
    "            \n",
    "    y_pred_list = [a.squeeze().tolist() for a in y_pred_list]\n",
    "    y_loss_df = pd.DataFrame(y_pred_list)\n",
    "    accuracy = accuracy_score(torch.FloatTensor(Y_test.values), y_pred_list)\n",
    "    ppv = precision_score(Y_test, y_pred_list, average=None)\n",
    "    recall = recall_score(Y_test, y_pred_list, average=None)\n",
    "    print(\"Validation Accuracy | \",accuracy*100,\" PPV | \",ppv,\" Recall | \",recall)\n",
    "    val_acc.append(accuracy*100)\n",
    "    model.train()\n",
    "    #print(\"Return to training mode\")\n",
    "    \n",
    "    #Need to get validation loss."
   ]
  },
  {
   "cell_type": "code",
   "execution_count": 10,
   "id": "billion-correlation",
   "metadata": {},
   "outputs": [
    {
     "data": {
      "image/png": "[encoded data removed]",
      "text/plain": [
       "<Figure size 432x288 with 1 Axes>"
      ]
     },
     "metadata": {
      "needs_background": "light"
     },
     "output_type": "display_data"
    },
    {
     "data": {
      "image/png": "[encoded data removed]",
      "text/plain": [
       "<Figure size 432x288 with 1 Axes>"
      ]
     },
     "metadata": {
      "needs_background": "light"
     },
     "output_type": "display_data"
    }
   ],
   "source": [
    "#Plotting loss\n",
    "plt.plot(train_loss)\n",
    "plt.plot(val_loss)\n",
    "plt.title('model loss')\n",
    "plt.ylabel('loss')\n",
    "plt.xlabel('epoch')\n",
    "plt.legend(['train', 'validation'], loc='upper left')\n",
    "plt.axis([0, EPOCHS-1, 0.0, 1.5])\n",
    "plt.show()\n",
    "\n",
    "#Plotting Accuracy\n",
    "plt.plot(train_acc)\n",
    "plt.plot(val_acc)\n",
    "plt.title('model accuracy')\n",
    "plt.ylabel('acc')\n",
    "plt.xlabel('epoch')\n",
    "plt.legend(['train_acc', 'val_acc'], loc='upper left')\n",
    "plt.axis([0, EPOCHS-1, 0.0, 105])\n",
    "plt.show()"
   ]
  },
  {
   "cell_type": "code",
   "execution_count": 11,
   "id": "employed-radical",
   "metadata": {},
   "outputs": [
    {
     "name": "stdout",
     "output_type": "stream",
     "text": [
      "Validation Accuracy |  78.78787878787878  PPV |  [0.92592593 0.16666667]  Recall |  [0.83333333 0.33333333]\n"
     ]
    },
    {
     "data": {
      "text/plain": [
       "<AxesSubplot:>"
      ]
     },
     "execution_count": 11,
     "metadata": {},
     "output_type": "execute_result"
    },
    {
     "data": {
      "image/png": "[encoded data removed]",
      "text/plain": [
       "<Figure size 432x288 with 2 Axes>"
      ]
     },
     "metadata": {
      "needs_background": "light"
     },
     "output_type": "display_data"
    }
   ],
   "source": [
    "y_pred_list = []\n",
    "test_loader = DataLoader(dataset=test_data, batch_size=1)\n",
    "model.eval() #Model evaluation\n",
    "with torch.no_grad():\n",
    "    for X_batch in test_loader:\n",
    "        X_batch = X_batch.to(device)\n",
    "        y_test_pred = model(X_batch)\n",
    "        y_test_pred = torch.sigmoid(y_test_pred)\n",
    "        y_pred_tag = torch.round(y_test_pred)\n",
    "        y_pred_list.append(y_pred_tag.cpu().numpy())\n",
    "\n",
    "y_pred_list = [a.squeeze().tolist() for a in y_pred_list]\n",
    "accuracy = accuracy_score(Y_test, y_pred_list)\n",
    "ppv = precision_score(Y_test, y_pred_list, average=None)\n",
    "recall = recall_score(Y_test, y_pred_list, average=None)\n",
    "print(\"Validation Accuracy | \",accuracy*100,\" PPV | \",ppv,\" Recall | \",recall)\n",
    "cf_matrix = confusion_matrix(Y_test, y_pred_list)\n",
    "sn.heatmap(cf_matrix, annot=True)"
   ]
  },
  {
   "cell_type": "code",
   "execution_count": 12,
   "id": "seasonal-ottawa",
   "metadata": {},
   "outputs": [
    {
     "name": "stdout",
     "output_type": "stream",
     "text": [
      "              precision    recall  f1-score   support\n",
      "\n",
      "         0.0       0.93      0.83      0.88        30\n",
      "         1.0       0.17      0.33      0.22         3\n",
      "\n",
      "    accuracy                           0.79        33\n",
      "   macro avg       0.55      0.58      0.55        33\n",
      "weighted avg       0.86      0.79      0.82        33\n",
      "\n"
     ]
    }
   ],
   "source": [
    "print(classification_report(Y_test, y_pred_list))"
   ]
  },
  {
   "cell_type": "code",
   "execution_count": 13,
   "id": "atomic-album",
   "metadata": {},
   "outputs": [],
   "source": [
    "#Save model once everything is all figured out"
   ]
  }
 ],
 "metadata": {
  "kernelspec": {
   "display_name": "Python 3",
   "language": "python",
   "name": "python3"
  },
  "language_info": {
   "codemirror_mode": {
    "name": "ipython",
    "version": 3
   },
   "file_extension": ".py",
   "mimetype": "text/x-python",
   "name": "python",
   "nbconvert_exporter": "python",
   "pygments_lexer": "ipython3",
   "version": "3.7.9"
  }
 },
 "nbformat": 4,
 "nbformat_minor": 5
}
