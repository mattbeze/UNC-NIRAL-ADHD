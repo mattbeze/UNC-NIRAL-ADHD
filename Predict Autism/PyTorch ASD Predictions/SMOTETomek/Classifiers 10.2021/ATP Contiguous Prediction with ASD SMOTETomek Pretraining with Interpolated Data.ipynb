{
 "cells": [
  {
   "cell_type": "code",
   "execution_count": 1,
   "id": "foreign-airfare",
   "metadata": {},
   "outputs": [
    {
     "data": {
      "text/plain": [
       "<torch._C.Generator at 0x244b7262a10>"
      ]
     },
     "execution_count": 1,
     "metadata": {},
     "output_type": "execute_result"
    }
   ],
   "source": [
    "import seaborn as sn\n",
    "from imblearn.over_sampling import SMOTE, SMOTENC \n",
    "from imblearn.combine import SMOTETomek\n",
    "from imblearn.under_sampling import TomekLinks\n",
    "import matplotlib.pyplot as plt\n",
    "import pandas as pd\n",
    "from sklearn.utils import class_weight\n",
    "from sklearn.metrics import accuracy_score, recall_score, confusion_matrix, multilabel_confusion_matrix, precision_score, precision_recall_curve, average_precision_score, classification_report\n",
    "from sklearn.model_selection import KFold, StratifiedKFold, train_test_split, GridSearchCV\n",
    "from sklearn.preprocessing import MinMaxScaler, LabelEncoder\n",
    "from torch.utils.data import Dataset, DataLoader, random_split\n",
    "from torch import Tensor\n",
    "from torch.nn import Linear, ReLU, Sigmoid, Module, BCELoss, BCEWithLogitsLoss\n",
    "from torch.optim import Adam\n",
    "import torch\n",
    "import torch.nn as nn\n",
    "import torch.optim as optim\n",
    "from torch.utils.data import Dataset, DataLoader\n",
    "from pandas import DataFrame\n",
    "import xlsxwriter\n",
    "import time\n",
    "\n",
    "seed_value = 7\n",
    "import os\n",
    "os.environ['PYTHONHASHSEED']=str(seed_value)\n",
    "import random\n",
    "random.seed(seed_value)\n",
    "import numpy as np\n",
    "np.random.seed(seed_value)\n",
    "import torch\n",
    "torch.manual_seed(seed_value)"
   ]
  },
  {
   "cell_type": "code",
   "execution_count": 2,
   "id": "cooked-scroll",
   "metadata": {},
   "outputs": [
    {
     "name": "stdout",
     "output_type": "stream",
     "text": [
      "(137, 298)\n",
      "(137, 1)\n"
     ]
    }
   ],
   "source": [
    "Training_Data = pd.ExcelFile(\"Scaled_Gilmore_Data_CT_SA_1_2.xlsx\") #Training Data already pre-scaled to the IBIS Data set\n",
    "Label_Data = pd.ExcelFile(\"Labels.xlsx\") #Labels\n",
    "data = Training_Data.parse(Training_Data.sheet_names[0])\n",
    "label_data = Label_Data.parse(Label_Data.sheet_names[0])\n",
    "data_features = data.loc[:, data.columns]\n",
    "data_features = data_features.drop(['ROI','MATCH','INDEX','MATCH2','INDEX2', 'ATP', 'HYP', 'ATP Middle', 'HYP Middle', 'HYP Label'], axis=1)\n",
    "data_features = data_features.dropna()\n",
    "data_features = data_features.drop(['ATP Label'], axis=1)\n",
    "labels = label_data.loc[:, label_data.columns]\n",
    "labels = labels.drop(['ROI','ATP Middle', 'HYP Middle', 'HYP Label'], axis=1)\n",
    "labels = labels.dropna()\n",
    "print(data_features.shape)\n",
    "print(labels.shape)"
   ]
  },
  {
   "cell_type": "code",
   "execution_count": 3,
   "id": "greenhouse-spice",
   "metadata": {},
   "outputs": [
    {
     "name": "stdout",
     "output_type": "stream",
     "text": [
      "(34, 298)\n",
      "(34, 1)\n",
      "<class 'pandas.core.frame.DataFrame'>\n"
     ]
    }
   ],
   "source": [
    "interpolated_data = Training_Data.parse(Training_Data.sheet_names[8])\n",
    "interpolated_data_features = interpolated_data.loc[:, interpolated_data.columns]\n",
    "interpolated_data_features = interpolated_data_features.drop(['ROI','MATCH','INDEX','MATCH2','INDEX2', 'ATP', 'HYP', 'ATP Middle', 'HYP Middle', 'HYP Label'], axis=1)\n",
    "interpolated_data_features = interpolated_data_features.dropna()\n",
    "interpolated_data_features = interpolated_data_features.drop(['ATP Label'], axis=1)\n",
    "\n",
    "interpolated_label_data = Label_Data.parse(Label_Data.sheet_names[1])\n",
    "interpolated_labels = interpolated_label_data.loc[:, interpolated_label_data.columns]\n",
    "interpolated_labels = interpolated_labels.drop(['ROI','ATP Middle', 'HYP Middle', 'HYP Label'], axis=1)\n",
    "interpolated_labels = interpolated_labels.dropna()\n",
    "\n",
    "print(interpolated_data_features.shape)\n",
    "print(interpolated_labels.shape)\n",
    "print(type(interpolated_data_features))"
   ]
  },
  {
   "cell_type": "code",
   "execution_count": 4,
   "id": "equivalent-outreach",
   "metadata": {},
   "outputs": [
    {
     "name": "stdout",
     "output_type": "stream",
     "text": [
      "StratifiedKFold(n_splits=8, random_state=None, shuffle=False)\n",
      "(200, 298)\n",
      "(200, 298)\n",
      "(200, 298)\n",
      "(202, 298)\n",
      "(202, 298)\n",
      "(202, 298)\n",
      "(202, 298)\n",
      "(202, 298)\n"
     ]
    }
   ],
   "source": [
    "skf = StratifiedKFold(n_splits=8)\n",
    "skf.get_n_splits(data_features, labels)\n",
    "print(skf)\n",
    "\n",
    "training_indices_X = []\n",
    "testing_indices_X = []\n",
    "training_indices_Y = []\n",
    "testing_indices_Y = []\n",
    "\n",
    "for train_index, test_index in skf.split(data_features, labels):\n",
    "  \n",
    "    X_train, X_test = data_features.iloc[train_index], data_features.iloc[test_index]\n",
    "    Y_train, Y_test = labels.iloc[train_index], labels.iloc[test_index]\n",
    "   \n",
    "    sm = SMOTE(sampling_strategy = 'minority', random_state = seed_value, k_neighbors=2) \n",
    "    X_train_res, Y_train_res = sm.fit_sample(X_train, Y_train) #Only smote the training set.\n",
    "    print(X_train_res.shape)\n",
    "    training_indices_X.append(X_train_res)\n",
    "    testing_indices_X.append(X_test)\n",
    "    training_indices_Y.append(Y_train_res)\n",
    "    testing_indices_Y.append(Y_test)\n"
   ]
  },
  {
   "cell_type": "code",
   "execution_count": 5,
   "id": "christian-position",
   "metadata": {},
   "outputs": [
    {
     "name": "stdout",
     "output_type": "stream",
     "text": [
      "(200, 298)\n",
      "(200, 298)\n",
      "(200, 298)\n",
      "(202, 298)\n",
      "(202, 298)\n",
      "(202, 298)\n",
      "(202, 298)\n",
      "(202, 298)\n",
      "----------\n",
      "(234, 298)\n",
      "(234, 298)\n",
      "(234, 298)\n",
      "(236, 298)\n",
      "(236, 298)\n",
      "(236, 298)\n",
      "(236, 298)\n",
      "(236, 298)\n",
      "Label shapes\n",
      "(200, 1)\n",
      "(200, 1)\n",
      "(200, 1)\n",
      "(202, 1)\n",
      "(202, 1)\n",
      "(202, 1)\n",
      "(202, 1)\n",
      "(202, 1)\n",
      "----------\n",
      "(234, 1)\n",
      "(234, 1)\n",
      "(234, 1)\n",
      "(236, 1)\n",
      "(236, 1)\n",
      "(236, 1)\n",
      "(236, 1)\n",
      "(236, 1)\n"
     ]
    }
   ],
   "source": [
    "for x in training_indices_X:\n",
    "    print(x.shape)\n",
    "    \n",
    "#Figure out how to loop this later. Wasn't working for the following code:\n",
    "#for x in training_indices_X:\n",
    "#    x = pd.concat([x,interpolated_data_features])\n",
    "\n",
    "training_indices_X[0] = pd.concat([training_indices_X[0],interpolated_data_features])\n",
    "training_indices_X[1] = pd.concat([training_indices_X[1],interpolated_data_features])\n",
    "training_indices_X[2] = pd.concat([training_indices_X[2],interpolated_data_features])\n",
    "training_indices_X[3] = pd.concat([training_indices_X[3],interpolated_data_features])\n",
    "training_indices_X[4] = pd.concat([training_indices_X[4],interpolated_data_features])\n",
    "training_indices_X[5] = pd.concat([training_indices_X[5],interpolated_data_features])\n",
    "training_indices_X[6] = pd.concat([training_indices_X[6],interpolated_data_features])\n",
    "training_indices_X[7] = pd.concat([training_indices_X[7],interpolated_data_features])\n",
    "\n",
    "print('----------')\n",
    "for x in training_indices_X:\n",
    "    print(x.shape)\n",
    "    \n",
    "print('Label shapes')\n",
    "    \n",
    "for y in training_indices_Y:\n",
    "    print(y.shape)\n",
    "\n",
    "training_indices_Y[0] = pd.concat([training_indices_Y[0],interpolated_labels])\n",
    "training_indices_Y[1] = pd.concat([training_indices_Y[1],interpolated_labels])\n",
    "training_indices_Y[2] = pd.concat([training_indices_Y[2],interpolated_labels])\n",
    "training_indices_Y[3] = pd.concat([training_indices_Y[3],interpolated_labels])\n",
    "training_indices_Y[4] = pd.concat([training_indices_Y[4],interpolated_labels])\n",
    "training_indices_Y[5] = pd.concat([training_indices_Y[5],interpolated_labels])\n",
    "training_indices_Y[6] = pd.concat([training_indices_Y[6],interpolated_labels])\n",
    "training_indices_Y[7] = pd.concat([training_indices_Y[7],interpolated_labels])\n",
    "\n",
    "print('----------')\n",
    "for y in training_indices_Y:\n",
    "    print(y.shape)\n"
   ]
  },
  {
   "cell_type": "code",
   "execution_count": 6,
   "id": "joined-quarterly",
   "metadata": {},
   "outputs": [],
   "source": [
    "#training_indices_X[0] #8 Folds so 0 -> 7 Data type is a DataFrame currently.\n",
    "training_fold_X_0 = training_indices_X[0].to_numpy()\n",
    "training_fold_X_1 = training_indices_X[1].to_numpy()\n",
    "training_fold_X_2 = training_indices_X[2].to_numpy()\n",
    "training_fold_X_3 = training_indices_X[3].to_numpy()\n",
    "training_fold_X_4 = training_indices_X[4].to_numpy()\n",
    "training_fold_X_5 = training_indices_X[5].to_numpy()\n",
    "training_fold_X_6 = training_indices_X[6].to_numpy()\n",
    "training_fold_X_7 = training_indices_X[7].to_numpy()\n",
    "\n",
    "training_fold_Y_0 = training_indices_Y[0].to_numpy()\n",
    "training_fold_Y_1 = training_indices_Y[1].to_numpy()\n",
    "training_fold_Y_2 = training_indices_Y[2].to_numpy()\n",
    "training_fold_Y_3 = training_indices_Y[3].to_numpy()\n",
    "training_fold_Y_4 = training_indices_Y[4].to_numpy()\n",
    "training_fold_Y_5 = training_indices_Y[5].to_numpy()\n",
    "training_fold_Y_6 = training_indices_Y[6].to_numpy()\n",
    "training_fold_Y_7 = training_indices_Y[7].to_numpy()\n",
    "\n",
    "testing_fold_X_0 = testing_indices_X[0].to_numpy()\n",
    "testing_fold_X_1 = testing_indices_X[1].to_numpy()\n",
    "testing_fold_X_2 = testing_indices_X[2].to_numpy()\n",
    "testing_fold_X_3 = testing_indices_X[3].to_numpy()\n",
    "testing_fold_X_4 = testing_indices_X[4].to_numpy()\n",
    "testing_fold_X_5 = testing_indices_X[5].to_numpy()\n",
    "testing_fold_X_6 = testing_indices_X[6].to_numpy()\n",
    "testing_fold_X_7 = testing_indices_X[7].to_numpy()\n",
    "\n",
    "testing_fold_Y_0 = testing_indices_Y[0].to_numpy()\n",
    "testing_fold_Y_1 = testing_indices_Y[1].to_numpy()\n",
    "testing_fold_Y_2 = testing_indices_Y[2].to_numpy()\n",
    "testing_fold_Y_3 = testing_indices_Y[3].to_numpy()\n",
    "testing_fold_Y_4 = testing_indices_Y[4].to_numpy()\n",
    "testing_fold_Y_5 = testing_indices_Y[5].to_numpy()\n",
    "testing_fold_Y_6 = testing_indices_Y[6].to_numpy()\n",
    "testing_fold_Y_7 = testing_indices_Y[7].to_numpy()"
   ]
  },
  {
   "cell_type": "code",
   "execution_count": 7,
   "id": "consolidated-business",
   "metadata": {},
   "outputs": [],
   "source": [
    "#Some hyperparameters\n",
    "#D_in is input dimension; H is hidden dimension; D_out is output dimension. \n",
    "\n",
    "#Best: 0.508814 using {'batch_size': 35, 'dropout': 0.15, 'epochs': 35, 'layer1_size': 100, 'layer2_size': 15}\n",
    "D_in, H1, H2, D_out = 298, 100, 15, 1\n",
    "EPOCHS = 35\n",
    "BATCH_SIZE = 35\n",
    "LEARNING_RATE = 0.001\n",
    "DROPOUT_RATE = 0.15\n",
    "\n",
    "test_size = 18\n",
    "test_size1 = 17\n",
    "\n",
    "## train data\n",
    "class trainData(Dataset):\n",
    "    \n",
    "    def __init__(self, X_data, y_data): #used to perform initializing operations such as reading data and preprocessing.\n",
    "        self.X_data = X_data\n",
    "        self.y_data = y_data\n",
    "        \n",
    "    def __getitem__(self, index): #returns data (input and output) in batches.\n",
    "        return self.X_data[index], self.y_data[index]\n",
    "        \n",
    "    def __len__ (self): #returns the size of the input data.\n",
    "        return len(self.X_data)\n",
    "\n",
    "#A dataloader is then used on this dataset class to read the data in batches.\n",
    "train_data = trainData(torch.FloatTensor(training_fold_X_0), \n",
    "                       torch.FloatTensor(training_fold_Y_0))\n",
    "\n",
    "train_data1 = trainData(torch.FloatTensor(training_fold_X_1), \n",
    "                       torch.FloatTensor(training_fold_Y_1))\n",
    "\n",
    "train_data2 = trainData(torch.FloatTensor(training_fold_X_2), \n",
    "                       torch.FloatTensor(training_fold_Y_2))\n",
    "\n",
    "train_data3 = trainData(torch.FloatTensor(training_fold_X_3), \n",
    "                       torch.FloatTensor(training_fold_Y_3))\n",
    "\n",
    "train_data4 = trainData(torch.FloatTensor(training_fold_X_4), \n",
    "                       torch.FloatTensor(training_fold_Y_4))\n",
    "\n",
    "train_data5 = trainData(torch.FloatTensor(training_fold_X_5), \n",
    "                       torch.FloatTensor(training_fold_Y_5))\n",
    "\n",
    "train_data6 = trainData(torch.FloatTensor(training_fold_X_6), \n",
    "                       torch.FloatTensor(training_fold_Y_6))\n",
    "\n",
    "train_data7 = trainData(torch.FloatTensor(training_fold_X_7), \n",
    "                       torch.FloatTensor(training_fold_Y_7))\n",
    "## test data    \n",
    "class testData(Dataset):\n",
    "    \n",
    "    def __init__(self, X_data): ##used to perform initializing operations such as reading data and preprocessing.\n",
    "        self.X_data = X_data\n",
    "        \n",
    "    def __getitem__(self, index): #returns data (input and output) in batches.\n",
    "        return self.X_data[index]\n",
    "        \n",
    "    def __len__ (self): #returns the size of the input data.\n",
    "        return len(self.X_data)\n",
    "    \n",
    "#A dataloader is then used on this dataset class to read the data in batches.\n",
    "test_data = testData(torch.FloatTensor(testing_fold_X_0))\n",
    "test_data1 = testData(torch.FloatTensor(testing_fold_X_1))\n",
    "test_data2 = testData(torch.FloatTensor(testing_fold_X_2))\n",
    "test_data3 = testData(torch.FloatTensor(testing_fold_X_3))\n",
    "test_data4 = testData(torch.FloatTensor(testing_fold_X_4))\n",
    "test_data5 = testData(torch.FloatTensor(testing_fold_X_5))\n",
    "test_data6 = testData(torch.FloatTensor(testing_fold_X_6))\n",
    "test_data7 = testData(torch.FloatTensor(testing_fold_X_7))\n",
    "\n",
    "#Initialize DataLoaders\n",
    "train_loader = DataLoader(dataset=train_data, batch_size=BATCH_SIZE, shuffle=True)\n",
    "test_loader = DataLoader(dataset=test_data, batch_size=test_size) #Batch size of the validation set. Need 1 at a time for how it was setup in the tutorial.\n",
    "\n",
    "train_loader1 = DataLoader(dataset=train_data1, batch_size=BATCH_SIZE, shuffle=True)\n",
    "test_loader1 = DataLoader(dataset=test_data1, batch_size=test_size1) #Batch size of the validation set. Need 1 at a time for how it was setup in the tutorial.\n",
    "\n",
    "train_loader2 = DataLoader(dataset=train_data2, batch_size=BATCH_SIZE, shuffle=True)\n",
    "test_loader2 = DataLoader(dataset=test_data2, batch_size=test_size1) #Batch size of the validation set. Need 1 at a time for how it was setup in the tutorial.\n",
    "\n",
    "train_loader3 = DataLoader(dataset=train_data3, batch_size=BATCH_SIZE, shuffle=True)\n",
    "test_loader3 = DataLoader(dataset=test_data3, batch_size=test_size1) #Batch size of the validation set. Need 1 at a time for how it was setup in the tutorial.\n",
    "\n",
    "train_loader4 = DataLoader(dataset=train_data4, batch_size=BATCH_SIZE, shuffle=True)\n",
    "test_loader4 = DataLoader(dataset=test_data4, batch_size=test_size1) #Batch size of the validation set. Need 1 at a time for how it was setup in the tutorial.\n",
    "\n",
    "train_loader5 = DataLoader(dataset=train_data5, batch_size=BATCH_SIZE, shuffle=True)\n",
    "test_loader5 = DataLoader(dataset=test_data5, batch_size=test_size1) #Batch size of the validation set. Need 1 at a time for how it was setup in the tutorial.\n",
    "\n",
    "train_loader6 = DataLoader(dataset=train_data6, batch_size=BATCH_SIZE, shuffle=True)\n",
    "test_loader6 = DataLoader(dataset=test_data6, batch_size=test_size1) #Batch size of the validation set. Need 1 at a time for how it was setup in the tutorial.\n",
    "\n",
    "train_loader7 = DataLoader(dataset=train_data7, batch_size=BATCH_SIZE, shuffle=True)\n",
    "test_loader7 = DataLoader(dataset=test_data7, batch_size=test_size1) #Batch size of the validation set. Need 1 at a time for how it was setup in the tutorial."
   ]
  },
  {
   "cell_type": "code",
   "execution_count": 8,
   "id": "addressed-python",
   "metadata": {},
   "outputs": [
    {
     "name": "stdout",
     "output_type": "stream",
     "text": [
      "cpu\n"
     ]
    }
   ],
   "source": [
    "class binaryClassification(nn.Module):\n",
    "    def __init__(self):\n",
    "        super(binaryClassification, self).__init__()\n",
    "        # Number of input features is 298.\n",
    "        self.layer_1 = nn.Linear(D_in, H1) #298 -> 100\n",
    "        self.layer_2 = nn.Linear(H1, H2) #100 -> 15\n",
    "        self.layer_out = nn.Linear(H2, D_out) #15 -> 1\n",
    "        \n",
    "        self.relu = nn.ReLU()\n",
    "        self.dropout = nn.Dropout(p=DROPOUT_RATE)\n",
    "        #self.batchnorm1 = nn.BatchNorm1d(100)\n",
    "        #self.batchnorm2 = nn.BatchNorm1d(15)\n",
    "        \n",
    "    def forward(self, inputs):\n",
    "        x = self.relu(self.layer_1(inputs)) #ReLU on the 298?\n",
    "        #x = self.batchnorm1(x) #Normalize the 100\n",
    "        x = self.dropout(x) #Dropout 15%\n",
    "        x = self.relu(self.layer_2(x)) #ReLU on the 100?\n",
    "        #x = self.batchnorm2(x) #Normalize the 15\n",
    "        x = self.layer_out(x) #1\n",
    "        \n",
    "        return x\n",
    "device = torch.device(\"cuda:0\" if torch.cuda.is_available() else \"cpu\")\n",
    "print(device)\n",
    "#Should use the CPU since I don't have a GPU."
   ]
  },
  {
   "cell_type": "code",
   "execution_count": 9,
   "id": "utility-fairy",
   "metadata": {},
   "outputs": [
    {
     "name": "stdout",
     "output_type": "stream",
     "text": [
      "binaryClassification(\n",
      "  (layer_1): Linear(in_features=298, out_features=100, bias=True)\n",
      "  (layer_2): Linear(in_features=100, out_features=15, bias=True)\n",
      "  (layer_out): Linear(in_features=15, out_features=1, bias=True)\n",
      "  (relu): ReLU()\n",
      "  (dropout): Dropout(p=0.15, inplace=False)\n",
      ")\n"
     ]
    }
   ],
   "source": [
    "#Model initialization and information on layers. The model's actual architecture can be viewed in the forward function above.\n",
    "model = binaryClassification()\n",
    "model.load_state_dict(torch.load('./model_dict.pth'))\n",
    "model.train()\n",
    "print(model)\n",
    "weights = torch.FloatTensor([5]) #Class weights?\n",
    "criterion = nn.BCEWithLogitsLoss(pos_weight=weights)\n",
    "optimizer = optim.Adam(model.parameters(), lr=LEARNING_RATE)\n",
    "\n",
    "#Model initialization and information on layers. The model's actual architecture can be viewed in the forward function above.\n",
    "model1 = binaryClassification()\n",
    "model1.load_state_dict(torch.load('./model_dict.pth'))\n",
    "model1.train()\n",
    "#print(model)\n",
    "weights1 = torch.FloatTensor([5]) #Class weights?\n",
    "criterion1 = nn.BCEWithLogitsLoss(pos_weight=weights1)\n",
    "optimizer1 = optim.Adam(model1.parameters(), lr=LEARNING_RATE)\n",
    "\n",
    "#Model initialization and information on layers. The model's actual architecture can be viewed in the forward function above.\n",
    "model2 = binaryClassification()\n",
    "model2.load_state_dict(torch.load('./model_dict.pth'))\n",
    "model2.train()\n",
    "#print(model)\n",
    "weights2 = torch.FloatTensor([5]) #Class weights?\n",
    "criterion2 = nn.BCEWithLogitsLoss(pos_weight=weights2)\n",
    "optimizer2 = optim.Adam(model2.parameters(), lr=LEARNING_RATE)\n",
    "\n",
    "#Model initialization and information on layers. The model's actual architecture can be viewed in the forward function above.\n",
    "model3 = binaryClassification()\n",
    "model3.load_state_dict(torch.load('./model_dict.pth'))\n",
    "model3.train()\n",
    "#print(model)\n",
    "weights3 = torch.FloatTensor([5]) #Class weights?\n",
    "criterion3 = nn.BCEWithLogitsLoss(pos_weight=weights3)\n",
    "optimizer3 = optim.Adam(model3.parameters(), lr=LEARNING_RATE)\n",
    "\n",
    "#Model initialization and information on layers. The model's actual architecture can be viewed in the forward function above.\n",
    "model4 = binaryClassification()\n",
    "model4.load_state_dict(torch.load('./model_dict.pth'))\n",
    "model4.train()\n",
    "#print(model)\n",
    "weights4 = torch.FloatTensor([5]) #Class weights?\n",
    "criterion4 = nn.BCEWithLogitsLoss(pos_weight=weights4)\n",
    "optimizer4 = optim.Adam(model4.parameters(), lr=LEARNING_RATE)\n",
    "\n",
    "#Model initialization and information on layers. The model's actual architecture can be viewed in the forward function above.\n",
    "model5 = binaryClassification()\n",
    "model5.load_state_dict(torch.load('./model_dict.pth'))\n",
    "model5.train()\n",
    "#print(model)\n",
    "weights5 = torch.FloatTensor([5]) #Class weights?\n",
    "criterion5 = nn.BCEWithLogitsLoss(pos_weight=weights5)\n",
    "optimizer5 = optim.Adam(model5.parameters(), lr=LEARNING_RATE)\n",
    "\n",
    "#Model initialization and information on layers. The model's actual architecture can be viewed in the forward function above.\n",
    "model6 = binaryClassification()\n",
    "model6.load_state_dict(torch.load('./model_dict.pth'))\n",
    "model6.train()\n",
    "#print(model)\n",
    "weights6 = torch.FloatTensor([5]) #Class weights?\n",
    "criterion6 = nn.BCEWithLogitsLoss(pos_weight=weights6)\n",
    "optimizer6 = optim.Adam(model6.parameters(), lr=LEARNING_RATE)\n",
    "\n",
    "#Model initialization and information on layers. The model's actual architecture can be viewed in the forward function above.\n",
    "model7 = binaryClassification()\n",
    "model7.load_state_dict(torch.load('./model_dict.pth'))\n",
    "model7.train()\n",
    "#print(model)\n",
    "weights7 = torch.FloatTensor([5]) #Class weights?\n",
    "criterion7 = nn.BCEWithLogitsLoss(pos_weight=weights7)\n",
    "optimizer7 = optim.Adam(model7.parameters(), lr=LEARNING_RATE)"
   ]
  },
  {
   "cell_type": "code",
   "execution_count": 10,
   "id": "ignored-treatment",
   "metadata": {},
   "outputs": [],
   "source": [
    "#Function to define accuracy. Should look to see if there is a prebuilt that I can use from sci-kit learn or something.\n",
    "def binary_acc(y_pred, y_test):\n",
    "    y_pred_tag = torch.round(torch.sigmoid(y_pred))\n",
    "\n",
    "    correct_results_sum = (y_pred_tag == y_test).sum().float()\n",
    "    acc = correct_results_sum/y_test.shape[0]\n",
    "    acc = torch.round(acc * 100)\n",
    "    \n",
    "    return acc"
   ]
  },
  {
   "cell_type": "code",
   "execution_count": 11,
   "id": "nervous-highland",
   "metadata": {},
   "outputs": [
    {
     "name": "stdout",
     "output_type": "stream",
     "text": [
      "Training Epoch 001: | Loss: 3.59916 | Acc: 54.571\n",
      "Validation Accuracy |  22.22222222222222  PPV |  [1.         0.17647059]  Recall |  [0.06666667 1.        ]\n",
      "Training Epoch 002: | Loss: 2.01037 | Acc: 47.571\n",
      "Validation Accuracy |  22.22222222222222  PPV |  [1.         0.17647059]  Recall |  [0.06666667 1.        ]\n",
      "Training Epoch 003: | Loss: 1.63647 | Acc: 48.714\n",
      "Validation Accuracy |  27.77777777777778  PPV |  [0.75       0.14285714]  Recall |  [0.2        0.66666667]\n",
      "Training Epoch 004: | Loss: 1.42369 | Acc: 54.429\n",
      "Validation Accuracy |  33.33333333333333  PPV |  [0.71428571 0.09090909]  Recall |  [0.33333333 0.33333333]\n",
      "Training Epoch 005: | Loss: 1.27205 | Acc: 57.286\n",
      "Validation Accuracy |  27.77777777777778  PPV |  [0.75       0.14285714]  Recall |  [0.2        0.66666667]\n",
      "Training Epoch 006: | Loss: 1.31460 | Acc: 53.000\n",
      "Validation Accuracy |  27.77777777777778  PPV |  [1.     0.1875]  Recall |  [0.13333333 1.        ]\n",
      "Training Epoch 007: | Loss: 1.24335 | Acc: 52.143\n",
      "Validation Accuracy |  27.77777777777778  PPV |  [1.     0.1875]  Recall |  [0.13333333 1.        ]\n",
      "Training Epoch 008: | Loss: 1.19029 | Acc: 51.429\n",
      "Validation Accuracy |  27.77777777777778  PPV |  [1.     0.1875]  Recall |  [0.13333333 1.        ]\n",
      "Training Epoch 009: | Loss: 1.14369 | Acc: 56.143\n",
      "Validation Accuracy |  27.77777777777778  PPV |  [1.     0.1875]  Recall |  [0.13333333 1.        ]\n",
      "Training Epoch 010: | Loss: 1.18984 | Acc: 57.286\n",
      "Validation Accuracy |  27.77777777777778  PPV |  [1.     0.1875]  Recall |  [0.13333333 1.        ]\n",
      "Training Epoch 011: | Loss: 1.13955 | Acc: 54.286\n",
      "Validation Accuracy |  27.77777777777778  PPV |  [1.     0.1875]  Recall |  [0.13333333 1.        ]\n",
      "Training Epoch 012: | Loss: 1.11313 | Acc: 53.000\n",
      "Validation Accuracy |  33.33333333333333  PPV |  [1.  0.2]  Recall |  [0.2 1. ]\n",
      "Training Epoch 013: | Loss: 1.07445 | Acc: 59.714\n",
      "Validation Accuracy |  44.44444444444444  PPV |  [0.85714286 0.18181818]  Recall |  [0.4        0.66666667]\n",
      "Training Epoch 014: | Loss: 1.02839 | Acc: 63.143\n",
      "Validation Accuracy |  38.88888888888889  PPV |  [1.         0.21428571]  Recall |  [0.26666667 1.        ]\n",
      "Training Epoch 015: | Loss: 1.00133 | Acc: 63.571\n",
      "Validation Accuracy |  44.44444444444444  PPV |  [1.         0.23076923]  Recall |  [0.33333333 1.        ]\n",
      "Training Epoch 016: | Loss: 1.00002 | Acc: 65.286\n",
      "Validation Accuracy |  38.88888888888889  PPV |  [0.83333333 0.16666667]  Recall |  [0.33333333 0.66666667]\n",
      "Training Epoch 017: | Loss: 0.92854 | Acc: 67.571\n",
      "Validation Accuracy |  38.88888888888889  PPV |  [0.83333333 0.16666667]  Recall |  [0.33333333 0.66666667]\n",
      "Training Epoch 018: | Loss: 0.96295 | Acc: 65.571\n",
      "Validation Accuracy |  44.44444444444444  PPV |  [0.85714286 0.18181818]  Recall |  [0.4        0.66666667]\n",
      "Training Epoch 019: | Loss: 0.89857 | Acc: 70.571\n",
      "Validation Accuracy |  38.88888888888889  PPV |  [0.83333333 0.16666667]  Recall |  [0.33333333 0.66666667]\n",
      "Training Epoch 020: | Loss: 0.85679 | Acc: 71.571\n",
      "Validation Accuracy |  44.44444444444444  PPV |  [0.85714286 0.18181818]  Recall |  [0.4        0.66666667]\n",
      "Training Epoch 021: | Loss: 0.86245 | Acc: 71.143\n",
      "Validation Accuracy |  44.44444444444444  PPV |  [0.85714286 0.18181818]  Recall |  [0.4        0.66666667]\n",
      "Training Epoch 022: | Loss: 0.84423 | Acc: 82.286\n",
      "Validation Accuracy |  44.44444444444444  PPV |  [0.77777778 0.11111111]  Recall |  [0.46666667 0.33333333]\n",
      "Training Epoch 023: | Loss: 0.78595 | Acc: 74.714\n",
      "Validation Accuracy |  38.88888888888889  PPV |  [0.83333333 0.16666667]  Recall |  [0.33333333 0.66666667]\n",
      "Training Epoch 024: | Loss: 0.84977 | Acc: 76.143\n",
      "Validation Accuracy |  44.44444444444444  PPV |  [0.77777778 0.11111111]  Recall |  [0.46666667 0.33333333]\n",
      "Training Epoch 025: | Loss: 0.74185 | Acc: 78.714\n",
      "Validation Accuracy |  50.0  PPV |  [0.875 0.2  ]  Recall |  [0.46666667 0.66666667]\n",
      "Training Epoch 026: | Loss: 0.72129 | Acc: 77.000\n",
      "Validation Accuracy |  50.0  PPV |  [0.875 0.2  ]  Recall |  [0.46666667 0.66666667]\n",
      "Training Epoch 027: | Loss: 0.68788 | Acc: 80.857\n",
      "Validation Accuracy |  55.55555555555556  PPV |  [0.81818182 0.14285714]  Recall |  [0.6        0.33333333]\n",
      "Training Epoch 028: | Loss: 0.71901 | Acc: 87.143\n",
      "Validation Accuracy |  44.44444444444444  PPV |  [0.77777778 0.11111111]  Recall |  [0.46666667 0.33333333]\n",
      "Training Epoch 029: | Loss: 0.71292 | Acc: 75.714\n",
      "Validation Accuracy |  38.88888888888889  PPV |  [0.83333333 0.16666667]  Recall |  [0.33333333 0.66666667]\n",
      "Training Epoch 030: | Loss: 0.65004 | Acc: 81.429\n",
      "Validation Accuracy |  55.55555555555556  PPV |  [0.81818182 0.14285714]  Recall |  [0.6        0.33333333]\n",
      "Training Epoch 031: | Loss: 0.66404 | Acc: 87.714\n",
      "Validation Accuracy |  55.55555555555556  PPV |  [0.81818182 0.14285714]  Recall |  [0.6        0.33333333]\n",
      "Training Epoch 032: | Loss: 0.58575 | Acc: 87.000\n",
      "Validation Accuracy |  55.55555555555556  PPV |  [0.81818182 0.14285714]  Recall |  [0.6        0.33333333]\n",
      "Training Epoch 033: | Loss: 0.58060 | Acc: 87.286\n",
      "Validation Accuracy |  55.55555555555556  PPV |  [0.81818182 0.14285714]  Recall |  [0.6        0.33333333]\n",
      "Training Epoch 034: | Loss: 0.55716 | Acc: 89.571\n",
      "Validation Accuracy |  55.55555555555556  PPV |  [0.81818182 0.14285714]  Recall |  [0.6        0.33333333]\n",
      "Training Epoch 035: | Loss: 0.59050 | Acc: 88.571\n",
      "Validation Accuracy |  55.55555555555556  PPV |  [0.81818182 0.14285714]  Recall |  [0.6        0.33333333]\n"
     ]
    }
   ],
   "source": [
    "#model.train() tells PyTorch that you’re in training mode.\n",
    "#Similarly, we’ll call model.eval() when we test our model. We’ll see that below.\n",
    "'''If you’re using layers such as Dropout or BatchNorm which behave differently during training and evaluation, \n",
    "you need to tell PyTorch to act accordingly. While the default mode in PyTorch is the train, \n",
    "so, you don’t explicitly have to write that. But it’s good practice.'''\n",
    "val_acc = []\n",
    "train_acc = []\n",
    "train_loss = []\n",
    "val_loss = []\n",
    "\n",
    "model.train() #Initial training mode\n",
    "for e in range(1, EPOCHS+1):\n",
    "    epoch_loss = 0\n",
    "    epoch_acc = 0\n",
    "    for X_batch, y_batch in train_loader:\n",
    "        X_batch, y_batch = X_batch.to(device), y_batch.to(device)\n",
    "        optimizer.zero_grad()\n",
    "        \n",
    "        y_pred = model(X_batch)\n",
    "        \n",
    "        loss = criterion(y_pred, y_batch)\n",
    "        acc = binary_acc(y_pred, y_batch)\n",
    "        \n",
    "        loss.backward()\n",
    "        optimizer.step()\n",
    "        \n",
    "        epoch_loss += loss.item()\n",
    "        epoch_acc += acc.item()\n",
    "    \n",
    "    train_acc.append(epoch_acc/len(train_loader))\n",
    "    train_loss.append(epoch_loss/len(train_loader))\n",
    "    print(f'Training Epoch {e+0:03}: | Loss: {epoch_loss/len(train_loader):.5f} | Acc: {epoch_acc/len(train_loader):.3f}')\n",
    "    #Validation metrics here\n",
    "    model.eval()\n",
    "    #print(\"Evaluation mode\")\n",
    "    y_pred_list = []\n",
    "    test_loader = DataLoader(dataset=test_data, batch_size=test_size)\n",
    "    with torch.no_grad():\n",
    "        counter = 0\n",
    "        for X_batch in test_loader:\n",
    "            X_batch = X_batch.to(device)\n",
    "            y_test_pred = model(X_batch)\n",
    "            y_test_pred = torch.sigmoid(y_test_pred)\n",
    "            y_pred_tag = torch.round(y_test_pred)\n",
    "            y_pred_list.append(y_pred_tag.cpu().numpy())\n",
    "            loss = criterion(y_test_pred,torch.FloatTensor(testing_fold_Y_0))\n",
    "            val_loss.append(loss)\n",
    "            counter+=1\n",
    "            \n",
    "    y_pred_list = []\n",
    "    test_loader = DataLoader(dataset=test_data, batch_size=1)\n",
    "    with torch.no_grad():\n",
    "        for X_batch in test_loader:\n",
    "            X_batch = X_batch.to(device)\n",
    "            y_test_pred = model(X_batch)\n",
    "            y_test_pred = torch.sigmoid(y_test_pred)\n",
    "            y_pred_tag = torch.round(y_test_pred)\n",
    "            y_pred_list.append(y_pred_tag.cpu().numpy())\n",
    "            \n",
    "    y_pred_list = [a.squeeze().tolist() for a in y_pred_list]\n",
    "    y_loss_df = pd.DataFrame(y_pred_list)\n",
    "    accuracy = accuracy_score(torch.FloatTensor(testing_fold_Y_0), y_pred_list)\n",
    "    ppv = precision_score(testing_fold_Y_0, y_pred_list, average=None)\n",
    "    recall = recall_score(testing_fold_Y_0, y_pred_list, average=None)\n",
    "    print(\"Validation Accuracy | \",accuracy*100,\" PPV | \",ppv,\" Recall | \",recall)\n",
    "    val_acc.append(accuracy*100)\n",
    "    model.train()\n",
    "    #print(\"Return to training mode\")\n",
    "    \n",
    "    #Need to get validation loss."
   ]
  },
  {
   "cell_type": "code",
   "execution_count": 12,
   "id": "charged-chase",
   "metadata": {},
   "outputs": [
    {
     "name": "stdout",
     "output_type": "stream",
     "text": [
      "Training Epoch 001: | Loss: 3.39067 | Acc: 57.571\n",
      "Validation Accuracy |  5.88235294117647  PPV |  [0.     0.0625]  Recall |  [0.  0.5]\n",
      "Training Epoch 002: | Loss: 1.99458 | Acc: 48.571\n",
      "Validation Accuracy |  11.76470588235294  PPV |  [0.         0.11764706]  Recall |  [0. 1.]\n",
      "Training Epoch 003: | Loss: 1.56948 | Acc: 48.857\n",
      "Validation Accuracy |  5.88235294117647  PPV |  [0.     0.0625]  Recall |  [0.  0.5]\n",
      "Training Epoch 004: | Loss: 1.33575 | Acc: 55.000\n",
      "Validation Accuracy |  17.647058823529413  PPV |  [0.66666667 0.07142857]  Recall |  [0.13333333 0.5       ]\n"
     ]
    },
    {
     "name": "stderr",
     "output_type": "stream",
     "text": [
      "C:\\Users\\mattbeze\\Anaconda3\\envs\\pytorch\\lib\\site-packages\\sklearn\\metrics\\_classification.py:1245: UndefinedMetricWarning: Precision is ill-defined and being set to 0.0 in labels with no predicted samples. Use `zero_division` parameter to control this behavior.\n",
      "  _warn_prf(average, modifier, msg_start, len(result))\n"
     ]
    },
    {
     "name": "stdout",
     "output_type": "stream",
     "text": [
      "Training Epoch 005: | Loss: 1.34935 | Acc: 55.286\n",
      "Validation Accuracy |  11.76470588235294  PPV |  [0.5        0.06666667]  Recall |  [0.06666667 0.5       ]\n",
      "Training Epoch 006: | Loss: 1.22417 | Acc: 55.000\n",
      "Validation Accuracy |  5.88235294117647  PPV |  [0.     0.0625]  Recall |  [0.  0.5]\n",
      "Training Epoch 007: | Loss: 1.18533 | Acc: 54.714\n",
      "Validation Accuracy |  11.76470588235294  PPV |  [0.5        0.06666667]  Recall |  [0.06666667 0.5       ]\n",
      "Training Epoch 008: | Loss: 1.18089 | Acc: 57.857\n",
      "Validation Accuracy |  11.76470588235294  PPV |  [0.5        0.06666667]  Recall |  [0.06666667 0.5       ]\n",
      "Training Epoch 009: | Loss: 1.16745 | Acc: 57.429\n",
      "Validation Accuracy |  11.76470588235294  PPV |  [0.5        0.06666667]  Recall |  [0.06666667 0.5       ]\n",
      "Training Epoch 010: | Loss: 1.06348 | Acc: 62.714\n",
      "Validation Accuracy |  17.647058823529413  PPV |  [0.66666667 0.07142857]  Recall |  [0.13333333 0.5       ]\n",
      "Training Epoch 011: | Loss: 1.11762 | Acc: 58.857\n",
      "Validation Accuracy |  11.76470588235294  PPV |  [0.5        0.06666667]  Recall |  [0.06666667 0.5       ]\n",
      "Training Epoch 012: | Loss: 1.06346 | Acc: 61.714\n",
      "Validation Accuracy |  23.52941176470588  PPV |  [0.75       0.07692308]  Recall |  [0.2 0.5]\n",
      "Training Epoch 013: | Loss: 1.00595 | Acc: 65.571\n",
      "Validation Accuracy |  29.411764705882355  PPV |  [0.8        0.08333333]  Recall |  [0.26666667 0.5       ]\n",
      "Training Epoch 014: | Loss: 0.99109 | Acc: 67.429\n",
      "Validation Accuracy |  23.52941176470588  PPV |  [0.75       0.07692308]  Recall |  [0.2 0.5]\n",
      "Training Epoch 015: | Loss: 0.95269 | Acc: 66.571\n",
      "Validation Accuracy |  17.647058823529413  PPV |  [0.66666667 0.07142857]  Recall |  [0.13333333 0.5       ]\n",
      "Training Epoch 016: | Loss: 0.92685 | Acc: 69.000\n",
      "Validation Accuracy |  35.294117647058826  PPV |  [0.83333333 0.09090909]  Recall |  [0.33333333 0.5       ]\n",
      "Training Epoch 017: | Loss: 0.89733 | Acc: 73.857\n",
      "Validation Accuracy |  35.294117647058826  PPV |  [0.83333333 0.09090909]  Recall |  [0.33333333 0.5       ]\n",
      "Training Epoch 018: | Loss: 0.93699 | Acc: 68.571\n",
      "Validation Accuracy |  29.411764705882355  PPV |  [0.8        0.08333333]  Recall |  [0.26666667 0.5       ]\n",
      "Training Epoch 019: | Loss: 0.88733 | Acc: 72.714\n",
      "Validation Accuracy |  35.294117647058826  PPV |  [0.83333333 0.09090909]  Recall |  [0.33333333 0.5       ]\n",
      "Training Epoch 020: | Loss: 0.82915 | Acc: 73.286\n",
      "Validation Accuracy |  35.294117647058826  PPV |  [0.83333333 0.09090909]  Recall |  [0.33333333 0.5       ]\n",
      "Training Epoch 021: | Loss: 0.79768 | Acc: 76.429\n",
      "Validation Accuracy |  47.05882352941176  PPV |  [0.875      0.11111111]  Recall |  [0.46666667 0.5       ]\n",
      "Training Epoch 022: | Loss: 0.84432 | Acc: 79.714\n",
      "Validation Accuracy |  35.294117647058826  PPV |  [0.83333333 0.09090909]  Recall |  [0.33333333 0.5       ]\n",
      "Training Epoch 023: | Loss: 0.80080 | Acc: 75.286\n",
      "Validation Accuracy |  35.294117647058826  PPV |  [0.83333333 0.09090909]  Recall |  [0.33333333 0.5       ]\n",
      "Training Epoch 024: | Loss: 0.72971 | Acc: 77.857\n",
      "Validation Accuracy |  47.05882352941176  PPV |  [0.875      0.11111111]  Recall |  [0.46666667 0.5       ]\n",
      "Training Epoch 025: | Loss: 0.73652 | Acc: 82.000\n",
      "Validation Accuracy |  47.05882352941176  PPV |  [0.875      0.11111111]  Recall |  [0.46666667 0.5       ]\n",
      "Training Epoch 026: | Loss: 0.70220 | Acc: 77.714\n",
      "Validation Accuracy |  52.94117647058824  PPV |  [0.88888889 0.125     ]  Recall |  [0.53333333 0.5       ]\n",
      "Training Epoch 027: | Loss: 0.69342 | Acc: 83.000\n",
      "Validation Accuracy |  64.70588235294117  PPV |  [0.90909091 0.16666667]  Recall |  [0.66666667 0.5       ]\n",
      "Training Epoch 028: | Loss: 0.65509 | Acc: 84.286\n",
      "Validation Accuracy |  64.70588235294117  PPV |  [0.90909091 0.16666667]  Recall |  [0.66666667 0.5       ]\n",
      "Training Epoch 029: | Loss: 0.60848 | Acc: 84.429\n",
      "Validation Accuracy |  64.70588235294117  PPV |  [0.90909091 0.16666667]  Recall |  [0.66666667 0.5       ]\n",
      "Training Epoch 030: | Loss: 0.60179 | Acc: 85.286\n",
      "Validation Accuracy |  64.70588235294117  PPV |  [0.90909091 0.16666667]  Recall |  [0.66666667 0.5       ]\n",
      "Training Epoch 031: | Loss: 0.58581 | Acc: 86.571\n",
      "Validation Accuracy |  64.70588235294117  PPV |  [0.90909091 0.16666667]  Recall |  [0.66666667 0.5       ]\n",
      "Training Epoch 032: | Loss: 0.53372 | Acc: 90.000\n",
      "Validation Accuracy |  70.58823529411765  PPV |  [0.91666667 0.2       ]  Recall |  [0.73333333 0.5       ]\n",
      "Training Epoch 033: | Loss: 0.53719 | Acc: 88.714\n",
      "Validation Accuracy |  70.58823529411765  PPV |  [0.91666667 0.2       ]  Recall |  [0.73333333 0.5       ]\n",
      "Training Epoch 034: | Loss: 0.50355 | Acc: 89.714\n",
      "Validation Accuracy |  70.58823529411765  PPV |  [0.91666667 0.2       ]  Recall |  [0.73333333 0.5       ]\n",
      "Training Epoch 035: | Loss: 0.52560 | Acc: 89.571\n",
      "Validation Accuracy |  70.58823529411765  PPV |  [0.91666667 0.2       ]  Recall |  [0.73333333 0.5       ]\n"
     ]
    }
   ],
   "source": [
    "#model.train() tells PyTorch that you’re in training mode.\n",
    "#Similarly, we’ll call model.eval() when we test our model. We’ll see that below.\n",
    "'''If you’re using layers such as Dropout or BatchNorm which behave differently during training and evaluation, \n",
    "you need to tell PyTorch to act accordingly. While the default mode in PyTorch is the train, \n",
    "so, you don’t explicitly have to write that. But it’s good practice.'''\n",
    "val_acc1 = []\n",
    "train_acc1 = []\n",
    "train_loss1 = []\n",
    "val_loss1 = []\n",
    "\n",
    "model1.train() #Initial training mode\n",
    "for e in range(1, EPOCHS+1):\n",
    "    epoch_loss = 0\n",
    "    epoch_acc = 0\n",
    "    for X_batch, y_batch in train_loader1:\n",
    "        X_batch, y_batch = X_batch.to(device), y_batch.to(device)\n",
    "        optimizer1.zero_grad()\n",
    "        \n",
    "        y_pred = model1(X_batch)\n",
    "        \n",
    "        loss = criterion(y_pred, y_batch)\n",
    "        acc = binary_acc(y_pred, y_batch)\n",
    "        \n",
    "        loss.backward()\n",
    "        optimizer1.step()\n",
    "        \n",
    "        epoch_loss += loss.item()\n",
    "        epoch_acc += acc.item()\n",
    "    \n",
    "    train_acc1.append(epoch_acc/len(train_loader1))\n",
    "    train_loss1.append(epoch_loss/len(train_loader1))\n",
    "    print(f'Training Epoch {e+0:03}: | Loss: {epoch_loss/len(train_loader1):.5f} | Acc: {epoch_acc/len(train_loader1):.3f}')\n",
    "    #Validation metrics here\n",
    "    model1.eval()\n",
    "    #print(\"Evaluation mode\")\n",
    "    y_pred_list = []\n",
    "    test_loader1 = DataLoader(dataset=test_data1, batch_size=test_size1)\n",
    "    with torch.no_grad():\n",
    "        counter = 0\n",
    "        for X_batch in test_loader1:\n",
    "            X_batch = X_batch.to(device)\n",
    "            y_test_pred = model1(X_batch)\n",
    "            y_test_pred = torch.sigmoid(y_test_pred)\n",
    "            y_pred_tag = torch.round(y_test_pred)\n",
    "            y_pred_list.append(y_pred_tag.cpu().numpy())\n",
    "            loss = criterion(y_test_pred,torch.FloatTensor(testing_fold_Y_1))\n",
    "            val_loss1.append(loss)\n",
    "            counter+=1\n",
    "            \n",
    "    y_pred_list = []\n",
    "    test_loader = DataLoader(dataset=test_data1, batch_size=1)\n",
    "    with torch.no_grad():\n",
    "        for X_batch in test_loader:\n",
    "            X_batch = X_batch.to(device)\n",
    "            y_test_pred = model1(X_batch)\n",
    "            y_test_pred = torch.sigmoid(y_test_pred)\n",
    "            y_pred_tag = torch.round(y_test_pred)\n",
    "            y_pred_list.append(y_pred_tag.cpu().numpy())\n",
    "            \n",
    "    y_pred_list = [a.squeeze().tolist() for a in y_pred_list]\n",
    "    y_loss_df = pd.DataFrame(y_pred_list)\n",
    "    accuracy = accuracy_score(torch.FloatTensor(testing_fold_Y_1), y_pred_list)\n",
    "    ppv = precision_score(testing_fold_Y_1, y_pred_list, average=None)\n",
    "    recall = recall_score(testing_fold_Y_1, y_pred_list, average=None)\n",
    "    print(\"Validation Accuracy | \",accuracy*100,\" PPV | \",ppv,\" Recall | \",recall)\n",
    "    val_acc1.append(accuracy*100)\n",
    "    model1.train()\n",
    "    #print(\"Return to training mode\")\n",
    "    \n",
    "    #Need to get validation loss."
   ]
  },
  {
   "cell_type": "code",
   "execution_count": 13,
   "id": "under-halloween",
   "metadata": {},
   "outputs": [
    {
     "name": "stdout",
     "output_type": "stream",
     "text": [
      "Training Epoch 001: | Loss: 3.68943 | Acc: 56.857\n",
      "Validation Accuracy |  29.411764705882355  PPV |  [1.         0.14285714]  Recall |  [0.2 1. ]\n",
      "Training Epoch 002: | Loss: 2.09048 | Acc: 46.286\n",
      "Validation Accuracy |  23.52941176470588  PPV |  [1.         0.13333333]  Recall |  [0.13333333 1.        ]\n",
      "Training Epoch 003: | Loss: 1.60196 | Acc: 49.571\n",
      "Validation Accuracy |  29.411764705882355  PPV |  [1.         0.14285714]  Recall |  [0.2 1. ]\n",
      "Training Epoch 004: | Loss: 1.41817 | Acc: 50.714\n",
      "Validation Accuracy |  47.05882352941176  PPV |  [1.         0.18181818]  Recall |  [0.4 1. ]\n",
      "Training Epoch 005: | Loss: 1.39465 | Acc: 51.857\n",
      "Validation Accuracy |  29.411764705882355  PPV |  [1.         0.14285714]  Recall |  [0.2 1. ]\n",
      "Training Epoch 006: | Loss: 1.32217 | Acc: 48.429\n",
      "Validation Accuracy |  29.411764705882355  PPV |  [1.         0.14285714]  Recall |  [0.2 1. ]\n",
      "Training Epoch 007: | Loss: 1.24644 | Acc: 51.714\n",
      "Validation Accuracy |  29.411764705882355  PPV |  [1.         0.14285714]  Recall |  [0.2 1. ]\n",
      "Training Epoch 008: | Loss: 1.25114 | Acc: 49.714\n",
      "Validation Accuracy |  29.411764705882355  PPV |  [1.         0.14285714]  Recall |  [0.2 1. ]\n",
      "Training Epoch 009: | Loss: 1.18195 | Acc: 52.571\n",
      "Validation Accuracy |  29.411764705882355  PPV |  [1.         0.14285714]  Recall |  [0.2 1. ]\n",
      "Training Epoch 010: | Loss: 1.18074 | Acc: 51.857\n",
      "Validation Accuracy |  29.411764705882355  PPV |  [1.         0.14285714]  Recall |  [0.2 1. ]\n",
      "Training Epoch 011: | Loss: 1.13375 | Acc: 51.857\n",
      "Validation Accuracy |  41.17647058823529  PPV |  [1.         0.16666667]  Recall |  [0.33333333 1.        ]\n",
      "Training Epoch 012: | Loss: 1.14230 | Acc: 52.857\n",
      "Validation Accuracy |  35.294117647058826  PPV |  [1.         0.15384615]  Recall |  [0.26666667 1.        ]\n",
      "Training Epoch 013: | Loss: 1.09991 | Acc: 54.286\n",
      "Validation Accuracy |  47.05882352941176  PPV |  [1.         0.18181818]  Recall |  [0.4 1. ]\n",
      "Training Epoch 014: | Loss: 1.10343 | Acc: 55.429\n",
      "Validation Accuracy |  47.05882352941176  PPV |  [1.         0.18181818]  Recall |  [0.4 1. ]\n",
      "Training Epoch 015: | Loss: 1.06567 | Acc: 56.286\n",
      "Validation Accuracy |  47.05882352941176  PPV |  [1.         0.18181818]  Recall |  [0.4 1. ]\n",
      "Training Epoch 016: | Loss: 1.02308 | Acc: 61.143\n",
      "Validation Accuracy |  52.94117647058824  PPV |  [1.  0.2]  Recall |  [0.46666667 1.        ]\n",
      "Training Epoch 017: | Loss: 0.97961 | Acc: 61.000\n",
      "Validation Accuracy |  52.94117647058824  PPV |  [1.  0.2]  Recall |  [0.46666667 1.        ]\n",
      "Training Epoch 018: | Loss: 1.01120 | Acc: 58.143\n",
      "Validation Accuracy |  52.94117647058824  PPV |  [1.  0.2]  Recall |  [0.46666667 1.        ]\n",
      "Training Epoch 019: | Loss: 0.90759 | Acc: 70.000\n",
      "Validation Accuracy |  64.70588235294117  PPV |  [1.   0.25]  Recall |  [0.6 1. ]\n",
      "Training Epoch 020: | Loss: 0.93281 | Acc: 70.143\n",
      "Validation Accuracy |  64.70588235294117  PPV |  [1.   0.25]  Recall |  [0.6 1. ]\n",
      "Training Epoch 021: | Loss: 0.89156 | Acc: 70.143\n",
      "Validation Accuracy |  64.70588235294117  PPV |  [1.   0.25]  Recall |  [0.6 1. ]\n",
      "Training Epoch 022: | Loss: 0.85634 | Acc: 72.857\n",
      "Validation Accuracy |  64.70588235294117  PPV |  [1.   0.25]  Recall |  [0.6 1. ]\n",
      "Training Epoch 023: | Loss: 0.83734 | Acc: 75.714\n",
      "Validation Accuracy |  52.94117647058824  PPV |  [0.81818182 0.        ]  Recall |  [0.6 0. ]\n",
      "Training Epoch 024: | Loss: 0.78845 | Acc: 74.714\n",
      "Validation Accuracy |  52.94117647058824  PPV |  [0.81818182 0.        ]  Recall |  [0.6 0. ]\n",
      "Training Epoch 025: | Loss: 0.77581 | Acc: 78.571\n",
      "Validation Accuracy |  58.82352941176471  PPV |  [0.83333333 0.        ]  Recall |  [0.66666667 0.        ]\n",
      "Training Epoch 026: | Loss: 0.71591 | Acc: 82.714\n",
      "Validation Accuracy |  52.94117647058824  PPV |  [0.81818182 0.        ]  Recall |  [0.6 0. ]\n",
      "Training Epoch 027: | Loss: 0.68835 | Acc: 82.571\n",
      "Validation Accuracy |  52.94117647058824  PPV |  [0.81818182 0.        ]  Recall |  [0.6 0. ]\n",
      "Training Epoch 028: | Loss: 0.69788 | Acc: 83.286\n",
      "Validation Accuracy |  58.82352941176471  PPV |  [0.83333333 0.        ]  Recall |  [0.66666667 0.        ]\n",
      "Training Epoch 029: | Loss: 0.65579 | Acc: 88.143\n",
      "Validation Accuracy |  58.82352941176471  PPV |  [0.83333333 0.        ]  Recall |  [0.66666667 0.        ]\n",
      "Training Epoch 030: | Loss: 0.65233 | Acc: 84.857\n",
      "Validation Accuracy |  52.94117647058824  PPV |  [0.81818182 0.        ]  Recall |  [0.6 0. ]\n",
      "Training Epoch 031: | Loss: 0.60014 | Acc: 87.000\n",
      "Validation Accuracy |  58.82352941176471  PPV |  [0.83333333 0.        ]  Recall |  [0.66666667 0.        ]\n",
      "Training Epoch 032: | Loss: 0.59618 | Acc: 91.714\n",
      "Validation Accuracy |  52.94117647058824  PPV |  [0.81818182 0.        ]  Recall |  [0.6 0. ]\n",
      "Training Epoch 033: | Loss: 0.57045 | Acc: 85.143\n",
      "Validation Accuracy |  52.94117647058824  PPV |  [0.81818182 0.        ]  Recall |  [0.6 0. ]\n",
      "Training Epoch 034: | Loss: 0.55668 | Acc: 90.571\n",
      "Validation Accuracy |  76.47058823529412  PPV |  [0.86666667 0.        ]  Recall |  [0.86666667 0.        ]\n",
      "Training Epoch 035: | Loss: 0.53864 | Acc: 89.857\n",
      "Validation Accuracy |  58.82352941176471  PPV |  [0.83333333 0.        ]  Recall |  [0.66666667 0.        ]\n"
     ]
    }
   ],
   "source": [
    "#model.train() tells PyTorch that you’re in training mode.\n",
    "#Similarly, we’ll call model.eval() when we test our model. We’ll see that below.\n",
    "'''If you’re using layers such as Dropout or BatchNorm which behave differently during training and evaluation, \n",
    "you need to tell PyTorch to act accordingly. While the default mode in PyTorch is the train, \n",
    "so, you don’t explicitly have to write that. But it’s good practice.'''\n",
    "val_acc2 = []\n",
    "train_acc2 = []\n",
    "train_loss2 = []\n",
    "val_loss2 = []\n",
    "\n",
    "model2.train() #Initial training mode\n",
    "for e in range(1, EPOCHS+1):\n",
    "    epoch_loss = 0\n",
    "    epoch_acc = 0\n",
    "    for X_batch, y_batch in train_loader2:\n",
    "        X_batch, y_batch = X_batch.to(device), y_batch.to(device)\n",
    "        optimizer2.zero_grad()\n",
    "        \n",
    "        y_pred = model2(X_batch)\n",
    "        \n",
    "        loss = criterion(y_pred, y_batch)\n",
    "        acc = binary_acc(y_pred, y_batch)\n",
    "        \n",
    "        loss.backward()\n",
    "        optimizer2.step()\n",
    "        \n",
    "        epoch_loss += loss.item()\n",
    "        epoch_acc += acc.item()\n",
    "    \n",
    "    train_acc2.append(epoch_acc/len(train_loader2))\n",
    "    train_loss2.append(epoch_loss/len(train_loader2))\n",
    "    print(f'Training Epoch {e+0:03}: | Loss: {epoch_loss/len(train_loader2):.5f} | Acc: {epoch_acc/len(train_loader2):.3f}')\n",
    "    #Validation metrics here\n",
    "    model2.eval()\n",
    "    #print(\"Evaluation mode\")\n",
    "    y_pred_list = []\n",
    "    test_loader2 = DataLoader(dataset=test_data2, batch_size=test_size1)\n",
    "    with torch.no_grad():\n",
    "        counter = 0\n",
    "        for X_batch in test_loader2:\n",
    "            X_batch = X_batch.to(device)\n",
    "            y_test_pred = model2(X_batch)\n",
    "            y_test_pred = torch.sigmoid(y_test_pred)\n",
    "            y_pred_tag = torch.round(y_test_pred)\n",
    "            y_pred_list.append(y_pred_tag.cpu().numpy())\n",
    "            loss = criterion(y_test_pred,torch.FloatTensor(testing_fold_Y_2))\n",
    "            val_loss2.append(loss)\n",
    "            counter+=1\n",
    "            \n",
    "    y_pred_list = []\n",
    "    test_loader2 = DataLoader(dataset=test_data2, batch_size=1)\n",
    "    with torch.no_grad():\n",
    "        for X_batch in test_loader2:\n",
    "            X_batch = X_batch.to(device)\n",
    "            y_test_pred = model2(X_batch)\n",
    "            y_test_pred = torch.sigmoid(y_test_pred)\n",
    "            y_pred_tag = torch.round(y_test_pred)\n",
    "            y_pred_list.append(y_pred_tag.cpu().numpy())\n",
    "            \n",
    "    y_pred_list = [a.squeeze().tolist() for a in y_pred_list]\n",
    "    y_loss_df = pd.DataFrame(y_pred_list)\n",
    "    accuracy = accuracy_score(torch.FloatTensor(testing_fold_Y_2), y_pred_list)\n",
    "    ppv = precision_score(testing_fold_Y_2, y_pred_list, average=None)\n",
    "    recall = recall_score(testing_fold_Y_2, y_pred_list, average=None)\n",
    "    print(\"Validation Accuracy | \",accuracy*100,\" PPV | \",ppv,\" Recall | \",recall)\n",
    "    val_acc2.append(accuracy*100)\n",
    "    model2.train()\n",
    "    #print(\"Return to training mode\")\n",
    "    \n",
    "    #Need to get validation loss."
   ]
  },
  {
   "cell_type": "code",
   "execution_count": 14,
   "id": "alert-probe",
   "metadata": {},
   "outputs": [
    {
     "name": "stdout",
     "output_type": "stream",
     "text": [
      "Training Epoch 001: | Loss: 4.09719 | Acc: 57.429\n",
      "Validation Accuracy |  23.52941176470588  PPV |  [1.     0.1875]  Recall |  [0.07142857 1.        ]\n",
      "Training Epoch 002: | Loss: 1.85223 | Acc: 49.571\n",
      "Validation Accuracy |  23.52941176470588  PPV |  [1.     0.1875]  Recall |  [0.07142857 1.        ]\n",
      "Training Epoch 003: | Loss: 1.58840 | Acc: 46.857\n",
      "Validation Accuracy |  23.52941176470588  PPV |  [1.     0.1875]  Recall |  [0.07142857 1.        ]\n",
      "Training Epoch 004: | Loss: 1.27408 | Acc: 52.286\n",
      "Validation Accuracy |  23.52941176470588  PPV |  [1.     0.1875]  Recall |  [0.07142857 1.        ]\n",
      "Training Epoch 005: | Loss: 1.28494 | Acc: 55.714\n",
      "Validation Accuracy |  23.52941176470588  PPV |  [1.     0.1875]  Recall |  [0.07142857 1.        ]\n",
      "Training Epoch 006: | Loss: 1.29465 | Acc: 50.857\n",
      "Validation Accuracy |  17.647058823529413  PPV |  [0.         0.17647059]  Recall |  [0. 1.]\n",
      "Training Epoch 007: | Loss: 1.25105 | Acc: 47.857\n",
      "Validation Accuracy |  17.647058823529413  PPV |  [0.         0.17647059]  Recall |  [0. 1.]\n",
      "Training Epoch 008: | Loss: 1.16816 | Acc: 55.714\n"
     ]
    },
    {
     "name": "stderr",
     "output_type": "stream",
     "text": [
      "C:\\Users\\mattbeze\\Anaconda3\\envs\\pytorch\\lib\\site-packages\\sklearn\\metrics\\_classification.py:1245: UndefinedMetricWarning: Precision is ill-defined and being set to 0.0 in labels with no predicted samples. Use `zero_division` parameter to control this behavior.\n",
      "  _warn_prf(average, modifier, msg_start, len(result))\n",
      "C:\\Users\\mattbeze\\Anaconda3\\envs\\pytorch\\lib\\site-packages\\sklearn\\metrics\\_classification.py:1245: UndefinedMetricWarning: Precision is ill-defined and being set to 0.0 in labels with no predicted samples. Use `zero_division` parameter to control this behavior.\n",
      "  _warn_prf(average, modifier, msg_start, len(result))\n",
      "C:\\Users\\mattbeze\\Anaconda3\\envs\\pytorch\\lib\\site-packages\\sklearn\\metrics\\_classification.py:1245: UndefinedMetricWarning: Precision is ill-defined and being set to 0.0 in labels with no predicted samples. Use `zero_division` parameter to control this behavior.\n",
      "  _warn_prf(average, modifier, msg_start, len(result))\n",
      "C:\\Users\\mattbeze\\Anaconda3\\envs\\pytorch\\lib\\site-packages\\sklearn\\metrics\\_classification.py:1245: UndefinedMetricWarning: Precision is ill-defined and being set to 0.0 in labels with no predicted samples. Use `zero_division` parameter to control this behavior.\n",
      "  _warn_prf(average, modifier, msg_start, len(result))\n"
     ]
    },
    {
     "name": "stdout",
     "output_type": "stream",
     "text": [
      "Validation Accuracy |  17.647058823529413  PPV |  [0.         0.17647059]  Recall |  [0. 1.]\n",
      "Training Epoch 009: | Loss: 1.14386 | Acc: 57.571\n",
      "Validation Accuracy |  17.647058823529413  PPV |  [0.         0.17647059]  Recall |  [0. 1.]\n",
      "Training Epoch 010: | Loss: 1.05209 | Acc: 59.143\n",
      "Validation Accuracy |  17.647058823529413  PPV |  [0.         0.17647059]  Recall |  [0. 1.]\n",
      "Training Epoch 011: | Loss: 1.08441 | Acc: 60.000\n"
     ]
    },
    {
     "name": "stderr",
     "output_type": "stream",
     "text": [
      "C:\\Users\\mattbeze\\Anaconda3\\envs\\pytorch\\lib\\site-packages\\sklearn\\metrics\\_classification.py:1245: UndefinedMetricWarning: Precision is ill-defined and being set to 0.0 in labels with no predicted samples. Use `zero_division` parameter to control this behavior.\n",
      "  _warn_prf(average, modifier, msg_start, len(result))\n",
      "C:\\Users\\mattbeze\\Anaconda3\\envs\\pytorch\\lib\\site-packages\\sklearn\\metrics\\_classification.py:1245: UndefinedMetricWarning: Precision is ill-defined and being set to 0.0 in labels with no predicted samples. Use `zero_division` parameter to control this behavior.\n",
      "  _warn_prf(average, modifier, msg_start, len(result))\n"
     ]
    },
    {
     "name": "stdout",
     "output_type": "stream",
     "text": [
      "Validation Accuracy |  17.647058823529413  PPV |  [0.         0.17647059]  Recall |  [0. 1.]\n",
      "Training Epoch 012: | Loss: 1.00049 | Acc: 64.714\n",
      "Validation Accuracy |  5.88235294117647  PPV |  [0.         0.06666667]  Recall |  [0.         0.33333333]\n",
      "Training Epoch 013: | Loss: 0.96666 | Acc: 65.571\n",
      "Validation Accuracy |  11.76470588235294  PPV |  [0.    0.125]  Recall |  [0.         0.66666667]\n",
      "Training Epoch 014: | Loss: 0.98052 | Acc: 62.286\n",
      "Validation Accuracy |  11.76470588235294  PPV |  [0.33333333 0.07142857]  Recall |  [0.07142857 0.33333333]\n",
      "Training Epoch 015: | Loss: 0.88682 | Acc: 69.000\n",
      "Validation Accuracy |  23.52941176470588  PPV |  [0.6        0.08333333]  Recall |  [0.21428571 0.33333333]\n",
      "Training Epoch 016: | Loss: 0.83807 | Acc: 78.571\n",
      "Validation Accuracy |  29.411764705882355  PPV |  [0.66666667 0.09090909]  Recall |  [0.28571429 0.33333333]\n",
      "Training Epoch 017: | Loss: 0.79594 | Acc: 71.286\n",
      "Validation Accuracy |  23.52941176470588  PPV |  [0.6        0.08333333]  Recall |  [0.21428571 0.33333333]\n",
      "Training Epoch 018: | Loss: 0.81266 | Acc: 73.143\n",
      "Validation Accuracy |  29.411764705882355  PPV |  [0.66666667 0.09090909]  Recall |  [0.28571429 0.33333333]\n",
      "Training Epoch 019: | Loss: 0.76643 | Acc: 77.857\n",
      "Validation Accuracy |  41.17647058823529  PPV |  [0.75       0.11111111]  Recall |  [0.42857143 0.33333333]\n",
      "Training Epoch 020: | Loss: 0.75930 | Acc: 78.857\n",
      "Validation Accuracy |  29.411764705882355  PPV |  [0.66666667 0.09090909]  Recall |  [0.28571429 0.33333333]\n",
      "Training Epoch 021: | Loss: 0.73863 | Acc: 79.143\n",
      "Validation Accuracy |  47.05882352941176  PPV |  [0.77777778 0.125     ]  Recall |  [0.5        0.33333333]\n",
      "Training Epoch 022: | Loss: 0.66767 | Acc: 82.429\n",
      "Validation Accuracy |  47.05882352941176  PPV |  [0.77777778 0.125     ]  Recall |  [0.5        0.33333333]\n",
      "Training Epoch 023: | Loss: 0.63957 | Acc: 86.857\n",
      "Validation Accuracy |  58.82352941176471  PPV |  [0.81818182 0.16666667]  Recall |  [0.64285714 0.33333333]\n",
      "Training Epoch 024: | Loss: 0.65101 | Acc: 85.000\n",
      "Validation Accuracy |  35.294117647058826  PPV |  [0.71428571 0.1       ]  Recall |  [0.35714286 0.33333333]\n",
      "Training Epoch 025: | Loss: 0.63449 | Acc: 78.143\n",
      "Validation Accuracy |  47.05882352941176  PPV |  [0.77777778 0.125     ]  Recall |  [0.5        0.33333333]\n",
      "Training Epoch 026: | Loss: 0.56982 | Acc: 89.000\n",
      "Validation Accuracy |  64.70588235294117  PPV |  [0.83333333 0.2       ]  Recall |  [0.71428571 0.33333333]\n",
      "Training Epoch 027: | Loss: 0.57758 | Acc: 87.143\n",
      "Validation Accuracy |  52.94117647058824  PPV |  [0.8        0.14285714]  Recall |  [0.57142857 0.33333333]\n",
      "Training Epoch 028: | Loss: 0.54008 | Acc: 86.143\n",
      "Validation Accuracy |  58.82352941176471  PPV |  [0.81818182 0.16666667]  Recall |  [0.64285714 0.33333333]\n",
      "Training Epoch 029: | Loss: 0.54053 | Acc: 90.429\n",
      "Validation Accuracy |  64.70588235294117  PPV |  [0.83333333 0.2       ]  Recall |  [0.71428571 0.33333333]\n",
      "Training Epoch 030: | Loss: 0.50764 | Acc: 90.571\n",
      "Validation Accuracy |  58.82352941176471  PPV |  [0.81818182 0.16666667]  Recall |  [0.64285714 0.33333333]\n",
      "Training Epoch 031: | Loss: 0.48539 | Acc: 85.286\n",
      "Validation Accuracy |  64.70588235294117  PPV |  [0.83333333 0.2       ]  Recall |  [0.71428571 0.33333333]\n",
      "Training Epoch 032: | Loss: 0.50400 | Acc: 93.143\n",
      "Validation Accuracy |  64.70588235294117  PPV |  [0.83333333 0.2       ]  Recall |  [0.71428571 0.33333333]\n",
      "Training Epoch 033: | Loss: 0.46791 | Acc: 92.286\n",
      "Validation Accuracy |  58.82352941176471  PPV |  [0.81818182 0.16666667]  Recall |  [0.64285714 0.33333333]\n",
      "Training Epoch 034: | Loss: 0.45572 | Acc: 91.000\n",
      "Validation Accuracy |  64.70588235294117  PPV |  [0.83333333 0.2       ]  Recall |  [0.71428571 0.33333333]\n",
      "Training Epoch 035: | Loss: 0.43182 | Acc: 93.000\n",
      "Validation Accuracy |  64.70588235294117  PPV |  [0.83333333 0.2       ]  Recall |  [0.71428571 0.33333333]\n"
     ]
    }
   ],
   "source": [
    "#model.train() tells PyTorch that you’re in training mode.\n",
    "#Similarly, we’ll call model.eval() when we test our model. We’ll see that below.\n",
    "'''If you’re using layers such as Dropout or BatchNorm which behave differently during training and evaluation, \n",
    "you need to tell PyTorch to act accordingly. While the default mode in PyTorch is the train, \n",
    "so, you don’t explicitly have to write that. But it’s good practice.'''\n",
    "val_acc3 = []\n",
    "train_acc3 = []\n",
    "train_loss3 = []\n",
    "val_loss3 = []\n",
    "\n",
    "model3.train() #Initial training mode\n",
    "for e in range(1, EPOCHS+1):\n",
    "    epoch_loss = 0\n",
    "    epoch_acc = 0\n",
    "    for X_batch, y_batch in train_loader3:\n",
    "        X_batch, y_batch = X_batch.to(device), y_batch.to(device)\n",
    "        optimizer3.zero_grad()\n",
    "        \n",
    "        y_pred = model3(X_batch)\n",
    "        \n",
    "        loss = criterion(y_pred, y_batch)\n",
    "        acc = binary_acc(y_pred, y_batch)\n",
    "        \n",
    "        loss.backward()\n",
    "        optimizer3.step()\n",
    "        \n",
    "        epoch_loss += loss.item()\n",
    "        epoch_acc += acc.item()\n",
    "    \n",
    "    train_acc3.append(epoch_acc/len(train_loader3))\n",
    "    train_loss3.append(epoch_loss/len(train_loader3))\n",
    "    print(f'Training Epoch {e+0:03}: | Loss: {epoch_loss/len(train_loader3):.5f} | Acc: {epoch_acc/len(train_loader3):.3f}')\n",
    "    #Validation metrics here\n",
    "    model3.eval()\n",
    "    #print(\"Evaluation mode\")\n",
    "    y_pred_list = []\n",
    "    test_loader3 = DataLoader(dataset=test_data3, batch_size=test_size1)\n",
    "    with torch.no_grad():\n",
    "        counter = 0\n",
    "        for X_batch in test_loader3:\n",
    "            X_batch = X_batch.to(device)\n",
    "            y_test_pred = model3(X_batch)\n",
    "            y_test_pred = torch.sigmoid(y_test_pred)\n",
    "            y_pred_tag = torch.round(y_test_pred)\n",
    "            y_pred_list.append(y_pred_tag.cpu().numpy())\n",
    "            loss = criterion(y_test_pred,torch.FloatTensor(testing_fold_Y_3))\n",
    "            val_loss3.append(loss)\n",
    "            counter+=1\n",
    "            \n",
    "    y_pred_list = []\n",
    "    test_loader3 = DataLoader(dataset=test_data3, batch_size=1)\n",
    "    with torch.no_grad():\n",
    "        for X_batch in test_loader3:\n",
    "            X_batch = X_batch.to(device)\n",
    "            y_test_pred = model3(X_batch)\n",
    "            y_test_pred = torch.sigmoid(y_test_pred)\n",
    "            y_pred_tag = torch.round(y_test_pred)\n",
    "            y_pred_list.append(y_pred_tag.cpu().numpy())\n",
    "            \n",
    "    y_pred_list = [a.squeeze().tolist() for a in y_pred_list]\n",
    "    y_loss_df = pd.DataFrame(y_pred_list)\n",
    "    accuracy = accuracy_score(torch.FloatTensor(testing_fold_Y_3), y_pred_list)\n",
    "    ppv = precision_score(testing_fold_Y_3, y_pred_list, average=None)\n",
    "    recall = recall_score(testing_fold_Y_3, y_pred_list, average=None)\n",
    "    print(\"Validation Accuracy | \",accuracy*100,\" PPV | \",ppv,\" Recall | \",recall)\n",
    "    val_acc3.append(accuracy*100)\n",
    "    model3.train()\n",
    "    #print(\"Return to training mode\")\n",
    "    \n",
    "    #Need to get validation loss."
   ]
  },
  {
   "cell_type": "code",
   "execution_count": 15,
   "id": "collective-senegal",
   "metadata": {},
   "outputs": [
    {
     "name": "stdout",
     "output_type": "stream",
     "text": [
      "Training Epoch 001: | Loss: 4.01652 | Acc: 55.286\n",
      "Validation Accuracy |  23.52941176470588  PPV |  [1.     0.1875]  Recall |  [0.07142857 1.        ]\n",
      "Training Epoch 002: | Loss: 2.19947 | Acc: 46.571\n",
      "Validation Accuracy |  23.52941176470588  PPV |  [1.     0.1875]  Recall |  [0.07142857 1.        ]\n",
      "Training Epoch 003: | Loss: 1.76256 | Acc: 46.714\n",
      "Validation Accuracy |  23.52941176470588  PPV |  [1.     0.1875]  Recall |  [0.07142857 1.        ]\n",
      "Training Epoch 004: | Loss: 1.46275 | Acc: 51.286\n",
      "Validation Accuracy |  23.52941176470588  PPV |  [1.     0.1875]  Recall |  [0.07142857 1.        ]\n",
      "Training Epoch 005: | Loss: 1.42351 | Acc: 52.143\n",
      "Validation Accuracy |  23.52941176470588  PPV |  [1.     0.1875]  Recall |  [0.07142857 1.        ]\n",
      "Training Epoch 006: | Loss: 1.26656 | Acc: 51.286\n",
      "Validation Accuracy |  23.52941176470588  PPV |  [1.     0.1875]  Recall |  [0.07142857 1.        ]\n",
      "Training Epoch 007: | Loss: 1.28840 | Acc: 49.429\n",
      "Validation Accuracy |  23.52941176470588  PPV |  [1.     0.1875]  Recall |  [0.07142857 1.        ]\n",
      "Training Epoch 008: | Loss: 1.25270 | Acc: 48.000\n",
      "Validation Accuracy |  23.52941176470588  PPV |  [1.     0.1875]  Recall |  [0.07142857 1.        ]\n",
      "Training Epoch 009: | Loss: 1.24887 | Acc: 47.571\n",
      "Validation Accuracy |  23.52941176470588  PPV |  [1.     0.1875]  Recall |  [0.07142857 1.        ]\n",
      "Training Epoch 010: | Loss: 1.21404 | Acc: 49.857\n",
      "Validation Accuracy |  23.52941176470588  PPV |  [1.     0.1875]  Recall |  [0.07142857 1.        ]\n",
      "Training Epoch 011: | Loss: 1.17764 | Acc: 52.714\n",
      "Validation Accuracy |  23.52941176470588  PPV |  [1.     0.1875]  Recall |  [0.07142857 1.        ]\n",
      "Training Epoch 012: | Loss: 1.14368 | Acc: 56.571\n",
      "Validation Accuracy |  23.52941176470588  PPV |  [1.     0.1875]  Recall |  [0.07142857 1.        ]\n",
      "Training Epoch 013: | Loss: 1.11506 | Acc: 55.714\n",
      "Validation Accuracy |  23.52941176470588  PPV |  [1.     0.1875]  Recall |  [0.07142857 1.        ]\n",
      "Training Epoch 014: | Loss: 1.08346 | Acc: 57.286\n",
      "Validation Accuracy |  35.294117647058826  PPV |  [1.         0.21428571]  Recall |  [0.21428571 1.        ]\n",
      "Training Epoch 015: | Loss: 1.11469 | Acc: 57.571\n",
      "Validation Accuracy |  23.52941176470588  PPV |  [1.     0.1875]  Recall |  [0.07142857 1.        ]\n",
      "Training Epoch 016: | Loss: 0.99893 | Acc: 59.714\n",
      "Validation Accuracy |  35.294117647058826  PPV |  [1.         0.21428571]  Recall |  [0.21428571 1.        ]\n",
      "Training Epoch 017: | Loss: 1.04609 | Acc: 62.857\n",
      "Validation Accuracy |  35.294117647058826  PPV |  [1.         0.21428571]  Recall |  [0.21428571 1.        ]\n",
      "Training Epoch 018: | Loss: 1.00913 | Acc: 63.143\n",
      "Validation Accuracy |  35.294117647058826  PPV |  [1.         0.21428571]  Recall |  [0.21428571 1.        ]\n",
      "Training Epoch 019: | Loss: 0.95735 | Acc: 67.429\n",
      "Validation Accuracy |  35.294117647058826  PPV |  [1.         0.21428571]  Recall |  [0.21428571 1.        ]\n",
      "Training Epoch 020: | Loss: 0.94262 | Acc: 63.000\n",
      "Validation Accuracy |  35.294117647058826  PPV |  [1.         0.21428571]  Recall |  [0.21428571 1.        ]\n",
      "Training Epoch 021: | Loss: 0.91584 | Acc: 71.286\n",
      "Validation Accuracy |  41.17647058823529  PPV |  [1.         0.23076923]  Recall |  [0.28571429 1.        ]\n",
      "Training Epoch 022: | Loss: 0.89268 | Acc: 76.143\n",
      "Validation Accuracy |  35.294117647058826  PPV |  [1.         0.21428571]  Recall |  [0.21428571 1.        ]\n",
      "Training Epoch 023: | Loss: 0.83104 | Acc: 68.857\n",
      "Validation Accuracy |  41.17647058823529  PPV |  [1.         0.23076923]  Recall |  [0.28571429 1.        ]\n",
      "Training Epoch 024: | Loss: 0.82894 | Acc: 78.714\n",
      "Validation Accuracy |  41.17647058823529  PPV |  [1.         0.23076923]  Recall |  [0.28571429 1.        ]\n",
      "Training Epoch 025: | Loss: 0.83901 | Acc: 66.000\n",
      "Validation Accuracy |  41.17647058823529  PPV |  [1.         0.23076923]  Recall |  [0.28571429 1.        ]\n",
      "Training Epoch 026: | Loss: 0.81217 | Acc: 82.857\n",
      "Validation Accuracy |  58.82352941176471  PPV |  [1.  0.3]  Recall |  [0.5 1. ]\n",
      "Training Epoch 027: | Loss: 0.71586 | Acc: 77.000\n",
      "Validation Accuracy |  41.17647058823529  PPV |  [1.         0.23076923]  Recall |  [0.28571429 1.        ]\n",
      "Training Epoch 028: | Loss: 0.67980 | Acc: 79.571\n",
      "Validation Accuracy |  58.82352941176471  PPV |  [0.88888889 0.25      ]  Recall |  [0.57142857 0.66666667]\n",
      "Training Epoch 029: | Loss: 0.66657 | Acc: 85.857\n",
      "Validation Accuracy |  47.05882352941176  PPV |  [1.   0.25]  Recall |  [0.35714286 1.        ]\n",
      "Training Epoch 030: | Loss: 0.60307 | Acc: 84.143\n",
      "Validation Accuracy |  58.82352941176471  PPV |  [0.88888889 0.25      ]  Recall |  [0.57142857 0.66666667]\n",
      "Training Epoch 031: | Loss: 0.59424 | Acc: 88.571\n",
      "Validation Accuracy |  47.05882352941176  PPV |  [0.85714286 0.2       ]  Recall |  [0.42857143 0.66666667]\n",
      "Training Epoch 032: | Loss: 0.58914 | Acc: 87.857\n",
      "Validation Accuracy |  58.82352941176471  PPV |  [0.88888889 0.25      ]  Recall |  [0.57142857 0.66666667]\n",
      "Training Epoch 033: | Loss: 0.53894 | Acc: 88.429\n",
      "Validation Accuracy |  58.82352941176471  PPV |  [0.88888889 0.25      ]  Recall |  [0.57142857 0.66666667]\n",
      "Training Epoch 034: | Loss: 0.50116 | Acc: 90.286\n",
      "Validation Accuracy |  64.70588235294117  PPV |  [0.9        0.28571429]  Recall |  [0.64285714 0.66666667]\n",
      "Training Epoch 035: | Loss: 0.50196 | Acc: 87.429\n",
      "Validation Accuracy |  64.70588235294117  PPV |  [0.9        0.28571429]  Recall |  [0.64285714 0.66666667]\n"
     ]
    }
   ],
   "source": [
    "#model.train() tells PyTorch that you’re in training mode.\n",
    "#Similarly, we’ll call model.eval() when we test our model. We’ll see that below.\n",
    "'''If you’re using layers such as Dropout or BatchNorm which behave differently during training and evaluation, \n",
    "you need to tell PyTorch to act accordingly. While the default mode in PyTorch is the train, \n",
    "so, you don’t explicitly have to write that. But it’s good practice.'''\n",
    "val_acc4 = []\n",
    "train_acc4 = []\n",
    "train_loss4 = []\n",
    "val_loss4 = []\n",
    "\n",
    "model4.train() #Initial training mode\n",
    "for e in range(1, EPOCHS+1):\n",
    "    epoch_loss = 0\n",
    "    epoch_acc = 0\n",
    "    for X_batch, y_batch in train_loader4:\n",
    "        X_batch, y_batch = X_batch.to(device), y_batch.to(device)\n",
    "        optimizer4.zero_grad()\n",
    "        \n",
    "        y_pred = model4(X_batch)\n",
    "        \n",
    "        loss = criterion(y_pred, y_batch)\n",
    "        acc = binary_acc(y_pred, y_batch)\n",
    "        \n",
    "        loss.backward()\n",
    "        optimizer4.step()\n",
    "        \n",
    "        epoch_loss += loss.item()\n",
    "        epoch_acc += acc.item()\n",
    "    \n",
    "    train_acc4.append(epoch_acc/len(train_loader4))\n",
    "    train_loss4.append(epoch_loss/len(train_loader4))\n",
    "    print(f'Training Epoch {e+0:03}: | Loss: {epoch_loss/len(train_loader4):.5f} | Acc: {epoch_acc/len(train_loader4):.3f}')\n",
    "    #Validation metrics here\n",
    "    model4.eval()\n",
    "    #print(\"Evaluation mode\")\n",
    "    y_pred_list = []\n",
    "    test_loader4 = DataLoader(dataset=test_data4, batch_size=test_size1)\n",
    "    with torch.no_grad():\n",
    "        counter = 0\n",
    "        for X_batch in test_loader4:\n",
    "            X_batch = X_batch.to(device)\n",
    "            y_test_pred = model4(X_batch)\n",
    "            y_test_pred = torch.sigmoid(y_test_pred)\n",
    "            y_pred_tag = torch.round(y_test_pred)\n",
    "            y_pred_list.append(y_pred_tag.cpu().numpy())\n",
    "            loss = criterion(y_test_pred,torch.FloatTensor(testing_fold_Y_4))\n",
    "            val_loss4.append(loss)\n",
    "            counter+=1\n",
    "            \n",
    "    y_pred_list = []\n",
    "    test_loader4 = DataLoader(dataset=test_data4, batch_size=1)\n",
    "    with torch.no_grad():\n",
    "        for X_batch in test_loader4:\n",
    "            X_batch = X_batch.to(device)\n",
    "            y_test_pred = model4(X_batch)\n",
    "            y_test_pred = torch.sigmoid(y_test_pred)\n",
    "            y_pred_tag = torch.round(y_test_pred)\n",
    "            y_pred_list.append(y_pred_tag.cpu().numpy())\n",
    "            \n",
    "    y_pred_list = [a.squeeze().tolist() for a in y_pred_list]\n",
    "    y_loss_df = pd.DataFrame(y_pred_list)\n",
    "    accuracy = accuracy_score(torch.FloatTensor(testing_fold_Y_4), y_pred_list)\n",
    "    ppv = precision_score(testing_fold_Y_4, y_pred_list, average=None)\n",
    "    recall = recall_score(testing_fold_Y_4, y_pred_list, average=None)\n",
    "    print(\"Validation Accuracy | \",accuracy*100,\" PPV | \",ppv,\" Recall | \",recall)\n",
    "    val_acc4.append(accuracy*100)\n",
    "    model4.train()\n",
    "    #print(\"Return to training mode\")\n",
    "    \n",
    "    #Need to get validation loss."
   ]
  },
  {
   "cell_type": "code",
   "execution_count": 16,
   "id": "decimal-connection",
   "metadata": {},
   "outputs": [
    {
     "name": "stdout",
     "output_type": "stream",
     "text": [
      "Training Epoch 001: | Loss: 3.82987 | Acc: 55.714\n",
      "Validation Accuracy |  29.411764705882355  PPV |  [1.  0.2]  Recall |  [0.14285714 1.        ]\n",
      "Training Epoch 002: | Loss: 2.04826 | Acc: 47.000\n",
      "Validation Accuracy |  23.52941176470588  PPV |  [1.     0.1875]  Recall |  [0.07142857 1.        ]\n",
      "Training Epoch 003: | Loss: 1.78759 | Acc: 48.000\n",
      "Validation Accuracy |  29.411764705882355  PPV |  [1.  0.2]  Recall |  [0.14285714 1.        ]\n",
      "Training Epoch 004: | Loss: 1.35198 | Acc: 51.286\n",
      "Validation Accuracy |  29.411764705882355  PPV |  [1.  0.2]  Recall |  [0.14285714 1.        ]\n",
      "Training Epoch 005: | Loss: 1.42624 | Acc: 50.143\n",
      "Validation Accuracy |  29.411764705882355  PPV |  [1.  0.2]  Recall |  [0.14285714 1.        ]\n",
      "Training Epoch 006: | Loss: 1.33709 | Acc: 48.714\n",
      "Validation Accuracy |  29.411764705882355  PPV |  [1.  0.2]  Recall |  [0.14285714 1.        ]\n",
      "Training Epoch 007: | Loss: 1.26401 | Acc: 47.714\n",
      "Validation Accuracy |  29.411764705882355  PPV |  [1.  0.2]  Recall |  [0.14285714 1.        ]\n",
      "Training Epoch 008: | Loss: 1.30774 | Acc: 46.714\n",
      "Validation Accuracy |  29.411764705882355  PPV |  [1.  0.2]  Recall |  [0.14285714 1.        ]\n",
      "Training Epoch 009: | Loss: 1.24168 | Acc: 53.857\n",
      "Validation Accuracy |  29.411764705882355  PPV |  [1.  0.2]  Recall |  [0.14285714 1.        ]\n",
      "Training Epoch 010: | Loss: 1.21294 | Acc: 52.857\n",
      "Validation Accuracy |  29.411764705882355  PPV |  [1.  0.2]  Recall |  [0.14285714 1.        ]\n",
      "Training Epoch 011: | Loss: 1.19530 | Acc: 52.000\n",
      "Validation Accuracy |  29.411764705882355  PPV |  [1.  0.2]  Recall |  [0.14285714 1.        ]\n",
      "Training Epoch 012: | Loss: 1.17147 | Acc: 54.714\n",
      "Validation Accuracy |  35.294117647058826  PPV |  [1.         0.21428571]  Recall |  [0.21428571 1.        ]\n",
      "Training Epoch 013: | Loss: 1.14878 | Acc: 55.286\n",
      "Validation Accuracy |  35.294117647058826  PPV |  [1.         0.21428571]  Recall |  [0.21428571 1.        ]\n",
      "Training Epoch 014: | Loss: 1.08420 | Acc: 58.429\n",
      "Validation Accuracy |  35.294117647058826  PPV |  [1.         0.21428571]  Recall |  [0.21428571 1.        ]\n",
      "Training Epoch 015: | Loss: 1.04538 | Acc: 60.286\n",
      "Validation Accuracy |  47.05882352941176  PPV |  [1.   0.25]  Recall |  [0.35714286 1.        ]\n",
      "Training Epoch 016: | Loss: 1.00936 | Acc: 68.857\n",
      "Validation Accuracy |  47.05882352941176  PPV |  [0.85714286 0.2       ]  Recall |  [0.42857143 0.66666667]\n",
      "Training Epoch 017: | Loss: 1.01654 | Acc: 67.000\n",
      "Validation Accuracy |  47.05882352941176  PPV |  [1.   0.25]  Recall |  [0.35714286 1.        ]\n",
      "Training Epoch 018: | Loss: 0.93443 | Acc: 66.857\n",
      "Validation Accuracy |  41.17647058823529  PPV |  [0.83333333 0.18181818]  Recall |  [0.35714286 0.66666667]\n",
      "Training Epoch 019: | Loss: 1.02893 | Acc: 66.571\n",
      "Validation Accuracy |  41.17647058823529  PPV |  [0.83333333 0.18181818]  Recall |  [0.35714286 0.66666667]\n",
      "Training Epoch 020: | Loss: 0.92891 | Acc: 69.286\n",
      "Validation Accuracy |  58.82352941176471  PPV |  [0.88888889 0.25      ]  Recall |  [0.57142857 0.66666667]\n",
      "Training Epoch 021: | Loss: 0.92973 | Acc: 70.429\n",
      "Validation Accuracy |  58.82352941176471  PPV |  [0.88888889 0.25      ]  Recall |  [0.57142857 0.66666667]\n",
      "Training Epoch 022: | Loss: 0.83718 | Acc: 78.714\n",
      "Validation Accuracy |  76.47058823529412  PPV |  [0.91666667 0.4       ]  Recall |  [0.78571429 0.66666667]\n",
      "Training Epoch 023: | Loss: 0.84289 | Acc: 73.857\n",
      "Validation Accuracy |  58.82352941176471  PPV |  [0.88888889 0.25      ]  Recall |  [0.57142857 0.66666667]\n",
      "Training Epoch 024: | Loss: 0.76545 | Acc: 75.857\n",
      "Validation Accuracy |  76.47058823529412  PPV |  [0.91666667 0.4       ]  Recall |  [0.78571429 0.66666667]\n",
      "Training Epoch 025: | Loss: 0.71696 | Acc: 84.286\n",
      "Validation Accuracy |  76.47058823529412  PPV |  [0.91666667 0.4       ]  Recall |  [0.78571429 0.66666667]\n",
      "Training Epoch 026: | Loss: 0.69388 | Acc: 78.429\n",
      "Validation Accuracy |  76.47058823529412  PPV |  [0.91666667 0.4       ]  Recall |  [0.78571429 0.66666667]\n",
      "Training Epoch 027: | Loss: 0.68020 | Acc: 85.143\n",
      "Validation Accuracy |  70.58823529411765  PPV |  [0.84615385 0.25      ]  Recall |  [0.78571429 0.33333333]\n",
      "Training Epoch 028: | Loss: 0.62065 | Acc: 84.286\n",
      "Validation Accuracy |  70.58823529411765  PPV |  [0.84615385 0.25      ]  Recall |  [0.78571429 0.33333333]\n",
      "Training Epoch 029: | Loss: 0.58024 | Acc: 84.429\n",
      "Validation Accuracy |  76.47058823529412  PPV |  [0.85714286 0.33333333]  Recall |  [0.85714286 0.33333333]\n",
      "Training Epoch 030: | Loss: 0.60651 | Acc: 88.714\n",
      "Validation Accuracy |  76.47058823529412  PPV |  [0.85714286 0.33333333]  Recall |  [0.85714286 0.33333333]\n",
      "Training Epoch 031: | Loss: 0.52792 | Acc: 86.286\n",
      "Validation Accuracy |  76.47058823529412  PPV |  [0.85714286 0.33333333]  Recall |  [0.85714286 0.33333333]\n",
      "Training Epoch 032: | Loss: 0.52037 | Acc: 91.000\n",
      "Validation Accuracy |  76.47058823529412  PPV |  [0.85714286 0.33333333]  Recall |  [0.85714286 0.33333333]\n",
      "Training Epoch 033: | Loss: 0.52896 | Acc: 89.857\n",
      "Validation Accuracy |  70.58823529411765  PPV |  [0.84615385 0.25      ]  Recall |  [0.78571429 0.33333333]\n",
      "Training Epoch 034: | Loss: 0.48846 | Acc: 86.571\n",
      "Validation Accuracy |  70.58823529411765  PPV |  [0.8 0. ]  Recall |  [0.85714286 0.        ]\n",
      "Training Epoch 035: | Loss: 0.53171 | Acc: 88.429\n",
      "Validation Accuracy |  70.58823529411765  PPV |  [0.84615385 0.25      ]  Recall |  [0.78571429 0.33333333]\n"
     ]
    }
   ],
   "source": [
    "#model.train() tells PyTorch that you’re in training mode.\n",
    "#Similarly, we’ll call model.eval() when we test our model. We’ll see that below.\n",
    "'''If you’re using layers such as Dropout or BatchNorm which behave differently during training and evaluation, \n",
    "you need to tell PyTorch to act accordingly. While the default mode in PyTorch is the train, \n",
    "so, you don’t explicitly have to write that. But it’s good practice.'''\n",
    "val_acc5 = []\n",
    "train_acc5 = []\n",
    "train_loss5 = []\n",
    "val_loss5 = []\n",
    "\n",
    "model5.train() #Initial training mode\n",
    "for e in range(1, EPOCHS+1):\n",
    "    epoch_loss = 0\n",
    "    epoch_acc = 0\n",
    "    for X_batch, y_batch in train_loader5:\n",
    "        X_batch, y_batch = X_batch.to(device), y_batch.to(device)\n",
    "        optimizer5.zero_grad()\n",
    "        \n",
    "        y_pred = model5(X_batch)\n",
    "        \n",
    "        loss = criterion(y_pred, y_batch)\n",
    "        acc = binary_acc(y_pred, y_batch)\n",
    "        \n",
    "        loss.backward()\n",
    "        optimizer5.step()\n",
    "        \n",
    "        epoch_loss += loss.item()\n",
    "        epoch_acc += acc.item()\n",
    "    \n",
    "    train_acc5.append(epoch_acc/len(train_loader5))\n",
    "    train_loss5.append(epoch_loss/len(train_loader5))\n",
    "    print(f'Training Epoch {e+0:03}: | Loss: {epoch_loss/len(train_loader5):.5f} | Acc: {epoch_acc/len(train_loader5):.3f}')\n",
    "    #Validation metrics here\n",
    "    model5.eval()\n",
    "    #print(\"Evaluation mode\")\n",
    "    y_pred_list = []\n",
    "    test_loader5 = DataLoader(dataset=test_data5, batch_size=test_size1)\n",
    "    with torch.no_grad():\n",
    "        counter = 0\n",
    "        for X_batch in test_loader5:\n",
    "            X_batch = X_batch.to(device)\n",
    "            y_test_pred = model5(X_batch)\n",
    "            y_test_pred = torch.sigmoid(y_test_pred)\n",
    "            y_pred_tag = torch.round(y_test_pred)\n",
    "            y_pred_list.append(y_pred_tag.cpu().numpy())\n",
    "            loss = criterion(y_test_pred,torch.FloatTensor(testing_fold_Y_5))\n",
    "            val_loss5.append(loss)\n",
    "            counter+=1\n",
    "            \n",
    "    y_pred_list = []\n",
    "    test_loader5 = DataLoader(dataset=test_data5, batch_size=1)\n",
    "    with torch.no_grad():\n",
    "        for X_batch in test_loader5:\n",
    "            X_batch = X_batch.to(device)\n",
    "            y_test_pred = model5(X_batch)\n",
    "            y_test_pred = torch.sigmoid(y_test_pred)\n",
    "            y_pred_tag = torch.round(y_test_pred)\n",
    "            y_pred_list.append(y_pred_tag.cpu().numpy())\n",
    "            \n",
    "    y_pred_list = [a.squeeze().tolist() for a in y_pred_list]\n",
    "    y_loss_df = pd.DataFrame(y_pred_list)\n",
    "    accuracy = accuracy_score(torch.FloatTensor(testing_fold_Y_5), y_pred_list)\n",
    "    ppv = precision_score(testing_fold_Y_5, y_pred_list, average=None)\n",
    "    recall = recall_score(testing_fold_Y_5, y_pred_list, average=None)\n",
    "    print(\"Validation Accuracy | \",accuracy*100,\" PPV | \",ppv,\" Recall | \",recall)\n",
    "    val_acc5.append(accuracy*100)\n",
    "    model5.train()\n",
    "    #print(\"Return to training mode\")\n",
    "    \n",
    "    #Need to get validation loss."
   ]
  },
  {
   "cell_type": "code",
   "execution_count": 17,
   "id": "handed-congress",
   "metadata": {},
   "outputs": [
    {
     "name": "stdout",
     "output_type": "stream",
     "text": [
      "Training Epoch 001: | Loss: 3.68743 | Acc: 56.857\n",
      "Validation Accuracy |  29.411764705882355  PPV |  [0.75       0.15384615]  Recall |  [0.21428571 0.66666667]\n",
      "Training Epoch 002: | Loss: 2.11125 | Acc: 48.286\n",
      "Validation Accuracy |  23.52941176470588  PPV |  [1.     0.1875]  Recall |  [0.07142857 1.        ]\n",
      "Training Epoch 003: | Loss: 1.63460 | Acc: 47.714\n",
      "Validation Accuracy |  35.294117647058826  PPV |  [1.         0.21428571]  Recall |  [0.21428571 1.        ]\n",
      "Training Epoch 004: | Loss: 1.37379 | Acc: 53.714\n",
      "Validation Accuracy |  35.294117647058826  PPV |  [0.71428571 0.1       ]  Recall |  [0.35714286 0.33333333]\n",
      "Training Epoch 005: | Loss: 1.32175 | Acc: 58.571\n",
      "Validation Accuracy |  29.411764705882355  PPV |  [0.75       0.15384615]  Recall |  [0.21428571 0.66666667]\n",
      "Training Epoch 006: | Loss: 1.24791 | Acc: 54.571\n",
      "Validation Accuracy |  29.411764705882355  PPV |  [1.  0.2]  Recall |  [0.14285714 1.        ]\n",
      "Training Epoch 007: | Loss: 1.24687 | Acc: 49.143\n",
      "Validation Accuracy |  23.52941176470588  PPV |  [1.     0.1875]  Recall |  [0.07142857 1.        ]\n",
      "Training Epoch 008: | Loss: 1.23282 | Acc: 49.857\n",
      "Validation Accuracy |  29.411764705882355  PPV |  [1.  0.2]  Recall |  [0.14285714 1.        ]\n",
      "Training Epoch 009: | Loss: 1.19947 | Acc: 52.857\n",
      "Validation Accuracy |  35.294117647058826  PPV |  [1.         0.21428571]  Recall |  [0.21428571 1.        ]\n",
      "Training Epoch 010: | Loss: 1.25163 | Acc: 52.571\n",
      "Validation Accuracy |  41.17647058823529  PPV |  [1.         0.23076923]  Recall |  [0.28571429 1.        ]\n",
      "Training Epoch 011: | Loss: 1.14365 | Acc: 53.286\n",
      "Validation Accuracy |  41.17647058823529  PPV |  [1.         0.23076923]  Recall |  [0.28571429 1.        ]\n",
      "Training Epoch 012: | Loss: 1.12856 | Acc: 54.571\n",
      "Validation Accuracy |  35.294117647058826  PPV |  [0.8        0.16666667]  Recall |  [0.28571429 0.66666667]\n",
      "Training Epoch 013: | Loss: 1.08383 | Acc: 60.714\n",
      "Validation Accuracy |  29.411764705882355  PPV |  [0.66666667 0.09090909]  Recall |  [0.28571429 0.33333333]\n",
      "Training Epoch 014: | Loss: 1.09548 | Acc: 57.000\n",
      "Validation Accuracy |  35.294117647058826  PPV |  [0.8        0.16666667]  Recall |  [0.28571429 0.66666667]\n",
      "Training Epoch 015: | Loss: 1.05337 | Acc: 54.429\n",
      "Validation Accuracy |  29.411764705882355  PPV |  [0.66666667 0.09090909]  Recall |  [0.28571429 0.33333333]\n",
      "Training Epoch 016: | Loss: 1.03471 | Acc: 61.571\n",
      "Validation Accuracy |  41.17647058823529  PPV |  [0.75       0.11111111]  Recall |  [0.42857143 0.33333333]\n",
      "Training Epoch 017: | Loss: 1.00785 | Acc: 63.429\n",
      "Validation Accuracy |  35.294117647058826  PPV |  [0.71428571 0.1       ]  Recall |  [0.35714286 0.33333333]\n",
      "Training Epoch 018: | Loss: 0.95609 | Acc: 64.714\n",
      "Validation Accuracy |  35.294117647058826  PPV |  [0.71428571 0.1       ]  Recall |  [0.35714286 0.33333333]\n",
      "Training Epoch 019: | Loss: 0.94882 | Acc: 65.714\n",
      "Validation Accuracy |  41.17647058823529  PPV |  [0.75       0.11111111]  Recall |  [0.42857143 0.33333333]\n",
      "Training Epoch 020: | Loss: 0.96775 | Acc: 65.286\n",
      "Validation Accuracy |  35.294117647058826  PPV |  [0.71428571 0.1       ]  Recall |  [0.35714286 0.33333333]\n",
      "Training Epoch 021: | Loss: 0.94407 | Acc: 69.286\n",
      "Validation Accuracy |  58.82352941176471  PPV |  [0.81818182 0.16666667]  Recall |  [0.64285714 0.33333333]\n",
      "Training Epoch 022: | Loss: 0.87199 | Acc: 69.143\n",
      "Validation Accuracy |  35.294117647058826  PPV |  [0.71428571 0.1       ]  Recall |  [0.35714286 0.33333333]\n",
      "Training Epoch 023: | Loss: 0.83980 | Acc: 71.143\n",
      "Validation Accuracy |  58.82352941176471  PPV |  [0.81818182 0.16666667]  Recall |  [0.64285714 0.33333333]\n",
      "Training Epoch 024: | Loss: 0.85094 | Acc: 74.714\n",
      "Validation Accuracy |  58.82352941176471  PPV |  [0.81818182 0.16666667]  Recall |  [0.64285714 0.33333333]\n",
      "Training Epoch 025: | Loss: 0.79376 | Acc: 82.714\n",
      "Validation Accuracy |  58.82352941176471  PPV |  [0.81818182 0.16666667]  Recall |  [0.64285714 0.33333333]\n",
      "Training Epoch 026: | Loss: 0.83796 | Acc: 71.571\n",
      "Validation Accuracy |  41.17647058823529  PPV |  [0.75       0.11111111]  Recall |  [0.42857143 0.33333333]\n",
      "Training Epoch 027: | Loss: 0.77153 | Acc: 81.429\n",
      "Validation Accuracy |  70.58823529411765  PPV |  [0.84615385 0.25      ]  Recall |  [0.78571429 0.33333333]\n",
      "Training Epoch 028: | Loss: 0.72029 | Acc: 84.429\n",
      "Validation Accuracy |  52.94117647058824  PPV |  [0.8        0.14285714]  Recall |  [0.57142857 0.33333333]\n",
      "Training Epoch 029: | Loss: 0.72239 | Acc: 75.714\n",
      "Validation Accuracy |  58.82352941176471  PPV |  [0.81818182 0.16666667]  Recall |  [0.64285714 0.33333333]\n",
      "Training Epoch 030: | Loss: 0.67864 | Acc: 86.429\n",
      "Validation Accuracy |  70.58823529411765  PPV |  [0.84615385 0.25      ]  Recall |  [0.78571429 0.33333333]\n",
      "Training Epoch 031: | Loss: 0.66368 | Acc: 85.286\n",
      "Validation Accuracy |  58.82352941176471  PPV |  [0.81818182 0.16666667]  Recall |  [0.64285714 0.33333333]\n",
      "Training Epoch 032: | Loss: 0.63587 | Acc: 86.857\n",
      "Validation Accuracy |  70.58823529411765  PPV |  [0.84615385 0.25      ]  Recall |  [0.78571429 0.33333333]\n",
      "Training Epoch 033: | Loss: 0.62950 | Acc: 87.857\n",
      "Validation Accuracy |  70.58823529411765  PPV |  [0.84615385 0.25      ]  Recall |  [0.78571429 0.33333333]\n",
      "Training Epoch 034: | Loss: 0.61443 | Acc: 84.714\n",
      "Validation Accuracy |  64.70588235294117  PPV |  [0.83333333 0.2       ]  Recall |  [0.71428571 0.33333333]\n",
      "Training Epoch 035: | Loss: 0.55457 | Acc: 88.286\n",
      "Validation Accuracy |  70.58823529411765  PPV |  [0.84615385 0.25      ]  Recall |  [0.78571429 0.33333333]\n"
     ]
    }
   ],
   "source": [
    "#model.train() tells PyTorch that you’re in training mode.\n",
    "#Similarly, we’ll call model.eval() when we test our model. We’ll see that below.\n",
    "'''If you’re using layers such as Dropout or BatchNorm which behave differently during training and evaluation, \n",
    "you need to tell PyTorch to act accordingly. While the default mode in PyTorch is the train, \n",
    "so, you don’t explicitly have to write that. But it’s good practice.'''\n",
    "val_acc6 = []\n",
    "train_acc6 = []\n",
    "train_loss6 = []\n",
    "val_loss6 = []\n",
    "\n",
    "model6.train() #Initial training mode\n",
    "for e in range(1, EPOCHS+1):\n",
    "    epoch_loss = 0\n",
    "    epoch_acc = 0\n",
    "    for X_batch, y_batch in train_loader6:\n",
    "        X_batch, y_batch = X_batch.to(device), y_batch.to(device)\n",
    "        optimizer6.zero_grad()\n",
    "        \n",
    "        y_pred = model6(X_batch)\n",
    "        \n",
    "        loss = criterion(y_pred, y_batch)\n",
    "        acc = binary_acc(y_pred, y_batch)\n",
    "        \n",
    "        loss.backward()\n",
    "        optimizer6.step()\n",
    "        \n",
    "        epoch_loss += loss.item()\n",
    "        epoch_acc += acc.item()\n",
    "    \n",
    "    train_acc6.append(epoch_acc/len(train_loader6))\n",
    "    train_loss6.append(epoch_loss/len(train_loader6))\n",
    "    print(f'Training Epoch {e+0:03}: | Loss: {epoch_loss/len(train_loader6):.5f} | Acc: {epoch_acc/len(train_loader6):.3f}')\n",
    "    #Validation metrics here\n",
    "    model6.eval()\n",
    "    #print(\"Evaluation mode\")\n",
    "    y_pred_list = []\n",
    "    test_loader6 = DataLoader(dataset=test_data6, batch_size=test_size1)\n",
    "    with torch.no_grad():\n",
    "        counter = 0\n",
    "        for X_batch in test_loader6:\n",
    "            X_batch = X_batch.to(device)\n",
    "            y_test_pred = model6(X_batch)\n",
    "            y_test_pred = torch.sigmoid(y_test_pred)\n",
    "            y_pred_tag = torch.round(y_test_pred)\n",
    "            y_pred_list.append(y_pred_tag.cpu().numpy())\n",
    "            loss = criterion(y_test_pred,torch.FloatTensor(testing_fold_Y_6))\n",
    "            val_loss6.append(loss)\n",
    "            counter+=1\n",
    "            \n",
    "    y_pred_list = []\n",
    "    test_loader6 = DataLoader(dataset=test_data6, batch_size=1)\n",
    "    with torch.no_grad():\n",
    "        for X_batch in test_loader6:\n",
    "            X_batch = X_batch.to(device)\n",
    "            y_test_pred = model6(X_batch)\n",
    "            y_test_pred = torch.sigmoid(y_test_pred)\n",
    "            y_pred_tag = torch.round(y_test_pred)\n",
    "            y_pred_list.append(y_pred_tag.cpu().numpy())\n",
    "            \n",
    "    y_pred_list = [a.squeeze().tolist() for a in y_pred_list]\n",
    "    y_loss_df = pd.DataFrame(y_pred_list)\n",
    "    accuracy = accuracy_score(torch.FloatTensor(testing_fold_Y_6), y_pred_list)\n",
    "    ppv = precision_score(testing_fold_Y_6, y_pred_list, average=None)\n",
    "    recall = recall_score(testing_fold_Y_6, y_pred_list, average=None)\n",
    "    print(\"Validation Accuracy | \",accuracy*100,\" PPV | \",ppv,\" Recall | \",recall)\n",
    "    val_acc6.append(accuracy*100)\n",
    "    model6.train()\n",
    "    #print(\"Return to training mode\")\n",
    "    \n",
    "    #Need to get validation loss."
   ]
  },
  {
   "cell_type": "code",
   "execution_count": 18,
   "id": "quick-savage",
   "metadata": {},
   "outputs": [
    {
     "name": "stdout",
     "output_type": "stream",
     "text": [
      "Training Epoch 001: | Loss: 4.39430 | Acc: 51.143\n",
      "Validation Accuracy |  23.52941176470588  PPV |  [1.     0.1875]  Recall |  [0.07142857 1.        ]\n",
      "Training Epoch 002: | Loss: 2.23709 | Acc: 47.143\n",
      "Validation Accuracy |  23.52941176470588  PPV |  [1.     0.1875]  Recall |  [0.07142857 1.        ]\n",
      "Training Epoch 003: | Loss: 1.85289 | Acc: 47.143\n",
      "Validation Accuracy |  23.52941176470588  PPV |  [1.     0.1875]  Recall |  [0.07142857 1.        ]\n",
      "Training Epoch 004: | Loss: 1.63595 | Acc: 49.429\n",
      "Validation Accuracy |  23.52941176470588  PPV |  [1.     0.1875]  Recall |  [0.07142857 1.        ]\n",
      "Training Epoch 005: | Loss: 1.47252 | Acc: 49.143\n",
      "Validation Accuracy |  23.52941176470588  PPV |  [1.     0.1875]  Recall |  [0.07142857 1.        ]\n",
      "Training Epoch 006: | Loss: 1.40483 | Acc: 48.286\n",
      "Validation Accuracy |  23.52941176470588  PPV |  [1.     0.1875]  Recall |  [0.07142857 1.        ]\n",
      "Training Epoch 007: | Loss: 1.35520 | Acc: 48.286\n",
      "Validation Accuracy |  23.52941176470588  PPV |  [1.     0.1875]  Recall |  [0.07142857 1.        ]\n",
      "Training Epoch 008: | Loss: 1.31806 | Acc: 48.857\n",
      "Validation Accuracy |  23.52941176470588  PPV |  [1.     0.1875]  Recall |  [0.07142857 1.        ]\n",
      "Training Epoch 009: | Loss: 1.26695 | Acc: 49.143\n",
      "Validation Accuracy |  23.52941176470588  PPV |  [1.     0.1875]  Recall |  [0.07142857 1.        ]\n",
      "Training Epoch 010: | Loss: 1.31689 | Acc: 48.286\n",
      "Validation Accuracy |  23.52941176470588  PPV |  [1.     0.1875]  Recall |  [0.07142857 1.        ]\n",
      "Training Epoch 011: | Loss: 1.27602 | Acc: 49.286\n",
      "Validation Accuracy |  23.52941176470588  PPV |  [1.     0.1875]  Recall |  [0.07142857 1.        ]\n",
      "Training Epoch 012: | Loss: 1.23206 | Acc: 52.000\n",
      "Validation Accuracy |  23.52941176470588  PPV |  [1.     0.1875]  Recall |  [0.07142857 1.        ]\n",
      "Training Epoch 013: | Loss: 1.24654 | Acc: 49.429\n",
      "Validation Accuracy |  29.411764705882355  PPV |  [1.  0.2]  Recall |  [0.14285714 1.        ]\n",
      "Training Epoch 014: | Loss: 1.20011 | Acc: 52.714\n",
      "Validation Accuracy |  29.411764705882355  PPV |  [1.  0.2]  Recall |  [0.14285714 1.        ]\n",
      "Training Epoch 015: | Loss: 1.18829 | Acc: 53.714\n",
      "Validation Accuracy |  35.294117647058826  PPV |  [1.         0.21428571]  Recall |  [0.21428571 1.        ]\n",
      "Training Epoch 016: | Loss: 1.15951 | Acc: 53.714\n",
      "Validation Accuracy |  35.294117647058826  PPV |  [1.         0.21428571]  Recall |  [0.21428571 1.        ]\n",
      "Training Epoch 017: | Loss: 1.14116 | Acc: 57.143\n",
      "Validation Accuracy |  35.294117647058826  PPV |  [1.         0.21428571]  Recall |  [0.21428571 1.        ]\n",
      "Training Epoch 018: | Loss: 1.15711 | Acc: 55.714\n",
      "Validation Accuracy |  35.294117647058826  PPV |  [1.         0.21428571]  Recall |  [0.21428571 1.        ]\n",
      "Training Epoch 019: | Loss: 1.11235 | Acc: 55.571\n",
      "Validation Accuracy |  35.294117647058826  PPV |  [1.         0.21428571]  Recall |  [0.21428571 1.        ]\n",
      "Training Epoch 020: | Loss: 1.10874 | Acc: 59.714\n",
      "Validation Accuracy |  47.05882352941176  PPV |  [1.   0.25]  Recall |  [0.35714286 1.        ]\n",
      "Training Epoch 021: | Loss: 1.06629 | Acc: 58.143\n",
      "Validation Accuracy |  35.294117647058826  PPV |  [1.         0.21428571]  Recall |  [0.21428571 1.        ]\n",
      "Training Epoch 022: | Loss: 1.08972 | Acc: 62.857\n",
      "Validation Accuracy |  52.94117647058824  PPV |  [1.         0.27272727]  Recall |  [0.42857143 1.        ]\n",
      "Training Epoch 023: | Loss: 1.03521 | Acc: 65.571\n",
      "Validation Accuracy |  35.294117647058826  PPV |  [1.         0.21428571]  Recall |  [0.21428571 1.        ]\n",
      "Training Epoch 024: | Loss: 0.99419 | Acc: 61.429\n",
      "Validation Accuracy |  47.05882352941176  PPV |  [1.   0.25]  Recall |  [0.35714286 1.        ]\n",
      "Training Epoch 025: | Loss: 1.00036 | Acc: 67.286\n",
      "Validation Accuracy |  52.94117647058824  PPV |  [1.         0.27272727]  Recall |  [0.42857143 1.        ]\n",
      "Training Epoch 026: | Loss: 0.94143 | Acc: 72.143\n",
      "Validation Accuracy |  52.94117647058824  PPV |  [1.         0.27272727]  Recall |  [0.42857143 1.        ]\n",
      "Training Epoch 027: | Loss: 0.85660 | Acc: 72.714\n",
      "Validation Accuracy |  52.94117647058824  PPV |  [1.         0.27272727]  Recall |  [0.42857143 1.        ]\n",
      "Training Epoch 028: | Loss: 0.90081 | Acc: 73.857\n",
      "Validation Accuracy |  52.94117647058824  PPV |  [1.         0.27272727]  Recall |  [0.42857143 1.        ]\n",
      "Training Epoch 029: | Loss: 0.83402 | Acc: 74.429\n",
      "Validation Accuracy |  58.82352941176471  PPV |  [1.  0.3]  Recall |  [0.5 1. ]\n",
      "Training Epoch 030: | Loss: 0.84812 | Acc: 77.571\n",
      "Validation Accuracy |  58.82352941176471  PPV |  [1.  0.3]  Recall |  [0.5 1. ]\n",
      "Training Epoch 031: | Loss: 0.81798 | Acc: 75.857\n",
      "Validation Accuracy |  64.70588235294117  PPV |  [1.         0.33333333]  Recall |  [0.57142857 1.        ]\n",
      "Training Epoch 032: | Loss: 0.75564 | Acc: 83.143\n",
      "Validation Accuracy |  70.58823529411765  PPV |  [1.    0.375]  Recall |  [0.64285714 1.        ]\n",
      "Training Epoch 033: | Loss: 0.81634 | Acc: 73.286\n",
      "Validation Accuracy |  58.82352941176471  PPV |  [1.  0.3]  Recall |  [0.5 1. ]\n",
      "Training Epoch 034: | Loss: 0.68058 | Acc: 83.571\n",
      "Validation Accuracy |  76.47058823529412  PPV |  [1.         0.42857143]  Recall |  [0.71428571 1.        ]\n",
      "Training Epoch 035: | Loss: 0.70166 | Acc: 83.571\n",
      "Validation Accuracy |  64.70588235294117  PPV |  [1.         0.33333333]  Recall |  [0.57142857 1.        ]\n"
     ]
    }
   ],
   "source": [
    "#model.train() tells PyTorch that you’re in training mode.\n",
    "#Similarly, we’ll call model.eval() when we test our model. We’ll see that below.\n",
    "'''If you’re using layers such as Dropout or BatchNorm which behave differently during training and evaluation, \n",
    "you need to tell PyTorch to act accordingly. While the default mode in PyTorch is the train, \n",
    "so, you don’t explicitly have to write that. But it’s good practice.'''\n",
    "val_acc7 = []\n",
    "train_acc7 = []\n",
    "train_loss7 = []\n",
    "val_loss7 = []\n",
    "\n",
    "model7.train() #Initial training mode\n",
    "for e in range(1, EPOCHS+1):\n",
    "    epoch_loss = 0\n",
    "    epoch_acc = 0\n",
    "    for X_batch, y_batch in train_loader7:\n",
    "        X_batch, y_batch = X_batch.to(device), y_batch.to(device)\n",
    "        optimizer7.zero_grad()\n",
    "        \n",
    "        y_pred = model7(X_batch)\n",
    "        \n",
    "        loss = criterion(y_pred, y_batch)\n",
    "        acc = binary_acc(y_pred, y_batch)\n",
    "        \n",
    "        loss.backward()\n",
    "        optimizer7.step()\n",
    "        \n",
    "        epoch_loss += loss.item()\n",
    "        epoch_acc += acc.item()\n",
    "    \n",
    "    train_acc7.append(epoch_acc/len(train_loader7))\n",
    "    train_loss7.append(epoch_loss/len(train_loader7))\n",
    "    print(f'Training Epoch {e+0:03}: | Loss: {epoch_loss/len(train_loader7):.5f} | Acc: {epoch_acc/len(train_loader7):.3f}')\n",
    "    #Validation metrics here\n",
    "    model7.eval()\n",
    "    #print(\"Evaluation mode\")\n",
    "    y_pred_list = []\n",
    "    test_loader7 = DataLoader(dataset=test_data7, batch_size=test_size1)\n",
    "    with torch.no_grad():\n",
    "        counter = 0\n",
    "        for X_batch in test_loader7:\n",
    "            X_batch = X_batch.to(device)\n",
    "            y_test_pred = model7(X_batch)\n",
    "            y_test_pred = torch.sigmoid(y_test_pred)\n",
    "            y_pred_tag = torch.round(y_test_pred)\n",
    "            y_pred_list.append(y_pred_tag.cpu().numpy())\n",
    "            loss = criterion(y_test_pred,torch.FloatTensor(testing_fold_Y_7))\n",
    "            val_loss7.append(loss)\n",
    "            counter+=1\n",
    "            \n",
    "    y_pred_list = []\n",
    "    test_loader7 = DataLoader(dataset=test_data7, batch_size=1)\n",
    "    with torch.no_grad():\n",
    "        for X_batch in test_loader7:\n",
    "            X_batch = X_batch.to(device)\n",
    "            y_test_pred = model7(X_batch)\n",
    "            y_test_pred = torch.sigmoid(y_test_pred)\n",
    "            y_pred_tag = torch.round(y_test_pred)\n",
    "            y_pred_list.append(y_pred_tag.cpu().numpy())\n",
    "            \n",
    "    y_pred_list = [a.squeeze().tolist() for a in y_pred_list]\n",
    "    y_loss_df = pd.DataFrame(y_pred_list)\n",
    "    accuracy = accuracy_score(torch.FloatTensor(testing_fold_Y_7), y_pred_list)\n",
    "    ppv = precision_score(testing_fold_Y_7, y_pred_list, average=None)\n",
    "    recall = recall_score(testing_fold_Y_7, y_pred_list, average=None)\n",
    "    print(\"Validation Accuracy | \",accuracy*100,\" PPV | \",ppv,\" Recall | \",recall)\n",
    "    val_acc7.append(accuracy*100)\n",
    "    model7.train()\n",
    "    #print(\"Return to training mode\")\n",
    "    \n",
    "    #Need to get validation loss."
   ]
  },
  {
   "cell_type": "code",
   "execution_count": 19,
   "id": "empirical-college",
   "metadata": {},
   "outputs": [
    {
     "data": {
      "image/png": "[encoded data removed]",
      "text/plain": [
       "<Figure size 432x288 with 1 Axes>"
      ]
     },
     "metadata": {
      "needs_background": "light"
     },
     "output_type": "display_data"
    },
    {
     "data": {
      "image/png": "[encoded data removed]",
      "text/plain": [
       "<Figure size 432x288 with 1 Axes>"
      ]
     },
     "metadata": {
      "needs_background": "light"
     },
     "output_type": "display_data"
    },
    {
     "data": {
      "image/png": "[encoded data removed]",
      "text/plain": [
       "<Figure size 432x288 with 1 Axes>"
      ]
     },
     "metadata": {
      "needs_background": "light"
     },
     "output_type": "display_data"
    },
    {
     "data": {
      "image/png": "[encoded data removed]",
      "text/plain": [
       "<Figure size 432x288 with 1 Axes>"
      ]
     },
     "metadata": {
      "needs_background": "light"
     },
     "output_type": "display_data"
    },
    {
     "data": {
      "image/png": "[encoded data removed]",
      "text/plain": [
       "<Figure size 432x288 with 1 Axes>"
      ]
     },
     "metadata": {
      "needs_background": "light"
     },
     "output_type": "display_data"
    },
    {
     "data": {
      "image/png": "[encoded data removed]",
      "text/plain": [
       "<Figure size 432x288 with 1 Axes>"
      ]
     },
     "metadata": {
      "needs_background": "light"
     },
     "output_type": "display_data"
    },
    {
     "data": {
      "image/png": "[encoded data removed]",
      "text/plain": [
       "<Figure size 432x288 with 1 Axes>"
      ]
     },
     "metadata": {
      "needs_background": "light"
     },
     "output_type": "display_data"
    },
    {
     "data": {
      "image/png": "[encoded data removed]",
      "text/plain": [
       "<Figure size 432x288 with 1 Axes>"
      ]
     },
     "metadata": {
      "needs_background": "light"
     },
     "output_type": "display_data"
    },
    {
     "data": {
      "image/png": "[encoded data removed]",
      "text/plain": [
       "<Figure size 432x288 with 1 Axes>"
      ]
     },
     "metadata": {
      "needs_background": "light"
     },
     "output_type": "display_data"
    },
    {
     "data": {
      "image/png": "[encoded data removed]",
      "text/plain": [
       "<Figure size 432x288 with 1 Axes>"
      ]
     },
     "metadata": {
      "needs_background": "light"
     },
     "output_type": "display_data"
    },
    {
     "data": {
      "image/png": "[encoded data removed]",
      "text/plain": [
       "<Figure size 432x288 with 1 Axes>"
      ]
     },
     "metadata": {
      "needs_background": "light"
     },
     "output_type": "display_data"
    },
    {
     "data": {
      "image/png": "[encoded data removed]",
      "text/plain": [
       "<Figure size 432x288 with 1 Axes>"
      ]
     },
     "metadata": {
      "needs_background": "light"
     },
     "output_type": "display_data"
    },
    {
     "data": {
      "image/png": "[encoded data removed]",
      "text/plain": [
       "<Figure size 432x288 with 1 Axes>"
      ]
     },
     "metadata": {
      "needs_background": "light"
     },
     "output_type": "display_data"
    },
    {
     "data": {
      "image/png": "[encoded data removed]",
      "text/plain": [
       "<Figure size 432x288 with 1 Axes>"
      ]
     },
     "metadata": {
      "needs_background": "light"
     },
     "output_type": "display_data"
    },
    {
     "data": {
      "image/png": "[encoded data removed]",
      "text/plain": [
       "<Figure size 432x288 with 1 Axes>"
      ]
     },
     "metadata": {
      "needs_background": "light"
     },
     "output_type": "display_data"
    },
    {
     "data": {
      "image/png": "[encoded data removed]",
      "text/plain": [
       "<Figure size 432x288 with 1 Axes>"
      ]
     },
     "metadata": {
      "needs_background": "light"
     },
     "output_type": "display_data"
    }
   ],
   "source": [
    "#Plotting loss\n",
    "plt.plot(train_loss)\n",
    "plt.plot(val_loss)\n",
    "plt.title('model loss')\n",
    "plt.ylabel('loss')\n",
    "plt.xlabel('epoch')\n",
    "plt.legend(['train', 'validation'], loc='upper left')\n",
    "plt.axis([0, EPOCHS-1, 0.0, 1.5])\n",
    "plt.show()\n",
    "\n",
    "#Plotting Accuracy\n",
    "plt.plot(train_acc)\n",
    "plt.plot(val_acc)\n",
    "plt.title('model accuracy')\n",
    "plt.ylabel('acc')\n",
    "plt.xlabel('epoch')\n",
    "plt.legend(['train_acc', 'val_acc'], loc='upper left')\n",
    "plt.axis([0, EPOCHS-1, 0.0, 105])\n",
    "plt.show()\n",
    "\n",
    "#Plotting loss\n",
    "plt.plot(train_loss1)\n",
    "plt.plot(val_loss1)\n",
    "plt.title('model1 loss')\n",
    "plt.ylabel('loss')\n",
    "plt.xlabel('epoch')\n",
    "plt.legend(['train', 'validation'], loc='upper left')\n",
    "plt.axis([0, EPOCHS-1, 0.0, 1.5])\n",
    "plt.show()\n",
    "\n",
    "#Plotting Accuracy\n",
    "plt.plot(train_acc1)\n",
    "plt.plot(val_acc1)\n",
    "plt.title('model1 accuracy')\n",
    "plt.ylabel('acc')\n",
    "plt.xlabel('epoch')\n",
    "plt.legend(['train_acc', 'val_acc'], loc='upper left')\n",
    "plt.axis([0, EPOCHS-1, 0.0, 105])\n",
    "plt.show()\n",
    "\n",
    "#Plotting loss\n",
    "plt.plot(train_loss2)\n",
    "plt.plot(val_loss2)\n",
    "plt.title('model2 loss')\n",
    "plt.ylabel('loss')\n",
    "plt.xlabel('epoch')\n",
    "plt.legend(['train', 'validation'], loc='upper left')\n",
    "plt.axis([0, EPOCHS-1, 0.0, 1.5])\n",
    "plt.show()\n",
    "\n",
    "#Plotting Accuracy\n",
    "plt.plot(train_acc2)\n",
    "plt.plot(val_acc2)\n",
    "plt.title('model2 accuracy')\n",
    "plt.ylabel('acc')\n",
    "plt.xlabel('epoch')\n",
    "plt.legend(['train_acc', 'val_acc'], loc='upper left')\n",
    "plt.axis([0, EPOCHS-1, 0.0, 105])\n",
    "plt.show()\n",
    "\n",
    "#Plotting loss\n",
    "plt.plot(train_loss3)\n",
    "plt.plot(val_loss3)\n",
    "plt.title('model3 loss')\n",
    "plt.ylabel('loss')\n",
    "plt.xlabel('epoch')\n",
    "plt.legend(['train', 'validation'], loc='upper left')\n",
    "plt.axis([0, EPOCHS-1, 0.0, 1.5])\n",
    "plt.show()\n",
    "\n",
    "#Plotting Accuracy\n",
    "plt.plot(train_acc3)\n",
    "plt.plot(val_acc3)\n",
    "plt.title('model3 accuracy')\n",
    "plt.ylabel('acc')\n",
    "plt.xlabel('epoch')\n",
    "plt.legend(['train_acc', 'val_acc'], loc='upper left')\n",
    "plt.axis([0, EPOCHS-1, 0.0, 105])\n",
    "plt.show()\n",
    "\n",
    "#Plotting loss\n",
    "plt.plot(train_loss4)\n",
    "plt.plot(val_loss4)\n",
    "plt.title('model4 loss')\n",
    "plt.ylabel('loss')\n",
    "plt.xlabel('epoch')\n",
    "plt.legend(['train', 'validation'], loc='upper left')\n",
    "plt.axis([0, EPOCHS-1, 0.0, 1.5])\n",
    "plt.show()\n",
    "\n",
    "#Plotting Accuracy\n",
    "plt.plot(train_acc4)\n",
    "plt.plot(val_acc4)\n",
    "plt.title('model4 accuracy')\n",
    "plt.ylabel('acc')\n",
    "plt.xlabel('epoch')\n",
    "plt.legend(['train_acc', 'val_acc'], loc='upper left')\n",
    "plt.axis([0, EPOCHS-1, 0.0, 105])\n",
    "plt.show()\n",
    "\n",
    "#Plotting loss\n",
    "plt.plot(train_loss5)\n",
    "plt.plot(val_loss5)\n",
    "plt.title('model5 loss')\n",
    "plt.ylabel('loss')\n",
    "plt.xlabel('epoch')\n",
    "plt.legend(['train', 'validation'], loc='upper left')\n",
    "plt.axis([0, EPOCHS-1, 0.0, 1.5])\n",
    "plt.show()\n",
    "\n",
    "#Plotting Accuracy\n",
    "plt.plot(train_acc5)\n",
    "plt.plot(val_acc5)\n",
    "plt.title('model5 accuracy')\n",
    "plt.ylabel('acc')\n",
    "plt.xlabel('epoch')\n",
    "plt.legend(['train_acc', 'val_acc'], loc='upper left')\n",
    "plt.axis([0, EPOCHS-1, 0.0, 105])\n",
    "plt.show()\n",
    "\n",
    "#Plotting loss\n",
    "plt.plot(train_loss6)\n",
    "plt.plot(val_loss6)\n",
    "plt.title('model6 loss')\n",
    "plt.ylabel('loss')\n",
    "plt.xlabel('epoch')\n",
    "plt.legend(['train', 'validation'], loc='upper left')\n",
    "plt.axis([0, EPOCHS-1, 0.0, 1.5])\n",
    "plt.show()\n",
    "\n",
    "#Plotting Accuracy\n",
    "plt.plot(train_acc6)\n",
    "plt.plot(val_acc6)\n",
    "plt.title('model6 accuracy')\n",
    "plt.ylabel('acc')\n",
    "plt.xlabel('epoch')\n",
    "plt.legend(['train_acc', 'val_acc'], loc='upper left')\n",
    "plt.axis([0, EPOCHS-1, 0.0, 105])\n",
    "plt.show()\n",
    "\n",
    "#Plotting loss\n",
    "plt.plot(train_loss7)\n",
    "plt.plot(val_loss7)\n",
    "plt.title('model7 loss')\n",
    "plt.ylabel('loss')\n",
    "plt.xlabel('epoch')\n",
    "plt.legend(['train', 'validation'], loc='upper left')\n",
    "plt.axis([0, EPOCHS-1, 0.0, 1.5])\n",
    "plt.show()\n",
    "\n",
    "#Plotting Accuracy\n",
    "plt.plot(train_acc7)\n",
    "plt.plot(val_acc7)\n",
    "plt.title('model7 accuracy')\n",
    "plt.ylabel('acc')\n",
    "plt.xlabel('epoch')\n",
    "plt.legend(['train_acc', 'val_acc'], loc='upper left')\n",
    "plt.axis([0, EPOCHS-1, 0.0, 105])\n",
    "plt.show()"
   ]
  },
  {
   "cell_type": "code",
   "execution_count": 20,
   "id": "employed-radical",
   "metadata": {},
   "outputs": [
    {
     "name": "stdout",
     "output_type": "stream",
     "text": [
      "Validation Accuracy |  55.55555555555556  PPV |  [0.81818182 0.14285714]  Recall |  [0.6        0.33333333]\n"
     ]
    },
    {
     "data": {
      "image/png": "[encoded data removed]",
      "text/plain": [
       "<Figure size 432x288 with 2 Axes>"
      ]
     },
     "metadata": {
      "needs_background": "light"
     },
     "output_type": "display_data"
    }
   ],
   "source": [
    "final_prediction = []\n",
    "final_prediction_true = []\n",
    "\n",
    "y_pred_list = []\n",
    "test_loader = DataLoader(dataset=test_data, batch_size=1)\n",
    "model.eval() #Model evaluation\n",
    "with torch.no_grad():\n",
    "    for X_batch in test_loader:\n",
    "        X_batch = X_batch.to(device)\n",
    "        y_test_pred = model(X_batch)\n",
    "        y_test_pred = torch.sigmoid(y_test_pred)\n",
    "        y_pred_tag = torch.round(y_test_pred)\n",
    "        y_pred_list.append(y_pred_tag.cpu().numpy())\n",
    "        final_prediction.append(y_pred_tag.cpu().numpy())\n",
    "\n",
    "y_pred_list = [a.squeeze().tolist() for a in y_pred_list]\n",
    "accuracy = accuracy_score(testing_fold_Y_0, y_pred_list)\n",
    "ppv = precision_score(testing_fold_Y_0, y_pred_list, average=None)\n",
    "recall = recall_score(testing_fold_Y_0, y_pred_list, average=None)\n",
    "print(\"Validation Accuracy | \",accuracy*100,\" PPV | \",ppv,\" Recall | \",recall)\n",
    "cf_matrix = confusion_matrix(testing_fold_Y_0, y_pred_list)\n",
    "sn.heatmap(cf_matrix, annot=True)\n",
    "\n",
    "for y in testing_fold_Y_0:\n",
    "    final_prediction_true.append(y)"
   ]
  },
  {
   "cell_type": "code",
   "execution_count": 21,
   "id": "textile-combine",
   "metadata": {},
   "outputs": [
    {
     "name": "stdout",
     "output_type": "stream",
     "text": [
      "Validation Accuracy |  70.58823529411765  PPV |  [0.91666667 0.2       ]  Recall |  [0.73333333 0.5       ]\n"
     ]
    },
    {
     "data": {
      "image/png": "[encoded data removed]",
      "text/plain": [
       "<Figure size 432x288 with 2 Axes>"
      ]
     },
     "metadata": {
      "needs_background": "light"
     },
     "output_type": "display_data"
    }
   ],
   "source": [
    "y_pred_list = []\n",
    "test_loader = DataLoader(dataset=test_data1, batch_size=1)\n",
    "model1.eval() #Model evaluation\n",
    "with torch.no_grad():\n",
    "    for X_batch in test_loader:\n",
    "        X_batch = X_batch.to(device)\n",
    "        y_test_pred = model1(X_batch)\n",
    "        y_test_pred = torch.sigmoid(y_test_pred)\n",
    "        y_pred_tag = torch.round(y_test_pred)\n",
    "        y_pred_list.append(y_pred_tag.cpu().numpy())\n",
    "        final_prediction.append(y_pred_tag.cpu().numpy())\n",
    "\n",
    "y_pred_list = [a.squeeze().tolist() for a in y_pred_list]\n",
    "accuracy = accuracy_score(testing_fold_Y_1, y_pred_list)\n",
    "ppv = precision_score(testing_fold_Y_1, y_pred_list, average=None)\n",
    "recall = recall_score(testing_fold_Y_1, y_pred_list, average=None)\n",
    "print(\"Validation Accuracy | \",accuracy*100,\" PPV | \",ppv,\" Recall | \",recall)\n",
    "cf_matrix = confusion_matrix(testing_fold_Y_1, y_pred_list)\n",
    "sn.heatmap(cf_matrix, annot=True)\n",
    "\n",
    "for y in testing_fold_Y_1:\n",
    "    final_prediction_true.append(y)"
   ]
  },
  {
   "cell_type": "code",
   "execution_count": 22,
   "id": "perceived-diving",
   "metadata": {},
   "outputs": [
    {
     "name": "stdout",
     "output_type": "stream",
     "text": [
      "Validation Accuracy |  58.82352941176471  PPV |  [0.83333333 0.        ]  Recall |  [0.66666667 0.        ]\n"
     ]
    },
    {
     "data": {
      "image/png": "[encoded data removed]",
      "text/plain": [
       "<Figure size 432x288 with 2 Axes>"
      ]
     },
     "metadata": {
      "needs_background": "light"
     },
     "output_type": "display_data"
    }
   ],
   "source": [
    "y_pred_list = []\n",
    "test_loader = DataLoader(dataset=test_data2, batch_size=1)\n",
    "model2.eval() #Model evaluation\n",
    "with torch.no_grad():\n",
    "    for X_batch in test_loader:\n",
    "        X_batch = X_batch.to(device)\n",
    "        y_test_pred = model2(X_batch)\n",
    "        y_test_pred = torch.sigmoid(y_test_pred)\n",
    "        y_pred_tag = torch.round(y_test_pred)\n",
    "        y_pred_list.append(y_pred_tag.cpu().numpy())\n",
    "        final_prediction.append(y_pred_tag.cpu().numpy())\n",
    "\n",
    "y_pred_list = [a.squeeze().tolist() for a in y_pred_list]\n",
    "accuracy = accuracy_score(testing_fold_Y_2, y_pred_list)\n",
    "ppv = precision_score(testing_fold_Y_2, y_pred_list, average=None)\n",
    "recall = recall_score(testing_fold_Y_2, y_pred_list, average=None)\n",
    "print(\"Validation Accuracy | \",accuracy*100,\" PPV | \",ppv,\" Recall | \",recall)\n",
    "cf_matrix = confusion_matrix(testing_fold_Y_2, y_pred_list)\n",
    "sn.heatmap(cf_matrix, annot=True)\n",
    "\n",
    "for y in testing_fold_Y_2:\n",
    "    final_prediction_true.append(y)"
   ]
  },
  {
   "cell_type": "code",
   "execution_count": 23,
   "id": "velvet-authorization",
   "metadata": {},
   "outputs": [
    {
     "name": "stdout",
     "output_type": "stream",
     "text": [
      "Validation Accuracy |  64.70588235294117  PPV |  [0.83333333 0.2       ]  Recall |  [0.71428571 0.33333333]\n"
     ]
    },
    {
     "data": {
      "image/png": "[encoded data removed]",
      "text/plain": [
       "<Figure size 432x288 with 2 Axes>"
      ]
     },
     "metadata": {
      "needs_background": "light"
     },
     "output_type": "display_data"
    }
   ],
   "source": [
    "y_pred_list = []\n",
    "test_loader = DataLoader(dataset=test_data3, batch_size=1)\n",
    "model3.eval() #Model evaluation\n",
    "with torch.no_grad():\n",
    "    for X_batch in test_loader:\n",
    "        X_batch = X_batch.to(device)\n",
    "        y_test_pred = model3(X_batch)\n",
    "        y_test_pred = torch.sigmoid(y_test_pred)\n",
    "        y_pred_tag = torch.round(y_test_pred)\n",
    "        y_pred_list.append(y_pred_tag.cpu().numpy())\n",
    "        final_prediction.append(y_pred_tag.cpu().numpy())\n",
    "\n",
    "y_pred_list = [a.squeeze().tolist() for a in y_pred_list]\n",
    "accuracy = accuracy_score(testing_fold_Y_3, y_pred_list)\n",
    "ppv = precision_score(testing_fold_Y_3, y_pred_list, average=None)\n",
    "recall = recall_score(testing_fold_Y_3, y_pred_list, average=None)\n",
    "print(\"Validation Accuracy | \",accuracy*100,\" PPV | \",ppv,\" Recall | \",recall)\n",
    "cf_matrix = confusion_matrix(testing_fold_Y_3, y_pred_list)\n",
    "sn.heatmap(cf_matrix, annot=True)\n",
    "\n",
    "for y in testing_fold_Y_3:\n",
    "    final_prediction_true.append(y)"
   ]
  },
  {
   "cell_type": "code",
   "execution_count": 24,
   "id": "accurate-bacteria",
   "metadata": {},
   "outputs": [
    {
     "name": "stdout",
     "output_type": "stream",
     "text": [
      "Validation Accuracy |  64.70588235294117  PPV |  [0.9        0.28571429]  Recall |  [0.64285714 0.66666667]\n"
     ]
    },
    {
     "data": {
      "image/png": "[encoded data removed]",
      "text/plain": [
       "<Figure size 432x288 with 2 Axes>"
      ]
     },
     "metadata": {
      "needs_background": "light"
     },
     "output_type": "display_data"
    }
   ],
   "source": [
    "y_pred_list = []\n",
    "test_loader = DataLoader(dataset=test_data4, batch_size=1)\n",
    "model4.eval() #Model evaluation\n",
    "with torch.no_grad():\n",
    "    for X_batch in test_loader:\n",
    "        X_batch = X_batch.to(device)\n",
    "        y_test_pred = model4(X_batch)\n",
    "        y_test_pred = torch.sigmoid(y_test_pred)\n",
    "        y_pred_tag = torch.round(y_test_pred)\n",
    "        y_pred_list.append(y_pred_tag.cpu().numpy())\n",
    "        final_prediction.append(y_pred_tag.cpu().numpy())\n",
    "\n",
    "y_pred_list = [a.squeeze().tolist() for a in y_pred_list]\n",
    "accuracy = accuracy_score(testing_fold_Y_4, y_pred_list)\n",
    "ppv = precision_score(testing_fold_Y_4, y_pred_list, average=None)\n",
    "recall = recall_score(testing_fold_Y_4, y_pred_list, average=None)\n",
    "print(\"Validation Accuracy | \",accuracy*100,\" PPV | \",ppv,\" Recall | \",recall)\n",
    "cf_matrix = confusion_matrix(testing_fold_Y_4, y_pred_list)\n",
    "sn.heatmap(cf_matrix, annot=True)\n",
    "\n",
    "for y in testing_fold_Y_4:\n",
    "    final_prediction_true.append(y)"
   ]
  },
  {
   "cell_type": "code",
   "execution_count": 25,
   "id": "breeding-forth",
   "metadata": {},
   "outputs": [
    {
     "name": "stdout",
     "output_type": "stream",
     "text": [
      "Validation Accuracy |  70.58823529411765  PPV |  [0.84615385 0.25      ]  Recall |  [0.78571429 0.33333333]\n"
     ]
    },
    {
     "data": {
      "image/png": "[encoded data removed]",
      "text/plain": [
       "<Figure size 432x288 with 2 Axes>"
      ]
     },
     "metadata": {
      "needs_background": "light"
     },
     "output_type": "display_data"
    }
   ],
   "source": [
    "y_pred_list = []\n",
    "test_loader = DataLoader(dataset=test_data5, batch_size=1)\n",
    "model5.eval() #Model evaluation\n",
    "with torch.no_grad():\n",
    "    for X_batch in test_loader:\n",
    "        X_batch = X_batch.to(device)\n",
    "        y_test_pred = model5(X_batch)\n",
    "        y_test_pred = torch.sigmoid(y_test_pred)\n",
    "        y_pred_tag = torch.round(y_test_pred)\n",
    "        y_pred_list.append(y_pred_tag.cpu().numpy())\n",
    "        final_prediction.append(y_pred_tag.cpu().numpy())\n",
    "\n",
    "y_pred_list = [a.squeeze().tolist() for a in y_pred_list]\n",
    "accuracy = accuracy_score(testing_fold_Y_5, y_pred_list)\n",
    "ppv = precision_score(testing_fold_Y_5, y_pred_list, average=None)\n",
    "recall = recall_score(testing_fold_Y_5, y_pred_list, average=None)\n",
    "print(\"Validation Accuracy | \",accuracy*100,\" PPV | \",ppv,\" Recall | \",recall)\n",
    "cf_matrix = confusion_matrix(testing_fold_Y_5, y_pred_list)\n",
    "sn.heatmap(cf_matrix, annot=True)\n",
    "\n",
    "for y in testing_fold_Y_5:\n",
    "    final_prediction_true.append(y)"
   ]
  },
  {
   "cell_type": "code",
   "execution_count": 26,
   "id": "moral-unknown",
   "metadata": {},
   "outputs": [
    {
     "name": "stdout",
     "output_type": "stream",
     "text": [
      "Validation Accuracy |  70.58823529411765  PPV |  [0.84615385 0.25      ]  Recall |  [0.78571429 0.33333333]\n"
     ]
    },
    {
     "data": {
      "image/png": "[encoded data removed]",
      "text/plain": [
       "<Figure size 432x288 with 2 Axes>"
      ]
     },
     "metadata": {
      "needs_background": "light"
     },
     "output_type": "display_data"
    }
   ],
   "source": [
    "y_pred_list = []\n",
    "test_loader = DataLoader(dataset=test_data6, batch_size=1)\n",
    "model6.eval() #Model evaluation\n",
    "with torch.no_grad():\n",
    "    for X_batch in test_loader:\n",
    "        X_batch = X_batch.to(device)\n",
    "        y_test_pred = model6(X_batch)\n",
    "        y_test_pred = torch.sigmoid(y_test_pred)\n",
    "        y_pred_tag = torch.round(y_test_pred)\n",
    "        y_pred_list.append(y_pred_tag.cpu().numpy())\n",
    "        final_prediction.append(y_pred_tag.cpu().numpy())\n",
    "\n",
    "y_pred_list = [a.squeeze().tolist() for a in y_pred_list]\n",
    "accuracy = accuracy_score(testing_fold_Y_6, y_pred_list)\n",
    "ppv = precision_score(testing_fold_Y_6, y_pred_list, average=None)\n",
    "recall = recall_score(testing_fold_Y_6, y_pred_list, average=None)\n",
    "print(\"Validation Accuracy | \",accuracy*100,\" PPV | \",ppv,\" Recall | \",recall)\n",
    "cf_matrix = confusion_matrix(testing_fold_Y_6, y_pred_list)\n",
    "sn.heatmap(cf_matrix, annot=True)\n",
    "\n",
    "for y in testing_fold_Y_6:\n",
    "    final_prediction_true.append(y)"
   ]
  },
  {
   "cell_type": "code",
   "execution_count": 27,
   "id": "domestic-satin",
   "metadata": {},
   "outputs": [
    {
     "name": "stdout",
     "output_type": "stream",
     "text": [
      "Validation Accuracy |  64.70588235294117  PPV |  [1.         0.33333333]  Recall |  [0.57142857 1.        ]\n"
     ]
    },
    {
     "data": {
      "image/png": "[encoded data removed]",
      "text/plain": [
       "<Figure size 432x288 with 2 Axes>"
      ]
     },
     "metadata": {
      "needs_background": "light"
     },
     "output_type": "display_data"
    }
   ],
   "source": [
    "y_pred_list = []\n",
    "test_loader = DataLoader(dataset=test_data7, batch_size=1)\n",
    "model7.eval() #Model evaluation\n",
    "with torch.no_grad():\n",
    "    for X_batch in test_loader:\n",
    "        X_batch = X_batch.to(device)\n",
    "        y_test_pred = model7(X_batch)\n",
    "        y_test_pred = torch.sigmoid(y_test_pred)\n",
    "        y_pred_tag = torch.round(y_test_pred)\n",
    "        y_pred_list.append(y_pred_tag.cpu().numpy())\n",
    "        final_prediction.append(y_pred_tag.cpu().numpy())\n",
    "\n",
    "y_pred_list = [a.squeeze().tolist() for a in y_pred_list]\n",
    "accuracy = accuracy_score(testing_fold_Y_7, y_pred_list)\n",
    "ppv = precision_score(testing_fold_Y_7, y_pred_list, average=None)\n",
    "recall = recall_score(testing_fold_Y_7, y_pred_list, average=None)\n",
    "print(\"Validation Accuracy | \",accuracy*100,\" PPV | \",ppv,\" Recall | \",recall)\n",
    "cf_matrix = confusion_matrix(testing_fold_Y_7, y_pred_list)\n",
    "sn.heatmap(cf_matrix, annot=True)\n",
    "\n",
    "for y in testing_fold_Y_7:\n",
    "    final_prediction_true.append(y)"
   ]
  },
  {
   "cell_type": "code",
   "execution_count": 28,
   "id": "historical-server",
   "metadata": {},
   "outputs": [
    {
     "data": {
      "text/plain": [
       "[1.0,\n",
       " 0.0,\n",
       " 1.0,\n",
       " 0.0,\n",
       " 1.0,\n",
       " 0.0,\n",
       " 0.0,\n",
       " 1.0,\n",
       " 0.0,\n",
       " 1.0,\n",
       " 0.0,\n",
       " 0.0,\n",
       " 1.0,\n",
       " 0.0,\n",
       " 1.0,\n",
       " 0.0,\n",
       " 0.0,\n",
       " 0.0,\n",
       " 1.0,\n",
       " 0.0,\n",
       " 1.0,\n",
       " 0.0,\n",
       " 0.0,\n",
       " 0.0,\n",
       " 0.0,\n",
       " 0.0,\n",
       " 0.0,\n",
       " 0.0,\n",
       " 0.0,\n",
       " 1.0,\n",
       " 0.0,\n",
       " 0.0,\n",
       " 1.0,\n",
       " 0.0,\n",
       " 1.0,\n",
       " 0.0,\n",
       " 0.0,\n",
       " 0.0,\n",
       " 0.0,\n",
       " 0.0,\n",
       " 0.0,\n",
       " 1.0,\n",
       " 0.0,\n",
       " 1.0,\n",
       " 1.0,\n",
       " 1.0,\n",
       " 0.0,\n",
       " 0.0,\n",
       " 0.0,\n",
       " 0.0,\n",
       " 0.0,\n",
       " 1.0,\n",
       " 0.0,\n",
       " 0.0,\n",
       " 1.0,\n",
       " 0.0,\n",
       " 0.0,\n",
       " 0.0,\n",
       " 0.0,\n",
       " 0.0,\n",
       " 1.0,\n",
       " 0.0,\n",
       " 0.0,\n",
       " 0.0,\n",
       " 1.0,\n",
       " 1.0,\n",
       " 0.0,\n",
       " 1.0,\n",
       " 0.0,\n",
       " 1.0,\n",
       " 1.0,\n",
       " 0.0,\n",
       " 0.0,\n",
       " 0.0,\n",
       " 0.0,\n",
       " 1.0,\n",
       " 1.0,\n",
       " 0.0,\n",
       " 1.0,\n",
       " 0.0,\n",
       " 0.0,\n",
       " 0.0,\n",
       " 1.0,\n",
       " 0.0,\n",
       " 0.0,\n",
       " 1.0,\n",
       " 0.0,\n",
       " 0.0,\n",
       " 1.0,\n",
       " 0.0,\n",
       " 1.0,\n",
       " 0.0,\n",
       " 0.0,\n",
       " 0.0,\n",
       " 1.0,\n",
       " 0.0,\n",
       " 0.0,\n",
       " 0.0,\n",
       " 0.0,\n",
       " 0.0,\n",
       " 0.0,\n",
       " 0.0,\n",
       " 1.0,\n",
       " 0.0,\n",
       " 0.0,\n",
       " 1.0,\n",
       " 0.0,\n",
       " 1.0,\n",
       " 0.0,\n",
       " 0.0,\n",
       " 0.0,\n",
       " 1.0,\n",
       " 0.0,\n",
       " 0.0,\n",
       " 0.0,\n",
       " 0.0,\n",
       " 0.0,\n",
       " 0.0,\n",
       " 0.0,\n",
       " 1.0,\n",
       " 1.0,\n",
       " 1.0,\n",
       " 1.0,\n",
       " 1.0,\n",
       " 1.0,\n",
       " 0.0,\n",
       " 1.0,\n",
       " 1.0,\n",
       " 0.0,\n",
       " 0.0,\n",
       " 0.0,\n",
       " 0.0,\n",
       " 1.0,\n",
       " 1.0,\n",
       " 0.0,\n",
       " 0.0,\n",
       " 0.0]"
      ]
     },
     "execution_count": 28,
     "metadata": {},
     "output_type": "execute_result"
    }
   ],
   "source": [
    "prediction_labels = []\n",
    "true_labels = []\n",
    "\n",
    "for x in range(0,len(final_prediction_true)):\n",
    "    true_labels.append(final_prediction_true[x][0])\n",
    "    prediction_labels.append(final_prediction[x][0][0])\n",
    "\n",
    "prediction_labels"
   ]
  },
  {
   "cell_type": "code",
   "execution_count": 29,
   "id": "seasonal-ottawa",
   "metadata": {},
   "outputs": [
    {
     "name": "stdout",
     "output_type": "stream",
     "text": [
      "[[79 36]\n",
      " [12 10]]\n",
      "Positive Predictive Value tp/(tp+fp):  0.21739130434782608\n",
      "Accuracy Value (tp+tn)/(tp+fp+fn+tn):  0.6496350364963503\n",
      "Recall Value tp/(tp+fn):  0.45454545454545453\n"
     ]
    },
    {
     "data": {
      "image/png": "[encoded data removed]",
      "text/plain": [
       "<Figure size 432x288 with 2 Axes>"
      ]
     },
     "metadata": {
      "needs_background": "light"
     },
     "output_type": "display_data"
    }
   ],
   "source": [
    "cf_matrix = confusion_matrix(true_labels, prediction_labels)\n",
    "print(cf_matrix)\n",
    "sn.heatmap(cf_matrix, annot=True)\n",
    "\n",
    "\n",
    "accuracy = accuracy_score(true_labels, prediction_labels)\n",
    "recall = recall_score(true_labels, prediction_labels, average=None)\n",
    "prec_score = precision_score(true_labels, prediction_labels, average=None)\n",
    "print('Positive Predictive Value tp/(tp+fp): ',prec_score[1]) \n",
    "print('Accuracy Value (tp+tn)/(tp+fp+fn+tn): ',accuracy) \n",
    "print('Recall Value tp/(tp+fn): ',recall[1]) "
   ]
  },
  {
   "cell_type": "code",
   "execution_count": 30,
   "id": "presidential-brighton",
   "metadata": {},
   "outputs": [],
   "source": [
    "#Line up Subjects by case number based on test_index in skf. This is done before smoting.\n",
    "#Allows us to later check t-score to see if the models improve when using imputed data\n",
    "#that we are able to classify the ones that have borderline t-scores (60 - 65 ish)\n",
    "#Can create a histogram of the distribution based on correctly predicted vs incorrectly predicted\n"
   ]
  },
  {
   "cell_type": "code",
   "execution_count": 31,
   "id": "colonial-impression",
   "metadata": {},
   "outputs": [
    {
     "name": "stdout",
     "output_type": "stream",
     "text": [
      "(142, 298)\n",
      "(142, 1)\n"
     ]
    }
   ],
   "source": [
    "Twin_Validation = pd.ExcelFile(\"Scaled Twin CTSA1y with labels sex GA.xlsx\") #298 Features, CT1y SA1y GA Sex\n",
    "Twin_Labels = pd.ExcelFile(\"Twin Labels.xlsx\") #Labels for twins\n",
    "\n",
    "twin_data = Twin_Validation.parse(Twin_Validation.sheet_names[0])\n",
    "twin_label_data = Twin_Labels.parse(Twin_Labels.sheet_names[0])\n",
    "twin_data_features = twin_data.loc[:, twin_data.columns]\n",
    "twin_data_features = twin_data_features.drop(['ROI','MATCH','INDEX','MATCH2','INDEX2', 'ATP', 'HYP', 'ATP Middle', 'HYP Middle', 'HYP Label'], axis=1)\n",
    "twin_data_features = twin_data_features.dropna()\n",
    "twin_data_features = twin_data_features.drop(['ATP Label'], axis=1)\n",
    "twin_labels = twin_label_data.loc[:, twin_label_data.columns]\n",
    "twin_labels = twin_labels.drop(['ROI','ATP Middle', 'HYP Middle', 'HYP Label'], axis=1)\n",
    "twin_labels = twin_labels.dropna()\n",
    "print(twin_data_features.shape)\n",
    "print(twin_labels.shape)"
   ]
  },
  {
   "cell_type": "code",
   "execution_count": 32,
   "id": "lasting-orleans",
   "metadata": {},
   "outputs": [],
   "source": [
    "type(twin_data_features) #Currently dataframe, needs to be numpy array\n",
    "td_features = twin_data_features.to_numpy()\n",
    "td_data = testData(torch.FloatTensor(td_features))\n",
    "\n",
    "t_labels = twin_labels.to_numpy()"
   ]
  },
  {
   "cell_type": "code",
   "execution_count": 33,
   "id": "structural-feeding",
   "metadata": {},
   "outputs": [
    {
     "name": "stdout",
     "output_type": "stream",
     "text": [
      "Validation Accuracy |  55.633802816901415  PPV |  [0.94871795 0.078125  ]  Recall |  [0.55639098 0.55555556]\n",
      "[[74 59]\n",
      " [ 4  5]]\n"
     ]
    },
    {
     "data": {
      "image/png": "[encoded data removed]",
      "text/plain": [
       "<Figure size 432x288 with 2 Axes>"
      ]
     },
     "metadata": {
      "needs_background": "light"
     },
     "output_type": "display_data"
    }
   ],
   "source": [
    "y_pred_list = []\n",
    "test_loader = DataLoader(dataset=td_data, batch_size=1)\n",
    "model.eval() #Model evaluation\n",
    "with torch.no_grad():\n",
    "    for X_batch in test_loader:\n",
    "        X_batch = X_batch.to(device)\n",
    "        y_test_pred = model(X_batch)\n",
    "        y_test_pred = torch.sigmoid(y_test_pred)\n",
    "        y_pred_tag = torch.round(y_test_pred)\n",
    "        y_pred_list.append(y_pred_tag.cpu().numpy())\n",
    "        final_prediction.append(y_pred_tag.cpu().numpy())\n",
    "\n",
    "y_pred_list = [a.squeeze().tolist() for a in y_pred_list]\n",
    "accuracy = accuracy_score(t_labels, y_pred_list)\n",
    "ppv = precision_score(t_labels, y_pred_list, average=None)\n",
    "recall = recall_score(t_labels, y_pred_list, average=None)\n",
    "print(\"Validation Accuracy | \",accuracy*100,\" PPV | \",ppv,\" Recall | \",recall)\n",
    "cf_matrix = confusion_matrix(t_labels, y_pred_list)\n",
    "sn.heatmap(cf_matrix, annot=True)\n",
    "print(cf_matrix)"
   ]
  },
  {
   "cell_type": "code",
   "execution_count": 34,
   "id": "signal-contract",
   "metadata": {},
   "outputs": [
    {
     "name": "stdout",
     "output_type": "stream",
     "text": [
      "Validation Accuracy |  60.56338028169014  PPV |  [0.94252874 0.07272727]  Recall |  [0.61654135 0.44444444]\n",
      "[[82 51]\n",
      " [ 5  4]]\n"
     ]
    },
    {
     "data": {
      "image/png": "[encoded data removed]",
      "text/plain": [
       "<Figure size 432x288 with 2 Axes>"
      ]
     },
     "metadata": {
      "needs_background": "light"
     },
     "output_type": "display_data"
    }
   ],
   "source": [
    "y_pred_list1 = []\n",
    "test_loader = DataLoader(dataset=td_data, batch_size=1)\n",
    "model1.eval() #Model evaluation\n",
    "with torch.no_grad():\n",
    "    for X_batch in test_loader:\n",
    "        X_batch = X_batch.to(device)\n",
    "        y_test_pred = model1(X_batch)\n",
    "        y_test_pred = torch.sigmoid(y_test_pred)\n",
    "        y_pred_tag = torch.round(y_test_pred)\n",
    "        y_pred_list1.append(y_pred_tag.cpu().numpy())\n",
    "        final_prediction.append(y_pred_tag.cpu().numpy())\n",
    "\n",
    "y_pred_list1 = [a.squeeze().tolist() for a in y_pred_list1]\n",
    "accuracy = accuracy_score(t_labels, y_pred_list1)\n",
    "ppv = precision_score(t_labels, y_pred_list1, average=None)\n",
    "recall = recall_score(t_labels, y_pred_list1, average=None)\n",
    "print(\"Validation Accuracy | \",accuracy*100,\" PPV | \",ppv,\" Recall | \",recall)\n",
    "cf_matrix = confusion_matrix(t_labels, y_pred_list1)\n",
    "sn.heatmap(cf_matrix, annot=True)\n",
    "print(cf_matrix)"
   ]
  },
  {
   "cell_type": "code",
   "execution_count": 35,
   "id": "entire-supplier",
   "metadata": {},
   "outputs": [
    {
     "name": "stdout",
     "output_type": "stream",
     "text": [
      "Validation Accuracy |  60.56338028169014  PPV |  [0.95294118 0.0877193 ]  Recall |  [0.60902256 0.55555556]\n",
      "[[81 52]\n",
      " [ 4  5]]\n"
     ]
    },
    {
     "data": {
      "image/png": "[encoded data removed]",
      "text/plain": [
       "<Figure size 432x288 with 2 Axes>"
      ]
     },
     "metadata": {
      "needs_background": "light"
     },
     "output_type": "display_data"
    }
   ],
   "source": [
    "y_pred_list2 = []\n",
    "test_loader = DataLoader(dataset=td_data, batch_size=1)\n",
    "model2.eval() #Model evaluation\n",
    "with torch.no_grad():\n",
    "    for X_batch in test_loader:\n",
    "        X_batch = X_batch.to(device)\n",
    "        y_test_pred = model2(X_batch)\n",
    "        y_test_pred = torch.sigmoid(y_test_pred)\n",
    "        y_pred_tag = torch.round(y_test_pred)\n",
    "        y_pred_list2.append(y_pred_tag.cpu().numpy())\n",
    "        final_prediction.append(y_pred_tag.cpu().numpy())\n",
    "\n",
    "y_pred_list2 = [a.squeeze().tolist() for a in y_pred_list2]\n",
    "accuracy = accuracy_score(t_labels, y_pred_list2)\n",
    "ppv = precision_score(t_labels, y_pred_list2, average=None)\n",
    "recall = recall_score(t_labels, y_pred_list2, average=None)\n",
    "print(\"Validation Accuracy | \",accuracy*100,\" PPV | \",ppv,\" Recall | \",recall)\n",
    "cf_matrix = confusion_matrix(t_labels, y_pred_list2)\n",
    "sn.heatmap(cf_matrix, annot=True)\n",
    "print(cf_matrix)"
   ]
  },
  {
   "cell_type": "code",
   "execution_count": 36,
   "id": "canadian-rescue",
   "metadata": {},
   "outputs": [
    {
     "name": "stdout",
     "output_type": "stream",
     "text": [
      "Validation Accuracy |  65.49295774647888  PPV |  [0.94680851 0.08333333]  Recall |  [0.66917293 0.44444444]\n",
      "[[89 44]\n",
      " [ 5  4]]\n"
     ]
    },
    {
     "data": {
      "image/png": "[encoded data removed]",
      "text/plain": [
       "<Figure size 432x288 with 2 Axes>"
      ]
     },
     "metadata": {
      "needs_background": "light"
     },
     "output_type": "display_data"
    }
   ],
   "source": [
    "y_pred_list3 = []\n",
    "test_loader = DataLoader(dataset=td_data, batch_size=1)\n",
    "model3.eval() #Model evaluation\n",
    "with torch.no_grad():\n",
    "    for X_batch in test_loader:\n",
    "        X_batch = X_batch.to(device)\n",
    "        y_test_pred = model3(X_batch)\n",
    "        y_test_pred = torch.sigmoid(y_test_pred)\n",
    "        y_pred_tag = torch.round(y_test_pred)\n",
    "        y_pred_list3.append(y_pred_tag.cpu().numpy())\n",
    "        final_prediction.append(y_pred_tag.cpu().numpy())\n",
    "\n",
    "y_pred_list3 = [a.squeeze().tolist() for a in y_pred_list3]\n",
    "accuracy = accuracy_score(t_labels, y_pred_list3)\n",
    "ppv = precision_score(t_labels, y_pred_list3, average=None)\n",
    "recall = recall_score(t_labels, y_pred_list3, average=None)\n",
    "print(\"Validation Accuracy | \",accuracy*100,\" PPV | \",ppv,\" Recall | \",recall)\n",
    "cf_matrix = confusion_matrix(t_labels, y_pred_list3)\n",
    "sn.heatmap(cf_matrix, annot=True)\n",
    "print(cf_matrix)"
   ]
  },
  {
   "cell_type": "code",
   "execution_count": 37,
   "id": "hydraulic-entity",
   "metadata": {},
   "outputs": [
    {
     "name": "stdout",
     "output_type": "stream",
     "text": [
      "Validation Accuracy |  59.154929577464785  PPV |  [0.95180723 0.08474576]  Recall |  [0.59398496 0.55555556]\n",
      "[[79 54]\n",
      " [ 4  5]]\n"
     ]
    },
    {
     "data": {
      "image/png": "[encoded data removed]",
      "text/plain": [
       "<Figure size 432x288 with 2 Axes>"
      ]
     },
     "metadata": {
      "needs_background": "light"
     },
     "output_type": "display_data"
    }
   ],
   "source": [
    "y_pred_list4 = []\n",
    "test_loader = DataLoader(dataset=td_data, batch_size=1)\n",
    "model4.eval() #Model evaluation\n",
    "with torch.no_grad():\n",
    "    for X_batch in test_loader:\n",
    "        X_batch = X_batch.to(device)\n",
    "        y_test_pred = model4(X_batch)\n",
    "        y_test_pred = torch.sigmoid(y_test_pred)\n",
    "        y_pred_tag = torch.round(y_test_pred)\n",
    "        y_pred_list4.append(y_pred_tag.cpu().numpy())\n",
    "        final_prediction.append(y_pred_tag.cpu().numpy())\n",
    "\n",
    "y_pred_list4 = [a.squeeze().tolist() for a in y_pred_list4]\n",
    "accuracy = accuracy_score(t_labels, y_pred_list4)\n",
    "ppv = precision_score(t_labels, y_pred_list4, average=None)\n",
    "recall = recall_score(t_labels, y_pred_list4, average=None)\n",
    "print(\"Validation Accuracy | \",accuracy*100,\" PPV | \",ppv,\" Recall | \",recall)\n",
    "cf_matrix = confusion_matrix(t_labels, y_pred_list4)\n",
    "sn.heatmap(cf_matrix, annot=True)\n",
    "print(cf_matrix)"
   ]
  },
  {
   "cell_type": "code",
   "execution_count": 38,
   "id": "metallic-sullivan",
   "metadata": {},
   "outputs": [
    {
     "name": "stdout",
     "output_type": "stream",
     "text": [
      "Validation Accuracy |  60.56338028169014  PPV |  [0.95294118 0.0877193 ]  Recall |  [0.60902256 0.55555556]\n",
      "[[81 52]\n",
      " [ 4  5]]\n"
     ]
    },
    {
     "data": {
      "image/png": "[encoded data removed]",
      "text/plain": [
       "<Figure size 432x288 with 2 Axes>"
      ]
     },
     "metadata": {
      "needs_background": "light"
     },
     "output_type": "display_data"
    }
   ],
   "source": [
    "y_pred_list5 = []\n",
    "test_loader = DataLoader(dataset=td_data, batch_size=1)\n",
    "model5.eval() #Model evaluation\n",
    "with torch.no_grad():\n",
    "    for X_batch in test_loader:\n",
    "        X_batch = X_batch.to(device)\n",
    "        y_test_pred = model5(X_batch)\n",
    "        y_test_pred = torch.sigmoid(y_test_pred)\n",
    "        y_pred_tag = torch.round(y_test_pred)\n",
    "        y_pred_list5.append(y_pred_tag.cpu().numpy())\n",
    "        final_prediction.append(y_pred_tag.cpu().numpy())\n",
    "\n",
    "y_pred_list5 = [a.squeeze().tolist() for a in y_pred_list5]\n",
    "accuracy = accuracy_score(t_labels, y_pred_list5)\n",
    "ppv = precision_score(t_labels, y_pred_list5, average=None)\n",
    "recall = recall_score(t_labels, y_pred_list5, average=None)\n",
    "print(\"Validation Accuracy | \",accuracy*100,\" PPV | \",ppv,\" Recall | \",recall)\n",
    "cf_matrix = confusion_matrix(t_labels, y_pred_list5)\n",
    "sn.heatmap(cf_matrix, annot=True)\n",
    "print(cf_matrix)"
   ]
  },
  {
   "cell_type": "code",
   "execution_count": 39,
   "id": "upset-artwork",
   "metadata": {},
   "outputs": [
    {
     "name": "stdout",
     "output_type": "stream",
     "text": [
      "Validation Accuracy |  57.74647887323944  PPV |  [0.93975904 0.06779661]  Recall |  [0.58646617 0.44444444]\n",
      "[[78 55]\n",
      " [ 5  4]]\n"
     ]
    },
    {
     "data": {
      "image/png": "[encoded data removed]",
      "text/plain": [
       "<Figure size 432x288 with 2 Axes>"
      ]
     },
     "metadata": {
      "needs_background": "light"
     },
     "output_type": "display_data"
    }
   ],
   "source": [
    "y_pred_list6 = []\n",
    "test_loader = DataLoader(dataset=td_data, batch_size=1)\n",
    "model6.eval() #Model evaluation\n",
    "with torch.no_grad():\n",
    "    for X_batch in test_loader:\n",
    "        X_batch = X_batch.to(device)\n",
    "        y_test_pred = model6(X_batch)\n",
    "        y_test_pred = torch.sigmoid(y_test_pred)\n",
    "        y_pred_tag = torch.round(y_test_pred)\n",
    "        y_pred_list6.append(y_pred_tag.cpu().numpy())\n",
    "        final_prediction.append(y_pred_tag.cpu().numpy())\n",
    "\n",
    "y_pred_list6 = [a.squeeze().tolist() for a in y_pred_list6]\n",
    "accuracy = accuracy_score(t_labels, y_pred_list6)\n",
    "ppv = precision_score(t_labels, y_pred_list6, average=None)\n",
    "recall = recall_score(t_labels, y_pred_list6, average=None)\n",
    "print(\"Validation Accuracy | \",accuracy*100,\" PPV | \",ppv,\" Recall | \",recall)\n",
    "cf_matrix = confusion_matrix(t_labels, y_pred_list6)\n",
    "sn.heatmap(cf_matrix, annot=True)\n",
    "print(cf_matrix)"
   ]
  },
  {
   "cell_type": "code",
   "execution_count": 40,
   "id": "thorough-caution",
   "metadata": {},
   "outputs": [
    {
     "name": "stdout",
     "output_type": "stream",
     "text": [
      "Validation Accuracy |  45.07042253521127  PPV |  [0.95081967 0.07407407]  Recall |  [0.43609023 0.66666667]\n",
      "[[58 75]\n",
      " [ 3  6]]\n"
     ]
    },
    {
     "data": {
      "image/png": "[encoded data removed]",
      "text/plain": [
       "<Figure size 432x288 with 2 Axes>"
      ]
     },
     "metadata": {
      "needs_background": "light"
     },
     "output_type": "display_data"
    }
   ],
   "source": [
    "y_pred_list7 = []\n",
    "test_loader = DataLoader(dataset=td_data, batch_size=1)\n",
    "model7.eval() #Model evaluation\n",
    "with torch.no_grad():\n",
    "    for X_batch in test_loader:\n",
    "        X_batch = X_batch.to(device)\n",
    "        y_test_pred = model7(X_batch)\n",
    "        y_test_pred = torch.sigmoid(y_test_pred)\n",
    "        y_pred_tag = torch.round(y_test_pred)\n",
    "        y_pred_list7.append(y_pred_tag.cpu().numpy())\n",
    "        final_prediction.append(y_pred_tag.cpu().numpy())\n",
    "\n",
    "y_pred_list7 = [a.squeeze().tolist() for a in y_pred_list7]\n",
    "accuracy = accuracy_score(t_labels, y_pred_list7)\n",
    "ppv = precision_score(t_labels, y_pred_list7, average=None)\n",
    "recall = recall_score(t_labels, y_pred_list7, average=None)\n",
    "print(\"Validation Accuracy | \",accuracy*100,\" PPV | \",ppv,\" Recall | \",recall)\n",
    "cf_matrix = confusion_matrix(t_labels, y_pred_list7)\n",
    "sn.heatmap(cf_matrix, annot=True)\n",
    "print(cf_matrix)"
   ]
  },
  {
   "cell_type": "code",
   "execution_count": 41,
   "id": "micro-amber",
   "metadata": {},
   "outputs": [
    {
     "name": "stdout",
     "output_type": "stream",
     "text": [
      "[0.0, 0.0, 1.0, 1.0, 0.0, 0.0, 1.0, 0.0, 0.0, 1.0, 0.0, 1.0, 1.0, 1.0, 1.0, 1.0, 1.0, 0.0, 0.0, 0.0, 0.0, 1.0, 0.0, 0.0, 0.0, 1.0, 0.0, 0.0, 0.0, 0.0, 1.0, 1.0, 1.0, 0.0, 1.0, 1.0, 1.0, 0.0, 0.0, 0.0, 0.0, 1.0, 0.0, 1.0, 1.0, 0.0, 0.0, 0.0, 0.0, 0.0, 0.0, 0.0, 1.0, 0.0, 0.0, 0.0, 1.0, 0.0, 1.0, 1.0, 0.0, 0.0, 0.0, 0.0, 0.0, 0.0, 0.0, 1.0, 1.0, 0.0, 0.0, 0.0, 0.0, 0.0, 1.0, 1.0, 0.0, 0.0, 1.0, 0.0, 0.0, 0.0, 0.0, 0.0, 0.0, 0.0, 1.0, 1.0, 1.0, 1.0, 0.0, 1.0, 0.0, 0.0, 0.0, 1.0, 0.0, 1.0, 1.0, 1.0, 0.0, 0.0, 0.0, 0.0, 1.0, 0.0, 1.0, 0.0, 1.0, 0.0, 0.0, 0.0, 1.0, 1.0, 0.0, 0.0, 0.0, 0.0, 0.0, 0.0, 1.0, 1.0, 1.0, 0.0, 1.0, 1.0, 0.0, 1.0, 0.0, 1.0, 0.0, 1.0, 1.0, 1.0, 0.0, 0.0, 1.0, 0.0, 0.0, 0.0, 0.0, 0.0]\n"
     ]
    }
   ],
   "source": [
    "final_twin_pred = []\n",
    "for x in range(0,142):\n",
    "    count = 0\n",
    "    if(y_pred_list[x] == 1.0):\n",
    "        count += 1\n",
    "    if(y_pred_list1[x] == 1.0):\n",
    "        count += 1\n",
    "    if(y_pred_list2[x] == 1.0):\n",
    "        count += 1\n",
    "    if(y_pred_list3[x] == 1.0):\n",
    "        count += 1\n",
    "    if(y_pred_list4[x] == 1.0):\n",
    "        count += 1\n",
    "    if(y_pred_list5[x] == 1.0):\n",
    "        count += 1\n",
    "    if(y_pred_list6[x] == 1.0):\n",
    "        count += 1\n",
    "    if(y_pred_list7[x] == 1.0):\n",
    "        count += 1\n",
    "    if(count > 4):\n",
    "        final_twin_pred.append(1.0)\n",
    "    else:\n",
    "        final_twin_pred.append(0.0)\n",
    "\n",
    "print(final_twin_pred)"
   ]
  },
  {
   "cell_type": "code",
   "execution_count": 42,
   "id": "retained-motel",
   "metadata": {
    "scrolled": true
   },
   "outputs": [
    {
     "name": "stdout",
     "output_type": "stream",
     "text": [
      "Validation Accuracy |  60.56338028169014  PPV |  [0.94252874 0.07272727]  Recall |  [0.61654135 0.44444444]\n",
      "[[82 51]\n",
      " [ 5  4]]\n"
     ]
    },
    {
     "data": {
      "image/png": "[encoded data removed]",
      "text/plain": [
       "<Figure size 432x288 with 2 Axes>"
      ]
     },
     "metadata": {
      "needs_background": "light"
     },
     "output_type": "display_data"
    }
   ],
   "source": [
    "accuracy = accuracy_score(t_labels, final_twin_pred)\n",
    "ppv = precision_score(t_labels, final_twin_pred, average=None)\n",
    "recall = recall_score(t_labels, final_twin_pred, average=None)\n",
    "print(\"Validation Accuracy | \",accuracy*100,\" PPV | \",ppv,\" Recall | \",recall)\n",
    "cf_matrix = confusion_matrix(t_labels, final_twin_pred)\n",
    "sn.heatmap(cf_matrix, annot=True)\n",
    "print(cf_matrix)"
   ]
  },
  {
   "cell_type": "code",
   "execution_count": null,
   "id": "floppy-choir",
   "metadata": {},
   "outputs": [],
   "source": []
  }
 ],
 "metadata": {
  "kernelspec": {
   "display_name": "Python 3",
   "language": "python",
   "name": "python3"
  },
  "language_info": {
   "codemirror_mode": {
    "name": "ipython",
    "version": 3
   },
   "file_extension": ".py",
   "mimetype": "text/x-python",
   "name": "python",
   "nbconvert_exporter": "python",
   "pygments_lexer": "ipython3",
   "version": "3.7.9"
  }
 },
 "nbformat": 4,
 "nbformat_minor": 5
}
