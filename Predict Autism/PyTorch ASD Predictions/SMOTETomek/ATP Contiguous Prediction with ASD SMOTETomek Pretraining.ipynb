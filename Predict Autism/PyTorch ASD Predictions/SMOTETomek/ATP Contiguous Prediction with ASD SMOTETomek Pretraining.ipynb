{
 "cells": [
  {
   "cell_type": "code",
   "execution_count": 1,
   "id": "foreign-airfare",
   "metadata": {},
   "outputs": [
    {
     "data": {
      "text/plain": [
       "<torch._C.Generator at 0x20314a24a10>"
      ]
     },
     "execution_count": 1,
     "metadata": {},
     "output_type": "execute_result"
    }
   ],
   "source": [
    "import seaborn as sn\n",
    "from imblearn.over_sampling import SMOTE, SMOTENC \n",
    "from imblearn.combine import SMOTETomek\n",
    "from imblearn.under_sampling import TomekLinks\n",
    "import matplotlib.pyplot as plt\n",
    "import pandas as pd\n",
    "from sklearn.utils import class_weight\n",
    "from sklearn.metrics import accuracy_score, recall_score, confusion_matrix, multilabel_confusion_matrix, precision_score, precision_recall_curve, average_precision_score, classification_report\n",
    "from sklearn.model_selection import KFold, StratifiedKFold, train_test_split, GridSearchCV\n",
    "from sklearn.preprocessing import MinMaxScaler, LabelEncoder\n",
    "from torch.utils.data import Dataset, DataLoader, random_split\n",
    "from torch import Tensor\n",
    "from torch.nn import Linear, ReLU, Sigmoid, Module, BCELoss, BCEWithLogitsLoss\n",
    "from torch.optim import Adam\n",
    "import torch\n",
    "import torch.nn as nn\n",
    "import torch.optim as optim\n",
    "from torch.utils.data import Dataset, DataLoader\n",
    "from pandas import DataFrame\n",
    "import xlsxwriter\n",
    "import time\n",
    "\n",
    "seed_value = 7\n",
    "import os\n",
    "os.environ['PYTHONHASHSEED']=str(seed_value)\n",
    "import random\n",
    "random.seed(seed_value)\n",
    "import numpy as np\n",
    "np.random.seed(seed_value)\n",
    "import torch\n",
    "torch.manual_seed(seed_value)"
   ]
  },
  {
   "cell_type": "code",
   "execution_count": 2,
   "id": "cooked-scroll",
   "metadata": {},
   "outputs": [
    {
     "name": "stdout",
     "output_type": "stream",
     "text": [
      "(137, 298)\n",
      "(137, 1)\n"
     ]
    }
   ],
   "source": [
    "Training_Data = pd.ExcelFile(\"Scaled_Gilmore_Data_CT_SA_1_2.xlsx\") #Training Data already pre-scaled to the IBIS Data set\n",
    "Label_Data = pd.ExcelFile(\"Labels.xlsx\") #Labels\n",
    "data = Training_Data.parse(Training_Data.sheet_names[0])\n",
    "label_data = Label_Data.parse(Label_Data.sheet_names[0])\n",
    "data_features = data.loc[:, data.columns]\n",
    "data_features = data_features.drop(['ROI','MATCH','INDEX','MATCH2','INDEX2', 'ATP', 'HYP', 'ATP Middle', 'HYP Middle', 'HYP Label'], axis=1)\n",
    "data_features = data_features.dropna()\n",
    "data_features = data_features.drop(['ATP Label'], axis=1)\n",
    "labels = label_data.loc[:, label_data.columns]\n",
    "labels = labels.drop(['ROI','ATP Middle', 'HYP Middle', 'HYP Label'], axis=1)\n",
    "labels = labels.dropna()\n",
    "print(data_features.shape)\n",
    "print(labels.shape)"
   ]
  },
  {
   "cell_type": "code",
   "execution_count": 3,
   "id": "equivalent-outreach",
   "metadata": {},
   "outputs": [
    {
     "name": "stdout",
     "output_type": "stream",
     "text": [
      "StratifiedKFold(n_splits=8, random_state=None, shuffle=False)\n",
      "(200, 298)\n",
      "(200, 298)\n",
      "(200, 298)\n",
      "(202, 298)\n",
      "(202, 298)\n",
      "(202, 298)\n",
      "(202, 298)\n",
      "(202, 298)\n",
      "<class 'list'>\n",
      "<class 'list'>\n"
     ]
    }
   ],
   "source": [
    "skf = StratifiedKFold(n_splits=8)\n",
    "skf.get_n_splits(data_features, labels)\n",
    "print(skf)\n",
    "\n",
    "training_indices_X = []\n",
    "testing_indices_X = []\n",
    "training_indices_Y = []\n",
    "testing_indices_Y = []\n",
    "\n",
    "for train_index, test_index in skf.split(data_features, labels):\n",
    "  \n",
    "    X_train, X_test = data_features.iloc[train_index], data_features.iloc[test_index]\n",
    "    Y_train, Y_test = labels.iloc[train_index], labels.iloc[test_index]\n",
    "   \n",
    "    sm = SMOTE(sampling_strategy = 'minority', random_state = seed_value, k_neighbors=2) \n",
    "    X_train_res, Y_train_res = sm.fit_sample(X_train, Y_train) #Only smote the training set.\n",
    "    print(X_train_res.shape)\n",
    "    training_indices_X.append(X_train_res)\n",
    "    testing_indices_X.append(X_test)\n",
    "    training_indices_Y.append(Y_train_res)\n",
    "    testing_indices_Y.append(Y_test)\n",
    "\n",
    "print(type(testing_indices_X))\n",
    "print(type(training_indices_X))"
   ]
  },
  {
   "cell_type": "code",
   "execution_count": 4,
   "id": "joined-quarterly",
   "metadata": {},
   "outputs": [],
   "source": [
    "#training_indices_X[0] #8 Folds so 0 -> 7 Data type is a DataFrame currently.\n",
    "training_fold_X_0 = training_indices_X[0].to_numpy()\n",
    "training_fold_X_1 = training_indices_X[1].to_numpy()\n",
    "training_fold_X_2 = training_indices_X[2].to_numpy()\n",
    "training_fold_X_3 = training_indices_X[3].to_numpy()\n",
    "training_fold_X_4 = training_indices_X[4].to_numpy()\n",
    "training_fold_X_5 = training_indices_X[5].to_numpy()\n",
    "training_fold_X_6 = training_indices_X[6].to_numpy()\n",
    "training_fold_X_7 = training_indices_X[7].to_numpy()\n",
    "\n",
    "training_fold_Y_0 = training_indices_Y[0].to_numpy()\n",
    "training_fold_Y_1 = training_indices_Y[1].to_numpy()\n",
    "training_fold_Y_2 = training_indices_Y[2].to_numpy()\n",
    "training_fold_Y_3 = training_indices_Y[3].to_numpy()\n",
    "training_fold_Y_4 = training_indices_Y[4].to_numpy()\n",
    "training_fold_Y_5 = training_indices_Y[5].to_numpy()\n",
    "training_fold_Y_6 = training_indices_Y[6].to_numpy()\n",
    "training_fold_Y_7 = training_indices_Y[7].to_numpy()\n",
    "\n",
    "testing_fold_X_0 = testing_indices_X[0].to_numpy()\n",
    "testing_fold_X_1 = testing_indices_X[1].to_numpy()\n",
    "testing_fold_X_2 = testing_indices_X[2].to_numpy()\n",
    "testing_fold_X_3 = testing_indices_X[3].to_numpy()\n",
    "testing_fold_X_4 = testing_indices_X[4].to_numpy()\n",
    "testing_fold_X_5 = testing_indices_X[5].to_numpy()\n",
    "testing_fold_X_6 = testing_indices_X[6].to_numpy()\n",
    "testing_fold_X_7 = testing_indices_X[7].to_numpy()\n",
    "\n",
    "testing_fold_Y_0 = testing_indices_Y[0].to_numpy()\n",
    "testing_fold_Y_1 = testing_indices_Y[1].to_numpy()\n",
    "testing_fold_Y_2 = testing_indices_Y[2].to_numpy()\n",
    "testing_fold_Y_3 = testing_indices_Y[3].to_numpy()\n",
    "testing_fold_Y_4 = testing_indices_Y[4].to_numpy()\n",
    "testing_fold_Y_5 = testing_indices_Y[5].to_numpy()\n",
    "testing_fold_Y_6 = testing_indices_Y[6].to_numpy()\n",
    "testing_fold_Y_7 = testing_indices_Y[7].to_numpy()"
   ]
  },
  {
   "cell_type": "code",
   "execution_count": 5,
   "id": "consolidated-business",
   "metadata": {},
   "outputs": [],
   "source": [
    "#Some hyperparameters\n",
    "#D_in is input dimension; H is hidden dimension; D_out is output dimension. \n",
    "\n",
    "#Best: 0.508814 using {'batch_size': 35, 'dropout': 0.15, 'epochs': 35, 'layer1_size': 100, 'layer2_size': 15}\n",
    "D_in, H1, H2, D_out = 298, 100, 15, 1\n",
    "EPOCHS = 35\n",
    "BATCH_SIZE = 35\n",
    "LEARNING_RATE = 0.001\n",
    "DROPOUT_RATE = 0.15\n",
    "\n",
    "test_size = 18\n",
    "test_size1 = 17\n",
    "\n",
    "## train data\n",
    "class trainData(Dataset):\n",
    "    \n",
    "    def __init__(self, X_data, y_data): #used to perform initializing operations such as reading data and preprocessing.\n",
    "        self.X_data = X_data\n",
    "        self.y_data = y_data\n",
    "        \n",
    "    def __getitem__(self, index): #returns data (input and output) in batches.\n",
    "        return self.X_data[index], self.y_data[index]\n",
    "        \n",
    "    def __len__ (self): #returns the size of the input data.\n",
    "        return len(self.X_data)\n",
    "\n",
    "#A dataloader is then used on this dataset class to read the data in batches.\n",
    "train_data = trainData(torch.FloatTensor(training_fold_X_0), \n",
    "                       torch.FloatTensor(training_fold_Y_0))\n",
    "\n",
    "train_data1 = trainData(torch.FloatTensor(training_fold_X_1), \n",
    "                       torch.FloatTensor(training_fold_Y_1))\n",
    "\n",
    "train_data2 = trainData(torch.FloatTensor(training_fold_X_2), \n",
    "                       torch.FloatTensor(training_fold_Y_2))\n",
    "\n",
    "train_data3 = trainData(torch.FloatTensor(training_fold_X_3), \n",
    "                       torch.FloatTensor(training_fold_Y_3))\n",
    "\n",
    "train_data4 = trainData(torch.FloatTensor(training_fold_X_4), \n",
    "                       torch.FloatTensor(training_fold_Y_4))\n",
    "\n",
    "train_data5 = trainData(torch.FloatTensor(training_fold_X_5), \n",
    "                       torch.FloatTensor(training_fold_Y_5))\n",
    "\n",
    "train_data6 = trainData(torch.FloatTensor(training_fold_X_6), \n",
    "                       torch.FloatTensor(training_fold_Y_6))\n",
    "\n",
    "train_data7 = trainData(torch.FloatTensor(training_fold_X_7), \n",
    "                       torch.FloatTensor(training_fold_Y_7))\n",
    "## test data    \n",
    "class testData(Dataset):\n",
    "    \n",
    "    def __init__(self, X_data): ##used to perform initializing operations such as reading data and preprocessing.\n",
    "        self.X_data = X_data\n",
    "        \n",
    "    def __getitem__(self, index): #returns data (input and output) in batches.\n",
    "        return self.X_data[index]\n",
    "        \n",
    "    def __len__ (self): #returns the size of the input data.\n",
    "        return len(self.X_data)\n",
    "    \n",
    "#A dataloader is then used on this dataset class to read the data in batches.\n",
    "test_data = testData(torch.FloatTensor(testing_fold_X_0))\n",
    "test_data1 = testData(torch.FloatTensor(testing_fold_X_1))\n",
    "test_data2 = testData(torch.FloatTensor(testing_fold_X_2))\n",
    "test_data3 = testData(torch.FloatTensor(testing_fold_X_3))\n",
    "test_data4 = testData(torch.FloatTensor(testing_fold_X_4))\n",
    "test_data5 = testData(torch.FloatTensor(testing_fold_X_5))\n",
    "test_data6 = testData(torch.FloatTensor(testing_fold_X_6))\n",
    "test_data7 = testData(torch.FloatTensor(testing_fold_X_7))\n",
    "\n",
    "#Initialize DataLoaders\n",
    "train_loader = DataLoader(dataset=train_data, batch_size=BATCH_SIZE, shuffle=True)\n",
    "test_loader = DataLoader(dataset=test_data, batch_size=test_size) #Batch size of the validation set. Need 1 at a time for how it was setup in the tutorial.\n",
    "\n",
    "train_loader1 = DataLoader(dataset=train_data1, batch_size=BATCH_SIZE, shuffle=True)\n",
    "test_loader1 = DataLoader(dataset=test_data1, batch_size=test_size1) #Batch size of the validation set. Need 1 at a time for how it was setup in the tutorial.\n",
    "\n",
    "train_loader2 = DataLoader(dataset=train_data2, batch_size=BATCH_SIZE, shuffle=True)\n",
    "test_loader2 = DataLoader(dataset=test_data2, batch_size=test_size1) #Batch size of the validation set. Need 1 at a time for how it was setup in the tutorial.\n",
    "\n",
    "train_loader3 = DataLoader(dataset=train_data3, batch_size=BATCH_SIZE, shuffle=True)\n",
    "test_loader3 = DataLoader(dataset=test_data3, batch_size=test_size1) #Batch size of the validation set. Need 1 at a time for how it was setup in the tutorial.\n",
    "\n",
    "train_loader4 = DataLoader(dataset=train_data4, batch_size=BATCH_SIZE, shuffle=True)\n",
    "test_loader4 = DataLoader(dataset=test_data4, batch_size=test_size1) #Batch size of the validation set. Need 1 at a time for how it was setup in the tutorial.\n",
    "\n",
    "train_loader5 = DataLoader(dataset=train_data5, batch_size=BATCH_SIZE, shuffle=True)\n",
    "test_loader5 = DataLoader(dataset=test_data5, batch_size=test_size1) #Batch size of the validation set. Need 1 at a time for how it was setup in the tutorial.\n",
    "\n",
    "train_loader6 = DataLoader(dataset=train_data6, batch_size=BATCH_SIZE, shuffle=True)\n",
    "test_loader6 = DataLoader(dataset=test_data6, batch_size=test_size1) #Batch size of the validation set. Need 1 at a time for how it was setup in the tutorial.\n",
    "\n",
    "train_loader7 = DataLoader(dataset=train_data7, batch_size=BATCH_SIZE, shuffle=True)\n",
    "test_loader7 = DataLoader(dataset=test_data7, batch_size=test_size1) #Batch size of the validation set. Need 1 at a time for how it was setup in the tutorial."
   ]
  },
  {
   "cell_type": "code",
   "execution_count": 6,
   "id": "addressed-python",
   "metadata": {},
   "outputs": [
    {
     "name": "stdout",
     "output_type": "stream",
     "text": [
      "cpu\n"
     ]
    }
   ],
   "source": [
    "class binaryClassification(nn.Module):\n",
    "    def __init__(self):\n",
    "        super(binaryClassification, self).__init__()\n",
    "        # Number of input features is 298.\n",
    "        self.layer_1 = nn.Linear(D_in, H1) #298 -> 100\n",
    "        self.layer_2 = nn.Linear(H1, H2) #100 -> 15\n",
    "        self.layer_out = nn.Linear(H2, D_out) #15 -> 1\n",
    "        \n",
    "        self.relu = nn.ReLU()\n",
    "        self.dropout = nn.Dropout(p=DROPOUT_RATE)\n",
    "        #self.batchnorm1 = nn.BatchNorm1d(100)\n",
    "        #self.batchnorm2 = nn.BatchNorm1d(15)\n",
    "        \n",
    "    def forward(self, inputs):\n",
    "        x = self.relu(self.layer_1(inputs)) #ReLU on the 298?\n",
    "        #x = self.batchnorm1(x) #Normalize the 100\n",
    "        x = self.dropout(x) #Dropout 15%\n",
    "        x = self.relu(self.layer_2(x)) #ReLU on the 100?\n",
    "        #x = self.batchnorm2(x) #Normalize the 15\n",
    "        x = self.layer_out(x) #1\n",
    "        \n",
    "        return x\n",
    "device = torch.device(\"cuda:0\" if torch.cuda.is_available() else \"cpu\")\n",
    "print(device)\n",
    "#Should use the CPU since I don't have a GPU."
   ]
  },
  {
   "cell_type": "code",
   "execution_count": 7,
   "id": "utility-fairy",
   "metadata": {},
   "outputs": [
    {
     "name": "stdout",
     "output_type": "stream",
     "text": [
      "binaryClassification(\n",
      "  (layer_1): Linear(in_features=298, out_features=100, bias=True)\n",
      "  (layer_2): Linear(in_features=100, out_features=15, bias=True)\n",
      "  (layer_out): Linear(in_features=15, out_features=1, bias=True)\n",
      "  (relu): ReLU()\n",
      "  (dropout): Dropout(p=0.15, inplace=False)\n",
      ")\n"
     ]
    }
   ],
   "source": [
    "#Model initialization and information on layers. The model's actual architecture can be viewed in the forward function above.\n",
    "model = binaryClassification()\n",
    "model.load_state_dict(torch.load('./model_dict.pth'))\n",
    "model.train()\n",
    "print(model)\n",
    "weights = torch.FloatTensor([5]) #Class weights?\n",
    "criterion = nn.BCEWithLogitsLoss(pos_weight=weights)\n",
    "optimizer = optim.Adam(model.parameters(), lr=LEARNING_RATE)\n",
    "\n",
    "#Model initialization and information on layers. The model's actual architecture can be viewed in the forward function above.\n",
    "model1 = binaryClassification()\n",
    "model1.load_state_dict(torch.load('./model_dict.pth'))\n",
    "model1.train()\n",
    "#print(model)\n",
    "weights1 = torch.FloatTensor([5]) #Class weights?\n",
    "criterion1 = nn.BCEWithLogitsLoss(pos_weight=weights1)\n",
    "optimizer1 = optim.Adam(model1.parameters(), lr=LEARNING_RATE)\n",
    "\n",
    "#Model initialization and information on layers. The model's actual architecture can be viewed in the forward function above.\n",
    "model2 = binaryClassification()\n",
    "model2.load_state_dict(torch.load('./model_dict.pth'))\n",
    "model2.train()\n",
    "#print(model)\n",
    "weights2 = torch.FloatTensor([5]) #Class weights?\n",
    "criterion2 = nn.BCEWithLogitsLoss(pos_weight=weights2)\n",
    "optimizer2 = optim.Adam(model2.parameters(), lr=LEARNING_RATE)\n",
    "\n",
    "#Model initialization and information on layers. The model's actual architecture can be viewed in the forward function above.\n",
    "model3 = binaryClassification()\n",
    "model3.load_state_dict(torch.load('./model_dict.pth'))\n",
    "model3.train()\n",
    "#print(model)\n",
    "weights3 = torch.FloatTensor([5]) #Class weights?\n",
    "criterion3 = nn.BCEWithLogitsLoss(pos_weight=weights3)\n",
    "optimizer3 = optim.Adam(model3.parameters(), lr=LEARNING_RATE)\n",
    "\n",
    "#Model initialization and information on layers. The model's actual architecture can be viewed in the forward function above.\n",
    "model4 = binaryClassification()\n",
    "model4.load_state_dict(torch.load('./model_dict.pth'))\n",
    "model4.train()\n",
    "#print(model)\n",
    "weights4 = torch.FloatTensor([5]) #Class weights?\n",
    "criterion4 = nn.BCEWithLogitsLoss(pos_weight=weights4)\n",
    "optimizer4 = optim.Adam(model4.parameters(), lr=LEARNING_RATE)\n",
    "\n",
    "#Model initialization and information on layers. The model's actual architecture can be viewed in the forward function above.\n",
    "model5 = binaryClassification()\n",
    "model5.load_state_dict(torch.load('./model_dict.pth'))\n",
    "model5.train()\n",
    "#print(model)\n",
    "weights5 = torch.FloatTensor([5]) #Class weights?\n",
    "criterion5 = nn.BCEWithLogitsLoss(pos_weight=weights5)\n",
    "optimizer5 = optim.Adam(model5.parameters(), lr=LEARNING_RATE)\n",
    "\n",
    "#Model initialization and information on layers. The model's actual architecture can be viewed in the forward function above.\n",
    "model6 = binaryClassification()\n",
    "model6.load_state_dict(torch.load('./model_dict.pth'))\n",
    "model6.train()\n",
    "#print(model)\n",
    "weights6 = torch.FloatTensor([5]) #Class weights?\n",
    "criterion6 = nn.BCEWithLogitsLoss(pos_weight=weights6)\n",
    "optimizer6 = optim.Adam(model6.parameters(), lr=LEARNING_RATE)\n",
    "\n",
    "#Model initialization and information on layers. The model's actual architecture can be viewed in the forward function above.\n",
    "model7 = binaryClassification()\n",
    "model7.load_state_dict(torch.load('./model_dict.pth'))\n",
    "model7.train()\n",
    "#print(model)\n",
    "weights7 = torch.FloatTensor([5]) #Class weights?\n",
    "criterion7 = nn.BCEWithLogitsLoss(pos_weight=weights7)\n",
    "optimizer7 = optim.Adam(model7.parameters(), lr=LEARNING_RATE)"
   ]
  },
  {
   "cell_type": "code",
   "execution_count": 8,
   "id": "ignored-treatment",
   "metadata": {},
   "outputs": [],
   "source": [
    "#Function to define accuracy. Should look to see if there is a prebuilt that I can use from sci-kit learn or something.\n",
    "def binary_acc(y_pred, y_test):\n",
    "    y_pred_tag = torch.round(torch.sigmoid(y_pred))\n",
    "\n",
    "    correct_results_sum = (y_pred_tag == y_test).sum().float()\n",
    "    acc = correct_results_sum/y_test.shape[0]\n",
    "    acc = torch.round(acc * 100)\n",
    "    \n",
    "    return acc"
   ]
  },
  {
   "cell_type": "code",
   "execution_count": 9,
   "id": "nervous-highland",
   "metadata": {},
   "outputs": [
    {
     "name": "stdout",
     "output_type": "stream",
     "text": [
      "Training Epoch 001: | Loss: 4.57427 | Acc: 57.333\n",
      "Validation Accuracy |  27.77777777777778  PPV |  [0.75       0.14285714]  Recall |  [0.2        0.66666667]\n",
      "Training Epoch 002: | Loss: 1.86995 | Acc: 54.167\n",
      "Validation Accuracy |  22.22222222222222  PPV |  [1.         0.17647059]  Recall |  [0.06666667 1.        ]\n",
      "Training Epoch 003: | Loss: 1.74845 | Acc: 54.000\n",
      "Validation Accuracy |  22.22222222222222  PPV |  [1.         0.17647059]  Recall |  [0.06666667 1.        ]\n",
      "Training Epoch 004: | Loss: 1.37532 | Acc: 52.667\n",
      "Validation Accuracy |  27.77777777777778  PPV |  [1.     0.1875]  Recall |  [0.13333333 1.        ]\n",
      "Training Epoch 005: | Loss: 1.36845 | Acc: 56.000\n",
      "Validation Accuracy |  27.77777777777778  PPV |  [1.     0.1875]  Recall |  [0.13333333 1.        ]\n",
      "Training Epoch 006: | Loss: 1.29692 | Acc: 53.500\n",
      "Validation Accuracy |  27.77777777777778  PPV |  [1.     0.1875]  Recall |  [0.13333333 1.        ]\n",
      "Training Epoch 007: | Loss: 1.23380 | Acc: 56.833\n",
      "Validation Accuracy |  27.77777777777778  PPV |  [1.     0.1875]  Recall |  [0.13333333 1.        ]\n",
      "Training Epoch 008: | Loss: 1.23426 | Acc: 55.667\n",
      "Validation Accuracy |  22.22222222222222  PPV |  [1.         0.17647059]  Recall |  [0.06666667 1.        ]\n",
      "Training Epoch 009: | Loss: 1.21011 | Acc: 55.333\n",
      "Validation Accuracy |  22.22222222222222  PPV |  [1.         0.17647059]  Recall |  [0.06666667 1.        ]\n",
      "Training Epoch 010: | Loss: 1.15215 | Acc: 56.833\n",
      "Validation Accuracy |  27.77777777777778  PPV |  [1.     0.1875]  Recall |  [0.13333333 1.        ]\n",
      "Training Epoch 011: | Loss: 1.13809 | Acc: 60.500\n",
      "Validation Accuracy |  27.77777777777778  PPV |  [1.     0.1875]  Recall |  [0.13333333 1.        ]\n",
      "Training Epoch 012: | Loss: 1.11879 | Acc: 59.667\n",
      "Validation Accuracy |  27.77777777777778  PPV |  [1.     0.1875]  Recall |  [0.13333333 1.        ]\n",
      "Training Epoch 013: | Loss: 1.10809 | Acc: 60.167\n",
      "Validation Accuracy |  27.77777777777778  PPV |  [1.     0.1875]  Recall |  [0.13333333 1.        ]\n",
      "Training Epoch 014: | Loss: 1.05875 | Acc: 63.167\n",
      "Validation Accuracy |  38.88888888888889  PPV |  [0.83333333 0.16666667]  Recall |  [0.33333333 0.66666667]\n",
      "Training Epoch 015: | Loss: 1.01440 | Acc: 66.667\n",
      "Validation Accuracy |  38.88888888888889  PPV |  [0.83333333 0.16666667]  Recall |  [0.33333333 0.66666667]\n",
      "Training Epoch 016: | Loss: 0.96951 | Acc: 69.833\n",
      "Validation Accuracy |  38.88888888888889  PPV |  [0.83333333 0.16666667]  Recall |  [0.33333333 0.66666667]\n",
      "Training Epoch 017: | Loss: 0.94227 | Acc: 67.333\n",
      "Validation Accuracy |  38.88888888888889  PPV |  [0.75 0.1 ]  Recall |  [0.4        0.33333333]\n",
      "Training Epoch 018: | Loss: 0.92070 | Acc: 74.333\n",
      "Validation Accuracy |  38.88888888888889  PPV |  [0.75 0.1 ]  Recall |  [0.4        0.33333333]\n",
      "Training Epoch 019: | Loss: 0.81468 | Acc: 74.500\n",
      "Validation Accuracy |  44.44444444444444  PPV |  [0.77777778 0.11111111]  Recall |  [0.46666667 0.33333333]\n",
      "Training Epoch 020: | Loss: 0.82452 | Acc: 75.333\n",
      "Validation Accuracy |  44.44444444444444  PPV |  [0.77777778 0.11111111]  Recall |  [0.46666667 0.33333333]\n",
      "Training Epoch 021: | Loss: 0.76692 | Acc: 75.833\n",
      "Validation Accuracy |  44.44444444444444  PPV |  [0.77777778 0.11111111]  Recall |  [0.46666667 0.33333333]\n",
      "Training Epoch 022: | Loss: 0.78981 | Acc: 79.667\n",
      "Validation Accuracy |  44.44444444444444  PPV |  [0.77777778 0.11111111]  Recall |  [0.46666667 0.33333333]\n",
      "Training Epoch 023: | Loss: 0.74695 | Acc: 80.500\n",
      "Validation Accuracy |  38.88888888888889  PPV |  [0.75 0.1 ]  Recall |  [0.4        0.33333333]\n",
      "Training Epoch 024: | Loss: 0.69472 | Acc: 79.000\n",
      "Validation Accuracy |  50.0  PPV |  [0.8   0.125]  Recall |  [0.53333333 0.33333333]\n",
      "Training Epoch 025: | Loss: 0.63897 | Acc: 83.667\n",
      "Validation Accuracy |  55.55555555555556  PPV |  [0.81818182 0.14285714]  Recall |  [0.6        0.33333333]\n",
      "Training Epoch 026: | Loss: 0.62448 | Acc: 84.000\n",
      "Validation Accuracy |  55.55555555555556  PPV |  [0.81818182 0.14285714]  Recall |  [0.6        0.33333333]\n",
      "Training Epoch 027: | Loss: 0.63682 | Acc: 84.167\n",
      "Validation Accuracy |  55.55555555555556  PPV |  [0.81818182 0.14285714]  Recall |  [0.6        0.33333333]\n",
      "Training Epoch 028: | Loss: 0.54079 | Acc: 88.500\n",
      "Validation Accuracy |  61.111111111111114  PPV |  [0.83333333 0.16666667]  Recall |  [0.66666667 0.33333333]\n",
      "Training Epoch 029: | Loss: 0.51347 | Acc: 88.500\n",
      "Validation Accuracy |  61.111111111111114  PPV |  [0.83333333 0.16666667]  Recall |  [0.66666667 0.33333333]\n",
      "Training Epoch 030: | Loss: 0.54117 | Acc: 85.833\n",
      "Validation Accuracy |  61.111111111111114  PPV |  [0.83333333 0.16666667]  Recall |  [0.66666667 0.33333333]\n",
      "Training Epoch 031: | Loss: 0.49074 | Acc: 89.167\n",
      "Validation Accuracy |  61.111111111111114  PPV |  [0.83333333 0.16666667]  Recall |  [0.66666667 0.33333333]\n",
      "Training Epoch 032: | Loss: 0.50576 | Acc: 87.167\n",
      "Validation Accuracy |  50.0  PPV |  [0.8   0.125]  Recall |  [0.53333333 0.33333333]\n",
      "Training Epoch 033: | Loss: 0.41993 | Acc: 90.500\n",
      "Validation Accuracy |  61.111111111111114  PPV |  [0.83333333 0.16666667]  Recall |  [0.66666667 0.33333333]\n",
      "Training Epoch 034: | Loss: 0.42115 | Acc: 93.000\n",
      "Validation Accuracy |  61.111111111111114  PPV |  [0.83333333 0.16666667]  Recall |  [0.66666667 0.33333333]\n",
      "Training Epoch 035: | Loss: 0.42574 | Acc: 90.333\n",
      "Validation Accuracy |  61.111111111111114  PPV |  [0.83333333 0.16666667]  Recall |  [0.66666667 0.33333333]\n"
     ]
    }
   ],
   "source": [
    "#model.train() tells PyTorch that you’re in training mode.\n",
    "#Similarly, we’ll call model.eval() when we test our model. We’ll see that below.\n",
    "'''If you’re using layers such as Dropout or BatchNorm which behave differently during training and evaluation, \n",
    "you need to tell PyTorch to act accordingly. While the default mode in PyTorch is the train, \n",
    "so, you don’t explicitly have to write that. But it’s good practice.'''\n",
    "val_acc = []\n",
    "train_acc = []\n",
    "train_loss = []\n",
    "val_loss = []\n",
    "\n",
    "model.train() #Initial training mode\n",
    "for e in range(1, EPOCHS+1):\n",
    "    epoch_loss = 0\n",
    "    epoch_acc = 0\n",
    "    for X_batch, y_batch in train_loader:\n",
    "        X_batch, y_batch = X_batch.to(device), y_batch.to(device)\n",
    "        optimizer.zero_grad()\n",
    "        \n",
    "        y_pred = model(X_batch)\n",
    "        \n",
    "        loss = criterion(y_pred, y_batch)\n",
    "        acc = binary_acc(y_pred, y_batch)\n",
    "        \n",
    "        loss.backward()\n",
    "        optimizer.step()\n",
    "        \n",
    "        epoch_loss += loss.item()\n",
    "        epoch_acc += acc.item()\n",
    "    \n",
    "    train_acc.append(epoch_acc/len(train_loader))\n",
    "    train_loss.append(epoch_loss/len(train_loader))\n",
    "    print(f'Training Epoch {e+0:03}: | Loss: {epoch_loss/len(train_loader):.5f} | Acc: {epoch_acc/len(train_loader):.3f}')\n",
    "    #Validation metrics here\n",
    "    model.eval()\n",
    "    #print(\"Evaluation mode\")\n",
    "    y_pred_list = []\n",
    "    test_loader = DataLoader(dataset=test_data, batch_size=test_size)\n",
    "    with torch.no_grad():\n",
    "        counter = 0\n",
    "        for X_batch in test_loader:\n",
    "            X_batch = X_batch.to(device)\n",
    "            y_test_pred = model(X_batch)\n",
    "            y_test_pred = torch.sigmoid(y_test_pred)\n",
    "            y_pred_tag = torch.round(y_test_pred)\n",
    "            y_pred_list.append(y_pred_tag.cpu().numpy())\n",
    "            loss = criterion(y_test_pred,torch.FloatTensor(testing_fold_Y_0))\n",
    "            val_loss.append(loss)\n",
    "            counter+=1\n",
    "            \n",
    "    y_pred_list = []\n",
    "    test_loader = DataLoader(dataset=test_data, batch_size=1)\n",
    "    with torch.no_grad():\n",
    "        for X_batch in test_loader:\n",
    "            X_batch = X_batch.to(device)\n",
    "            y_test_pred = model(X_batch)\n",
    "            y_test_pred = torch.sigmoid(y_test_pred)\n",
    "            y_pred_tag = torch.round(y_test_pred)\n",
    "            y_pred_list.append(y_pred_tag.cpu().numpy())\n",
    "            \n",
    "    y_pred_list = [a.squeeze().tolist() for a in y_pred_list]\n",
    "    y_loss_df = pd.DataFrame(y_pred_list)\n",
    "    accuracy = accuracy_score(torch.FloatTensor(testing_fold_Y_0), y_pred_list)\n",
    "    ppv = precision_score(testing_fold_Y_0, y_pred_list, average=None)\n",
    "    recall = recall_score(testing_fold_Y_0, y_pred_list, average=None)\n",
    "    print(\"Validation Accuracy | \",accuracy*100,\" PPV | \",ppv,\" Recall | \",recall)\n",
    "    val_acc.append(accuracy*100)\n",
    "    model.train()\n",
    "    #print(\"Return to training mode\")\n",
    "    \n",
    "    #Need to get validation loss."
   ]
  },
  {
   "cell_type": "code",
   "execution_count": 10,
   "id": "charged-chase",
   "metadata": {},
   "outputs": [
    {
     "name": "stdout",
     "output_type": "stream",
     "text": [
      "Training Epoch 001: | Loss: 3.63120 | Acc: 60.667\n",
      "Validation Accuracy |  11.76470588235294  PPV |  [0.5        0.06666667]  Recall |  [0.06666667 0.5       ]\n",
      "Training Epoch 002: | Loss: 1.84029 | Acc: 53.500\n",
      "Validation Accuracy |  11.76470588235294  PPV |  [0.         0.11764706]  Recall |  [0. 1.]\n",
      "Training Epoch 003: | Loss: 1.78341 | Acc: 52.833\n",
      "Validation Accuracy |  11.76470588235294  PPV |  [0.         0.11764706]  Recall |  [0. 1.]\n",
      "Training Epoch 004: | Loss: 1.40291 | Acc: 52.833\n",
      "Validation Accuracy |  5.88235294117647  PPV |  [0.     0.0625]  Recall |  [0.  0.5]\n",
      "Training Epoch 005: | Loss: 1.29050 | Acc: 54.000\n",
      "Validation Accuracy |  5.88235294117647  PPV |  [0.     0.0625]  Recall |  [0.  0.5]\n",
      "Training Epoch 006: | Loss: 1.30349 | Acc: 57.500\n",
      "Validation Accuracy |  5.88235294117647  PPV |  [0.     0.0625]  Recall |  [0.  0.5]\n",
      "Training Epoch 007: | Loss: 1.24336 | Acc: 58.667\n",
      "Validation Accuracy |  5.88235294117647  PPV |  [0.     0.0625]  Recall |  [0.  0.5]\n",
      "Training Epoch 008: | Loss: 1.20158 | Acc: 57.833\n"
     ]
    },
    {
     "name": "stderr",
     "output_type": "stream",
     "text": [
      "C:\\Users\\mattbeze\\Anaconda3\\envs\\pytorch\\lib\\site-packages\\sklearn\\metrics\\_classification.py:1245: UndefinedMetricWarning: Precision is ill-defined and being set to 0.0 in labels with no predicted samples. Use `zero_division` parameter to control this behavior.\n",
      "  _warn_prf(average, modifier, msg_start, len(result))\n",
      "C:\\Users\\mattbeze\\Anaconda3\\envs\\pytorch\\lib\\site-packages\\sklearn\\metrics\\_classification.py:1245: UndefinedMetricWarning: Precision is ill-defined and being set to 0.0 in labels with no predicted samples. Use `zero_division` parameter to control this behavior.\n",
      "  _warn_prf(average, modifier, msg_start, len(result))\n"
     ]
    },
    {
     "name": "stdout",
     "output_type": "stream",
     "text": [
      "Validation Accuracy |  5.88235294117647  PPV |  [0.     0.0625]  Recall |  [0.  0.5]\n",
      "Training Epoch 009: | Loss: 1.10827 | Acc: 58.667\n",
      "Validation Accuracy |  5.88235294117647  PPV |  [0.     0.0625]  Recall |  [0.  0.5]\n",
      "Training Epoch 010: | Loss: 1.12713 | Acc: 57.000\n",
      "Validation Accuracy |  5.88235294117647  PPV |  [0.     0.0625]  Recall |  [0.  0.5]\n",
      "Training Epoch 011: | Loss: 1.08819 | Acc: 65.833\n",
      "Validation Accuracy |  11.76470588235294  PPV |  [0.5        0.06666667]  Recall |  [0.06666667 0.5       ]\n",
      "Training Epoch 012: | Loss: 1.07582 | Acc: 65.833\n",
      "Validation Accuracy |  23.52941176470588  PPV |  [0.75       0.07692308]  Recall |  [0.2 0.5]\n",
      "Training Epoch 013: | Loss: 1.03322 | Acc: 65.667\n",
      "Validation Accuracy |  11.76470588235294  PPV |  [0.5        0.06666667]  Recall |  [0.06666667 0.5       ]\n",
      "Training Epoch 014: | Loss: 1.03962 | Acc: 65.667\n",
      "Validation Accuracy |  11.76470588235294  PPV |  [0.5        0.06666667]  Recall |  [0.06666667 0.5       ]\n",
      "Training Epoch 015: | Loss: 1.00772 | Acc: 65.333\n",
      "Validation Accuracy |  5.88235294117647  PPV |  [0.     0.0625]  Recall |  [0.  0.5]\n",
      "Training Epoch 016: | Loss: 0.95518 | Acc: 65.667\n",
      "Validation Accuracy |  17.647058823529413  PPV |  [0.66666667 0.07142857]  Recall |  [0.13333333 0.5       ]\n",
      "Training Epoch 017: | Loss: 0.95856 | Acc: 71.500\n",
      "Validation Accuracy |  17.647058823529413  PPV |  [0.66666667 0.07142857]  Recall |  [0.13333333 0.5       ]\n",
      "Training Epoch 018: | Loss: 0.89308 | Acc: 70.167\n",
      "Validation Accuracy |  23.52941176470588  PPV |  [0.75       0.07692308]  Recall |  [0.2 0.5]\n",
      "Training Epoch 019: | Loss: 0.87200 | Acc: 70.833\n",
      "Validation Accuracy |  17.647058823529413  PPV |  [0.66666667 0.07142857]  Recall |  [0.13333333 0.5       ]\n",
      "Training Epoch 020: | Loss: 0.86065 | Acc: 72.833\n",
      "Validation Accuracy |  23.52941176470588  PPV |  [0.75       0.07692308]  Recall |  [0.2 0.5]\n",
      "Training Epoch 021: | Loss: 0.84724 | Acc: 74.500\n",
      "Validation Accuracy |  23.52941176470588  PPV |  [0.75       0.07692308]  Recall |  [0.2 0.5]\n",
      "Training Epoch 022: | Loss: 0.80428 | Acc: 70.833\n",
      "Validation Accuracy |  23.52941176470588  PPV |  [0.75       0.07692308]  Recall |  [0.2 0.5]\n",
      "Training Epoch 023: | Loss: 0.77601 | Acc: 74.333\n",
      "Validation Accuracy |  47.05882352941176  PPV |  [0.875      0.11111111]  Recall |  [0.46666667 0.5       ]\n",
      "Training Epoch 024: | Loss: 0.78292 | Acc: 78.333\n",
      "Validation Accuracy |  47.05882352941176  PPV |  [0.875      0.11111111]  Recall |  [0.46666667 0.5       ]\n",
      "Training Epoch 025: | Loss: 0.76735 | Acc: 74.500\n",
      "Validation Accuracy |  47.05882352941176  PPV |  [0.875      0.11111111]  Recall |  [0.46666667 0.5       ]\n",
      "Training Epoch 026: | Loss: 0.70384 | Acc: 81.500\n",
      "Validation Accuracy |  52.94117647058824  PPV |  [0.88888889 0.125     ]  Recall |  [0.53333333 0.5       ]\n",
      "Training Epoch 027: | Loss: 0.64413 | Acc: 80.667\n",
      "Validation Accuracy |  47.05882352941176  PPV |  [0.875      0.11111111]  Recall |  [0.46666667 0.5       ]\n",
      "Training Epoch 028: | Loss: 0.67932 | Acc: 81.167\n",
      "Validation Accuracy |  47.05882352941176  PPV |  [0.875      0.11111111]  Recall |  [0.46666667 0.5       ]\n",
      "Training Epoch 029: | Loss: 0.63380 | Acc: 82.333\n",
      "Validation Accuracy |  47.05882352941176  PPV |  [0.875      0.11111111]  Recall |  [0.46666667 0.5       ]\n",
      "Training Epoch 030: | Loss: 0.58897 | Acc: 82.667\n",
      "Validation Accuracy |  52.94117647058824  PPV |  [0.88888889 0.125     ]  Recall |  [0.53333333 0.5       ]\n",
      "Training Epoch 031: | Loss: 0.57781 | Acc: 85.833\n",
      "Validation Accuracy |  52.94117647058824  PPV |  [0.88888889 0.125     ]  Recall |  [0.53333333 0.5       ]\n",
      "Training Epoch 032: | Loss: 0.50545 | Acc: 87.000\n",
      "Validation Accuracy |  52.94117647058824  PPV |  [0.88888889 0.125     ]  Recall |  [0.53333333 0.5       ]\n",
      "Training Epoch 033: | Loss: 0.50103 | Acc: 88.333\n",
      "Validation Accuracy |  70.58823529411765  PPV |  [0.91666667 0.2       ]  Recall |  [0.73333333 0.5       ]\n",
      "Training Epoch 034: | Loss: 0.50496 | Acc: 90.167\n",
      "Validation Accuracy |  58.82352941176471  PPV |  [0.9        0.14285714]  Recall |  [0.6 0.5]\n",
      "Training Epoch 035: | Loss: 0.44662 | Acc: 88.667\n",
      "Validation Accuracy |  64.70588235294117  PPV |  [0.84615385 0.        ]  Recall |  [0.73333333 0.        ]\n"
     ]
    }
   ],
   "source": [
    "#model.train() tells PyTorch that you’re in training mode.\n",
    "#Similarly, we’ll call model.eval() when we test our model. We’ll see that below.\n",
    "'''If you’re using layers such as Dropout or BatchNorm which behave differently during training and evaluation, \n",
    "you need to tell PyTorch to act accordingly. While the default mode in PyTorch is the train, \n",
    "so, you don’t explicitly have to write that. But it’s good practice.'''\n",
    "val_acc1 = []\n",
    "train_acc1 = []\n",
    "train_loss1 = []\n",
    "val_loss1 = []\n",
    "\n",
    "model1.train() #Initial training mode\n",
    "for e in range(1, EPOCHS+1):\n",
    "    epoch_loss = 0\n",
    "    epoch_acc = 0\n",
    "    for X_batch, y_batch in train_loader1:\n",
    "        X_batch, y_batch = X_batch.to(device), y_batch.to(device)\n",
    "        optimizer1.zero_grad()\n",
    "        \n",
    "        y_pred = model1(X_batch)\n",
    "        \n",
    "        loss = criterion(y_pred, y_batch)\n",
    "        acc = binary_acc(y_pred, y_batch)\n",
    "        \n",
    "        loss.backward()\n",
    "        optimizer1.step()\n",
    "        \n",
    "        epoch_loss += loss.item()\n",
    "        epoch_acc += acc.item()\n",
    "    \n",
    "    train_acc1.append(epoch_acc/len(train_loader1))\n",
    "    train_loss1.append(epoch_loss/len(train_loader1))\n",
    "    print(f'Training Epoch {e+0:03}: | Loss: {epoch_loss/len(train_loader1):.5f} | Acc: {epoch_acc/len(train_loader1):.3f}')\n",
    "    #Validation metrics here\n",
    "    model1.eval()\n",
    "    #print(\"Evaluation mode\")\n",
    "    y_pred_list = []\n",
    "    test_loader1 = DataLoader(dataset=test_data1, batch_size=test_size1)\n",
    "    with torch.no_grad():\n",
    "        counter = 0\n",
    "        for X_batch in test_loader1:\n",
    "            X_batch = X_batch.to(device)\n",
    "            y_test_pred = model1(X_batch)\n",
    "            y_test_pred = torch.sigmoid(y_test_pred)\n",
    "            y_pred_tag = torch.round(y_test_pred)\n",
    "            y_pred_list.append(y_pred_tag.cpu().numpy())\n",
    "            loss = criterion(y_test_pred,torch.FloatTensor(testing_fold_Y_1))\n",
    "            val_loss1.append(loss)\n",
    "            counter+=1\n",
    "            \n",
    "    y_pred_list = []\n",
    "    test_loader = DataLoader(dataset=test_data1, batch_size=1)\n",
    "    with torch.no_grad():\n",
    "        for X_batch in test_loader:\n",
    "            X_batch = X_batch.to(device)\n",
    "            y_test_pred = model1(X_batch)\n",
    "            y_test_pred = torch.sigmoid(y_test_pred)\n",
    "            y_pred_tag = torch.round(y_test_pred)\n",
    "            y_pred_list.append(y_pred_tag.cpu().numpy())\n",
    "            \n",
    "    y_pred_list = [a.squeeze().tolist() for a in y_pred_list]\n",
    "    y_loss_df = pd.DataFrame(y_pred_list)\n",
    "    accuracy = accuracy_score(torch.FloatTensor(testing_fold_Y_1), y_pred_list)\n",
    "    ppv = precision_score(testing_fold_Y_1, y_pred_list, average=None)\n",
    "    recall = recall_score(testing_fold_Y_1, y_pred_list, average=None)\n",
    "    print(\"Validation Accuracy | \",accuracy*100,\" PPV | \",ppv,\" Recall | \",recall)\n",
    "    val_acc1.append(accuracy*100)\n",
    "    model1.train()\n",
    "    #print(\"Return to training mode\")\n",
    "    \n",
    "    #Need to get validation loss."
   ]
  },
  {
   "cell_type": "code",
   "execution_count": 11,
   "id": "under-halloween",
   "metadata": {},
   "outputs": [
    {
     "name": "stdout",
     "output_type": "stream",
     "text": [
      "Training Epoch 001: | Loss: 4.25014 | Acc: 58.500\n",
      "Validation Accuracy |  29.411764705882355  PPV |  [1.         0.14285714]  Recall |  [0.2 1. ]\n",
      "Training Epoch 002: | Loss: 2.07748 | Acc: 53.333\n",
      "Validation Accuracy |  23.52941176470588  PPV |  [1.         0.13333333]  Recall |  [0.13333333 1.        ]\n",
      "Training Epoch 003: | Loss: 1.98803 | Acc: 52.500\n",
      "Validation Accuracy |  23.52941176470588  PPV |  [1.         0.13333333]  Recall |  [0.13333333 1.        ]\n",
      "Training Epoch 004: | Loss: 1.54358 | Acc: 54.167\n",
      "Validation Accuracy |  23.52941176470588  PPV |  [1.         0.13333333]  Recall |  [0.13333333 1.        ]\n",
      "Training Epoch 005: | Loss: 1.42954 | Acc: 53.500\n",
      "Validation Accuracy |  29.411764705882355  PPV |  [1.         0.14285714]  Recall |  [0.2 1. ]\n",
      "Training Epoch 006: | Loss: 1.32377 | Acc: 56.500\n",
      "Validation Accuracy |  35.294117647058826  PPV |  [1.         0.15384615]  Recall |  [0.26666667 1.        ]\n",
      "Training Epoch 007: | Loss: 1.29850 | Acc: 58.667\n",
      "Validation Accuracy |  29.411764705882355  PPV |  [1.         0.14285714]  Recall |  [0.2 1. ]\n",
      "Training Epoch 008: | Loss: 1.30575 | Acc: 55.167\n",
      "Validation Accuracy |  29.411764705882355  PPV |  [1.         0.14285714]  Recall |  [0.2 1. ]\n",
      "Training Epoch 009: | Loss: 1.23589 | Acc: 54.167\n",
      "Validation Accuracy |  29.411764705882355  PPV |  [1.         0.14285714]  Recall |  [0.2 1. ]\n",
      "Training Epoch 010: | Loss: 1.22670 | Acc: 53.333\n",
      "Validation Accuracy |  29.411764705882355  PPV |  [1.         0.14285714]  Recall |  [0.2 1. ]\n",
      "Training Epoch 011: | Loss: 1.16371 | Acc: 56.167\n",
      "Validation Accuracy |  29.411764705882355  PPV |  [1.         0.14285714]  Recall |  [0.2 1. ]\n",
      "Training Epoch 012: | Loss: 1.13834 | Acc: 57.167\n",
      "Validation Accuracy |  35.294117647058826  PPV |  [1.         0.15384615]  Recall |  [0.26666667 1.        ]\n",
      "Training Epoch 013: | Loss: 1.10167 | Acc: 59.667\n",
      "Validation Accuracy |  41.17647058823529  PPV |  [1.         0.16666667]  Recall |  [0.33333333 1.        ]\n",
      "Training Epoch 014: | Loss: 1.09960 | Acc: 61.000\n",
      "Validation Accuracy |  41.17647058823529  PPV |  [1.         0.16666667]  Recall |  [0.33333333 1.        ]\n",
      "Training Epoch 015: | Loss: 1.08282 | Acc: 59.500\n",
      "Validation Accuracy |  41.17647058823529  PPV |  [1.         0.16666667]  Recall |  [0.33333333 1.        ]\n",
      "Training Epoch 016: | Loss: 1.05544 | Acc: 58.000\n",
      "Validation Accuracy |  47.05882352941176  PPV |  [1.         0.18181818]  Recall |  [0.4 1. ]\n",
      "Training Epoch 017: | Loss: 1.02424 | Acc: 63.333\n",
      "Validation Accuracy |  52.94117647058824  PPV |  [1.  0.2]  Recall |  [0.46666667 1.        ]\n",
      "Training Epoch 018: | Loss: 1.01172 | Acc: 64.500\n",
      "Validation Accuracy |  58.82352941176471  PPV |  [1.         0.22222222]  Recall |  [0.53333333 1.        ]\n",
      "Training Epoch 019: | Loss: 0.99329 | Acc: 66.833\n",
      "Validation Accuracy |  58.82352941176471  PPV |  [1.         0.22222222]  Recall |  [0.53333333 1.        ]\n",
      "Training Epoch 020: | Loss: 0.98560 | Acc: 63.333\n",
      "Validation Accuracy |  52.94117647058824  PPV |  [1.  0.2]  Recall |  [0.46666667 1.        ]\n",
      "Training Epoch 021: | Loss: 0.94000 | Acc: 66.167\n",
      "Validation Accuracy |  58.82352941176471  PPV |  [1.         0.22222222]  Recall |  [0.53333333 1.        ]\n",
      "Training Epoch 022: | Loss: 0.90119 | Acc: 69.167\n",
      "Validation Accuracy |  58.82352941176471  PPV |  [1.         0.22222222]  Recall |  [0.53333333 1.        ]\n",
      "Training Epoch 023: | Loss: 0.92955 | Acc: 71.333\n",
      "Validation Accuracy |  58.82352941176471  PPV |  [1.         0.22222222]  Recall |  [0.53333333 1.        ]\n",
      "Training Epoch 024: | Loss: 0.87523 | Acc: 68.833\n",
      "Validation Accuracy |  58.82352941176471  PPV |  [1.         0.22222222]  Recall |  [0.53333333 1.        ]\n",
      "Training Epoch 025: | Loss: 0.78744 | Acc: 75.167\n",
      "Validation Accuracy |  58.82352941176471  PPV |  [0.83333333 0.        ]  Recall |  [0.66666667 0.        ]\n",
      "Training Epoch 026: | Loss: 0.78025 | Acc: 77.500\n",
      "Validation Accuracy |  58.82352941176471  PPV |  [0.83333333 0.        ]  Recall |  [0.66666667 0.        ]\n",
      "Training Epoch 027: | Loss: 0.73552 | Acc: 79.167\n",
      "Validation Accuracy |  52.94117647058824  PPV |  [0.81818182 0.        ]  Recall |  [0.6 0. ]\n",
      "Training Epoch 028: | Loss: 0.70623 | Acc: 78.167\n",
      "Validation Accuracy |  58.82352941176471  PPV |  [0.83333333 0.        ]  Recall |  [0.66666667 0.        ]\n",
      "Training Epoch 029: | Loss: 0.67914 | Acc: 79.500\n",
      "Validation Accuracy |  58.82352941176471  PPV |  [0.83333333 0.        ]  Recall |  [0.66666667 0.        ]\n",
      "Training Epoch 030: | Loss: 0.64776 | Acc: 83.167\n",
      "Validation Accuracy |  58.82352941176471  PPV |  [0.83333333 0.        ]  Recall |  [0.66666667 0.        ]\n",
      "Training Epoch 031: | Loss: 0.64388 | Acc: 82.333\n",
      "Validation Accuracy |  58.82352941176471  PPV |  [0.83333333 0.        ]  Recall |  [0.66666667 0.        ]\n",
      "Training Epoch 032: | Loss: 0.54802 | Acc: 87.333\n",
      "Validation Accuracy |  58.82352941176471  PPV |  [0.83333333 0.        ]  Recall |  [0.66666667 0.        ]\n",
      "Training Epoch 033: | Loss: 0.52480 | Acc: 86.167\n",
      "Validation Accuracy |  58.82352941176471  PPV |  [0.83333333 0.        ]  Recall |  [0.66666667 0.        ]\n",
      "Training Epoch 034: | Loss: 0.48397 | Acc: 90.333\n",
      "Validation Accuracy |  58.82352941176471  PPV |  [0.83333333 0.        ]  Recall |  [0.66666667 0.        ]\n",
      "Training Epoch 035: | Loss: 0.48117 | Acc: 88.333\n",
      "Validation Accuracy |  58.82352941176471  PPV |  [0.83333333 0.        ]  Recall |  [0.66666667 0.        ]\n"
     ]
    }
   ],
   "source": [
    "#model.train() tells PyTorch that you’re in training mode.\n",
    "#Similarly, we’ll call model.eval() when we test our model. We’ll see that below.\n",
    "'''If you’re using layers such as Dropout or BatchNorm which behave differently during training and evaluation, \n",
    "you need to tell PyTorch to act accordingly. While the default mode in PyTorch is the train, \n",
    "so, you don’t explicitly have to write that. But it’s good practice.'''\n",
    "val_acc2 = []\n",
    "train_acc2 = []\n",
    "train_loss2 = []\n",
    "val_loss2 = []\n",
    "\n",
    "model2.train() #Initial training mode\n",
    "for e in range(1, EPOCHS+1):\n",
    "    epoch_loss = 0\n",
    "    epoch_acc = 0\n",
    "    for X_batch, y_batch in train_loader2:\n",
    "        X_batch, y_batch = X_batch.to(device), y_batch.to(device)\n",
    "        optimizer2.zero_grad()\n",
    "        \n",
    "        y_pred = model2(X_batch)\n",
    "        \n",
    "        loss = criterion(y_pred, y_batch)\n",
    "        acc = binary_acc(y_pred, y_batch)\n",
    "        \n",
    "        loss.backward()\n",
    "        optimizer2.step()\n",
    "        \n",
    "        epoch_loss += loss.item()\n",
    "        epoch_acc += acc.item()\n",
    "    \n",
    "    train_acc2.append(epoch_acc/len(train_loader2))\n",
    "    train_loss2.append(epoch_loss/len(train_loader2))\n",
    "    print(f'Training Epoch {e+0:03}: | Loss: {epoch_loss/len(train_loader2):.5f} | Acc: {epoch_acc/len(train_loader2):.3f}')\n",
    "    #Validation metrics here\n",
    "    model2.eval()\n",
    "    #print(\"Evaluation mode\")\n",
    "    y_pred_list = []\n",
    "    test_loader2 = DataLoader(dataset=test_data2, batch_size=test_size1)\n",
    "    with torch.no_grad():\n",
    "        counter = 0\n",
    "        for X_batch in test_loader2:\n",
    "            X_batch = X_batch.to(device)\n",
    "            y_test_pred = model2(X_batch)\n",
    "            y_test_pred = torch.sigmoid(y_test_pred)\n",
    "            y_pred_tag = torch.round(y_test_pred)\n",
    "            y_pred_list.append(y_pred_tag.cpu().numpy())\n",
    "            loss = criterion(y_test_pred,torch.FloatTensor(testing_fold_Y_2))\n",
    "            val_loss2.append(loss)\n",
    "            counter+=1\n",
    "            \n",
    "    y_pred_list = []\n",
    "    test_loader2 = DataLoader(dataset=test_data2, batch_size=1)\n",
    "    with torch.no_grad():\n",
    "        for X_batch in test_loader2:\n",
    "            X_batch = X_batch.to(device)\n",
    "            y_test_pred = model2(X_batch)\n",
    "            y_test_pred = torch.sigmoid(y_test_pred)\n",
    "            y_pred_tag = torch.round(y_test_pred)\n",
    "            y_pred_list.append(y_pred_tag.cpu().numpy())\n",
    "            \n",
    "    y_pred_list = [a.squeeze().tolist() for a in y_pred_list]\n",
    "    y_loss_df = pd.DataFrame(y_pred_list)\n",
    "    accuracy = accuracy_score(torch.FloatTensor(testing_fold_Y_2), y_pred_list)\n",
    "    ppv = precision_score(testing_fold_Y_2, y_pred_list, average=None)\n",
    "    recall = recall_score(testing_fold_Y_2, y_pred_list, average=None)\n",
    "    print(\"Validation Accuracy | \",accuracy*100,\" PPV | \",ppv,\" Recall | \",recall)\n",
    "    val_acc2.append(accuracy*100)\n",
    "    model2.train()\n",
    "    #print(\"Return to training mode\")\n",
    "    \n",
    "    #Need to get validation loss."
   ]
  },
  {
   "cell_type": "code",
   "execution_count": 12,
   "id": "alert-probe",
   "metadata": {},
   "outputs": [
    {
     "name": "stdout",
     "output_type": "stream",
     "text": [
      "Training Epoch 001: | Loss: 4.71853 | Acc: 56.833\n",
      "Validation Accuracy |  23.52941176470588  PPV |  [1.     0.1875]  Recall |  [0.07142857 1.        ]\n",
      "Training Epoch 002: | Loss: 2.16731 | Acc: 52.667\n",
      "Validation Accuracy |  23.52941176470588  PPV |  [1.     0.1875]  Recall |  [0.07142857 1.        ]\n",
      "Training Epoch 003: | Loss: 1.94402 | Acc: 52.833\n",
      "Validation Accuracy |  23.52941176470588  PPV |  [1.     0.1875]  Recall |  [0.07142857 1.        ]\n",
      "Training Epoch 004: | Loss: 1.62996 | Acc: 52.833\n",
      "Validation Accuracy |  23.52941176470588  PPV |  [1.     0.1875]  Recall |  [0.07142857 1.        ]\n",
      "Training Epoch 005: | Loss: 1.44456 | Acc: 53.167\n",
      "Validation Accuracy |  23.52941176470588  PPV |  [1.     0.1875]  Recall |  [0.07142857 1.        ]\n",
      "Training Epoch 006: | Loss: 1.28409 | Acc: 57.167\n",
      "Validation Accuracy |  23.52941176470588  PPV |  [1.     0.1875]  Recall |  [0.07142857 1.        ]\n",
      "Training Epoch 007: | Loss: 1.27873 | Acc: 57.167\n",
      "Validation Accuracy |  23.52941176470588  PPV |  [1.     0.1875]  Recall |  [0.07142857 1.        ]\n",
      "Training Epoch 008: | Loss: 1.22571 | Acc: 55.167\n",
      "Validation Accuracy |  17.647058823529413  PPV |  [0.         0.17647059]  Recall |  [0. 1.]\n",
      "Training Epoch 009: | Loss: 1.20629 | Acc: 54.167\n",
      "Validation Accuracy |  17.647058823529413  PPV |  [0.         0.17647059]  Recall |  [0. 1.]\n",
      "Training Epoch 010: | Loss: 1.17064 | Acc: 55.167\n",
      "Validation Accuracy |  17.647058823529413  PPV |  [0.         0.17647059]  Recall |  [0. 1.]\n",
      "Training Epoch 011: | Loss: 1.13205 | Acc: 56.500\n",
      "Validation Accuracy |  17.647058823529413  PPV |  [0.         0.17647059]  Recall |  [0. 1.]\n",
      "Training Epoch 012: | Loss: 1.10360 | Acc: 56.333\n",
      "Validation Accuracy |  17.647058823529413  PPV |  [0.         0.17647059]  Recall |  [0. 1.]\n",
      "Training Epoch 013: | Loss: 1.13227 | Acc: 60.833\n",
      "Validation Accuracy |  17.647058823529413  PPV |  [0.         0.17647059]  Recall |  [0. 1.]\n",
      "Training Epoch 014: | Loss: 1.03911 | Acc: 62.500\n",
      "Validation Accuracy |  17.647058823529413  PPV |  [0.         0.17647059]  Recall |  [0. 1.]\n",
      "Training Epoch 015: | Loss: 1.02360 | Acc: 62.167\n"
     ]
    },
    {
     "name": "stderr",
     "output_type": "stream",
     "text": [
      "C:\\Users\\mattbeze\\Anaconda3\\envs\\pytorch\\lib\\site-packages\\sklearn\\metrics\\_classification.py:1245: UndefinedMetricWarning: Precision is ill-defined and being set to 0.0 in labels with no predicted samples. Use `zero_division` parameter to control this behavior.\n",
      "  _warn_prf(average, modifier, msg_start, len(result))\n",
      "C:\\Users\\mattbeze\\Anaconda3\\envs\\pytorch\\lib\\site-packages\\sklearn\\metrics\\_classification.py:1245: UndefinedMetricWarning: Precision is ill-defined and being set to 0.0 in labels with no predicted samples. Use `zero_division` parameter to control this behavior.\n",
      "  _warn_prf(average, modifier, msg_start, len(result))\n",
      "C:\\Users\\mattbeze\\Anaconda3\\envs\\pytorch\\lib\\site-packages\\sklearn\\metrics\\_classification.py:1245: UndefinedMetricWarning: Precision is ill-defined and being set to 0.0 in labels with no predicted samples. Use `zero_division` parameter to control this behavior.\n",
      "  _warn_prf(average, modifier, msg_start, len(result))\n",
      "C:\\Users\\mattbeze\\Anaconda3\\envs\\pytorch\\lib\\site-packages\\sklearn\\metrics\\_classification.py:1245: UndefinedMetricWarning: Precision is ill-defined and being set to 0.0 in labels with no predicted samples. Use `zero_division` parameter to control this behavior.\n",
      "  _warn_prf(average, modifier, msg_start, len(result))\n",
      "C:\\Users\\mattbeze\\Anaconda3\\envs\\pytorch\\lib\\site-packages\\sklearn\\metrics\\_classification.py:1245: UndefinedMetricWarning: Precision is ill-defined and being set to 0.0 in labels with no predicted samples. Use `zero_division` parameter to control this behavior.\n",
      "  _warn_prf(average, modifier, msg_start, len(result))\n",
      "C:\\Users\\mattbeze\\Anaconda3\\envs\\pytorch\\lib\\site-packages\\sklearn\\metrics\\_classification.py:1245: UndefinedMetricWarning: Precision is ill-defined and being set to 0.0 in labels with no predicted samples. Use `zero_division` parameter to control this behavior.\n",
      "  _warn_prf(average, modifier, msg_start, len(result))\n",
      "C:\\Users\\mattbeze\\Anaconda3\\envs\\pytorch\\lib\\site-packages\\sklearn\\metrics\\_classification.py:1245: UndefinedMetricWarning: Precision is ill-defined and being set to 0.0 in labels with no predicted samples. Use `zero_division` parameter to control this behavior.\n",
      "  _warn_prf(average, modifier, msg_start, len(result))\n",
      "C:\\Users\\mattbeze\\Anaconda3\\envs\\pytorch\\lib\\site-packages\\sklearn\\metrics\\_classification.py:1245: UndefinedMetricWarning: Precision is ill-defined and being set to 0.0 in labels with no predicted samples. Use `zero_division` parameter to control this behavior.\n",
      "  _warn_prf(average, modifier, msg_start, len(result))\n"
     ]
    },
    {
     "name": "stdout",
     "output_type": "stream",
     "text": [
      "Validation Accuracy |  17.647058823529413  PPV |  [0.         0.17647059]  Recall |  [0. 1.]\n",
      "Training Epoch 016: | Loss: 1.05221 | Acc: 64.333\n",
      "Validation Accuracy |  23.52941176470588  PPV |  [1.     0.1875]  Recall |  [0.07142857 1.        ]\n",
      "Training Epoch 017: | Loss: 0.98031 | Acc: 65.167\n",
      "Validation Accuracy |  11.76470588235294  PPV |  [0.33333333 0.07142857]  Recall |  [0.07142857 0.33333333]\n",
      "Training Epoch 018: | Loss: 0.94019 | Acc: 68.833\n",
      "Validation Accuracy |  23.52941176470588  PPV |  [0.6        0.08333333]  Recall |  [0.21428571 0.33333333]\n",
      "Training Epoch 019: | Loss: 0.86711 | Acc: 71.667\n",
      "Validation Accuracy |  17.647058823529413  PPV |  [0.5        0.07692308]  Recall |  [0.14285714 0.33333333]\n",
      "Training Epoch 020: | Loss: 0.89466 | Acc: 69.833\n",
      "Validation Accuracy |  29.411764705882355  PPV |  [0.66666667 0.09090909]  Recall |  [0.28571429 0.33333333]\n",
      "Training Epoch 021: | Loss: 0.83748 | Acc: 74.833\n",
      "Validation Accuracy |  23.52941176470588  PPV |  [0.6        0.08333333]  Recall |  [0.21428571 0.33333333]\n",
      "Training Epoch 022: | Loss: 0.75689 | Acc: 77.000\n",
      "Validation Accuracy |  29.411764705882355  PPV |  [0.66666667 0.09090909]  Recall |  [0.28571429 0.33333333]\n",
      "Training Epoch 023: | Loss: 0.74153 | Acc: 78.667\n",
      "Validation Accuracy |  29.411764705882355  PPV |  [0.66666667 0.09090909]  Recall |  [0.28571429 0.33333333]\n",
      "Training Epoch 024: | Loss: 0.73778 | Acc: 78.167\n",
      "Validation Accuracy |  29.411764705882355  PPV |  [0.66666667 0.09090909]  Recall |  [0.28571429 0.33333333]\n",
      "Training Epoch 025: | Loss: 0.69716 | Acc: 80.167\n",
      "Validation Accuracy |  47.05882352941176  PPV |  [0.77777778 0.125     ]  Recall |  [0.5        0.33333333]\n",
      "Training Epoch 026: | Loss: 0.66128 | Acc: 82.667\n",
      "Validation Accuracy |  35.294117647058826  PPV |  [0.71428571 0.1       ]  Recall |  [0.35714286 0.33333333]\n",
      "Training Epoch 027: | Loss: 0.68457 | Acc: 81.167\n",
      "Validation Accuracy |  41.17647058823529  PPV |  [0.75       0.11111111]  Recall |  [0.42857143 0.33333333]\n",
      "Training Epoch 028: | Loss: 0.65416 | Acc: 84.833\n",
      "Validation Accuracy |  41.17647058823529  PPV |  [0.75       0.11111111]  Recall |  [0.42857143 0.33333333]\n",
      "Training Epoch 029: | Loss: 0.56138 | Acc: 82.333\n",
      "Validation Accuracy |  52.94117647058824  PPV |  [0.8        0.14285714]  Recall |  [0.57142857 0.33333333]\n",
      "Training Epoch 030: | Loss: 0.54455 | Acc: 85.167\n",
      "Validation Accuracy |  58.82352941176471  PPV |  [0.81818182 0.16666667]  Recall |  [0.64285714 0.33333333]\n",
      "Training Epoch 031: | Loss: 0.51074 | Acc: 88.000\n",
      "Validation Accuracy |  58.82352941176471  PPV |  [0.81818182 0.16666667]  Recall |  [0.64285714 0.33333333]\n",
      "Training Epoch 032: | Loss: 0.50391 | Acc: 86.167\n",
      "Validation Accuracy |  58.82352941176471  PPV |  [0.81818182 0.16666667]  Recall |  [0.64285714 0.33333333]\n",
      "Training Epoch 033: | Loss: 0.50717 | Acc: 87.500\n",
      "Validation Accuracy |  58.82352941176471  PPV |  [0.81818182 0.16666667]  Recall |  [0.64285714 0.33333333]\n",
      "Training Epoch 034: | Loss: 0.55221 | Acc: 86.833\n",
      "Validation Accuracy |  58.82352941176471  PPV |  [0.81818182 0.16666667]  Recall |  [0.64285714 0.33333333]\n",
      "Training Epoch 035: | Loss: 0.43444 | Acc: 85.833\n",
      "Validation Accuracy |  64.70588235294117  PPV |  [0.83333333 0.2       ]  Recall |  [0.71428571 0.33333333]\n"
     ]
    }
   ],
   "source": [
    "#model.train() tells PyTorch that you’re in training mode.\n",
    "#Similarly, we’ll call model.eval() when we test our model. We’ll see that below.\n",
    "'''If you’re using layers such as Dropout or BatchNorm which behave differently during training and evaluation, \n",
    "you need to tell PyTorch to act accordingly. While the default mode in PyTorch is the train, \n",
    "so, you don’t explicitly have to write that. But it’s good practice.'''\n",
    "val_acc3 = []\n",
    "train_acc3 = []\n",
    "train_loss3 = []\n",
    "val_loss3 = []\n",
    "\n",
    "model3.train() #Initial training mode\n",
    "for e in range(1, EPOCHS+1):\n",
    "    epoch_loss = 0\n",
    "    epoch_acc = 0\n",
    "    for X_batch, y_batch in train_loader3:\n",
    "        X_batch, y_batch = X_batch.to(device), y_batch.to(device)\n",
    "        optimizer3.zero_grad()\n",
    "        \n",
    "        y_pred = model3(X_batch)\n",
    "        \n",
    "        loss = criterion(y_pred, y_batch)\n",
    "        acc = binary_acc(y_pred, y_batch)\n",
    "        \n",
    "        loss.backward()\n",
    "        optimizer3.step()\n",
    "        \n",
    "        epoch_loss += loss.item()\n",
    "        epoch_acc += acc.item()\n",
    "    \n",
    "    train_acc3.append(epoch_acc/len(train_loader3))\n",
    "    train_loss3.append(epoch_loss/len(train_loader3))\n",
    "    print(f'Training Epoch {e+0:03}: | Loss: {epoch_loss/len(train_loader3):.5f} | Acc: {epoch_acc/len(train_loader3):.3f}')\n",
    "    #Validation metrics here\n",
    "    model3.eval()\n",
    "    #print(\"Evaluation mode\")\n",
    "    y_pred_list = []\n",
    "    test_loader3 = DataLoader(dataset=test_data3, batch_size=test_size1)\n",
    "    with torch.no_grad():\n",
    "        counter = 0\n",
    "        for X_batch in test_loader3:\n",
    "            X_batch = X_batch.to(device)\n",
    "            y_test_pred = model3(X_batch)\n",
    "            y_test_pred = torch.sigmoid(y_test_pred)\n",
    "            y_pred_tag = torch.round(y_test_pred)\n",
    "            y_pred_list.append(y_pred_tag.cpu().numpy())\n",
    "            loss = criterion(y_test_pred,torch.FloatTensor(testing_fold_Y_3))\n",
    "            val_loss3.append(loss)\n",
    "            counter+=1\n",
    "            \n",
    "    y_pred_list = []\n",
    "    test_loader3 = DataLoader(dataset=test_data3, batch_size=1)\n",
    "    with torch.no_grad():\n",
    "        for X_batch in test_loader3:\n",
    "            X_batch = X_batch.to(device)\n",
    "            y_test_pred = model3(X_batch)\n",
    "            y_test_pred = torch.sigmoid(y_test_pred)\n",
    "            y_pred_tag = torch.round(y_test_pred)\n",
    "            y_pred_list.append(y_pred_tag.cpu().numpy())\n",
    "            \n",
    "    y_pred_list = [a.squeeze().tolist() for a in y_pred_list]\n",
    "    y_loss_df = pd.DataFrame(y_pred_list)\n",
    "    accuracy = accuracy_score(torch.FloatTensor(testing_fold_Y_3), y_pred_list)\n",
    "    ppv = precision_score(testing_fold_Y_3, y_pred_list, average=None)\n",
    "    recall = recall_score(testing_fold_Y_3, y_pred_list, average=None)\n",
    "    print(\"Validation Accuracy | \",accuracy*100,\" PPV | \",ppv,\" Recall | \",recall)\n",
    "    val_acc3.append(accuracy*100)\n",
    "    model3.train()\n",
    "    #print(\"Return to training mode\")\n",
    "    \n",
    "    #Need to get validation loss."
   ]
  },
  {
   "cell_type": "code",
   "execution_count": 13,
   "id": "collective-senegal",
   "metadata": {},
   "outputs": [
    {
     "name": "stdout",
     "output_type": "stream",
     "text": [
      "Training Epoch 001: | Loss: 4.73639 | Acc: 52.000\n",
      "Validation Accuracy |  23.52941176470588  PPV |  [1.     0.1875]  Recall |  [0.07142857 1.        ]\n",
      "Training Epoch 002: | Loss: 2.08550 | Acc: 53.333\n",
      "Validation Accuracy |  23.52941176470588  PPV |  [1.     0.1875]  Recall |  [0.07142857 1.        ]\n",
      "Training Epoch 003: | Loss: 1.84831 | Acc: 52.333\n",
      "Validation Accuracy |  23.52941176470588  PPV |  [1.     0.1875]  Recall |  [0.07142857 1.        ]\n",
      "Training Epoch 004: | Loss: 1.50799 | Acc: 52.500\n",
      "Validation Accuracy |  23.52941176470588  PPV |  [1.     0.1875]  Recall |  [0.07142857 1.        ]\n",
      "Training Epoch 005: | Loss: 1.31902 | Acc: 54.500\n",
      "Validation Accuracy |  23.52941176470588  PPV |  [1.     0.1875]  Recall |  [0.07142857 1.        ]\n",
      "Training Epoch 006: | Loss: 1.35897 | Acc: 53.500\n",
      "Validation Accuracy |  23.52941176470588  PPV |  [1.     0.1875]  Recall |  [0.07142857 1.        ]\n",
      "Training Epoch 007: | Loss: 1.29895 | Acc: 53.667\n",
      "Validation Accuracy |  23.52941176470588  PPV |  [1.     0.1875]  Recall |  [0.07142857 1.        ]\n",
      "Training Epoch 008: | Loss: 1.26244 | Acc: 53.000\n",
      "Validation Accuracy |  23.52941176470588  PPV |  [1.     0.1875]  Recall |  [0.07142857 1.        ]\n",
      "Training Epoch 009: | Loss: 1.21270 | Acc: 54.667\n",
      "Validation Accuracy |  23.52941176470588  PPV |  [1.     0.1875]  Recall |  [0.07142857 1.        ]\n",
      "Training Epoch 010: | Loss: 1.20289 | Acc: 55.333\n",
      "Validation Accuracy |  23.52941176470588  PPV |  [1.     0.1875]  Recall |  [0.07142857 1.        ]\n",
      "Training Epoch 011: | Loss: 1.16987 | Acc: 54.167\n",
      "Validation Accuracy |  23.52941176470588  PPV |  [1.     0.1875]  Recall |  [0.07142857 1.        ]\n",
      "Training Epoch 012: | Loss: 1.16679 | Acc: 55.500\n",
      "Validation Accuracy |  23.52941176470588  PPV |  [1.     0.1875]  Recall |  [0.07142857 1.        ]\n",
      "Training Epoch 013: | Loss: 1.13529 | Acc: 55.500\n",
      "Validation Accuracy |  23.52941176470588  PPV |  [1.     0.1875]  Recall |  [0.07142857 1.        ]\n",
      "Training Epoch 014: | Loss: 1.12256 | Acc: 56.667\n",
      "Validation Accuracy |  23.52941176470588  PPV |  [1.     0.1875]  Recall |  [0.07142857 1.        ]\n",
      "Training Epoch 015: | Loss: 1.05256 | Acc: 59.333\n",
      "Validation Accuracy |  23.52941176470588  PPV |  [1.     0.1875]  Recall |  [0.07142857 1.        ]\n",
      "Training Epoch 016: | Loss: 1.03821 | Acc: 61.000\n",
      "Validation Accuracy |  23.52941176470588  PPV |  [1.     0.1875]  Recall |  [0.07142857 1.        ]\n",
      "Training Epoch 017: | Loss: 1.07611 | Acc: 63.000\n",
      "Validation Accuracy |  23.52941176470588  PPV |  [1.     0.1875]  Recall |  [0.07142857 1.        ]\n",
      "Training Epoch 018: | Loss: 1.01135 | Acc: 62.833\n",
      "Validation Accuracy |  23.52941176470588  PPV |  [1.     0.1875]  Recall |  [0.07142857 1.        ]\n",
      "Training Epoch 019: | Loss: 0.93640 | Acc: 63.333\n",
      "Validation Accuracy |  29.411764705882355  PPV |  [1.  0.2]  Recall |  [0.14285714 1.        ]\n",
      "Training Epoch 020: | Loss: 0.91603 | Acc: 67.167\n",
      "Validation Accuracy |  35.294117647058826  PPV |  [1.         0.21428571]  Recall |  [0.21428571 1.        ]\n",
      "Training Epoch 021: | Loss: 0.89202 | Acc: 63.333\n",
      "Validation Accuracy |  35.294117647058826  PPV |  [1.         0.21428571]  Recall |  [0.21428571 1.        ]\n",
      "Training Epoch 022: | Loss: 0.82698 | Acc: 68.333\n",
      "Validation Accuracy |  41.17647058823529  PPV |  [1.         0.23076923]  Recall |  [0.28571429 1.        ]\n",
      "Training Epoch 023: | Loss: 0.80232 | Acc: 73.667\n",
      "Validation Accuracy |  41.17647058823529  PPV |  [1.         0.23076923]  Recall |  [0.28571429 1.        ]\n",
      "Training Epoch 024: | Loss: 0.75846 | Acc: 74.167\n",
      "Validation Accuracy |  41.17647058823529  PPV |  [1.         0.23076923]  Recall |  [0.28571429 1.        ]\n",
      "Training Epoch 025: | Loss: 0.74782 | Acc: 73.333\n",
      "Validation Accuracy |  47.05882352941176  PPV |  [1.   0.25]  Recall |  [0.35714286 1.        ]\n",
      "Training Epoch 026: | Loss: 0.70152 | Acc: 79.833\n",
      "Validation Accuracy |  47.05882352941176  PPV |  [1.   0.25]  Recall |  [0.35714286 1.        ]\n",
      "Training Epoch 027: | Loss: 0.64307 | Acc: 76.667\n",
      "Validation Accuracy |  41.17647058823529  PPV |  [0.83333333 0.18181818]  Recall |  [0.35714286 0.66666667]\n",
      "Training Epoch 028: | Loss: 0.60687 | Acc: 83.000\n",
      "Validation Accuracy |  41.17647058823529  PPV |  [0.83333333 0.18181818]  Recall |  [0.35714286 0.66666667]\n",
      "Training Epoch 029: | Loss: 0.56933 | Acc: 83.500\n",
      "Validation Accuracy |  41.17647058823529  PPV |  [0.83333333 0.18181818]  Recall |  [0.35714286 0.66666667]\n",
      "Training Epoch 030: | Loss: 0.56064 | Acc: 88.167\n",
      "Validation Accuracy |  52.94117647058824  PPV |  [0.875      0.22222222]  Recall |  [0.5        0.66666667]\n",
      "Training Epoch 031: | Loss: 0.50174 | Acc: 87.167\n",
      "Validation Accuracy |  41.17647058823529  PPV |  [0.83333333 0.18181818]  Recall |  [0.35714286 0.66666667]\n",
      "Training Epoch 032: | Loss: 0.45451 | Acc: 86.500\n",
      "Validation Accuracy |  52.94117647058824  PPV |  [0.875      0.22222222]  Recall |  [0.5        0.66666667]\n",
      "Training Epoch 033: | Loss: 0.45755 | Acc: 89.333\n",
      "Validation Accuracy |  58.82352941176471  PPV |  [0.88888889 0.25      ]  Recall |  [0.57142857 0.66666667]\n",
      "Training Epoch 034: | Loss: 0.47510 | Acc: 88.000\n",
      "Validation Accuracy |  47.05882352941176  PPV |  [0.85714286 0.2       ]  Recall |  [0.42857143 0.66666667]\n",
      "Training Epoch 035: | Loss: 0.41211 | Acc: 90.333\n",
      "Validation Accuracy |  76.47058823529412  PPV |  [0.91666667 0.4       ]  Recall |  [0.78571429 0.66666667]\n"
     ]
    }
   ],
   "source": [
    "#model.train() tells PyTorch that you’re in training mode.\n",
    "#Similarly, we’ll call model.eval() when we test our model. We’ll see that below.\n",
    "'''If you’re using layers such as Dropout or BatchNorm which behave differently during training and evaluation, \n",
    "you need to tell PyTorch to act accordingly. While the default mode in PyTorch is the train, \n",
    "so, you don’t explicitly have to write that. But it’s good practice.'''\n",
    "val_acc4 = []\n",
    "train_acc4 = []\n",
    "train_loss4 = []\n",
    "val_loss4 = []\n",
    "\n",
    "model4.train() #Initial training mode\n",
    "for e in range(1, EPOCHS+1):\n",
    "    epoch_loss = 0\n",
    "    epoch_acc = 0\n",
    "    for X_batch, y_batch in train_loader4:\n",
    "        X_batch, y_batch = X_batch.to(device), y_batch.to(device)\n",
    "        optimizer4.zero_grad()\n",
    "        \n",
    "        y_pred = model4(X_batch)\n",
    "        \n",
    "        loss = criterion(y_pred, y_batch)\n",
    "        acc = binary_acc(y_pred, y_batch)\n",
    "        \n",
    "        loss.backward()\n",
    "        optimizer4.step()\n",
    "        \n",
    "        epoch_loss += loss.item()\n",
    "        epoch_acc += acc.item()\n",
    "    \n",
    "    train_acc4.append(epoch_acc/len(train_loader4))\n",
    "    train_loss4.append(epoch_loss/len(train_loader4))\n",
    "    print(f'Training Epoch {e+0:03}: | Loss: {epoch_loss/len(train_loader4):.5f} | Acc: {epoch_acc/len(train_loader4):.3f}')\n",
    "    #Validation metrics here\n",
    "    model4.eval()\n",
    "    #print(\"Evaluation mode\")\n",
    "    y_pred_list = []\n",
    "    test_loader4 = DataLoader(dataset=test_data4, batch_size=test_size1)\n",
    "    with torch.no_grad():\n",
    "        counter = 0\n",
    "        for X_batch in test_loader4:\n",
    "            X_batch = X_batch.to(device)\n",
    "            y_test_pred = model4(X_batch)\n",
    "            y_test_pred = torch.sigmoid(y_test_pred)\n",
    "            y_pred_tag = torch.round(y_test_pred)\n",
    "            y_pred_list.append(y_pred_tag.cpu().numpy())\n",
    "            loss = criterion(y_test_pred,torch.FloatTensor(testing_fold_Y_4))\n",
    "            val_loss4.append(loss)\n",
    "            counter+=1\n",
    "            \n",
    "    y_pred_list = []\n",
    "    test_loader4 = DataLoader(dataset=test_data4, batch_size=1)\n",
    "    with torch.no_grad():\n",
    "        for X_batch in test_loader4:\n",
    "            X_batch = X_batch.to(device)\n",
    "            y_test_pred = model4(X_batch)\n",
    "            y_test_pred = torch.sigmoid(y_test_pred)\n",
    "            y_pred_tag = torch.round(y_test_pred)\n",
    "            y_pred_list.append(y_pred_tag.cpu().numpy())\n",
    "            \n",
    "    y_pred_list = [a.squeeze().tolist() for a in y_pred_list]\n",
    "    y_loss_df = pd.DataFrame(y_pred_list)\n",
    "    accuracy = accuracy_score(torch.FloatTensor(testing_fold_Y_4), y_pred_list)\n",
    "    ppv = precision_score(testing_fold_Y_4, y_pred_list, average=None)\n",
    "    recall = recall_score(testing_fold_Y_4, y_pred_list, average=None)\n",
    "    print(\"Validation Accuracy | \",accuracy*100,\" PPV | \",ppv,\" Recall | \",recall)\n",
    "    val_acc4.append(accuracy*100)\n",
    "    model4.train()\n",
    "    #print(\"Return to training mode\")\n",
    "    \n",
    "    #Need to get validation loss."
   ]
  },
  {
   "cell_type": "code",
   "execution_count": 14,
   "id": "decimal-connection",
   "metadata": {},
   "outputs": [
    {
     "name": "stdout",
     "output_type": "stream",
     "text": [
      "Training Epoch 001: | Loss: 4.26650 | Acc: 53.833\n",
      "Validation Accuracy |  35.294117647058826  PPV |  [1.         0.21428571]  Recall |  [0.21428571 1.        ]\n",
      "Training Epoch 002: | Loss: 2.04720 | Acc: 51.833\n",
      "Validation Accuracy |  23.52941176470588  PPV |  [1.     0.1875]  Recall |  [0.07142857 1.        ]\n",
      "Training Epoch 003: | Loss: 1.92636 | Acc: 50.667\n",
      "Validation Accuracy |  23.52941176470588  PPV |  [1.     0.1875]  Recall |  [0.07142857 1.        ]\n",
      "Training Epoch 004: | Loss: 1.58971 | Acc: 52.667\n",
      "Validation Accuracy |  23.52941176470588  PPV |  [1.     0.1875]  Recall |  [0.07142857 1.        ]\n",
      "Training Epoch 005: | Loss: 1.40365 | Acc: 53.167\n",
      "Validation Accuracy |  29.411764705882355  PPV |  [1.  0.2]  Recall |  [0.14285714 1.        ]\n",
      "Training Epoch 006: | Loss: 1.30721 | Acc: 56.833\n",
      "Validation Accuracy |  29.411764705882355  PPV |  [1.  0.2]  Recall |  [0.14285714 1.        ]\n",
      "Training Epoch 007: | Loss: 1.27445 | Acc: 57.500\n",
      "Validation Accuracy |  29.411764705882355  PPV |  [1.  0.2]  Recall |  [0.14285714 1.        ]\n",
      "Training Epoch 008: | Loss: 1.35855 | Acc: 52.833\n",
      "Validation Accuracy |  23.52941176470588  PPV |  [1.     0.1875]  Recall |  [0.07142857 1.        ]\n",
      "Training Epoch 009: | Loss: 1.30173 | Acc: 52.333\n",
      "Validation Accuracy |  23.52941176470588  PPV |  [1.     0.1875]  Recall |  [0.07142857 1.        ]\n",
      "Training Epoch 010: | Loss: 1.29810 | Acc: 53.167\n",
      "Validation Accuracy |  23.52941176470588  PPV |  [1.     0.1875]  Recall |  [0.07142857 1.        ]\n",
      "Training Epoch 011: | Loss: 1.23427 | Acc: 53.833\n",
      "Validation Accuracy |  23.52941176470588  PPV |  [1.     0.1875]  Recall |  [0.07142857 1.        ]\n",
      "Training Epoch 012: | Loss: 1.23006 | Acc: 55.000\n",
      "Validation Accuracy |  23.52941176470588  PPV |  [1.     0.1875]  Recall |  [0.07142857 1.        ]\n",
      "Training Epoch 013: | Loss: 1.21451 | Acc: 52.667\n",
      "Validation Accuracy |  23.52941176470588  PPV |  [1.     0.1875]  Recall |  [0.07142857 1.        ]\n",
      "Training Epoch 014: | Loss: 1.16428 | Acc: 54.833\n",
      "Validation Accuracy |  29.411764705882355  PPV |  [1.  0.2]  Recall |  [0.14285714 1.        ]\n",
      "Training Epoch 015: | Loss: 1.16263 | Acc: 55.833\n",
      "Validation Accuracy |  29.411764705882355  PPV |  [1.  0.2]  Recall |  [0.14285714 1.        ]\n",
      "Training Epoch 016: | Loss: 1.12885 | Acc: 56.000\n",
      "Validation Accuracy |  29.411764705882355  PPV |  [1.  0.2]  Recall |  [0.14285714 1.        ]\n",
      "Training Epoch 017: | Loss: 1.07832 | Acc: 58.500\n",
      "Validation Accuracy |  29.411764705882355  PPV |  [1.  0.2]  Recall |  [0.14285714 1.        ]\n",
      "Training Epoch 018: | Loss: 1.04156 | Acc: 59.167\n",
      "Validation Accuracy |  35.294117647058826  PPV |  [1.         0.21428571]  Recall |  [0.21428571 1.        ]\n",
      "Training Epoch 019: | Loss: 1.07519 | Acc: 61.333\n",
      "Validation Accuracy |  35.294117647058826  PPV |  [1.         0.21428571]  Recall |  [0.21428571 1.        ]\n",
      "Training Epoch 020: | Loss: 0.99944 | Acc: 61.667\n",
      "Validation Accuracy |  41.17647058823529  PPV |  [1.         0.23076923]  Recall |  [0.28571429 1.        ]\n",
      "Training Epoch 021: | Loss: 0.96180 | Acc: 65.000\n",
      "Validation Accuracy |  58.82352941176471  PPV |  [1.  0.3]  Recall |  [0.5 1. ]\n",
      "Training Epoch 022: | Loss: 0.95791 | Acc: 69.167\n",
      "Validation Accuracy |  52.94117647058824  PPV |  [1.         0.27272727]  Recall |  [0.42857143 1.        ]\n",
      "Training Epoch 023: | Loss: 0.92701 | Acc: 66.167\n",
      "Validation Accuracy |  64.70588235294117  PPV |  [1.         0.33333333]  Recall |  [0.57142857 1.        ]\n",
      "Training Epoch 024: | Loss: 0.92531 | Acc: 67.333\n",
      "Validation Accuracy |  58.82352941176471  PPV |  [1.  0.3]  Recall |  [0.5 1. ]\n",
      "Training Epoch 025: | Loss: 0.87961 | Acc: 69.833\n",
      "Validation Accuracy |  64.70588235294117  PPV |  [0.9        0.28571429]  Recall |  [0.64285714 0.66666667]\n",
      "Training Epoch 026: | Loss: 0.81079 | Acc: 73.333\n",
      "Validation Accuracy |  76.47058823529412  PPV |  [0.91666667 0.4       ]  Recall |  [0.78571429 0.66666667]\n",
      "Training Epoch 027: | Loss: 0.82670 | Acc: 75.833\n",
      "Validation Accuracy |  64.70588235294117  PPV |  [0.9        0.28571429]  Recall |  [0.64285714 0.66666667]\n",
      "Training Epoch 028: | Loss: 0.74399 | Acc: 75.000\n",
      "Validation Accuracy |  76.47058823529412  PPV |  [0.91666667 0.4       ]  Recall |  [0.78571429 0.66666667]\n",
      "Training Epoch 029: | Loss: 0.72391 | Acc: 82.667\n",
      "Validation Accuracy |  76.47058823529412  PPV |  [0.91666667 0.4       ]  Recall |  [0.78571429 0.66666667]\n",
      "Training Epoch 030: | Loss: 0.67421 | Acc: 77.167\n",
      "Validation Accuracy |  76.47058823529412  PPV |  [0.91666667 0.4       ]  Recall |  [0.78571429 0.66666667]\n",
      "Training Epoch 031: | Loss: 0.59561 | Acc: 83.667\n",
      "Validation Accuracy |  76.47058823529412  PPV |  [0.85714286 0.33333333]  Recall |  [0.85714286 0.33333333]\n",
      "Training Epoch 032: | Loss: 0.64393 | Acc: 85.000\n",
      "Validation Accuracy |  76.47058823529412  PPV |  [0.91666667 0.4       ]  Recall |  [0.78571429 0.66666667]\n",
      "Training Epoch 033: | Loss: 0.55473 | Acc: 85.000\n",
      "Validation Accuracy |  82.35294117647058  PPV |  [0.92307692 0.5       ]  Recall |  [0.85714286 0.66666667]\n",
      "Training Epoch 034: | Loss: 0.49749 | Acc: 90.167\n",
      "Validation Accuracy |  76.47058823529412  PPV |  [0.91666667 0.4       ]  Recall |  [0.78571429 0.66666667]\n",
      "Training Epoch 035: | Loss: 0.49088 | Acc: 87.833\n",
      "Validation Accuracy |  82.35294117647058  PPV |  [0.92307692 0.5       ]  Recall |  [0.85714286 0.66666667]\n"
     ]
    }
   ],
   "source": [
    "#model.train() tells PyTorch that you’re in training mode.\n",
    "#Similarly, we’ll call model.eval() when we test our model. We’ll see that below.\n",
    "'''If you’re using layers such as Dropout or BatchNorm which behave differently during training and evaluation, \n",
    "you need to tell PyTorch to act accordingly. While the default mode in PyTorch is the train, \n",
    "so, you don’t explicitly have to write that. But it’s good practice.'''\n",
    "val_acc5 = []\n",
    "train_acc5 = []\n",
    "train_loss5 = []\n",
    "val_loss5 = []\n",
    "\n",
    "model5.train() #Initial training mode\n",
    "for e in range(1, EPOCHS+1):\n",
    "    epoch_loss = 0\n",
    "    epoch_acc = 0\n",
    "    for X_batch, y_batch in train_loader5:\n",
    "        X_batch, y_batch = X_batch.to(device), y_batch.to(device)\n",
    "        optimizer5.zero_grad()\n",
    "        \n",
    "        y_pred = model5(X_batch)\n",
    "        \n",
    "        loss = criterion(y_pred, y_batch)\n",
    "        acc = binary_acc(y_pred, y_batch)\n",
    "        \n",
    "        loss.backward()\n",
    "        optimizer5.step()\n",
    "        \n",
    "        epoch_loss += loss.item()\n",
    "        epoch_acc += acc.item()\n",
    "    \n",
    "    train_acc5.append(epoch_acc/len(train_loader5))\n",
    "    train_loss5.append(epoch_loss/len(train_loader5))\n",
    "    print(f'Training Epoch {e+0:03}: | Loss: {epoch_loss/len(train_loader5):.5f} | Acc: {epoch_acc/len(train_loader5):.3f}')\n",
    "    #Validation metrics here\n",
    "    model5.eval()\n",
    "    #print(\"Evaluation mode\")\n",
    "    y_pred_list = []\n",
    "    test_loader5 = DataLoader(dataset=test_data5, batch_size=test_size1)\n",
    "    with torch.no_grad():\n",
    "        counter = 0\n",
    "        for X_batch in test_loader5:\n",
    "            X_batch = X_batch.to(device)\n",
    "            y_test_pred = model5(X_batch)\n",
    "            y_test_pred = torch.sigmoid(y_test_pred)\n",
    "            y_pred_tag = torch.round(y_test_pred)\n",
    "            y_pred_list.append(y_pred_tag.cpu().numpy())\n",
    "            loss = criterion(y_test_pred,torch.FloatTensor(testing_fold_Y_5))\n",
    "            val_loss5.append(loss)\n",
    "            counter+=1\n",
    "            \n",
    "    y_pred_list = []\n",
    "    test_loader5 = DataLoader(dataset=test_data5, batch_size=1)\n",
    "    with torch.no_grad():\n",
    "        for X_batch in test_loader5:\n",
    "            X_batch = X_batch.to(device)\n",
    "            y_test_pred = model5(X_batch)\n",
    "            y_test_pred = torch.sigmoid(y_test_pred)\n",
    "            y_pred_tag = torch.round(y_test_pred)\n",
    "            y_pred_list.append(y_pred_tag.cpu().numpy())\n",
    "            \n",
    "    y_pred_list = [a.squeeze().tolist() for a in y_pred_list]\n",
    "    y_loss_df = pd.DataFrame(y_pred_list)\n",
    "    accuracy = accuracy_score(torch.FloatTensor(testing_fold_Y_5), y_pred_list)\n",
    "    ppv = precision_score(testing_fold_Y_5, y_pred_list, average=None)\n",
    "    recall = recall_score(testing_fold_Y_5, y_pred_list, average=None)\n",
    "    print(\"Validation Accuracy | \",accuracy*100,\" PPV | \",ppv,\" Recall | \",recall)\n",
    "    val_acc5.append(accuracy*100)\n",
    "    model5.train()\n",
    "    #print(\"Return to training mode\")\n",
    "    \n",
    "    #Need to get validation loss."
   ]
  },
  {
   "cell_type": "code",
   "execution_count": 15,
   "id": "handed-congress",
   "metadata": {},
   "outputs": [
    {
     "name": "stdout",
     "output_type": "stream",
     "text": [
      "Training Epoch 001: | Loss: 3.82328 | Acc: 60.000\n",
      "Validation Accuracy |  35.294117647058826  PPV |  [0.8        0.16666667]  Recall |  [0.28571429 0.66666667]\n",
      "Training Epoch 002: | Loss: 2.02714 | Acc: 52.500\n",
      "Validation Accuracy |  17.647058823529413  PPV |  [0.         0.17647059]  Recall |  [0. 1.]\n",
      "Training Epoch 003: | Loss: 1.89917 | Acc: 53.000\n",
      "Validation Accuracy |  17.647058823529413  PPV |  [0.         0.17647059]  Recall |  [0. 1.]\n",
      "Training Epoch 004: | Loss: 1.49974 | Acc: 55.667\n",
      "Validation Accuracy |  35.294117647058826  PPV |  [1.         0.21428571]  Recall |  [0.21428571 1.        ]\n",
      "Training Epoch 005: | Loss: 1.31490 | Acc: 57.667\n",
      "Validation Accuracy |  35.294117647058826  PPV |  [1.         0.21428571]  Recall |  [0.21428571 1.        ]\n",
      "Training Epoch 006: | Loss: 1.29329 | Acc: 58.833\n",
      "Validation Accuracy |  35.294117647058826  PPV |  [1.         0.21428571]  Recall |  [0.21428571 1.        ]\n",
      "Training Epoch 007: | Loss: 1.20561 | Acc: 56.833\n",
      "Validation Accuracy |  29.411764705882355  PPV |  [1.  0.2]  Recall |  [0.14285714 1.        ]\n",
      "Training Epoch 008: | Loss: 1.21215 | Acc: 55.833\n",
      "Validation Accuracy |  29.411764705882355  PPV |  "
     ]
    },
    {
     "name": "stderr",
     "output_type": "stream",
     "text": [
      "C:\\Users\\mattbeze\\Anaconda3\\envs\\pytorch\\lib\\site-packages\\sklearn\\metrics\\_classification.py:1245: UndefinedMetricWarning: Precision is ill-defined and being set to 0.0 in labels with no predicted samples. Use `zero_division` parameter to control this behavior.\n",
      "  _warn_prf(average, modifier, msg_start, len(result))\n",
      "C:\\Users\\mattbeze\\Anaconda3\\envs\\pytorch\\lib\\site-packages\\sklearn\\metrics\\_classification.py:1245: UndefinedMetricWarning: Precision is ill-defined and being set to 0.0 in labels with no predicted samples. Use `zero_division` parameter to control this behavior.\n",
      "  _warn_prf(average, modifier, msg_start, len(result))\n"
     ]
    },
    {
     "name": "stdout",
     "output_type": "stream",
     "text": [
      "[1.  0.2]  Recall |  [0.14285714 1.        ]\n",
      "Training Epoch 009: | Loss: 1.15691 | Acc: 54.333\n",
      "Validation Accuracy |  29.411764705882355  PPV |  [1.  0.2]  Recall |  [0.14285714 1.        ]\n",
      "Training Epoch 010: | Loss: 1.11933 | Acc: 55.833\n",
      "Validation Accuracy |  35.294117647058826  PPV |  [1.         0.21428571]  Recall |  [0.21428571 1.        ]\n",
      "Training Epoch 011: | Loss: 1.11497 | Acc: 57.167\n",
      "Validation Accuracy |  35.294117647058826  PPV |  [1.         0.21428571]  Recall |  [0.21428571 1.        ]\n",
      "Training Epoch 012: | Loss: 1.06528 | Acc: 60.333\n",
      "Validation Accuracy |  41.17647058823529  PPV |  [1.         0.23076923]  Recall |  [0.28571429 1.        ]\n",
      "Training Epoch 013: | Loss: 1.08136 | Acc: 61.667\n",
      "Validation Accuracy |  35.294117647058826  PPV |  [0.8        0.16666667]  Recall |  [0.28571429 0.66666667]\n",
      "Training Epoch 014: | Loss: 1.04353 | Acc: 63.000\n",
      "Validation Accuracy |  41.17647058823529  PPV |  [1.         0.23076923]  Recall |  [0.28571429 1.        ]\n",
      "Training Epoch 015: | Loss: 1.02037 | Acc: 63.833\n",
      "Validation Accuracy |  29.411764705882355  PPV |  [0.66666667 0.09090909]  Recall |  [0.28571429 0.33333333]\n",
      "Training Epoch 016: | Loss: 0.99026 | Acc: 65.500\n",
      "Validation Accuracy |  29.411764705882355  PPV |  [0.66666667 0.09090909]  Recall |  [0.28571429 0.33333333]\n",
      "Training Epoch 017: | Loss: 0.98335 | Acc: 63.667\n",
      "Validation Accuracy |  29.411764705882355  PPV |  [0.66666667 0.09090909]  Recall |  [0.28571429 0.33333333]\n",
      "Training Epoch 018: | Loss: 0.93845 | Acc: 67.167\n",
      "Validation Accuracy |  29.411764705882355  PPV |  [0.66666667 0.09090909]  Recall |  [0.28571429 0.33333333]\n",
      "Training Epoch 019: | Loss: 0.91394 | Acc: 65.833\n",
      "Validation Accuracy |  29.411764705882355  PPV |  [0.66666667 0.09090909]  Recall |  [0.28571429 0.33333333]\n",
      "Training Epoch 020: | Loss: 0.92638 | Acc: 70.833\n",
      "Validation Accuracy |  29.411764705882355  PPV |  [0.66666667 0.09090909]  Recall |  [0.28571429 0.33333333]\n",
      "Training Epoch 021: | Loss: 0.89652 | Acc: 65.500\n",
      "Validation Accuracy |  29.411764705882355  PPV |  [0.66666667 0.09090909]  Recall |  [0.28571429 0.33333333]\n",
      "Training Epoch 022: | Loss: 0.87233 | Acc: 65.833\n",
      "Validation Accuracy |  29.411764705882355  PPV |  [0.66666667 0.09090909]  Recall |  [0.28571429 0.33333333]\n",
      "Training Epoch 023: | Loss: 0.80166 | Acc: 73.333\n",
      "Validation Accuracy |  58.82352941176471  PPV |  [0.81818182 0.16666667]  Recall |  [0.64285714 0.33333333]\n",
      "Training Epoch 024: | Loss: 0.76691 | Acc: 78.833\n",
      "Validation Accuracy |  52.94117647058824  PPV |  [0.8        0.14285714]  Recall |  [0.57142857 0.33333333]\n",
      "Training Epoch 025: | Loss: 0.72627 | Acc: 75.167\n",
      "Validation Accuracy |  35.294117647058826  PPV |  [0.71428571 0.1       ]  Recall |  [0.35714286 0.33333333]\n",
      "Training Epoch 026: | Loss: 0.70506 | Acc: 80.667\n",
      "Validation Accuracy |  58.82352941176471  PPV |  [0.81818182 0.16666667]  Recall |  [0.64285714 0.33333333]\n",
      "Training Epoch 027: | Loss: 0.70350 | Acc: 82.667\n",
      "Validation Accuracy |  52.94117647058824  PPV |  [0.8        0.14285714]  Recall |  [0.57142857 0.33333333]\n",
      "Training Epoch 028: | Loss: 0.63621 | Acc: 78.833\n",
      "Validation Accuracy |  58.82352941176471  PPV |  [0.81818182 0.16666667]  Recall |  [0.64285714 0.33333333]\n",
      "Training Epoch 029: | Loss: 0.60572 | Acc: 84.833\n",
      "Validation Accuracy |  58.82352941176471  PPV |  [0.81818182 0.16666667]  Recall |  [0.64285714 0.33333333]\n",
      "Training Epoch 030: | Loss: 0.54399 | Acc: 86.000\n",
      "Validation Accuracy |  58.82352941176471  PPV |  [0.81818182 0.16666667]  Recall |  [0.64285714 0.33333333]\n",
      "Training Epoch 031: | Loss: 0.53650 | Acc: 85.667\n",
      "Validation Accuracy |  58.82352941176471  PPV |  [0.81818182 0.16666667]  Recall |  [0.64285714 0.33333333]\n",
      "Training Epoch 032: | Loss: 0.50070 | Acc: 87.500\n",
      "Validation Accuracy |  82.35294117647058  PPV |  [0.86666667 0.5       ]  Recall |  [0.92857143 0.33333333]\n",
      "Training Epoch 033: | Loss: 0.50027 | Acc: 88.000\n",
      "Validation Accuracy |  64.70588235294117  PPV |  [0.83333333 0.2       ]  Recall |  [0.71428571 0.33333333]\n",
      "Training Epoch 034: | Loss: 0.45109 | Acc: 89.333\n",
      "Validation Accuracy |  76.47058823529412  PPV |  [0.85714286 0.33333333]  Recall |  [0.85714286 0.33333333]\n",
      "Training Epoch 035: | Loss: 0.43604 | Acc: 89.833\n",
      "Validation Accuracy |  64.70588235294117  PPV |  [0.83333333 0.2       ]  Recall |  [0.71428571 0.33333333]\n"
     ]
    }
   ],
   "source": [
    "#model.train() tells PyTorch that you’re in training mode.\n",
    "#Similarly, we’ll call model.eval() when we test our model. We’ll see that below.\n",
    "'''If you’re using layers such as Dropout or BatchNorm which behave differently during training and evaluation, \n",
    "you need to tell PyTorch to act accordingly. While the default mode in PyTorch is the train, \n",
    "so, you don’t explicitly have to write that. But it’s good practice.'''\n",
    "val_acc6 = []\n",
    "train_acc6 = []\n",
    "train_loss6 = []\n",
    "val_loss6 = []\n",
    "\n",
    "model6.train() #Initial training mode\n",
    "for e in range(1, EPOCHS+1):\n",
    "    epoch_loss = 0\n",
    "    epoch_acc = 0\n",
    "    for X_batch, y_batch in train_loader6:\n",
    "        X_batch, y_batch = X_batch.to(device), y_batch.to(device)\n",
    "        optimizer6.zero_grad()\n",
    "        \n",
    "        y_pred = model6(X_batch)\n",
    "        \n",
    "        loss = criterion(y_pred, y_batch)\n",
    "        acc = binary_acc(y_pred, y_batch)\n",
    "        \n",
    "        loss.backward()\n",
    "        optimizer6.step()\n",
    "        \n",
    "        epoch_loss += loss.item()\n",
    "        epoch_acc += acc.item()\n",
    "    \n",
    "    train_acc6.append(epoch_acc/len(train_loader6))\n",
    "    train_loss6.append(epoch_loss/len(train_loader6))\n",
    "    print(f'Training Epoch {e+0:03}: | Loss: {epoch_loss/len(train_loader6):.5f} | Acc: {epoch_acc/len(train_loader6):.3f}')\n",
    "    #Validation metrics here\n",
    "    model6.eval()\n",
    "    #print(\"Evaluation mode\")\n",
    "    y_pred_list = []\n",
    "    test_loader6 = DataLoader(dataset=test_data6, batch_size=test_size1)\n",
    "    with torch.no_grad():\n",
    "        counter = 0\n",
    "        for X_batch in test_loader6:\n",
    "            X_batch = X_batch.to(device)\n",
    "            y_test_pred = model6(X_batch)\n",
    "            y_test_pred = torch.sigmoid(y_test_pred)\n",
    "            y_pred_tag = torch.round(y_test_pred)\n",
    "            y_pred_list.append(y_pred_tag.cpu().numpy())\n",
    "            loss = criterion(y_test_pred,torch.FloatTensor(testing_fold_Y_6))\n",
    "            val_loss6.append(loss)\n",
    "            counter+=1\n",
    "            \n",
    "    y_pred_list = []\n",
    "    test_loader6 = DataLoader(dataset=test_data6, batch_size=1)\n",
    "    with torch.no_grad():\n",
    "        for X_batch in test_loader6:\n",
    "            X_batch = X_batch.to(device)\n",
    "            y_test_pred = model6(X_batch)\n",
    "            y_test_pred = torch.sigmoid(y_test_pred)\n",
    "            y_pred_tag = torch.round(y_test_pred)\n",
    "            y_pred_list.append(y_pred_tag.cpu().numpy())\n",
    "            \n",
    "    y_pred_list = [a.squeeze().tolist() for a in y_pred_list]\n",
    "    y_loss_df = pd.DataFrame(y_pred_list)\n",
    "    accuracy = accuracy_score(torch.FloatTensor(testing_fold_Y_6), y_pred_list)\n",
    "    ppv = precision_score(testing_fold_Y_6, y_pred_list, average=None)\n",
    "    recall = recall_score(testing_fold_Y_6, y_pred_list, average=None)\n",
    "    print(\"Validation Accuracy | \",accuracy*100,\" PPV | \",ppv,\" Recall | \",recall)\n",
    "    val_acc6.append(accuracy*100)\n",
    "    model6.train()\n",
    "    #print(\"Return to training mode\")\n",
    "    \n",
    "    #Need to get validation loss."
   ]
  },
  {
   "cell_type": "code",
   "execution_count": 16,
   "id": "quick-savage",
   "metadata": {},
   "outputs": [
    {
     "name": "stdout",
     "output_type": "stream",
     "text": [
      "Training Epoch 001: | Loss: 4.78700 | Acc: 50.000\n",
      "Validation Accuracy |  23.52941176470588  PPV |  [1.     0.1875]  Recall |  [0.07142857 1.        ]\n",
      "Training Epoch 002: | Loss: 1.98224 | Acc: 54.167\n",
      "Validation Accuracy |  17.647058823529413  PPV |  [0.         0.17647059]  Recall |  [0. 1.]\n",
      "Training Epoch 003: | Loss: 2.04219 | Acc: 51.667\n",
      "Validation Accuracy |  17.647058823529413  PPV |  [0.         0.17647059]  Recall |  [0. 1.]\n",
      "Training Epoch 004: | Loss: 1.79750 | Acc: 51.167\n",
      "Validation Accuracy |  17.647058823529413  PPV |  [0.         0.17647059]  Recall |  [0. 1.]\n",
      "Training Epoch 005: | Loss: 1.54250 | Acc: 51.167\n",
      "Validation Accuracy |  17.647058823529413  PPV |  [0.         0.17647059]  Recall |  [0. 1.]\n",
      "Training Epoch 006: | Loss: 1.44620 | Acc: 53.167\n",
      "Validation Accuracy |  23.52941176470588  PPV |  [1.     0.1875]  Recall |  [0.07142857 1.        ]\n",
      "Training Epoch 007: | Loss: 1.37104 | Acc: 54.333\n",
      "Validation Accuracy |  23.52941176470588  PPV |  [1.     0.1875]  Recall |  [0.07142857 1.        ]\n",
      "Training Epoch 008: | Loss: 1.39083 | Acc: 54.333\n",
      "Validation Accuracy |  23.52941176470588  PPV |  [1.     0.1875]  Recall |  [0.07142857 1.        ]\n"
     ]
    },
    {
     "name": "stderr",
     "output_type": "stream",
     "text": [
      "C:\\Users\\mattbeze\\Anaconda3\\envs\\pytorch\\lib\\site-packages\\sklearn\\metrics\\_classification.py:1245: UndefinedMetricWarning: Precision is ill-defined and being set to 0.0 in labels with no predicted samples. Use `zero_division` parameter to control this behavior.\n",
      "  _warn_prf(average, modifier, msg_start, len(result))\n",
      "C:\\Users\\mattbeze\\Anaconda3\\envs\\pytorch\\lib\\site-packages\\sklearn\\metrics\\_classification.py:1245: UndefinedMetricWarning: Precision is ill-defined and being set to 0.0 in labels with no predicted samples. Use `zero_division` parameter to control this behavior.\n",
      "  _warn_prf(average, modifier, msg_start, len(result))\n",
      "C:\\Users\\mattbeze\\Anaconda3\\envs\\pytorch\\lib\\site-packages\\sklearn\\metrics\\_classification.py:1245: UndefinedMetricWarning: Precision is ill-defined and being set to 0.0 in labels with no predicted samples. Use `zero_division` parameter to control this behavior.\n",
      "  _warn_prf(average, modifier, msg_start, len(result))\n",
      "C:\\Users\\mattbeze\\Anaconda3\\envs\\pytorch\\lib\\site-packages\\sklearn\\metrics\\_classification.py:1245: UndefinedMetricWarning: Precision is ill-defined and being set to 0.0 in labels with no predicted samples. Use `zero_division` parameter to control this behavior.\n",
      "  _warn_prf(average, modifier, msg_start, len(result))\n"
     ]
    },
    {
     "name": "stdout",
     "output_type": "stream",
     "text": [
      "Training Epoch 009: | Loss: 1.29761 | Acc: 54.000\n",
      "Validation Accuracy |  23.52941176470588  PPV |  [1.     0.1875]  Recall |  [0.07142857 1.        ]\n",
      "Training Epoch 010: | Loss: 1.32629 | Acc: 54.000\n",
      "Validation Accuracy |  23.52941176470588  PPV |  [1.     0.1875]  Recall |  [0.07142857 1.        ]\n",
      "Training Epoch 011: | Loss: 1.27092 | Acc: 53.667\n",
      "Validation Accuracy |  23.52941176470588  PPV |  [1.     0.1875]  Recall |  [0.07142857 1.        ]\n",
      "Training Epoch 012: | Loss: 1.30352 | Acc: 53.167\n",
      "Validation Accuracy |  23.52941176470588  PPV |  [1.     0.1875]  Recall |  [0.07142857 1.        ]\n",
      "Training Epoch 013: | Loss: 1.24505 | Acc: 54.333\n",
      "Validation Accuracy |  23.52941176470588  PPV |  [1.     0.1875]  Recall |  [0.07142857 1.        ]\n",
      "Training Epoch 014: | Loss: 1.20784 | Acc: 55.667\n",
      "Validation Accuracy |  23.52941176470588  PPV |  [1.     0.1875]  Recall |  [0.07142857 1.        ]\n",
      "Training Epoch 015: | Loss: 1.21550 | Acc: 56.000\n",
      "Validation Accuracy |  29.411764705882355  PPV |  [1.  0.2]  Recall |  [0.14285714 1.        ]\n",
      "Training Epoch 016: | Loss: 1.22616 | Acc: 55.500\n",
      "Validation Accuracy |  23.52941176470588  PPV |  [1.     0.1875]  Recall |  [0.07142857 1.        ]\n",
      "Training Epoch 017: | Loss: 1.18021 | Acc: 56.167\n",
      "Validation Accuracy |  29.411764705882355  PPV |  [1.  0.2]  Recall |  [0.14285714 1.        ]\n",
      "Training Epoch 018: | Loss: 1.17268 | Acc: 55.667\n",
      "Validation Accuracy |  41.17647058823529  PPV |  [1.         0.23076923]  Recall |  [0.28571429 1.        ]\n",
      "Training Epoch 019: | Loss: 1.12893 | Acc: 60.167\n",
      "Validation Accuracy |  41.17647058823529  PPV |  [1.         0.23076923]  Recall |  [0.28571429 1.        ]\n",
      "Training Epoch 020: | Loss: 1.09150 | Acc: 60.167\n",
      "Validation Accuracy |  41.17647058823529  PPV |  [1.         0.23076923]  Recall |  [0.28571429 1.        ]\n",
      "Training Epoch 021: | Loss: 1.12859 | Acc: 62.333\n",
      "Validation Accuracy |  41.17647058823529  PPV |  [1.         0.23076923]  Recall |  [0.28571429 1.        ]\n",
      "Training Epoch 022: | Loss: 1.05332 | Acc: 62.167\n",
      "Validation Accuracy |  47.05882352941176  PPV |  [1.   0.25]  Recall |  [0.35714286 1.        ]\n",
      "Training Epoch 023: | Loss: 1.00848 | Acc: 70.333\n",
      "Validation Accuracy |  52.94117647058824  PPV |  [1.         0.27272727]  Recall |  [0.42857143 1.        ]\n",
      "Training Epoch 024: | Loss: 1.03402 | Acc: 68.833\n",
      "Validation Accuracy |  41.17647058823529  PPV |  [1.         0.23076923]  Recall |  [0.28571429 1.        ]\n",
      "Training Epoch 025: | Loss: 0.95686 | Acc: 65.167\n",
      "Validation Accuracy |  47.05882352941176  PPV |  [1.   0.25]  Recall |  [0.35714286 1.        ]\n",
      "Training Epoch 026: | Loss: 0.89306 | Acc: 73.000\n",
      "Validation Accuracy |  64.70588235294117  PPV |  [1.         0.33333333]  Recall |  [0.57142857 1.        ]\n",
      "Training Epoch 027: | Loss: 0.88678 | Acc: 75.333\n",
      "Validation Accuracy |  47.05882352941176  PPV |  [1.   0.25]  Recall |  [0.35714286 1.        ]\n",
      "Training Epoch 028: | Loss: 0.82775 | Acc: 69.667\n",
      "Validation Accuracy |  58.82352941176471  PPV |  [1.  0.3]  Recall |  [0.5 1. ]\n",
      "Training Epoch 029: | Loss: 0.88421 | Acc: 78.000\n",
      "Validation Accuracy |  64.70588235294117  PPV |  [1.         0.33333333]  Recall |  [0.57142857 1.        ]\n",
      "Training Epoch 030: | Loss: 0.77108 | Acc: 78.333\n",
      "Validation Accuracy |  58.82352941176471  PPV |  [1.  0.3]  Recall |  [0.5 1. ]\n",
      "Training Epoch 031: | Loss: 0.71887 | Acc: 81.167\n",
      "Validation Accuracy |  70.58823529411765  PPV |  [1.    0.375]  Recall |  [0.64285714 1.        ]\n",
      "Training Epoch 032: | Loss: 0.71316 | Acc: 84.000\n",
      "Validation Accuracy |  70.58823529411765  PPV |  [1.    0.375]  Recall |  [0.64285714 1.        ]\n",
      "Training Epoch 033: | Loss: 0.65161 | Acc: 84.167\n",
      "Validation Accuracy |  70.58823529411765  PPV |  [1.    0.375]  Recall |  [0.64285714 1.        ]\n",
      "Training Epoch 034: | Loss: 0.62070 | Acc: 85.667\n",
      "Validation Accuracy |  76.47058823529412  PPV |  [1.         0.42857143]  Recall |  [0.71428571 1.        ]\n",
      "Training Epoch 035: | Loss: 0.58856 | Acc: 87.000\n",
      "Validation Accuracy |  76.47058823529412  PPV |  [1.         0.42857143]  Recall |  [0.71428571 1.        ]\n"
     ]
    }
   ],
   "source": [
    "#model.train() tells PyTorch that you’re in training mode.\n",
    "#Similarly, we’ll call model.eval() when we test our model. We’ll see that below.\n",
    "'''If you’re using layers such as Dropout or BatchNorm which behave differently during training and evaluation, \n",
    "you need to tell PyTorch to act accordingly. While the default mode in PyTorch is the train, \n",
    "so, you don’t explicitly have to write that. But it’s good practice.'''\n",
    "val_acc7 = []\n",
    "train_acc7 = []\n",
    "train_loss7 = []\n",
    "val_loss7 = []\n",
    "\n",
    "model7.train() #Initial training mode\n",
    "for e in range(1, EPOCHS+1):\n",
    "    epoch_loss = 0\n",
    "    epoch_acc = 0\n",
    "    for X_batch, y_batch in train_loader7:\n",
    "        X_batch, y_batch = X_batch.to(device), y_batch.to(device)\n",
    "        optimizer7.zero_grad()\n",
    "        \n",
    "        y_pred = model7(X_batch)\n",
    "        \n",
    "        loss = criterion(y_pred, y_batch)\n",
    "        acc = binary_acc(y_pred, y_batch)\n",
    "        \n",
    "        loss.backward()\n",
    "        optimizer7.step()\n",
    "        \n",
    "        epoch_loss += loss.item()\n",
    "        epoch_acc += acc.item()\n",
    "    \n",
    "    train_acc7.append(epoch_acc/len(train_loader7))\n",
    "    train_loss7.append(epoch_loss/len(train_loader7))\n",
    "    print(f'Training Epoch {e+0:03}: | Loss: {epoch_loss/len(train_loader7):.5f} | Acc: {epoch_acc/len(train_loader7):.3f}')\n",
    "    #Validation metrics here\n",
    "    model7.eval()\n",
    "    #print(\"Evaluation mode\")\n",
    "    y_pred_list = []\n",
    "    test_loader7 = DataLoader(dataset=test_data7, batch_size=test_size1)\n",
    "    with torch.no_grad():\n",
    "        counter = 0\n",
    "        for X_batch in test_loader7:\n",
    "            X_batch = X_batch.to(device)\n",
    "            y_test_pred = model7(X_batch)\n",
    "            y_test_pred = torch.sigmoid(y_test_pred)\n",
    "            y_pred_tag = torch.round(y_test_pred)\n",
    "            y_pred_list.append(y_pred_tag.cpu().numpy())\n",
    "            loss = criterion(y_test_pred,torch.FloatTensor(testing_fold_Y_7))\n",
    "            val_loss7.append(loss)\n",
    "            counter+=1\n",
    "            \n",
    "    y_pred_list = []\n",
    "    test_loader7 = DataLoader(dataset=test_data7, batch_size=1)\n",
    "    with torch.no_grad():\n",
    "        for X_batch in test_loader7:\n",
    "            X_batch = X_batch.to(device)\n",
    "            y_test_pred = model7(X_batch)\n",
    "            y_test_pred = torch.sigmoid(y_test_pred)\n",
    "            y_pred_tag = torch.round(y_test_pred)\n",
    "            y_pred_list.append(y_pred_tag.cpu().numpy())\n",
    "            \n",
    "    y_pred_list = [a.squeeze().tolist() for a in y_pred_list]\n",
    "    y_loss_df = pd.DataFrame(y_pred_list)\n",
    "    accuracy = accuracy_score(torch.FloatTensor(testing_fold_Y_7), y_pred_list)\n",
    "    ppv = precision_score(testing_fold_Y_7, y_pred_list, average=None)\n",
    "    recall = recall_score(testing_fold_Y_7, y_pred_list, average=None)\n",
    "    print(\"Validation Accuracy | \",accuracy*100,\" PPV | \",ppv,\" Recall | \",recall)\n",
    "    val_acc7.append(accuracy*100)\n",
    "    model7.train()\n",
    "    #print(\"Return to training mode\")\n",
    "    \n",
    "    #Need to get validation loss."
   ]
  },
  {
   "cell_type": "code",
   "execution_count": 17,
   "id": "empirical-college",
   "metadata": {},
   "outputs": [
    {
     "data": {
      "image/png": "[encoded data removed]",
      "text/plain": [
       "<Figure size 432x288 with 1 Axes>"
      ]
     },
     "metadata": {
      "needs_background": "light"
     },
     "output_type": "display_data"
    },
    {
     "data": {
      "image/png": "[encoded data removed]",
      "text/plain": [
       "<Figure size 432x288 with 1 Axes>"
      ]
     },
     "metadata": {
      "needs_background": "light"
     },
     "output_type": "display_data"
    },
    {
     "data": {
      "image/png": "[encoded data removed]",
      "text/plain": [
       "<Figure size 432x288 with 1 Axes>"
      ]
     },
     "metadata": {
      "needs_background": "light"
     },
     "output_type": "display_data"
    },
    {
     "data": {
      "image/png": "[encoded data removed]",
      "text/plain": [
       "<Figure size 432x288 with 1 Axes>"
      ]
     },
     "metadata": {
      "needs_background": "light"
     },
     "output_type": "display_data"
    },
    {
     "data": {
      "image/png": "[encoded data removed]",
      "text/plain": [
       "<Figure size 432x288 with 1 Axes>"
      ]
     },
     "metadata": {
      "needs_background": "light"
     },
     "output_type": "display_data"
    },
    {
     "data": {
      "image/png": "[encoded data removed]",
      "text/plain": [
       "<Figure size 432x288 with 1 Axes>"
      ]
     },
     "metadata": {
      "needs_background": "light"
     },
     "output_type": "display_data"
    },
    {
     "data": {
      "image/png": "[encoded data removed]",
      "text/plain": [
       "<Figure size 432x288 with 1 Axes>"
      ]
     },
     "metadata": {
      "needs_background": "light"
     },
     "output_type": "display_data"
    },
    {
     "data": {
      "image/png": "[encoded data removed]",
      "text/plain": [
       "<Figure size 432x288 with 1 Axes>"
      ]
     },
     "metadata": {
      "needs_background": "light"
     },
     "output_type": "display_data"
    },
    {
     "data": {
      "image/png": "[encoded data removed]",
      "text/plain": [
       "<Figure size 432x288 with 1 Axes>"
      ]
     },
     "metadata": {
      "needs_background": "light"
     },
     "output_type": "display_data"
    },
    {
     "data": {
      "image/png": "[encoded data removed]",
      "text/plain": [
       "<Figure size 432x288 with 1 Axes>"
      ]
     },
     "metadata": {
      "needs_background": "light"
     },
     "output_type": "display_data"
    },
    {
     "data": {
      "image/png": "[encoded data removed]",
      "text/plain": [
       "<Figure size 432x288 with 1 Axes>"
      ]
     },
     "metadata": {
      "needs_background": "light"
     },
     "output_type": "display_data"
    },
    {
     "data": {
      "image/png": "[encoded data removed]",
      "text/plain": [
       "<Figure size 432x288 with 1 Axes>"
      ]
     },
     "metadata": {
      "needs_background": "light"
     },
     "output_type": "display_data"
    },
    {
     "data": {
      "image/png": "[encoded data removed]",
      "text/plain": [
       "<Figure size 432x288 with 1 Axes>"
      ]
     },
     "metadata": {
      "needs_background": "light"
     },
     "output_type": "display_data"
    },
    {
     "data": {
      "image/png": "[encoded data removed]",
      "text/plain": [
       "<Figure size 432x288 with 1 Axes>"
      ]
     },
     "metadata": {
      "needs_background": "light"
     },
     "output_type": "display_data"
    },
    {
     "data": {
      "image/png": "[encoded data removed]",
      "text/plain": [
       "<Figure size 432x288 with 1 Axes>"
      ]
     },
     "metadata": {
      "needs_background": "light"
     },
     "output_type": "display_data"
    },
    {
     "data": {
      "image/png": "[encoded data removed]",
      "text/plain": [
       "<Figure size 432x288 with 1 Axes>"
      ]
     },
     "metadata": {
      "needs_background": "light"
     },
     "output_type": "display_data"
    }
   ],
   "source": [
    "#Plotting loss\n",
    "plt.plot(train_loss)\n",
    "plt.plot(val_loss)\n",
    "plt.title('model loss')\n",
    "plt.ylabel('loss')\n",
    "plt.xlabel('epoch')\n",
    "plt.legend(['train', 'validation'], loc='upper left')\n",
    "plt.axis([0, EPOCHS-1, 0.0, 1.5])\n",
    "plt.show()\n",
    "\n",
    "#Plotting Accuracy\n",
    "plt.plot(train_acc)\n",
    "plt.plot(val_acc)\n",
    "plt.title('model accuracy')\n",
    "plt.ylabel('acc')\n",
    "plt.xlabel('epoch')\n",
    "plt.legend(['train_acc', 'val_acc'], loc='upper left')\n",
    "plt.axis([0, EPOCHS-1, 0.0, 105])\n",
    "plt.show()\n",
    "\n",
    "#Plotting loss\n",
    "plt.plot(train_loss1)\n",
    "plt.plot(val_loss1)\n",
    "plt.title('model1 loss')\n",
    "plt.ylabel('loss')\n",
    "plt.xlabel('epoch')\n",
    "plt.legend(['train', 'validation'], loc='upper left')\n",
    "plt.axis([0, EPOCHS-1, 0.0, 1.5])\n",
    "plt.show()\n",
    "\n",
    "#Plotting Accuracy\n",
    "plt.plot(train_acc1)\n",
    "plt.plot(val_acc1)\n",
    "plt.title('model1 accuracy')\n",
    "plt.ylabel('acc')\n",
    "plt.xlabel('epoch')\n",
    "plt.legend(['train_acc', 'val_acc'], loc='upper left')\n",
    "plt.axis([0, EPOCHS-1, 0.0, 105])\n",
    "plt.show()\n",
    "\n",
    "#Plotting loss\n",
    "plt.plot(train_loss2)\n",
    "plt.plot(val_loss2)\n",
    "plt.title('model2 loss')\n",
    "plt.ylabel('loss')\n",
    "plt.xlabel('epoch')\n",
    "plt.legend(['train', 'validation'], loc='upper left')\n",
    "plt.axis([0, EPOCHS-1, 0.0, 1.5])\n",
    "plt.show()\n",
    "\n",
    "#Plotting Accuracy\n",
    "plt.plot(train_acc2)\n",
    "plt.plot(val_acc2)\n",
    "plt.title('model2 accuracy')\n",
    "plt.ylabel('acc')\n",
    "plt.xlabel('epoch')\n",
    "plt.legend(['train_acc', 'val_acc'], loc='upper left')\n",
    "plt.axis([0, EPOCHS-1, 0.0, 105])\n",
    "plt.show()\n",
    "\n",
    "#Plotting loss\n",
    "plt.plot(train_loss3)\n",
    "plt.plot(val_loss3)\n",
    "plt.title('model3 loss')\n",
    "plt.ylabel('loss')\n",
    "plt.xlabel('epoch')\n",
    "plt.legend(['train', 'validation'], loc='upper left')\n",
    "plt.axis([0, EPOCHS-1, 0.0, 1.5])\n",
    "plt.show()\n",
    "\n",
    "#Plotting Accuracy\n",
    "plt.plot(train_acc3)\n",
    "plt.plot(val_acc3)\n",
    "plt.title('model3 accuracy')\n",
    "plt.ylabel('acc')\n",
    "plt.xlabel('epoch')\n",
    "plt.legend(['train_acc', 'val_acc'], loc='upper left')\n",
    "plt.axis([0, EPOCHS-1, 0.0, 105])\n",
    "plt.show()\n",
    "\n",
    "#Plotting loss\n",
    "plt.plot(train_loss4)\n",
    "plt.plot(val_loss4)\n",
    "plt.title('model4 loss')\n",
    "plt.ylabel('loss')\n",
    "plt.xlabel('epoch')\n",
    "plt.legend(['train', 'validation'], loc='upper left')\n",
    "plt.axis([0, EPOCHS-1, 0.0, 1.5])\n",
    "plt.show()\n",
    "\n",
    "#Plotting Accuracy\n",
    "plt.plot(train_acc4)\n",
    "plt.plot(val_acc4)\n",
    "plt.title('model4 accuracy')\n",
    "plt.ylabel('acc')\n",
    "plt.xlabel('epoch')\n",
    "plt.legend(['train_acc', 'val_acc'], loc='upper left')\n",
    "plt.axis([0, EPOCHS-1, 0.0, 105])\n",
    "plt.show()\n",
    "\n",
    "#Plotting loss\n",
    "plt.plot(train_loss5)\n",
    "plt.plot(val_loss5)\n",
    "plt.title('model5 loss')\n",
    "plt.ylabel('loss')\n",
    "plt.xlabel('epoch')\n",
    "plt.legend(['train', 'validation'], loc='upper left')\n",
    "plt.axis([0, EPOCHS-1, 0.0, 1.5])\n",
    "plt.show()\n",
    "\n",
    "#Plotting Accuracy\n",
    "plt.plot(train_acc5)\n",
    "plt.plot(val_acc5)\n",
    "plt.title('model5 accuracy')\n",
    "plt.ylabel('acc')\n",
    "plt.xlabel('epoch')\n",
    "plt.legend(['train_acc', 'val_acc'], loc='upper left')\n",
    "plt.axis([0, EPOCHS-1, 0.0, 105])\n",
    "plt.show()\n",
    "\n",
    "#Plotting loss\n",
    "plt.plot(train_loss6)\n",
    "plt.plot(val_loss6)\n",
    "plt.title('model6 loss')\n",
    "plt.ylabel('loss')\n",
    "plt.xlabel('epoch')\n",
    "plt.legend(['train', 'validation'], loc='upper left')\n",
    "plt.axis([0, EPOCHS-1, 0.0, 1.5])\n",
    "plt.show()\n",
    "\n",
    "#Plotting Accuracy\n",
    "plt.plot(train_acc6)\n",
    "plt.plot(val_acc6)\n",
    "plt.title('model6 accuracy')\n",
    "plt.ylabel('acc')\n",
    "plt.xlabel('epoch')\n",
    "plt.legend(['train_acc', 'val_acc'], loc='upper left')\n",
    "plt.axis([0, EPOCHS-1, 0.0, 105])\n",
    "plt.show()\n",
    "\n",
    "#Plotting loss\n",
    "plt.plot(train_loss7)\n",
    "plt.plot(val_loss7)\n",
    "plt.title('model7 loss')\n",
    "plt.ylabel('loss')\n",
    "plt.xlabel('epoch')\n",
    "plt.legend(['train', 'validation'], loc='upper left')\n",
    "plt.axis([0, EPOCHS-1, 0.0, 1.5])\n",
    "plt.show()\n",
    "\n",
    "#Plotting Accuracy\n",
    "plt.plot(train_acc7)\n",
    "plt.plot(val_acc7)\n",
    "plt.title('model7 accuracy')\n",
    "plt.ylabel('acc')\n",
    "plt.xlabel('epoch')\n",
    "plt.legend(['train_acc', 'val_acc'], loc='upper left')\n",
    "plt.axis([0, EPOCHS-1, 0.0, 105])\n",
    "plt.show()"
   ]
  },
  {
   "cell_type": "code",
   "execution_count": 18,
   "id": "employed-radical",
   "metadata": {},
   "outputs": [
    {
     "name": "stdout",
     "output_type": "stream",
     "text": [
      "Validation Accuracy |  61.111111111111114  PPV |  [0.83333333 0.16666667]  Recall |  [0.66666667 0.33333333]\n"
     ]
    },
    {
     "data": {
      "image/png": "[encoded data removed]",
      "text/plain": [
       "<Figure size 432x288 with 2 Axes>"
      ]
     },
     "metadata": {
      "needs_background": "light"
     },
     "output_type": "display_data"
    }
   ],
   "source": [
    "final_prediction = []\n",
    "final_prediction_true = []\n",
    "\n",
    "y_pred_list = []\n",
    "test_loader = DataLoader(dataset=test_data, batch_size=1)\n",
    "model.eval() #Model evaluation\n",
    "with torch.no_grad():\n",
    "    for X_batch in test_loader:\n",
    "        X_batch = X_batch.to(device)\n",
    "        y_test_pred = model(X_batch)\n",
    "        y_test_pred = torch.sigmoid(y_test_pred)\n",
    "        y_pred_tag = torch.round(y_test_pred)\n",
    "        y_pred_list.append(y_pred_tag.cpu().numpy())\n",
    "        final_prediction.append(y_pred_tag.cpu().numpy())\n",
    "\n",
    "y_pred_list = [a.squeeze().tolist() for a in y_pred_list]\n",
    "accuracy = accuracy_score(testing_fold_Y_0, y_pred_list)\n",
    "ppv = precision_score(testing_fold_Y_0, y_pred_list, average=None)\n",
    "recall = recall_score(testing_fold_Y_0, y_pred_list, average=None)\n",
    "print(\"Validation Accuracy | \",accuracy*100,\" PPV | \",ppv,\" Recall | \",recall)\n",
    "cf_matrix = confusion_matrix(testing_fold_Y_0, y_pred_list)\n",
    "sn.heatmap(cf_matrix, annot=True)\n",
    "\n",
    "for y in testing_fold_Y_0:\n",
    "    final_prediction_true.append(y)"
   ]
  },
  {
   "cell_type": "code",
   "execution_count": 19,
   "id": "textile-combine",
   "metadata": {},
   "outputs": [
    {
     "name": "stdout",
     "output_type": "stream",
     "text": [
      "Validation Accuracy |  64.70588235294117  PPV |  [0.84615385 0.        ]  Recall |  [0.73333333 0.        ]\n"
     ]
    },
    {
     "data": {
      "image/png": "[encoded data removed]",
      "text/plain": [
       "<Figure size 432x288 with 2 Axes>"
      ]
     },
     "metadata": {
      "needs_background": "light"
     },
     "output_type": "display_data"
    }
   ],
   "source": [
    "y_pred_list = []\n",
    "test_loader = DataLoader(dataset=test_data1, batch_size=1)\n",
    "model1.eval() #Model evaluation\n",
    "with torch.no_grad():\n",
    "    for X_batch in test_loader:\n",
    "        X_batch = X_batch.to(device)\n",
    "        y_test_pred = model1(X_batch)\n",
    "        y_test_pred = torch.sigmoid(y_test_pred)\n",
    "        y_pred_tag = torch.round(y_test_pred)\n",
    "        y_pred_list.append(y_pred_tag.cpu().numpy())\n",
    "        final_prediction.append(y_pred_tag.cpu().numpy())\n",
    "\n",
    "y_pred_list = [a.squeeze().tolist() for a in y_pred_list]\n",
    "accuracy = accuracy_score(testing_fold_Y_1, y_pred_list)\n",
    "ppv = precision_score(testing_fold_Y_1, y_pred_list, average=None)\n",
    "recall = recall_score(testing_fold_Y_1, y_pred_list, average=None)\n",
    "print(\"Validation Accuracy | \",accuracy*100,\" PPV | \",ppv,\" Recall | \",recall)\n",
    "cf_matrix = confusion_matrix(testing_fold_Y_1, y_pred_list)\n",
    "sn.heatmap(cf_matrix, annot=True)\n",
    "\n",
    "for y in testing_fold_Y_1:\n",
    "    final_prediction_true.append(y)"
   ]
  },
  {
   "cell_type": "code",
   "execution_count": 20,
   "id": "perceived-diving",
   "metadata": {},
   "outputs": [
    {
     "name": "stdout",
     "output_type": "stream",
     "text": [
      "Validation Accuracy |  58.82352941176471  PPV |  [0.83333333 0.        ]  Recall |  [0.66666667 0.        ]\n"
     ]
    },
    {
     "data": {
      "image/png": "[encoded data removed]",
      "text/plain": [
       "<Figure size 432x288 with 2 Axes>"
      ]
     },
     "metadata": {
      "needs_background": "light"
     },
     "output_type": "display_data"
    }
   ],
   "source": [
    "y_pred_list = []\n",
    "test_loader = DataLoader(dataset=test_data2, batch_size=1)\n",
    "model2.eval() #Model evaluation\n",
    "with torch.no_grad():\n",
    "    for X_batch in test_loader:\n",
    "        X_batch = X_batch.to(device)\n",
    "        y_test_pred = model2(X_batch)\n",
    "        y_test_pred = torch.sigmoid(y_test_pred)\n",
    "        y_pred_tag = torch.round(y_test_pred)\n",
    "        y_pred_list.append(y_pred_tag.cpu().numpy())\n",
    "        final_prediction.append(y_pred_tag.cpu().numpy())\n",
    "\n",
    "y_pred_list = [a.squeeze().tolist() for a in y_pred_list]\n",
    "accuracy = accuracy_score(testing_fold_Y_2, y_pred_list)\n",
    "ppv = precision_score(testing_fold_Y_2, y_pred_list, average=None)\n",
    "recall = recall_score(testing_fold_Y_2, y_pred_list, average=None)\n",
    "print(\"Validation Accuracy | \",accuracy*100,\" PPV | \",ppv,\" Recall | \",recall)\n",
    "cf_matrix = confusion_matrix(testing_fold_Y_2, y_pred_list)\n",
    "sn.heatmap(cf_matrix, annot=True)\n",
    "\n",
    "for y in testing_fold_Y_2:\n",
    "    final_prediction_true.append(y)"
   ]
  },
  {
   "cell_type": "code",
   "execution_count": 21,
   "id": "velvet-authorization",
   "metadata": {},
   "outputs": [
    {
     "name": "stdout",
     "output_type": "stream",
     "text": [
      "Validation Accuracy |  64.70588235294117  PPV |  [0.83333333 0.2       ]  Recall |  [0.71428571 0.33333333]\n"
     ]
    },
    {
     "data": {
      "image/png": "[encoded data removed]",
      "text/plain": [
       "<Figure size 432x288 with 2 Axes>"
      ]
     },
     "metadata": {
      "needs_background": "light"
     },
     "output_type": "display_data"
    }
   ],
   "source": [
    "y_pred_list = []\n",
    "test_loader = DataLoader(dataset=test_data3, batch_size=1)\n",
    "model3.eval() #Model evaluation\n",
    "with torch.no_grad():\n",
    "    for X_batch in test_loader:\n",
    "        X_batch = X_batch.to(device)\n",
    "        y_test_pred = model3(X_batch)\n",
    "        y_test_pred = torch.sigmoid(y_test_pred)\n",
    "        y_pred_tag = torch.round(y_test_pred)\n",
    "        y_pred_list.append(y_pred_tag.cpu().numpy())\n",
    "        final_prediction.append(y_pred_tag.cpu().numpy())\n",
    "\n",
    "y_pred_list = [a.squeeze().tolist() for a in y_pred_list]\n",
    "accuracy = accuracy_score(testing_fold_Y_3, y_pred_list)\n",
    "ppv = precision_score(testing_fold_Y_3, y_pred_list, average=None)\n",
    "recall = recall_score(testing_fold_Y_3, y_pred_list, average=None)\n",
    "print(\"Validation Accuracy | \",accuracy*100,\" PPV | \",ppv,\" Recall | \",recall)\n",
    "cf_matrix = confusion_matrix(testing_fold_Y_3, y_pred_list)\n",
    "sn.heatmap(cf_matrix, annot=True)\n",
    "\n",
    "for y in testing_fold_Y_3:\n",
    "    final_prediction_true.append(y)"
   ]
  },
  {
   "cell_type": "code",
   "execution_count": 22,
   "id": "accurate-bacteria",
   "metadata": {},
   "outputs": [
    {
     "name": "stdout",
     "output_type": "stream",
     "text": [
      "Validation Accuracy |  76.47058823529412  PPV |  [0.91666667 0.4       ]  Recall |  [0.78571429 0.66666667]\n"
     ]
    },
    {
     "data": {
      "image/png": "[encoded data removed]",
      "text/plain": [
       "<Figure size 432x288 with 2 Axes>"
      ]
     },
     "metadata": {
      "needs_background": "light"
     },
     "output_type": "display_data"
    }
   ],
   "source": [
    "y_pred_list = []\n",
    "test_loader = DataLoader(dataset=test_data4, batch_size=1)\n",
    "model4.eval() #Model evaluation\n",
    "with torch.no_grad():\n",
    "    for X_batch in test_loader:\n",
    "        X_batch = X_batch.to(device)\n",
    "        y_test_pred = model4(X_batch)\n",
    "        y_test_pred = torch.sigmoid(y_test_pred)\n",
    "        y_pred_tag = torch.round(y_test_pred)\n",
    "        y_pred_list.append(y_pred_tag.cpu().numpy())\n",
    "        final_prediction.append(y_pred_tag.cpu().numpy())\n",
    "\n",
    "y_pred_list = [a.squeeze().tolist() for a in y_pred_list]\n",
    "accuracy = accuracy_score(testing_fold_Y_4, y_pred_list)\n",
    "ppv = precision_score(testing_fold_Y_4, y_pred_list, average=None)\n",
    "recall = recall_score(testing_fold_Y_4, y_pred_list, average=None)\n",
    "print(\"Validation Accuracy | \",accuracy*100,\" PPV | \",ppv,\" Recall | \",recall)\n",
    "cf_matrix = confusion_matrix(testing_fold_Y_4, y_pred_list)\n",
    "sn.heatmap(cf_matrix, annot=True)\n",
    "\n",
    "for y in testing_fold_Y_4:\n",
    "    final_prediction_true.append(y)"
   ]
  },
  {
   "cell_type": "code",
   "execution_count": 23,
   "id": "breeding-forth",
   "metadata": {},
   "outputs": [
    {
     "name": "stdout",
     "output_type": "stream",
     "text": [
      "Validation Accuracy |  82.35294117647058  PPV |  [0.92307692 0.5       ]  Recall |  [0.85714286 0.66666667]\n"
     ]
    },
    {
     "data": {
      "image/png": "[encoded data removed]",
      "text/plain": [
       "<Figure size 432x288 with 2 Axes>"
      ]
     },
     "metadata": {
      "needs_background": "light"
     },
     "output_type": "display_data"
    }
   ],
   "source": [
    "y_pred_list = []\n",
    "test_loader = DataLoader(dataset=test_data5, batch_size=1)\n",
    "model5.eval() #Model evaluation\n",
    "with torch.no_grad():\n",
    "    for X_batch in test_loader:\n",
    "        X_batch = X_batch.to(device)\n",
    "        y_test_pred = model5(X_batch)\n",
    "        y_test_pred = torch.sigmoid(y_test_pred)\n",
    "        y_pred_tag = torch.round(y_test_pred)\n",
    "        y_pred_list.append(y_pred_tag.cpu().numpy())\n",
    "        final_prediction.append(y_pred_tag.cpu().numpy())\n",
    "\n",
    "y_pred_list = [a.squeeze().tolist() for a in y_pred_list]\n",
    "accuracy = accuracy_score(testing_fold_Y_5, y_pred_list)\n",
    "ppv = precision_score(testing_fold_Y_5, y_pred_list, average=None)\n",
    "recall = recall_score(testing_fold_Y_5, y_pred_list, average=None)\n",
    "print(\"Validation Accuracy | \",accuracy*100,\" PPV | \",ppv,\" Recall | \",recall)\n",
    "cf_matrix = confusion_matrix(testing_fold_Y_5, y_pred_list)\n",
    "sn.heatmap(cf_matrix, annot=True)\n",
    "\n",
    "for y in testing_fold_Y_5:\n",
    "    final_prediction_true.append(y)"
   ]
  },
  {
   "cell_type": "code",
   "execution_count": 24,
   "id": "moral-unknown",
   "metadata": {},
   "outputs": [
    {
     "name": "stdout",
     "output_type": "stream",
     "text": [
      "Validation Accuracy |  64.70588235294117  PPV |  [0.83333333 0.2       ]  Recall |  [0.71428571 0.33333333]\n"
     ]
    },
    {
     "data": {
      "image/png": "[encoded data removed]",
      "text/plain": [
       "<Figure size 432x288 with 2 Axes>"
      ]
     },
     "metadata": {
      "needs_background": "light"
     },
     "output_type": "display_data"
    }
   ],
   "source": [
    "y_pred_list = []\n",
    "test_loader = DataLoader(dataset=test_data6, batch_size=1)\n",
    "model6.eval() #Model evaluation\n",
    "with torch.no_grad():\n",
    "    for X_batch in test_loader:\n",
    "        X_batch = X_batch.to(device)\n",
    "        y_test_pred = model6(X_batch)\n",
    "        y_test_pred = torch.sigmoid(y_test_pred)\n",
    "        y_pred_tag = torch.round(y_test_pred)\n",
    "        y_pred_list.append(y_pred_tag.cpu().numpy())\n",
    "        final_prediction.append(y_pred_tag.cpu().numpy())\n",
    "\n",
    "y_pred_list = [a.squeeze().tolist() for a in y_pred_list]\n",
    "accuracy = accuracy_score(testing_fold_Y_6, y_pred_list)\n",
    "ppv = precision_score(testing_fold_Y_6, y_pred_list, average=None)\n",
    "recall = recall_score(testing_fold_Y_6, y_pred_list, average=None)\n",
    "print(\"Validation Accuracy | \",accuracy*100,\" PPV | \",ppv,\" Recall | \",recall)\n",
    "cf_matrix = confusion_matrix(testing_fold_Y_6, y_pred_list)\n",
    "sn.heatmap(cf_matrix, annot=True)\n",
    "\n",
    "for y in testing_fold_Y_6:\n",
    "    final_prediction_true.append(y)"
   ]
  },
  {
   "cell_type": "code",
   "execution_count": 25,
   "id": "domestic-satin",
   "metadata": {},
   "outputs": [
    {
     "name": "stdout",
     "output_type": "stream",
     "text": [
      "Validation Accuracy |  76.47058823529412  PPV |  [1.         0.42857143]  Recall |  [0.71428571 1.        ]\n"
     ]
    },
    {
     "data": {
      "image/png": "[encoded data removed]",
      "text/plain": [
       "<Figure size 432x288 with 2 Axes>"
      ]
     },
     "metadata": {
      "needs_background": "light"
     },
     "output_type": "display_data"
    }
   ],
   "source": [
    "y_pred_list = []\n",
    "test_loader = DataLoader(dataset=test_data7, batch_size=1)\n",
    "model7.eval() #Model evaluation\n",
    "with torch.no_grad():\n",
    "    for X_batch in test_loader:\n",
    "        X_batch = X_batch.to(device)\n",
    "        y_test_pred = model7(X_batch)\n",
    "        y_test_pred = torch.sigmoid(y_test_pred)\n",
    "        y_pred_tag = torch.round(y_test_pred)\n",
    "        y_pred_list.append(y_pred_tag.cpu().numpy())\n",
    "        final_prediction.append(y_pred_tag.cpu().numpy())\n",
    "\n",
    "y_pred_list = [a.squeeze().tolist() for a in y_pred_list]\n",
    "accuracy = accuracy_score(testing_fold_Y_7, y_pred_list)\n",
    "ppv = precision_score(testing_fold_Y_7, y_pred_list, average=None)\n",
    "recall = recall_score(testing_fold_Y_7, y_pred_list, average=None)\n",
    "print(\"Validation Accuracy | \",accuracy*100,\" PPV | \",ppv,\" Recall | \",recall)\n",
    "cf_matrix = confusion_matrix(testing_fold_Y_7, y_pred_list)\n",
    "sn.heatmap(cf_matrix, annot=True)\n",
    "\n",
    "for y in testing_fold_Y_7:\n",
    "    final_prediction_true.append(y)"
   ]
  },
  {
   "cell_type": "code",
   "execution_count": 26,
   "id": "historical-server",
   "metadata": {},
   "outputs": [
    {
     "data": {
      "text/plain": [
       "[1.0,\n",
       " 0.0,\n",
       " 1.0,\n",
       " 0.0,\n",
       " 1.0,\n",
       " 0.0,\n",
       " 0.0,\n",
       " 1.0,\n",
       " 0.0,\n",
       " 1.0,\n",
       " 0.0,\n",
       " 0.0,\n",
       " 1.0,\n",
       " 0.0,\n",
       " 0.0,\n",
       " 0.0,\n",
       " 0.0,\n",
       " 0.0,\n",
       " 0.0,\n",
       " 0.0,\n",
       " 1.0,\n",
       " 0.0,\n",
       " 0.0,\n",
       " 0.0,\n",
       " 0.0,\n",
       " 0.0,\n",
       " 0.0,\n",
       " 0.0,\n",
       " 0.0,\n",
       " 1.0,\n",
       " 0.0,\n",
       " 0.0,\n",
       " 1.0,\n",
       " 0.0,\n",
       " 1.0,\n",
       " 0.0,\n",
       " 0.0,\n",
       " 0.0,\n",
       " 0.0,\n",
       " 0.0,\n",
       " 0.0,\n",
       " 1.0,\n",
       " 0.0,\n",
       " 1.0,\n",
       " 1.0,\n",
       " 1.0,\n",
       " 0.0,\n",
       " 0.0,\n",
       " 0.0,\n",
       " 0.0,\n",
       " 0.0,\n",
       " 1.0,\n",
       " 0.0,\n",
       " 0.0,\n",
       " 1.0,\n",
       " 0.0,\n",
       " 0.0,\n",
       " 0.0,\n",
       " 0.0,\n",
       " 0.0,\n",
       " 1.0,\n",
       " 0.0,\n",
       " 0.0,\n",
       " 0.0,\n",
       " 1.0,\n",
       " 1.0,\n",
       " 0.0,\n",
       " 1.0,\n",
       " 0.0,\n",
       " 1.0,\n",
       " 1.0,\n",
       " 0.0,\n",
       " 0.0,\n",
       " 0.0,\n",
       " 0.0,\n",
       " 1.0,\n",
       " 1.0,\n",
       " 0.0,\n",
       " 0.0,\n",
       " 0.0,\n",
       " 0.0,\n",
       " 0.0,\n",
       " 1.0,\n",
       " 0.0,\n",
       " 0.0,\n",
       " 0.0,\n",
       " 0.0,\n",
       " 1.0,\n",
       " 1.0,\n",
       " 0.0,\n",
       " 1.0,\n",
       " 0.0,\n",
       " 0.0,\n",
       " 0.0,\n",
       " 0.0,\n",
       " 0.0,\n",
       " 0.0,\n",
       " 0.0,\n",
       " 0.0,\n",
       " 0.0,\n",
       " 0.0,\n",
       " 0.0,\n",
       " 1.0,\n",
       " 0.0,\n",
       " 0.0,\n",
       " 1.0,\n",
       " 0.0,\n",
       " 1.0,\n",
       " 0.0,\n",
       " 0.0,\n",
       " 0.0,\n",
       " 1.0,\n",
       " 0.0,\n",
       " 1.0,\n",
       " 0.0,\n",
       " 0.0,\n",
       " 0.0,\n",
       " 0.0,\n",
       " 0.0,\n",
       " 1.0,\n",
       " 1.0,\n",
       " 1.0,\n",
       " 0.0,\n",
       " 1.0,\n",
       " 1.0,\n",
       " 0.0,\n",
       " 1.0,\n",
       " 0.0,\n",
       " 0.0,\n",
       " 0.0,\n",
       " 0.0,\n",
       " 0.0,\n",
       " 1.0,\n",
       " 1.0,\n",
       " 0.0,\n",
       " 0.0,\n",
       " 0.0]"
      ]
     },
     "execution_count": 26,
     "metadata": {},
     "output_type": "execute_result"
    }
   ],
   "source": [
    "prediction_labels = []\n",
    "true_labels = []\n",
    "\n",
    "for x in range(0,len(final_prediction_true)):\n",
    "    true_labels.append(final_prediction_true[x][0])\n",
    "    prediction_labels.append(final_prediction[x][0][0])\n",
    "\n",
    "prediction_labels"
   ]
  },
  {
   "cell_type": "code",
   "execution_count": 27,
   "id": "seasonal-ottawa",
   "metadata": {},
   "outputs": [
    {
     "name": "stdout",
     "output_type": "stream",
     "text": [
      "[[84 31]\n",
      " [12 10]]\n",
      "Positive Predictive Value tp/(tp+fp):  0.24390243902439024\n",
      "Accuracy Value (tp+tn)/(tp+fp+fn+tn):  0.6861313868613139\n",
      "Recall Value tp/(tp+fn):  0.45454545454545453\n"
     ]
    },
    {
     "data": {
      "image/png": "[encoded data removed]",
      "text/plain": [
       "<Figure size 432x288 with 2 Axes>"
      ]
     },
     "metadata": {
      "needs_background": "light"
     },
     "output_type": "display_data"
    }
   ],
   "source": [
    "cf_matrix = confusion_matrix(true_labels, prediction_labels)\n",
    "print(cf_matrix)\n",
    "sn.heatmap(cf_matrix, annot=True)\n",
    "\n",
    "\n",
    "accuracy = accuracy_score(true_labels, prediction_labels)\n",
    "recall = recall_score(true_labels, prediction_labels, average=None)\n",
    "prec_score = precision_score(true_labels, prediction_labels, average=None)\n",
    "print('Positive Predictive Value tp/(tp+fp): ',prec_score[1]) \n",
    "print('Accuracy Value (tp+tn)/(tp+fp+fn+tn): ',accuracy) \n",
    "print('Recall Value tp/(tp+fn): ',recall[1]) "
   ]
  },
  {
   "cell_type": "code",
   "execution_count": 28,
   "id": "presidential-brighton",
   "metadata": {},
   "outputs": [],
   "source": [
    "#Line up Subjects by case number based on test_index in skf. This is done before smoting.\n",
    "#Allows us to later check t-score to see if the models improve when using imputed data\n",
    "#that we are able to classify the ones that have borderline t-scores (60 - 65 ish)\n",
    "#Can create a histogram of the distribution based on correctly predicted vs incorrectly predicted"
   ]
  },
  {
   "cell_type": "code",
   "execution_count": 29,
   "id": "persistent-husband",
   "metadata": {},
   "outputs": [
    {
     "name": "stdout",
     "output_type": "stream",
     "text": [
      "(142, 298)\n",
      "(142, 1)\n"
     ]
    }
   ],
   "source": [
    "Twin_Validation = pd.ExcelFile(\"Scaled Twin CTSA1y with labels sex GA.xlsx\") #298 Features, CT1y SA1y GA Sex\n",
    "Twin_Labels = pd.ExcelFile(\"Twin Labels.xlsx\") #Labels for twins\n",
    "\n",
    "twin_data = Twin_Validation.parse(Twin_Validation.sheet_names[0])\n",
    "twin_label_data = Twin_Labels.parse(Twin_Labels.sheet_names[0])\n",
    "twin_data_features = twin_data.loc[:, twin_data.columns]\n",
    "twin_data_features = twin_data_features.drop(['ROI','MATCH','INDEX','MATCH2','INDEX2', 'ATP', 'HYP', 'ATP Middle', 'HYP Middle', 'HYP Label'], axis=1)\n",
    "twin_data_features = twin_data_features.dropna()\n",
    "twin_data_features = twin_data_features.drop(['ATP Label'], axis=1)\n",
    "twin_labels = twin_label_data.loc[:, twin_label_data.columns]\n",
    "twin_labels = twin_labels.drop(['ROI','ATP Middle', 'HYP Middle', 'HYP Label'], axis=1)\n",
    "twin_labels = twin_labels.dropna()\n",
    "print(twin_data_features.shape)\n",
    "print(twin_labels.shape)"
   ]
  },
  {
   "cell_type": "code",
   "execution_count": 30,
   "id": "disturbed-demonstration",
   "metadata": {},
   "outputs": [],
   "source": [
    "type(twin_data_features) #Currently dataframe, needs to be numpy array\n",
    "td_features = twin_data_features.to_numpy()\n",
    "td_data = testData(torch.FloatTensor(td_features))\n",
    "\n",
    "t_labels = twin_labels.to_numpy()"
   ]
  },
  {
   "cell_type": "code",
   "execution_count": 31,
   "id": "vanilla-marshall",
   "metadata": {},
   "outputs": [
    {
     "name": "stdout",
     "output_type": "stream",
     "text": [
      "Validation Accuracy |  59.154929577464785  PPV |  [0.95180723 0.08474576]  Recall |  [0.59398496 0.55555556]\n",
      "[[79 54]\n",
      " [ 4  5]]\n"
     ]
    },
    {
     "data": {
      "image/png": "[encoded data removed]",
      "text/plain": [
       "<Figure size 432x288 with 2 Axes>"
      ]
     },
     "metadata": {
      "needs_background": "light"
     },
     "output_type": "display_data"
    }
   ],
   "source": [
    "y_pred_list = []\n",
    "test_loader = DataLoader(dataset=td_data, batch_size=1)\n",
    "model.eval() #Model evaluation\n",
    "with torch.no_grad():\n",
    "    for X_batch in test_loader:\n",
    "        X_batch = X_batch.to(device)\n",
    "        y_test_pred = model(X_batch)\n",
    "        y_test_pred = torch.sigmoid(y_test_pred)\n",
    "        y_pred_tag = torch.round(y_test_pred)\n",
    "        y_pred_list.append(y_pred_tag.cpu().numpy())\n",
    "        final_prediction.append(y_pred_tag.cpu().numpy())\n",
    "\n",
    "y_pred_list = [a.squeeze().tolist() for a in y_pred_list]\n",
    "accuracy = accuracy_score(t_labels, y_pred_list)\n",
    "ppv = precision_score(t_labels, y_pred_list, average=None)\n",
    "recall = recall_score(t_labels, y_pred_list, average=None)\n",
    "print(\"Validation Accuracy | \",accuracy*100,\" PPV | \",ppv,\" Recall | \",recall)\n",
    "cf_matrix = confusion_matrix(t_labels, y_pred_list)\n",
    "sn.heatmap(cf_matrix, annot=True)\n",
    "print(cf_matrix)"
   ]
  },
  {
   "cell_type": "code",
   "execution_count": 32,
   "id": "sporting-embassy",
   "metadata": {},
   "outputs": [
    {
     "name": "stdout",
     "output_type": "stream",
     "text": [
      "Validation Accuracy |  59.154929577464785  PPV |  [0.95180723 0.08474576]  Recall |  [0.59398496 0.55555556]\n",
      "[[79 54]\n",
      " [ 4  5]]\n"
     ]
    },
    {
     "data": {
      "image/png": "[encoded data removed]",
      "text/plain": [
       "<Figure size 432x288 with 2 Axes>"
      ]
     },
     "metadata": {
      "needs_background": "light"
     },
     "output_type": "display_data"
    }
   ],
   "source": [
    "y_pred_list1 = []\n",
    "test_loader = DataLoader(dataset=td_data, batch_size=1)\n",
    "model1.eval() #Model evaluation\n",
    "with torch.no_grad():\n",
    "    for X_batch in test_loader:\n",
    "        X_batch = X_batch.to(device)\n",
    "        y_test_pred = model1(X_batch)\n",
    "        y_test_pred = torch.sigmoid(y_test_pred)\n",
    "        y_pred_tag = torch.round(y_test_pred)\n",
    "        y_pred_list1.append(y_pred_tag.cpu().numpy())\n",
    "        final_prediction.append(y_pred_tag.cpu().numpy())\n",
    "\n",
    "y_pred_list1 = [a.squeeze().tolist() for a in y_pred_list1]\n",
    "accuracy = accuracy_score(t_labels, y_pred_list1)\n",
    "ppv = precision_score(t_labels, y_pred_list1, average=None)\n",
    "recall = recall_score(t_labels, y_pred_list1, average=None)\n",
    "print(\"Validation Accuracy | \",accuracy*100,\" PPV | \",ppv,\" Recall | \",recall)\n",
    "cf_matrix = confusion_matrix(t_labels, y_pred_list1)\n",
    "sn.heatmap(cf_matrix, annot=True)\n",
    "print(cf_matrix)"
   ]
  },
  {
   "cell_type": "code",
   "execution_count": 33,
   "id": "cutting-filter",
   "metadata": {},
   "outputs": [
    {
     "name": "stdout",
     "output_type": "stream",
     "text": [
      "Validation Accuracy |  63.38028169014085  PPV |  [0.94505495 0.07843137]  Recall |  [0.64661654 0.44444444]\n",
      "[[86 47]\n",
      " [ 5  4]]\n"
     ]
    },
    {
     "data": {
      "image/png": "[encoded data removed]",
      "text/plain": [
       "<Figure size 432x288 with 2 Axes>"
      ]
     },
     "metadata": {
      "needs_background": "light"
     },
     "output_type": "display_data"
    }
   ],
   "source": [
    "y_pred_list2 = []\n",
    "test_loader = DataLoader(dataset=td_data, batch_size=1)\n",
    "model2.eval() #Model evaluation\n",
    "with torch.no_grad():\n",
    "    for X_batch in test_loader:\n",
    "        X_batch = X_batch.to(device)\n",
    "        y_test_pred = model2(X_batch)\n",
    "        y_test_pred = torch.sigmoid(y_test_pred)\n",
    "        y_pred_tag = torch.round(y_test_pred)\n",
    "        y_pred_list2.append(y_pred_tag.cpu().numpy())\n",
    "        final_prediction.append(y_pred_tag.cpu().numpy())\n",
    "\n",
    "y_pred_list2 = [a.squeeze().tolist() for a in y_pred_list2]\n",
    "accuracy = accuracy_score(t_labels, y_pred_list2)\n",
    "ppv = precision_score(t_labels, y_pred_list2, average=None)\n",
    "recall = recall_score(t_labels, y_pred_list2, average=None)\n",
    "print(\"Validation Accuracy | \",accuracy*100,\" PPV | \",ppv,\" Recall | \",recall)\n",
    "cf_matrix = confusion_matrix(t_labels, y_pred_list2)\n",
    "sn.heatmap(cf_matrix, annot=True)\n",
    "print(cf_matrix)"
   ]
  },
  {
   "cell_type": "code",
   "execution_count": 34,
   "id": "touched-chaos",
   "metadata": {},
   "outputs": [
    {
     "name": "stdout",
     "output_type": "stream",
     "text": [
      "Validation Accuracy |  69.71830985915493  PPV |  [0.94117647 0.075     ]  Recall |  [0.72180451 0.33333333]\n",
      "[[96 37]\n",
      " [ 6  3]]\n"
     ]
    },
    {
     "data": {
      "image/png": "[encoded data removed]",
      "text/plain": [
       "<Figure size 432x288 with 2 Axes>"
      ]
     },
     "metadata": {
      "needs_background": "light"
     },
     "output_type": "display_data"
    }
   ],
   "source": [
    "y_pred_list3 = []\n",
    "test_loader = DataLoader(dataset=td_data, batch_size=1)\n",
    "model3.eval() #Model evaluation\n",
    "with torch.no_grad():\n",
    "    for X_batch in test_loader:\n",
    "        X_batch = X_batch.to(device)\n",
    "        y_test_pred = model3(X_batch)\n",
    "        y_test_pred = torch.sigmoid(y_test_pred)\n",
    "        y_pred_tag = torch.round(y_test_pred)\n",
    "        y_pred_list3.append(y_pred_tag.cpu().numpy())\n",
    "        final_prediction.append(y_pred_tag.cpu().numpy())\n",
    "\n",
    "y_pred_list3 = [a.squeeze().tolist() for a in y_pred_list3]\n",
    "accuracy = accuracy_score(t_labels, y_pred_list3)\n",
    "ppv = precision_score(t_labels, y_pred_list3, average=None)\n",
    "recall = recall_score(t_labels, y_pred_list3, average=None)\n",
    "print(\"Validation Accuracy | \",accuracy*100,\" PPV | \",ppv,\" Recall | \",recall)\n",
    "cf_matrix = confusion_matrix(t_labels, y_pred_list3)\n",
    "sn.heatmap(cf_matrix, annot=True)\n",
    "print(cf_matrix)"
   ]
  },
  {
   "cell_type": "code",
   "execution_count": 35,
   "id": "enabling-enzyme",
   "metadata": {},
   "outputs": [
    {
     "name": "stdout",
     "output_type": "stream",
     "text": [
      "Validation Accuracy |  68.30985915492957  PPV |  [0.94897959 0.09090909]  Recall |  [0.69924812 0.44444444]\n",
      "[[93 40]\n",
      " [ 5  4]]\n"
     ]
    },
    {
     "data": {
      "image/png": "[encoded data removed]",
      "text/plain": [
       "<Figure size 432x288 with 2 Axes>"
      ]
     },
     "metadata": {
      "needs_background": "light"
     },
     "output_type": "display_data"
    }
   ],
   "source": [
    "y_pred_list4 = []\n",
    "test_loader = DataLoader(dataset=td_data, batch_size=1)\n",
    "model4.eval() #Model evaluation\n",
    "with torch.no_grad():\n",
    "    for X_batch in test_loader:\n",
    "        X_batch = X_batch.to(device)\n",
    "        y_test_pred = model4(X_batch)\n",
    "        y_test_pred = torch.sigmoid(y_test_pred)\n",
    "        y_pred_tag = torch.round(y_test_pred)\n",
    "        y_pred_list4.append(y_pred_tag.cpu().numpy())\n",
    "        final_prediction.append(y_pred_tag.cpu().numpy())\n",
    "\n",
    "y_pred_list4 = [a.squeeze().tolist() for a in y_pred_list4]\n",
    "accuracy = accuracy_score(t_labels, y_pred_list4)\n",
    "ppv = precision_score(t_labels, y_pred_list4, average=None)\n",
    "recall = recall_score(t_labels, y_pred_list4, average=None)\n",
    "print(\"Validation Accuracy | \",accuracy*100,\" PPV | \",ppv,\" Recall | \",recall)\n",
    "cf_matrix = confusion_matrix(t_labels, y_pred_list4)\n",
    "sn.heatmap(cf_matrix, annot=True)\n",
    "print(cf_matrix)"
   ]
  },
  {
   "cell_type": "code",
   "execution_count": 36,
   "id": "auburn-lafayette",
   "metadata": {},
   "outputs": [
    {
     "name": "stdout",
     "output_type": "stream",
     "text": [
      "Validation Accuracy |  61.267605633802816  PPV |  [0.95348837 0.08928571]  Recall |  [0.61654135 0.55555556]\n",
      "[[82 51]\n",
      " [ 4  5]]\n"
     ]
    },
    {
     "data": {
      "image/png": "[encoded data removed]",
      "text/plain": [
       "<Figure size 432x288 with 2 Axes>"
      ]
     },
     "metadata": {
      "needs_background": "light"
     },
     "output_type": "display_data"
    }
   ],
   "source": [
    "y_pred_list5 = []\n",
    "test_loader = DataLoader(dataset=td_data, batch_size=1)\n",
    "model5.eval() #Model evaluation\n",
    "with torch.no_grad():\n",
    "    for X_batch in test_loader:\n",
    "        X_batch = X_batch.to(device)\n",
    "        y_test_pred = model5(X_batch)\n",
    "        y_test_pred = torch.sigmoid(y_test_pred)\n",
    "        y_pred_tag = torch.round(y_test_pred)\n",
    "        y_pred_list5.append(y_pred_tag.cpu().numpy())\n",
    "        final_prediction.append(y_pred_tag.cpu().numpy())\n",
    "\n",
    "y_pred_list5 = [a.squeeze().tolist() for a in y_pred_list5]\n",
    "accuracy = accuracy_score(t_labels, y_pred_list5)\n",
    "ppv = precision_score(t_labels, y_pred_list5, average=None)\n",
    "recall = recall_score(t_labels, y_pred_list5, average=None)\n",
    "print(\"Validation Accuracy | \",accuracy*100,\" PPV | \",ppv,\" Recall | \",recall)\n",
    "cf_matrix = confusion_matrix(t_labels, y_pred_list5)\n",
    "sn.heatmap(cf_matrix, annot=True)\n",
    "print(cf_matrix)"
   ]
  },
  {
   "cell_type": "code",
   "execution_count": 37,
   "id": "dental-champion",
   "metadata": {},
   "outputs": [
    {
     "name": "stdout",
     "output_type": "stream",
     "text": [
      "Validation Accuracy |  57.04225352112676  PPV |  [0.95       0.08064516]  Recall |  [0.57142857 0.55555556]\n",
      "[[76 57]\n",
      " [ 4  5]]\n"
     ]
    },
    {
     "data": {
      "image/png": "[encoded data removed]",
      "text/plain": [
       "<Figure size 432x288 with 2 Axes>"
      ]
     },
     "metadata": {
      "needs_background": "light"
     },
     "output_type": "display_data"
    }
   ],
   "source": [
    "y_pred_list6 = []\n",
    "test_loader = DataLoader(dataset=td_data, batch_size=1)\n",
    "model6.eval() #Model evaluation\n",
    "with torch.no_grad():\n",
    "    for X_batch in test_loader:\n",
    "        X_batch = X_batch.to(device)\n",
    "        y_test_pred = model6(X_batch)\n",
    "        y_test_pred = torch.sigmoid(y_test_pred)\n",
    "        y_pred_tag = torch.round(y_test_pred)\n",
    "        y_pred_list6.append(y_pred_tag.cpu().numpy())\n",
    "        final_prediction.append(y_pred_tag.cpu().numpy())\n",
    "\n",
    "y_pred_list6 = [a.squeeze().tolist() for a in y_pred_list6]\n",
    "accuracy = accuracy_score(t_labels, y_pred_list6)\n",
    "ppv = precision_score(t_labels, y_pred_list6, average=None)\n",
    "recall = recall_score(t_labels, y_pred_list6, average=None)\n",
    "print(\"Validation Accuracy | \",accuracy*100,\" PPV | \",ppv,\" Recall | \",recall)\n",
    "cf_matrix = confusion_matrix(t_labels, y_pred_list6)\n",
    "sn.heatmap(cf_matrix, annot=True)\n",
    "print(cf_matrix)"
   ]
  },
  {
   "cell_type": "code",
   "execution_count": 38,
   "id": "answering-indication",
   "metadata": {},
   "outputs": [
    {
     "name": "stdout",
     "output_type": "stream",
     "text": [
      "Validation Accuracy |  54.22535211267606  PPV |  [0.95945946 0.08823529]  Recall |  [0.53383459 0.66666667]\n",
      "[[71 62]\n",
      " [ 3  6]]\n"
     ]
    },
    {
     "data": {
      "image/png": "[encoded data removed]",
      "text/plain": [
       "<Figure size 432x288 with 2 Axes>"
      ]
     },
     "metadata": {
      "needs_background": "light"
     },
     "output_type": "display_data"
    }
   ],
   "source": [
    "y_pred_list7 = []\n",
    "test_loader = DataLoader(dataset=td_data, batch_size=1)\n",
    "model7.eval() #Model evaluation\n",
    "with torch.no_grad():\n",
    "    for X_batch in test_loader:\n",
    "        X_batch = X_batch.to(device)\n",
    "        y_test_pred = model7(X_batch)\n",
    "        y_test_pred = torch.sigmoid(y_test_pred)\n",
    "        y_pred_tag = torch.round(y_test_pred)\n",
    "        y_pred_list7.append(y_pred_tag.cpu().numpy())\n",
    "        final_prediction.append(y_pred_tag.cpu().numpy())\n",
    "\n",
    "y_pred_list7 = [a.squeeze().tolist() for a in y_pred_list7]\n",
    "accuracy = accuracy_score(t_labels, y_pred_list7)\n",
    "ppv = precision_score(t_labels, y_pred_list7, average=None)\n",
    "recall = recall_score(t_labels, y_pred_list7, average=None)\n",
    "print(\"Validation Accuracy | \",accuracy*100,\" PPV | \",ppv,\" Recall | \",recall)\n",
    "cf_matrix = confusion_matrix(t_labels, y_pred_list7)\n",
    "sn.heatmap(cf_matrix, annot=True)\n",
    "print(cf_matrix)"
   ]
  },
  {
   "cell_type": "code",
   "execution_count": 39,
   "id": "mathematical-scotland",
   "metadata": {},
   "outputs": [
    {
     "name": "stdout",
     "output_type": "stream",
     "text": [
      "[0.0, 0.0, 1.0, 1.0, 0.0, 0.0, 1.0, 0.0, 0.0, 1.0, 0.0, 1.0, 1.0, 1.0, 1.0, 1.0, 1.0, 0.0, 0.0, 0.0, 0.0, 1.0, 0.0, 0.0, 1.0, 1.0, 0.0, 0.0, 0.0, 0.0, 1.0, 1.0, 0.0, 0.0, 1.0, 0.0, 0.0, 0.0, 0.0, 0.0, 0.0, 0.0, 0.0, 1.0, 1.0, 0.0, 0.0, 0.0, 0.0, 0.0, 0.0, 0.0, 1.0, 0.0, 0.0, 0.0, 1.0, 0.0, 1.0, 1.0, 0.0, 0.0, 0.0, 0.0, 0.0, 0.0, 0.0, 1.0, 1.0, 0.0, 0.0, 0.0, 0.0, 0.0, 1.0, 1.0, 0.0, 0.0, 1.0, 0.0, 0.0, 0.0, 0.0, 0.0, 0.0, 1.0, 1.0, 0.0, 1.0, 1.0, 0.0, 1.0, 0.0, 0.0, 0.0, 1.0, 0.0, 1.0, 1.0, 1.0, 0.0, 0.0, 0.0, 0.0, 0.0, 0.0, 1.0, 0.0, 1.0, 0.0, 0.0, 0.0, 1.0, 1.0, 0.0, 0.0, 0.0, 0.0, 0.0, 0.0, 0.0, 1.0, 1.0, 0.0, 1.0, 1.0, 0.0, 1.0, 0.0, 1.0, 0.0, 1.0, 1.0, 1.0, 0.0, 0.0, 1.0, 1.0, 0.0, 0.0, 0.0, 0.0]\n"
     ]
    }
   ],
   "source": [
    "final_twin_pred = []\n",
    "for x in range(0,142):\n",
    "    count = 0\n",
    "    if(y_pred_list[x] == 1.0):\n",
    "        count += 1\n",
    "    if(y_pred_list1[x] == 1.0):\n",
    "        count += 1\n",
    "    if(y_pred_list2[x] == 1.0):\n",
    "        count += 1\n",
    "    if(y_pred_list3[x] == 1.0):\n",
    "        count += 1\n",
    "    if(y_pred_list4[x] == 1.0):\n",
    "        count += 1\n",
    "    if(y_pred_list5[x] == 1.0):\n",
    "        count += 1\n",
    "    if(y_pred_list6[x] == 1.0):\n",
    "        count += 1\n",
    "    if(y_pred_list7[x] == 1.0):\n",
    "        count += 1\n",
    "    if(count > 4):\n",
    "        final_twin_pred.append(1.0)\n",
    "    else:\n",
    "        final_twin_pred.append(0.0)\n",
    "\n",
    "print(final_twin_pred)"
   ]
  },
  {
   "cell_type": "code",
   "execution_count": 40,
   "id": "acting-strand",
   "metadata": {},
   "outputs": [
    {
     "name": "stdout",
     "output_type": "stream",
     "text": [
      "Validation Accuracy |  63.38028169014085  PPV |  [0.94505495 0.07843137]  Recall |  [0.64661654 0.44444444]\n",
      "[[86 47]\n",
      " [ 5  4]]\n"
     ]
    },
    {
     "data": {
      "image/png": "[encoded data removed]",
      "text/plain": [
       "<Figure size 432x288 with 2 Axes>"
      ]
     },
     "metadata": {
      "needs_background": "light"
     },
     "output_type": "display_data"
    }
   ],
   "source": [
    "accuracy = accuracy_score(t_labels, final_twin_pred)\n",
    "ppv = precision_score(t_labels, final_twin_pred, average=None)\n",
    "recall = recall_score(t_labels, final_twin_pred, average=None)\n",
    "print(\"Validation Accuracy | \",accuracy*100,\" PPV | \",ppv,\" Recall | \",recall)\n",
    "cf_matrix = confusion_matrix(t_labels, final_twin_pred)\n",
    "sn.heatmap(cf_matrix, annot=True)\n",
    "print(cf_matrix)"
   ]
  },
  {
   "cell_type": "code",
   "execution_count": null,
   "id": "forward-sharp",
   "metadata": {},
   "outputs": [],
   "source": []
  }
 ],
 "metadata": {
  "kernelspec": {
   "display_name": "Python 3",
   "language": "python",
   "name": "python3"
  },
  "language_info": {
   "codemirror_mode": {
    "name": "ipython",
    "version": 3
   },
   "file_extension": ".py",
   "mimetype": "text/x-python",
   "name": "python",
   "nbconvert_exporter": "python",
   "pygments_lexer": "ipython3",
   "version": "3.7.9"
  }
 },
 "nbformat": 4,
 "nbformat_minor": 5
}
