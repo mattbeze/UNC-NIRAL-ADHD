{
 "cells": [
  {
   "cell_type": "code",
   "execution_count": 1,
   "id": "intensive-executive",
   "metadata": {},
   "outputs": [
    {
     "data": {
      "text/plain": [
       "'import comet_ml\\ncomet_ml.config.save(api_key=\"YarDlAXZLHepLKBFlSPyWbDPt\")\\nfrom comet_ml import Experiment\\nexperiment = Experiment(\\n    api_key=\"YarDlAXZLHepLKBFlSPyWbDPt\",\\n    project_name=\"asd-pytorch-atp-c\",\\n    workspace=\"mattbeze\",\\n    auto_metric_logging=True,\\n    auto_param_logging=True,\\n    auto_histogram_weight_logging=True,\\n    auto_histogram_gradient_logging=True,\\n    auto_histogram_activation_logging=True,\\n)\\nhyper_params = {\\n    \"input_size\": 298,\\n    \"hidden_size1\": 100,\\n    \"hidden_size2\": 15,\\n    \"num_layers\": 4,\\n    \"num_classes\": 2,\\n    \"batch_size\": 35,\\n    \"num_epochs\": 50,\\n    \"learning_rate\": 0.01\\n}\\nexperiment.log_parameters(hyper_params)'"
      ]
     },
     "execution_count": 1,
     "metadata": {},
     "output_type": "execute_result"
    }
   ],
   "source": [
    "#COMET ML API KEY YarDlAXZLHepLKBFlSPyWbDPt\n",
    "'''import comet_ml\n",
    "comet_ml.config.save(api_key=\"YarDlAXZLHepLKBFlSPyWbDPt\")\n",
    "from comet_ml import Experiment\n",
    "experiment = Experiment(\n",
    "    api_key=\"YarDlAXZLHepLKBFlSPyWbDPt\",\n",
    "    project_name=\"asd-pytorch-atp-c\",\n",
    "    workspace=\"mattbeze\",\n",
    "    auto_metric_logging=True,\n",
    "    auto_param_logging=True,\n",
    "    auto_histogram_weight_logging=True,\n",
    "    auto_histogram_gradient_logging=True,\n",
    "    auto_histogram_activation_logging=True,\n",
    ")\n",
    "hyper_params = {\n",
    "    \"input_size\": 298,\n",
    "    \"hidden_size1\": 100,\n",
    "    \"hidden_size2\": 15,\n",
    "    \"num_layers\": 4,\n",
    "    \"num_classes\": 2,\n",
    "    \"batch_size\": 35,\n",
    "    \"num_epochs\": 50,\n",
    "    \"learning_rate\": 0.01\n",
    "}\n",
    "experiment.log_parameters(hyper_params)'''\n"
   ]
  },
  {
   "cell_type": "code",
   "execution_count": 2,
   "id": "foreign-airfare",
   "metadata": {},
   "outputs": [
    {
     "data": {
      "text/plain": [
       "<torch._C.Generator at 0x270e9e79a90>"
      ]
     },
     "execution_count": 2,
     "metadata": {},
     "output_type": "execute_result"
    }
   ],
   "source": [
    "import seaborn as sn\n",
    "from imblearn.over_sampling import SMOTE \n",
    "import matplotlib.pyplot as plt\n",
    "import pandas as pd\n",
    "from sklearn.utils import class_weight\n",
    "from sklearn.metrics import accuracy_score, recall_score, confusion_matrix, multilabel_confusion_matrix, precision_score, precision_recall_curve, average_precision_score, classification_report\n",
    "from sklearn.model_selection import KFold, StratifiedKFold, train_test_split, GridSearchCV\n",
    "from sklearn.preprocessing import MinMaxScaler, LabelEncoder\n",
    "from torch.utils.data import Dataset, DataLoader, random_split\n",
    "from torch import Tensor\n",
    "from torch.nn import Linear, ReLU, Sigmoid, Module, BCELoss, BCEWithLogitsLoss\n",
    "from torch.optim import Adam\n",
    "import torch\n",
    "import torch.nn as nn\n",
    "import torch.optim as optim\n",
    "from torch.utils.data import Dataset, DataLoader\n",
    "from pandas import DataFrame\n",
    "import xlsxwriter\n",
    "import time\n",
    "\n",
    "seed_value = 7\n",
    "import os\n",
    "os.environ['PYTHONHASHSEED']=str(seed_value)\n",
    "import random\n",
    "random.seed(seed_value)\n",
    "import numpy as np\n",
    "np.random.seed(seed_value)\n",
    "import torch\n",
    "torch.manual_seed(seed_value)"
   ]
  },
  {
   "cell_type": "code",
   "execution_count": 3,
   "id": "cooked-scroll",
   "metadata": {},
   "outputs": [
    {
     "name": "stdout",
     "output_type": "stream",
     "text": [
      "(325, 298)\n",
      "(325, 1)\n"
     ]
    }
   ],
   "source": [
    "Training_Data = pd.ExcelFile(\"Labels.xlsx\") #Training Data already pre-scaled to the IBIS Data set\n",
    "data = Training_Data.parse(Training_Data.sheet_names[1])\n",
    "label_data = Training_Data.parse(Training_Data.sheet_names[0])\n",
    "data_features = data.loc[:, data.columns]\n",
    "data_features = data_features.drop(['Case','Visit','MATCH','INDEX','ASD+','ASD-','Gender'], axis=1)\n",
    "data_features = data_features.dropna()\n",
    "data_features = data_features.drop(['Final Label'], axis=1)\n",
    "labels = label_data.loc[:, label_data.columns]\n",
    "labels = labels.drop(['CASE','MATCH','INDEX','ASD+','ASD-'], axis=1)\n",
    "labels = labels.dropna()\n",
    "print(data_features.shape)\n",
    "print(labels.shape)"
   ]
  },
  {
   "cell_type": "code",
   "execution_count": 15,
   "id": "engaged-memorabilia",
   "metadata": {},
   "outputs": [
    {
     "name": "stdout",
     "output_type": "stream",
     "text": [
      "(458, 298)\n",
      "(458, 1)\n",
      "(49, 298)\n"
     ]
    }
   ],
   "source": [
    "scaler = MinMaxScaler()\n",
    "scaled_data = scaler.fit_transform(data_features)\n",
    "\n",
    "scaled_data.shape\n",
    "labels.shape\n",
    "\n",
    "X_train, X_test, Y_train, Y_test = train_test_split(scaled_data, labels, test_size=0.15, random_state=seed_value)\n",
    "sm = SMOTE(sampling_strategy = 'minority', random_state = seed_value, k_neighbors=2)\n",
    "\n",
    "#Imblearn has other SMOTE variants to look into.\n",
    "#ADASYN - creates synthetic data according to the data density. \n",
    "#The synthetic data generation would inversely proportional to the density of the minority class. It means more synthetic data are created in regions of the feature space where the density of minority examples is low, and fewer or none where the density is high.\n",
    "#In simpler terms, in an area where the minority class is less dense, the synthetic data are created more. Otherwise, the synthetic data is not made so much.\n",
    "\n",
    "#SMOTENC - Denote which features are categorical, and SMOTE would resample the categorical data instead of creating synthetic data.\n",
    "\n",
    "#Borderline SMOTE\n",
    "#K SMOTE\n",
    "\n",
    "#Should increase testing size. Play with testing/training split.\n",
    "X_train_smoted, Y_train_smoted = sm.fit_sample(X_train, Y_train) #Only smote the training set.\n",
    "\n",
    "print(X_train_smoted.shape)\n",
    "print(Y_train_smoted.shape)\n",
    "print(X_test.shape)"
   ]
  },
  {
   "cell_type": "code",
   "execution_count": 5,
   "id": "loved-salon",
   "metadata": {},
   "outputs": [
    {
     "name": "stdout",
     "output_type": "stream",
     "text": [
      "[[0.52610964 0.70395215 0.38777783 ... 0.19386611 0.         0.        ]\n",
      " [0.37680906 0.44108282 0.77139394 ... 0.44120389 0.         0.        ]\n",
      " [0.71001659 0.53088888 0.30091661 ... 0.71324594 0.         0.        ]\n",
      " ...\n",
      " [0.38937744 0.29421879 0.5310938  ... 0.29383896 0.         1.        ]\n",
      " [0.27334463 0.30152876 0.57408495 ... 0.74034624 0.         1.        ]\n",
      " [0.54437589 0.54772952 0.72170328 ... 0.59804627 0.         1.        ]]\n"
     ]
    }
   ],
   "source": [
    "print(X_train_smoted)"
   ]
  },
  {
   "cell_type": "code",
   "execution_count": 6,
   "id": "consolidated-business",
   "metadata": {},
   "outputs": [],
   "source": [
    "#Some hyperparameters\n",
    "#D_in is input dimension; H is hidden dimension; D_out is output dimension. \n",
    "#Need to figure out how to get dropout\n",
    "D_in, H1, H2, D_out = 298, 100, 15, 1\n",
    "EPOCHS = 150\n",
    "BATCH_SIZE = 35\n",
    "LEARNING_RATE = 0.01\n",
    "\n",
    "## train data\n",
    "class trainData(Dataset):\n",
    "    \n",
    "    def __init__(self, X_data, y_data): #used to perform initializing operations such as reading data and preprocessing.\n",
    "        self.X_data = X_data\n",
    "        self.y_data = y_data\n",
    "        \n",
    "    def __getitem__(self, index): #returns data (input and output) in batches.\n",
    "        return self.X_data[index], self.y_data[index]\n",
    "        \n",
    "    def __len__ (self): #returns the size of the input data.\n",
    "        return len(self.X_data)\n",
    "\n",
    "#A dataloader is then used on this dataset class to read the data in batches.\n",
    "train_data = trainData(torch.FloatTensor(X_train_smoted), \n",
    "                       torch.FloatTensor(Y_train_smoted.values))\n",
    "## test data    \n",
    "class testData(Dataset):\n",
    "    \n",
    "    def __init__(self, X_data): ##used to perform initializing operations such as reading data and preprocessing.\n",
    "        self.X_data = X_data\n",
    "        \n",
    "    def __getitem__(self, index): #returns data (input and output) in batches.\n",
    "        return self.X_data[index]\n",
    "        \n",
    "    def __len__ (self): #returns the size of the input data.\n",
    "        return len(self.X_data)\n",
    "    \n",
    "#A dataloader is then used on this dataset class to read the data in batches.\n",
    "test_data = testData(torch.FloatTensor(X_test))\n",
    "\n",
    "#Initialize DataLoaders\n",
    "train_loader = DataLoader(dataset=train_data, batch_size=BATCH_SIZE, shuffle=True)\n",
    "test_loader = DataLoader(dataset=test_data, batch_size=65) #Batch size of the validation set. Need 1 at a time for how it was setup in the tutorial."
   ]
  },
  {
   "cell_type": "code",
   "execution_count": 7,
   "id": "addressed-python",
   "metadata": {},
   "outputs": [
    {
     "name": "stdout",
     "output_type": "stream",
     "text": [
      "cpu\n"
     ]
    }
   ],
   "source": [
    "class binaryClassification(nn.Module):\n",
    "    def __init__(self):\n",
    "        super(binaryClassification, self).__init__()\n",
    "        # Number of input features is 298.\n",
    "        self.layer_1 = nn.Linear(D_in, H1) #298 -> 100\n",
    "        self.layer_2 = nn.Linear(H1, H2) #100 -> 15\n",
    "        self.layer_out = nn.Linear(H2, D_out) #15 -> 1\n",
    "        \n",
    "        self.relu = nn.ReLU()\n",
    "        self.dropout = nn.Dropout(p=0.15)\n",
    "        #self.batchnorm1 = nn.BatchNorm1d(100)\n",
    "        #self.batchnorm2 = nn.BatchNorm1d(15)\n",
    "        \n",
    "    def forward(self, inputs):\n",
    "        x = self.relu(self.layer_1(inputs)) #ReLU on the 298?\n",
    "        #x = self.batchnorm1(x) #Normalize the 100\n",
    "        x = self.dropout(x) #Dropout 15%\n",
    "        x = self.relu(self.layer_2(x)) #ReLU on the 100?\n",
    "        #x = self.batchnorm2(x) #Normalize the 15\n",
    "        x = self.layer_out(x) #1\n",
    "        \n",
    "        return x\n",
    "device = torch.device(\"cuda:0\" if torch.cuda.is_available() else \"cpu\")\n",
    "print(device)\n",
    "#Should use the CPU since I don't have a GPU."
   ]
  },
  {
   "cell_type": "code",
   "execution_count": 8,
   "id": "utility-fairy",
   "metadata": {},
   "outputs": [
    {
     "name": "stdout",
     "output_type": "stream",
     "text": [
      "binaryClassification(\n",
      "  (layer_1): Linear(in_features=298, out_features=100, bias=True)\n",
      "  (layer_2): Linear(in_features=100, out_features=15, bias=True)\n",
      "  (layer_out): Linear(in_features=15, out_features=1, bias=True)\n",
      "  (relu): ReLU()\n",
      "  (dropout): Dropout(p=0.15, inplace=False)\n",
      ")\n"
     ]
    }
   ],
   "source": [
    "#Model initialization and information on layers. The model's actual architecture can be viewed in the forward function above.\n",
    "model = binaryClassification()\n",
    "model.to(device)\n",
    "print(model)\n",
    "weights = torch.FloatTensor([5]) #Class weights?\n",
    "criterion = nn.BCEWithLogitsLoss(pos_weight=weights)\n",
    "optimizer = optim.Adam(model.parameters(), lr=LEARNING_RATE)"
   ]
  },
  {
   "cell_type": "code",
   "execution_count": 9,
   "id": "ignored-treatment",
   "metadata": {},
   "outputs": [],
   "source": [
    "#Function to define accuracy. Should look to see if there is a prebuilt that I can use from sci-kit learn or something.\n",
    "def binary_acc(y_pred, y_test):\n",
    "    y_pred_tag = torch.round(torch.sigmoid(y_pred))\n",
    "\n",
    "    correct_results_sum = (y_pred_tag == y_test).sum().float()\n",
    "    acc = correct_results_sum/y_test.shape[0]\n",
    "    acc = torch.round(acc * 100)\n",
    "    \n",
    "    return acc"
   ]
  },
  {
   "cell_type": "code",
   "execution_count": 10,
   "id": "nervous-highland",
   "metadata": {},
   "outputs": [
    {
     "name": "stdout",
     "output_type": "stream",
     "text": [
      "Training Epoch 001: | Loss: 1.47160 | Acc: 49.846\n",
      "Validation Accuracy |  10.76923076923077  PPV |  [0.         0.10769231]  Recall |  [0. 1.]\n",
      "Training Epoch 002: | Loss: 1.33654 | Acc: 50.769\n",
      "Validation Accuracy |  10.76923076923077  PPV |  [0.         0.10769231]  Recall |  [0. 1.]\n",
      "Training Epoch 003: | Loss: 1.31022 | Acc: 49.923\n",
      "Validation Accuracy |  10.76923076923077  PPV |  [0.         0.10769231]  Recall |  [0. 1.]\n",
      "Training Epoch 004: | Loss: 1.30273 | Acc: 49.308\n"
     ]
    },
    {
     "name": "stderr",
     "output_type": "stream",
     "text": [
      "C:\\Users\\mattbeze\\Anaconda3\\envs\\pytorch\\lib\\site-packages\\sklearn\\metrics\\_classification.py:1245: UndefinedMetricWarning: Precision is ill-defined and being set to 0.0 in labels with no predicted samples. Use `zero_division` parameter to control this behavior.\n",
      "  _warn_prf(average, modifier, msg_start, len(result))\n",
      "C:\\Users\\mattbeze\\Anaconda3\\envs\\pytorch\\lib\\site-packages\\sklearn\\metrics\\_classification.py:1245: UndefinedMetricWarning: Precision is ill-defined and being set to 0.0 in labels with no predicted samples. Use `zero_division` parameter to control this behavior.\n",
      "  _warn_prf(average, modifier, msg_start, len(result))\n",
      "C:\\Users\\mattbeze\\Anaconda3\\envs\\pytorch\\lib\\site-packages\\sklearn\\metrics\\_classification.py:1245: UndefinedMetricWarning: Precision is ill-defined and being set to 0.0 in labels with no predicted samples. Use `zero_division` parameter to control this behavior.\n",
      "  _warn_prf(average, modifier, msg_start, len(result))\n",
      "C:\\Users\\mattbeze\\Anaconda3\\envs\\pytorch\\lib\\site-packages\\sklearn\\metrics\\_classification.py:1245: UndefinedMetricWarning: Precision is ill-defined and being set to 0.0 in labels with no predicted samples. Use `zero_division` parameter to control this behavior.\n",
      "  _warn_prf(average, modifier, msg_start, len(result))\n"
     ]
    },
    {
     "name": "stdout",
     "output_type": "stream",
     "text": [
      "Validation Accuracy |  10.76923076923077  PPV |  [0.         0.10769231]  Recall |  [0. 1.]\n",
      "Training Epoch 005: | Loss: 1.25754 | Acc: 50.077\n",
      "Validation Accuracy |  10.76923076923077  PPV |  [0.         0.10769231]  Recall |  [0. 1.]\n",
      "Training Epoch 006: | Loss: 1.14331 | Acc: 50.000\n",
      "Validation Accuracy |  10.76923076923077  PPV |  [0.         0.10769231]  Recall |  [0. 1.]\n",
      "Training Epoch 007: | Loss: 1.06714 | Acc: 50.923\n"
     ]
    },
    {
     "name": "stderr",
     "output_type": "stream",
     "text": [
      "C:\\Users\\mattbeze\\Anaconda3\\envs\\pytorch\\lib\\site-packages\\sklearn\\metrics\\_classification.py:1245: UndefinedMetricWarning: Precision is ill-defined and being set to 0.0 in labels with no predicted samples. Use `zero_division` parameter to control this behavior.\n",
      "  _warn_prf(average, modifier, msg_start, len(result))\n",
      "C:\\Users\\mattbeze\\Anaconda3\\envs\\pytorch\\lib\\site-packages\\sklearn\\metrics\\_classification.py:1245: UndefinedMetricWarning: Precision is ill-defined and being set to 0.0 in labels with no predicted samples. Use `zero_division` parameter to control this behavior.\n",
      "  _warn_prf(average, modifier, msg_start, len(result))\n"
     ]
    },
    {
     "name": "stdout",
     "output_type": "stream",
     "text": [
      "Validation Accuracy |  73.84615384615385  PPV |  [0.95555556 0.25      ]  Recall |  [0.74137931 0.71428571]\n",
      "Training Epoch 008: | Loss: 1.16036 | Acc: 57.615\n",
      "Validation Accuracy |  24.615384615384617  PPV |  [1.    0.125]  Recall |  [0.15517241 1.        ]\n",
      "Training Epoch 009: | Loss: 0.88793 | Acc: 64.385\n",
      "Validation Accuracy |  81.53846153846153  PPV |  [0.89655172 0.14285714]  Recall |  [0.89655172 0.14285714]\n",
      "Training Epoch 010: | Loss: 0.99404 | Acc: 68.231\n",
      "Validation Accuracy |  15.384615384615385  PPV |  [1.         0.11290323]  Recall |  [0.05172414 1.        ]\n",
      "Training Epoch 011: | Loss: 0.83391 | Acc: 70.846\n",
      "Validation Accuracy |  46.15384615384615  PPV |  [0.96 0.15]  Recall |  [0.4137931  0.85714286]\n",
      "Training Epoch 012: | Loss: 0.72352 | Acc: 75.231\n",
      "Validation Accuracy |  30.76923076923077  PPV |  [1.         0.13461538]  Recall |  [0.22413793 1.        ]\n",
      "Training Epoch 013: | Loss: 0.74241 | Acc: 74.462\n",
      "Validation Accuracy |  75.38461538461539  PPV |  [0.9375     0.23529412]  Recall |  [0.77586207 0.57142857]\n",
      "Training Epoch 014: | Loss: 0.73463 | Acc: 76.154\n",
      "Validation Accuracy |  75.38461538461539  PPV |  [0.9375     0.23529412]  Recall |  [0.77586207 0.57142857]\n",
      "Training Epoch 015: | Loss: 1.18904 | Acc: 58.538\n",
      "Validation Accuracy |  29.230769230769234  PPV |  [1.         0.13207547]  Recall |  [0.20689655 1.        ]\n",
      "Training Epoch 016: | Loss: 1.05694 | Acc: 54.000\n",
      "Validation Accuracy |  12.307692307692308  PPV |  [1.       0.109375]  Recall |  [0.01724138 1.        ]\n",
      "Training Epoch 017: | Loss: 0.88335 | Acc: 57.538\n",
      "Validation Accuracy |  35.38461538461539  PPV |  [1.         0.14285714]  Recall |  [0.27586207 1.        ]\n",
      "Training Epoch 018: | Loss: 0.73082 | Acc: 74.308\n",
      "Validation Accuracy |  35.38461538461539  PPV |  [0.94444444 0.12765957]  Recall |  [0.29310345 0.85714286]\n",
      "Training Epoch 019: | Loss: 0.74703 | Acc: 76.462\n",
      "Validation Accuracy |  60.0  PPV |  [0.97058824 0.19354839]  Recall |  [0.56896552 0.85714286]\n",
      "Training Epoch 020: | Loss: 0.63668 | Acc: 75.923\n",
      "Validation Accuracy |  73.84615384615385  PPV |  [0.93617021 0.22222222]  Recall |  [0.75862069 0.57142857]\n",
      "Training Epoch 021: | Loss: 0.48203 | Acc: 87.615\n",
      "Validation Accuracy |  72.3076923076923  PPV |  [0.93478261 0.21052632]  Recall |  [0.74137931 0.57142857]\n",
      "Training Epoch 022: | Loss: 0.45337 | Acc: 87.692\n",
      "Validation Accuracy |  76.92307692307693  PPV |  [0.87719298 0.        ]  Recall |  [0.86206897 0.        ]\n",
      "Training Epoch 023: | Loss: 0.63336 | Acc: 82.000\n",
      "Validation Accuracy |  78.46153846153847  PPV |  [0.89285714 0.11111111]  Recall |  [0.86206897 0.14285714]\n",
      "Training Epoch 024: | Loss: 1.00860 | Acc: 71.769\n",
      "Validation Accuracy |  12.307692307692308  PPV |  [1.       0.109375]  Recall |  [0.01724138 1.        ]\n",
      "Training Epoch 025: | Loss: 0.90420 | Acc: 73.154\n",
      "Validation Accuracy |  33.84615384615385  PPV |  [1.   0.14]  Recall |  [0.25862069 1.        ]\n",
      "Training Epoch 026: | Loss: 0.78199 | Acc: 75.769\n",
      "Validation Accuracy |  67.6923076923077  PPV |  [0.91111111 0.15      ]  Recall |  [0.70689655 0.42857143]\n",
      "Training Epoch 027: | Loss: 0.61301 | Acc: 86.769\n",
      "Validation Accuracy |  69.23076923076923  PPV |  [0.975 0.24 ]  Recall |  [0.67241379 0.85714286]\n",
      "Training Epoch 028: | Loss: 0.57648 | Acc: 84.154\n",
      "Validation Accuracy |  69.23076923076923  PPV |  [0.95238095 0.2173913 ]  Recall |  [0.68965517 0.71428571]\n",
      "Training Epoch 029: | Loss: 0.41858 | Acc: 91.077\n",
      "Validation Accuracy |  72.3076923076923  PPV |  [0.88461538 0.07692308]  Recall |  [0.79310345 0.14285714]\n",
      "Training Epoch 030: | Loss: 0.37477 | Acc: 90.000\n",
      "Validation Accuracy |  75.38461538461539  PPV |  [0.88888889 0.09090909]  Recall |  [0.82758621 0.14285714]\n",
      "Training Epoch 031: | Loss: 0.87268 | Acc: 80.462\n",
      "Validation Accuracy |  46.15384615384615  PPV |  [0.96 0.15]  Recall |  [0.4137931  0.85714286]\n",
      "Training Epoch 032: | Loss: 0.47667 | Acc: 87.231\n",
      "Validation Accuracy |  66.15384615384615  PPV |  [0.90909091 0.14285714]  Recall |  [0.68965517 0.42857143]\n",
      "Training Epoch 033: | Loss: 0.39634 | Acc: 92.308\n",
      "Validation Accuracy |  64.61538461538461  PPV |  [0.88888889 0.1       ]  Recall |  [0.68965517 0.28571429]\n",
      "Training Epoch 034: | Loss: 0.42005 | Acc: 90.923\n",
      "Validation Accuracy |  66.15384615384615  PPV |  [0.90909091 0.14285714]  Recall |  [0.68965517 0.42857143]\n",
      "Training Epoch 035: | Loss: 0.52224 | Acc: 90.385\n",
      "Validation Accuracy |  72.3076923076923  PPV |  [0.88461538 0.07692308]  Recall |  [0.79310345 0.14285714]\n",
      "Training Epoch 036: | Loss: 0.40797 | Acc: 92.000\n",
      "Validation Accuracy |  50.76923076923077  PPV |  [0.96428571 0.16216216]  Recall |  [0.46551724 0.85714286]\n",
      "Training Epoch 037: | Loss: 0.40156 | Acc: 88.462\n",
      "Validation Accuracy |  78.46153846153847  PPV |  [0.87931034 0.        ]  Recall |  [0.87931034 0.        ]\n",
      "Training Epoch 038: | Loss: 0.46642 | Acc: 91.231\n",
      "Validation Accuracy |  72.3076923076923  PPV |  [0.88461538 0.07692308]  Recall |  [0.79310345 0.14285714]\n",
      "Training Epoch 039: | Loss: 0.35856 | Acc: 91.077\n",
      "Validation Accuracy |  69.23076923076923  PPV |  [0.88       0.06666667]  Recall |  [0.75862069 0.14285714]\n",
      "Training Epoch 040: | Loss: 0.35163 | Acc: 92.154\n",
      "Validation Accuracy |  64.61538461538461  PPV |  [0.88888889 0.1       ]  Recall |  [0.68965517 0.28571429]\n",
      "Training Epoch 041: | Loss: 0.30848 | Acc: 93.615\n",
      "Validation Accuracy |  72.3076923076923  PPV |  [0.88461538 0.07692308]  Recall |  [0.79310345 0.14285714]\n",
      "Training Epoch 042: | Loss: 0.34860 | Acc: 92.154\n",
      "Validation Accuracy |  72.3076923076923  PPV |  [0.88461538 0.07692308]  Recall |  [0.79310345 0.14285714]\n",
      "Training Epoch 043: | Loss: 0.53235 | Acc: 90.462\n",
      "Validation Accuracy |  66.15384615384615  PPV |  [0.90909091 0.14285714]  Recall |  [0.68965517 0.42857143]\n",
      "Training Epoch 044: | Loss: 0.51229 | Acc: 89.385\n",
      "Validation Accuracy |  67.6923076923077  PPV |  [0.91111111 0.15      ]  Recall |  [0.70689655 0.42857143]\n",
      "Training Epoch 045: | Loss: 0.43060 | Acc: 93.385\n",
      "Validation Accuracy |  67.6923076923077  PPV |  [0.91111111 0.15      ]  Recall |  [0.70689655 0.42857143]\n",
      "Training Epoch 046: | Loss: 0.44060 | Acc: 91.385\n",
      "Validation Accuracy |  61.53846153846154  PPV |  [0.97142857 0.2       ]  Recall |  [0.5862069  0.85714286]\n",
      "Training Epoch 047: | Loss: 0.49756 | Acc: 89.462\n",
      "Validation Accuracy |  67.6923076923077  PPV |  [0.87755102 0.0625    ]  Recall |  [0.74137931 0.14285714]\n",
      "Training Epoch 048: | Loss: 0.37327 | Acc: 93.462\n",
      "Validation Accuracy |  73.84615384615385  PPV |  [0.87272727 0.        ]  Recall |  [0.82758621 0.        ]\n",
      "Training Epoch 049: | Loss: 0.73138 | Acc: 85.154\n",
      "Validation Accuracy |  50.76923076923077  PPV |  [0.90625    0.12121212]  Recall |  [0.5        0.57142857]\n",
      "Training Epoch 050: | Loss: 0.61638 | Acc: 83.846\n",
      "Validation Accuracy |  52.307692307692314  PPV |  [0.93548387 0.14705882]  Recall |  [0.5        0.71428571]\n",
      "Training Epoch 051: | Loss: 0.56014 | Acc: 87.000\n",
      "Validation Accuracy |  75.38461538461539  PPV |  [0.875 0.   ]  Recall |  [0.84482759 0.        ]\n",
      "Training Epoch 052: | Loss: 0.54088 | Acc: 87.462\n",
      "Validation Accuracy |  75.38461538461539  PPV |  [0.875 0.   ]  Recall |  [0.84482759 0.        ]\n",
      "Training Epoch 053: | Loss: 0.40652 | Acc: 92.538\n",
      "Validation Accuracy |  67.6923076923077  PPV |  [0.87755102 0.0625    ]  Recall |  [0.74137931 0.14285714]\n",
      "Training Epoch 054: | Loss: 0.42519 | Acc: 94.385\n",
      "Validation Accuracy |  66.15384615384615  PPV |  [0.90909091 0.14285714]  Recall |  [0.68965517 0.42857143]\n",
      "Training Epoch 055: | Loss: 0.37007 | Acc: 94.231\n",
      "Validation Accuracy |  38.46153846153847  PPV |  [0.95       0.13333333]  Recall |  [0.32758621 0.85714286]\n",
      "Training Epoch 056: | Loss: 0.59020 | Acc: 87.231\n",
      "Validation Accuracy |  66.15384615384615  PPV |  [0.92857143 0.17391304]  Recall |  [0.67241379 0.57142857]\n",
      "Training Epoch 057: | Loss: 0.38643 | Acc: 92.000\n",
      "Validation Accuracy |  80.0  PPV |  [0.88135593 0.        ]  Recall |  [0.89655172 0.        ]\n",
      "Training Epoch 058: | Loss: 0.40549 | Acc: 92.462\n",
      "Validation Accuracy |  67.6923076923077  PPV |  [0.91111111 0.15      ]  Recall |  [0.70689655 0.42857143]\n",
      "Training Epoch 059: | Loss: 0.37203 | Acc: 93.923\n",
      "Validation Accuracy |  66.15384615384615  PPV |  [0.92857143 0.17391304]  Recall |  [0.67241379 0.57142857]\n",
      "Training Epoch 060: | Loss: 0.25928 | Acc: 94.385\n",
      "Validation Accuracy |  69.23076923076923  PPV |  [0.89583333 0.11764706]  Recall |  [0.74137931 0.28571429]\n",
      "Training Epoch 061: | Loss: 0.27638 | Acc: 96.308\n",
      "Validation Accuracy |  73.84615384615385  PPV |  [0.88679245 0.08333333]  Recall |  [0.81034483 0.14285714]\n"
     ]
    },
    {
     "name": "stdout",
     "output_type": "stream",
     "text": [
      "Training Epoch 062: | Loss: 0.30942 | Acc: 94.385\n",
      "Validation Accuracy |  69.23076923076923  PPV |  [0.91304348 0.15789474]  Recall |  [0.72413793 0.42857143]\n",
      "Training Epoch 063: | Loss: 0.34148 | Acc: 94.385\n",
      "Validation Accuracy |  70.76923076923077  PPV |  [0.91489362 0.16666667]  Recall |  [0.74137931 0.42857143]\n",
      "Training Epoch 064: | Loss: 0.34038 | Acc: 95.385\n",
      "Validation Accuracy |  60.0  PPV |  [0.92105263 0.14814815]  Recall |  [0.60344828 0.57142857]\n",
      "Training Epoch 065: | Loss: 0.38942 | Acc: 92.154\n",
      "Validation Accuracy |  81.53846153846153  PPV |  [0.88333333 0.        ]  Recall |  [0.9137931 0.       ]\n",
      "Training Epoch 066: | Loss: 0.33996 | Acc: 95.769\n",
      "Validation Accuracy |  69.23076923076923  PPV |  [0.91304348 0.15789474]  Recall |  [0.72413793 0.42857143]\n",
      "Training Epoch 067: | Loss: 0.31530 | Acc: 95.538\n",
      "Validation Accuracy |  69.23076923076923  PPV |  [0.91304348 0.15789474]  Recall |  [0.72413793 0.42857143]\n",
      "Training Epoch 068: | Loss: 0.47084 | Acc: 91.231\n",
      "Validation Accuracy |  78.46153846153847  PPV |  [0.87931034 0.        ]  Recall |  [0.87931034 0.        ]\n",
      "Training Epoch 069: | Loss: 0.58576 | Acc: 91.385\n",
      "Validation Accuracy |  78.46153846153847  PPV |  [0.89285714 0.11111111]  Recall |  [0.86206897 0.14285714]\n",
      "Training Epoch 070: | Loss: 0.71787 | Acc: 88.462\n",
      "Validation Accuracy |  55.38461538461539  PPV |  [0.96774194 0.17647059]  Recall |  [0.51724138 0.85714286]\n",
      "Training Epoch 071: | Loss: 0.77568 | Acc: 73.462\n"
     ]
    },
    {
     "name": "stderr",
     "output_type": "stream",
     "text": [
      "C:\\Users\\mattbeze\\Anaconda3\\envs\\pytorch\\lib\\site-packages\\sklearn\\metrics\\_classification.py:1245: UndefinedMetricWarning: Precision is ill-defined and being set to 0.0 in labels with no predicted samples. Use `zero_division` parameter to control this behavior.\n",
      "  _warn_prf(average, modifier, msg_start, len(result))\n",
      "C:\\Users\\mattbeze\\Anaconda3\\envs\\pytorch\\lib\\site-packages\\sklearn\\metrics\\_classification.py:1245: UndefinedMetricWarning: Precision is ill-defined and being set to 0.0 in labels with no predicted samples. Use `zero_division` parameter to control this behavior.\n",
      "  _warn_prf(average, modifier, msg_start, len(result))\n"
     ]
    },
    {
     "name": "stdout",
     "output_type": "stream",
     "text": [
      "Validation Accuracy |  10.76923076923077  PPV |  [0.         0.10769231]  Recall |  [0. 1.]\n",
      "Training Epoch 072: | Loss: 0.68909 | Acc: 48.538\n",
      "Validation Accuracy |  10.76923076923077  PPV |  [0.         0.10769231]  Recall |  [0. 1.]\n",
      "Training Epoch 073: | Loss: 0.59264 | Acc: 84.231\n",
      "Validation Accuracy |  66.15384615384615  PPV |  [0.89130435 0.10526316]  Recall |  [0.70689655 0.28571429]\n",
      "Training Epoch 074: | Loss: 0.66927 | Acc: 90.923\n",
      "Validation Accuracy |  73.84615384615385  PPV |  [0.90196078 0.14285714]  Recall |  [0.79310345 0.28571429]\n",
      "Training Epoch 075: | Loss: 0.64896 | Acc: 90.154\n",
      "Validation Accuracy |  72.3076923076923  PPV |  [0.9        0.13333333]  Recall |  [0.77586207 0.28571429]\n",
      "Training Epoch 076: | Loss: 0.72525 | Acc: 88.000\n",
      "Validation Accuracy |  78.46153846153847  PPV |  [0.87931034 0.        ]  Recall |  [0.87931034 0.        ]\n",
      "Training Epoch 077: | Loss: 0.65714 | Acc: 90.231\n",
      "Validation Accuracy |  67.6923076923077  PPV |  [0.91111111 0.15      ]  Recall |  [0.70689655 0.42857143]\n",
      "Training Epoch 078: | Loss: 0.66404 | Acc: 78.462\n",
      "Validation Accuracy |  66.15384615384615  PPV |  [0.90909091 0.14285714]  Recall |  [0.68965517 0.42857143]\n",
      "Training Epoch 079: | Loss: 0.63217 | Acc: 90.846\n",
      "Validation Accuracy |  81.53846153846153  PPV |  [0.88333333 0.        ]  Recall |  [0.9137931 0.       ]\n",
      "Training Epoch 080: | Loss: 0.55739 | Acc: 92.462\n",
      "Validation Accuracy |  63.07692307692307  PPV |  [0.9047619  0.13043478]  Recall |  [0.65517241 0.42857143]\n",
      "Training Epoch 081: | Loss: 0.66990 | Acc: 90.000\n",
      "Validation Accuracy |  73.84615384615385  PPV |  [0.90196078 0.14285714]  Recall |  [0.79310345 0.28571429]\n",
      "Training Epoch 082: | Loss: 0.62357 | Acc: 91.077\n",
      "Validation Accuracy |  72.3076923076923  PPV |  [0.88461538 0.07692308]  Recall |  [0.79310345 0.14285714]\n",
      "Training Epoch 083: | Loss: 0.69514 | Acc: 89.692\n",
      "Validation Accuracy |  67.6923076923077  PPV |  [0.91111111 0.15      ]  Recall |  [0.70689655 0.42857143]\n",
      "Training Epoch 084: | Loss: 0.61704 | Acc: 64.923\n",
      "Validation Accuracy |  70.76923076923077  PPV |  [0.89795918 0.125     ]  Recall |  [0.75862069 0.28571429]\n",
      "Training Epoch 085: | Loss: 0.59848 | Acc: 91.385\n",
      "Validation Accuracy |  73.84615384615385  PPV |  [0.88679245 0.08333333]  Recall |  [0.81034483 0.14285714]\n",
      "Training Epoch 086: | Loss: 0.58824 | Acc: 92.692\n",
      "Validation Accuracy |  72.3076923076923  PPV |  [0.88461538 0.07692308]  Recall |  [0.79310345 0.14285714]\n",
      "Training Epoch 087: | Loss: 0.56604 | Acc: 93.077\n",
      "Validation Accuracy |  72.3076923076923  PPV |  [0.88461538 0.07692308]  Recall |  [0.79310345 0.14285714]\n",
      "Training Epoch 088: | Loss: 0.57489 | Acc: 92.692\n",
      "Validation Accuracy |  66.15384615384615  PPV |  [0.90909091 0.14285714]  Recall |  [0.68965517 0.42857143]\n",
      "Training Epoch 089: | Loss: 0.73709 | Acc: 88.846\n",
      "Validation Accuracy |  70.76923076923077  PPV |  [0.88235294 0.07142857]  Recall |  [0.77586207 0.14285714]\n",
      "Training Epoch 090: | Loss: 0.62235 | Acc: 76.231\n",
      "Validation Accuracy |  75.38461538461539  PPV |  [0.88888889 0.09090909]  Recall |  [0.82758621 0.14285714]\n",
      "Training Epoch 091: | Loss: 0.69996 | Acc: 89.077\n",
      "Validation Accuracy |  73.84615384615385  PPV |  [0.88679245 0.08333333]  Recall |  [0.81034483 0.14285714]\n",
      "Training Epoch 092: | Loss: 0.67170 | Acc: 90.000\n",
      "Validation Accuracy |  70.76923076923077  PPV |  [0.91489362 0.16666667]  Recall |  [0.74137931 0.42857143]\n",
      "Training Epoch 093: | Loss: 0.63407 | Acc: 60.462\n",
      "Validation Accuracy |  70.76923076923077  PPV |  [0.91489362 0.16666667]  Recall |  [0.74137931 0.42857143]\n",
      "Training Epoch 094: | Loss: 0.49593 | Acc: 93.769\n",
      "Validation Accuracy |  73.84615384615385  PPV |  [0.88679245 0.08333333]  Recall |  [0.81034483 0.14285714]\n",
      "Training Epoch 095: | Loss: 0.64709 | Acc: 90.769\n",
      "Validation Accuracy |  70.76923076923077  PPV |  [0.89795918 0.125     ]  Recall |  [0.75862069 0.28571429]\n",
      "Training Epoch 096: | Loss: 0.66487 | Acc: 90.692\n",
      "Validation Accuracy |  78.46153846153847  PPV |  [0.89285714 0.11111111]  Recall |  [0.86206897 0.14285714]\n",
      "Training Epoch 097: | Loss: 0.68084 | Acc: 64.385\n",
      "Validation Accuracy |  10.76923076923077  PPV |  [0.         0.10769231]  Recall |  [0. 1.]\n",
      "Training Epoch 098: | Loss: 0.64394 | Acc: 77.538\n",
      "Validation Accuracy |  72.3076923076923  PPV |  [0.88461538 0.07692308]  Recall |  [0.79310345 0.14285714]\n",
      "Training Epoch 099: | Loss: 0.53359 | Acc: 94.154\n",
      "Validation Accuracy |  70.76923076923077  PPV |  [0.88235294 0.07142857]  Recall |  [0.77586207 0.14285714]\n",
      "Training Epoch 100: | Loss: 0.63060 | Acc: 92.000\n"
     ]
    },
    {
     "name": "stderr",
     "output_type": "stream",
     "text": [
      "C:\\Users\\mattbeze\\Anaconda3\\envs\\pytorch\\lib\\site-packages\\sklearn\\metrics\\_classification.py:1245: UndefinedMetricWarning: Precision is ill-defined and being set to 0.0 in labels with no predicted samples. Use `zero_division` parameter to control this behavior.\n",
      "  _warn_prf(average, modifier, msg_start, len(result))\n"
     ]
    },
    {
     "name": "stdout",
     "output_type": "stream",
     "text": [
      "Validation Accuracy |  72.3076923076923  PPV |  [0.9        0.13333333]  Recall |  [0.77586207 0.28571429]\n",
      "Training Epoch 101: | Loss: 0.66248 | Acc: 90.615\n",
      "Validation Accuracy |  70.76923076923077  PPV |  [0.88235294 0.07142857]  Recall |  [0.77586207 0.14285714]\n",
      "Training Epoch 102: | Loss: 0.55867 | Acc: 82.692\n",
      "Validation Accuracy |  69.23076923076923  PPV |  [0.88       0.06666667]  Recall |  [0.75862069 0.14285714]\n",
      "Training Epoch 103: | Loss: 0.59583 | Acc: 92.000\n",
      "Validation Accuracy |  64.61538461538461  PPV |  [0.90697674 0.13636364]  Recall |  [0.67241379 0.42857143]\n",
      "Training Epoch 104: | Loss: 0.86814 | Acc: 85.923\n",
      "Validation Accuracy |  60.0  PPV |  [0.92105263 0.14814815]  Recall |  [0.60344828 0.57142857]\n",
      "Training Epoch 105: | Loss: 0.57942 | Acc: 91.154\n",
      "Validation Accuracy |  70.76923076923077  PPV |  [0.91489362 0.16666667]  Recall |  [0.74137931 0.42857143]\n",
      "Training Epoch 106: | Loss: 0.74613 | Acc: 88.769\n",
      "Validation Accuracy |  72.3076923076923  PPV |  [0.88461538 0.07692308]  Recall |  [0.79310345 0.14285714]\n",
      "Training Epoch 107: | Loss: 0.60819 | Acc: 91.385\n",
      "Validation Accuracy |  72.3076923076923  PPV |  [0.88461538 0.07692308]  Recall |  [0.79310345 0.14285714]\n",
      "Training Epoch 108: | Loss: 0.60801 | Acc: 69.846\n",
      "Validation Accuracy |  73.84615384615385  PPV |  [0.88679245 0.08333333]  Recall |  [0.81034483 0.14285714]\n",
      "Training Epoch 109: | Loss: 0.58174 | Acc: 92.615\n",
      "Validation Accuracy |  73.84615384615385  PPV |  [0.88679245 0.08333333]  Recall |  [0.81034483 0.14285714]\n",
      "Training Epoch 110: | Loss: 0.64473 | Acc: 91.000\n",
      "Validation Accuracy |  72.3076923076923  PPV |  [0.88461538 0.07692308]  Recall |  [0.79310345 0.14285714]\n",
      "Training Epoch 111: | Loss: 0.71599 | Acc: 68.846\n",
      "Validation Accuracy |  10.76923076923077  PPV |  [0.         0.10769231]  Recall |  [0. 1.]\n",
      "Training Epoch 112: | Loss: 0.56996 | Acc: 69.462\n",
      "Validation Accuracy |  72.3076923076923  PPV |  [0.88461538 0.07692308]  Recall |  [0.79310345 0.14285714]\n",
      "Training Epoch 113: | Loss: 0.59052 | Acc: 92.385\n"
     ]
    },
    {
     "name": "stderr",
     "output_type": "stream",
     "text": [
      "C:\\Users\\mattbeze\\Anaconda3\\envs\\pytorch\\lib\\site-packages\\sklearn\\metrics\\_classification.py:1245: UndefinedMetricWarning: Precision is ill-defined and being set to 0.0 in labels with no predicted samples. Use `zero_division` parameter to control this behavior.\n",
      "  _warn_prf(average, modifier, msg_start, len(result))\n"
     ]
    },
    {
     "name": "stdout",
     "output_type": "stream",
     "text": [
      "Validation Accuracy |  70.76923076923077  PPV |  [0.88235294 0.07142857]  Recall |  [0.77586207 0.14285714]\n",
      "Training Epoch 114: | Loss: 0.62729 | Acc: 91.692\n",
      "Validation Accuracy |  70.76923076923077  PPV |  [0.88235294 0.07142857]  Recall |  [0.77586207 0.14285714]\n",
      "Training Epoch 115: | Loss: 0.58056 | Acc: 93.000\n",
      "Validation Accuracy |  70.76923076923077  PPV |  [0.88235294 0.07142857]  Recall |  [0.77586207 0.14285714]\n",
      "Training Epoch 116: | Loss: 0.57760 | Acc: 92.846\n",
      "Validation Accuracy |  70.76923076923077  PPV |  [0.88235294 0.07142857]  Recall |  [0.77586207 0.14285714]\n",
      "Training Epoch 117: | Loss: 0.61699 | Acc: 92.231\n",
      "Validation Accuracy |  72.3076923076923  PPV |  [0.88461538 0.07692308]  Recall |  [0.79310345 0.14285714]\n",
      "Training Epoch 118: | Loss: 0.56648 | Acc: 93.385\n",
      "Validation Accuracy |  73.84615384615385  PPV |  [0.88679245 0.08333333]  Recall |  [0.81034483 0.14285714]\n",
      "Training Epoch 119: | Loss: 0.56446 | Acc: 92.462\n",
      "Validation Accuracy |  72.3076923076923  PPV |  [0.88461538 0.07692308]  Recall |  [0.79310345 0.14285714]\n",
      "Training Epoch 120: | Loss: 0.60855 | Acc: 91.538\n",
      "Validation Accuracy |  76.92307692307693  PPV |  [0.87719298 0.        ]  Recall |  [0.86206897 0.        ]\n",
      "Training Epoch 121: | Loss: 0.61691 | Acc: 91.308\n",
      "Validation Accuracy |  47.69230769230769  PPV |  [0.9        0.11428571]  Recall |  [0.46551724 0.57142857]\n",
      "Training Epoch 122: | Loss: 0.64261 | Acc: 90.385\n",
      "Validation Accuracy |  80.0  PPV |  [0.89473684 0.125     ]  Recall |  [0.87931034 0.14285714]\n",
      "Training Epoch 123: | Loss: 0.60358 | Acc: 91.769\n",
      "Validation Accuracy |  76.92307692307693  PPV |  [0.89090909 0.1       ]  Recall |  [0.84482759 0.14285714]\n",
      "Training Epoch 124: | Loss: 0.70525 | Acc: 89.769\n",
      "Validation Accuracy |  73.84615384615385  PPV |  [0.88679245 0.08333333]  Recall |  [0.81034483 0.14285714]\n",
      "Training Epoch 125: | Loss: 0.63194 | Acc: 84.308\n",
      "Validation Accuracy |  70.76923076923077  PPV |  [0.88235294 0.07142857]  Recall |  [0.77586207 0.14285714]\n",
      "Training Epoch 126: | Loss: 0.68590 | Acc: 90.308\n",
      "Validation Accuracy |  81.53846153846153  PPV |  [0.88333333 0.        ]  Recall |  [0.9137931 0.       ]\n",
      "Training Epoch 127: | Loss: 0.73771 | Acc: 87.846\n",
      "Validation Accuracy |  64.61538461538461  PPV |  [0.92682927 0.16666667]  Recall |  [0.65517241 0.57142857]\n",
      "Training Epoch 128: | Loss: 0.55947 | Acc: 93.308\n",
      "Validation Accuracy |  70.76923076923077  PPV |  [0.88235294 0.07142857]  Recall |  [0.77586207 0.14285714]\n",
      "Training Epoch 129: | Loss: 0.65466 | Acc: 91.077\n",
      "Validation Accuracy |  70.76923076923077  PPV |  [0.88235294 0.07142857]  Recall |  [0.77586207 0.14285714]\n",
      "Training Epoch 130: | Loss: 0.64682 | Acc: 90.769\n",
      "Validation Accuracy |  76.92307692307693  PPV |  [0.89090909 0.1       ]  Recall |  [0.84482759 0.14285714]\n",
      "Training Epoch 131: | Loss: 0.66615 | Acc: 90.154\n",
      "Validation Accuracy |  81.53846153846153  PPV |  [0.89655172 0.14285714]  Recall |  [0.89655172 0.14285714]\n",
      "Training Epoch 132: | Loss: 0.56056 | Acc: 92.615\n",
      "Validation Accuracy |  66.15384615384615  PPV |  [0.90909091 0.14285714]  Recall |  [0.68965517 0.42857143]\n",
      "Training Epoch 133: | Loss: 0.68480 | Acc: 89.615\n",
      "Validation Accuracy |  63.07692307692307  PPV |  [0.9047619  0.13043478]  Recall |  [0.65517241 0.42857143]\n",
      "Training Epoch 134: | Loss: 0.56072 | Acc: 92.692\n",
      "Validation Accuracy |  66.15384615384615  PPV |  [0.90909091 0.14285714]  Recall |  [0.68965517 0.42857143]\n",
      "Training Epoch 135: | Loss: 0.61676 | Acc: 91.692\n",
      "Validation Accuracy |  64.61538461538461  PPV |  [0.90697674 0.13636364]  Recall |  [0.67241379 0.42857143]\n",
      "Training Epoch 136: | Loss: 0.62013 | Acc: 91.308\n",
      "Validation Accuracy |  64.61538461538461  PPV |  [0.90697674 0.13636364]  Recall |  [0.67241379 0.42857143]\n",
      "Training Epoch 137: | Loss: 0.51937 | Acc: 94.154\n",
      "Validation Accuracy |  56.92307692307692  PPV |  [0.91666667 0.13793103]  Recall |  [0.56896552 0.57142857]\n",
      "Training Epoch 138: | Loss: 0.66718 | Acc: 90.154\n",
      "Validation Accuracy |  70.76923076923077  PPV |  [0.88235294 0.07142857]  Recall |  [0.77586207 0.14285714]\n",
      "Training Epoch 139: | Loss: 0.54436 | Acc: 94.000\n",
      "Validation Accuracy |  67.6923076923077  PPV |  [0.87755102 0.0625    ]  Recall |  [0.74137931 0.14285714]\n",
      "Training Epoch 140: | Loss: 0.59618 | Acc: 92.385\n",
      "Validation Accuracy |  75.38461538461539  PPV |  [0.88888889 0.09090909]  Recall |  [0.82758621 0.14285714]\n",
      "Training Epoch 141: | Loss: 0.68027 | Acc: 78.615\n",
      "Validation Accuracy |  10.76923076923077  PPV |  [0.         0.10769231]  Recall |  [0. 1.]\n"
     ]
    },
    {
     "name": "stderr",
     "output_type": "stream",
     "text": [
      "C:\\Users\\mattbeze\\Anaconda3\\envs\\pytorch\\lib\\site-packages\\sklearn\\metrics\\_classification.py:1245: UndefinedMetricWarning: Precision is ill-defined and being set to 0.0 in labels with no predicted samples. Use `zero_division` parameter to control this behavior.\n",
      "  _warn_prf(average, modifier, msg_start, len(result))\n"
     ]
    },
    {
     "name": "stdout",
     "output_type": "stream",
     "text": [
      "Training Epoch 142: | Loss: 0.64772 | Acc: 80.000\n",
      "Validation Accuracy |  70.76923076923077  PPV |  [0.88235294 0.07142857]  Recall |  [0.77586207 0.14285714]\n",
      "Training Epoch 143: | Loss: 0.64086 | Acc: 91.385\n",
      "Validation Accuracy |  67.6923076923077  PPV |  [0.87755102 0.0625    ]  Recall |  [0.74137931 0.14285714]\n",
      "Training Epoch 144: | Loss: 0.57475 | Acc: 92.692\n",
      "Validation Accuracy |  72.3076923076923  PPV |  [0.88461538 0.07692308]  Recall |  [0.79310345 0.14285714]\n",
      "Training Epoch 145: | Loss: 0.59009 | Acc: 92.538\n",
      "Validation Accuracy |  70.76923076923077  PPV |  [0.88235294 0.07142857]  Recall |  [0.77586207 0.14285714]\n",
      "Training Epoch 146: | Loss: 0.60496 | Acc: 92.231\n",
      "Validation Accuracy |  72.3076923076923  PPV |  [0.88461538 0.07692308]  Recall |  [0.79310345 0.14285714]\n",
      "Training Epoch 147: | Loss: 0.57949 | Acc: 92.538\n",
      "Validation Accuracy |  72.3076923076923  PPV |  [0.88461538 0.07692308]  Recall |  [0.79310345 0.14285714]\n",
      "Training Epoch 148: | Loss: 0.62749 | Acc: 91.462\n",
      "Validation Accuracy |  73.84615384615385  PPV |  [0.88679245 0.08333333]  Recall |  [0.81034483 0.14285714]\n",
      "Training Epoch 149: | Loss: 0.58746 | Acc: 92.769\n",
      "Validation Accuracy |  70.76923076923077  PPV |  [0.88235294 0.07142857]  Recall |  [0.77586207 0.14285714]\n",
      "Training Epoch 150: | Loss: 0.63351 | Acc: 91.308\n",
      "Validation Accuracy |  70.76923076923077  PPV |  [0.88235294 0.07142857]  Recall |  [0.77586207 0.14285714]\n"
     ]
    }
   ],
   "source": [
    "#model.train() tells PyTorch that you’re in training mode.\n",
    "#Similarly, we’ll call model.eval() when we test our model. We’ll see that below.\n",
    "'''If you’re using layers such as Dropout or BatchNorm which behave differently during training and evaluation, \n",
    "you need to tell PyTorch to act accordingly. While the default mode in PyTorch is the train, \n",
    "so, you don’t explicitly have to write that. But it’s good practice.'''\n",
    "val_acc = []\n",
    "train_acc = []\n",
    "train_loss = []\n",
    "val_loss = []\n",
    "\n",
    "model.train() #Initial training mode\n",
    "for e in range(1, EPOCHS+1):\n",
    "    epoch_loss = 0\n",
    "    epoch_acc = 0\n",
    "    for X_batch, y_batch in train_loader:\n",
    "        X_batch, y_batch = X_batch.to(device), y_batch.to(device)\n",
    "        optimizer.zero_grad()\n",
    "        \n",
    "        y_pred = model(X_batch)\n",
    "        \n",
    "        loss = criterion(y_pred, y_batch)\n",
    "        acc = binary_acc(y_pred, y_batch)\n",
    "        \n",
    "        loss.backward()\n",
    "        optimizer.step()\n",
    "        \n",
    "        epoch_loss += loss.item()\n",
    "        epoch_acc += acc.item()\n",
    "    \n",
    "    train_acc.append(epoch_acc/len(train_loader))\n",
    "    train_loss.append(epoch_loss/len(train_loader))\n",
    "    print(f'Training Epoch {e+0:03}: | Loss: {epoch_loss/len(train_loader):.5f} | Acc: {epoch_acc/len(train_loader):.3f}')\n",
    "    #Validation metrics here\n",
    "    model.eval()\n",
    "    #print(\"Evaluation mode\")\n",
    "    y_pred_list = []\n",
    "    test_loader = DataLoader(dataset=test_data, batch_size=65)\n",
    "    with torch.no_grad():\n",
    "        counter = 0\n",
    "        for X_batch in test_loader:\n",
    "            X_batch = X_batch.to(device)\n",
    "            y_test_pred = model(X_batch)\n",
    "            y_test_pred = torch.sigmoid(y_test_pred)\n",
    "            y_pred_tag = torch.round(y_test_pred)\n",
    "            y_pred_list.append(y_pred_tag.cpu().numpy())\n",
    "            loss = criterion(y_test_pred,torch.FloatTensor(Y_test.values))\n",
    "            val_loss.append(loss)\n",
    "            counter+=1\n",
    "            \n",
    "    y_pred_list = []\n",
    "    test_loader = DataLoader(dataset=test_data, batch_size=1)\n",
    "    with torch.no_grad():\n",
    "        for X_batch in test_loader:\n",
    "            X_batch = X_batch.to(device)\n",
    "            y_test_pred = model(X_batch)\n",
    "            y_test_pred = torch.sigmoid(y_test_pred)\n",
    "            y_pred_tag = torch.round(y_test_pred)\n",
    "            y_pred_list.append(y_pred_tag.cpu().numpy())\n",
    "            \n",
    "    y_pred_list = [a.squeeze().tolist() for a in y_pred_list]\n",
    "    y_loss_df = pd.DataFrame(y_pred_list)\n",
    "    accuracy = accuracy_score(torch.FloatTensor(Y_test.values), y_pred_list)\n",
    "    ppv = precision_score(Y_test, y_pred_list, average=None)\n",
    "    recall = recall_score(Y_test, y_pred_list, average=None)\n",
    "    print(\"Validation Accuracy | \",accuracy*100,\" PPV | \",ppv,\" Recall | \",recall)\n",
    "    val_acc.append(accuracy*100)\n",
    "    model.train()\n",
    "    #print(\"Return to training mode\")\n",
    "    \n",
    "    #Need to get validation loss."
   ]
  },
  {
   "cell_type": "code",
   "execution_count": 11,
   "id": "empirical-college",
   "metadata": {},
   "outputs": [
    {
     "data": {
      "image/png": "[encoded data removed]",
      "text/plain": [
       "<Figure size 432x288 with 1 Axes>"
      ]
     },
     "metadata": {
      "needs_background": "light"
     },
     "output_type": "display_data"
    },
    {
     "data": {
      "image/png": "[encoded data removed]",
      "text/plain": [
       "<Figure size 432x288 with 1 Axes>"
      ]
     },
     "metadata": {
      "needs_background": "light"
     },
     "output_type": "display_data"
    }
   ],
   "source": [
    "#Plotting loss\n",
    "plt.plot(train_loss)\n",
    "plt.plot(val_loss)\n",
    "plt.title('model loss')\n",
    "plt.ylabel('loss')\n",
    "plt.xlabel('epoch')\n",
    "plt.legend(['train', 'validation'], loc='upper left')\n",
    "plt.axis([0, EPOCHS-1, 0.0, 1.5])\n",
    "plt.show()\n",
    "\n",
    "#Plotting Accuracy\n",
    "plt.plot(train_acc)\n",
    "plt.plot(val_acc)\n",
    "plt.title('model accuracy')\n",
    "plt.ylabel('acc')\n",
    "plt.xlabel('epoch')\n",
    "plt.legend(['train_acc', 'val_acc'], loc='upper left')\n",
    "plt.axis([0, EPOCHS-1, 0.0, 105])\n",
    "plt.show()"
   ]
  },
  {
   "cell_type": "code",
   "execution_count": 12,
   "id": "employed-radical",
   "metadata": {},
   "outputs": [
    {
     "name": "stdout",
     "output_type": "stream",
     "text": [
      "Validation Accuracy |  70.76923076923077  PPV |  [0.88235294 0.07142857]  Recall |  [0.77586207 0.14285714]\n"
     ]
    },
    {
     "data": {
      "text/plain": [
       "<AxesSubplot:>"
      ]
     },
     "execution_count": 12,
     "metadata": {},
     "output_type": "execute_result"
    },
    {
     "data": {
      "image/png": "[encoded data removed]",
      "text/plain": [
       "<Figure size 432x288 with 2 Axes>"
      ]
     },
     "metadata": {
      "needs_background": "light"
     },
     "output_type": "display_data"
    }
   ],
   "source": [
    "y_pred_list = []\n",
    "test_loader = DataLoader(dataset=test_data, batch_size=1)\n",
    "model.eval() #Model evaluation\n",
    "with torch.no_grad():\n",
    "    for X_batch in test_loader:\n",
    "        X_batch = X_batch.to(device)\n",
    "        y_test_pred = model(X_batch)\n",
    "        y_test_pred = torch.sigmoid(y_test_pred)\n",
    "        y_pred_tag = torch.round(y_test_pred)\n",
    "        y_pred_list.append(y_pred_tag.cpu().numpy())\n",
    "\n",
    "y_pred_list = [a.squeeze().tolist() for a in y_pred_list]\n",
    "accuracy = accuracy_score(Y_test, y_pred_list)\n",
    "ppv = precision_score(Y_test, y_pred_list, average=None)\n",
    "recall = recall_score(Y_test, y_pred_list, average=None)\n",
    "print(\"Validation Accuracy | \",accuracy*100,\" PPV | \",ppv,\" Recall | \",recall)\n",
    "cf_matrix = confusion_matrix(Y_test, y_pred_list)\n",
    "sn.heatmap(cf_matrix, annot=True)"
   ]
  },
  {
   "cell_type": "code",
   "execution_count": 13,
   "id": "seasonal-ottawa",
   "metadata": {},
   "outputs": [
    {
     "name": "stdout",
     "output_type": "stream",
     "text": [
      "              precision    recall  f1-score   support\n",
      "\n",
      "         0.0       0.88      0.78      0.83        58\n",
      "         1.0       0.07      0.14      0.10         7\n",
      "\n",
      "    accuracy                           0.71        65\n",
      "   macro avg       0.48      0.46      0.46        65\n",
      "weighted avg       0.80      0.71      0.75        65\n",
      "\n"
     ]
    }
   ],
   "source": [
    "print(classification_report(Y_test, y_pred_list))"
   ]
  },
  {
   "cell_type": "code",
   "execution_count": 14,
   "id": "atomic-album",
   "metadata": {},
   "outputs": [
    {
     "data": {
      "text/plain": [
       "'\\n10% Test - 27 03 ppv - 0.25 recall - 0.3333\\n            2 1\\n25% Test - 54 19 ppv - 0.17 recall - 0.4444\\n            5  4\\n'"
      ]
     },
     "execution_count": 14,
     "metadata": {},
     "output_type": "execute_result"
    }
   ],
   "source": [
    "#Save model once everything is all figured out\n",
    "'''\n",
    "10% Test - 27 03 ppv - 0.25 recall - 0.3333\n",
    "            2 1\n",
    "20% Test - 45 13 ppv - 0,07 recall - 0.10\n",
    "            \n",
    "25% Test - 54 19 ppv - 0.17 recall - 0.4444\n",
    "            5  4\n",
    "            \n",
    "'''"
   ]
  },
  {
   "cell_type": "code",
   "execution_count": null,
   "id": "macro-mills",
   "metadata": {},
   "outputs": [],
   "source": []
  }
 ],
 "metadata": {
  "kernelspec": {
   "display_name": "Python 3",
   "language": "python",
   "name": "python3"
  },
  "language_info": {
   "codemirror_mode": {
    "name": "ipython",
    "version": 3
   },
   "file_extension": ".py",
   "mimetype": "text/x-python",
   "name": "python",
   "nbconvert_exporter": "python",
   "pygments_lexer": "ipython3",
   "version": "3.7.9"
  }
 },
 "nbformat": 4,
 "nbformat_minor": 5
}
